{
 "cells": [
  {
   "cell_type": "markdown",
   "metadata": {},
   "source": [
    "## Enunciado\n",
    "\n",
    "<div style=\"text-align: justify\">Consideremos que el 40% de una fábrica proviene del T1 , el 35% del turno T2 y el 25% del T3; y que los porcentajes de los artículos defectuosos son del 1%, 2% y 3%, respectivamente, en cada turno. Al seleccionar un artículo al azar de la producción total:\n",
    "a. ¿Cuál es la probabilidad de que resulte defectuoso?\n",
    "b. Si el artículo resulta defectuoso, ¿Cuál es la probabilidad de que haya sido producido en el turno T2? y ¿en el turno T3?</div>"
   ]
  },
  {
   "cell_type": "code",
   "execution_count": 272,
   "metadata": {},
   "outputs": [],
   "source": [
    "from numpy.random import choice\n",
    "from collections import Counter\n",
    "from icecream import ic\n",
    "import numpy as np\n",
    "import matplotlib.pyplot as plt\n",
    "import plotly.express as px\n",
    "import pandas as pd\n"
   ]
  },
  {
   "cell_type": "markdown",
   "metadata": {},
   "source": [
    "## Simulación 1\n",
    "\n",
    "Experimento que genera artículos fabricados en los diferentes TURNOS"
   ]
  },
  {
   "cell_type": "code",
   "execution_count": 273,
   "metadata": {},
   "outputs": [
    {
     "data": {
      "text/plain": [
       "array(['T1', 'T1', 'T1', ..., 'T2', 'T2', 'T1'], dtype='<U2')"
      ]
     },
     "execution_count": 273,
     "metadata": {},
     "output_type": "execute_result"
    }
   ],
   "source": [
    "# Definiendo lista de turnos y sus probabilidades teóricas \n",
    "turnos = ['T1', 'T2', 'T3']\n",
    "probabilidades = [0.4, 0.35, 0.25]\n",
    "\n",
    "tamano_muestra = 100000\n",
    "\n",
    "muestra_turnos = choice(turnos, tamano_muestra, p=probabilidades)\n",
    "\n",
    "muestra_turnos \n",
    "\n"
   ]
  },
  {
   "cell_type": "code",
   "execution_count": 274,
   "metadata": {},
   "outputs": [
    {
     "data": {
      "application/vnd.plotly.v1+json": {
       "config": {
        "plotlyServerURL": "https://plot.ly"
       },
       "data": [
        {
         "hovertemplate": "Turno=%{y}<br>Probabilidad Teórica=%{x}<extra></extra>",
         "legendgroup": "T1",
         "marker": {
          "color": "blue"
         },
         "name": "T1",
         "orientation": "h",
         "showlegend": true,
         "type": "funnel",
         "x": [
          0.4
         ],
         "xaxis": "x",
         "y": [
          "T1"
         ],
         "yaxis": "y"
        },
        {
         "hovertemplate": "Turno=%{y}<br>Probabilidad Teórica=%{x}<extra></extra>",
         "legendgroup": "T2",
         "marker": {
          "color": "green"
         },
         "name": "T2",
         "orientation": "h",
         "showlegend": true,
         "type": "funnel",
         "x": [
          0.35
         ],
         "xaxis": "x",
         "y": [
          "T2"
         ],
         "yaxis": "y"
        },
        {
         "hovertemplate": "Turno=%{y}<br>Probabilidad Teórica=%{x}<extra></extra>",
         "legendgroup": "T3",
         "marker": {
          "color": "purple"
         },
         "name": "T3",
         "orientation": "h",
         "showlegend": true,
         "type": "funnel",
         "x": [
          0.25
         ],
         "xaxis": "x",
         "y": [
          "T3"
         ],
         "yaxis": "y"
        }
       ],
       "layout": {
        "height": 400,
        "legend": {
         "title": {
          "text": "Turno"
         },
         "tracegroupgap": 0
        },
        "template": {
         "data": {
          "bar": [
           {
            "error_x": {
             "color": "#2a3f5f"
            },
            "error_y": {
             "color": "#2a3f5f"
            },
            "marker": {
             "line": {
              "color": "#E5ECF6",
              "width": 0.5
             },
             "pattern": {
              "fillmode": "overlay",
              "size": 10,
              "solidity": 0.2
             }
            },
            "type": "bar"
           }
          ],
          "barpolar": [
           {
            "marker": {
             "line": {
              "color": "#E5ECF6",
              "width": 0.5
             },
             "pattern": {
              "fillmode": "overlay",
              "size": 10,
              "solidity": 0.2
             }
            },
            "type": "barpolar"
           }
          ],
          "carpet": [
           {
            "aaxis": {
             "endlinecolor": "#2a3f5f",
             "gridcolor": "white",
             "linecolor": "white",
             "minorgridcolor": "white",
             "startlinecolor": "#2a3f5f"
            },
            "baxis": {
             "endlinecolor": "#2a3f5f",
             "gridcolor": "white",
             "linecolor": "white",
             "minorgridcolor": "white",
             "startlinecolor": "#2a3f5f"
            },
            "type": "carpet"
           }
          ],
          "choropleth": [
           {
            "colorbar": {
             "outlinewidth": 0,
             "ticks": ""
            },
            "type": "choropleth"
           }
          ],
          "contour": [
           {
            "colorbar": {
             "outlinewidth": 0,
             "ticks": ""
            },
            "colorscale": [
             [
              0,
              "#0d0887"
             ],
             [
              0.1111111111111111,
              "#46039f"
             ],
             [
              0.2222222222222222,
              "#7201a8"
             ],
             [
              0.3333333333333333,
              "#9c179e"
             ],
             [
              0.4444444444444444,
              "#bd3786"
             ],
             [
              0.5555555555555556,
              "#d8576b"
             ],
             [
              0.6666666666666666,
              "#ed7953"
             ],
             [
              0.7777777777777778,
              "#fb9f3a"
             ],
             [
              0.8888888888888888,
              "#fdca26"
             ],
             [
              1,
              "#f0f921"
             ]
            ],
            "type": "contour"
           }
          ],
          "contourcarpet": [
           {
            "colorbar": {
             "outlinewidth": 0,
             "ticks": ""
            },
            "type": "contourcarpet"
           }
          ],
          "heatmap": [
           {
            "colorbar": {
             "outlinewidth": 0,
             "ticks": ""
            },
            "colorscale": [
             [
              0,
              "#0d0887"
             ],
             [
              0.1111111111111111,
              "#46039f"
             ],
             [
              0.2222222222222222,
              "#7201a8"
             ],
             [
              0.3333333333333333,
              "#9c179e"
             ],
             [
              0.4444444444444444,
              "#bd3786"
             ],
             [
              0.5555555555555556,
              "#d8576b"
             ],
             [
              0.6666666666666666,
              "#ed7953"
             ],
             [
              0.7777777777777778,
              "#fb9f3a"
             ],
             [
              0.8888888888888888,
              "#fdca26"
             ],
             [
              1,
              "#f0f921"
             ]
            ],
            "type": "heatmap"
           }
          ],
          "heatmapgl": [
           {
            "colorbar": {
             "outlinewidth": 0,
             "ticks": ""
            },
            "colorscale": [
             [
              0,
              "#0d0887"
             ],
             [
              0.1111111111111111,
              "#46039f"
             ],
             [
              0.2222222222222222,
              "#7201a8"
             ],
             [
              0.3333333333333333,
              "#9c179e"
             ],
             [
              0.4444444444444444,
              "#bd3786"
             ],
             [
              0.5555555555555556,
              "#d8576b"
             ],
             [
              0.6666666666666666,
              "#ed7953"
             ],
             [
              0.7777777777777778,
              "#fb9f3a"
             ],
             [
              0.8888888888888888,
              "#fdca26"
             ],
             [
              1,
              "#f0f921"
             ]
            ],
            "type": "heatmapgl"
           }
          ],
          "histogram": [
           {
            "marker": {
             "pattern": {
              "fillmode": "overlay",
              "size": 10,
              "solidity": 0.2
             }
            },
            "type": "histogram"
           }
          ],
          "histogram2d": [
           {
            "colorbar": {
             "outlinewidth": 0,
             "ticks": ""
            },
            "colorscale": [
             [
              0,
              "#0d0887"
             ],
             [
              0.1111111111111111,
              "#46039f"
             ],
             [
              0.2222222222222222,
              "#7201a8"
             ],
             [
              0.3333333333333333,
              "#9c179e"
             ],
             [
              0.4444444444444444,
              "#bd3786"
             ],
             [
              0.5555555555555556,
              "#d8576b"
             ],
             [
              0.6666666666666666,
              "#ed7953"
             ],
             [
              0.7777777777777778,
              "#fb9f3a"
             ],
             [
              0.8888888888888888,
              "#fdca26"
             ],
             [
              1,
              "#f0f921"
             ]
            ],
            "type": "histogram2d"
           }
          ],
          "histogram2dcontour": [
           {
            "colorbar": {
             "outlinewidth": 0,
             "ticks": ""
            },
            "colorscale": [
             [
              0,
              "#0d0887"
             ],
             [
              0.1111111111111111,
              "#46039f"
             ],
             [
              0.2222222222222222,
              "#7201a8"
             ],
             [
              0.3333333333333333,
              "#9c179e"
             ],
             [
              0.4444444444444444,
              "#bd3786"
             ],
             [
              0.5555555555555556,
              "#d8576b"
             ],
             [
              0.6666666666666666,
              "#ed7953"
             ],
             [
              0.7777777777777778,
              "#fb9f3a"
             ],
             [
              0.8888888888888888,
              "#fdca26"
             ],
             [
              1,
              "#f0f921"
             ]
            ],
            "type": "histogram2dcontour"
           }
          ],
          "mesh3d": [
           {
            "colorbar": {
             "outlinewidth": 0,
             "ticks": ""
            },
            "type": "mesh3d"
           }
          ],
          "parcoords": [
           {
            "line": {
             "colorbar": {
              "outlinewidth": 0,
              "ticks": ""
             }
            },
            "type": "parcoords"
           }
          ],
          "pie": [
           {
            "automargin": true,
            "type": "pie"
           }
          ],
          "scatter": [
           {
            "fillpattern": {
             "fillmode": "overlay",
             "size": 10,
             "solidity": 0.2
            },
            "type": "scatter"
           }
          ],
          "scatter3d": [
           {
            "line": {
             "colorbar": {
              "outlinewidth": 0,
              "ticks": ""
             }
            },
            "marker": {
             "colorbar": {
              "outlinewidth": 0,
              "ticks": ""
             }
            },
            "type": "scatter3d"
           }
          ],
          "scattercarpet": [
           {
            "marker": {
             "colorbar": {
              "outlinewidth": 0,
              "ticks": ""
             }
            },
            "type": "scattercarpet"
           }
          ],
          "scattergeo": [
           {
            "marker": {
             "colorbar": {
              "outlinewidth": 0,
              "ticks": ""
             }
            },
            "type": "scattergeo"
           }
          ],
          "scattergl": [
           {
            "marker": {
             "colorbar": {
              "outlinewidth": 0,
              "ticks": ""
             }
            },
            "type": "scattergl"
           }
          ],
          "scattermapbox": [
           {
            "marker": {
             "colorbar": {
              "outlinewidth": 0,
              "ticks": ""
             }
            },
            "type": "scattermapbox"
           }
          ],
          "scatterpolar": [
           {
            "marker": {
             "colorbar": {
              "outlinewidth": 0,
              "ticks": ""
             }
            },
            "type": "scatterpolar"
           }
          ],
          "scatterpolargl": [
           {
            "marker": {
             "colorbar": {
              "outlinewidth": 0,
              "ticks": ""
             }
            },
            "type": "scatterpolargl"
           }
          ],
          "scatterternary": [
           {
            "marker": {
             "colorbar": {
              "outlinewidth": 0,
              "ticks": ""
             }
            },
            "type": "scatterternary"
           }
          ],
          "surface": [
           {
            "colorbar": {
             "outlinewidth": 0,
             "ticks": ""
            },
            "colorscale": [
             [
              0,
              "#0d0887"
             ],
             [
              0.1111111111111111,
              "#46039f"
             ],
             [
              0.2222222222222222,
              "#7201a8"
             ],
             [
              0.3333333333333333,
              "#9c179e"
             ],
             [
              0.4444444444444444,
              "#bd3786"
             ],
             [
              0.5555555555555556,
              "#d8576b"
             ],
             [
              0.6666666666666666,
              "#ed7953"
             ],
             [
              0.7777777777777778,
              "#fb9f3a"
             ],
             [
              0.8888888888888888,
              "#fdca26"
             ],
             [
              1,
              "#f0f921"
             ]
            ],
            "type": "surface"
           }
          ],
          "table": [
           {
            "cells": {
             "fill": {
              "color": "#EBF0F8"
             },
             "line": {
              "color": "white"
             }
            },
            "header": {
             "fill": {
              "color": "#C8D4E3"
             },
             "line": {
              "color": "white"
             }
            },
            "type": "table"
           }
          ]
         },
         "layout": {
          "annotationdefaults": {
           "arrowcolor": "#2a3f5f",
           "arrowhead": 0,
           "arrowwidth": 1
          },
          "autotypenumbers": "strict",
          "coloraxis": {
           "colorbar": {
            "outlinewidth": 0,
            "ticks": ""
           }
          },
          "colorscale": {
           "diverging": [
            [
             0,
             "#8e0152"
            ],
            [
             0.1,
             "#c51b7d"
            ],
            [
             0.2,
             "#de77ae"
            ],
            [
             0.3,
             "#f1b6da"
            ],
            [
             0.4,
             "#fde0ef"
            ],
            [
             0.5,
             "#f7f7f7"
            ],
            [
             0.6,
             "#e6f5d0"
            ],
            [
             0.7,
             "#b8e186"
            ],
            [
             0.8,
             "#7fbc41"
            ],
            [
             0.9,
             "#4d9221"
            ],
            [
             1,
             "#276419"
            ]
           ],
           "sequential": [
            [
             0,
             "#0d0887"
            ],
            [
             0.1111111111111111,
             "#46039f"
            ],
            [
             0.2222222222222222,
             "#7201a8"
            ],
            [
             0.3333333333333333,
             "#9c179e"
            ],
            [
             0.4444444444444444,
             "#bd3786"
            ],
            [
             0.5555555555555556,
             "#d8576b"
            ],
            [
             0.6666666666666666,
             "#ed7953"
            ],
            [
             0.7777777777777778,
             "#fb9f3a"
            ],
            [
             0.8888888888888888,
             "#fdca26"
            ],
            [
             1,
             "#f0f921"
            ]
           ],
           "sequentialminus": [
            [
             0,
             "#0d0887"
            ],
            [
             0.1111111111111111,
             "#46039f"
            ],
            [
             0.2222222222222222,
             "#7201a8"
            ],
            [
             0.3333333333333333,
             "#9c179e"
            ],
            [
             0.4444444444444444,
             "#bd3786"
            ],
            [
             0.5555555555555556,
             "#d8576b"
            ],
            [
             0.6666666666666666,
             "#ed7953"
            ],
            [
             0.7777777777777778,
             "#fb9f3a"
            ],
            [
             0.8888888888888888,
             "#fdca26"
            ],
            [
             1,
             "#f0f921"
            ]
           ]
          },
          "colorway": [
           "#636efa",
           "#EF553B",
           "#00cc96",
           "#ab63fa",
           "#FFA15A",
           "#19d3f3",
           "#FF6692",
           "#B6E880",
           "#FF97FF",
           "#FECB52"
          ],
          "font": {
           "color": "#2a3f5f"
          },
          "geo": {
           "bgcolor": "white",
           "lakecolor": "white",
           "landcolor": "#E5ECF6",
           "showlakes": true,
           "showland": true,
           "subunitcolor": "white"
          },
          "hoverlabel": {
           "align": "left"
          },
          "hovermode": "closest",
          "mapbox": {
           "style": "light"
          },
          "paper_bgcolor": "white",
          "plot_bgcolor": "#E5ECF6",
          "polar": {
           "angularaxis": {
            "gridcolor": "white",
            "linecolor": "white",
            "ticks": ""
           },
           "bgcolor": "#E5ECF6",
           "radialaxis": {
            "gridcolor": "white",
            "linecolor": "white",
            "ticks": ""
           }
          },
          "scene": {
           "xaxis": {
            "backgroundcolor": "#E5ECF6",
            "gridcolor": "white",
            "gridwidth": 2,
            "linecolor": "white",
            "showbackground": true,
            "ticks": "",
            "zerolinecolor": "white"
           },
           "yaxis": {
            "backgroundcolor": "#E5ECF6",
            "gridcolor": "white",
            "gridwidth": 2,
            "linecolor": "white",
            "showbackground": true,
            "ticks": "",
            "zerolinecolor": "white"
           },
           "zaxis": {
            "backgroundcolor": "#E5ECF6",
            "gridcolor": "white",
            "gridwidth": 2,
            "linecolor": "white",
            "showbackground": true,
            "ticks": "",
            "zerolinecolor": "white"
           }
          },
          "shapedefaults": {
           "line": {
            "color": "#2a3f5f"
           }
          },
          "ternary": {
           "aaxis": {
            "gridcolor": "white",
            "linecolor": "white",
            "ticks": ""
           },
           "baxis": {
            "gridcolor": "white",
            "linecolor": "white",
            "ticks": ""
           },
           "bgcolor": "#E5ECF6",
           "caxis": {
            "gridcolor": "white",
            "linecolor": "white",
            "ticks": ""
           }
          },
          "title": {
           "x": 0.05
          },
          "xaxis": {
           "automargin": true,
           "gridcolor": "white",
           "linecolor": "white",
           "ticks": "",
           "title": {
            "standoff": 15
           },
           "zerolinecolor": "white",
           "zerolinewidth": 2
          },
          "yaxis": {
           "automargin": true,
           "gridcolor": "white",
           "linecolor": "white",
           "ticks": "",
           "title": {
            "standoff": 15
           },
           "zerolinecolor": "white",
           "zerolinewidth": 2
          }
         }
        },
        "title": {
         "text": "PROBABILIDADES TEÓRICAS POR TURNO"
        },
        "width": 600,
        "xaxis": {
         "anchor": "y",
         "domain": [
          0,
          1
         ],
         "title": {
          "text": "Probabilidad Teórica"
         }
        },
        "yaxis": {
         "anchor": "x",
         "categoryarray": [
          "T3",
          "T2",
          "T1"
         ],
         "categoryorder": "array",
         "domain": [
          0,
          1
         ],
         "title": {
          "text": "Turno"
         }
        }
       }
      }
     },
     "metadata": {},
     "output_type": "display_data"
    }
   ],
   "source": [
    "probabilidades_teoricas = [0.4, 0.35, 0.25]\n",
    "\n",
    "\n",
    "df_probabilidades_teoricas = pd.DataFrame({\n",
    "    'Turno': ['T1', 'T2', 'T3'],\n",
    "    'Probabilidad Teórica': probabilidades_teoricas\n",
    "})\n",
    "\n",
    "\n",
    "fig = px.funnel(df_probabilidades_teoricas, x='Probabilidad Teórica', y='Turno',\n",
    "                title='PROBABILIDADES TEÓRICAS POR TURNO',\n",
    "                labels={'Turno': 'Turno', 'Probabilidad Teórica': 'Probabilidad Teórica'},\n",
    "                height=400, width=600,\n",
    "                color='Turno',  \n",
    "                color_discrete_map={'T1': 'blue', 'T2': 'green', 'T3': 'purple'})  \n",
    "\n",
    "\n",
    "fig.show()"
   ]
  },
  {
   "cell_type": "code",
   "execution_count": 275,
   "metadata": {},
   "outputs": [
    {
     "data": {
      "text/plain": [
       "Counter({'T1': 39891, 'T2': 35007, 'T3': 25102})"
      ]
     },
     "execution_count": 275,
     "metadata": {},
     "output_type": "execute_result"
    }
   ],
   "source": [
    "# Contando los turnos por muestra\n",
    "conteo = Counter(muestra_turnos)\n",
    "conteo"
   ]
  },
  {
   "cell_type": "code",
   "execution_count": 276,
   "metadata": {},
   "outputs": [
    {
     "data": {
      "application/vnd.plotly.v1+json": {
       "config": {
        "plotlyServerURL": "https://plot.ly"
       },
       "data": [
        {
         "alignmentgroup": "True",
         "hovertemplate": "Turno=%{x}<br>Frecuencia=%{marker.color}<extra></extra>",
         "legendgroup": "",
         "marker": {
          "color": [
           39891,
           35007,
           25102
          ],
          "coloraxis": "coloraxis",
          "pattern": {
           "shape": ""
          }
         },
         "name": "",
         "offsetgroup": "",
         "orientation": "v",
         "showlegend": false,
         "textposition": "auto",
         "type": "bar",
         "x": [
          "T1",
          "T2",
          "T3"
         ],
         "xaxis": "x",
         "y": [
          39891,
          35007,
          25102
         ],
         "yaxis": "y"
        }
       ],
       "layout": {
        "barmode": "relative",
        "coloraxis": {
         "colorbar": {
          "title": {
           "text": "Frecuencia"
          }
         },
         "colorscale": [
          [
           0,
           "rgb(247, 254, 174)"
          ],
          [
           0.16666666666666666,
           "rgb(183, 230, 165)"
          ],
          [
           0.3333333333333333,
           "rgb(124, 203, 162)"
          ],
          [
           0.5,
           "rgb(70, 174, 160)"
          ],
          [
           0.6666666666666666,
           "rgb(8, 144, 153)"
          ],
          [
           0.8333333333333334,
           "rgb(0, 113, 139)"
          ],
          [
           1,
           "rgb(4, 82, 117)"
          ]
         ]
        },
        "legend": {
         "tracegroupgap": 0
        },
        "template": {
         "data": {
          "bar": [
           {
            "error_x": {
             "color": "#2a3f5f"
            },
            "error_y": {
             "color": "#2a3f5f"
            },
            "marker": {
             "line": {
              "color": "#E5ECF6",
              "width": 0.5
             },
             "pattern": {
              "fillmode": "overlay",
              "size": 10,
              "solidity": 0.2
             }
            },
            "type": "bar"
           }
          ],
          "barpolar": [
           {
            "marker": {
             "line": {
              "color": "#E5ECF6",
              "width": 0.5
             },
             "pattern": {
              "fillmode": "overlay",
              "size": 10,
              "solidity": 0.2
             }
            },
            "type": "barpolar"
           }
          ],
          "carpet": [
           {
            "aaxis": {
             "endlinecolor": "#2a3f5f",
             "gridcolor": "white",
             "linecolor": "white",
             "minorgridcolor": "white",
             "startlinecolor": "#2a3f5f"
            },
            "baxis": {
             "endlinecolor": "#2a3f5f",
             "gridcolor": "white",
             "linecolor": "white",
             "minorgridcolor": "white",
             "startlinecolor": "#2a3f5f"
            },
            "type": "carpet"
           }
          ],
          "choropleth": [
           {
            "colorbar": {
             "outlinewidth": 0,
             "ticks": ""
            },
            "type": "choropleth"
           }
          ],
          "contour": [
           {
            "colorbar": {
             "outlinewidth": 0,
             "ticks": ""
            },
            "colorscale": [
             [
              0,
              "#0d0887"
             ],
             [
              0.1111111111111111,
              "#46039f"
             ],
             [
              0.2222222222222222,
              "#7201a8"
             ],
             [
              0.3333333333333333,
              "#9c179e"
             ],
             [
              0.4444444444444444,
              "#bd3786"
             ],
             [
              0.5555555555555556,
              "#d8576b"
             ],
             [
              0.6666666666666666,
              "#ed7953"
             ],
             [
              0.7777777777777778,
              "#fb9f3a"
             ],
             [
              0.8888888888888888,
              "#fdca26"
             ],
             [
              1,
              "#f0f921"
             ]
            ],
            "type": "contour"
           }
          ],
          "contourcarpet": [
           {
            "colorbar": {
             "outlinewidth": 0,
             "ticks": ""
            },
            "type": "contourcarpet"
           }
          ],
          "heatmap": [
           {
            "colorbar": {
             "outlinewidth": 0,
             "ticks": ""
            },
            "colorscale": [
             [
              0,
              "#0d0887"
             ],
             [
              0.1111111111111111,
              "#46039f"
             ],
             [
              0.2222222222222222,
              "#7201a8"
             ],
             [
              0.3333333333333333,
              "#9c179e"
             ],
             [
              0.4444444444444444,
              "#bd3786"
             ],
             [
              0.5555555555555556,
              "#d8576b"
             ],
             [
              0.6666666666666666,
              "#ed7953"
             ],
             [
              0.7777777777777778,
              "#fb9f3a"
             ],
             [
              0.8888888888888888,
              "#fdca26"
             ],
             [
              1,
              "#f0f921"
             ]
            ],
            "type": "heatmap"
           }
          ],
          "heatmapgl": [
           {
            "colorbar": {
             "outlinewidth": 0,
             "ticks": ""
            },
            "colorscale": [
             [
              0,
              "#0d0887"
             ],
             [
              0.1111111111111111,
              "#46039f"
             ],
             [
              0.2222222222222222,
              "#7201a8"
             ],
             [
              0.3333333333333333,
              "#9c179e"
             ],
             [
              0.4444444444444444,
              "#bd3786"
             ],
             [
              0.5555555555555556,
              "#d8576b"
             ],
             [
              0.6666666666666666,
              "#ed7953"
             ],
             [
              0.7777777777777778,
              "#fb9f3a"
             ],
             [
              0.8888888888888888,
              "#fdca26"
             ],
             [
              1,
              "#f0f921"
             ]
            ],
            "type": "heatmapgl"
           }
          ],
          "histogram": [
           {
            "marker": {
             "pattern": {
              "fillmode": "overlay",
              "size": 10,
              "solidity": 0.2
             }
            },
            "type": "histogram"
           }
          ],
          "histogram2d": [
           {
            "colorbar": {
             "outlinewidth": 0,
             "ticks": ""
            },
            "colorscale": [
             [
              0,
              "#0d0887"
             ],
             [
              0.1111111111111111,
              "#46039f"
             ],
             [
              0.2222222222222222,
              "#7201a8"
             ],
             [
              0.3333333333333333,
              "#9c179e"
             ],
             [
              0.4444444444444444,
              "#bd3786"
             ],
             [
              0.5555555555555556,
              "#d8576b"
             ],
             [
              0.6666666666666666,
              "#ed7953"
             ],
             [
              0.7777777777777778,
              "#fb9f3a"
             ],
             [
              0.8888888888888888,
              "#fdca26"
             ],
             [
              1,
              "#f0f921"
             ]
            ],
            "type": "histogram2d"
           }
          ],
          "histogram2dcontour": [
           {
            "colorbar": {
             "outlinewidth": 0,
             "ticks": ""
            },
            "colorscale": [
             [
              0,
              "#0d0887"
             ],
             [
              0.1111111111111111,
              "#46039f"
             ],
             [
              0.2222222222222222,
              "#7201a8"
             ],
             [
              0.3333333333333333,
              "#9c179e"
             ],
             [
              0.4444444444444444,
              "#bd3786"
             ],
             [
              0.5555555555555556,
              "#d8576b"
             ],
             [
              0.6666666666666666,
              "#ed7953"
             ],
             [
              0.7777777777777778,
              "#fb9f3a"
             ],
             [
              0.8888888888888888,
              "#fdca26"
             ],
             [
              1,
              "#f0f921"
             ]
            ],
            "type": "histogram2dcontour"
           }
          ],
          "mesh3d": [
           {
            "colorbar": {
             "outlinewidth": 0,
             "ticks": ""
            },
            "type": "mesh3d"
           }
          ],
          "parcoords": [
           {
            "line": {
             "colorbar": {
              "outlinewidth": 0,
              "ticks": ""
             }
            },
            "type": "parcoords"
           }
          ],
          "pie": [
           {
            "automargin": true,
            "type": "pie"
           }
          ],
          "scatter": [
           {
            "fillpattern": {
             "fillmode": "overlay",
             "size": 10,
             "solidity": 0.2
            },
            "type": "scatter"
           }
          ],
          "scatter3d": [
           {
            "line": {
             "colorbar": {
              "outlinewidth": 0,
              "ticks": ""
             }
            },
            "marker": {
             "colorbar": {
              "outlinewidth": 0,
              "ticks": ""
             }
            },
            "type": "scatter3d"
           }
          ],
          "scattercarpet": [
           {
            "marker": {
             "colorbar": {
              "outlinewidth": 0,
              "ticks": ""
             }
            },
            "type": "scattercarpet"
           }
          ],
          "scattergeo": [
           {
            "marker": {
             "colorbar": {
              "outlinewidth": 0,
              "ticks": ""
             }
            },
            "type": "scattergeo"
           }
          ],
          "scattergl": [
           {
            "marker": {
             "colorbar": {
              "outlinewidth": 0,
              "ticks": ""
             }
            },
            "type": "scattergl"
           }
          ],
          "scattermapbox": [
           {
            "marker": {
             "colorbar": {
              "outlinewidth": 0,
              "ticks": ""
             }
            },
            "type": "scattermapbox"
           }
          ],
          "scatterpolar": [
           {
            "marker": {
             "colorbar": {
              "outlinewidth": 0,
              "ticks": ""
             }
            },
            "type": "scatterpolar"
           }
          ],
          "scatterpolargl": [
           {
            "marker": {
             "colorbar": {
              "outlinewidth": 0,
              "ticks": ""
             }
            },
            "type": "scatterpolargl"
           }
          ],
          "scatterternary": [
           {
            "marker": {
             "colorbar": {
              "outlinewidth": 0,
              "ticks": ""
             }
            },
            "type": "scatterternary"
           }
          ],
          "surface": [
           {
            "colorbar": {
             "outlinewidth": 0,
             "ticks": ""
            },
            "colorscale": [
             [
              0,
              "#0d0887"
             ],
             [
              0.1111111111111111,
              "#46039f"
             ],
             [
              0.2222222222222222,
              "#7201a8"
             ],
             [
              0.3333333333333333,
              "#9c179e"
             ],
             [
              0.4444444444444444,
              "#bd3786"
             ],
             [
              0.5555555555555556,
              "#d8576b"
             ],
             [
              0.6666666666666666,
              "#ed7953"
             ],
             [
              0.7777777777777778,
              "#fb9f3a"
             ],
             [
              0.8888888888888888,
              "#fdca26"
             ],
             [
              1,
              "#f0f921"
             ]
            ],
            "type": "surface"
           }
          ],
          "table": [
           {
            "cells": {
             "fill": {
              "color": "#EBF0F8"
             },
             "line": {
              "color": "white"
             }
            },
            "header": {
             "fill": {
              "color": "#C8D4E3"
             },
             "line": {
              "color": "white"
             }
            },
            "type": "table"
           }
          ]
         },
         "layout": {
          "annotationdefaults": {
           "arrowcolor": "#2a3f5f",
           "arrowhead": 0,
           "arrowwidth": 1
          },
          "autotypenumbers": "strict",
          "coloraxis": {
           "colorbar": {
            "outlinewidth": 0,
            "ticks": ""
           }
          },
          "colorscale": {
           "diverging": [
            [
             0,
             "#8e0152"
            ],
            [
             0.1,
             "#c51b7d"
            ],
            [
             0.2,
             "#de77ae"
            ],
            [
             0.3,
             "#f1b6da"
            ],
            [
             0.4,
             "#fde0ef"
            ],
            [
             0.5,
             "#f7f7f7"
            ],
            [
             0.6,
             "#e6f5d0"
            ],
            [
             0.7,
             "#b8e186"
            ],
            [
             0.8,
             "#7fbc41"
            ],
            [
             0.9,
             "#4d9221"
            ],
            [
             1,
             "#276419"
            ]
           ],
           "sequential": [
            [
             0,
             "#0d0887"
            ],
            [
             0.1111111111111111,
             "#46039f"
            ],
            [
             0.2222222222222222,
             "#7201a8"
            ],
            [
             0.3333333333333333,
             "#9c179e"
            ],
            [
             0.4444444444444444,
             "#bd3786"
            ],
            [
             0.5555555555555556,
             "#d8576b"
            ],
            [
             0.6666666666666666,
             "#ed7953"
            ],
            [
             0.7777777777777778,
             "#fb9f3a"
            ],
            [
             0.8888888888888888,
             "#fdca26"
            ],
            [
             1,
             "#f0f921"
            ]
           ],
           "sequentialminus": [
            [
             0,
             "#0d0887"
            ],
            [
             0.1111111111111111,
             "#46039f"
            ],
            [
             0.2222222222222222,
             "#7201a8"
            ],
            [
             0.3333333333333333,
             "#9c179e"
            ],
            [
             0.4444444444444444,
             "#bd3786"
            ],
            [
             0.5555555555555556,
             "#d8576b"
            ],
            [
             0.6666666666666666,
             "#ed7953"
            ],
            [
             0.7777777777777778,
             "#fb9f3a"
            ],
            [
             0.8888888888888888,
             "#fdca26"
            ],
            [
             1,
             "#f0f921"
            ]
           ]
          },
          "colorway": [
           "#636efa",
           "#EF553B",
           "#00cc96",
           "#ab63fa",
           "#FFA15A",
           "#19d3f3",
           "#FF6692",
           "#B6E880",
           "#FF97FF",
           "#FECB52"
          ],
          "font": {
           "color": "#2a3f5f"
          },
          "geo": {
           "bgcolor": "white",
           "lakecolor": "white",
           "landcolor": "#E5ECF6",
           "showlakes": true,
           "showland": true,
           "subunitcolor": "white"
          },
          "hoverlabel": {
           "align": "left"
          },
          "hovermode": "closest",
          "mapbox": {
           "style": "light"
          },
          "paper_bgcolor": "white",
          "plot_bgcolor": "#E5ECF6",
          "polar": {
           "angularaxis": {
            "gridcolor": "white",
            "linecolor": "white",
            "ticks": ""
           },
           "bgcolor": "#E5ECF6",
           "radialaxis": {
            "gridcolor": "white",
            "linecolor": "white",
            "ticks": ""
           }
          },
          "scene": {
           "xaxis": {
            "backgroundcolor": "#E5ECF6",
            "gridcolor": "white",
            "gridwidth": 2,
            "linecolor": "white",
            "showbackground": true,
            "ticks": "",
            "zerolinecolor": "white"
           },
           "yaxis": {
            "backgroundcolor": "#E5ECF6",
            "gridcolor": "white",
            "gridwidth": 2,
            "linecolor": "white",
            "showbackground": true,
            "ticks": "",
            "zerolinecolor": "white"
           },
           "zaxis": {
            "backgroundcolor": "#E5ECF6",
            "gridcolor": "white",
            "gridwidth": 2,
            "linecolor": "white",
            "showbackground": true,
            "ticks": "",
            "zerolinecolor": "white"
           }
          },
          "shapedefaults": {
           "line": {
            "color": "#2a3f5f"
           }
          },
          "ternary": {
           "aaxis": {
            "gridcolor": "white",
            "linecolor": "white",
            "ticks": ""
           },
           "baxis": {
            "gridcolor": "white",
            "linecolor": "white",
            "ticks": ""
           },
           "bgcolor": "#E5ECF6",
           "caxis": {
            "gridcolor": "white",
            "linecolor": "white",
            "ticks": ""
           }
          },
          "title": {
           "x": 0.05
          },
          "xaxis": {
           "automargin": true,
           "gridcolor": "white",
           "linecolor": "white",
           "ticks": "",
           "title": {
            "standoff": 15
           },
           "zerolinecolor": "white",
           "zerolinewidth": 2
          },
          "yaxis": {
           "automargin": true,
           "gridcolor": "white",
           "linecolor": "white",
           "ticks": "",
           "title": {
            "standoff": 15
           },
           "zerolinecolor": "white",
           "zerolinewidth": 2
          }
         }
        },
        "title": {
         "text": "ARTÍCULO FABRICADOS POR TURNO"
        },
        "xaxis": {
         "anchor": "y",
         "domain": [
          0,
          1
         ],
         "title": {
          "text": "Turno"
         }
        },
        "yaxis": {
         "anchor": "x",
         "domain": [
          0,
          1
         ],
         "title": {
          "text": "Frecuencia"
         }
        }
       }
      }
     },
     "metadata": {},
     "output_type": "display_data"
    }
   ],
   "source": [
    "df_conteo = pd.DataFrame(list(conteo.items()), columns=['Turno', 'Frecuencia'])\n",
    "\n",
    "\n",
    "fig = px.bar(df_conteo, x='Turno', y='Frecuencia', \n",
    "             title='ARTÍCULO FABRICADOS POR TURNO',\n",
    "             color='Frecuencia',\n",
    "             color_continuous_scale=px.colors.sequential.Bluyl)\n",
    "\n",
    "\n",
    "fig.show()"
   ]
  },
  {
   "cell_type": "code",
   "execution_count": 277,
   "metadata": {},
   "outputs": [
    {
     "name": "stdout",
     "output_type": "stream",
     "text": [
      "Prob_T1:  0.3989\n",
      "Prob_T2:  0.3501\n",
      "Prob_T3:  0.251\n"
     ]
    }
   ],
   "source": [
    "# Calculando probabilidades empíricas\n",
    "Prob_T1 = conteo['T1'] / tamano_muestra\n",
    "Prob_T2 = conteo['T2'] / tamano_muestra\n",
    "Prob_T3 = conteo['T3'] / tamano_muestra\n",
    "print('Prob_T1: ', round(Prob_T1, 4))\n",
    "print('Prob_T2: ', round(Prob_T2, 4))\n",
    "print('Prob_T3: ', round(Prob_T3, 4))\n"
   ]
  },
  {
   "cell_type": "code",
   "execution_count": 278,
   "metadata": {},
   "outputs": [
    {
     "data": {
      "application/vnd.plotly.v1+json": {
       "config": {
        "plotlyServerURL": "https://plot.ly"
       },
       "data": [
        {
         "hovertemplate": "Turno=%{y}<br>Probabilidad Empírica=%{x}<extra></extra>",
         "legendgroup": "T1",
         "marker": {
          "color": "blue"
         },
         "name": "T1",
         "orientation": "h",
         "showlegend": true,
         "type": "funnel",
         "x": [
          0.39891
         ],
         "xaxis": "x",
         "y": [
          "T1"
         ],
         "yaxis": "y"
        },
        {
         "hovertemplate": "Turno=%{y}<br>Probabilidad Empírica=%{x}<extra></extra>",
         "legendgroup": "T2",
         "marker": {
          "color": "green"
         },
         "name": "T2",
         "orientation": "h",
         "showlegend": true,
         "type": "funnel",
         "x": [
          0.35007
         ],
         "xaxis": "x",
         "y": [
          "T2"
         ],
         "yaxis": "y"
        },
        {
         "hovertemplate": "Turno=%{y}<br>Probabilidad Empírica=%{x}<extra></extra>",
         "legendgroup": "T3",
         "marker": {
          "color": "purple"
         },
         "name": "T3",
         "orientation": "h",
         "showlegend": true,
         "type": "funnel",
         "x": [
          0.25102
         ],
         "xaxis": "x",
         "y": [
          "T3"
         ],
         "yaxis": "y"
        }
       ],
       "layout": {
        "height": 400,
        "legend": {
         "title": {
          "text": "Turno"
         },
         "tracegroupgap": 0
        },
        "template": {
         "data": {
          "bar": [
           {
            "error_x": {
             "color": "#2a3f5f"
            },
            "error_y": {
             "color": "#2a3f5f"
            },
            "marker": {
             "line": {
              "color": "#E5ECF6",
              "width": 0.5
             },
             "pattern": {
              "fillmode": "overlay",
              "size": 10,
              "solidity": 0.2
             }
            },
            "type": "bar"
           }
          ],
          "barpolar": [
           {
            "marker": {
             "line": {
              "color": "#E5ECF6",
              "width": 0.5
             },
             "pattern": {
              "fillmode": "overlay",
              "size": 10,
              "solidity": 0.2
             }
            },
            "type": "barpolar"
           }
          ],
          "carpet": [
           {
            "aaxis": {
             "endlinecolor": "#2a3f5f",
             "gridcolor": "white",
             "linecolor": "white",
             "minorgridcolor": "white",
             "startlinecolor": "#2a3f5f"
            },
            "baxis": {
             "endlinecolor": "#2a3f5f",
             "gridcolor": "white",
             "linecolor": "white",
             "minorgridcolor": "white",
             "startlinecolor": "#2a3f5f"
            },
            "type": "carpet"
           }
          ],
          "choropleth": [
           {
            "colorbar": {
             "outlinewidth": 0,
             "ticks": ""
            },
            "type": "choropleth"
           }
          ],
          "contour": [
           {
            "colorbar": {
             "outlinewidth": 0,
             "ticks": ""
            },
            "colorscale": [
             [
              0,
              "#0d0887"
             ],
             [
              0.1111111111111111,
              "#46039f"
             ],
             [
              0.2222222222222222,
              "#7201a8"
             ],
             [
              0.3333333333333333,
              "#9c179e"
             ],
             [
              0.4444444444444444,
              "#bd3786"
             ],
             [
              0.5555555555555556,
              "#d8576b"
             ],
             [
              0.6666666666666666,
              "#ed7953"
             ],
             [
              0.7777777777777778,
              "#fb9f3a"
             ],
             [
              0.8888888888888888,
              "#fdca26"
             ],
             [
              1,
              "#f0f921"
             ]
            ],
            "type": "contour"
           }
          ],
          "contourcarpet": [
           {
            "colorbar": {
             "outlinewidth": 0,
             "ticks": ""
            },
            "type": "contourcarpet"
           }
          ],
          "heatmap": [
           {
            "colorbar": {
             "outlinewidth": 0,
             "ticks": ""
            },
            "colorscale": [
             [
              0,
              "#0d0887"
             ],
             [
              0.1111111111111111,
              "#46039f"
             ],
             [
              0.2222222222222222,
              "#7201a8"
             ],
             [
              0.3333333333333333,
              "#9c179e"
             ],
             [
              0.4444444444444444,
              "#bd3786"
             ],
             [
              0.5555555555555556,
              "#d8576b"
             ],
             [
              0.6666666666666666,
              "#ed7953"
             ],
             [
              0.7777777777777778,
              "#fb9f3a"
             ],
             [
              0.8888888888888888,
              "#fdca26"
             ],
             [
              1,
              "#f0f921"
             ]
            ],
            "type": "heatmap"
           }
          ],
          "heatmapgl": [
           {
            "colorbar": {
             "outlinewidth": 0,
             "ticks": ""
            },
            "colorscale": [
             [
              0,
              "#0d0887"
             ],
             [
              0.1111111111111111,
              "#46039f"
             ],
             [
              0.2222222222222222,
              "#7201a8"
             ],
             [
              0.3333333333333333,
              "#9c179e"
             ],
             [
              0.4444444444444444,
              "#bd3786"
             ],
             [
              0.5555555555555556,
              "#d8576b"
             ],
             [
              0.6666666666666666,
              "#ed7953"
             ],
             [
              0.7777777777777778,
              "#fb9f3a"
             ],
             [
              0.8888888888888888,
              "#fdca26"
             ],
             [
              1,
              "#f0f921"
             ]
            ],
            "type": "heatmapgl"
           }
          ],
          "histogram": [
           {
            "marker": {
             "pattern": {
              "fillmode": "overlay",
              "size": 10,
              "solidity": 0.2
             }
            },
            "type": "histogram"
           }
          ],
          "histogram2d": [
           {
            "colorbar": {
             "outlinewidth": 0,
             "ticks": ""
            },
            "colorscale": [
             [
              0,
              "#0d0887"
             ],
             [
              0.1111111111111111,
              "#46039f"
             ],
             [
              0.2222222222222222,
              "#7201a8"
             ],
             [
              0.3333333333333333,
              "#9c179e"
             ],
             [
              0.4444444444444444,
              "#bd3786"
             ],
             [
              0.5555555555555556,
              "#d8576b"
             ],
             [
              0.6666666666666666,
              "#ed7953"
             ],
             [
              0.7777777777777778,
              "#fb9f3a"
             ],
             [
              0.8888888888888888,
              "#fdca26"
             ],
             [
              1,
              "#f0f921"
             ]
            ],
            "type": "histogram2d"
           }
          ],
          "histogram2dcontour": [
           {
            "colorbar": {
             "outlinewidth": 0,
             "ticks": ""
            },
            "colorscale": [
             [
              0,
              "#0d0887"
             ],
             [
              0.1111111111111111,
              "#46039f"
             ],
             [
              0.2222222222222222,
              "#7201a8"
             ],
             [
              0.3333333333333333,
              "#9c179e"
             ],
             [
              0.4444444444444444,
              "#bd3786"
             ],
             [
              0.5555555555555556,
              "#d8576b"
             ],
             [
              0.6666666666666666,
              "#ed7953"
             ],
             [
              0.7777777777777778,
              "#fb9f3a"
             ],
             [
              0.8888888888888888,
              "#fdca26"
             ],
             [
              1,
              "#f0f921"
             ]
            ],
            "type": "histogram2dcontour"
           }
          ],
          "mesh3d": [
           {
            "colorbar": {
             "outlinewidth": 0,
             "ticks": ""
            },
            "type": "mesh3d"
           }
          ],
          "parcoords": [
           {
            "line": {
             "colorbar": {
              "outlinewidth": 0,
              "ticks": ""
             }
            },
            "type": "parcoords"
           }
          ],
          "pie": [
           {
            "automargin": true,
            "type": "pie"
           }
          ],
          "scatter": [
           {
            "fillpattern": {
             "fillmode": "overlay",
             "size": 10,
             "solidity": 0.2
            },
            "type": "scatter"
           }
          ],
          "scatter3d": [
           {
            "line": {
             "colorbar": {
              "outlinewidth": 0,
              "ticks": ""
             }
            },
            "marker": {
             "colorbar": {
              "outlinewidth": 0,
              "ticks": ""
             }
            },
            "type": "scatter3d"
           }
          ],
          "scattercarpet": [
           {
            "marker": {
             "colorbar": {
              "outlinewidth": 0,
              "ticks": ""
             }
            },
            "type": "scattercarpet"
           }
          ],
          "scattergeo": [
           {
            "marker": {
             "colorbar": {
              "outlinewidth": 0,
              "ticks": ""
             }
            },
            "type": "scattergeo"
           }
          ],
          "scattergl": [
           {
            "marker": {
             "colorbar": {
              "outlinewidth": 0,
              "ticks": ""
             }
            },
            "type": "scattergl"
           }
          ],
          "scattermapbox": [
           {
            "marker": {
             "colorbar": {
              "outlinewidth": 0,
              "ticks": ""
             }
            },
            "type": "scattermapbox"
           }
          ],
          "scatterpolar": [
           {
            "marker": {
             "colorbar": {
              "outlinewidth": 0,
              "ticks": ""
             }
            },
            "type": "scatterpolar"
           }
          ],
          "scatterpolargl": [
           {
            "marker": {
             "colorbar": {
              "outlinewidth": 0,
              "ticks": ""
             }
            },
            "type": "scatterpolargl"
           }
          ],
          "scatterternary": [
           {
            "marker": {
             "colorbar": {
              "outlinewidth": 0,
              "ticks": ""
             }
            },
            "type": "scatterternary"
           }
          ],
          "surface": [
           {
            "colorbar": {
             "outlinewidth": 0,
             "ticks": ""
            },
            "colorscale": [
             [
              0,
              "#0d0887"
             ],
             [
              0.1111111111111111,
              "#46039f"
             ],
             [
              0.2222222222222222,
              "#7201a8"
             ],
             [
              0.3333333333333333,
              "#9c179e"
             ],
             [
              0.4444444444444444,
              "#bd3786"
             ],
             [
              0.5555555555555556,
              "#d8576b"
             ],
             [
              0.6666666666666666,
              "#ed7953"
             ],
             [
              0.7777777777777778,
              "#fb9f3a"
             ],
             [
              0.8888888888888888,
              "#fdca26"
             ],
             [
              1,
              "#f0f921"
             ]
            ],
            "type": "surface"
           }
          ],
          "table": [
           {
            "cells": {
             "fill": {
              "color": "#EBF0F8"
             },
             "line": {
              "color": "white"
             }
            },
            "header": {
             "fill": {
              "color": "#C8D4E3"
             },
             "line": {
              "color": "white"
             }
            },
            "type": "table"
           }
          ]
         },
         "layout": {
          "annotationdefaults": {
           "arrowcolor": "#2a3f5f",
           "arrowhead": 0,
           "arrowwidth": 1
          },
          "autotypenumbers": "strict",
          "coloraxis": {
           "colorbar": {
            "outlinewidth": 0,
            "ticks": ""
           }
          },
          "colorscale": {
           "diverging": [
            [
             0,
             "#8e0152"
            ],
            [
             0.1,
             "#c51b7d"
            ],
            [
             0.2,
             "#de77ae"
            ],
            [
             0.3,
             "#f1b6da"
            ],
            [
             0.4,
             "#fde0ef"
            ],
            [
             0.5,
             "#f7f7f7"
            ],
            [
             0.6,
             "#e6f5d0"
            ],
            [
             0.7,
             "#b8e186"
            ],
            [
             0.8,
             "#7fbc41"
            ],
            [
             0.9,
             "#4d9221"
            ],
            [
             1,
             "#276419"
            ]
           ],
           "sequential": [
            [
             0,
             "#0d0887"
            ],
            [
             0.1111111111111111,
             "#46039f"
            ],
            [
             0.2222222222222222,
             "#7201a8"
            ],
            [
             0.3333333333333333,
             "#9c179e"
            ],
            [
             0.4444444444444444,
             "#bd3786"
            ],
            [
             0.5555555555555556,
             "#d8576b"
            ],
            [
             0.6666666666666666,
             "#ed7953"
            ],
            [
             0.7777777777777778,
             "#fb9f3a"
            ],
            [
             0.8888888888888888,
             "#fdca26"
            ],
            [
             1,
             "#f0f921"
            ]
           ],
           "sequentialminus": [
            [
             0,
             "#0d0887"
            ],
            [
             0.1111111111111111,
             "#46039f"
            ],
            [
             0.2222222222222222,
             "#7201a8"
            ],
            [
             0.3333333333333333,
             "#9c179e"
            ],
            [
             0.4444444444444444,
             "#bd3786"
            ],
            [
             0.5555555555555556,
             "#d8576b"
            ],
            [
             0.6666666666666666,
             "#ed7953"
            ],
            [
             0.7777777777777778,
             "#fb9f3a"
            ],
            [
             0.8888888888888888,
             "#fdca26"
            ],
            [
             1,
             "#f0f921"
            ]
           ]
          },
          "colorway": [
           "#636efa",
           "#EF553B",
           "#00cc96",
           "#ab63fa",
           "#FFA15A",
           "#19d3f3",
           "#FF6692",
           "#B6E880",
           "#FF97FF",
           "#FECB52"
          ],
          "font": {
           "color": "#2a3f5f"
          },
          "geo": {
           "bgcolor": "white",
           "lakecolor": "white",
           "landcolor": "#E5ECF6",
           "showlakes": true,
           "showland": true,
           "subunitcolor": "white"
          },
          "hoverlabel": {
           "align": "left"
          },
          "hovermode": "closest",
          "mapbox": {
           "style": "light"
          },
          "paper_bgcolor": "white",
          "plot_bgcolor": "#E5ECF6",
          "polar": {
           "angularaxis": {
            "gridcolor": "white",
            "linecolor": "white",
            "ticks": ""
           },
           "bgcolor": "#E5ECF6",
           "radialaxis": {
            "gridcolor": "white",
            "linecolor": "white",
            "ticks": ""
           }
          },
          "scene": {
           "xaxis": {
            "backgroundcolor": "#E5ECF6",
            "gridcolor": "white",
            "gridwidth": 2,
            "linecolor": "white",
            "showbackground": true,
            "ticks": "",
            "zerolinecolor": "white"
           },
           "yaxis": {
            "backgroundcolor": "#E5ECF6",
            "gridcolor": "white",
            "gridwidth": 2,
            "linecolor": "white",
            "showbackground": true,
            "ticks": "",
            "zerolinecolor": "white"
           },
           "zaxis": {
            "backgroundcolor": "#E5ECF6",
            "gridcolor": "white",
            "gridwidth": 2,
            "linecolor": "white",
            "showbackground": true,
            "ticks": "",
            "zerolinecolor": "white"
           }
          },
          "shapedefaults": {
           "line": {
            "color": "#2a3f5f"
           }
          },
          "ternary": {
           "aaxis": {
            "gridcolor": "white",
            "linecolor": "white",
            "ticks": ""
           },
           "baxis": {
            "gridcolor": "white",
            "linecolor": "white",
            "ticks": ""
           },
           "bgcolor": "#E5ECF6",
           "caxis": {
            "gridcolor": "white",
            "linecolor": "white",
            "ticks": ""
           }
          },
          "title": {
           "x": 0.05
          },
          "xaxis": {
           "automargin": true,
           "gridcolor": "white",
           "linecolor": "white",
           "ticks": "",
           "title": {
            "standoff": 15
           },
           "zerolinecolor": "white",
           "zerolinewidth": 2
          },
          "yaxis": {
           "automargin": true,
           "gridcolor": "white",
           "linecolor": "white",
           "ticks": "",
           "title": {
            "standoff": 15
           },
           "zerolinecolor": "white",
           "zerolinewidth": 2
          }
         }
        },
        "title": {
         "text": "PROBABILIDADES EMPÍRICAS POR TURNO"
        },
        "width": 600,
        "xaxis": {
         "anchor": "y",
         "domain": [
          0,
          1
         ],
         "title": {
          "text": "Probabilidad Empírica"
         }
        },
        "yaxis": {
         "anchor": "x",
         "categoryarray": [
          "T3",
          "T2",
          "T1"
         ],
         "categoryorder": "array",
         "domain": [
          0,
          1
         ],
         "title": {
          "text": "Turno"
         }
        }
       }
      }
     },
     "metadata": {},
     "output_type": "display_data"
    }
   ],
   "source": [
    "df_probabilidades = pd.DataFrame({\n",
    "    'Turno': ['T1', 'T2', 'T3'],\n",
    "    'Probabilidad': [Prob_T1, Prob_T2, Prob_T3]\n",
    "})\n",
    "\n",
    "\n",
    "fig = px.funnel(df_probabilidades, x='Probabilidad', y='Turno',\n",
    "                title='PROBABILIDADES EMPÍRICAS POR TURNO',\n",
    "                labels={'Turno': 'Turno', 'Probabilidad': 'Probabilidad Empírica'},\n",
    "                height=400, width=600,\n",
    "                color='Turno',  \n",
    "                color_discrete_map={'T1': 'blue', 'T2': 'green', 'T3': 'purple'})  \n",
    "\n",
    "\n",
    "fig.show()"
   ]
  },
  {
   "cell_type": "markdown",
   "metadata": {},
   "source": [
    "## Simulación 2\n",
    "\n",
    "Para cada turno, identificando los artículos fabricados como Defectuosos (D) y No Defectuosos (G)"
   ]
  },
  {
   "cell_type": "code",
   "execution_count": 279,
   "metadata": {},
   "outputs": [],
   "source": [
    "# Listas de probabilidad de defectuosos y no defectuosos\n",
    "Prob_T1_def = [0.01, 0.99]\n",
    "Prob_T2_def = [0.02, 0.98]\n",
    "Prob_T3_def = [0.03, 0.97]\n",
    "\n",
    "# Listas de resultados por turno: defectuoso (D) y no defectuoso (G)\n",
    "Resultados_T1 = ['T1D', 'T1G']\n",
    "Resultados_T2 = ['T2D', 'T2G']\n",
    "Resultados_T3 = ['T3D', 'T3G']"
   ]
  },
  {
   "cell_type": "code",
   "execution_count": 280,
   "metadata": {},
   "outputs": [
    {
     "name": "stdout",
     "output_type": "stream",
     "text": [
      "Detalle_T1:  ['T1G' 'T1G' 'T1G' ... 'T1G' 'T1G' 'T1G']\n",
      "Detalle_T2:  ['T2G' 'T2G' 'T2G' ... 'T2G' 'T2G' 'T2G']\n",
      "Detalle_T3:  ['T3D' 'T3G' 'T3G' ... 'T3G' 'T3G' 'T3G']\n",
      "Detalle_Total:  ['T1G', 'T1G', 'T1G', 'T1G', 'T1G', 'T1G', 'T1G', 'T1G', 'T1G', 'T1G', 'T1G', 'T1G', 'T1G', 'T1G', 'T1G', 'T1G', 'T1G', 'T1G', 'T1G', 'T1G', 'T1G', 'T1G', 'T1G', 'T1G', 'T1G', 'T1G', 'T1G', 'T1G', 'T1G', 'T1G', 'T1G', 'T1G', 'T1G', 'T1G', 'T1G', 'T1G', 'T1G', 'T1G', 'T1G', 'T1G', 'T1G', 'T1G', 'T1G', 'T1G', 'T1G', 'T1G', 'T1G', 'T1G', 'T1G', 'T1G', 'T1G', 'T1G', 'T1G', 'T1G', 'T1G', 'T1G', 'T1G', 'T1G', 'T1G', 'T1G', 'T1G', 'T1G', 'T1G', 'T1G', 'T1G', 'T1G', 'T1G', 'T1G', 'T1G', 'T1G', 'T1G', 'T1G', 'T1G', 'T1G', 'T1G', 'T1G', 'T1G', 'T1G', 'T1G', 'T1G', 'T1G', 'T1G', 'T1G', 'T1G', 'T1G', 'T1G', 'T1G', 'T1G', 'T1G', 'T1G', 'T1G', 'T1G', 'T1G', 'T1G', 'T1G', 'T1G', 'T1G', 'T1G', 'T1G', 'T1G', 'T1G', 'T1G', 'T1G', 'T1G', 'T1G', 'T1G', 'T1G', 'T1G', 'T1G', 'T1G', 'T1G', 'T1G', 'T1G', 'T1G', 'T1G', 'T1G', 'T1G', 'T1G', 'T1G', 'T1G', 'T1G', 'T1G', 'T1G', 'T1G', 'T1G', 'T1G', 'T1G', 'T1G', 'T1G', 'T1G', 'T1G', 'T1G', 'T1G', 'T1G', 'T1G', 'T1G', 'T1G', 'T1G', 'T1G', 'T1G', 'T1G', 'T1G', 'T1G', 'T1G', 'T1G', 'T1G', 'T1G', 'T1G', 'T1G', 'T1G', 'T1G', 'T1G', 'T1G', 'T1G', 'T1G', 'T1G', 'T1G', 'T1G', 'T1G', 'T1G', 'T1G', 'T1G', 'T1G', 'T1G', 'T1G', 'T1G', 'T1G', 'T1G', 'T1G', 'T1G', 'T1G', 'T1G', 'T1G', 'T1G', 'T1G', 'T1G', 'T1G', 'T1G', 'T1G', 'T1G', 'T1G', 'T1G', 'T1G', 'T1G', 'T1G', 'T1G', 'T1G', 'T1G', 'T1G', 'T1G', 'T1G', 'T1G', 'T1G', 'T1G', 'T1G', 'T1G', 'T1G', 'T1G', 'T1G', 'T1G', 'T1G', 'T1G', 'T1G', 'T1G', 'T1G', 'T1G', 'T1G', 'T1G', 'T1G', 'T1G', 'T1G', 'T1G', 'T1G', 'T1G', 'T1G', 'T1G', 'T1G', 'T1G', 'T1G', 'T1G', 'T1G', 'T1G', 'T1G', 'T1G', 'T1G', 'T1G', 'T1G', 'T1G', 'T1G', 'T1G', 'T1G', 'T1G', 'T1G', 'T1G', 'T1G', 'T1G', 'T1G', 'T1G', 'T1G', 'T1G', 'T1G', 'T1G', 'T1G', 'T1G', 'T1G', 'T1G', 'T1G', 'T1G', 'T1G', 'T1G', 'T1G', 'T1G', 'T1G', 'T1G', 'T1G', 'T1G', 'T1G', 'T1G', 'T1G', 'T1G', 'T1G', 'T1G', 'T1G', 'T1G', 'T1G', 'T1G', 'T1G', 'T1G', 'T1G', 'T1G', 'T1G', 'T1D', 'T1G', 'T1G', 'T1G', 'T1G', 'T1G', 'T1G', 'T1G', 'T1G', 'T1G', 'T1G', 'T1G', 'T1G', 'T1G', 'T1G', 'T1G', 'T1G', 'T1G', 'T1G', 'T1G', 'T1G', 'T1G', 'T1G', 'T1G', 'T1G', 'T1G', 'T1G', 'T1G', 'T1G', 'T1G', 'T1G', 'T1G', 'T1G', 'T1G', 'T1G', 'T1G', 'T1G', 'T1G', 'T1G', 'T1G', 'T1G', 'T1G', 'T1G', 'T1G', 'T1G', 'T1G', 'T1G', 'T1G', 'T1G', 'T1G', 'T1G', 'T1G', 'T1G', 'T1G', 'T1G', 'T1G', 'T1G', 'T1G', 'T1G', 'T1G', 'T1G', 'T1G', 'T1G', 'T1G', 'T1G', 'T1G', 'T1G', 'T1G', 'T1G', 'T1G', 'T1G', 'T1G', 'T1G', 'T1G', 'T1G', 'T1G', 'T1G', 'T1G', 'T1G', 'T1G', 'T1G', 'T1G', 'T1G', 'T1G', 'T1G', 'T1G', 'T1G', 'T1G', 'T1G', 'T1G', 'T1G', 'T1G', 'T1G', 'T1G', 'T1G', 'T1G', 'T1G', 'T1G', 'T1G', 'T1G', 'T1G', 'T1G', 'T1G', 'T1G', 'T1G', 'T1G', 'T1G', 'T1G', 'T1G', 'T1G', 'T1G', 'T1G', 'T1G', 'T1G', 'T1G', 'T1G', 'T1G', 'T1G', 'T1G', 'T1G', 'T1G', 'T1G', 'T1G', 'T1G', 'T1G', 'T1G', 'T1G', 'T1G', 'T1G', 'T1G', 'T1G', 'T1G', 'T1G', 'T1G', 'T1G', 'T1G', 'T1G', 'T1G', 'T1G', 'T1G', 'T1G', 'T1G', 'T1G', 'T1G', 'T1G', 'T1G', 'T1G', 'T1G', 'T1G', 'T1G', 'T1G', 'T1G', 'T1G', 'T1G', 'T1G', 'T1G', 'T1G', 'T1G', 'T1G', 'T1G', 'T1G', 'T1G', 'T1G', 'T1G', 'T1G', 'T1G', 'T1G', 'T1G', 'T1G', 'T1G', 'T1G', 'T1G', 'T1G', 'T1G', 'T1G', 'T1G', 'T1G', 'T1G', 'T1G', 'T1G', 'T1G', 'T1G', 'T1G', 'T1G', 'T1G', 'T1G', 'T1G', 'T1G', 'T1G', 'T1G', 'T1G', 'T1G', 'T1G', 'T1G', 'T1G', 'T1G', 'T1G', 'T1G', 'T1G', 'T1G', 'T1G', 'T1G', 'T1G', 'T1G', 'T1G', 'T1G', 'T1G', 'T1G', 'T1G', 'T1G', 'T1G', 'T1G', 'T1G', 'T1G', 'T1G', 'T1G', 'T1G', 'T1G', 'T1G', 'T1G', 'T1G', 'T1G', 'T1G', 'T1G', 'T1G', 'T1G', 'T1G', 'T1G', 'T1G', 'T1G', 'T1G', 'T1G', 'T1G', 'T1G', 'T1G', 'T1G', 'T1G', 'T1G', 'T1G', 'T1G', 'T1G', 'T1G', 'T1G', 'T1G', 'T1G', 'T1G', 'T1G', 'T1G', 'T1G', 'T1G', 'T1G', 'T1G', 'T1G', 'T1G', 'T1G', 'T1G', 'T1G', 'T1D', 'T1G', 'T1G', 'T1G', 'T1G', 'T1G', 'T1G', 'T1G', 'T1G', 'T1G', 'T1G', 'T1G', 'T1G', 'T1G', 'T1G', 'T1G', 'T1G', 'T1G', 'T1G', 'T1G', 'T1G', 'T1G', 'T1G', 'T1G', 'T1G', 'T1G', 'T1G', 'T1G', 'T1G', 'T1G', 'T1G', 'T1G', 'T1G', 'T1G', 'T1G', 'T1G', 'T1G', 'T1G', 'T1G', 'T1G', 'T1D', 'T1G', 'T1G', 'T1G', 'T1G', 'T1G', 'T1G', 'T1G', 'T1G', 'T1G', 'T1G', 'T1G', 'T1G', 'T1G', 'T1G', 'T1G', 'T1G', 'T1G', 'T1G', 'T1G', 'T1G', 'T1G', 'T1G', 'T1G', 'T1G', 'T1G', 'T1G', 'T1G', 'T1G', 'T1G', 'T1G', 'T1G', 'T1G', 'T1G', 'T1G', 'T1G', 'T1G', 'T1G', 'T1G', 'T1G', 'T1G', 'T1G', 'T1G', 'T1G', 'T1G', 'T1G', 'T1G', 'T1G', 'T1G', 'T1G', 'T1G', 'T1G', 'T1G', 'T1G', 'T1G', 'T1G', 'T1G', 'T1G', 'T1G', 'T1G', 'T1G', 'T1G', 'T1G', 'T1G', 'T1G', 'T1G', 'T1G', 'T1G', 'T1G', 'T1G', 'T1G', 'T1G', 'T1G', 'T1G', 'T1G', 'T1G', 'T1G', 'T1G', 'T1G', 'T1G', 'T1G', 'T1G', 'T1G', 'T1G', 'T1G', 'T1G', 'T1G', 'T1G', 'T1G', 'T1G', 'T1G', 'T1G', 'T1G', 'T1G', 'T1G', 'T1G', 'T1G', 'T1G', 'T1G', 'T1G', 'T1G', 'T1G', 'T1G', 'T1G', 'T1G', 'T1G', 'T1G', 'T1G', 'T1G', 'T1G', 'T1G', 'T1G', 'T1G', 'T1D', 'T1G', 'T1G', 'T1G', 'T1G', 'T1G', 'T1G', 'T1G', 'T1G', 'T1G', 'T1G', 'T1G', 'T1G', 'T1G', 'T1G', 'T1G', 'T1G', 'T1G', 'T1G', 'T1G', 'T1G', 'T1G', 'T1G', 'T1G', 'T1G', 'T1G', 'T1G', 'T1G', 'T1G', 'T1G', 'T1G', 'T1G', 'T1G', 'T1G', 'T1G', 'T1G', 'T1G', 'T1G', 'T1G', 'T1G', 'T1G', 'T1G', 'T1G', 'T1G', 'T1G', 'T1G', 'T1G', 'T1G', 'T1G', 'T1G', 'T1G', 'T1G', 'T1G', 'T1G', 'T1G', 'T1G', 'T1G', 'T1G', 'T1G', 'T1G', 'T1G', 'T1G', 'T1G', 'T1G', 'T1G', 'T1G', 'T1G', 'T1G', 'T1G', 'T1G', 'T1G', 'T1G', 'T1G', 'T1G', 'T1G', 'T1G', 'T1G', 'T1G', 'T1G', 'T1G', 'T1G', 'T1G', 'T1G', 'T1G', 'T1G', 'T1G', 'T1G', 'T1G', 'T1G', 'T1G', 'T1G', 'T1G', 'T1G', 'T1G', 'T1G', 'T1G', 'T1G', 'T1G', 'T1G', 'T1G', 'T1G', 'T1G', 'T1G', 'T1G', 'T1G', 'T1G', 'T1G', 'T1G', 'T1G', 'T1G', 'T1G', 'T1G', 'T1G', 'T1G', 'T1G', 'T1G', 'T1G', 'T1G', 'T1G', 'T1G', 'T1G', 'T1G', 'T1G', 'T1G', 'T1G', 'T1G', 'T1G', 'T1G', 'T1G', 'T1G', 'T1G', 'T1G', 'T1G', 'T1G', 'T1G', 'T1G', 'T1G', 'T1G', 'T1G', 'T1G', 'T1G', 'T1G', 'T1G', 'T1G', 'T1G', 'T1G', 'T1G', 'T1G', 'T1G', 'T1G', 'T1G', 'T1G', 'T1D', 'T1G', 'T1G', 'T1G', 'T1G', 'T1G', 'T1G', 'T1G', 'T1G', 'T1G', 'T1G', 'T1G', 'T1G', 'T1G', 'T1G', 'T1G', 'T1G', 'T1G', 'T1G', 'T1G', 'T1G', 'T1G', 'T1G', 'T1G', 'T1G', 'T1G', 'T1G', 'T1G', 'T1G', 'T1G', 'T1G', 'T1G', 'T1G', 'T1G', 'T1G', 'T1G', 'T1G', 'T1G', 'T1G', 'T1G', 'T1G', 'T1G', 'T1G', 'T1G', 'T1G', 'T1G', 'T1G', 'T1G', 'T1G', 'T1G', 'T1G', 'T1G', 'T1G', 'T1G', 'T1G', 'T1G', 'T1G', 'T1G', 'T1G', 'T1G', 'T1G', 'T1G', 'T1G', 'T1G', 'T1G', 'T1G', 'T1D', 'T1G', 'T1G', 'T1G', 'T1G', 'T1G', 'T1G', 'T1G', 'T1G', 'T1G', 'T1G', 'T1G', 'T1G', 'T1G', 'T1G', 'T1G', 'T1G', 'T1G', 'T1G', 'T1G', 'T1G', 'T1G', 'T1G', 'T1G', 'T1G', 'T1G', 'T1G', 'T1G', 'T1G', 'T1G', 'T1G', 'T1G', 'T1G', 'T1G', 'T1G', 'T1G', 'T1G', 'T1G', 'T1G', 'T1G', 'T1G', 'T1G', 'T1G', 'T1D', 'T1G', 'T1G', 'T1G', 'T1G', 'T1G', 'T1G', 'T1G', 'T1G', 'T1G', 'T1G', 'T1G', 'T1G', 'T1G', 'T1G', 'T1G', 'T1G', 'T1G', 'T1G', 'T1G', 'T1G', 'T1G', 'T1G', 'T1G', 'T1G', 'T1G', 'T1G', 'T1G', 'T1G', 'T1G', 'T1G', 'T1G', 'T1G', 'T1G', 'T1G', 'T1G', 'T1G', 'T1G', 'T1G', 'T1G', 'T1G', 'T1G', 'T1G', 'T1G', 'T1G', 'T1G', 'T1G', 'T1G', 'T1G', 'T1G', 'T1G', 'T1G', 'T1G', 'T1G', 'T1G', 'T1G', 'T1G', 'T1G', 'T1G', 'T1G', 'T1G', 'T1G', 'T1G', 'T1G', 'T1G', 'T1G', 'T1G', 'T1G', 'T1G', 'T1G', 'T1G', 'T1G', 'T1G', 'T1G', 'T1G', 'T1G', 'T1G', 'T1G', 'T1G', 'T1G', 'T1G', 'T1G', 'T1G', 'T1G', 'T1G', 'T1G', 'T1G', 'T1G', 'T1G', 'T1G', 'T1G', 'T1G', 'T1G', 'T1G', 'T1G', 'T1G', 'T1G', 'T1G', 'T1G', 'T1G', 'T1G', 'T1G', 'T1G', 'T1G', 'T1G', 'T1G', 'T1G', 'T1G', 'T1G', 'T1G', 'T1G', 'T1G', 'T1G', 'T1G', 'T1G', 'T1G', 'T1G', 'T1G', 'T1G', 'T1G', 'T1G', 'T1G', 'T1G', 'T1G', 'T1G', 'T1G', 'T1G', 'T1G', 'T1G', 'T1G', 'T1G', 'T1G', 'T1G', 'T1G', 'T1G', 'T1G', 'T1G', 'T1G', 'T1G', 'T1G', 'T1G', 'T1G', 'T1G', 'T1G', 'T1G', 'T1G', 'T1G', 'T1G', 'T1G', 'T1G', 'T1G', 'T1G', 'T1G', 'T1G', 'T1G', 'T1G', 'T1G', 'T1G', 'T1G', 'T1G', 'T1G', 'T1G', 'T1G', 'T1G', 'T1G', 'T1G', 'T1G', 'T1G', 'T1G', 'T1G', 'T1G', 'T1G', 'T1G', 'T1G', 'T1G', 'T1G', 'T1G', 'T1G', 'T1G', 'T1G', 'T1G', 'T1G', 'T1G', 'T1G', 'T1G', 'T1G', 'T1G', 'T1G', 'T1G', 'T1G', 'T1G', 'T1G', 'T1G', 'T1G', 'T1G', 'T1G', 'T1G', 'T1G', 'T1G', 'T1G', 'T1G', 'T1G', 'T1G', 'T1G', 'T1G', 'T1G', 'T1G', 'T1G', 'T1G', 'T1G', 'T1G', 'T1G', 'T1G', 'T1G', 'T1G', 'T1G', 'T1G', 'T1G', 'T1G', 'T1G', 'T1G', 'T1G', 'T1G', 'T1G', 'T1G', 'T1G', 'T1G', 'T1G', 'T1G', 'T1G', 'T1G', 'T1G', 'T1G', 'T1G', 'T1G', 'T1G', 'T1G', 'T1G', 'T1G', 'T1G', 'T1G', 'T1G', 'T1G', 'T1G', 'T1G', 'T1G', 'T1G', 'T1G', 'T1G', 'T1G', 'T1G', 'T1D', 'T1G', 'T1G', 'T1G', 'T1G', 'T1G', 'T1G', 'T1G', 'T1G', 'T1G', 'T1G', 'T1G', 'T1G', 'T1G', 'T1G', 'T1G', 'T1G', 'T1G', 'T1G', 'T1G', 'T1G', 'T1G', 'T1G', 'T1G', 'T1G', 'T1G', 'T1G', 'T1G', 'T1G', 'T1G', 'T1G', 'T1D', 'T1G', 'T1G', 'T1G', 'T1G', 'T1G', 'T1G', 'T1G', 'T1G', 'T1G', 'T1G', 'T1G', 'T1G', 'T1G', 'T1G', 'T1G', 'T1G', 'T1G', 'T1G', 'T1G', 'T1G', 'T1G', 'T1G', 'T1G', 'T1G', 'T1G', 'T1G', 'T1G', 'T1G', 'T1G', 'T1G', 'T1G', 'T1G', 'T1G', 'T1G', 'T1D', 'T1G', 'T1G', 'T1G', 'T1G', 'T1G', 'T1G', 'T1G', 'T1G', 'T1G', 'T1G', 'T1G', 'T1G', 'T1G', 'T1G', 'T1G', 'T1G', 'T1G', 'T1G', 'T1G', 'T1G', 'T1G', 'T1G', 'T1G', 'T1G', 'T1G', 'T1G', 'T1G', 'T1G', 'T1G', 'T1G', 'T1G', 'T1G', 'T1G', 'T1G', 'T1G', 'T1D', 'T1G', 'T1G', 'T1G', 'T1G', 'T1G', 'T1G', 'T1G', 'T1G', 'T1G', 'T1G', 'T1G', 'T1G', 'T1G', 'T1G', 'T1G', 'T1G', 'T1G', 'T1G', 'T1G', 'T1G', 'T1G', 'T1G', 'T1G', 'T1G', 'T1G', 'T1G', 'T1G', 'T1G', 'T1G', 'T1G', 'T1G', 'T1G', 'T1G', 'T1G', 'T1G', 'T1G', 'T1G', 'T1G', 'T1G', 'T1G', 'T1G', 'T1G', 'T1G', 'T1G', 'T1G', 'T1G', 'T1G', 'T1G', 'T1G', 'T1G', 'T1G', 'T1G', 'T1G', 'T1G', 'T1G', 'T1G', 'T1G', 'T1G', 'T1G', 'T1G', 'T1G', 'T1G', 'T1G', 'T1G', 'T1G', 'T1G', 'T1G', 'T1G', 'T1G', 'T1G', 'T1G', 'T1G', 'T1G', 'T1G', 'T1G', 'T1G', 'T1G', 'T1G', 'T1G', 'T1G', 'T1G', 'T1G', 'T1G', 'T1G', 'T1G', 'T1G', 'T1G', 'T1G', 'T1G', 'T1G', 'T1G', 'T1G', 'T1G', 'T1G', 'T1G', 'T1G', 'T1G', 'T1G', 'T1G', 'T1G', 'T1G', 'T1G', 'T1G', 'T1G', 'T1G', 'T1D', 'T1G', 'T1G', 'T1G', 'T1G', 'T1G', 'T1G', 'T1G', 'T1G', 'T1G', 'T1G', 'T1G', 'T1G', 'T1G', 'T1G', 'T1G', 'T1G', 'T1G', 'T1G', 'T1G', 'T1G', 'T1G', 'T1G', 'T1G', 'T1G', 'T1D', 'T1G', 'T1G', 'T1G', 'T1G', 'T1G', 'T1G', 'T1G', 'T1G', 'T1G', 'T1G', 'T1G', 'T1G', 'T1G', 'T1G', 'T1G', 'T1G', 'T1G', 'T1G', 'T1G', 'T1G', 'T1G', 'T1D', 'T1G', 'T1G', 'T1G', 'T1G', 'T1G', 'T1G', 'T1G', 'T1G', 'T1G', 'T1G', 'T1G', 'T1G', 'T1G', 'T1G', 'T1D', 'T1G', 'T1G', 'T1G', 'T1G', 'T1G', 'T1G', 'T1G', 'T1G', 'T1G', 'T1G', 'T1G', 'T1G', 'T1G', 'T1G', 'T1D', 'T1G', 'T1G', 'T1G', 'T1G', 'T1G', 'T1G', 'T1G', 'T1G', 'T1G', 'T1G', 'T1G', 'T1G', 'T1G', 'T1G', 'T1G', 'T1G', 'T1G', 'T1G', 'T1G', 'T1G', 'T1G', 'T1G', 'T1G', 'T1G', 'T1G', 'T1G', 'T1G', 'T1G', 'T1G', 'T1G', 'T1G', 'T1G', 'T1G', 'T1G', 'T1G', 'T1G', 'T1G', 'T1G', 'T1G', 'T1G', 'T1G', 'T1G', 'T1G', 'T1G', 'T1G', 'T1G', 'T1G', 'T1G', 'T1G', 'T1G', 'T1G', 'T1G', 'T1G', 'T1G', 'T1G', 'T1G', 'T1G', 'T1G', 'T1G', 'T1G', 'T1G', 'T1G', 'T1G', 'T1G', 'T1G', 'T1G', 'T1G', 'T1G', 'T1G', 'T1G', 'T1G', 'T1G', 'T1G', 'T1G', 'T1G', 'T1G', 'T1G', 'T1G', 'T1G', 'T1G', 'T1G', 'T1G', 'T1G', 'T1G', 'T1G', 'T1G', 'T1G', 'T1G', 'T1G', 'T1G', 'T1G', 'T1G', 'T1G', 'T1D', 'T1G', 'T1G', 'T1G', 'T1G', 'T1G', 'T1G', 'T1G', 'T1G', 'T1G', 'T1G', 'T1G', 'T1G', 'T1G', 'T1G', 'T1G', 'T1G', 'T1G', 'T1G', 'T1G', 'T1G', 'T1G', 'T1G', 'T1G', 'T1G', 'T1G', 'T1G', 'T1G', 'T1G', 'T1G', 'T1G', 'T1G', 'T1G', 'T1G', 'T1G', 'T1G', 'T1G', 'T1G', 'T1G', 'T1G', 'T1G', 'T1G', 'T1G', 'T1G', 'T1G', 'T1G', 'T1G', 'T1G', 'T1G', 'T1G', 'T1G', 'T1G', 'T1G', 'T1G', 'T1G', 'T1G', 'T1G', 'T1G', 'T1G', 'T1G', 'T1G', 'T1G', 'T1G', 'T1G', 'T1G', 'T1G', 'T1G', 'T1G', 'T1G', 'T1G', 'T1G', 'T1G', 'T1G', 'T1G', 'T1G', 'T1G', 'T1G', 'T1G', 'T1G', 'T1G', 'T1G', 'T1G', 'T1G', 'T1G', 'T1G', 'T1G', 'T1G', 'T1G', 'T1G', 'T1G', 'T1G', 'T1G', 'T1G', 'T1G', 'T1G', 'T1G', 'T1G', 'T1G', 'T1G', 'T1G', 'T1G', 'T1G', 'T1G', 'T1G', 'T1G', 'T1G', 'T1G', 'T1G', 'T1G', 'T1G', 'T1G', 'T1G', 'T1G', 'T1G', 'T1G', 'T1G', 'T1G', 'T1G', 'T1D', 'T1G', 'T1G', 'T1G', 'T1G', 'T1G', 'T1G', 'T1G', 'T1G', 'T1G', 'T1G', 'T1G', 'T1G', 'T1G', 'T1G', 'T1G', 'T1G', 'T1G', 'T1G', 'T1G', 'T1G', 'T1G', 'T1G', 'T1G', 'T1G', 'T1G', 'T1G', 'T1G', 'T1G', 'T1G', 'T1G', 'T1G', 'T1G', 'T1G', 'T1G', 'T1G', 'T1G', 'T1G', 'T1G', 'T1G', 'T1G', 'T1G', 'T1G', 'T1G', 'T1G', 'T1G', 'T1G', 'T1G', 'T1G', 'T1G', 'T1G', 'T1G', 'T1G', 'T1G', 'T1G', 'T1G', 'T1G', 'T1G', 'T1G', 'T1G', 'T1G', 'T1G', 'T1G', 'T1G', 'T1G', 'T1G', 'T1G', 'T1G', 'T1G', 'T1G', 'T1G', 'T1G', 'T1G', 'T1G', 'T1G', 'T1G', 'T1G', 'T1G', 'T1G', 'T1G', 'T1G', 'T1G', 'T1G', 'T1G', 'T1G', 'T1G', 'T1G', 'T1G', 'T1G', 'T1G', 'T1G', 'T1G', 'T1G', 'T1G', 'T1G', 'T1G', 'T1G', 'T1G', 'T1G', 'T1G', 'T1G', 'T1G', 'T1G', 'T1G', 'T1G', 'T1G', 'T1G', 'T1G', 'T1G', 'T1G', 'T1G', 'T1G', 'T1G', 'T1G', 'T1G', 'T1G', 'T1G', 'T1G', 'T1G', 'T1G', 'T1G', 'T1G', 'T1G', 'T1G', 'T1G', 'T1G', 'T1G', 'T1G', 'T1G', 'T1G', 'T1G', 'T1G', 'T1G', 'T1G', 'T1G', 'T1G', 'T1G', 'T1G', 'T1G', 'T1G', 'T1G', 'T1G', 'T1G', 'T1G', 'T1G', 'T1G', 'T1G', 'T1G', 'T1G', 'T1G', 'T1G', 'T1G', 'T1G', 'T1G', 'T1G', 'T1G', 'T1G', 'T1G', 'T1G', 'T1G', 'T1G', 'T1G', 'T1G', 'T1G', 'T1G', 'T1G', 'T1G', 'T1G', 'T1G', 'T1G', 'T1G', 'T1G', 'T1G', 'T1G', 'T1G', 'T1G', 'T1G', 'T1G', 'T1G', 'T1G', 'T1G', 'T1G', 'T1G', 'T1G', 'T1G', 'T1G', 'T1G', 'T1G', 'T1G', 'T1G', 'T1G', 'T1G', 'T1G', 'T1G', 'T1G', 'T1G', 'T1G', 'T1G', 'T1G', 'T1G', 'T1G', 'T1G', 'T1G', 'T1G', 'T1G', 'T1G', 'T1G', 'T1G', 'T1G', 'T1G', 'T1G', 'T1G', 'T1G', 'T1G', 'T1G', 'T1G', 'T1G', 'T1G', 'T1G', 'T1G', 'T1G', 'T1G', 'T1G', 'T1G', 'T1G', 'T1G', 'T1G', 'T1G', 'T1G', 'T1G', 'T1G', 'T1G', 'T1G', 'T1G', 'T1G', 'T1G', 'T1G', 'T1G', 'T1G', 'T1G', 'T1G', 'T1G', 'T1G', 'T1G', 'T1G', 'T1G', 'T1G', 'T1G', 'T1G', 'T1G', 'T1G', 'T1G', 'T1G', 'T1G', 'T1G', 'T1G', 'T1G', 'T1G', 'T1G', 'T1G', 'T1G', 'T1G', 'T1G', 'T1G', 'T1G', 'T1G', 'T1G', 'T1G', 'T1G', 'T1G', 'T1G', 'T1G', 'T1G', 'T1G', 'T1G', 'T1G', 'T1G', 'T1G', 'T1G', 'T1G', 'T1G', 'T1G', 'T1G', 'T1G', 'T1G', 'T1G', 'T1G', 'T1G', 'T1G', 'T1G', 'T1G', 'T1G', 'T1G', 'T1G', 'T1G', 'T1G', 'T1G', 'T1G', 'T1G', 'T1G', 'T1G', 'T1G', 'T1G', 'T1G', 'T1G', 'T1G', 'T1G', 'T1G', 'T1G', 'T1G', 'T1G', 'T1G', 'T1G', 'T1G', 'T1G', 'T1G', 'T1G', 'T1G', 'T1G', 'T1G', 'T1G', 'T1G', 'T1G', 'T1G', 'T1G', 'T1G', 'T1G', 'T1G', 'T1G', 'T1G', 'T1G', 'T1G', 'T1G', 'T1G', 'T1G', 'T1G', 'T1G', 'T1G', 'T1G', 'T1G', 'T1G', 'T1G', 'T1G', 'T1G', 'T1G', 'T1G', 'T1G', 'T1G', 'T1G', 'T1G', 'T1G', 'T1G', 'T1G', 'T1G', 'T1G', 'T1G', 'T1G', 'T1G', 'T1G', 'T1G', 'T1G', 'T1G', 'T1G', 'T1G', 'T1G', 'T1G', 'T1G', 'T1G', 'T1G', 'T1G', 'T1G', 'T1G', 'T1G', 'T1G', 'T1G', 'T1G', 'T1G', 'T1G', 'T1G', 'T1G', 'T1G', 'T1G', 'T1G', 'T1G', 'T1G', 'T1G', 'T1G', 'T1G', 'T1G', 'T1G', 'T1G', 'T1G', 'T1G', 'T1G', 'T1G', 'T1G', 'T1G', 'T1G', 'T1G', 'T1G', 'T1G', 'T1G', 'T1G', 'T1G', 'T1G', 'T1G', 'T1G', 'T1G', 'T1G', 'T1G', 'T1G', 'T1G', 'T1G', 'T1G', 'T1G', 'T1G', 'T1G', 'T1G', 'T1G', 'T1G', 'T1G', 'T1G', 'T1G', 'T1G', 'T1G', 'T1G', 'T1G', 'T1G', 'T1G', 'T1G', 'T1G', 'T1G', 'T1G', 'T1G', 'T1G', 'T1G', 'T1G', 'T1G', 'T1G', 'T1G', 'T1G', 'T1G', 'T1G', 'T1G', 'T1G', 'T1G', 'T1G', 'T1G', 'T1G', 'T1G', 'T1G', 'T1G', 'T1G', 'T1G', 'T1G', 'T1G', 'T1G', 'T1G', 'T1G', 'T1G', 'T1G', 'T1G', 'T1G', 'T1G', 'T1G', 'T1G', 'T1G', 'T1G', 'T1G', 'T1G', 'T1G', 'T1G', 'T1G', 'T1G', 'T1G', 'T1G', 'T1G', 'T1G', 'T1G', 'T1G', 'T1G', 'T1G', 'T1G', 'T1D', 'T1G', 'T1G', 'T1G', 'T1G', 'T1G', 'T1G', 'T1G', 'T1G', 'T1G', 'T1G', 'T1G', 'T1G', 'T1G', 'T1G', 'T1G', 'T1G', 'T1G', 'T1G', 'T1G', 'T1G', 'T1G', 'T1G', 'T1G', 'T1G', 'T1G', 'T1G', 'T1G', 'T1G', 'T1G', 'T1G', 'T1G', 'T1G', 'T1G', 'T1G', 'T1G', 'T1G', 'T1G', 'T1G', 'T1G', 'T1G', 'T1G', 'T1G', 'T1G', 'T1G', 'T1G', 'T1G', 'T1G', 'T1G', 'T1G', 'T1G', 'T1G', 'T1G', 'T1G', 'T1G', 'T1G', 'T1G', 'T1G', 'T1G', 'T1G', 'T1G', 'T1G', 'T1G', 'T1G', 'T1G', 'T1G', 'T1G', 'T1G', 'T1G', 'T1G', 'T1G', 'T1G', 'T1G', 'T1G', 'T1G', 'T1G', 'T1G', 'T1G', 'T1G', 'T1G', 'T1G', 'T1G', 'T1G', 'T1G', 'T1D', 'T1G', 'T1G', 'T1G', 'T1G', 'T1G', 'T1G', 'T1G', 'T1G', 'T1G', 'T1G', 'T1G', 'T1G', 'T1G', 'T1G', 'T1G', 'T1G', 'T1G', 'T1G', 'T1G', 'T1G', 'T1G', 'T1G', 'T1G', 'T1G', 'T1G', 'T1G', 'T1G', 'T1G', 'T1G', 'T1G', 'T1G', 'T1G', 'T1G', 'T1G', 'T1G', 'T1G', 'T1G', 'T1G', 'T1G', 'T1G', 'T1G', 'T1G', 'T1G', 'T1G', 'T1G', 'T1G', 'T1G', 'T1G', 'T1G', 'T1G', 'T1G', 'T1G', 'T1G', 'T1G', 'T1G', 'T1G', 'T1G', 'T1G', 'T1G', 'T1G', 'T1G', 'T1G', 'T1G', 'T1G', 'T1G', 'T1G', 'T1G', 'T1G', 'T1G', 'T1G', 'T1G', 'T1G', 'T1D', 'T1G', 'T1G', 'T1G', 'T1G', 'T1G', 'T1G', 'T1G', 'T1G', 'T1G', 'T1G', 'T1G', 'T1G', 'T1G', 'T1G', 'T1G', 'T1G', 'T1D', 'T1G', 'T1G', 'T1G', 'T1G', 'T1G', 'T1G', 'T1G', 'T1G', 'T1G', 'T1G', 'T1G', 'T1G', 'T1G', 'T1G', 'T1G', 'T1G', 'T1G', 'T1G', 'T1G', 'T1G', 'T1G', 'T1G', 'T1G', 'T1G', 'T1G', 'T1G', 'T1G', 'T1G', 'T1G', 'T1G', 'T1G', 'T1G', 'T1G', 'T1G', 'T1D', 'T1G', 'T1G', 'T1G', 'T1G', 'T1G', 'T1G', 'T1G', 'T1G', 'T1G', 'T1G', 'T1G', 'T1G', 'T1G', 'T1G', 'T1G', 'T1G', 'T1G', 'T1G', 'T1G', 'T1G', 'T1G', 'T1G', 'T1G', 'T1G', 'T1G', 'T1G', 'T1G', 'T1G', 'T1G', 'T1G', 'T1G', 'T1G', 'T1G', 'T1G', 'T1G', 'T1G', 'T1G', 'T1G', 'T1G', 'T1G', 'T1G', 'T1G', 'T1G', 'T1G', 'T1G', 'T1G', 'T1G', 'T1G', 'T1G', 'T1G', 'T1G', 'T1G', 'T1G', 'T1G', 'T1G', 'T1G', 'T1G', 'T1G', 'T1G', 'T1G', 'T1G', 'T1G', 'T1G', 'T1G', 'T1G', 'T1G', 'T1G', 'T1G', 'T1G', 'T1G', 'T1D', 'T1G', 'T1G', 'T1G', 'T1G', 'T1G', 'T1G', 'T1G', 'T1G', 'T1G', 'T1G', 'T1G', 'T1G', 'T1G', 'T1G', 'T1G', 'T1G', 'T1G', 'T1G', 'T1G', 'T1G', 'T1G', 'T1G', 'T1G', 'T1D', 'T1G', 'T1G', 'T1G', 'T1G', 'T1G', 'T1G', 'T1G', 'T1G', 'T1G', 'T1G', 'T1G', 'T1G', 'T1G', 'T1G', 'T1G', 'T1G', 'T1G', 'T1G', 'T1G', 'T1G', 'T1G', 'T1G', 'T1G', 'T1G', 'T1G', 'T1G', 'T1G', 'T1D', 'T1G', 'T1G', 'T1G', 'T1G', 'T1G', 'T1G', 'T1G', 'T1G', 'T1G', 'T1G', 'T1G', 'T1G', 'T1G', 'T1G', 'T1G', 'T1G', 'T1G', 'T1G', 'T1G', 'T1G', 'T1G', 'T1G', 'T1G', 'T1G', 'T1G', 'T1G', 'T1D', 'T1G', 'T1G', 'T1G', 'T1G', 'T1G', 'T1G', 'T1G', 'T1G', 'T1G', 'T1D', 'T1G', 'T1G', 'T1G', 'T1D', 'T1G', 'T1G', 'T1G', 'T1G', 'T1G', 'T1G', 'T1G', 'T1G', 'T1G', 'T1G', 'T1G', 'T1G', 'T1G', 'T1G', 'T1G', 'T1G', 'T1G', 'T1G', 'T1G', 'T1G', 'T1G', 'T1G', 'T1G', 'T1G', 'T1G', 'T1G', 'T1G', 'T1G', 'T1G', 'T1G', 'T1G', 'T1G', 'T1G', 'T1G', 'T1G', 'T1G', 'T1G', 'T1G', 'T1G', 'T1G', 'T1G', 'T1G', 'T1G', 'T1G', 'T1G', 'T1G', 'T1G', 'T1G', 'T1G', 'T1G', 'T1G', 'T1G', 'T1G', 'T1G', 'T1G', 'T1G', 'T1G', 'T1G', 'T1G', 'T1G', 'T1G', 'T1G', 'T1G', 'T1G', 'T1G', 'T1G', 'T1G', 'T1G', 'T1G', 'T1G', 'T1G', 'T1G', 'T1G', 'T1G', 'T1G', 'T1G', 'T1G', 'T1G', 'T1G', 'T1G', 'T1G', 'T1G', 'T1G', 'T1G', 'T1G', 'T1G', 'T1G', 'T1G', 'T1G', 'T1G', 'T1G', 'T1G', 'T1G', 'T1G', 'T1G', 'T1G', 'T1G', 'T1G', 'T1G', 'T1G', 'T1G', 'T1G', 'T1G', 'T1G', 'T1G', 'T1G', 'T1G', 'T1G', 'T1G', 'T1G', 'T1G', 'T1G', 'T1G', 'T1G', 'T1G', 'T1G', 'T1G', 'T1G', 'T1G', 'T1G', 'T1G', 'T1G', 'T1G', 'T1G', 'T1G', 'T1G', 'T1G', 'T1G', 'T1G', 'T1G', 'T1G', 'T1G', 'T1G', 'T1G', 'T1G', 'T1G', 'T1G', 'T1G', 'T1G', 'T1G', 'T1G', 'T1G', 'T1G', 'T1G', 'T1G', 'T1G', 'T1G', 'T1G', 'T1G', 'T1G', 'T1G', 'T1G', 'T1G', 'T1G', 'T1G', 'T1G', 'T1G', 'T1G', 'T1G', 'T1G', 'T1G', 'T1G', 'T1G', 'T1G', 'T1G', 'T1G', 'T1G', 'T1G', 'T1G', 'T1G', 'T1G', 'T1G', 'T1G', 'T1G', 'T1G', 'T1G', 'T1G', 'T1G', 'T1G', 'T1G', 'T1G', 'T1G', 'T1G', 'T1G', 'T1G', 'T1G', 'T1G', 'T1G', 'T1G', 'T1G', 'T1G', 'T1G', 'T1G', 'T1G', 'T1G', 'T1G', 'T1G', 'T1G', 'T1G', 'T1G', 'T1G', 'T1G', 'T1G', 'T1G', 'T1G', 'T1G', 'T1G', 'T1G', 'T1G', 'T1G', 'T1G', 'T1G', 'T1G', 'T1G', 'T1G', 'T1G', 'T1G', 'T1G', 'T1G', 'T1G', 'T1G', 'T1G', 'T1G', 'T1G', 'T1G', 'T1G', 'T1G', 'T1G', 'T1G', 'T1G', 'T1G', 'T1G', 'T1G', 'T1G', 'T1G', 'T1G', 'T1G', 'T1G', 'T1G', 'T1G', 'T1G', 'T1G', 'T1G', 'T1G', 'T1G', 'T1G', 'T1G', 'T1G', 'T1G', 'T1G', 'T1G', 'T1G', 'T1G', 'T1G', 'T1G', 'T1G', 'T1G', 'T1G', 'T1G', 'T1G', 'T1G', 'T1G', 'T1G', 'T1G', 'T1G', 'T1G', 'T1G', 'T1G', 'T1G', 'T1G', 'T1G', 'T1G', 'T1G', 'T1G', 'T1G', 'T1G', 'T1G', 'T1G', 'T1G', 'T1G', 'T1G', 'T1G', 'T1G', 'T1G', 'T1G', 'T1G', 'T1G', 'T1G', 'T1G', 'T1G', 'T1G', 'T1G', 'T1G', 'T1G', 'T1G', 'T1G', 'T1G', 'T1G', 'T1G', 'T1G', 'T1G', 'T1G', 'T1G', 'T1G', 'T1G', 'T1G', 'T1G', 'T1G', 'T1G', 'T1G', 'T1G', 'T1G', 'T1G', 'T1G', 'T1G', 'T1G', 'T1G', 'T1G', 'T1G', 'T1G', 'T1G', 'T1G', 'T1G', 'T1G', 'T1G', 'T1G', 'T1G', 'T1G', 'T1G', 'T1G', 'T1G', 'T1G', 'T1G', 'T1G', 'T1G', 'T1G', 'T1G', 'T1G', 'T1G', 'T1G', 'T1G', 'T1G', 'T1G', 'T1G', 'T1G', 'T1G', 'T1G', 'T1G', 'T1G', 'T1G', 'T1G', 'T1G', 'T1G', 'T1G', 'T1G', 'T1G', 'T1G', 'T1G', 'T1G', 'T1G', 'T1G', 'T1G', 'T1G', 'T1G', 'T1G', 'T1G', 'T1G', 'T1G', 'T1G', 'T1G', 'T1G', 'T1G', 'T1G', 'T1G', 'T1G', 'T1G', 'T1G', 'T1G', 'T1G', 'T1G', 'T1G', 'T1G', 'T1G', 'T1G', 'T1G', 'T1G', 'T1G', 'T1G', 'T1G', 'T1G', 'T1G', 'T1G', 'T1G', 'T1G', 'T1G', 'T1G', 'T1G', 'T1G', 'T1G', 'T1G', 'T1G', 'T1G', 'T1G', 'T1G', 'T1G', 'T1G', 'T1G', 'T1G', 'T1G', 'T1G', 'T1G', 'T1G', 'T1G', 'T1G', 'T1G', 'T1G', 'T1G', 'T1G', 'T1G', 'T1G', 'T1G', 'T1G', 'T1G', 'T1G', 'T1G', 'T1G', 'T1G', 'T1G', 'T1G', 'T1G', 'T1G', 'T1G', 'T1G', 'T1G', 'T1G', 'T1G', 'T1G', 'T1G', 'T1G', 'T1G', 'T1G', 'T1D', 'T1D', 'T1G', 'T1G', 'T1G', 'T1G', 'T1G', 'T1G', 'T1G', 'T1G', 'T1G', 'T1G', 'T1G', 'T1G', 'T1G', 'T1G', 'T1G', 'T1G', 'T1G', 'T1G', 'T1G', 'T1G', 'T1G', 'T1G', 'T1G', 'T1G', 'T1G', 'T1G', 'T1G', 'T1G', 'T1G', 'T1G', 'T1G', 'T1G', 'T1G', 'T1G', 'T1G', 'T1G', 'T1G', 'T1G', 'T1G', 'T1G', 'T1G', 'T1G', 'T1G', 'T1G', 'T1G', 'T1G', 'T1G', 'T1G', 'T1G', 'T1G', 'T1G', 'T1G', 'T1G', 'T1G', 'T1G', 'T1G', 'T1G', 'T1G', 'T1G', 'T1G', 'T1G', 'T1G', 'T1G', 'T1G', 'T1G', 'T1G', 'T1G', 'T1G', 'T1G', 'T1G', 'T1G', 'T1G', 'T1G', 'T1G', 'T1G', 'T1G', 'T1G', 'T1G', 'T1G', 'T1G', 'T1G', 'T1G', 'T1G', 'T1G', 'T1G', 'T1G', 'T1G', 'T1G', 'T1G', 'T1G', 'T1G', 'T1G', 'T1G', 'T1G', 'T1G', 'T1G', 'T1D', 'T1G', 'T1G', 'T1G', 'T1G', 'T1G', 'T1G', 'T1G', 'T1G', 'T1G', 'T1G', 'T1G', 'T1G', 'T1G', 'T1G', 'T1G', 'T1G', 'T1G', 'T1G', 'T1G', 'T1G', 'T1G', 'T1G', 'T1G', 'T1G', 'T1G', 'T1G', 'T1G', 'T1G', 'T1G', 'T1G', 'T1G', 'T1G', 'T1G', 'T1G', 'T1G', 'T1G', 'T1G', 'T1G', 'T1G', 'T1G', 'T1G', 'T1G', 'T1G', 'T1G', 'T1G', 'T1G', 'T1G', 'T1G', 'T1G', 'T1G', 'T1G', 'T1G', 'T1G', 'T1G', 'T1G', 'T1G', 'T1G', 'T1G', 'T1G', 'T1G', 'T1G', 'T1G', 'T1G', 'T1G', 'T1G', 'T1G', 'T1G', 'T1G', 'T1G', 'T1G', 'T1G', 'T1G', 'T1G', 'T1G', 'T1G', 'T1G', 'T1G', 'T1G', 'T1G', 'T1G', 'T1G', 'T1G', 'T1G', 'T1G', 'T1G', 'T1G', 'T1G', 'T1G', 'T1G', 'T1G', 'T1G', 'T1G', 'T1G', 'T1G', 'T1G', 'T1G', 'T1G', 'T1G', 'T1G', 'T1G', 'T1G', 'T1G', 'T1G', 'T1G', 'T1G', 'T1G', 'T1G', 'T1G', 'T1G', 'T1G', 'T1G', 'T1G', 'T1G', 'T1G', 'T1G', 'T1G', 'T1G', 'T1G', 'T1G', 'T1G', 'T1G', 'T1G', 'T1G', 'T1G', 'T1G', 'T1G', 'T1G', 'T1G', 'T1G', 'T1G', 'T1G', 'T1G', 'T1G', 'T1G', 'T1G', 'T1G', 'T1G', 'T1G', 'T1G', 'T1G', 'T1G', 'T1G', 'T1G', 'T1G', 'T1G', 'T1G', 'T1G', 'T1G', 'T1G', 'T1G', 'T1G', 'T1G', 'T1G', 'T1G', 'T1G', 'T1G', 'T1G', 'T1G', 'T1G', 'T1G', 'T1G', 'T1G', 'T1G', 'T1G', 'T1G', 'T1G', 'T1G', 'T1G', 'T1G', 'T1G', 'T1G', 'T1G', 'T1G', 'T1G', 'T1G', 'T1G', 'T1G', 'T1G', 'T1G', 'T1G', 'T1G', 'T1G', 'T1G', 'T1G', 'T1G', 'T1G', 'T1G', 'T1G', 'T1G', 'T1G', 'T1G', 'T1G', 'T1G', 'T1G', 'T1G', 'T1G', 'T1G', 'T1G', 'T1G', 'T1G', 'T1G', 'T1G', 'T1G', 'T1G', 'T1G', 'T1G', 'T1G', 'T1G', 'T1G', 'T1G', 'T1G', 'T1G', 'T1G', 'T1G', 'T1G', 'T1G', 'T1G', 'T1G', 'T1G', 'T1G', 'T1G', 'T1G', 'T1G', 'T1G', 'T1G', 'T1G', 'T1G', 'T1G', 'T1G', 'T1G', 'T1G', 'T1G', 'T1G', 'T1G', 'T1G', 'T1G', 'T1G', 'T1G', 'T1G', 'T1G', 'T1G', 'T1G', 'T1G', 'T1G', 'T1G', 'T1G', 'T1G', 'T1G', 'T1G', 'T1G', 'T1G', 'T1G', 'T1G', 'T1G', 'T1G', 'T1G', 'T1G', 'T1G', 'T1G', 'T1G', 'T1G', 'T1G', 'T1G', 'T1G', 'T1G', 'T1G', 'T1G', 'T1G', 'T1G', 'T1G', 'T1G', 'T1G', 'T1G', 'T1G', 'T1G', 'T1G', 'T1G', 'T1G', 'T1G', 'T1G', 'T1G', 'T1G', 'T1G', 'T1G', 'T1G', 'T1G', 'T1G', 'T1G', 'T1G', 'T1G', 'T1G', 'T1G', 'T1G', 'T1G', 'T1G', 'T1G', 'T1G', 'T1G', 'T1G', 'T1G', 'T1G', 'T1G', 'T1G', 'T1G', 'T1G', 'T1G', 'T1G', 'T1G', 'T1G', 'T1G', 'T1G', 'T1G', 'T1G', 'T1G', 'T1G', 'T1G', 'T1G', 'T1G', 'T1G', 'T1G', 'T1G', 'T1G', 'T1G', 'T1G', 'T1G', 'T1G', 'T1G', 'T1G', 'T1G', 'T1G', 'T1G', 'T1G', 'T1G', 'T1G', 'T1G', 'T1G', 'T1G', 'T1G', 'T1G', 'T1G', 'T1G', 'T1G', 'T1G', 'T1G', 'T1G', 'T1G', 'T1G', 'T1G', 'T1G', 'T1G', 'T1G', 'T1G', 'T1G', 'T1G', 'T1G', 'T1G', 'T1G', 'T1G', 'T1G', 'T1G', 'T1G', 'T1G', 'T1G', 'T1G', 'T1G', 'T1G', 'T1G', 'T1G', 'T1G', 'T1G', 'T1G', 'T1G', 'T1G', 'T1G', 'T1G', 'T1G', 'T1G', 'T1G', 'T1G', 'T1G', 'T1G', 'T1G', 'T1G', 'T1G', 'T1G', 'T1G', 'T1G', 'T1G', 'T1G', 'T1G', 'T1G', 'T1G', 'T1G', 'T1G', 'T1G', 'T1G', 'T1G', 'T1G', 'T1G', 'T1G', 'T1G', 'T1G', 'T1G', 'T1G', 'T1G', 'T1G', 'T1G', 'T1G', 'T1G', 'T1G', 'T1G', 'T1G', 'T1G', 'T1G', 'T1G', 'T1G', 'T1G', 'T1G', 'T1G', 'T1G', 'T1G', 'T1G', 'T1G', 'T1G', 'T1G', 'T1G', 'T1G', 'T1G', 'T1G', 'T1G', 'T1G', 'T1G', 'T1G', 'T1G', 'T1G', 'T1G', 'T1G', 'T1G', 'T1G', 'T1G', 'T1G', 'T1G', 'T1G', 'T1G', 'T1G', 'T1G', 'T1G', 'T1G', 'T1G', 'T1G', 'T1G', 'T1G', 'T1G', 'T1G', 'T1G', 'T1G', 'T1G', 'T1G', 'T1G', 'T1G', 'T1G', 'T1G', 'T1G', 'T1G', 'T1G', 'T1G', 'T1G', 'T1G', 'T1G', 'T1G', 'T1G', 'T1G', 'T1G', 'T1G', 'T1G', 'T1G', 'T1G', 'T1G', 'T1G', 'T1G', 'T1G', 'T1G', 'T1G', 'T1G', 'T1G', 'T1G', 'T1G', 'T1G', 'T1G', 'T1G', 'T1G', 'T1G', 'T1G', 'T1G', 'T1G', 'T1G', 'T1G', 'T1G', 'T1G', 'T1G', 'T1G', 'T1G', 'T1G', 'T1G', 'T1G', 'T1G', 'T1G', 'T1G', 'T1G', 'T1G', 'T1G', 'T1G', 'T1G', 'T1G', 'T1G', 'T1G', 'T1G', 'T1G', 'T1G', 'T1G', 'T1G', 'T1G', 'T1G', 'T1G', 'T1G', 'T1G', 'T1G', 'T1G', 'T1G', 'T1G', 'T1G', 'T1G', 'T1G', 'T1G', 'T1G', 'T1G', 'T1G', 'T1G', 'T1G', 'T1G', 'T1G', 'T1G', 'T1G', 'T1G', 'T1G', 'T1G', 'T1G', 'T1G', 'T1G', 'T1G', 'T1G', 'T1G', 'T1G', 'T1G', 'T1G', 'T1G', 'T1G', 'T1G', 'T1G', 'T1G', 'T1G', 'T1G', 'T1G', 'T1G', 'T1G', 'T1G', 'T1G', 'T1G', 'T1G', 'T1G', 'T1G', 'T1G', 'T1G', 'T1G', 'T1G', 'T1G', 'T1G', 'T1G', 'T1G', 'T1G', 'T1G', 'T1G', 'T1G', 'T1G', 'T1G', 'T1G', 'T1G', 'T1G', 'T1G', 'T1G', 'T1G', 'T1D', 'T1G', 'T1G', 'T1G', 'T1G', 'T1G', 'T1G', 'T1G', 'T1G', 'T1G', 'T1G', 'T1G', 'T1G', 'T1G', 'T1G', 'T1G', 'T1G', 'T1G', 'T1G', 'T1G', 'T1G', 'T1G', 'T1G', 'T1G', 'T1G', 'T1G', 'T1G', 'T1G', 'T1G', 'T1G', 'T1G', 'T1G', 'T1G', 'T1G', 'T1G', 'T1G', 'T1G', 'T1G', 'T1G', 'T1G', 'T1G', 'T1G', 'T1G', 'T1G', 'T1G', 'T1G', 'T1G', 'T1G', 'T1G', 'T1G', 'T1G', 'T1G', 'T1G', 'T1G', 'T1G', 'T1G', 'T1G', 'T1G', 'T1G', 'T1G', 'T1G', 'T1G', 'T1G', 'T1G', 'T1G', 'T1G', 'T1G', 'T1G', 'T1G', 'T1G', 'T1G', 'T1G', 'T1G', 'T1G', 'T1G', 'T1G', 'T1G', 'T1G', 'T1G', 'T1G', 'T1G', 'T1G', 'T1G', 'T1G', 'T1G', 'T1G', 'T1G', 'T1G', 'T1G', 'T1G', 'T1G', 'T1G', 'T1G', 'T1G', 'T1G', 'T1G', 'T1G', 'T1G', 'T1G', 'T1G', 'T1G', 'T1G', 'T1G', 'T1G', 'T1G', 'T1G', 'T1G', 'T1D', 'T1G', 'T1G', 'T1G', 'T1G', 'T1G', 'T1G', 'T1G', 'T1G', 'T1G', 'T1G', 'T1G', 'T1G', 'T1G', 'T1G', 'T1G', 'T1G', 'T1G', 'T1G', 'T1G', 'T1G', 'T1G', 'T1G', 'T1G', 'T1G', 'T1G', 'T1G', 'T1G', 'T1G', 'T1G', 'T1G', 'T1G', 'T1G', 'T1G', 'T1G', 'T1G', 'T1G', 'T1G', 'T1G', 'T1G', 'T1G', 'T1G', 'T1G', 'T1G', 'T1G', 'T1G', 'T1G', 'T1G', 'T1G', 'T1G', 'T1G', 'T1G', 'T1G', 'T1G', 'T1G', 'T1G', 'T1G', 'T1G', 'T1G', 'T1G', 'T1G', 'T1G', 'T1G', 'T1G', 'T1D', 'T1G', 'T1G', 'T1G', 'T1G', 'T1G', 'T1G', 'T1G', 'T1G', 'T1G', 'T1G', 'T1G', 'T1G', 'T1G', 'T1G', 'T1G', 'T1G', 'T1G', 'T1G', 'T1G', 'T1G', 'T1G', 'T1G', 'T1G', 'T1G', 'T1G', 'T1G', 'T1G', 'T1G', 'T1G', 'T1G', 'T1G', 'T1G', 'T1G', 'T1G', 'T1G', 'T1G', 'T1G', 'T1G', 'T1G', 'T1G', 'T1G', 'T1G', 'T1G', 'T1G', 'T1G', 'T1G', 'T1G', 'T1G', 'T1G', 'T1G', 'T1G', 'T1G', 'T1G', 'T1G', 'T1G', 'T1G', 'T1G', 'T1G', 'T1G', 'T1G', 'T1G', 'T1G', 'T1G', 'T1G', 'T1G', 'T1G', 'T1G', 'T1G', 'T1G', 'T1G', 'T1G', 'T1G', 'T1G', 'T1G', 'T1G', 'T1G', 'T1G', 'T1G', 'T1G', 'T1G', 'T1G', 'T1G', 'T1G', 'T1G', 'T1G', 'T1G', 'T1G', 'T1G', 'T1G', 'T1G', 'T1G', 'T1G', 'T1G', 'T1G', 'T1G', 'T1G', 'T1G', 'T1G', 'T1G', 'T1G', 'T1G', 'T1G', 'T1G', 'T1G', 'T1G', 'T1G', 'T1G', 'T1G', 'T1G', 'T1G', 'T1G', 'T1G', 'T1G', 'T1G', 'T1G', 'T1G', 'T1G', 'T1G', 'T1G', 'T1G', 'T1G', 'T1G', 'T1G', 'T1G', 'T1G', 'T1G', 'T1G', 'T1G', 'T1D', 'T1G', 'T1G', 'T1G', 'T1G', 'T1G', 'T1G', 'T1G', 'T1G', 'T1G', 'T1G', 'T1G', 'T1G', 'T1G', 'T1G', 'T1G', 'T1G', 'T1G', 'T1G', 'T1D', 'T1G', 'T1G', 'T1D', 'T1G', 'T1G', 'T1G', 'T1G', 'T1G', 'T1G', 'T1G', 'T1G', 'T1G', 'T1G', 'T1G', 'T1G', 'T1G', 'T1G', 'T1G', 'T1G', 'T1G', 'T1G', 'T1G', 'T1G', 'T1G', 'T1G', 'T1G', 'T1G', 'T1G', 'T1G', 'T1G', 'T1G', 'T1G', 'T1G', 'T1G', 'T1G', 'T1G', 'T1G', 'T1G', 'T1G', 'T1D', 'T1G', 'T1G', 'T1G', 'T1G', 'T1G', 'T1G', 'T1G', 'T1D', 'T1G', 'T1G', 'T1G', 'T1G', 'T1G', 'T1G', 'T1G', 'T1G', 'T1G', 'T1G', 'T1G', 'T1G', 'T1G', 'T1G', 'T1G', 'T1G', 'T1G', 'T1G', 'T1G', 'T1G', 'T1G', 'T1G', 'T1G', 'T1G', 'T1G', 'T1G', 'T1G', 'T1G', 'T1G', 'T1G', 'T1G', 'T1G', 'T1G', 'T1G', 'T1G', 'T1G', 'T1G', 'T1G', 'T1G', 'T1G', 'T1G', 'T1G', 'T1G', 'T1G', 'T1G', 'T1G', 'T1G', 'T1G', 'T1G', 'T1G', 'T1G', 'T1G', 'T1G', 'T1G', 'T1G', 'T1G', 'T1G', 'T1G', 'T1G', 'T1G', 'T1G', 'T1G', 'T1G', 'T1G', 'T1G', 'T1G', 'T1G', 'T1G', 'T1G', 'T1G', 'T1G', 'T1G', 'T1G', 'T1G', 'T1G', 'T1G', 'T1G', 'T1G', 'T1G', 'T1G', 'T1G', 'T1G', 'T1G', 'T1G', 'T1G', 'T1G', 'T1G', 'T1G', 'T1G', 'T1G', 'T1G', 'T1G', 'T1G', 'T1G', 'T1G', 'T1G', 'T1G', 'T1G', 'T1G', 'T1G', 'T1G', 'T1G', 'T1G', 'T1G', 'T1G', 'T1G', 'T1G', 'T1G', 'T1G', 'T1G', 'T1D', 'T1G', 'T1G', 'T1G', 'T1G', 'T1G', 'T1G', 'T1G', 'T1G', 'T1G', 'T1G', 'T1G', 'T1G', 'T1G', 'T1G', 'T1G', 'T1G', 'T1G', 'T1G', 'T1G', 'T1G', 'T1G', 'T1G', 'T1G', 'T1G', 'T1G', 'T1G', 'T1G', 'T1G', 'T1G', 'T1G', 'T1G', 'T1G', 'T1G', 'T1G', 'T1G', 'T1G', 'T1G', 'T1G', 'T1G', 'T1G', 'T1G', 'T1G', 'T1G', 'T1G', 'T1G', 'T1G', 'T1G', 'T1G', 'T1G', 'T1G', 'T1G', 'T1G', 'T1G', 'T1G', 'T1G', 'T1G', 'T1G', 'T1G', 'T1G', 'T1G', 'T1G', 'T1G', 'T1G', 'T1G', 'T1G', 'T1D', 'T1G', 'T1G', 'T1G', 'T1G', 'T1G', 'T1G', 'T1G', 'T1G', 'T1G', 'T1G', 'T1G', 'T1G', 'T1G', 'T1G', 'T1G', 'T1G', 'T1G', 'T1G', 'T1G', 'T1G', 'T1G', 'T1G', 'T1G', 'T1G', 'T1G', 'T1G', 'T1G', 'T1G', 'T1G', 'T1G', 'T1G', 'T1G', 'T1G', 'T1G', 'T1G', 'T1G', 'T1G', 'T1G', 'T1G', 'T1G', 'T1G', 'T1G', 'T1G', 'T1G', 'T1D', 'T1G', 'T1G', 'T1G', 'T1G', 'T1G', 'T1G', 'T1G', 'T1G', 'T1G', 'T1G', 'T1G', 'T1G', 'T1G', 'T1G', 'T1G', 'T1G', 'T1G', 'T1G', 'T1G', 'T1G', 'T1G', 'T1G', 'T1G', 'T1G', 'T1G', 'T1G', 'T1G', 'T1G', 'T1G', 'T1G', 'T1G', 'T1G', 'T1G', 'T1G', 'T1G', 'T1G', 'T1G', 'T1G', 'T1G', 'T1G', 'T1G', 'T1G', 'T1G', 'T1G', 'T1G', 'T1G', 'T1G', 'T1G', 'T1G', 'T1G', 'T1G', 'T1G', 'T1G', 'T1G', 'T1G', 'T1G', 'T1G', 'T1G', 'T1G', 'T1G', 'T1G', 'T1G', 'T1G', 'T1G', 'T1G', 'T1G', 'T1G', 'T1G', 'T1G', 'T1G', 'T1G', 'T1G', 'T1G', 'T1G', 'T1G', 'T1G', 'T1G', 'T1G', 'T1G', 'T1G', 'T1G', 'T1G', 'T1G', 'T1G', 'T1G', 'T1G', 'T1G', 'T1G', 'T1G', 'T1G', 'T1G', 'T1G', 'T1G', 'T1G', 'T1G', 'T1G', 'T1G', 'T1G', 'T1G', 'T1G', 'T1G', 'T1G', 'T1G', 'T1G', 'T1G', 'T1G', 'T1G', 'T1G', 'T1G', 'T1G', 'T1G', 'T1G', 'T1G', 'T1G', 'T1G', 'T1G', 'T1G', 'T1G', 'T1G', 'T1G', 'T1G', 'T1G', 'T1G', 'T1G', 'T1G', 'T1G', 'T1G', 'T1G', 'T1G', 'T1G', 'T1G', 'T1G', 'T1G', 'T1G', 'T1G', 'T1G', 'T1G', 'T1G', 'T1G', 'T1G', 'T1G', 'T1G', 'T1G', 'T1G', 'T1G', 'T1G', 'T1G', 'T1G', 'T1G', 'T1G', 'T1G', 'T1G', 'T1G', 'T1G', 'T1G', 'T1G', 'T1G', 'T1G', 'T1G', 'T1G', 'T1G', 'T1G', 'T1G', 'T1G', 'T1G', 'T1G', 'T1G', 'T1G', 'T1G', 'T1G', 'T1G', 'T1G', 'T1G', 'T1G', 'T1G', 'T1G', 'T1G', 'T1G', 'T1G', 'T1G', 'T1G', 'T1G', 'T1G', 'T1G', 'T1G', 'T1G', 'T1G', 'T1G', 'T1G', 'T1G', 'T1G', 'T1G', 'T1G', 'T1G', 'T1G', 'T1G', 'T1G', 'T1G', 'T1G', 'T1G', 'T1G', 'T1G', 'T1G', 'T1G', 'T1G', 'T1G', 'T1G', 'T1G', 'T1G', 'T1G', 'T1G', 'T1G', 'T1G', 'T1G', 'T1G', 'T1G', 'T1G', 'T1G', 'T1G', 'T1G', 'T1G', 'T1G', 'T1G', 'T1G', 'T1G', 'T1G', 'T1G', 'T1G', 'T1G', 'T1G', 'T1G', 'T1G', 'T1G', 'T1G', 'T1G', 'T1G', 'T1G', 'T1G', 'T1G', 'T1G', 'T1G', 'T1G', 'T1G', 'T1G', 'T1G', 'T1G', 'T1G', 'T1G', 'T1G', 'T1G', 'T1G', 'T1G', 'T1G', 'T1G', 'T1G', 'T1G', 'T1G', 'T1G', 'T1G', 'T1G', 'T1G', 'T1G', 'T1G', 'T1G', 'T1G', 'T1G', 'T1G', 'T1G', 'T1G', 'T1G', 'T1G', 'T1G', 'T1G', 'T1G', 'T1G', 'T1G', 'T1G', 'T1G', 'T1G', 'T1G', 'T1G', 'T1G', 'T1G', 'T1G', 'T1G', 'T1G', 'T1G', 'T1G', 'T1G', 'T1G', 'T1G', 'T1G', 'T1G', 'T1G', 'T1G', 'T1G', 'T1G', 'T1G', 'T1G', 'T1G', 'T1G', 'T1G', 'T1G', 'T1G', 'T1G', 'T1G', 'T1G', 'T1G', 'T1G', 'T1G', 'T1G', 'T1G', 'T1G', 'T1G', 'T1G', 'T1G', 'T1G', 'T1G', 'T1G', 'T1G', 'T1G', 'T1G', 'T1G', 'T1G', 'T1G', 'T1G', 'T1G', 'T1G', 'T1G', 'T1G', 'T1G', 'T1G', 'T1G', 'T1G', 'T1G', 'T1G', 'T1G', 'T1G', 'T1G', 'T1G', 'T1G', 'T1G', 'T1G', 'T1G', 'T1G', 'T1G', 'T1G', 'T1G', 'T1G', 'T1G', 'T1G', 'T1G', 'T1G', 'T1G', 'T1G', 'T1G', 'T1G', 'T1G', 'T1G', 'T1G', 'T1G', 'T1G', 'T1G', 'T1G', 'T1G', 'T1G', 'T1G', 'T1G', 'T1G', 'T1G', 'T1G', 'T1G', 'T1G', 'T1G', 'T1G', 'T1G', 'T1G', 'T1G', 'T1G', 'T1G', 'T1G', 'T1G', 'T1G', 'T1G', 'T1G', 'T1G', 'T1G', 'T1G', 'T1G', 'T1G', 'T1G', 'T1G', 'T1G', 'T1G', 'T1G', 'T1G', 'T1G', 'T1G', 'T1G', 'T1G', 'T1G', 'T1G', 'T1G', 'T1G', 'T1G', 'T1G', 'T1G', 'T1G', 'T1D', 'T1G', 'T1G', 'T1G', 'T1G', 'T1G', 'T1G', 'T1G', 'T1G', 'T1G', 'T1G', 'T1D', 'T1G', 'T1G', 'T1G', 'T1G', 'T1D', 'T1G', 'T1G', 'T1G', 'T1G', 'T1G', 'T1G', 'T1G', 'T1G', 'T1G', 'T1G', 'T1G', 'T1G', 'T1G', 'T1G', 'T1G', 'T1G', 'T1G', 'T1G', 'T1G', 'T1G', 'T1G', 'T1G', 'T1G', 'T1G', 'T1G', 'T1G', 'T1G', 'T1G', 'T1G', 'T1D', 'T1G', 'T1D', 'T1G', 'T1G', 'T1G', 'T1G', 'T1G', 'T1G', 'T1G', 'T1G', 'T1G', 'T1G', 'T1G', 'T1G', 'T1G', 'T1G', 'T1G', 'T1G', 'T1G', 'T1G', 'T1D', 'T1G', 'T1G', 'T1G', 'T1G', 'T1G', 'T1G', 'T1G', 'T1G', 'T1G', 'T1G', 'T1G', 'T1G', 'T1G', 'T1G', 'T1G', 'T1G', 'T1G', 'T1G', 'T1G', 'T1G', 'T1G', 'T1G', 'T1G', 'T1G', 'T1G', 'T1G', 'T1G', 'T1G', 'T1G', 'T1G', 'T1G', 'T1G', 'T1G', 'T1G', 'T1G', 'T1G', 'T1G', 'T1G', 'T1G', 'T1G', 'T1G', 'T1G', 'T1G', 'T1G', 'T1G', 'T1G', 'T1G', 'T1G', 'T1G', 'T1G', 'T1G', 'T1G', 'T1G', 'T1G', 'T1G', 'T1G', 'T1G', 'T1G', 'T1G', 'T1G', 'T1G', 'T1G', 'T1G', 'T1G', 'T1G', 'T1G', 'T1G', 'T1G', 'T1G', 'T1G', 'T1G', 'T1G', 'T1G', 'T1G', 'T1G', 'T1G', 'T1G', 'T1G', 'T1G', 'T1G', 'T1G', 'T1G', 'T1G', 'T1G', 'T1G', 'T1G', 'T1G', 'T1G', 'T1G', 'T1G', 'T1G', 'T1G', 'T1G', 'T1G', 'T1G', 'T1G', 'T1G', 'T1D', 'T1G', 'T1G', 'T1G', 'T1G', 'T1G', 'T1G', 'T1G', 'T1G', 'T1G', 'T1G', 'T1G', 'T1G', 'T1G', 'T1G', 'T1G', 'T1G', 'T1G', 'T1G', 'T1G', 'T1G', 'T1G', 'T1G', 'T1G', 'T1G', 'T1G', 'T1G', 'T1G', 'T1G', 'T1G', 'T1G', 'T1G', 'T1G', 'T1G', 'T1G', 'T1G', 'T1G', 'T1G', 'T1G', 'T1G', 'T1G', 'T1G', 'T1G', 'T1G', 'T1G', 'T1G', 'T1D', 'T1G', 'T1G', 'T1G', 'T1G', 'T1G', 'T1G', 'T1G', 'T1G', 'T1G', 'T1G', 'T1G', 'T1G', 'T1G', 'T1G', 'T1G', 'T1G', 'T1G', 'T1G', 'T1G', 'T1G', 'T1G', 'T1G', 'T1G', 'T1G', 'T1G', 'T1G', 'T1G', 'T1G', 'T1G', 'T1G', 'T1G', 'T1G', 'T1G', 'T1G', 'T1G', 'T1G', 'T1G', 'T1G', 'T1G', 'T1G', 'T1G', 'T1G', 'T1G', 'T1G', 'T1G', 'T1G', 'T1G', 'T1G', 'T1G', 'T1G', 'T1G', 'T1G', 'T1G', 'T1G', 'T1G', 'T1G', 'T1G', 'T1G', 'T1G', 'T1G', 'T1G', 'T1G', 'T1G', 'T1G', 'T1G', 'T1G', 'T1G', 'T1G', 'T1G', 'T1G', 'T1G', 'T1G', 'T1G', 'T1G', 'T1G', 'T1G', 'T1G', 'T1G', 'T1G', 'T1G', 'T1G', 'T1D', 'T1G', 'T1G', 'T1G', 'T1G', 'T1G', 'T1G', 'T1G', 'T1G', 'T1G', 'T1G', 'T1G', 'T1G', 'T1G', 'T1G', 'T1G', 'T1G', 'T1G', 'T1G', 'T1G', 'T1G', 'T1G', 'T1G', 'T1G', 'T1G', 'T1G', 'T1G', 'T1G', 'T1G', 'T1G', 'T1G', 'T1G', 'T1G', 'T1G', 'T1G', 'T1G', 'T1G', 'T1G', 'T1G', 'T1G', 'T1G', 'T1G', 'T1G', 'T1G', 'T1G', 'T1G', 'T1G', 'T1G', 'T1G', 'T1G', 'T1G', 'T1G', 'T1G', 'T1G', 'T1G', 'T1G', 'T1G', 'T1G', 'T1G', 'T1G', 'T1G', 'T1G', 'T1G', 'T1G', 'T1G', 'T1G', 'T1G', 'T1G', 'T1G', 'T1G', 'T1G', 'T1G', 'T1G', 'T1G', 'T1G', 'T1G', 'T1G', 'T1G', 'T1G', 'T1G', 'T1G', 'T1G', 'T1G', 'T1G', 'T1G', 'T1G', 'T1G', 'T1G', 'T1G', 'T1G', 'T1G', 'T1G', 'T1G', 'T1G', 'T1G', 'T1G', 'T1G', 'T1G', 'T1G', 'T1G', 'T1G', 'T1G', 'T1G', 'T1G', 'T1G', 'T1G', 'T1G', 'T1G', 'T1G', 'T1G', 'T1G', 'T1G', 'T1D', 'T1G', 'T1G', 'T1G', 'T1G', 'T1G', 'T1G', 'T1G', 'T1G', 'T1G', 'T1G', 'T1G', 'T1G', 'T1G', 'T1G', 'T1G', 'T1G', 'T1G', 'T1G', 'T1G', 'T1G', 'T1G', 'T1G', 'T1G', 'T1G', 'T1G', 'T1G', 'T1G', 'T1G', 'T1G', 'T1G', 'T1G', 'T1G', 'T1G', 'T1G', 'T1G', 'T1G', 'T1G', 'T1G', 'T1G', 'T1G', 'T1G', 'T1G', 'T1G', 'T1G', 'T1G', 'T1G', 'T1G', 'T1G', 'T1G', 'T1G', 'T1G', 'T1G', 'T1G', 'T1G', 'T1G', 'T1G', 'T1G', 'T1G', 'T1G', 'T1G', 'T1G', 'T1G', 'T1G', 'T1G', 'T1G', 'T1G', 'T1G', 'T1G', 'T1G', 'T1G', 'T1G', 'T1G', 'T1G', 'T1G', 'T1G', 'T1G', 'T1G', 'T1G', 'T1G', 'T1G', 'T1G', 'T1G', 'T1G', 'T1G', 'T1G', 'T1G', 'T1G', 'T1G', 'T1G', 'T1G', 'T1G', 'T1G', 'T1G', 'T1G', 'T1G', 'T1G', 'T1G', 'T1G', 'T1G', 'T1G', 'T1G', 'T1G', 'T1G', 'T1G', 'T1G', 'T1G', 'T1G', 'T1G', 'T1G', 'T1G', 'T1G', 'T1G', 'T1G', 'T1G', 'T1G', 'T1G', 'T1G', 'T1G', 'T1G', 'T1G', 'T1G', 'T1G', 'T1G', 'T1G', 'T1G', 'T1G', 'T1G', 'T1G', 'T1G', 'T1G', 'T1G', 'T1G', 'T1G', 'T1G', 'T1G', 'T1G', 'T1G', 'T1G', 'T1G', 'T1G', 'T1G', 'T1G', 'T1G', 'T1G', 'T1G', 'T1G', 'T1G', 'T1G', 'T1G', 'T1G', 'T1G', 'T1G', 'T1G', 'T1G', 'T1G', 'T1G', 'T1G', 'T1G', 'T1G', 'T1G', 'T1G', 'T1G', 'T1G', 'T1G', 'T1G', 'T1G', 'T1G', 'T1G', 'T1G', 'T1G', 'T1G', 'T1G', 'T1G', 'T1G', 'T1G', 'T1G', 'T1G', 'T1G', 'T1G', 'T1G', 'T1G', 'T1G', 'T1G', 'T1G', 'T1G', 'T1G', 'T1G', 'T1G', 'T1G', 'T1G', 'T1G', 'T1G', 'T1G', 'T1G', 'T1G', 'T1G', 'T1G', 'T1G', 'T1G', 'T1G', 'T1G', 'T1G', 'T1G', 'T1G', 'T1G', 'T1G', 'T1G', 'T1G', 'T1G', 'T1G', 'T1G', 'T1G', 'T1G', 'T1G', 'T1G', 'T1G', 'T1G', 'T1G', 'T1G', 'T1G', 'T1G', 'T1G', 'T1G', 'T1G', 'T1G', 'T1G', 'T1G', 'T1G', 'T1G', 'T1G', 'T1G', 'T1G', 'T1G', 'T1G', 'T1G', 'T1G', 'T1G', 'T1G', 'T1G', 'T1G', 'T1G', 'T1G', 'T1G', 'T1G', 'T1G', 'T1G', 'T1G', 'T1G', 'T1G', 'T1G', 'T1G', 'T1G', 'T1G', 'T1G', 'T1G', 'T1G', 'T1G', 'T1G', 'T1G', 'T1G', 'T1G', 'T1G', 'T1G', 'T1G', 'T1G', 'T1G', 'T1G', 'T1G', 'T1G', 'T1G', 'T1G', 'T1G', 'T1G', 'T1G', 'T1G', 'T1G', 'T1G', 'T1G', 'T1G', 'T1G', 'T1G', 'T1G', 'T1G', 'T1G', 'T1G', 'T1G', 'T1G', 'T1G', 'T1G', 'T1G', 'T1G', 'T1G', 'T1G', 'T1G', 'T1G', 'T1G', 'T1G', 'T1G', 'T1G', 'T1G', 'T1G', 'T1G', 'T1G', 'T1G', 'T1G', 'T1G', 'T1G', 'T1G', 'T1G', 'T1G', 'T1G', 'T1G', 'T1G', 'T1G', 'T1D', 'T1G', 'T1G', 'T1G', 'T1G', 'T1G', 'T1G', 'T1G', 'T1G', 'T1G', 'T1G', 'T1G', 'T1G', 'T1G', 'T1G', 'T1G', 'T1G', 'T1G', 'T1G', 'T1G', 'T1G', 'T1G', 'T1G', 'T1G', 'T1G', 'T1G', 'T1G', 'T1G', 'T1G', 'T1G', 'T1G', 'T1G', 'T1G', 'T1G', 'T1G', 'T1G', 'T1G', 'T1G', 'T1G', 'T1G', 'T1G', 'T1G', 'T1G', 'T1G', 'T1G', 'T1G', 'T1G', 'T1G', 'T1G', 'T1G', 'T1G', 'T1G', 'T1G', 'T1G', 'T1G', 'T1G', 'T1G', 'T1D', 'T1G', 'T1G', 'T1G', 'T1G', 'T1G', 'T1G', 'T1G', 'T1G', 'T1G', 'T1G', 'T1G', 'T1G', 'T1G', 'T1G', 'T1G', 'T1G', 'T1G', 'T1G', 'T1G', 'T1G', 'T1G', 'T1G', 'T1G', 'T1G', 'T1G', 'T1G', 'T1G', 'T1G', 'T1G', 'T1G', 'T1G', 'T1G', 'T1G', 'T1G', 'T1G', 'T1G', 'T1G', 'T1G', 'T1G', 'T1G', 'T1G', 'T1G', 'T1G', 'T1G', 'T1G', 'T1G', 'T1G', 'T1G', 'T1G', 'T1G', 'T1G', 'T1G', 'T1G', 'T1G', 'T1G', 'T1G', 'T1G', 'T1G', 'T1G', 'T1G', 'T1G', 'T1G', 'T1G', 'T1G', 'T1G', 'T1G', 'T1G', 'T1G', 'T1G', 'T1G', 'T1G', 'T1G', 'T1G', 'T1G', 'T1G', 'T1G', 'T1G', 'T1G', 'T1G', 'T1G', 'T1G', 'T1G', 'T1G', 'T1G', 'T1G', 'T1G', 'T1G', 'T1G', 'T1G', 'T1G', 'T1G', 'T1G', 'T1G', 'T1G', 'T1G', 'T1G', 'T1G', 'T1G', 'T1G', 'T1G', 'T1G', 'T1G', 'T1G', 'T1G', 'T1G', 'T1G', 'T1G', 'T1G', 'T1G', 'T1G', 'T1G', 'T1G', 'T1G', 'T1G', 'T1G', 'T1G', 'T1G', 'T1G', 'T1G', 'T1G', 'T1G', 'T1G', 'T1G', 'T1G', 'T1G', 'T1G', 'T1G', 'T1G', 'T1G', 'T1G', 'T1G', 'T1G', 'T1G', 'T1G', 'T1G', 'T1G', 'T1G', 'T1G', 'T1G', 'T1G', 'T1G', 'T1G', 'T1G', 'T1G', 'T1G', 'T1G', 'T1G', 'T1G', 'T1G', 'T1G', 'T1G', 'T1G', 'T1G', 'T1G', 'T1G', 'T1G', 'T1G', 'T1G', 'T1G', 'T1G', 'T1G', 'T1G', 'T1G', 'T1G', 'T1G', 'T1G', 'T1G', 'T1G', 'T1G', 'T1G', 'T1G', 'T1G', 'T1G', 'T1G', 'T1G', 'T1G', 'T1G', 'T1G', 'T1G', 'T1G', 'T1G', 'T1G', 'T1G', 'T1G', 'T1G', 'T1G', 'T1G', 'T1G', 'T1G', 'T1G', 'T1G', 'T1G', 'T1G', 'T1G', 'T1G', 'T1G', 'T1G', 'T1G', 'T1G', 'T1G', 'T1G', 'T1G', 'T1G', 'T1G', 'T1G', 'T1G', 'T1G', 'T1G', 'T1G', 'T1G', 'T1G', 'T1D', 'T1G', 'T1G', 'T1G', 'T1G', 'T1G', 'T1G', 'T1G', 'T1G', 'T1G', 'T1G', 'T1G', 'T1G', 'T1G', 'T1G', 'T1G', 'T1G', 'T1G', 'T1G', 'T1G', 'T1G', 'T1G', 'T1G', 'T1G', 'T1G', 'T1G', 'T1G', 'T1G', 'T1G', 'T1G', 'T1G', 'T1G', 'T1G', 'T1G', 'T1G', 'T1G', 'T1G', 'T1G', 'T1G', 'T1G', 'T1G', 'T1G', 'T1G', 'T1G', 'T1G', 'T1G', 'T1G', 'T1G', 'T1G', 'T1G', 'T1G', 'T1G', 'T1G', 'T1G', 'T1G', 'T1G', 'T1G', 'T1G', 'T1D', 'T1G', 'T1G', 'T1G', 'T1G', 'T1G', 'T1G', 'T1G', 'T1G', 'T1G', 'T1G', 'T1G', 'T1G', 'T1G', 'T1G', 'T1G', 'T1G', 'T1G', 'T1G', 'T1G', 'T1G', 'T1G', 'T1G', 'T1G', 'T1G', 'T1G', 'T1G', 'T1G', 'T1G', 'T1G', 'T1G', 'T1G', 'T1G', 'T1G', 'T1G', 'T1G', 'T1G', 'T1G', 'T1G', 'T1G', 'T1G', 'T1G', 'T1G', 'T1G', 'T1G', 'T1G', 'T1G', 'T1G', 'T1G', 'T1G', 'T1G', 'T1G', 'T1G', 'T1G', 'T1G', 'T1G', 'T1G', 'T1G', 'T1G', 'T1G', 'T1G', 'T1G', 'T1G', 'T1G', 'T1G', 'T1G', 'T1G', 'T1G', 'T1G', 'T1G', 'T1G', 'T1G', 'T1G', 'T1G', 'T1G', 'T1G', 'T1G', 'T1G', 'T1G', 'T1G', 'T1G', 'T1G', 'T1G', 'T1G', 'T1G', 'T1G', 'T1G', 'T1G', 'T1G', 'T1G', 'T1G', 'T1G', 'T1G', 'T1G', 'T1G', 'T1G', 'T1G', 'T1G', 'T1G', 'T1G', 'T1G', 'T1G', 'T1G', 'T1G', 'T1G', 'T1G', 'T1G', 'T1G', 'T1G', 'T1G', 'T1G', 'T1G', 'T1G', 'T1G', 'T1G', 'T1G', 'T1G', 'T1G', 'T1G', 'T1G', 'T1G', 'T1G', 'T1G', 'T1G', 'T1G', 'T1G', 'T1G', 'T1G', 'T1G', 'T1G', 'T1G', 'T1G', 'T1G', 'T1G', 'T1G', 'T1G', 'T1G', 'T1G', 'T1G', 'T1G', 'T1G', 'T1G', 'T1G', 'T1G', 'T1G', 'T1G', 'T1G', 'T1G', 'T1G', 'T1G', 'T1G', 'T1G', 'T1G', 'T1G', 'T1G', 'T1G', 'T1G', 'T1G', 'T1G', 'T1G', 'T1G', 'T1G', 'T1G', 'T1G', 'T1G', 'T1G', 'T1G', 'T1G', 'T1G', 'T1G', 'T1G', 'T1G', 'T1G', 'T1G', 'T1G', 'T1G', 'T1G', 'T1G', 'T1G', 'T1G', 'T1G', 'T1G', 'T1G', 'T1G', 'T1G', 'T1G', 'T1G', 'T1G', 'T1G', 'T1G', 'T1G', 'T1G', 'T1G', 'T1G', 'T1G', 'T1G', 'T1G', 'T1G', 'T1G', 'T1G', 'T1G', 'T1G', 'T1G', 'T1G', 'T1G', 'T1G', 'T1G', 'T1G', 'T1G', 'T1G', 'T1G', 'T1G', 'T1G', 'T1G', 'T1G', 'T1G', 'T1G', 'T1G', 'T1G', 'T1G', 'T1G', 'T1G', 'T1G', 'T1G', 'T1D', 'T1G', 'T1G', 'T1G', 'T1G', 'T1G', 'T1G', 'T1G', 'T1G', 'T1G', 'T1G', 'T1G', 'T1G', 'T1G', 'T1G', 'T1G', 'T1G', 'T1G', 'T1G', 'T1G', 'T1G', 'T1G', 'T1G', 'T1G', 'T1G', 'T1G', 'T1G', 'T1G', 'T1G', 'T1G', 'T1G', 'T1G', 'T1G', 'T1G', 'T1G', 'T1G', 'T1G', 'T1G', 'T1G', 'T1G', 'T1G', 'T1G', 'T1G', 'T1G', 'T1G', 'T1G', 'T1G', 'T1G', 'T1G', 'T1G', 'T1G', 'T1G', 'T1G', 'T1G', 'T1G', 'T1G', 'T1G', 'T1G', 'T1G', 'T1G', 'T1G', 'T1G', 'T1G', 'T1G', 'T1G', 'T1G', 'T1G', 'T1G', 'T1G', 'T1G', 'T1G', 'T1G', 'T1G', 'T1G', 'T1G', 'T1G', 'T1G', 'T1G', 'T1G', 'T1G', 'T1G', 'T1G', 'T1G', 'T1G', 'T1G', 'T1G', 'T1G', 'T1G', 'T1G', 'T1G', 'T1G', 'T1G', 'T1G', 'T1G', 'T1G', 'T1G', 'T1G', 'T1G', 'T1G', 'T1G', 'T1G', 'T1G', 'T1G', 'T1G', 'T1G', 'T1G', 'T1G', 'T1G', 'T1G', 'T1G', 'T1G', 'T1G', 'T1G', 'T1G', 'T1G', 'T1G', 'T1G', 'T1G', 'T1G', 'T1G', 'T1G', 'T1G', 'T1G', 'T1G', 'T1G', 'T1G', 'T1G', 'T1G', 'T1G', 'T1G', 'T1G', 'T1G', 'T1G', 'T1G', 'T1G', 'T1G', 'T1G', 'T1G', 'T1G', 'T1G', 'T1G', 'T1G', 'T1G', 'T1G', 'T1G', 'T1G', 'T1G', 'T1G', 'T1G', 'T1G', 'T1G', 'T1G', 'T1G', 'T1G', 'T1G', 'T1G', 'T1G', 'T1G', 'T1G', 'T1G', 'T1G', 'T1G', 'T1G', 'T1G', 'T1G', 'T1G', 'T1G', 'T1G', 'T1G', 'T1G', 'T1G', 'T1G', 'T1G', 'T1G', 'T1G', 'T1G', 'T1G', 'T1G', 'T1G', 'T1G', 'T1G', 'T1G', 'T1G', 'T1G', 'T1G', 'T1G', 'T1G', 'T1G', 'T1G', 'T1G', 'T1G', 'T1G', 'T1G', 'T1G', 'T1G', 'T1G', 'T1G', 'T1G', 'T1G', 'T1G', 'T1G', 'T1G', 'T1G', 'T1G', 'T1G', 'T1G', 'T1G', 'T1G', 'T1G', 'T1G', 'T1G', 'T1G', 'T1G', 'T1G', 'T1G', 'T1G', 'T1G', 'T1G', 'T1G', 'T1G', 'T1G', 'T1G', 'T1G', 'T1G', 'T1G', 'T1G', 'T1G', 'T1G', 'T1G', 'T1G', 'T1G', 'T1G', 'T1G', 'T1G', 'T1G', 'T1G', 'T1G', 'T1G', 'T1G', 'T1G', 'T1G', 'T1G', 'T1G', 'T1G', 'T1G', 'T1G', 'T1G', 'T1G', 'T1G', 'T1G', 'T1G', 'T1G', 'T1G', 'T1G', 'T1G', 'T1G', 'T1G', 'T1G', 'T1G', 'T1G', 'T1G', 'T1G', 'T1G', 'T1G', 'T1G', 'T1G', 'T1G', 'T1G', 'T1G', 'T1G', 'T1G', 'T1G', 'T1G', 'T1G', 'T1G', 'T1G', 'T1G', 'T1G', 'T1G', 'T1G', 'T1G', 'T1G', 'T1G', 'T1G', 'T1G', 'T1G', 'T1G', 'T1G', 'T1G', 'T1G', 'T1G', 'T1G', 'T1G', 'T1G', 'T1G', 'T1G', 'T1G', 'T1G', 'T1G', 'T1G', 'T1G', 'T1G', 'T1G', 'T1G', 'T1G', 'T1G', 'T1G', 'T1G', 'T1G', 'T1G', 'T1G', 'T1G', 'T1G', 'T1G', 'T1G', 'T1G', 'T1G', 'T1G', 'T1G', 'T1G', 'T1G', 'T1G', 'T1G', 'T1G', 'T1G', 'T1G', 'T1G', 'T1G', 'T1G', 'T1G', 'T1G', 'T1G', 'T1G', 'T1G', 'T1G', 'T1G', 'T1G', 'T1G', 'T1G', 'T1G', 'T1G', 'T1G', 'T1G', 'T1G', 'T1G', 'T1G', 'T1G', 'T1G', 'T1G', 'T1G', 'T1G', 'T1G', 'T1G', 'T1G', 'T1G', 'T1G', 'T1G', 'T1G', 'T1G', 'T1G', 'T1G', 'T1G', 'T1G', 'T1G', 'T1G', 'T1G', 'T1G', 'T1G', 'T1G', 'T1G', 'T1G', 'T1G', 'T1G', 'T1G', 'T1G', 'T1G', 'T1G', 'T1G', 'T1G', 'T1G', 'T1G', 'T1G', 'T1G', 'T1G', 'T1G', 'T1G', 'T1G', 'T1G', 'T1G', 'T1G', 'T1G', 'T1G', 'T1G', 'T1G', 'T1G', 'T1G', 'T1G', 'T1G', 'T1G', 'T1G', 'T1G', 'T1G', 'T1G', 'T1G', 'T1G', 'T1G', 'T1G', 'T1G', 'T1G', 'T1G', 'T1G', 'T1G', 'T1G', 'T1G', 'T1G', 'T1G', 'T1G', 'T1G', 'T1G', 'T1G', 'T1G', 'T1G', 'T1G', 'T1G', 'T1G', 'T1G', 'T1G', 'T1G', 'T1G', 'T1G', 'T1G', 'T1G', 'T1G', 'T1G', 'T1G', 'T1G', 'T1G', 'T1G', 'T1D', 'T1G', 'T1G', 'T1G', 'T1G', 'T1G', 'T1G', 'T1G', 'T1G', 'T1G', 'T1G', 'T1G', 'T1G', 'T1G', 'T1G', 'T1G', 'T1G', 'T1G', 'T1G', 'T1G', 'T1G', 'T1G', 'T1G', 'T1G', 'T1G', 'T1G', 'T1G', 'T1G', 'T1G', 'T1G', 'T1G', 'T1G', 'T1G', 'T1G', 'T1G', 'T1G', 'T1G', 'T1G', 'T1G', 'T1G', 'T1G', 'T1G', 'T1G', 'T1G', 'T1G', 'T1G', 'T1G', 'T1G', 'T1G', 'T1G', 'T1G', 'T1G', 'T1G', 'T1G', 'T1G', 'T1G', 'T1G', 'T1G', 'T1G', 'T1G', 'T1G', 'T1D', 'T1G', 'T1G', 'T1G', 'T1G', 'T1G', 'T1G', 'T1G', 'T1G', 'T1G', 'T1G', 'T1G', 'T1G', 'T1G', 'T1G', 'T1G', 'T1G', 'T1G', 'T1G', 'T1G', 'T1G', 'T1G', 'T1G', 'T1G', 'T1G', 'T1G', 'T1G', 'T1G', 'T1G', 'T1G', 'T1G', 'T1G', 'T1G', 'T1G', 'T1G', 'T1G', 'T1G', 'T1G', 'T1G', 'T1G', 'T1G', 'T1G', 'T1G', 'T1G', 'T1G', 'T1G', 'T1G', 'T1G', 'T1G', 'T1D', 'T1G', 'T1G', 'T1G', 'T1G', 'T1G', 'T1G', 'T1G', 'T1G', 'T1G', 'T1G', 'T1G', 'T1G', 'T1G', 'T1G', 'T1G', 'T1G', 'T1G', 'T1G', 'T1G', 'T1G', 'T1G', 'T1G', 'T1G', 'T1G', 'T1G', 'T1G', 'T1G', 'T1G', 'T1G', 'T1G', 'T1G', 'T1G', 'T1G', 'T1G', 'T1G', 'T1G', 'T1G', 'T1G', 'T1G', 'T1G', 'T1G', 'T1G', 'T1G', 'T1G', 'T1G', 'T1G', 'T1G', 'T1G', 'T1G', 'T1G', 'T1G', 'T1G', 'T1G', 'T1G', 'T1G', 'T1G', 'T1G', 'T1G', 'T1G', 'T1G', 'T1G', 'T1G', 'T1G', 'T1G', 'T1G', 'T1G', 'T1G', 'T1G', 'T1G', 'T1G', 'T1G', 'T1G', 'T1G', 'T1G', 'T1G', 'T1D', 'T1G', 'T1G', 'T1G', 'T1G', 'T1G', 'T1G', 'T1G', 'T1G', 'T1G', 'T1G', 'T1G', 'T1G', 'T1G', 'T1G', 'T1G', 'T1G', 'T1G', 'T1G', 'T1G', 'T1G', 'T1G', 'T1G', 'T1G', 'T1G', 'T1G', 'T1G', 'T1G', 'T1G', 'T1G', 'T1G', 'T1G', 'T1G', 'T1G', 'T1G', 'T1G', 'T1G', 'T1G', 'T1G', 'T1G', 'T1G', 'T1G', 'T1G', 'T1G', 'T1G', 'T1G', 'T1G', 'T1G', 'T1G', 'T1G', 'T1G', 'T1G', 'T1G', 'T1G', 'T1G', 'T1G', 'T1G', 'T1G', 'T1G', 'T1G', 'T1G', 'T1G', 'T1G', 'T1G', 'T1G', 'T1G', 'T1G', 'T1G', 'T1G', 'T1G', 'T1G', 'T1G', 'T1G', 'T1G', 'T1G', 'T1G', 'T1G', 'T1G', 'T1G', 'T1G', 'T1G', 'T1G', 'T1G', 'T1G', 'T1G', 'T1G', 'T1G', 'T1G', 'T1G', 'T1G', 'T1G', 'T1G', 'T1G', 'T1G', 'T1G', 'T1G', 'T1G', 'T1G', 'T1G', 'T1G', 'T1G', 'T1G', 'T1G', 'T1G', 'T1G', 'T1G', 'T1G', 'T1G', 'T1G', 'T1G', 'T1G', 'T1G', 'T1G', 'T1G', 'T1G', 'T1G', 'T1G', 'T1G', 'T1G', 'T1G', 'T1G', 'T1G', 'T1G', 'T1G', 'T1G', 'T1G', 'T1G', 'T1G', 'T1G', 'T1G', 'T1G', 'T1G', 'T1G', 'T1G', 'T1G', 'T1G', 'T1G', 'T1G', 'T1G', 'T1G', 'T1G', 'T1G', 'T1G', 'T1G', 'T1G', 'T1G', 'T1G', 'T1G', 'T1G', 'T1G', 'T1G', 'T1G', 'T1G', 'T1G', 'T1G', 'T1G', 'T1G', 'T1G', 'T1G', 'T1G', 'T1G', 'T1G', 'T1G', 'T1G', 'T1G', 'T1G', 'T1G', 'T1G', 'T1G', 'T1G', 'T1G', 'T1G', 'T1G', 'T1G', 'T1G', 'T1G', 'T1G', 'T1G', 'T1G', 'T1G', 'T1G', 'T1G', 'T1G', 'T1G', 'T1G', 'T1G', 'T1G', 'T1G', 'T1G', 'T1G', 'T1G', 'T1G', 'T1G', 'T1G', 'T1G', 'T1G', 'T1G', 'T1G', 'T1G', 'T1G', 'T1G', 'T1G', 'T1G', 'T1G', 'T1G', 'T1G', 'T1G', 'T1G', 'T1G', 'T1G', 'T1G', 'T1G', 'T1G', 'T1G', 'T1G', 'T1G', 'T1G', 'T1G', 'T1G', 'T1G', 'T1G', 'T1G', 'T1G', 'T1G', 'T1G', 'T1G', 'T1G', 'T1G', 'T1G', 'T1G', 'T1G', 'T1G', 'T1G', 'T1G', 'T1G', 'T1G', 'T1G', 'T1G', 'T1G', 'T1G', 'T1G', 'T1G', 'T1G', 'T1G', 'T1G', 'T1G', 'T1G', 'T1G', 'T1G', 'T1G', 'T1G', 'T1G', 'T1G', 'T1G', 'T1G', 'T1G', 'T1G', 'T1G', 'T1G', 'T1G', 'T1G', 'T1G', 'T1G', 'T1G', 'T1G', 'T1G', 'T1G', 'T1G', 'T1G', 'T1G', 'T1G', 'T1G', 'T1G', 'T1G', 'T1G', 'T1G', 'T1G', 'T1G', 'T1G', 'T1G', 'T1G', 'T1G', 'T1G', 'T1G', 'T1G', 'T1G', 'T1G', 'T1G', 'T1G', 'T1G', 'T1G', 'T1G', 'T1G', 'T1G', 'T1G', 'T1G', 'T1G', 'T1G', 'T1G', 'T1G', 'T1G', 'T1G', 'T1G', 'T1G', 'T1G', 'T1G', 'T1G', 'T1G', 'T1G', 'T1G', 'T1G', 'T1G', 'T1G', 'T1G', 'T1G', 'T1G', 'T1G', 'T1G', 'T1G', 'T1G', 'T1G', 'T1G', 'T1G', 'T1G', 'T1G', 'T1G', 'T1G', 'T1G', 'T1G', 'T1G', 'T1G', 'T1G', 'T1G', 'T1G', 'T1G', 'T1G', 'T1G', 'T1G', 'T1G', 'T1G', 'T1G', 'T1G', 'T1G', 'T1G', 'T1G', 'T1G', 'T1G', 'T1G', 'T1G', 'T1G', 'T1G', 'T1G', 'T1G', 'T1G', 'T1G', 'T1G', 'T1G', 'T1G', 'T1G', 'T1G', 'T1G', 'T1G', 'T1G', 'T1D', 'T1G', 'T1G', 'T1G', 'T1G', 'T1G', 'T1G', 'T1G', 'T1G', 'T1G', 'T1G', 'T1G', 'T1G', 'T1G', 'T1G', 'T1G', 'T1G', 'T1G', 'T1G', 'T1G', 'T1G', 'T1G', 'T1G', 'T1G', 'T1G', 'T1G', 'T1G', 'T1G', 'T1G', 'T1G', 'T1G', 'T1G', 'T1G', 'T1G', 'T1G', 'T1G', 'T1G', 'T1G', 'T1G', 'T1G', 'T1G', 'T1G', 'T1G', 'T1G', 'T1G', 'T1G', 'T1G', 'T1G', 'T1G', 'T1G', 'T1G', 'T1G', 'T1G', 'T1G', 'T1G', 'T1G', 'T1G', 'T1G', 'T1G', 'T1G', 'T1G', 'T1G', 'T1G', 'T1G', 'T1G', 'T1G', 'T1G', 'T1G', 'T1G', 'T1G', 'T1G', 'T1G', 'T1G', 'T1G', 'T1G', 'T1G', 'T1G', 'T1G', 'T1G', 'T1G', 'T1G', 'T1G', 'T1G', 'T1G', 'T1G', 'T1G', 'T1G', 'T1G', 'T1G', 'T1G', 'T1G', 'T1G', 'T1G', 'T1G', 'T1G', 'T1G', 'T1G', 'T1G', 'T1G', 'T1G', 'T1G', 'T1G', 'T1G', 'T1G', 'T1G', 'T1G', 'T1G', 'T1G', 'T1G', 'T1G', 'T1G', 'T1G', 'T1G', 'T1G', 'T1G', 'T1G', 'T1G', 'T1G', 'T1G', 'T1G', 'T1G', 'T1G', 'T1G', 'T1G', 'T1G', 'T1G', 'T1G', 'T1G', 'T1G', 'T1G', 'T1G', 'T1G', 'T1G', 'T1G', 'T1G', 'T1G', 'T1G', 'T1G', 'T1G', 'T1G', 'T1G', 'T1G', 'T1G', 'T1G', 'T1G', 'T1G', 'T1G', 'T1G', 'T1G', 'T1G', 'T1G', 'T1G', 'T1G', 'T1G', 'T1G', 'T1G', 'T1G', 'T1G', 'T1G', 'T1G', 'T1G', 'T1G', 'T1G', 'T1G', 'T1G', 'T1G', 'T1G', 'T1G', 'T1G', 'T1G', 'T1G', 'T1G', 'T1G', 'T1G', 'T1G', 'T1G', 'T1G', 'T1G', 'T1G', 'T1G', 'T1G', 'T1G', 'T1G', 'T1G', 'T1G', 'T1G', 'T1G', 'T1G', 'T1G', 'T1G', 'T1G', 'T1G', 'T1G', 'T1G', 'T1G', 'T1G', 'T1G', 'T1G', 'T1G', 'T1G', 'T1G', 'T1G', 'T1G', 'T1G', 'T1G', 'T1G', 'T1G', 'T1G', 'T1G', 'T1G', 'T1G', 'T1G', 'T1G', 'T1G', 'T1G', 'T1G', 'T1G', 'T1G', 'T1G', 'T1G', 'T1G', 'T1G', 'T1G', 'T1G', 'T1G', 'T1G', 'T1G', 'T1G', 'T1G', 'T1G', 'T1G', 'T1G', 'T1G', 'T1G', 'T1G', 'T1G', 'T1G', 'T1G', 'T1G', 'T1G', 'T1G', 'T1G', 'T1G', 'T1G', 'T1G', 'T1G', 'T1G', 'T1G', 'T1G', 'T1G', 'T1G', 'T1G', 'T1G', 'T1G', 'T1G', 'T1G', 'T1G', 'T1G', 'T1G', 'T1G', 'T1G', 'T1G', 'T1G', 'T1G', 'T1G', 'T1G', 'T1G', 'T1G', 'T1G', 'T1G', 'T1G', 'T1G', 'T1G', 'T1G', 'T1G', 'T1G', 'T1G', 'T1G', 'T1G', 'T1G', 'T1G', 'T1G', 'T1G', 'T1G', 'T1G', 'T1G', 'T1G', 'T1G', 'T1G', 'T1G', 'T1G', 'T1D', 'T1G', 'T1G', 'T1G', 'T1G', 'T1G', 'T1G', 'T1G', 'T1G', 'T1G', 'T1G', 'T1G', 'T1G', 'T1G', 'T1G', 'T1G', 'T1G', 'T1G', 'T1G', 'T1G', 'T1G', 'T1G', 'T1G', 'T1G', 'T1G', 'T1G', 'T1G', 'T1G', 'T1G', 'T1G', 'T1G', 'T1G', 'T1G', 'T1G', 'T1G', 'T1G', 'T1G', 'T1G', 'T1G', 'T1G', 'T1G', 'T1G', 'T1G', 'T1G', 'T1G', 'T1G', 'T1G', 'T1G', 'T1G', 'T1G', 'T1G', 'T1G', 'T1G', 'T1G', 'T1G', 'T1G', 'T1G', 'T1G', 'T1G', 'T1G', 'T1G', 'T1G', 'T1G', 'T1G', 'T1G', 'T1G', 'T1G', 'T1G', 'T1G', 'T1G', 'T1G', 'T1G', 'T1G', 'T1G', 'T1G', 'T1G', 'T1G', 'T1G', 'T1G', 'T1G', 'T1G', 'T1G', 'T1G', 'T1G', 'T1G', 'T1G', 'T1G', 'T1G', 'T1G', 'T1G', 'T1G', 'T1G', 'T1G', 'T1G', 'T1G', 'T1G', 'T1G', 'T1G', 'T1G', 'T1G', 'T1G', 'T1G', 'T1G', 'T1G', 'T1G', 'T1G', 'T1G', 'T1G', 'T1G', 'T1G', 'T1G', 'T1G', 'T1G', 'T1G', 'T1G', 'T1G', 'T1G', 'T1G', 'T1G', 'T1G', 'T1G', 'T1G', 'T1G', 'T1G', 'T1G', 'T1G', 'T1G', 'T1G', 'T1G', 'T1G', 'T1G', 'T1G', 'T1G', 'T1G', 'T1G', 'T1G', 'T1G', 'T1G', 'T1G', 'T1G', 'T1G', 'T1G', 'T1G', 'T1D', 'T1G', 'T1G', 'T1G', 'T1G', 'T1G', 'T1G', 'T1G', 'T1G', 'T1G', 'T1G', 'T1G', 'T1G', 'T1G', 'T1G', 'T1G', 'T1G', 'T1G', 'T1G', 'T1G', 'T1D', 'T1G', 'T1G', 'T1G', 'T1G', 'T1G', 'T1G', 'T1G', 'T1G', 'T1G', 'T1G', 'T1G', 'T1G', 'T1G', 'T1G', 'T1G', 'T1G', 'T1G', 'T1G', 'T1G', 'T1G', 'T1G', 'T1G', 'T1G', 'T1G', 'T1G', 'T1G', 'T1G', 'T1G', 'T1G', 'T1G', 'T1G', 'T1G', 'T1G', 'T1G', 'T1G', 'T1G', 'T1G', 'T1G', 'T1G', 'T1G', 'T1G', 'T1G', 'T1G', 'T1G', 'T1G', 'T1G', 'T1G', 'T1G', 'T1G', 'T1G', 'T1G', 'T1G', 'T1G', 'T1G', 'T1G', 'T1G', 'T1G', 'T1G', 'T1G', 'T1G', 'T1G', 'T1G', 'T1G', 'T1G', 'T1G', 'T1G', 'T1G', 'T1G', 'T1G', 'T1G', 'T1G', 'T1G', 'T1G', 'T1G', 'T1G', 'T1G', 'T1G', 'T1G', 'T1G', 'T1G', 'T1G', 'T1G', 'T1G', 'T1G', 'T1G', 'T1G', 'T1G', 'T1G', 'T1G', 'T1G', 'T1G', 'T1G', 'T1G', 'T1G', 'T1G', 'T1G', 'T1G', 'T1G', 'T1G', 'T1G', 'T1G', 'T1G', 'T1G', 'T1G', 'T1G', 'T1G', 'T1G', 'T1G', 'T1G', 'T1G', 'T1G', 'T1G', 'T1G', 'T1G', 'T1G', 'T1G', 'T1G', 'T1G', 'T1G', 'T1G', 'T1G', 'T1G', 'T1G', 'T1G', 'T1G', 'T1G', 'T1G', 'T1G', 'T1G', 'T1G', 'T1G', 'T1G', 'T1G', 'T1G', 'T1G', 'T1G', 'T1G', 'T1G', 'T1G', 'T1G', 'T1G', 'T1G', 'T1G', 'T1G', 'T1G', 'T1G', 'T1G', 'T1G', 'T1G', 'T1G', 'T1G', 'T1G', 'T1G', 'T1G', 'T1G', 'T1G', 'T1G', 'T1G', 'T1G', 'T1G', 'T1G', 'T1G', 'T1G', 'T1G', 'T1G', 'T1G', 'T1G', 'T1G', 'T1G', 'T1G', 'T1G', 'T1G', 'T1G', 'T1G', 'T1G', 'T1G', 'T1G', 'T1G', 'T1G', 'T1G', 'T1G', 'T1G', 'T1G', 'T1G', 'T1G', 'T1G', 'T1G', 'T1D', 'T1G', 'T1G', 'T1G', 'T1G', 'T1G', 'T1G', 'T1G', 'T1G', 'T1G', 'T1G', 'T1G', 'T1G', 'T1G', 'T1G', 'T1G', 'T1G', 'T1G', 'T1G', 'T1G', 'T1G', 'T1G', 'T1G', 'T1G', 'T1G', 'T1G', 'T1G', 'T1G', 'T1G', 'T1G', 'T1G', 'T1G', 'T1G', 'T1G', 'T1G', 'T1G', 'T1G', 'T1G', 'T1D', 'T1G', 'T1G', 'T1G', 'T1G', 'T1G', 'T1G', 'T1G', 'T1G', 'T1G', 'T1G', 'T1G', 'T1G', 'T1G', 'T1G', 'T1G', 'T1G', 'T1G', 'T1G', 'T1G', 'T1G', 'T1G', 'T1G', 'T1G', 'T1G', 'T1G', 'T1G', 'T1G', 'T1G', 'T1G', 'T1G', 'T1G', 'T1G', 'T1G', 'T1G', 'T1G', 'T1G', 'T1G', 'T1G', 'T1G', 'T1G', 'T1G', 'T1G', 'T1G', 'T1G', 'T1G', 'T1G', 'T1G', 'T1G', 'T1G', 'T1G', 'T1G', 'T1G', 'T1G', 'T1G', 'T1G', 'T1G', 'T1G', 'T1G', 'T1G', 'T1G', 'T1G', 'T1G', 'T1G', 'T1G', 'T1G', 'T1G', 'T1G', 'T1G', 'T1G', 'T1G', 'T1G', 'T1G', 'T1G', 'T1G', 'T1G', 'T1G', 'T1G', 'T1G', 'T1G', 'T1G', 'T1G', 'T1G', 'T1G', 'T1G', 'T1G', 'T1G', 'T1G', 'T1G', 'T1G', 'T1G', 'T1G', 'T1G', 'T1G', 'T1G', 'T1G', 'T1G', 'T1G', 'T1G', 'T1G', 'T1G', 'T1G', 'T1G', 'T1G', 'T1G', 'T1G', 'T1G', 'T1G', 'T1G', 'T1G', 'T1G', 'T1G', 'T1G', 'T1G', 'T1G', 'T1G', 'T1G', 'T1G', 'T1G', 'T1G', 'T1G', 'T1G', 'T1G', 'T1G', 'T1G', 'T1G', 'T1G', 'T1G', 'T1G', 'T1G', 'T1G', 'T1G', 'T1G', 'T1G', 'T1G', 'T1G', 'T1G', 'T1G', 'T1G', 'T1G', 'T1G', 'T1G', 'T1G', 'T1G', 'T1G', 'T1G', 'T1G', 'T1G', 'T1G', 'T1G', 'T1G', 'T1G', 'T1G', 'T1G', 'T1G', 'T1G', 'T1G', 'T1G', 'T1G', 'T1G', 'T1G', 'T1G', 'T1G', 'T1G', 'T1G', 'T1G', 'T1G', 'T1G', 'T1D', 'T1G', 'T1G', 'T1G', 'T1G', 'T1G', 'T1G', 'T1G', 'T1G', 'T1G', 'T1G', 'T1G', 'T1G', 'T1D', 'T1G', 'T1D', 'T1G', 'T1G', 'T1G', 'T1G', 'T1G', 'T1G', 'T1G', 'T1G', 'T1G', 'T1G', 'T1G', 'T1G', 'T1G', 'T1G', 'T1G', 'T1G', 'T1G', 'T1G', 'T1G', 'T1G', 'T1G', 'T1G', 'T1G', 'T1G', 'T1G', 'T1G', 'T1G', 'T1G', 'T1G', 'T1G', 'T1G', 'T1G', 'T1D', 'T1G', 'T1G', 'T1G', 'T1G', 'T1G', 'T1G', 'T1G', 'T1G', 'T1G', 'T1G', 'T1G', 'T1G', 'T1G', 'T1G', 'T1G', 'T1G', 'T1G', 'T1G', 'T1G', 'T1G', 'T1G', 'T1G', 'T1G', 'T1G', 'T1G', 'T1G', 'T1G', 'T1G', 'T1G', 'T1G', 'T1G', 'T1G', 'T1G', 'T1G', 'T1G', 'T1G', 'T1G', 'T1G', 'T1G', 'T1G', 'T1G', 'T1G', 'T1G', 'T1G', 'T1G', 'T1G', 'T1G', 'T1G', 'T1G', 'T1G', 'T1G', 'T1G', 'T1G', 'T1G', 'T1G', 'T1G', 'T1G', 'T1G', 'T1G', 'T1G', 'T1G', 'T1G', 'T1G', 'T1G', 'T1G', 'T1G', 'T1G', 'T1G', 'T1G', 'T1G', 'T1G', 'T1G', 'T1G', 'T1G', 'T1G', 'T1G', 'T1G', 'T1G', 'T1G', 'T1G', 'T1G', 'T1G', 'T1G', 'T1G', 'T1G', 'T1G', 'T1G', 'T1G', 'T1G', 'T1G', 'T1G', 'T1G', 'T1G', 'T1G', 'T1G', 'T1G', 'T1G', 'T1G', 'T1G', 'T1G', 'T1G', 'T1G', 'T1G', 'T1G', 'T1G', 'T1G', 'T1G', 'T1G', 'T1G', 'T1G', 'T1G', 'T1G', 'T1G', 'T1G', 'T1G', 'T1G', 'T1G', 'T1G', 'T1G', 'T1G', 'T1G', 'T1G', 'T1G', 'T1G', 'T1G', 'T1G', 'T1G', 'T1G', 'T1G', 'T1G', 'T1G', 'T1G', 'T1G', 'T1G', 'T1G', 'T1G', 'T1G', 'T1G', 'T1G', 'T1G', 'T1G', 'T1G', 'T1G', 'T1G', 'T1G', 'T1G', 'T1G', 'T1D', 'T1G', 'T1G', 'T1G', 'T1G', 'T1G', 'T1G', 'T1G', 'T1G', 'T1G', 'T1D', 'T1G', 'T1G', 'T1G', 'T1G', 'T1G', 'T1G', 'T1G', 'T1G', 'T1G', 'T1G', 'T1G', 'T1G', 'T1G', 'T1G', 'T1G', 'T1G', 'T1G', 'T1G', 'T1G', 'T1G', 'T1G', 'T1G', 'T1G', 'T1G', 'T1G', 'T1G', 'T1G', 'T1G', 'T1G', 'T1G', 'T1G', 'T1D', 'T1G', 'T1G', 'T1G', 'T1G', 'T1G', 'T1G', 'T1G', 'T1G', 'T1G', 'T1G', 'T1G', 'T1G', 'T1G', 'T1G', 'T1G', 'T1G', 'T1G', 'T1G', 'T1G', 'T1G', 'T1G', 'T1G', 'T1G', 'T1G', 'T1G', 'T1G', 'T1G', 'T1G', 'T1G', 'T1G', 'T1G', 'T1G', 'T1G', 'T1G', 'T1G', 'T1G', 'T1G', 'T1G', 'T1G', 'T1G', 'T1G', 'T1G', 'T1G', 'T1G', 'T1G', 'T1G', 'T1G', 'T1G', 'T1G', 'T1G', 'T1G', 'T1G', 'T1G', 'T1G', 'T1G', 'T1G', 'T1G', 'T1G', 'T1G', 'T1G', 'T1G', 'T1G', 'T1G', 'T1G', 'T1G', 'T1G', 'T1G', 'T1G', 'T1G', 'T1G', 'T1G', 'T1G', 'T1G', 'T1G', 'T1G', 'T1G', 'T1G', 'T1G', 'T1G', 'T1G', 'T1G', 'T1G', 'T1G', 'T1D', 'T1G', 'T1G', 'T1G', 'T1G', 'T1G', 'T1G', 'T1G', 'T1G', 'T1G', 'T1G', 'T1G', 'T1G', 'T1G', 'T1G', 'T1G', 'T1G', 'T1G', 'T1G', 'T1G', 'T1G', 'T1G', 'T1G', 'T1G', 'T1G', 'T1G', 'T1G', 'T1G', 'T1G', 'T1G', 'T1G', 'T1G', 'T1G', 'T1G', 'T1G', 'T1G', 'T1G', 'T1G', 'T1G', 'T1G', 'T1G', 'T1G', 'T1G', 'T1G', 'T1G', 'T1G', 'T1G', 'T1G', 'T1G', 'T1G', 'T1G', 'T1G', 'T1G', 'T1G', 'T1G', 'T1G', 'T1G', 'T1G', 'T1G', 'T1G', 'T1G', 'T1G', 'T1G', 'T1G', 'T1G', 'T1G', 'T1G', 'T1G', 'T1G', 'T1G', 'T1G', 'T1G', 'T1G', 'T1G', 'T1G', 'T1G', 'T1G', 'T1G', 'T1G', 'T1G', 'T1G', 'T1G', 'T1G', 'T1G', 'T1G', 'T1G', 'T1G', 'T1G', 'T1G', 'T1G', 'T1G', 'T1G', 'T1G', 'T1G', 'T1G', 'T1G', 'T1G', 'T1G', 'T1G', 'T1G', 'T1G', 'T1G', 'T1G', 'T1G', 'T1G', 'T1G', 'T1G', 'T1G', 'T1G', 'T1G', 'T1G', 'T1G', 'T1G', 'T1G', 'T1G', 'T1G', 'T1G', 'T1G', 'T1G', 'T1G', 'T1G', 'T1G', 'T1G', 'T1G', 'T1G', 'T1G', 'T1G', 'T1G', 'T1G', 'T1G', 'T1G', 'T1G', 'T1G', 'T1G', 'T1G', 'T1G', 'T1G', 'T1G', 'T1G', 'T1G', 'T1G', 'T1G', 'T1G', 'T1G', 'T1G', 'T1G', 'T1G', 'T1G', 'T1G', 'T1G', 'T1G', 'T1G', 'T1G', 'T1G', 'T1G', 'T1G', 'T1G', 'T1G', 'T1G', 'T1G', 'T1G', 'T1G', 'T1G', 'T1G', 'T1G', 'T1G', 'T1G', 'T1G', 'T1D', 'T1G', 'T1G', 'T1G', 'T1G', 'T1G', 'T1G', 'T1G', 'T1G', 'T1G', 'T1G', 'T1G', 'T1G', 'T1G', 'T1G', 'T1G', 'T1G', 'T1G', 'T1D', 'T1G', 'T1G', 'T1G', 'T1G', 'T1G', 'T1G', 'T1G', 'T1G', 'T1G', 'T1G', 'T1G', 'T1G', 'T1G', 'T1G', 'T1G', 'T1D', 'T1G', 'T1G', 'T1G', 'T1G', 'T1G', 'T1G', 'T1G', 'T1G', 'T1G', 'T1G', 'T1G', 'T1G', 'T1G', 'T1G', 'T1G', 'T1G', 'T1G', 'T1G', 'T1G', 'T1G', 'T1G', 'T1G', 'T1G', 'T1G', 'T1G', 'T1G', 'T1G', 'T1G', 'T1G', 'T1G', 'T1G', 'T1G', 'T1G', 'T1G', 'T1G', 'T1G', 'T1G', 'T1G', 'T1G', 'T1G', 'T1G', 'T1G', 'T1G', 'T1G', 'T1G', 'T1G', 'T1G', 'T1G', 'T1G', 'T1G', 'T1G', 'T1G', 'T1G', 'T1G', 'T1G', 'T1G', 'T1G', 'T1G', 'T1G', 'T1G', 'T1G', 'T1G', 'T1G', 'T1G', 'T1G', 'T1G', 'T1G', 'T1G', 'T1G', 'T1G', 'T1G', 'T1G', 'T1G', 'T1G', 'T1G', 'T1G', 'T1G', 'T1G', 'T1G', 'T1G', 'T1G', 'T1G', 'T1G', 'T1G', 'T1G', 'T1G', 'T1G', 'T1G', 'T1G', 'T1G', 'T1G', 'T1G', 'T1G', 'T1G', 'T1G', 'T1G', 'T1G', 'T1G', 'T1G', 'T1D', 'T1G', 'T1G', 'T1G', 'T1G', 'T1G', 'T1G', 'T1G', 'T1G', 'T1G', 'T1G', 'T1G', 'T1G', 'T1G', 'T1G', 'T1G', 'T1G', 'T1G', 'T1G', 'T1G', 'T1G', 'T1G', 'T1G', 'T1G', 'T1G', 'T1G', 'T1G', 'T1G', 'T1G', 'T1G', 'T1G', 'T1G', 'T1G', 'T1G', 'T1G', 'T1G', 'T1G', 'T1G', 'T1G', 'T1G', 'T1G', 'T1G', 'T1G', 'T1G', 'T1G', 'T1G', 'T1G', 'T1G', 'T1G', 'T1G', 'T1G', 'T1G', 'T1G', 'T1G', 'T1G', 'T1G', 'T1G', 'T1G', 'T1G', 'T1G', 'T1G', 'T1G', 'T1G', 'T1G', 'T1G', 'T1G', 'T1G', 'T1G', 'T1G', 'T1G', 'T1G', 'T1G', 'T1G', 'T1G', 'T1G', 'T1G', 'T1G', 'T1G', 'T1G', 'T1G', 'T1G', 'T1G', 'T1G', 'T1G', 'T1G', 'T1G', 'T1G', 'T1G', 'T1G', 'T1G', 'T1G', 'T1G', 'T1G', 'T1G', 'T1G', 'T1G', 'T1G', 'T1G', 'T1G', 'T1G', 'T1G', 'T1G', 'T1G', 'T1G', 'T1G', 'T1G', 'T1G', 'T1D', 'T1G', 'T1G', 'T1G', 'T1G', 'T1G', 'T1G', 'T1G', 'T1G', 'T1G', 'T1G', 'T1G', 'T1G', 'T1G', 'T1G', 'T1D', 'T1G', 'T1G', 'T1G', 'T1G', 'T1G', 'T1G', 'T1G', 'T1G', 'T1G', 'T1G', 'T1G', 'T1G', 'T1G', 'T1G', 'T1G', 'T1G', 'T1G', 'T1G', 'T1G', 'T1G', 'T1G', 'T1G', 'T1G', 'T1G', 'T1G', 'T1G', 'T1G', 'T1G', 'T1G', 'T1G', 'T1G', 'T1G', 'T1G', 'T1G', 'T1G', 'T1G', 'T1G', 'T1G', 'T1G', 'T1G', 'T1G', 'T1G', 'T1G', 'T1G', 'T1G', 'T1G', 'T1G', 'T1G', 'T1G', 'T1G', 'T1G', 'T1G', 'T1G', 'T1G', 'T1G', 'T1G', 'T1G', 'T1G', 'T1G', 'T1G', 'T1G', 'T1G', 'T1G', 'T1G', 'T1G', 'T1G', 'T1G', 'T1G', 'T1G', 'T1G', 'T1G', 'T1G', 'T1G', 'T1G', 'T1G', 'T1G', 'T1G', 'T1G', 'T1G', 'T1G', 'T1G', 'T1G', 'T1G', 'T1G', 'T1G', 'T1G', 'T1G', 'T1G', 'T1G', 'T1G', 'T1G', 'T1G', 'T1G', 'T1G', 'T1G', 'T1G', 'T1G', 'T1G', 'T1G', 'T1G', 'T1G', 'T1G', 'T1G', 'T1G', 'T1G', 'T1G', 'T1G', 'T1G', 'T1G', 'T1G', 'T1G', 'T1G', 'T1G', 'T1G', 'T1G', 'T1G', 'T1G', 'T1G', 'T1G', 'T1G', 'T1G', 'T1G', 'T1G', 'T1G', 'T1G', 'T1G', 'T1G', 'T1G', 'T1G', 'T1G', 'T1G', 'T1G', 'T1G', 'T1G', 'T1G', 'T1G', 'T1G', 'T1G', 'T1G', 'T1G', 'T1G', 'T1G', 'T1G', 'T1G', 'T1G', 'T1G', 'T1G', 'T1G', 'T1G', 'T1G', 'T1G', 'T1G', 'T1G', 'T1G', 'T1G', 'T1G', 'T1G', 'T1G', 'T1G', 'T1G', 'T1G', 'T1G', 'T1G', 'T1G', 'T1G', 'T1G', 'T1G', 'T1G', 'T1G', 'T1G', 'T1G', 'T1G', 'T1G', 'T1G', 'T1G', 'T1G', 'T1G', 'T1G', 'T1G', 'T1G', 'T1G', 'T1G', 'T1G', 'T1G', 'T1G', 'T1G', 'T1G', 'T1G', 'T1G', 'T1G', 'T1G', 'T1G', 'T1G', 'T1G', 'T1G', 'T1G', 'T1G', 'T1G', 'T1G', 'T1G', 'T1G', 'T1G', 'T1G', 'T1G', 'T1G', 'T1G', 'T1G', 'T1G', 'T1G', 'T1G', 'T1G', 'T1G', 'T1G', 'T1G', 'T1G', 'T1G', 'T1G', 'T1G', 'T1G', 'T1G', 'T1G', 'T1G', 'T1G', 'T1G', 'T1G', 'T1G', 'T1G', 'T1G', 'T1G', 'T1G', 'T1G', 'T1G', 'T1G', 'T1G', 'T1G', 'T1G', 'T1G', 'T1G', 'T1G', 'T1G', 'T1G', 'T1G', 'T1G', 'T1G', 'T1G', 'T1G', 'T1G', 'T1G', 'T1G', 'T1G', 'T1G', 'T1G', 'T1G', 'T1G', 'T1G', 'T1G', 'T1G', 'T1G', 'T1G', 'T1G', 'T1G', 'T1G', 'T1G', 'T1G', 'T1G', 'T1G', 'T1G', 'T1G', 'T1G', 'T1G', 'T1G', 'T1G', 'T1G', 'T1G', 'T1G', 'T1G', 'T1G', 'T1G', 'T1G', 'T1G', 'T1G', 'T1G', 'T1G', 'T1G', 'T1G', 'T1G', 'T1G', 'T1G', 'T1G', 'T1G', 'T1G', 'T1G', 'T1G', 'T1G', 'T1G', 'T1G', 'T1G', 'T1G', 'T1G', 'T1G', 'T1G', 'T1G', 'T1G', 'T1G', 'T1G', 'T1G', 'T1G', 'T1G', 'T1G', 'T1G', 'T1G', 'T1G', 'T1G', 'T1G', 'T1G', 'T1G', 'T1G', 'T1G', 'T1G', 'T1G', 'T1G', 'T1G', 'T1G', 'T1G', 'T1G', 'T1G', 'T1G', 'T1G', 'T1G', 'T1G', 'T1G', 'T1G', 'T1G', 'T1G', 'T1G', 'T1G', 'T1G', 'T1G', 'T1G', 'T1G', 'T1G', 'T1G', 'T1G', 'T1G', 'T1G', 'T1G', 'T1G', 'T1G', 'T1G', 'T1G', 'T1G', 'T1G', 'T1G', 'T1G', 'T1G', 'T1G', 'T1G', 'T1G', 'T1G', 'T1G', 'T1G', 'T1G', 'T1G', 'T1G', 'T1G', 'T1G', 'T1G', 'T1G', 'T1G', 'T1G', 'T1G', 'T1G', 'T1G', 'T1G', 'T1G', 'T1G', 'T1G', 'T1G', 'T1G', 'T1D', 'T1G', 'T1G', 'T1G', 'T1G', 'T1G', 'T1G', 'T1G', 'T1G', 'T1G', 'T1G', 'T1G', 'T1G', 'T1G', 'T1G', 'T1G', 'T1G', 'T1G', 'T1G', 'T1G', 'T1G', 'T1G', 'T1G', 'T1G', 'T1G', 'T1G', 'T1G', 'T1G', 'T1G', 'T1G', 'T1G', 'T1G', 'T1G', 'T1G', 'T1G', 'T1G', 'T1G', 'T1G', 'T1G', 'T1G', 'T1G', 'T1G', 'T1G', 'T1G', 'T1G', 'T1G', 'T1G', 'T1G', 'T1G', 'T1G', 'T1G', 'T1G', 'T1G', 'T1G', 'T1G', 'T1G', 'T1G', 'T1G', 'T1G', 'T1G', 'T1G', 'T1G', 'T1G', 'T1G', 'T1G', 'T1G', 'T1G', 'T1G', 'T1G', 'T1G', 'T1G', 'T1G', 'T1G', 'T1G', 'T1G', 'T1G', 'T1G', 'T1G', 'T1G', 'T1G', 'T1D', 'T1G', 'T1G', 'T1G', 'T1G', 'T1G', 'T1G', 'T1G', 'T1G', 'T1G', 'T1G', 'T1G', 'T1G', 'T1G', 'T1G', 'T1G', 'T1G', 'T1G', 'T1G', 'T1G', 'T1G', 'T1G', 'T1G', 'T1G', 'T1G', 'T1G', 'T1G', 'T1G', 'T1G', 'T1G', 'T1G', 'T1G', 'T1G', 'T1G', 'T1G', 'T1G', 'T1G', 'T1G', 'T1G', 'T1G', 'T1G', 'T1G', 'T1G', 'T1G', 'T1G', 'T1G', 'T1G', 'T1G', 'T1G', 'T1G', 'T1G', 'T1G', 'T1G', 'T1G', 'T1G', 'T1G', 'T1G', 'T1G', 'T1D', 'T1G', 'T1G', 'T1G', 'T1G', 'T1G', 'T1G', 'T1G', 'T1G', 'T1G', 'T1G', 'T1G', 'T1G', 'T1G', 'T1G', 'T1G', 'T1G', 'T1G', 'T1G', 'T1G', 'T1G', 'T1G', 'T1G', 'T1G', 'T1G', 'T1G', 'T1G', 'T1G', 'T1G', 'T1G', 'T1G', 'T1G', 'T1G', 'T1G', 'T1G', 'T1G', 'T1G', 'T1G', 'T1G', 'T1G', 'T1G', 'T1G', 'T1G', 'T1G', 'T1G', 'T1G', 'T1G', 'T1G', 'T1G', 'T1G', 'T1G', 'T1G', 'T1G', 'T1G', 'T1G', 'T1G', 'T1G', 'T1G', 'T1G', 'T1G', 'T1G', 'T1G', 'T1G', 'T1G', 'T1G', 'T1G', 'T1G', 'T1G', 'T1G', 'T1G', 'T1G', 'T1G', 'T1G', 'T1G', 'T1G', 'T1G', 'T1G', 'T1G', 'T1G', 'T1G', 'T1G', 'T1G', 'T1G', 'T1G', 'T1G', 'T1G', 'T1G', 'T1G', 'T1G', 'T1G', 'T1G', 'T1G', 'T1G', 'T1G', 'T1G', 'T1G', 'T1G', 'T1G', 'T1G', 'T1G', 'T1G', 'T1G', 'T1G', 'T1G', 'T1G', 'T1G', 'T1G', 'T1G', 'T1G', 'T1G', 'T1G', 'T1G', 'T1G', 'T1G', 'T1G', 'T1G', 'T1G', 'T1G', 'T1G', 'T1G', 'T1G', 'T1G', 'T1G', 'T1G', 'T1G', 'T1G', 'T1G', 'T1G', 'T1G', 'T1G', 'T1G', 'T1G', 'T1G', 'T1G', 'T1D', 'T1G', 'T1G', 'T1G', 'T1G', 'T1G', 'T1G', 'T1G', 'T1G', 'T1G', 'T1G', 'T1G', 'T1G', 'T1G', 'T1G', 'T1G', 'T1G', 'T1G', 'T1G', 'T1G', 'T1G', 'T1G', 'T1G', 'T1G', 'T1G', 'T1G', 'T1G', 'T1G', 'T1G', 'T1G', 'T1G', 'T1G', 'T1G', 'T1G', 'T1G', 'T1G', 'T1G', 'T1G', 'T1G', 'T1G', 'T1G', 'T1G', 'T1G', 'T1G', 'T1G', 'T1G', 'T1G', 'T1G', 'T1G', 'T1G', 'T1G', 'T1G', 'T1G', 'T1G', 'T1G', 'T1G', 'T1G', 'T1G', 'T1G', 'T1G', 'T1G', 'T1G', 'T1G', 'T1G', 'T1G', 'T1G', 'T1G', 'T1G', 'T1G', 'T1G', 'T1G', 'T1G', 'T1G', 'T1G', 'T1G', 'T1G', 'T1G', 'T1G', 'T1G', 'T1D', 'T1G', 'T1G', 'T1G', 'T1G', 'T1G', 'T1G', 'T1G', 'T1G', 'T1G', 'T1G', 'T1G', 'T1G', 'T1G', 'T1G', 'T1G', 'T1G', 'T1G', 'T1G', 'T1G', 'T1G', 'T1G', 'T1G', 'T1G', 'T1G', 'T1G', 'T1G', 'T1G', 'T1G', 'T1G', 'T1G', 'T1G', 'T1G', 'T1G', 'T1G', 'T1G', 'T1G', 'T1G', 'T1G', 'T1G', 'T1G', 'T1G', 'T1G', 'T1G', 'T1G', 'T1G', 'T1G', 'T1G', 'T1G', 'T1D', 'T1G', 'T1G', 'T1G', 'T1G', 'T1G', 'T1G', 'T1G', 'T1G', 'T1G', 'T1G', 'T1G', 'T1G', 'T1G', 'T1G', 'T1G', 'T1G', 'T1G', 'T1G', 'T1G', 'T1G', 'T1G', 'T1G', 'T1G', 'T1G', 'T1G', 'T1G', 'T1G', 'T1G', 'T1G', 'T1G', 'T1G', 'T1G', 'T1G', 'T1G', 'T1G', 'T1G', 'T1G', 'T1G', 'T1G', 'T1G', 'T1G', 'T1G', 'T1G', 'T1G', 'T1G', 'T1G', 'T1G', 'T1G', 'T1G', 'T1D', 'T1G', 'T1G', 'T1G', 'T1G', 'T1G', 'T1G', 'T1G', 'T1G', 'T1G', 'T1G', 'T1G', 'T1G', 'T1G', 'T1G', 'T1G', 'T1G', 'T1G', 'T1G', 'T1G', 'T1G', 'T1G', 'T1G', 'T1G', 'T1G', 'T1G', 'T1G', 'T1G', 'T1G', 'T1G', 'T1G', 'T1G', 'T1G', 'T1G', 'T1G', 'T1G', 'T1G', 'T1G', 'T1G', 'T1G', 'T1G', 'T1G', 'T1G', 'T1G', 'T1G', 'T1G', 'T1G', 'T1G', 'T1G', 'T1G', 'T1G', 'T1D', 'T1G', 'T1G', 'T1G', 'T1G', 'T1G', 'T1G', 'T1G', 'T1G', 'T1G', 'T1G', 'T1G', 'T1G', 'T1G', 'T1G', 'T1G', 'T1G', 'T1G', 'T1G', 'T1G', 'T1G', 'T1G', 'T1G', 'T1G', 'T1G', 'T1G', 'T1G', 'T1G', 'T1G', 'T1G', 'T1G', 'T1G', 'T1G', 'T1G', 'T1G', 'T1G', 'T1G', 'T1G', 'T1G', 'T1G', 'T1G', 'T1G', 'T1G', 'T1G', 'T1G', 'T1G', 'T1G', 'T1G', 'T1G', 'T1G', 'T1G', 'T1G', 'T1G', 'T1G', 'T1G', 'T1G', 'T1G', 'T1G', 'T1G', 'T1G', 'T1G', 'T1D', 'T1G', 'T1G', 'T1G', 'T1G', 'T1D', 'T1G', 'T1G', 'T1G', 'T1G', 'T1G', 'T1G', 'T1G', 'T1G', 'T1G', 'T1G', 'T1G', 'T1G', 'T1G', 'T1G', 'T1G', 'T1G', 'T1G', 'T1G', 'T1G', 'T1G', 'T1G', 'T1G', 'T1G', 'T1G', 'T1G', 'T1G', 'T1G', 'T1G', 'T1G', 'T1G', 'T1G', 'T1G', 'T1G', 'T1G', 'T1G', 'T1G', 'T1G', 'T1G', 'T1G', 'T1G', 'T1G', 'T1G', 'T1G', 'T1G', 'T1G', 'T1G', 'T1G', 'T1G', 'T1G', 'T1G', 'T1G', 'T1G', 'T1G', 'T1G', 'T1G', 'T1G', 'T1G', 'T1G', 'T1G', 'T1G', 'T1G', 'T1G', 'T1G', 'T1G', 'T1G', 'T1G', 'T1G', 'T1G', 'T1G', 'T1G', 'T1G', 'T1G', 'T1G', 'T1G', 'T1G', 'T1G', 'T1G', 'T1G', 'T1G', 'T1G', 'T1G', 'T1G', 'T1G', 'T1G', 'T1G', 'T1G', 'T1G', 'T1G', 'T1G', 'T1G', 'T1G', 'T1G', 'T1G', 'T1G', 'T1G', 'T1G', 'T1G', 'T1G', 'T1G', 'T1G', 'T1G', 'T1G', 'T1G', 'T1G', 'T1G', 'T1G', 'T1G', 'T1G', 'T1G', 'T1G', 'T1G', 'T1G', 'T1G', 'T1G', 'T1G', 'T1G', 'T1G', 'T1G', 'T1G', 'T1G', 'T1G', 'T1G', 'T1D', 'T1G', 'T1G', 'T1G', 'T1G', 'T1G', 'T1G', 'T1G', 'T1G', 'T1G', 'T1G', 'T1G', 'T1G', 'T1G', 'T1G', 'T1G', 'T1G', 'T1G', 'T1G', 'T1G', 'T1G', 'T1G', 'T1G', 'T1G', 'T1G', 'T1G', 'T1G', 'T1G', 'T1G', 'T1G', 'T1G', 'T1G', 'T1G', 'T1G', 'T1G', 'T1G', 'T1G', 'T1G', 'T1G', 'T1G', 'T1G', 'T1G', 'T1G', 'T1G', 'T1G', 'T1G', 'T1G', 'T1G', 'T1G', 'T1G', 'T1G', 'T1G', 'T1G', 'T1G', 'T1G', 'T1G', 'T1G', 'T1G', 'T1G', 'T1G', 'T1G', 'T1G', 'T1G', 'T1G', 'T1D', 'T1G', 'T1G', 'T1G', 'T1G', 'T1G', 'T1G', 'T1G', 'T1G', 'T1G', 'T1G', 'T1G', 'T1G', 'T1G', 'T1G', 'T1G', 'T1G', 'T1G', 'T1G', 'T1G', 'T1G', 'T1G', 'T1G', 'T1G', 'T1G', 'T1G', 'T1G', 'T1G', 'T1G', 'T1G', 'T1G', 'T1G', 'T1G', 'T1G', 'T1G', 'T1G', 'T1G', 'T1G', 'T1G', 'T1G', 'T1G', 'T1G', 'T1G', 'T1G', 'T1G', 'T1G', 'T1G', 'T1G', 'T1G', 'T1G', 'T1G', 'T1G', 'T1G', 'T1G', 'T1G', 'T1G', 'T1G', 'T1G', 'T1G', 'T1G', 'T1G', 'T1G', 'T1G', 'T1G', 'T1G', 'T1G', 'T1G', 'T1G', 'T1G', 'T1G', 'T1G', 'T1G', 'T1G', 'T1G', 'T1G', 'T1G', 'T1G', 'T1G', 'T1G', 'T1G', 'T1G', 'T1G', 'T1G', 'T1G', 'T1G', 'T1G', 'T1G', 'T1G', 'T1G', 'T1G', 'T1G', 'T1G', 'T1G', 'T1G', 'T1G', 'T1G', 'T1G', 'T1G', 'T1G', 'T1G', 'T1G', 'T1G', 'T1G', 'T1G', 'T1G', 'T1G', 'T1G', 'T1G', 'T1G', 'T1G', 'T1G', 'T1G', 'T1G', 'T1G', 'T1G', 'T1G', 'T1G', 'T1G', 'T1G', 'T1G', 'T1G', 'T1G', 'T1G', 'T1G', 'T1G', 'T1G', 'T1G', 'T1G', 'T1G', 'T1G', 'T1G', 'T1G', 'T1G', 'T1G', 'T1G', 'T1G', 'T1G', 'T1G', 'T1G', 'T1G', 'T1G', 'T1G', 'T1G', 'T1G', 'T1G', 'T1G', 'T1G', 'T1G', 'T1G', 'T1G', 'T1G', 'T1G', 'T1G', 'T1G', 'T1G', 'T1G', 'T1G', 'T1G', 'T1G', 'T1G', 'T1G', 'T1G', 'T1G', 'T1G', 'T1G', 'T1G', 'T1G', 'T1G', 'T1G', 'T1G', 'T1G', 'T1G', 'T1G', 'T1G', 'T1G', 'T1G', 'T1G', 'T1G', 'T1G', 'T1G', 'T1G', 'T1G', 'T1G', 'T1G', 'T1G', 'T1G', 'T1G', 'T1G', 'T1G', 'T1G', 'T1G', 'T1G', 'T1G', 'T1G', 'T1G', 'T1G', 'T1G', 'T1G', 'T1G', 'T1G', 'T1G', 'T1G', 'T1G', 'T1G', 'T1G', 'T1G', 'T1G', 'T1G', 'T1G', 'T1G', 'T1G', 'T1G', 'T1G', 'T1G', 'T1G', 'T1G', 'T1G', 'T1G', 'T1G', 'T1G', 'T1G', 'T1G', 'T1G', 'T1G', 'T1G', 'T1G', 'T1G', 'T1G', 'T1G', 'T1G', 'T1G', 'T1G', 'T1G', 'T1G', 'T1G', 'T1G', 'T1G', 'T1G', 'T1G', 'T1G', 'T1G', 'T1G', 'T1G', 'T1G', 'T1G', 'T1G', 'T1G', 'T1G', 'T1G', 'T1G', 'T1G', 'T1G', 'T1G', 'T1G', 'T1G', 'T1G', 'T1G', 'T1G', 'T1G', 'T1G', 'T1G', 'T1G', 'T1G', 'T1G', 'T1G', 'T1G', 'T1G', 'T1G', 'T1G', 'T1G', 'T1G', 'T1G', 'T1G', 'T1G', 'T1G', 'T1G', 'T1G', 'T1G', 'T1G', 'T1G', 'T1G', 'T1G', 'T1G', 'T1G', 'T1G', 'T1G', 'T1G', 'T1G', 'T1G', 'T1G', 'T1G', 'T1G', 'T1G', 'T1G', 'T1G', 'T1G', 'T1G', 'T1G', 'T1G', 'T1G', 'T1G', 'T1G', 'T1G', 'T1G', 'T1G', 'T1G', 'T1G', 'T1G', 'T1G', 'T1G', 'T1G', 'T1G', 'T1G', 'T1G', 'T1G', 'T1G', 'T1G', 'T1G', 'T1G', 'T1G', 'T1G', 'T1G', 'T1G', 'T1G', 'T1G', 'T1G', 'T1G', 'T1G', 'T1G', 'T1G', 'T1G', 'T1G', 'T1G', 'T1G', 'T1G', 'T1G', 'T1G', 'T1G', 'T1G', 'T1G', 'T1G', 'T1G', 'T1G', 'T1G', 'T1G', 'T1G', 'T1G', 'T1G', 'T1G', 'T1G', 'T1G', 'T1G', 'T1G', 'T1G', 'T1G', 'T1G', 'T1G', 'T1G', 'T1G', 'T1G', 'T1G', 'T1G', 'T1G', 'T1G', 'T1G', 'T1G', 'T1G', 'T1G', 'T1G', 'T1G', 'T1G', 'T1G', 'T1G', 'T1G', 'T1G', 'T1G', 'T1G', 'T1G', 'T1G', 'T1G', 'T1G', 'T1G', 'T1G', 'T1G', 'T1G', 'T1G', 'T1G', 'T1G', 'T1G', 'T1G', 'T1G', 'T1G', 'T1G', 'T1G', 'T1G', 'T1G', 'T1G', 'T1G', 'T1G', 'T1G', 'T1G', 'T1G', 'T1G', 'T1G', 'T1G', 'T1G', 'T1G', 'T1G', 'T1G', 'T1G', 'T1G', 'T1D', 'T1G', 'T1G', 'T1G', 'T1G', 'T1G', 'T1G', 'T1G', 'T1G', 'T1G', 'T1G', 'T1G', 'T1G', 'T1G', 'T1G', 'T1G', 'T1G', 'T1G', 'T1G', 'T1G', 'T1G', 'T1G', 'T1G', 'T1G', 'T1G', 'T1G', 'T1G', 'T1G', 'T1G', 'T1G', 'T1G', 'T1G', 'T1G', 'T1G', 'T1G', 'T1G', 'T1G', 'T1G', 'T1G', 'T1G', 'T1G', 'T1G', 'T1G', 'T1G', 'T1G', 'T1G', 'T1G', 'T1G', 'T1G', 'T1G', 'T1G', 'T1G', 'T1G', 'T1G', 'T1G', 'T1G', 'T1G', 'T1G', 'T1G', 'T1G', 'T1G', 'T1G', 'T1G', 'T1G', 'T1G', 'T1G', 'T1G', 'T1G', 'T1G', 'T1G', 'T1G', 'T1G', 'T1G', 'T1G', 'T1G', 'T1G', 'T1G', 'T1G', 'T1G', 'T1G', 'T1G', 'T1G', 'T1G', 'T1G', 'T1G', 'T1G', 'T1G', 'T1D', 'T1G', 'T1G', 'T1G', 'T1G', 'T1G', 'T1G', 'T1G', 'T1G', 'T1G', 'T1G', 'T1G', 'T1G', 'T1G', 'T1G', 'T1G', 'T1G', 'T1G', 'T1G', 'T1G', 'T1G', 'T1G', 'T1G', 'T1G', 'T1G', 'T1G', 'T1G', 'T1G', 'T1G', 'T1G', 'T1G', 'T1G', 'T1G', 'T1G', 'T1G', 'T1G', 'T1G', 'T1G', 'T1G', 'T1G', 'T1G', 'T1G', 'T1G', 'T1G', 'T1G', 'T1G', 'T1G', 'T1G', 'T1G', 'T1G', 'T1G', 'T1G', 'T1G', 'T1G', 'T1G', 'T1G', 'T1G', 'T1G', 'T1G', 'T1G', 'T1G', 'T1G', 'T1G', 'T1G', 'T1G', 'T1G', 'T1G', 'T1G', 'T1G', 'T1G', 'T1G', 'T1G', 'T1G', 'T1G', 'T1G', 'T1G', 'T1G', 'T1G', 'T1G', 'T1G', 'T1G', 'T1G', 'T1G', 'T1G', 'T1G', 'T1G', 'T1G', 'T1G', 'T1G', 'T1G', 'T1G', 'T1G', 'T1G', 'T1G', 'T1G', 'T1G', 'T1G', 'T1G', 'T1G', 'T1G', 'T1G', 'T1G', 'T1G', 'T1G', 'T1G', 'T1G', 'T1G', 'T1G', 'T1G', 'T1G', 'T1G', 'T1G', 'T1G', 'T1G', 'T1G', 'T1G', 'T1G', 'T1G', 'T1G', 'T1G', 'T1G', 'T1G', 'T1G', 'T1G', 'T1G', 'T1G', 'T1G', 'T1G', 'T1G', 'T1G', 'T1G', 'T1G', 'T1G', 'T1G', 'T1G', 'T1G', 'T1G', 'T1G', 'T1G', 'T1G', 'T1G', 'T1G', 'T1G', 'T1G', 'T1G', 'T1G', 'T1G', 'T1G', 'T1G', 'T1G', 'T1G', 'T1G', 'T1G', 'T1G', 'T1G', 'T1G', 'T1G', 'T1G', 'T1G', 'T1G', 'T1G', 'T1G', 'T1G', 'T1G', 'T1G', 'T1G', 'T1G', 'T1G', 'T1G', 'T1G', 'T1G', 'T1G', 'T1G', 'T1G', 'T1G', 'T1G', 'T1G', 'T1G', 'T1G', 'T1G', 'T1G', 'T1G', 'T1G', 'T1G', 'T1G', 'T1G', 'T1G', 'T1G', 'T1G', 'T1G', 'T1G', 'T1G', 'T1G', 'T1G', 'T1G', 'T1G', 'T1D', 'T1G', 'T1G', 'T1G', 'T1G', 'T1G', 'T1G', 'T1G', 'T1G', 'T1G', 'T1G', 'T1G', 'T1G', 'T1G', 'T1G', 'T1G', 'T1G', 'T1G', 'T1G', 'T1G', 'T1G', 'T1G', 'T1G', 'T1G', 'T1G', 'T1G', 'T1G', 'T1G', 'T1G', 'T1G', 'T1G', 'T1G', 'T1G', 'T1G', 'T1G', 'T1G', 'T1G', 'T1G', 'T1G', 'T1G', 'T1G', 'T1G', 'T1G', 'T1G', 'T1G', 'T1G', 'T1G', 'T1G', 'T1G', 'T1G', 'T1G', 'T1G', 'T1G', 'T1G', 'T1G', 'T1G', 'T1G', 'T1G', 'T1G', 'T1G', 'T1G', 'T1G', 'T1G', 'T1G', 'T1G', 'T1G', 'T1G', 'T1G', 'T1G', 'T1G', 'T1G', 'T1G', 'T1G', 'T1G', 'T1G', 'T1G', 'T1G', 'T1G', 'T1G', 'T1G', 'T1G', 'T1G', 'T1G', 'T1G', 'T1G', 'T1G', 'T1G', 'T1G', 'T1G', 'T1G', 'T1G', 'T1G', 'T1G', 'T1G', 'T1G', 'T1G', 'T1G', 'T1G', 'T1G', 'T1G', 'T1G', 'T1G', 'T1G', 'T1G', 'T1G', 'T1G', 'T1G', 'T1G', 'T1G', 'T1G', 'T1G', 'T1G', 'T1G', 'T1G', 'T1G', 'T1G', 'T1G', 'T1G', 'T1G', 'T1G', 'T1G', 'T1G', 'T1G', 'T1G', 'T1G', 'T1G', 'T1G', 'T1G', 'T1G', 'T1G', 'T1G', 'T1G', 'T1G', 'T1G', 'T1G', 'T1G', 'T1G', 'T1G', 'T1G', 'T1G', 'T1G', 'T1G', 'T1G', 'T1G', 'T1G', 'T1G', 'T1G', 'T1G', 'T1G', 'T1G', 'T1G', 'T1G', 'T1G', 'T1G', 'T1G', 'T1G', 'T1G', 'T1G', 'T1G', 'T1D', 'T1G', 'T1G', 'T1G', 'T1G', 'T1G', 'T1G', 'T1G', 'T1G', 'T1G', 'T1G', 'T1G', 'T1G', 'T1G', 'T1G', 'T1G', 'T1G', 'T1G', 'T1G', 'T1G', 'T1G', 'T1G', 'T1G', 'T1G', 'T1G', 'T1G', 'T1G', 'T1G', 'T1G', 'T1G', 'T1G', 'T1G', 'T1G', 'T1G', 'T1G', 'T1G', 'T1G', 'T1G', 'T1G', 'T1G', 'T1G', 'T1G', 'T1G', 'T1G', 'T1G', 'T1G', 'T1G', 'T1G', 'T1G', 'T1G', 'T1G', 'T1G', 'T1G', 'T1G', 'T1G', 'T1G', 'T1G', 'T1G', 'T1G', 'T1G', 'T1G', 'T1G', 'T1G', 'T1G', 'T1G', 'T1G', 'T1G', 'T1G', 'T1G', 'T1G', 'T1G', 'T1G', 'T1G', 'T1G', 'T1G', 'T1G', 'T1G', 'T1G', 'T1G', 'T1G', 'T1G', 'T1G', 'T1G', 'T1G', 'T1G', 'T1G', 'T1G', 'T1G', 'T1G', 'T1G', 'T1G', 'T1G', 'T1G', 'T1G', 'T1G', 'T1G', 'T1G', 'T1G', 'T1G', 'T1G', 'T1G', 'T1G', 'T1G', 'T1G', 'T1G', 'T1G', 'T1G', 'T1G', 'T1G', 'T1G', 'T1G', 'T1G', 'T1G', 'T1G', 'T1G', 'T1G', 'T1G', 'T1G', 'T1G', 'T1G', 'T1G', 'T1G', 'T1G', 'T1G', 'T1G', 'T1G', 'T1G', 'T1G', 'T1G', 'T1G', 'T1G', 'T1G', 'T1G', 'T1G', 'T1G', 'T1G', 'T1G', 'T1G', 'T1G', 'T1G', 'T1G', 'T1G', 'T1G', 'T1G', 'T1G', 'T1G', 'T1G', 'T1G', 'T1G', 'T1G', 'T1G', 'T1G', 'T1G', 'T1G', 'T1G', 'T1G', 'T1G', 'T1G', 'T1G', 'T1G', 'T1G', 'T1G', 'T1G', 'T1G', 'T1G', 'T1G', 'T1G', 'T1G', 'T1G', 'T1G', 'T1G', 'T1G', 'T1G', 'T1G', 'T1G', 'T1G', 'T1G', 'T1G', 'T1G', 'T1G', 'T1G', 'T1G', 'T1G', 'T1G', 'T1G', 'T1G', 'T1G', 'T1G', 'T1G', 'T1G', 'T1G', 'T1G', 'T1G', 'T1G', 'T1D', 'T1G', 'T1G', 'T1G', 'T1G', 'T1G', 'T1G', 'T1G', 'T1G', 'T1G', 'T1G', 'T1G', 'T1G', 'T1G', 'T1G', 'T1G', 'T1G', 'T1G', 'T1G', 'T1G', 'T1G', 'T1G', 'T1G', 'T1G', 'T1G', 'T1G', 'T1G', 'T1G', 'T1G', 'T1G', 'T1G', 'T1G', 'T1G', 'T1G', 'T1G', 'T1G', 'T1G', 'T1G', 'T1G', 'T1G', 'T1G', 'T1G', 'T1G', 'T1G', 'T1G', 'T1G', 'T1G', 'T1G', 'T1G', 'T1G', 'T1G', 'T1G', 'T1G', 'T1G', 'T1G', 'T1G', 'T1G', 'T1G', 'T1G', 'T1G', 'T1G', 'T1G', 'T1G', 'T1G', 'T1G', 'T1G', 'T1G', 'T1G', 'T1G', 'T1G', 'T1G', 'T1G', 'T1G', 'T1G', 'T1G', 'T1G', 'T1G', 'T1G', 'T1G', 'T1G', 'T1D', 'T1G', 'T1D', 'T1G', 'T1G', 'T1G', 'T1G', 'T1G', 'T1G', 'T1G', 'T1G', 'T1G', 'T1G', 'T1G', 'T1G', 'T1G', 'T1G', 'T1G', 'T1G', 'T1G', 'T1G', 'T1G', 'T1G', 'T1G', 'T1G', 'T1G', 'T1G', 'T1G', 'T1G', 'T1G', 'T1G', 'T1G', 'T1G', 'T1G', 'T1G', 'T1G', 'T1G', 'T1G', 'T1G', 'T1G', 'T1G', 'T1G', 'T1G', 'T1G', 'T1G', 'T1G', 'T1G', 'T1G', 'T1G', 'T1G', 'T1G', 'T1G', 'T1G', 'T1G', 'T1G', 'T1G', 'T1G', 'T1G', 'T1G', 'T1G', 'T1G', 'T1G', 'T1G', 'T1G', 'T1G', 'T1G', 'T1G', 'T1G', 'T1G', 'T1G', 'T1G', 'T1G', 'T1G', 'T1G', 'T1G', 'T1G', 'T1G', 'T1G', 'T1G', 'T1G', 'T1G', 'T1G', 'T1G', 'T1G', 'T1G', 'T1G', 'T1G', 'T1G', 'T1G', 'T1G', 'T1G', 'T1G', 'T1G', 'T1G', 'T1G', 'T1G', 'T1G', 'T1G', 'T1G', 'T1G', 'T1G', 'T1G', 'T1G', 'T1G', 'T1G', 'T1G', 'T1G', 'T1G', 'T1G', 'T1G', 'T1G', 'T1G', 'T1G', 'T1G', 'T1G', 'T1G', 'T1G', 'T1G', 'T1G', 'T1G', 'T1G', 'T1G', 'T1G', 'T1G', 'T1G', 'T1G', 'T1G', 'T1G', 'T1G', 'T1G', 'T1G', 'T1G', 'T1G', 'T1G', 'T1G', 'T1G', 'T1G', 'T1G', 'T1G', 'T1G', 'T1G', 'T1G', 'T1G', 'T1G', 'T1G', 'T1G', 'T1G', 'T1G', 'T1G', 'T1G', 'T1G', 'T1G', 'T1G', 'T1G', 'T1G', 'T1G', 'T1G', 'T1G', 'T1G', 'T1G', 'T1G', 'T1G', 'T1G', 'T1G', 'T1G', 'T1G', 'T1G', 'T1G', 'T1G', 'T1G', 'T1G', 'T1G', 'T1G', 'T1G', 'T1G', 'T1G', 'T1G', 'T1G', 'T1G', 'T1G', 'T1G', 'T1G', 'T1G', 'T1G', 'T1G', 'T1G', 'T1G', 'T1G', 'T1G', 'T1G', 'T1G', 'T1G', 'T1G', 'T1G', 'T1G', 'T1G', 'T1D', 'T1G', 'T1G', 'T1G', 'T1G', 'T1G', 'T1G', 'T1G', 'T1G', 'T1G', 'T1G', 'T1G', 'T1G', 'T1G', 'T1G', 'T1G', 'T1G', 'T1G', 'T1G', 'T1G', 'T1G', 'T1G', 'T1G', 'T1G', 'T1G', 'T1G', 'T1G', 'T1G', 'T1G', 'T1G', 'T1G', 'T1G', 'T1G', 'T1G', 'T1G', 'T1G', 'T1G', 'T1G', 'T1G', 'T1G', 'T1G', 'T1G', 'T1G', 'T1G', 'T1G', 'T1G', 'T1G', 'T1G', 'T1G', 'T1G', 'T1G', 'T1G', 'T1G', 'T1G', 'T1G', 'T1G', 'T1G', 'T1G', 'T1G', 'T1G', 'T1G', 'T1G', 'T1G', 'T1G', 'T1G', 'T1G', 'T1G', 'T1G', 'T1G', 'T1G', 'T1G', 'T1G', 'T1G', 'T1D', 'T1G', 'T1G', 'T1G', 'T1G', 'T1G', 'T1G', 'T1G', 'T1G', 'T1G', 'T1G', 'T1G', 'T1G', 'T1G', 'T1G', 'T1G', 'T1G', 'T1G', 'T1G', 'T1G', 'T1G', 'T1G', 'T1G', 'T1G', 'T1G', 'T1G', 'T1G', 'T1G', 'T1G', 'T1G', 'T1G', 'T1G', 'T1G', 'T1G', 'T1G', 'T1G', 'T1G', 'T1G', 'T1G', 'T1G', 'T1G', 'T1G', 'T1G', 'T1G', 'T1G', 'T1G', 'T1G', 'T1G', 'T1G', 'T1G', 'T1G', 'T1G', 'T1G', 'T1G', 'T1G', 'T1G', 'T1G', 'T1G', 'T1G', 'T1G', 'T1G', 'T1G', 'T1G', 'T1G', 'T1G', 'T1G', 'T1G', 'T1G', 'T1G', 'T1G', 'T1G', 'T1G', 'T1G', 'T1G', 'T1G', 'T1G', 'T1G', 'T1G', 'T1G', 'T1G', 'T1G', 'T1G', 'T1G', 'T1G', 'T1G', 'T1G', 'T1G', 'T1G', 'T1G', 'T1G', 'T1G', 'T1G', 'T1G', 'T1G', 'T1G', 'T1G', 'T1G', 'T1G', 'T1G', 'T1G', 'T1G', 'T1G', 'T1G', 'T1G', 'T1G', 'T1G', 'T1G', 'T1G', 'T1G', 'T1G', 'T1G', 'T1G', 'T1G', 'T1G', 'T1G', 'T1G', 'T1G', 'T1G', 'T1G', 'T1G', 'T1G', 'T1G', 'T1G', 'T1G', 'T1G', 'T1G', 'T1G', 'T1G', 'T1G', 'T1G', 'T1G', 'T1G', 'T1G', 'T1G', 'T1G', 'T1G', 'T1G', 'T1G', 'T1G', 'T1G', 'T1G', 'T1G', 'T1G', 'T1G', 'T1G', 'T1G', 'T1G', 'T1G', 'T1G', 'T1G', 'T1G', 'T1G', 'T1G', 'T1G', 'T1G', 'T1G', 'T1G', 'T1G', 'T1G', 'T1G', 'T1G', 'T1G', 'T1G', 'T1G', 'T1G', 'T1G', 'T1G', 'T1G', 'T1G', 'T1G', 'T1G', 'T1G', 'T1G', 'T1G', 'T1G', 'T1G', 'T1G', 'T1G', 'T1G', 'T1G', 'T1G', 'T1G', 'T1G', 'T1G', 'T1G', 'T1G', 'T1G', 'T1G', 'T1G', 'T1G', 'T1G', 'T1G', 'T1G', 'T1G', 'T1G', 'T1G', 'T1G', 'T1G', 'T1G', 'T1G', 'T1G', 'T1G', 'T1G', 'T1G', 'T1G', 'T1G', 'T1G', 'T1G', 'T1G', 'T1G', 'T1G', 'T1G', 'T1G', 'T1G', 'T1G', 'T1G', 'T1G', 'T1G', 'T1G', 'T1G', 'T1G', 'T1G', 'T1G', 'T1G', 'T1G', 'T1G', 'T1G', 'T1G', 'T1G', 'T1G', 'T1G', 'T1G', 'T1D', 'T1G', 'T1G', 'T1G', 'T1G', 'T1G', 'T1G', 'T1G', 'T1G', 'T1G', 'T1G', 'T1G', 'T1G', 'T1G', 'T1G', 'T1G', 'T1G', 'T1G', 'T1G', 'T1G', 'T1G', 'T1G', 'T1G', 'T1G', 'T1G', 'T1G', 'T1G', 'T1G', 'T1G', 'T1G', 'T1G', 'T1G', 'T1G', 'T1G', 'T1G', 'T1G', 'T1G', 'T1G', 'T1G', 'T1G', 'T1G', 'T1G', 'T1G', 'T1G', 'T1G', 'T1G', 'T1G', 'T1G', 'T1G', 'T1G', 'T1G', 'T1G', 'T1G', 'T1G', 'T1G', 'T1G', 'T1G', 'T1G', 'T1G', 'T1G', 'T1G', 'T1G', 'T1G', 'T1G', 'T1G', 'T1G', 'T1G', 'T1G', 'T1G', 'T1G', 'T1G', 'T1G', 'T1G', 'T1D', 'T1G', 'T1G', 'T1G', 'T1G', 'T1G', 'T1G', 'T1G', 'T1G', 'T1G', 'T1G', 'T1G', 'T1G', 'T1G', 'T1G', 'T1G', 'T1G', 'T1G', 'T1G', 'T1G', 'T1G', 'T1G', 'T1G', 'T1G', 'T1G', 'T1G', 'T1D', 'T1G', 'T1G', 'T1G', 'T1G', 'T1G', 'T1G', 'T1G', 'T1G', 'T1G', 'T1G', 'T1G', 'T1G', 'T1G', 'T1G', 'T1G', 'T1G', 'T1G', 'T1G', 'T1G', 'T1G', 'T1G', 'T1G', 'T1G', 'T1G', 'T1G', 'T1G', 'T1G', 'T1G', 'T1G', 'T1G', 'T1G', 'T1G', 'T1G', 'T1G', 'T1G', 'T1G', 'T1G', 'T1G', 'T1G', 'T1G', 'T1G', 'T1G', 'T1G', 'T1G', 'T1G', 'T1G', 'T1G', 'T1G', 'T1G', 'T1G', 'T1G', 'T1G', 'T1G', 'T1G', 'T1G', 'T1G', 'T1G', 'T1G', 'T1G', 'T1G', 'T1G', 'T1G', 'T1G', 'T1G', 'T1G', 'T1G', 'T1G', 'T1G', 'T1G', 'T1G', 'T1G', 'T1G', 'T1G', 'T1G', 'T1G', 'T1G', 'T1G', 'T1G', 'T1G', 'T1G', 'T1G', 'T1G', 'T1G', 'T1G', 'T1G', 'T1G', 'T1G', 'T1G', 'T1G', 'T1G', 'T1G', 'T1G', 'T1G', 'T1G', 'T1G', 'T1G', 'T1G', 'T1G', 'T1G', 'T1G', 'T1G', 'T1G', 'T1G', 'T1G', 'T1G', 'T1G', 'T1G', 'T1G', 'T1G', 'T1G', 'T1G', 'T1G', 'T1G', 'T1G', 'T1G', 'T1G', 'T1G', 'T1G', 'T1G', 'T1G', 'T1G', 'T1G', 'T1G', 'T1G', 'T1G', 'T1G', 'T1G', 'T1G', 'T1G', 'T1G', 'T1G', 'T1G', 'T1G', 'T1G', 'T1G', 'T1G', 'T1G', 'T1G', 'T1G', 'T1G', 'T1G', 'T1G', 'T1G', 'T1G', 'T1G', 'T1G', 'T1G', 'T1G', 'T1G', 'T1G', 'T1G', 'T1G', 'T1G', 'T1G', 'T1G', 'T1G', 'T1G', 'T1G', 'T1G', 'T1G', 'T1G', 'T1G', 'T1G', 'T1G', 'T1G', 'T1G', 'T1G', 'T1G', 'T1G', 'T1G', 'T1G', 'T1G', 'T1G', 'T1G', 'T1G', 'T1G', 'T1G', 'T1G', 'T1G', 'T1G', 'T1G', 'T1G', 'T1G', 'T1G', 'T1G', 'T1G', 'T1G', 'T1G', 'T1G', 'T1G', 'T1G', 'T1G', 'T1G', 'T1G', 'T1G', 'T1G', 'T1G', 'T1G', 'T1G', 'T1G', 'T1G', 'T1G', 'T1G', 'T1G', 'T1G', 'T1G', 'T1G', 'T1G', 'T1G', 'T1G', 'T1G', 'T1G', 'T1G', 'T1G', 'T1G', 'T1G', 'T1G', 'T1G', 'T1G', 'T1G', 'T1G', 'T1G', 'T1G', 'T1G', 'T1G', 'T1G', 'T1G', 'T1G', 'T1G', 'T1G', 'T1G', 'T1G', 'T1G', 'T1G', 'T1G', 'T1G', 'T1G', 'T1G', 'T1G', 'T1G', 'T1G', 'T1G', 'T1G', 'T1G', 'T1G', 'T1G', 'T1G', 'T1G', 'T1G', 'T1G', 'T1G', 'T1G', 'T1G', 'T1G', 'T1G', 'T1G', 'T1G', 'T1G', 'T1G', 'T1G', 'T1G', 'T1G', 'T1G', 'T1G', 'T1G', 'T1G', 'T1G', 'T1D', 'T1G', 'T1G', 'T1G', 'T1G', 'T1G', 'T1G', 'T1G', 'T1G', 'T1G', 'T1G', 'T1G', 'T1G', 'T1G', 'T1G', 'T1G', 'T1G', 'T1G', 'T1G', 'T1G', 'T1G', 'T1G', 'T1G', 'T1G', 'T1G', 'T1G', 'T1G', 'T1G', 'T1G', 'T1G', 'T1G', 'T1G', 'T1G', 'T1G', 'T1G', 'T1G', 'T1G', 'T1G', 'T1G', 'T1G', 'T1G', 'T1G', 'T1G', 'T1G', 'T1G', 'T1G', 'T1G', 'T1G', 'T1G', 'T1G', 'T1G', 'T1G', 'T1G', 'T1G', 'T1G', 'T1G', 'T1D', 'T1D', 'T1G', 'T1G', 'T1G', 'T1G', 'T1G', 'T1G', 'T1G', 'T1G', 'T1G', 'T1G', 'T1G', 'T1G', 'T1G', 'T1G', 'T1G', 'T1G', 'T1G', 'T1G', 'T1G', 'T1G', 'T1G', 'T1G', 'T1G', 'T1G', 'T1G', 'T1G', 'T1G', 'T1G', 'T1G', 'T1G', 'T1G', 'T1G', 'T1G', 'T1G', 'T1G', 'T1G', 'T1G', 'T1G', 'T1G', 'T1G', 'T1G', 'T1G', 'T1G', 'T1G', 'T1G', 'T1G', 'T1G', 'T1G', 'T1G', 'T1G', 'T1G', 'T1G', 'T1G', 'T1G', 'T1G', 'T1G', 'T1G', 'T1G', 'T1G', 'T1G', 'T1G', 'T1G', 'T1G', 'T1G', 'T1G', 'T1G', 'T1G', 'T1G', 'T1G', 'T1G', 'T1G', 'T1G', 'T1G', 'T1G', 'T1G', 'T1G', 'T1G', 'T1G', 'T1G', 'T1G', 'T1G', 'T1G', 'T1G', 'T1G', 'T1G', 'T1G', 'T1G', 'T1G', 'T1G', 'T1G', 'T1G', 'T1G', 'T1G', 'T1G', 'T1G', 'T1G', 'T1G', 'T1G', 'T1G', 'T1G', 'T1G', 'T1G', 'T1G', 'T1G', 'T1G', 'T1G', 'T1G', 'T1G', 'T1G', 'T1G', 'T1G', 'T1G', 'T1G', 'T1G', 'T1G', 'T1G', 'T1G', 'T1G', 'T1G', 'T1G', 'T1G', 'T1G', 'T1G', 'T1G', 'T1G', 'T1G', 'T1G', 'T1G', 'T1G', 'T1G', 'T1G', 'T1G', 'T1G', 'T1G', 'T1G', 'T1G', 'T1G', 'T1G', 'T1G', 'T1G', 'T1G', 'T1G', 'T1G', 'T1G', 'T1G', 'T1G', 'T1G', 'T1G', 'T1G', 'T1G', 'T1G', 'T1G', 'T1G', 'T1G', 'T1G', 'T1G', 'T1G', 'T1G', 'T1G', 'T1G', 'T1G', 'T1G', 'T1G', 'T1G', 'T1G', 'T1G', 'T1G', 'T1G', 'T1G', 'T1G', 'T1G', 'T1G', 'T1G', 'T1G', 'T1G', 'T1G', 'T1G', 'T1G', 'T1G', 'T1G', 'T1G', 'T1G', 'T1G', 'T1G', 'T1G', 'T1G', 'T1G', 'T1G', 'T1G', 'T1G', 'T1G', 'T1G', 'T1G', 'T1G', 'T1G', 'T1G', 'T1G', 'T1G', 'T1G', 'T1G', 'T1G', 'T1G', 'T1G', 'T1G', 'T1G', 'T1G', 'T1G', 'T1G', 'T1G', 'T1G', 'T1G', 'T1G', 'T1G', 'T1G', 'T1G', 'T1G', 'T1G', 'T1G', 'T1G', 'T1G', 'T1G', 'T1G', 'T1D', 'T1G', 'T1G', 'T1G', 'T1G', 'T1G', 'T1G', 'T1G', 'T1G', 'T1G', 'T1G', 'T1G', 'T1G', 'T1G', 'T1G', 'T1G', 'T1G', 'T1G', 'T1G', 'T1G', 'T1G', 'T1G', 'T1G', 'T1G', 'T1G', 'T1G', 'T1G', 'T1G', 'T1G', 'T1G', 'T1G', 'T1G', 'T1G', 'T1G', 'T1G', 'T1G', 'T1G', 'T1G', 'T1G', 'T1G', 'T1G', 'T1G', 'T1G', 'T1G', 'T1G', 'T1G', 'T1G', 'T1G', 'T1G', 'T1G', 'T1G', 'T1G', 'T1G', 'T1G', 'T1G', 'T1G', 'T1G', 'T1G', 'T1G', 'T1G', 'T1G', 'T1G', 'T1G', 'T1G', 'T1G', 'T1G', 'T1G', 'T1G', 'T1G', 'T1G', 'T1G', 'T1G', 'T1G', 'T1G', 'T1G', 'T1G', 'T1G', 'T1G', 'T1G', 'T1G', 'T1G', 'T1G', 'T1G', 'T1G', 'T1G', 'T1G', 'T1G', 'T1G', 'T1G', 'T1G', 'T1G', 'T1G', 'T1G', 'T1G', 'T1G', 'T1G', 'T1G', 'T1G', 'T1G', 'T1G', 'T1D', 'T1G', 'T1G', 'T1G', 'T1G', 'T1G', 'T1G', 'T1G', 'T1G', 'T1G', 'T1G', 'T1G', 'T1G', 'T1G', 'T1G', 'T1G', 'T1G', 'T1G', 'T1G', 'T1G', 'T1G', 'T1G', 'T1G', 'T1G', 'T1G', 'T1G', 'T1G', 'T1G', 'T1G', 'T1G', 'T1G', 'T1G', 'T1G', 'T1G', 'T1G', 'T1G', 'T1G', 'T1G', 'T1G', 'T1G', 'T1G', 'T1G', 'T1G', 'T1D', 'T1G', 'T1G', 'T1G', 'T1G', 'T1G', 'T1G', 'T1G', 'T1G', 'T1G', 'T1G', 'T1G', 'T1G', 'T1G', 'T1G', 'T1G', 'T1D', 'T1G', 'T1G', 'T1G', 'T1G', 'T1G', 'T1G', 'T1G', 'T1G', 'T1G', 'T1G', 'T1G', 'T1G', 'T1G', 'T1G', 'T1G', 'T1G', 'T1G', 'T1G', 'T1G', 'T1G', 'T1G', 'T1G', 'T1G', 'T1G', 'T1G', 'T1G', 'T1G', 'T1G', 'T1G', 'T1G', 'T1G', 'T1G', 'T1G', 'T1G', 'T1G', 'T1G', 'T1G', 'T1G', 'T1G', 'T1G', 'T1G', 'T1G', 'T1G', 'T1G', 'T1G', 'T1G', 'T1G', 'T1G', 'T1G', 'T1G', 'T1G', 'T1G', 'T1D', 'T1G', 'T1G', 'T1G', 'T1G', 'T1G', 'T1G', 'T1G', 'T1G', 'T1G', 'T1G', 'T1G', 'T1G', 'T1G', 'T1G', 'T1G', 'T1G', 'T1G', 'T1G', 'T1G', 'T1G', 'T1G', 'T1G', 'T1G', 'T1G', 'T1G', 'T1G', 'T1G', 'T1G', 'T1G', 'T1G', 'T1G', 'T1G', 'T1G', 'T1G', 'T1G', 'T1G', 'T1G', 'T1G', 'T1G', 'T1G', 'T1G', 'T1G', 'T1G', 'T1G', 'T1G', 'T1G', 'T1G', 'T1G', 'T1G', 'T1G', 'T1G', 'T1G', 'T1G', 'T1G', 'T1G', 'T1G', 'T1G', 'T1G', 'T1G', 'T1G', 'T1G', 'T1G', 'T1G', 'T1G', 'T1G', 'T1G', 'T1G', 'T1G', 'T1G', 'T1G', 'T1G', 'T1G', 'T1G', 'T1G', 'T1G', 'T1G', 'T1G', 'T1G', 'T1G', 'T1G', 'T1G', 'T1G', 'T1G', 'T1G', 'T1G', 'T1G', 'T1G', 'T1G', 'T1D', 'T1G', 'T1G', 'T1G', 'T1G', 'T1G', 'T1G', 'T1G', 'T1G', 'T1G', 'T1G', 'T1G', 'T1G', 'T1G', 'T1G', 'T1G', 'T1G', 'T1G', 'T1G', 'T1G', 'T1G', 'T1G', 'T1G', 'T1G', 'T1G', 'T1G', 'T1G', 'T1G', 'T1G', 'T1G', 'T1G', 'T1G', 'T1D', 'T1G', 'T1G', 'T1G', 'T1G', 'T1G', 'T1G', 'T1G', 'T1G', 'T1G', 'T1G', 'T1G', 'T1G', 'T1G', 'T1G', 'T1G', 'T1G', 'T1G', 'T1G', 'T1G', 'T1G', 'T1G', 'T1G', 'T1G', 'T1G', 'T1G', 'T1G', 'T1G', 'T1G', 'T1G', 'T1G', 'T1G', 'T1G', 'T1G', 'T1G', 'T1G', 'T1G', 'T1G', 'T1G', 'T1G', 'T1G', 'T1G', 'T1G', 'T1G', 'T1G', 'T1G', 'T1G', 'T1G', 'T1G', 'T1G', 'T1G', 'T1G', 'T1G', 'T1G', 'T1G', 'T1G', 'T1G', 'T1G', 'T1G', 'T1G', 'T1G', 'T1G', 'T1G', 'T1G', 'T1G', 'T1G', 'T1G', 'T1G', 'T1G', 'T1D', 'T1G', 'T1G', 'T1G', 'T1G', 'T1G', 'T1G', 'T1G', 'T1G', 'T1G', 'T1G', 'T1G', 'T1G', 'T1G', 'T1G', 'T1G', 'T1G', 'T1G', 'T1G', 'T1G', 'T1G', 'T1G', 'T1G', 'T1G', 'T1G', 'T1G', 'T1G', 'T1G', 'T1G', 'T1G', 'T1G', 'T1G', 'T1G', 'T1G', 'T1G', 'T1G', 'T1G', 'T1G', 'T1G', 'T1G', 'T1G', 'T1G', 'T1G', 'T1G', 'T1G', 'T1G', 'T1G', 'T1G', 'T1G', 'T1G', 'T1G', 'T1G', 'T1G', 'T1G', 'T1G', 'T1G', 'T1G', 'T1G', 'T1G', 'T1G', 'T1G', 'T1G', 'T1G', 'T1G', 'T1G', 'T1G', 'T1G', 'T1G', 'T1D', 'T1G', 'T1G', 'T1G', 'T1G', 'T1G', 'T1G', 'T1G', 'T1G', 'T1G', 'T1G', 'T1G', 'T1G', 'T1G', 'T1G', 'T1G', 'T1G', 'T1G', 'T1G', 'T1G', 'T1G', 'T1G', 'T1G', 'T1G', 'T1G', 'T1G', 'T1G', 'T1G', 'T1G', 'T1D', 'T1G', 'T1G', 'T1G', 'T1G', 'T1G', 'T1G', 'T1G', 'T1G', 'T1G', 'T1G', 'T1G', 'T1G', 'T1G', 'T1G', 'T1G', 'T1G', 'T1D', 'T1G', 'T1G', 'T1G', 'T1G', 'T1G', 'T1G', 'T1G', 'T1G', 'T1G', 'T1G', 'T1G', 'T1G', 'T1G', 'T1G', 'T1G', 'T1G', 'T1G', 'T1G', 'T1G', 'T1G', 'T1G', 'T1G', 'T1G', 'T1G', 'T1G', 'T1G', 'T1G', 'T1G', 'T1G', 'T1G', 'T1G', 'T1G', 'T1G', 'T1G', 'T1G', 'T1G', 'T1G', 'T1G', 'T1G', 'T1G', 'T1G', 'T1G', 'T1G', 'T1G', 'T1G', 'T1G', 'T1G', 'T1G', 'T1G', 'T1G', 'T1G', 'T1G', 'T1G', 'T1G', 'T1G', 'T1G', 'T1G', 'T1G', 'T1G', 'T1G', 'T1G', 'T1G', 'T1G', 'T1G', 'T1G', 'T1G', 'T1G', 'T1G', 'T1G', 'T1G', 'T1G', 'T1G', 'T1G', 'T1G', 'T1G', 'T1G', 'T1G', 'T1G', 'T1G', 'T1G', 'T1G', 'T1G', 'T1G', 'T1G', 'T1G', 'T1G', 'T1G', 'T1G', 'T1G', 'T1G', 'T1G', 'T1G', 'T1G', 'T1G', 'T1G', 'T1G', 'T1G', 'T1G', 'T1D', 'T1G', 'T1G', 'T1G', 'T1G', 'T1G', 'T1G', 'T1G', 'T1G', 'T1G', 'T1G', 'T1G', 'T1G', 'T1G', 'T1G', 'T1G', 'T1G', 'T1G', 'T1G', 'T1G', 'T1G', 'T1G', 'T1G', 'T1G', 'T1G', 'T1G', 'T1G', 'T1G', 'T1G', 'T1G', 'T1G', 'T1G', 'T1G', 'T1G', 'T1G', 'T1G', 'T1G', 'T1G', 'T1G', 'T1G', 'T1G', 'T1G', 'T1G', 'T1G', 'T1G', 'T1G', 'T1G', 'T1G', 'T1G', 'T1G', 'T1G', 'T1G', 'T1G', 'T1G', 'T1G', 'T1G', 'T1G', 'T1G', 'T1G', 'T1G', 'T1G', 'T1G', 'T1G', 'T1G', 'T1G', 'T1G', 'T1G', 'T1G', 'T1G', 'T1G', 'T1G', 'T1G', 'T1G', 'T1G', 'T1D', 'T1G', 'T1G', 'T1G', 'T1G', 'T1G', 'T1G', 'T1G', 'T1G', 'T1G', 'T1G', 'T1G', 'T1G', 'T1G', 'T1G', 'T1G', 'T1G', 'T1G', 'T1G', 'T1G', 'T1G', 'T1G', 'T1G', 'T1G', 'T1G', 'T1G', 'T1G', 'T1G', 'T1G', 'T1G', 'T1G', 'T1G', 'T1G', 'T1G', 'T1G', 'T1G', 'T1G', 'T1G', 'T1G', 'T1G', 'T1G', 'T1G', 'T1G', 'T1G', 'T1G', 'T1G', 'T1G', 'T1G', 'T1G', 'T1G', 'T1G', 'T1G', 'T1G', 'T1G', 'T1G', 'T1G', 'T1G', 'T1D', 'T1G', 'T1G', 'T1G', 'T1G', 'T1G', 'T1G', 'T1G', 'T1G', 'T1G', 'T1G', 'T1G', 'T1G', 'T1G', 'T1G', 'T1G', 'T1G', 'T1G', 'T1G', 'T1G', 'T1G', 'T1G', 'T1G', 'T1G', 'T1G', 'T1G', 'T1G', 'T1G', 'T1G', 'T1G', 'T1G', 'T1G', 'T1G', 'T1G', 'T1G', 'T1G', 'T1G', 'T1G', 'T1G', 'T1G', 'T1G', 'T1G', 'T1G', 'T1G', 'T1G', 'T1G', 'T1G', 'T1G', 'T1G', 'T1G', 'T1G', 'T1G', 'T1G', 'T1G', 'T1G', 'T1G', 'T1G', 'T1G', 'T1G', 'T1G', 'T1D', 'T1G', 'T1G', 'T1G', 'T1G', 'T1G', 'T1G', 'T1G', 'T1G', 'T1G', 'T1G', 'T1G', 'T1G', 'T1G', 'T1G', 'T1G', 'T1G', 'T1G', 'T1G', 'T1G', 'T1G', 'T1G', 'T1G', 'T1G', 'T1G', 'T1G', 'T1G', 'T1G', 'T1G', 'T1G', 'T1G', 'T1G', 'T1G', 'T1G', 'T1G', 'T1G', 'T1G', 'T1G', 'T1G', 'T1G', 'T1G', 'T1G', 'T1G', 'T1G', 'T1G', 'T1G', 'T1G', 'T1G', 'T1G', 'T1G', 'T1G', 'T1G', 'T1G', 'T1G', 'T1G', 'T1G', 'T1G', 'T1G', 'T1G', 'T1G', 'T1G', 'T1G', 'T1G', 'T1G', 'T1G', 'T1G', 'T1G', 'T1G', 'T1G', 'T1G', 'T1G', 'T1G', 'T1G', 'T1G', 'T1G', 'T1G', 'T1G', 'T1G', 'T1G', 'T1G', 'T1G', 'T1G', 'T1G', 'T1G', 'T1G', 'T1G', 'T1G', 'T1G', 'T1G', 'T1G', 'T1G', 'T1G', 'T1G', 'T1G', 'T1G', 'T1G', 'T1G', 'T1G', 'T1G', 'T1G', 'T1G', 'T1G', 'T1G', 'T1G', 'T1G', 'T1G', 'T1G', 'T1D', 'T1G', 'T1G', 'T1G', 'T1G', 'T1G', 'T1G', 'T1G', 'T1G', 'T1G', 'T1G', 'T1G', 'T1G', 'T1G', 'T1G', 'T1G', 'T1G', 'T1G', 'T1G', 'T1G', 'T1G', 'T1G', 'T1G', 'T1G', 'T1G', 'T1G', 'T1G', 'T1G', 'T1G', 'T1G', 'T1G', 'T1G', 'T1G', 'T1G', 'T1G', 'T1G', 'T1G', 'T1G', 'T1G', 'T1G', 'T1G', 'T1G', 'T1G', 'T1G', 'T1G', 'T1G', 'T1G', 'T1G', 'T1G', 'T1G', 'T1G', 'T1G', 'T1G', 'T1G', 'T1G', 'T1G', 'T1G', 'T1G', 'T1G', 'T1G', 'T1G', 'T1G', 'T1G', 'T1G', 'T1G', 'T1G', 'T1G', 'T1G', 'T1G', 'T1G', 'T1G', 'T1G', 'T1G', 'T1G', 'T1G', 'T1G', 'T1G', 'T1G', 'T1G', 'T1G', 'T1G', 'T1G', 'T1G', 'T1G', 'T1G', 'T1G', 'T1G', 'T1G', 'T1G', 'T1G', 'T1G', 'T1G', 'T1G', 'T1G', 'T1G', 'T1G', 'T1G', 'T1G', 'T1G', 'T1G', 'T1G', 'T1G', 'T1G', 'T1G', 'T1G', 'T1G', 'T1G', 'T1G', 'T1G', 'T1G', 'T1G', 'T1G', 'T1G', 'T1G', 'T1G', 'T1G', 'T1G', 'T1G', 'T1G', 'T1G', 'T1G', 'T1G', 'T1G', 'T1G', 'T1G', 'T1G', 'T1G', 'T1G', 'T1G', 'T1G', 'T1G', 'T1G', 'T1G', 'T1G', 'T1G', 'T1G', 'T1G', 'T1G', 'T1G', 'T1G', 'T1G', 'T1G', 'T1G', 'T1G', 'T1G', 'T1G', 'T1G', 'T1G', 'T1G', 'T1G', 'T1G', 'T1G', 'T1G', 'T1G', 'T1G', 'T1G', 'T1G', 'T1G', 'T1G', 'T1G', 'T1G', 'T1G', 'T1G', 'T1G', 'T1G', 'T1G', 'T1G', 'T1G', 'T1G', 'T1G', 'T1G', 'T1G', 'T1G', 'T1G', 'T1G', 'T1G', 'T1D', 'T1G', 'T1G', 'T1G', 'T1G', 'T1G', 'T1G', 'T1G', 'T1G', 'T1G', 'T1G', 'T1G', 'T1G', 'T1G', 'T1G', 'T1G', 'T1G', 'T1G', 'T1G', 'T1G', 'T1G', 'T1G', 'T1G', 'T1G', 'T1G', 'T1G', 'T1G', 'T1G', 'T1G', 'T1G', 'T1G', 'T1G', 'T1D', 'T1G', 'T1G', 'T1G', 'T1G', 'T1G', 'T1G', 'T1G', 'T1G', 'T1G', 'T1G', 'T1G', 'T1G', 'T1G', 'T1G', 'T1G', 'T1G', 'T1G', 'T1G', 'T1G', 'T1G', 'T1G', 'T1G', 'T1G', 'T1G', 'T1G', 'T1G', 'T1G', 'T1G', 'T1G', 'T1G', 'T1G', 'T1G', 'T1G', 'T1G', 'T1G', 'T1G', 'T1G', 'T1G', 'T1G', 'T1G', 'T1G', 'T1G', 'T1G', 'T1G', 'T1G', 'T1G', 'T1G', 'T1G', 'T1G', 'T1G', 'T1G', 'T1G', 'T1G', 'T1G', 'T1G', 'T1G', 'T1G', 'T1G', 'T1G', 'T1G', 'T1G', 'T1G', 'T1G', 'T1G', 'T1G', 'T1G', 'T1G', 'T1G', 'T1G', 'T1G', 'T1G', 'T1G', 'T1G', 'T1G', 'T1G', 'T1G', 'T1G', 'T1G', 'T1G', 'T1G', 'T1G', 'T1G', 'T1G', 'T1G', 'T1G', 'T1G', 'T1G', 'T1G', 'T1G', 'T1G', 'T1G', 'T1G', 'T1G', 'T1G', 'T1G', 'T1G', 'T1G', 'T1G', 'T1G', 'T1G', 'T1G', 'T1G', 'T1G', 'T1G', 'T1G', 'T1G', 'T1G', 'T1G', 'T1G', 'T1G', 'T1G', 'T1G', 'T1G', 'T1G', 'T1G', 'T1G', 'T1G', 'T1G', 'T1G', 'T1G', 'T1G', 'T1G', 'T1G', 'T1G', 'T1G', 'T1G', 'T1G', 'T1G', 'T1G', 'T1G', 'T1G', 'T1G', 'T1G', 'T1G', 'T1G', 'T1G', 'T1G', 'T1G', 'T1G', 'T1G', 'T1D', 'T1G', 'T1G', 'T1G', 'T1G', 'T1G', 'T1G', 'T1G', 'T1G', 'T1G', 'T1G', 'T1G', 'T1G', 'T1G', 'T1G', 'T1G', 'T1G', 'T1G', 'T1G', 'T1G', 'T1G', 'T1G', 'T1G', 'T1G', 'T1G', 'T1G', 'T1G', 'T1G', 'T1G', 'T1G', 'T1G', 'T1G', 'T1G', 'T1G', 'T1G', 'T1G', 'T1G', 'T1G', 'T1G', 'T1G', 'T1G', 'T1G', 'T1G', 'T1G', 'T1G', 'T1G', 'T1G', 'T1G', 'T1G', 'T1G', 'T1G', 'T1G', 'T1G', 'T1G', 'T1G', 'T1G', 'T1G', 'T1G', 'T1G', 'T1G', 'T1G', 'T1G', 'T1G', 'T1G', 'T1G', 'T1G', 'T1G', 'T1G', 'T1G', 'T1G', 'T1G', 'T1G', 'T1G', 'T1G', 'T1G', 'T1G', 'T1G', 'T1G', 'T1G', 'T1G', 'T1G', 'T1G', 'T1G', 'T1G', 'T1G', 'T1G', 'T1G', 'T1G', 'T1G', 'T1G', 'T1G', 'T1G', 'T1G', 'T1G', 'T1G', 'T1G', 'T1G', 'T1G', 'T1G', 'T1G', 'T1G', 'T1G', 'T1G', 'T1G', 'T1G', 'T1G', 'T1G', 'T1G', 'T1G', 'T1G', 'T1G', 'T1G', 'T1G', 'T1G', 'T1G', 'T1G', 'T1G', 'T1G', 'T1G', 'T1G', 'T1G', 'T1G', 'T1G', 'T1G', 'T1G', 'T1G', 'T1G', 'T1G', 'T1G', 'T1G', 'T1G', 'T1G', 'T1G', 'T1G', 'T1G', 'T1G', 'T1G', 'T1G', 'T1G', 'T1G', 'T1G', 'T1D', 'T1G', 'T1G', 'T1G', 'T1G', 'T1G', 'T1G', 'T1G', 'T1G', 'T1G', 'T1G', 'T1G', 'T1G', 'T1G', 'T1G', 'T1G', 'T1G', 'T1G', 'T1G', 'T1G', 'T1G', 'T1G', 'T1G', 'T1G', 'T1G', 'T1G', 'T1G', 'T1G', 'T1G', 'T1G', 'T1D', 'T1G', 'T1G', 'T1G', 'T1G', 'T1G', 'T1G', 'T1G', 'T1G', 'T1G', 'T1G', 'T1G', 'T1G', 'T1G', 'T1G', 'T1G', 'T1G', 'T1G', 'T1G', 'T1G', 'T1G', 'T1G', 'T1G', 'T1G', 'T1G', 'T1G', 'T1G', 'T1G', 'T1G', 'T1G', 'T1G', 'T1G', 'T1G', 'T1G', 'T1G', 'T1G', 'T1G', 'T1G', 'T1G', 'T1G', 'T1G', 'T1G', 'T1G', 'T1G', 'T1G', 'T1G', 'T1G', 'T1G', 'T1G', 'T1G', 'T1G', 'T1G', 'T1G', 'T1G', 'T1G', 'T1G', 'T1G', 'T1G', 'T1G', 'T1G', 'T1G', 'T1G', 'T1G', 'T1G', 'T1G', 'T1G', 'T1G', 'T1G', 'T1G', 'T1G', 'T1G', 'T1G', 'T1G', 'T1G', 'T1G', 'T1G', 'T1G', 'T1G', 'T1G', 'T1G', 'T1G', 'T1G', 'T1G', 'T1G', 'T1G', 'T1G', 'T1G', 'T1G', 'T1G', 'T1G', 'T1G', 'T1G', 'T1G', 'T1G', 'T1G', 'T1G', 'T1G', 'T1G', 'T1G', 'T1G', 'T1G', 'T1G', 'T1G', 'T1G', 'T1G', 'T1G', 'T1G', 'T1G', 'T1G', 'T1G', 'T1G', 'T1G', 'T1G', 'T1G', 'T1G', 'T1G', 'T1G', 'T1G', 'T1G', 'T1G', 'T1G', 'T1G', 'T1G', 'T1G', 'T1G', 'T1G', 'T1G', 'T1G', 'T1G', 'T1G', 'T1G', 'T1G', 'T1G', 'T1G', 'T1G', 'T1G', 'T1G', 'T1G', 'T1G', 'T1G', 'T1G', 'T1G', 'T1G', 'T1G', 'T1G', 'T1G', 'T1G', 'T1G', 'T1G', 'T1G', 'T1G', 'T1G', 'T1G', 'T1G', 'T1G', 'T1G', 'T1G', 'T1G', 'T1G', 'T1G', 'T1G', 'T1G', 'T1G', 'T1G', 'T1D', 'T1G', 'T1G', 'T1G', 'T1G', 'T1G', 'T1G', 'T1G', 'T1G', 'T1G', 'T1G', 'T1G', 'T1G', 'T1G', 'T1G', 'T1G', 'T1G', 'T1G', 'T1G', 'T1G', 'T1G', 'T1G', 'T1G', 'T1G', 'T1G', 'T1G', 'T1G', 'T1G', 'T1G', 'T1G', 'T1G', 'T1G', 'T1G', 'T1G', 'T1G', 'T1G', 'T1G', 'T1G', 'T1G', 'T1G', 'T1G', 'T1G', 'T1G', 'T1G', 'T1G', 'T1G', 'T1G', 'T1G', 'T1G', 'T1G', 'T1G', 'T1G', 'T1G', 'T1G', 'T1G', 'T1G', 'T1G', 'T1G', 'T1G', 'T1G', 'T1G', 'T1G', 'T1G', 'T1G', 'T1G', 'T1G', 'T1G', 'T1G', 'T1G', 'T1G', 'T1G', 'T1G', 'T1G', 'T1G', 'T1G', 'T1G', 'T1G', 'T1G', 'T1G', 'T1G', 'T1G', 'T1G', 'T1G', 'T1G', 'T1G', 'T1G', 'T1G', 'T1G', 'T1G', 'T1G', 'T1G', 'T1G', 'T1G', 'T1G', 'T1G', 'T1G', 'T1G', 'T1G', 'T1G', 'T1G', 'T1G', 'T1G', 'T1G', 'T1G', 'T1G', 'T1G', 'T1G', 'T1G', 'T1G', 'T1G', 'T1G', 'T1G', 'T1G', 'T1G', 'T1G', 'T1G', 'T1G', 'T1G', 'T1G', 'T1G', 'T1G', 'T1G', 'T1G', 'T1G', 'T1G', 'T1G', 'T1G', 'T1G', 'T1G', 'T1G', 'T1G', 'T1G', 'T1G', 'T1G', 'T1G', 'T1G', 'T1G', 'T1G', 'T1G', 'T1G', 'T1G', 'T1G', 'T1G', 'T1G', 'T1G', 'T1G', 'T1G', 'T1G', 'T1G', 'T1G', 'T1G', 'T1G', 'T1G', 'T1G', 'T1G', 'T1G', 'T1G', 'T1G', 'T1G', 'T1G', 'T1G', 'T1G', 'T1G', 'T1G', 'T1G', 'T1G', 'T1G', 'T1G', 'T1G', 'T1G', 'T1G', 'T1G', 'T1G', 'T1G', 'T1G', 'T1G', 'T1G', 'T1G', 'T1G', 'T1G', 'T1G', 'T1G', 'T1G', 'T1G', 'T1G', 'T1G', 'T1G', 'T1G', 'T1G', 'T1G', 'T1G', 'T1G', 'T1G', 'T1G', 'T1G', 'T1D', 'T1G', 'T1G', 'T1G', 'T1G', 'T1G', 'T1G', 'T1G', 'T1G', 'T1G', 'T1G', 'T1G', 'T1G', 'T1G', 'T1G', 'T1G', 'T1G', 'T1G', 'T1G', 'T1G', 'T1G', 'T1G', 'T1G', 'T1G', 'T1G', 'T1G', 'T1G', 'T1G', 'T1G', 'T1G', 'T1G', 'T1G', 'T1G', 'T1G', 'T1G', 'T1G', 'T1G', 'T1G', 'T1G', 'T1G', 'T1G', 'T1G', 'T1G', 'T1G', 'T1G', 'T1G', 'T1G', 'T1G', 'T1G', 'T1G', 'T1G', 'T1G', 'T1G', 'T1G', 'T1G', 'T1D', 'T1G', 'T1G', 'T1G', 'T1G', 'T1G', 'T1G', 'T1G', 'T1G', 'T1G', 'T1G', 'T1G', 'T1G', 'T1G', 'T1G', 'T1G', 'T1G', 'T1G', 'T1G', 'T1G', 'T1G', 'T1G', 'T1G', 'T1G', 'T1G', 'T1G', 'T1G', 'T1G', 'T1G', 'T1G', 'T1G', 'T1G', 'T1G', 'T1G', 'T1G', 'T1G', 'T1G', 'T1G', 'T1G', 'T1G', 'T1G', 'T1G', 'T1G', 'T1G', 'T1G', 'T1G', 'T1G', 'T1G', 'T1G', 'T1G', 'T1G', 'T1G', 'T1G', 'T1G', 'T1G', 'T1G', 'T1G', 'T1G', 'T1G', 'T1G', 'T1G', 'T1G', 'T1G', 'T1G', 'T1G', 'T1G', 'T1G', 'T1G', 'T1G', 'T1G', 'T1G', 'T1G', 'T1G', 'T1G', 'T1G', 'T1G', 'T1G', 'T1G', 'T1G', 'T1G', 'T1G', 'T1G', 'T1G', 'T1G', 'T1G', 'T1G', 'T1G', 'T1G', 'T1G', 'T1G', 'T1G', 'T1G', 'T1G', 'T1G', 'T1G', 'T1G', 'T1G', 'T1G', 'T1G', 'T1G', 'T1G', 'T1G', 'T1G', 'T1G', 'T1G', 'T1G', 'T1D', 'T1G', 'T1G', 'T1G', 'T1G', 'T1G', 'T1G', 'T1G', 'T1G', 'T1G', 'T1G', 'T1G', 'T1G', 'T1G', 'T1G', 'T1G', 'T1G', 'T1G', 'T1G', 'T1G', 'T1G', 'T1G', 'T1G', 'T1G', 'T1G', 'T1G', 'T1G', 'T1G', 'T1G', 'T1G', 'T1G', 'T1G', 'T1G', 'T1G', 'T1G', 'T1G', 'T1G', 'T1G', 'T1G', 'T1G', 'T1G', 'T1G', 'T1G', 'T1G', 'T1G', 'T1G', 'T1G', 'T1G', 'T1G', 'T1G', 'T1G', 'T1G', 'T1G', 'T1G', 'T1G', 'T1G', 'T1G', 'T1G', 'T1G', 'T1G', 'T1G', 'T1G', 'T1G', 'T1G', 'T1G', 'T1G', 'T1G', 'T1G', 'T1G', 'T1G', 'T1G', 'T1G', 'T1G', 'T1G', 'T1G', 'T1G', 'T1G', 'T1G', 'T1G', 'T1G', 'T1G', 'T1G', 'T1G', 'T1G', 'T1G', 'T1G', 'T1G', 'T1G', 'T1G', 'T1G', 'T1G', 'T1G', 'T1D', 'T1G', 'T1G', 'T1G', 'T1G', 'T1G', 'T1G', 'T1G', 'T1G', 'T1G', 'T1G', 'T1G', 'T1G', 'T1G', 'T1G', 'T1G', 'T1G', 'T1G', 'T1G', 'T1G', 'T1G', 'T1G', 'T1G', 'T1G', 'T1G', 'T1G', 'T1G', 'T1G', 'T1G', 'T1G', 'T1G', 'T1G', 'T1G', 'T1G', 'T1G', 'T1G', 'T1G', 'T1G', 'T1G', 'T1G', 'T1G', 'T1G', 'T1G', 'T1G', 'T1G', 'T1G', 'T1G', 'T1G', 'T1G', 'T1G', 'T1G', 'T1G', 'T1G', 'T1G', 'T1G', 'T1G', 'T1G', 'T1G', 'T1G', 'T1G', 'T1G', 'T1G', 'T1G', 'T1G', 'T1G', 'T1G', 'T1G', 'T1G', 'T1G', 'T1G', 'T1G', 'T1G', 'T1G', 'T1G', 'T1G', 'T1G', 'T1G', 'T1G', 'T1G', 'T1G', 'T1G', 'T1G', 'T1G', 'T1G', 'T1G', 'T1G', 'T1G', 'T1G', 'T1G', 'T1G', 'T1G', 'T1G', 'T1G', 'T1G', 'T1G', 'T1G', 'T1G', 'T1G', 'T1G', 'T1G', 'T1G', 'T1G', 'T1G', 'T1G', 'T1G', 'T1G', 'T1G', 'T1G', 'T1G', 'T1G', 'T1G', 'T1G', 'T1G', 'T1G', 'T1G', 'T1G', 'T1G', 'T1G', 'T1G', 'T1G', 'T1G', 'T1G', 'T1G', 'T1G', 'T1G', 'T1G', 'T1G', 'T1G', 'T1G', 'T1G', 'T1G', 'T1G', 'T1G', 'T1G', 'T1G', 'T1G', 'T1G', 'T1G', 'T1G', 'T1G', 'T1G', 'T1G', 'T1G', 'T1G', 'T1G', 'T1G', 'T1G', 'T1G', 'T1G', 'T1G', 'T1G', 'T1G', 'T1G', 'T1G', 'T1G', 'T1G', 'T1G', 'T1G', 'T1G', 'T1G', 'T1G', 'T1G', 'T1G', 'T1G', 'T1G', 'T1G', 'T1G', 'T1G', 'T1G', 'T1G', 'T1G', 'T1G', 'T1G', 'T1G', 'T1G', 'T1G', 'T1G', 'T1G', 'T1G', 'T1G', 'T1G', 'T1G', 'T1G', 'T1G', 'T1G', 'T1G', 'T1G', 'T1G', 'T1G', 'T1G', 'T1G', 'T1G', 'T1G', 'T1G', 'T1G', 'T1G', 'T1G', 'T1G', 'T1G', 'T1G', 'T1G', 'T1G', 'T1G', 'T1G', 'T1G', 'T1G', 'T1G', 'T1G', 'T1G', 'T1G', 'T1G', 'T1G', 'T1G', 'T1G', 'T1G', 'T1G', 'T1G', 'T1G', 'T1G', 'T1G', 'T1G', 'T1G', 'T1G', 'T1G', 'T1G', 'T1G', 'T1G', 'T1G', 'T1G', 'T1G', 'T1G', 'T1G', 'T1G', 'T1G', 'T1G', 'T1G', 'T1G', 'T1G', 'T1G', 'T1G', 'T1G', 'T1G', 'T1G', 'T1G', 'T1G', 'T1G', 'T1G', 'T1G', 'T1G', 'T1G', 'T1G', 'T1G', 'T1G', 'T1G', 'T1G', 'T1G', 'T1G', 'T1G', 'T1G', 'T1G', 'T1G', 'T1G', 'T1G', 'T1G', 'T1G', 'T1G', 'T1G', 'T1G', 'T1G', 'T1G', 'T1G', 'T1G', 'T1G', 'T1G', 'T1G', 'T1G', 'T1G', 'T1G', 'T1G', 'T1G', 'T1G', 'T1G', 'T1G', 'T1G', 'T1G', 'T1G', 'T1G', 'T1G', 'T1G', 'T1G', 'T1G', 'T1G', 'T1G', 'T1G', 'T1G', 'T1G', 'T1G', 'T1D', 'T1G', 'T1G', 'T1G', 'T1G', 'T1G', 'T1G', 'T1G', 'T1G', 'T1G', 'T1G', 'T1G', 'T1G', 'T1G', 'T1G', 'T1G', 'T1G', 'T1G', 'T1G', 'T1G', 'T1G', 'T1G', 'T1G', 'T1G', 'T1G', 'T1G', 'T1G', 'T1G', 'T1G', 'T1G', 'T1G', 'T1G', 'T1G', 'T1G', 'T1G', 'T1G', 'T1G', 'T1G', 'T1G', 'T1G', 'T1G', 'T1G', 'T1G', 'T1G', 'T1G', 'T1G', 'T1G', 'T1G', 'T1G', 'T1G', 'T1G', 'T1G', 'T1G', 'T1G', 'T1G', 'T1D', 'T1G', 'T1G', 'T1G', 'T1G', 'T1G', 'T1G', 'T1G', 'T1G', 'T1G', 'T1G', 'T1G', 'T1G', 'T1G', 'T1G', 'T1G', 'T1G', 'T1G', 'T1G', 'T1G', 'T1G', 'T1G', 'T1G', 'T1G', 'T1G', 'T1G', 'T1G', 'T1G', 'T1G', 'T1G', 'T1G', 'T1G', 'T1G', 'T1G', 'T1G', 'T1G', 'T1G', 'T1G', 'T1G', 'T1G', 'T1G', 'T1G', 'T1G', 'T1G', 'T1G', 'T1G', 'T1G', 'T1G', 'T1G', 'T1G', 'T1G', 'T1G', 'T1G', 'T1G', 'T1G', 'T1G', 'T1G', 'T1G', 'T1G', 'T1G', 'T1G', 'T1G', 'T1G', 'T1G', 'T1G', 'T1G', 'T1G', 'T1G', 'T1G', 'T1G', 'T1G', 'T1G', 'T1G', 'T1G', 'T1G', 'T1G', 'T1G', 'T1G', 'T1G', 'T1G', 'T1G', 'T1G', 'T1G', 'T1G', 'T1G', 'T1D', 'T1G', 'T1G', 'T1G', 'T1G', 'T1G', 'T1G', 'T1D', 'T1G', 'T1G', 'T1G', 'T1G', 'T1G', 'T1G', 'T1G', 'T1G', 'T1G', 'T1G', 'T1G', 'T1G', 'T1G', 'T1G', 'T1G', 'T1G', 'T1G', 'T1G', 'T1G', 'T1G', 'T1G', 'T1G', 'T1G', 'T1G', 'T1G', 'T1G', 'T1G', 'T1G', 'T1G', 'T1G', 'T1G', 'T1G', 'T1G', 'T1G', 'T1G', 'T1G', 'T1G', 'T1G', 'T1G', 'T1G', 'T1G', 'T1G', 'T1G', 'T1G', 'T1G', 'T1G', 'T1G', 'T1G', 'T1G', 'T1G', 'T1G', 'T1G', 'T1G', 'T1G', 'T1G', 'T1G', 'T1G', 'T1G', 'T1G', 'T1G', 'T1G', 'T1G', 'T1G', 'T1G', 'T1G', 'T1G', 'T1G', 'T1G', 'T1G', 'T1G', 'T1G', 'T1G', 'T1G', 'T1G', 'T1G', 'T1G', 'T1G', 'T1G', 'T1G', 'T1G', 'T1G', 'T1G', 'T1G', 'T1G', 'T1G', 'T1G', 'T1G', 'T1G', 'T1G', 'T1G', 'T1G', 'T1G', 'T1G', 'T1G', 'T1G', 'T1G', 'T1G', 'T1G', 'T1G', 'T1G', 'T1G', 'T1G', 'T1G', 'T1G', 'T1G', 'T1G', 'T1G', 'T1G', 'T1G', 'T1G', 'T1G', 'T1G', 'T1G', 'T1G', 'T1G', 'T1G', 'T1G', 'T1G', 'T1G', 'T1G', 'T1G', 'T1G', 'T1G', 'T1G', 'T1G', 'T1G', 'T1G', 'T1G', 'T1G', 'T1G', 'T1G', 'T1G', 'T1G', 'T1G', 'T1G', 'T1G', 'T1G', 'T1G', 'T1G', 'T1G', 'T1G', 'T1G', 'T1G', 'T1G', 'T1G', 'T1G', 'T1G', 'T1G', 'T1G', 'T1G', 'T1G', 'T1G', 'T1G', 'T1G', 'T1G', 'T1G', 'T1G', 'T1G', 'T1G', 'T1G', 'T1G', 'T1G', 'T1G', 'T1G', 'T1G', 'T1G', 'T1G', 'T1G', 'T1G', 'T1G', 'T1G', 'T1G', 'T1G', 'T1G', 'T1G', 'T1G', 'T1G', 'T1G', 'T1G', 'T1G', 'T1G', 'T1G', 'T1G', 'T1G', 'T1G', 'T1G', 'T1G', 'T1G', 'T1G', 'T1G', 'T1G', 'T1G', 'T1G', 'T1G', 'T1G', 'T1G', 'T1G', 'T1G', 'T1G', 'T1G', 'T1G', 'T1G', 'T1G', 'T1G', 'T1G', 'T1G', 'T1G', 'T1G', 'T1G', 'T1G', 'T1G', 'T1G', 'T1G', 'T1G', 'T1G', 'T1G', 'T1G', 'T1G', 'T1G', 'T1G', 'T1G', 'T1G', 'T1G', 'T1G', 'T1G', 'T1G', 'T1G', 'T1G', 'T1G', 'T1G', 'T1G', 'T1G', 'T1G', 'T1G', 'T1G', 'T1G', 'T1G', 'T1G', 'T1G', 'T1G', 'T1G', 'T1G', 'T1G', 'T1G', 'T1G', 'T1G', 'T1G', 'T1G', 'T1G', 'T1G', 'T1G', 'T1G', 'T1G', 'T1G', 'T1G', 'T1G', 'T1G', 'T1G', 'T1G', 'T1G', 'T1G', 'T1G', 'T1G', 'T1G', 'T1G', 'T1G', 'T1G', 'T1G', 'T1G', 'T1G', 'T1G', 'T1G', 'T1G', 'T1G', 'T1G', 'T1G', 'T1G', 'T1G', 'T1G', 'T1G', 'T1G', 'T1G', 'T1G', 'T1G', 'T1G', 'T1G', 'T1G', 'T1G', 'T1G', 'T1G', 'T1G', 'T1G', 'T1G', 'T1G', 'T1G', 'T1G', 'T1G', 'T1G', 'T1G', 'T1G', 'T1G', 'T1G', 'T1G', 'T1G', 'T1G', 'T1G', 'T1G', 'T1G', 'T1G', 'T1G', 'T1G', 'T1G', 'T1G', 'T1D', 'T1G', 'T1G', 'T1G', 'T1G', 'T1G', 'T1G', 'T1G', 'T1G', 'T1G', 'T1G', 'T1G', 'T1G', 'T1G', 'T1G', 'T1G', 'T1G', 'T1G', 'T1G', 'T1G', 'T1G', 'T1G', 'T1G', 'T1G', 'T1G', 'T1G', 'T1G', 'T1G', 'T1G', 'T1G', 'T1G', 'T1G', 'T1G', 'T1G', 'T1G', 'T1G', 'T1G', 'T1G', 'T1G', 'T1G', 'T1G', 'T1G', 'T1G', 'T1G', 'T1G', 'T1G', 'T1G', 'T1G', 'T1G', 'T1G', 'T1G', 'T1G', 'T1G', 'T1G', 'T1G', 'T1G', 'T1G', 'T1G', 'T1G', 'T1G', 'T1G', 'T1G', 'T1G', 'T1G', 'T1G', 'T1G', 'T1G', 'T1G', 'T1G', 'T1G', 'T1G', 'T1G', 'T1G', 'T1G', 'T1G', 'T1G', 'T1G', 'T1G', 'T1G', 'T1G', 'T1G', 'T1G', 'T1G', 'T1G', 'T1G', 'T1G', 'T1G', 'T1G', 'T1G', 'T1G', 'T1G', 'T1G', 'T1G', 'T1G', 'T1G', 'T1G', 'T1G', 'T1G', 'T1G', 'T1G', 'T1G', 'T1G', 'T1G', 'T1G', 'T1G', 'T1G', 'T1G', 'T1G', 'T1G', 'T1G', 'T1G', 'T1G', 'T1G', 'T1G', 'T1G', 'T1G', 'T1G', 'T1G', 'T1G', 'T1G', 'T1G', 'T1G', 'T1G', 'T1G', 'T1G', 'T1G', 'T1G', 'T1G', 'T1G', 'T1G', 'T1G', 'T1G', 'T1G', 'T1G', 'T1G', 'T1G', 'T1G', 'T1G', 'T1G', 'T1G', 'T1G', 'T1G', 'T1G', 'T1G', 'T1G', 'T1G', 'T1G', 'T1G', 'T1G', 'T1G', 'T1G', 'T1G', 'T1G', 'T1G', 'T1G', 'T1G', 'T1G', 'T1G', 'T1G', 'T1G', 'T1G', 'T1G', 'T1G', 'T1G', 'T1G', 'T1G', 'T1G', 'T1G', 'T1G', 'T1G', 'T1G', 'T1G', 'T1G', 'T1G', 'T1G', 'T1G', 'T1G', 'T1G', 'T1G', 'T1G', 'T1G', 'T1G', 'T1G', 'T1G', 'T1G', 'T1G', 'T1G', 'T1G', 'T1G', 'T1G', 'T1G', 'T1G', 'T1G', 'T1G', 'T1G', 'T1G', 'T1G', 'T1G', 'T1G', 'T1G', 'T1G', 'T1G', 'T1G', 'T1G', 'T1G', 'T1G', 'T1G', 'T1G', 'T1G', 'T1G', 'T1G', 'T1G', 'T1G', 'T1G', 'T1G', 'T1G', 'T1G', 'T1G', 'T1G', 'T1G', 'T1G', 'T1G', 'T1G', 'T1G', 'T1G', 'T1G', 'T1G', 'T1G', 'T1G', 'T1G', 'T1G', 'T1G', 'T1G', 'T1G', 'T1G', 'T1G', 'T1G', 'T1G', 'T1G', 'T1G', 'T1G', 'T1G', 'T1G', 'T1D', 'T1G', 'T1G', 'T1G', 'T1G', 'T1G', 'T1G', 'T1G', 'T1G', 'T1G', 'T1G', 'T1G', 'T1G', 'T1D', 'T1G', 'T1G', 'T1G', 'T1G', 'T1G', 'T1G', 'T1G', 'T1G', 'T1G', 'T1G', 'T1G', 'T1G', 'T1G', 'T1G', 'T1G', 'T1G', 'T1G', 'T1G', 'T1G', 'T1G', 'T1G', 'T1G', 'T1G', 'T1G', 'T1G', 'T1G', 'T1G', 'T1G', 'T1G', 'T1G', 'T1G', 'T1G', 'T1G', 'T1G', 'T1G', 'T1G', 'T1G', 'T1G', 'T1G', 'T1G', 'T1G', 'T1G', 'T1G', 'T1G', 'T1G', 'T1G', 'T1G', 'T1G', 'T1G', 'T1G', 'T1G', 'T1G', 'T1G', 'T1G', 'T1D', 'T1G', 'T1G', 'T1G', 'T1G', 'T1G', 'T1G', 'T1G', 'T1G', 'T1G', 'T1G', 'T1G', 'T1G', 'T1G', 'T1G', 'T1G', 'T1G', 'T1G', 'T1G', 'T1G', 'T1G', 'T1G', 'T1G', 'T1G', 'T1G', 'T1G', 'T1G', 'T1D', 'T1G', 'T1G', 'T1G', 'T1G', 'T1G', 'T1G', 'T1G', 'T1G', 'T1G', 'T1G', 'T1G', 'T1G', 'T1G', 'T1G', 'T1G', 'T1G', 'T1G', 'T1G', 'T1G', 'T1G', 'T1G', 'T1G', 'T1G', 'T1G', 'T1G', 'T1G', 'T1G', 'T1G', 'T1G', 'T1G', 'T1G', 'T1G', 'T1G', 'T1G', 'T1G', 'T1G', 'T1G', 'T1G', 'T1G', 'T1G', 'T1G', 'T1G', 'T1G', 'T1G', 'T1G', 'T1G', 'T1G', 'T1G', 'T1G', 'T1G', 'T1G', 'T1G', 'T1G', 'T1G', 'T1G', 'T1G', 'T1G', 'T1G', 'T1G', 'T1G', 'T1G', 'T1G', 'T1G', 'T1G', 'T1G', 'T1G', 'T1G', 'T1G', 'T1G', 'T1G', 'T1G', 'T1G', 'T1G', 'T1G', 'T1G', 'T1G', 'T1G', 'T1G', 'T1G', 'T1G', 'T1G', 'T1G', 'T1G', 'T1G', 'T1G', 'T1G', 'T1G', 'T1G', 'T1G', 'T1G', 'T1G', 'T1G', 'T1G', 'T1G', 'T1G', 'T1G', 'T1G', 'T1G', 'T1G', 'T1G', 'T1G', 'T1G', 'T1G', 'T1G', 'T1G', 'T1G', 'T1G', 'T1G', 'T1G', 'T1G', 'T1G', 'T1G', 'T1G', 'T1G', 'T1G', 'T1G', 'T1G', 'T1G', 'T1G', 'T1G', 'T1G', 'T1G', 'T1G', 'T1G', 'T1G', 'T1G', 'T1G', 'T1G', 'T1G', 'T1G', 'T1D', 'T1G', 'T1G', 'T1G', 'T1G', 'T1G', 'T1G', 'T1G', 'T1G', 'T1G', 'T1G', 'T1G', 'T1G', 'T1G', 'T1G', 'T1G', 'T1G', 'T1G', 'T1G', 'T1G', 'T1G', 'T1G', 'T1G', 'T1G', 'T1G', 'T1G', 'T1G', 'T1G', 'T1G', 'T1G', 'T1G', 'T1G', 'T1G', 'T1G', 'T1G', 'T1G', 'T1G', 'T1G', 'T1G', 'T1G', 'T1G', 'T1G', 'T1G', 'T1G', 'T1G', 'T1G', 'T1G', 'T1G', 'T1G', 'T1G', 'T1G', 'T1G', 'T1G', 'T1G', 'T1G', 'T1G', 'T1G', 'T1G', 'T1G', 'T1G', 'T1G', 'T1G', 'T1G', 'T1G', 'T1G', 'T1G', 'T1G', 'T1G', 'T1G', 'T1G', 'T1G', 'T1G', 'T1G', 'T1G', 'T1G', 'T1G', 'T1G', 'T1G', 'T1G', 'T1G', 'T1G', 'T1G', 'T1G', 'T1G', 'T1G', 'T1G', 'T1G', 'T1G', 'T1G', 'T1G', 'T1G', 'T1G', 'T1G', 'T1G', 'T1G', 'T1G', 'T1G', 'T1G', 'T1G', 'T1G', 'T1G', 'T1G', 'T1G', 'T1G', 'T1G', 'T1G', 'T1G', 'T1G', 'T1G', 'T1G', 'T1G', 'T1G', 'T1G', 'T1G', 'T1G', 'T1G', 'T1G', 'T1G', 'T1G', 'T1G', 'T1G', 'T1G', 'T1G', 'T1G', 'T1G', 'T1G', 'T1G', 'T1G', 'T1G', 'T1G', 'T1G', 'T1G', 'T1G', 'T1G', 'T1G', 'T1G', 'T1G', 'T1G', 'T1G', 'T1G', 'T1G', 'T1G', 'T1G', 'T1G', 'T1G', 'T1G', 'T1G', 'T1G', 'T1G', 'T1G', 'T1G', 'T1G', 'T1G', 'T1G', 'T1G', 'T1G', 'T1G', 'T1G', 'T1G', 'T1G', 'T1G', 'T1G', 'T1G', 'T1G', 'T1G', 'T1G', 'T1G', 'T1G', 'T1G', 'T1G', 'T1G', 'T1G', 'T1G', 'T1G', 'T1G', 'T1G', 'T1G', 'T1G', 'T1G', 'T1G', 'T1G', 'T1G', 'T1G', 'T1G', 'T1G', 'T1G', 'T1G', 'T1G', 'T1G', 'T1G', 'T1G', 'T1G', 'T1G', 'T1G', 'T1G', 'T1G', 'T1G', 'T1G', 'T1G', 'T1G', 'T1G', 'T1G', 'T1G', 'T1G', 'T1D', 'T1G', 'T1G', 'T1G', 'T1G', 'T1G', 'T1G', 'T1G', 'T1G', 'T1G', 'T1G', 'T1G', 'T1G', 'T1G', 'T1G', 'T1G', 'T1G', 'T1G', 'T1G', 'T1G', 'T1G', 'T1G', 'T1G', 'T1G', 'T1G', 'T1G', 'T1G', 'T1G', 'T1G', 'T1G', 'T1G', 'T1G', 'T1G', 'T1G', 'T1G', 'T1G', 'T1G', 'T1G', 'T1G', 'T1G', 'T1G', 'T1G', 'T1G', 'T1G', 'T1G', 'T1G', 'T1G', 'T1G', 'T1G', 'T1G', 'T1G', 'T1G', 'T1G', 'T1G', 'T1G', 'T1G', 'T1G', 'T1G', 'T1G', 'T1G', 'T1G', 'T1G', 'T1G', 'T1G', 'T1G', 'T1G', 'T1G', 'T1G', 'T1D', 'T1G', 'T1G', 'T1G', 'T1G', 'T1G', 'T1G', 'T1G', 'T1G', 'T1G', 'T1G', 'T1G', 'T1G', 'T1G', 'T1G', 'T1G', 'T1G', 'T1G', 'T1G', 'T1G', 'T1G', 'T1G', 'T1G', 'T1G', 'T1G', 'T1G', 'T1G', 'T1G', 'T1G', 'T1G', 'T1G', 'T1G', 'T1G', 'T1G', 'T1G', 'T1G', 'T1G', 'T1G', 'T1G', 'T1G', 'T1G', 'T1G', 'T1G', 'T1G', 'T1G', 'T1G', 'T1G', 'T1G', 'T1G', 'T1G', 'T1G', 'T1G', 'T1G', 'T1G', 'T1G', 'T1G', 'T1G', 'T1G', 'T1G', 'T1G', 'T1G', 'T1G', 'T1G', 'T1G', 'T1G', 'T1G', 'T1G', 'T1G', 'T1G', 'T1G', 'T1G', 'T1G', 'T1G', 'T1G', 'T1G', 'T1G', 'T1G', 'T1G', 'T1G', 'T1G', 'T1G', 'T1G', 'T1G', 'T1G', 'T1G', 'T1G', 'T1G', 'T1G', 'T1G', 'T1G', 'T1G', 'T1G', 'T1G', 'T1G', 'T1G', 'T1G', 'T1D', 'T1G', 'T1G', 'T1G', 'T1G', 'T1G', 'T1G', 'T1G', 'T1G', 'T1G', 'T1G', 'T1G', 'T1G', 'T1G', 'T1G', 'T1G', 'T1G', 'T1G', 'T1G', 'T1G', 'T1G', 'T1G', 'T1G', 'T1G', 'T1G', 'T1G', 'T1G', 'T1G', 'T1G', 'T1G', 'T1G', 'T1G', 'T1G', 'T1G', 'T1G', 'T1G', 'T1G', 'T1G', 'T1G', 'T1G', 'T1G', 'T1G', 'T1G', 'T1G', 'T1G', 'T1G', 'T1G', 'T1G', 'T1G', 'T1G', 'T1G', 'T1G', 'T1G', 'T1G', 'T1G', 'T1G', 'T1G', 'T1G', 'T1G', 'T1G', 'T1G', 'T1G', 'T1G', 'T1G', 'T1G', 'T1G', 'T1G', 'T1G', 'T1G', 'T1G', 'T1G', 'T1G', 'T1G', 'T1G', 'T1G', 'T1G', 'T1G', 'T1G', 'T1G', 'T1G', 'T1G', 'T1G', 'T1G', 'T1G', 'T1G', 'T1G', 'T1G', 'T1G', 'T1G', 'T1G', 'T1G', 'T1G', 'T1G', 'T1G', 'T1G', 'T1G', 'T1G', 'T1G', 'T1G', 'T1G', 'T1G', 'T1G', 'T1G', 'T1G', 'T1G', 'T1G', 'T1G', 'T1G', 'T1G', 'T1G', 'T1G', 'T1G', 'T1G', 'T1G', 'T1G', 'T1G', 'T1G', 'T1G', 'T1G', 'T1G', 'T1G', 'T1G', 'T1G', 'T1G', 'T1G', 'T1G', 'T1G', 'T1G', 'T1G', 'T1G', 'T1G', 'T1G', 'T1G', 'T1G', 'T1G', 'T1G', 'T1G', 'T1G', 'T1G', 'T1G', 'T1G', 'T1G', 'T1G', 'T1G', 'T1G', 'T1G', 'T1G', 'T1G', 'T1G', 'T1G', 'T1G', 'T1G', 'T1G', 'T1G', 'T1G', 'T1G', 'T1G', 'T1G', 'T1G', 'T1G', 'T1G', 'T1G', 'T1G', 'T1G', 'T1G', 'T1G', 'T1G', 'T1G', 'T1G', 'T1G', 'T1G', 'T1G', 'T1G', 'T1G', 'T1G', 'T1D', 'T1G', 'T1G', 'T1G', 'T1G', 'T1G', 'T1G', 'T1G', 'T1G', 'T1G', 'T1G', 'T1G', 'T1G', 'T1G', 'T1G', 'T1G', 'T1G', 'T1G', 'T1G', 'T1G', 'T1G', 'T1G', 'T1G', 'T1G', 'T1G', 'T1G', 'T1G', 'T1G', 'T1G', 'T1G', 'T1G', 'T1G', 'T1G', 'T1G', 'T1G', 'T1G', 'T1G', 'T1G', 'T1G', 'T1G', 'T1G', 'T1G', 'T1G', 'T1G', 'T1G', 'T1G', 'T1G', 'T1G', 'T1G', 'T1G', 'T1G', 'T1G', 'T1G', 'T1G', 'T1G', 'T1G', 'T1G', 'T1G', 'T1G', 'T1G', 'T1G', 'T1G', 'T1G', 'T1G', 'T1G', 'T1G', 'T1G', 'T1G', 'T1G', 'T1G', 'T1G', 'T1G', 'T1G', 'T1G', 'T1G', 'T1G', 'T1G', 'T1G', 'T1G', 'T1G', 'T1G', 'T1G', 'T1G', 'T1G', 'T1G', 'T1G', 'T1G', 'T1G', 'T1G', 'T1G', 'T1G', 'T1G', 'T1G', 'T1G', 'T1G', 'T1G', 'T1G', 'T1G', 'T1G', 'T1G', 'T1G', 'T1G', 'T1G', 'T1G', 'T1G', 'T1G', 'T1G', 'T1G', 'T1G', 'T1G', 'T1D', 'T1G', 'T1G', 'T1G', 'T1G', 'T1G', 'T1G', 'T1G', 'T1G', 'T1G', 'T1G', 'T1G', 'T1G', 'T1G', 'T1G', 'T1G', 'T1G', 'T1G', 'T1G', 'T1G', 'T1G', 'T1G', 'T1G', 'T1G', 'T1G', 'T1G', 'T1G', 'T1G', 'T1G', 'T1G', 'T1G', 'T1G', 'T1G', 'T1G', 'T1G', 'T1G', 'T1G', 'T1G', 'T1G', 'T1G', 'T1G', 'T1G', 'T1G', 'T1G', 'T1G', 'T1G', 'T1G', 'T1G', 'T1G', 'T1G', 'T1G', 'T1G', 'T1G', 'T1G', 'T1G', 'T1G', 'T1G', 'T1G', 'T1G', 'T1G', 'T1G', 'T1G', 'T1G', 'T1G', 'T1G', 'T1G', 'T1G', 'T1G', 'T1G', 'T1G', 'T1G', 'T1G', 'T1G', 'T1G', 'T1G', 'T1G', 'T1G', 'T1G', 'T1G', 'T1G', 'T1G', 'T1G', 'T1G', 'T1G', 'T1G', 'T1G', 'T1G', 'T1G', 'T1G', 'T1G', 'T1G', 'T1G', 'T1G', 'T1G', 'T1G', 'T1G', 'T1G', 'T1G', 'T1G', 'T1G', 'T1G', 'T1G', 'T1G', 'T1G', 'T1G', 'T1G', 'T1G', 'T1G', 'T1G', 'T1G', 'T1G', 'T1G', 'T1G', 'T1G', 'T1G', 'T1G', 'T1G', 'T1G', 'T1G', 'T1G', 'T1G', 'T1G', 'T1G', 'T1G', 'T1G', 'T1G', 'T1G', 'T1G', 'T1D', 'T1G', 'T1G', 'T1G', 'T1G', 'T1G', 'T1G', 'T1G', 'T1G', 'T1G', 'T1G', 'T1G', 'T1G', 'T1G', 'T1G', 'T1G', 'T1G', 'T1G', 'T1G', 'T1G', 'T1G', 'T1G', 'T1G', 'T1G', 'T1G', 'T1G', 'T1G', 'T1G', 'T1D', 'T1G', 'T1G', 'T1G', 'T1G', 'T1G', 'T1G', 'T1G', 'T1G', 'T1G', 'T1G', 'T1G', 'T1G', 'T1G', 'T1G', 'T1G', 'T1G', 'T1G', 'T1G', 'T1G', 'T1G', 'T1G', 'T1G', 'T1G', 'T1G', 'T1G', 'T1G', 'T1G', 'T1G', 'T1G', 'T1G', 'T1G', 'T1G', 'T1G', 'T1G', 'T1G', 'T1G', 'T1G', 'T1G', 'T1G', 'T1G', 'T1G', 'T1G', 'T1G', 'T1G', 'T1G', 'T1G', 'T1D', 'T1G', 'T1G', 'T1G', 'T1G', 'T1G', 'T1G', 'T1G', 'T1G', 'T1G', 'T1G', 'T1D', 'T1G', 'T1G', 'T1G', 'T1G', 'T1G', 'T1G', 'T1G', 'T1G', 'T1G', 'T1G', 'T1G', 'T1G', 'T1G', 'T1G', 'T1G', 'T1G', 'T1G', 'T1G', 'T1G', 'T1G', 'T1G', 'T1G', 'T1D', 'T1G', 'T1G', 'T1G', 'T1G', 'T1G', 'T1G', 'T1G', 'T1G', 'T1G', 'T1G', 'T1G', 'T1G', 'T1G', 'T1G', 'T1G', 'T1G', 'T1G', 'T1G', 'T1G', 'T1G', 'T1G', 'T1G', 'T1G', 'T1G', 'T1G', 'T1G', 'T1G', 'T1G', 'T1G', 'T1G', 'T1G', 'T1G', 'T1G', 'T1G', 'T1G', 'T1G', 'T1G', 'T1G', 'T1G', 'T1G', 'T1G', 'T1G', 'T1G', 'T1G', 'T1G', 'T1G', 'T1G', 'T1G', 'T1G', 'T1G', 'T1G', 'T1G', 'T1G', 'T1G', 'T1G', 'T1G', 'T1G', 'T1G', 'T1G', 'T1G', 'T1G', 'T1G', 'T1G', 'T1G', 'T1G', 'T1G', 'T1G', 'T1G', 'T1G', 'T1G', 'T1G', 'T1G', 'T1G', 'T1G', 'T1G', 'T1G', 'T1G', 'T1G', 'T1G', 'T1G', 'T1G', 'T1G', 'T1G', 'T1G', 'T1G', 'T1G', 'T1G', 'T1G', 'T1G', 'T1G', 'T1G', 'T1G', 'T1G', 'T1G', 'T1G', 'T1G', 'T1G', 'T1G', 'T1G', 'T1G', 'T1G', 'T1G', 'T1G', 'T1G', 'T1G', 'T1G', 'T1G', 'T1G', 'T1G', 'T1G', 'T1G', 'T1G', 'T1G', 'T1G', 'T1G', 'T1G', 'T1G', 'T1G', 'T1G', 'T1G', 'T1G', 'T1G', 'T1G', 'T1G', 'T1G', 'T1G', 'T1G', 'T1G', 'T1G', 'T1G', 'T1G', 'T1G', 'T1G', 'T1G', 'T1G', 'T1G', 'T1G', 'T1G', 'T1G', 'T1G', 'T1G', 'T1G', 'T1G', 'T1G', 'T1G', 'T1G', 'T1G', 'T1G', 'T1G', 'T1G', 'T1G', 'T1G', 'T1G', 'T1G', 'T1G', 'T1G', 'T1G', 'T1G', 'T1G', 'T1G', 'T1G', 'T1G', 'T1G', 'T1G', 'T1G', 'T1G', 'T1G', 'T1G', 'T1G', 'T1G', 'T1G', 'T1G', 'T1G', 'T1G', 'T1G', 'T1G', 'T1G', 'T1G', 'T1G', 'T1G', 'T1G', 'T1G', 'T1G', 'T1G', 'T1G', 'T1G', 'T1G', 'T1G', 'T1G', 'T1G', 'T1G', 'T1G', 'T1G', 'T1G', 'T1G', 'T1G', 'T1G', 'T1G', 'T1G', 'T1G', 'T1G', 'T1G', 'T1G', 'T1G', 'T1G', 'T1G', 'T1G', 'T1G', 'T1G', 'T1G', 'T1G', 'T1G', 'T1G', 'T1G', 'T1G', 'T1G', 'T1G', 'T1G', 'T1G', 'T1G', 'T1G', 'T1G', 'T1G', 'T1G', 'T1G', 'T1G', 'T1G', 'T1G', 'T1G', 'T1G', 'T1G', 'T1G', 'T1G', 'T1G', 'T1G', 'T1G', 'T1G', 'T1G', 'T1G', 'T1G', 'T1G', 'T1G', 'T1G', 'T1G', 'T1G', 'T1G', 'T1G', 'T1G', 'T1G', 'T1G', 'T1G', 'T1G', 'T1G', 'T1G', 'T1G', 'T1G', 'T1G', 'T1G', 'T1G', 'T1G', 'T1G', 'T1G', 'T1G', 'T1G', 'T1G', 'T1G', 'T1G', 'T1G', 'T1G', 'T1G', 'T1G', 'T1G', 'T1G', 'T1G', 'T1G', 'T1G', 'T1G', 'T1G', 'T1G', 'T1G', 'T1G', 'T1G', 'T1G', 'T1G', 'T1G', 'T1G', 'T1G', 'T1G', 'T1G', 'T1G', 'T1G', 'T1G', 'T1G', 'T1G', 'T1G', 'T1G', 'T1G', 'T1G', 'T1G', 'T1G', 'T1G', 'T1G', 'T1G', 'T1G', 'T1G', 'T1G', 'T1G', 'T1G', 'T1G', 'T1G', 'T1G', 'T1G', 'T1G', 'T1G', 'T1G', 'T1G', 'T1G', 'T1G', 'T1G', 'T1G', 'T1G', 'T1G', 'T1G', 'T1G', 'T1G', 'T1G', 'T1G', 'T1G', 'T1G', 'T1G', 'T1G', 'T1G', 'T1G', 'T1G', 'T1G', 'T1G', 'T1G', 'T1G', 'T1G', 'T1G', 'T1G', 'T1G', 'T1G', 'T1G', 'T1G', 'T1G', 'T1G', 'T1G', 'T1G', 'T1G', 'T1G', 'T1G', 'T1G', 'T1G', 'T1G', 'T1G', 'T1G', 'T1G', 'T1G', 'T1G', 'T1G', 'T1G', 'T1G', 'T1G', 'T1G', 'T1G', 'T1G', 'T1G', 'T1G', 'T1G', 'T1G', 'T1G', 'T1G', 'T1G', 'T1G', 'T1G', 'T1G', 'T1G', 'T1G', 'T1G', 'T1G', 'T1G', 'T1G', 'T1G', 'T1G', 'T1G', 'T1G', 'T1G', 'T1G', 'T1G', 'T1G', 'T1G', 'T1G', 'T1G', 'T1G', 'T1G', 'T1G', 'T1G', 'T1G', 'T1G', 'T1G', 'T1G', 'T1G', 'T1G', 'T1G', 'T1G', 'T1G', 'T1G', 'T1G', 'T1G', 'T1G', 'T1G', 'T1G', 'T1G', 'T1G', 'T1G', 'T1G', 'T1G', 'T1G', 'T1G', 'T1G', 'T1G', 'T1G', 'T1G', 'T1G', 'T1G', 'T1G', 'T1G', 'T1G', 'T1G', 'T1G', 'T1G', 'T1G', 'T1G', 'T1D', 'T1G', 'T1G', 'T1G', 'T1G', 'T1G', 'T1G', 'T1G', 'T1G', 'T1G', 'T1G', 'T1G', 'T1G', 'T1G', 'T1G', 'T1G', 'T1G', 'T1G', 'T1G', 'T1G', 'T1G', 'T1G', 'T1G', 'T1G', 'T1G', 'T1G', 'T1G', 'T1G', 'T1G', 'T1G', 'T1G', 'T1G', 'T1G', 'T1G', 'T1G', 'T1G', 'T1G', 'T1G', 'T1G', 'T1G', 'T1G', 'T1G', 'T1G', 'T1G', 'T1G', 'T1G', 'T1G', 'T1G', 'T1G', 'T1G', 'T1G', 'T1G', 'T1G', 'T1G', 'T1G', 'T1G', 'T1G', 'T1G', 'T1G', 'T1G', 'T1G', 'T1G', 'T1G', 'T1G', 'T1G', 'T1G', 'T1G', 'T1G', 'T1G', 'T1G', 'T1G', 'T1G', 'T1G', 'T1G', 'T1G', 'T1G', 'T1G', 'T1G', 'T1G', 'T1G', 'T1G', 'T1G', 'T1G', 'T1G', 'T1G', 'T1G', 'T1G', 'T1G', 'T1G', 'T1G', 'T1G', 'T1G', 'T1G', 'T1G', 'T1G', 'T1G', 'T1G', 'T1G', 'T1G', 'T1G', 'T1G', 'T1G', 'T1G', 'T1G', 'T1G', 'T1G', 'T1G', 'T1G', 'T1G', 'T1G', 'T1G', 'T1G', 'T1G', 'T1G', 'T1G', 'T1G', 'T1G', 'T1G', 'T1G', 'T1G', 'T1G', 'T1G', 'T1G', 'T1G', 'T1G', 'T1G', 'T1G', 'T1G', 'T1G', 'T1G', 'T1G', 'T1G', 'T1G', 'T1G', 'T1G', 'T1G', 'T1G', 'T1G', 'T1G', 'T1G', 'T1G', 'T1G', 'T1G', 'T1G', 'T1G', 'T1G', 'T1G', 'T1G', 'T1G', 'T1D', 'T1G', 'T1G', 'T1G', 'T1G', 'T1G', 'T1G', 'T1G', 'T1G', 'T1G', 'T1G', 'T1D', 'T1G', 'T1G', 'T1G', 'T1G', 'T1G', 'T1G', 'T1G', 'T1G', 'T1G', 'T1G', 'T1G', 'T1G', 'T1G', 'T1G', 'T1G', 'T1G', 'T1G', 'T1G', 'T1G', 'T1G', 'T1G', 'T1G', 'T1G', 'T1G', 'T1G', 'T1G', 'T1G', 'T1G', 'T1G', 'T1G', 'T1G', 'T1G', 'T1G', 'T1G', 'T1G', 'T1G', 'T1G', 'T1G', 'T1G', 'T1G', 'T1G', 'T1G', 'T1G', 'T1G', 'T1G', 'T1G', 'T1G', 'T1G', 'T1G', 'T1G', 'T1G', 'T1G', 'T1G', 'T1G', 'T1G', 'T1G', 'T1D', 'T1G', 'T1G', 'T1G', 'T1G', 'T1G', 'T1G', 'T1G', 'T1G', 'T1G', 'T1G', 'T1G', 'T1G', 'T1G', 'T1G', 'T1D', 'T1G', 'T1G', 'T1G', 'T1G', 'T1G', 'T1G', 'T1G', 'T1G', 'T1G', 'T1G', 'T1G', 'T1G', 'T1G', 'T1G', 'T1G', 'T1G', 'T1G', 'T1G', 'T1G', 'T1G', 'T1G', 'T1G', 'T1G', 'T1G', 'T1G', 'T1G', 'T1G', 'T1G', 'T1G', 'T1G', 'T1G', 'T1G', 'T1G', 'T1G', 'T1G', 'T1G', 'T1G', 'T1G', 'T1G', 'T1G', 'T1G', 'T1G', 'T1G', 'T1G', 'T1G', 'T1G', 'T1G', 'T1G', 'T1G', 'T1G', 'T1G', 'T1G', 'T1G', 'T1G', 'T1D', 'T1G', 'T1G', 'T1G', 'T1G', 'T1G', 'T1G', 'T1G', 'T1G', 'T1G', 'T1G', 'T1G', 'T1G', 'T1G', 'T1G', 'T1G', 'T1G', 'T1G', 'T1G', 'T1G', 'T1G', 'T1G', 'T1G', 'T1G', 'T1G', 'T1G', 'T1G', 'T1G', 'T1G', 'T1G', 'T1D', 'T1G', 'T1G', 'T1G', 'T1G', 'T1G', 'T1G', 'T1G', 'T1G', 'T1G', 'T1G', 'T1G', 'T1G', 'T1G', 'T1G', 'T1G', 'T1G', 'T1G', 'T1G', 'T1G', 'T1G', 'T1G', 'T1G', 'T1G', 'T1G', 'T1G', 'T1G', 'T1G', 'T1G', 'T1G', 'T1G', 'T1G', 'T1G', 'T1G', 'T1G', 'T1G', 'T1D', 'T1G', 'T1G', 'T1G', 'T1G', 'T1G', 'T1G', 'T1G', 'T1G', 'T1G', 'T1G', 'T1G', 'T1G', 'T1G', 'T1G', 'T1G', 'T1G', 'T1G', 'T1G', 'T1G', 'T1G', 'T1G', 'T1G', 'T1G', 'T1G', 'T1G', 'T1G', 'T1G', 'T1G', 'T1G', 'T1G', 'T1G', 'T1G', 'T1G', 'T1G', 'T1G', 'T1G', 'T1G', 'T1G', 'T1G', 'T1G', 'T1G', 'T1G', 'T1G', 'T1G', 'T1G', 'T1G', 'T1G', 'T1G', 'T1G', 'T1G', 'T1G', 'T1G', 'T1G', 'T1G', 'T1G', 'T1G', 'T1G', 'T1G', 'T1G', 'T1G', 'T1G', 'T1G', 'T1G', 'T1G', 'T1G', 'T1G', 'T1G', 'T1G', 'T1G', 'T1G', 'T1G', 'T1G', 'T1G', 'T1G', 'T1G', 'T1D', 'T1G', 'T1G', 'T1G', 'T1G', 'T1G', 'T1G', 'T1G', 'T1G', 'T1G', 'T1G', 'T1G', 'T1G', 'T1G', 'T1G', 'T1G', 'T1G', 'T1G', 'T1G', 'T1G', 'T1G', 'T1G', 'T1G', 'T1G', 'T1G', 'T1G', 'T1G', 'T1G', 'T1G', 'T1G', 'T1G', 'T1G', 'T1G', 'T1G', 'T1G', 'T1G', 'T1G', 'T1G', 'T1G', 'T1G', 'T1G', 'T1G', 'T1G', 'T1G', 'T1G', 'T1G', 'T1G', 'T1G', 'T1G', 'T1G', 'T1G', 'T1G', 'T1G', 'T1G', 'T1G', 'T1G', 'T1G', 'T1G', 'T1G', 'T1G', 'T1G', 'T1G', 'T1G', 'T1G', 'T1G', 'T1G', 'T1G', 'T1G', 'T1G', 'T1G', 'T1G', 'T1G', 'T1G', 'T1G', 'T1G', 'T1G', 'T1G', 'T1G', 'T1D', 'T1G', 'T1G', 'T1G', 'T1G', 'T1G', 'T1G', 'T1G', 'T1G', 'T1G', 'T1G', 'T1G', 'T1G', 'T1G', 'T1G', 'T1G', 'T1G', 'T1G', 'T1G', 'T1G', 'T1G', 'T1G', 'T1G', 'T1G', 'T1G', 'T1G', 'T1G', 'T1G', 'T1G', 'T1G', 'T1G', 'T1G', 'T1G', 'T1G', 'T1G', 'T1G', 'T1G', 'T1G', 'T1G', 'T1G', 'T1D', 'T1G', 'T1G', 'T1G', 'T1G', 'T1G', 'T1G', 'T1G', 'T1G', 'T1G', 'T1G', 'T1G', 'T1G', 'T1G', 'T1G', 'T1G', 'T1G', 'T1G', 'T1G', 'T1G', 'T1G', 'T1G', 'T1G', 'T1G', 'T1G', 'T1G', 'T1G', 'T1G', 'T1G', 'T1G', 'T1G', 'T1G', 'T1G', 'T1G', 'T1G', 'T1G', 'T1G', 'T1G', 'T1G', 'T1G', 'T1G', 'T1G', 'T1G', 'T1G', 'T1G', 'T1G', 'T1G', 'T1G', 'T1G', 'T1G', 'T1G', 'T1G', 'T1G', 'T1G', 'T1G', 'T1G', 'T1G', 'T1G', 'T1G', 'T1G', 'T1G', 'T1G', 'T1G', 'T1G', 'T1G', 'T1G', 'T1G', 'T1G', 'T1G', 'T1G', 'T1G', 'T1G', 'T1G', 'T1G', 'T1G', 'T1G', 'T1G', 'T1G', 'T1G', 'T1G', 'T1G', 'T1G', 'T1G', 'T1G', 'T1G', 'T1G', 'T1G', 'T1G', 'T1G', 'T1G', 'T1G', 'T1G', 'T1G', 'T1G', 'T1G', 'T1G', 'T1G', 'T1G', 'T1G', 'T1G', 'T1G', 'T1G', 'T1G', 'T1G', 'T1G', 'T1G', 'T1G', 'T1G', 'T1G', 'T1G', 'T1G', 'T1G', 'T1G', 'T1G', 'T1G', 'T1G', 'T1G', 'T1G', 'T1G', 'T1G', 'T1G', 'T1G', 'T1G', 'T1G', 'T1G', 'T1G', 'T1G', 'T1G', 'T1G', 'T1G', 'T1G', 'T1G', 'T1G', 'T1G', 'T1G', 'T1G', 'T1G', 'T1G', 'T1G', 'T1G', 'T1G', 'T1G', 'T1G', 'T1G', 'T1G', 'T1G', 'T1G', 'T1G', 'T1G', 'T1G', 'T1G', 'T1G', 'T1G', 'T1G', 'T1G', 'T1G', 'T1G', 'T1G', 'T1G', 'T1G', 'T1G', 'T1G', 'T1G', 'T1G', 'T1G', 'T1G', 'T1G', 'T1G', 'T1G', 'T1G', 'T1G', 'T1G', 'T1G', 'T1G', 'T1G', 'T1G', 'T1G', 'T1G', 'T1G', 'T1G', 'T1G', 'T1G', 'T1G', 'T1G', 'T1G', 'T1G', 'T1G', 'T1G', 'T1G', 'T1G', 'T1G', 'T1G', 'T1G', 'T1G', 'T1G', 'T1G', 'T1G', 'T1G', 'T1G', 'T1G', 'T1G', 'T1G', 'T1G', 'T1G', 'T1G', 'T1G', 'T1G', 'T1G', 'T1G', 'T1G', 'T1G', 'T1G', 'T1G', 'T1G', 'T1G', 'T1D', 'T1G', 'T1G', 'T1G', 'T1G', 'T1G', 'T1G', 'T1G', 'T1G', 'T1G', 'T1G', 'T1G', 'T1G', 'T1G', 'T1D', 'T1G', 'T1G', 'T1G', 'T1G', 'T1G', 'T1G', 'T1G', 'T1G', 'T1G', 'T1G', 'T1G', 'T1G', 'T1G', 'T1G', 'T1G', 'T1G', 'T1G', 'T1G', 'T1G', 'T1G', 'T1G', 'T1G', 'T1G', 'T1D', 'T1G', 'T1G', 'T1G', 'T1G', 'T1G', 'T1G', 'T1G', 'T1G', 'T1G', 'T1G', 'T1G', 'T1G', 'T1G', 'T1G', 'T1G', 'T1G', 'T1G', 'T1G', 'T1G', 'T1G', 'T1G', 'T1G', 'T1G', 'T1G', 'T1G', 'T1G', 'T1G', 'T1G', 'T1G', 'T1G', 'T1G', 'T1G', 'T1G', 'T1G', 'T1G', 'T1G', 'T1G', 'T1G', 'T1G', 'T1G', 'T1G', 'T1G', 'T1G', 'T1G', 'T1G', 'T1G', 'T1G', 'T1G', 'T1G', 'T1G', 'T1G', 'T1G', 'T1G', 'T1G', 'T1G', 'T1G', 'T1G', 'T1G', 'T1G', 'T1G', 'T1G', 'T1G', 'T1G', 'T1G', 'T1G', 'T1G', 'T1G', 'T1G', 'T1G', 'T1G', 'T1G', 'T1G', 'T1G', 'T1G', 'T1G', 'T1G', 'T1G', 'T1G', 'T1G', 'T1G', 'T1G', 'T1G', 'T1G', 'T1G', 'T1G', 'T1G', 'T1G', 'T1G', 'T1G', 'T1G', 'T1G', 'T1G', 'T1G', 'T1G', 'T1G', 'T1G', 'T1G', 'T1G', 'T1G', 'T1G', 'T1G', 'T1G', 'T1G', 'T1G', 'T1G', 'T1G', 'T1G', 'T1G', 'T1G', 'T1G', 'T1G', 'T1G', 'T1G', 'T1G', 'T1G', 'T1G', 'T1G', 'T1G', 'T1G', 'T1G', 'T1G', 'T1G', 'T1G', 'T1G', 'T1G', 'T1G', 'T1G', 'T1G', 'T1G', 'T1G', 'T1G', 'T1G', 'T1G', 'T1G', 'T1G', 'T1G', 'T1G', 'T1G', 'T1G', 'T1G', 'T1G', 'T1G', 'T1G', 'T1G', 'T1G', 'T1G', 'T1G', 'T1G', 'T1G', 'T1G', 'T1G', 'T1G', 'T1G', 'T1G', 'T1G', 'T1G', 'T1G', 'T1G', 'T1G', 'T1G', 'T1G', 'T1G', 'T1G', 'T1G', 'T1G', 'T1G', 'T1G', 'T1G', 'T1G', 'T1G', 'T1G', 'T1G', 'T1G', 'T1G', 'T1G', 'T1G', 'T1G', 'T1G', 'T1G', 'T1G', 'T1G', 'T1G', 'T1G', 'T1G', 'T1G', 'T1G', 'T1G', 'T1G', 'T1G', 'T1G', 'T1G', 'T1G', 'T1G', 'T1G', 'T1G', 'T1G', 'T1G', 'T1G', 'T1G', 'T1G', 'T1G', 'T1G', 'T1G', 'T1G', 'T1G', 'T1G', 'T1G', 'T1D', 'T1G', 'T1G', 'T1G', 'T1G', 'T1G', 'T1G', 'T1G', 'T1G', 'T1D', 'T1G', 'T1G', 'T1G', 'T1G', 'T1G', 'T1G', 'T1G', 'T1G', 'T1G', 'T1G', 'T1G', 'T1G', 'T1G', 'T1G', 'T1G', 'T1G', 'T1G', 'T1G', 'T1G', 'T1G', 'T1G', 'T1G', 'T1G', 'T1G', 'T1G', 'T1G', 'T1G', 'T1G', 'T1G', 'T1G', 'T1G', 'T1G', 'T1G', 'T1G', 'T1G', 'T1G', 'T1G', 'T1G', 'T1G', 'T1G', 'T1G', 'T1G', 'T1G', 'T1G', 'T1G', 'T1G', 'T1G', 'T1G', 'T1G', 'T1G', 'T1G', 'T1G', 'T1G', 'T1G', 'T1G', 'T1G', 'T1G', 'T1G', 'T1G', 'T1G', 'T1G', 'T1G', 'T1G', 'T1G', 'T1G', 'T1G', 'T1G', 'T1G', 'T1G', 'T1G', 'T1G', 'T1G', 'T1G', 'T1G', 'T1G', 'T1G', 'T1G', 'T1G', 'T1G', 'T1G', 'T1G', 'T1G', 'T1G', 'T1G', 'T1G', 'T1G', 'T1G', 'T1G', 'T1D', 'T1G', 'T1G', 'T1G', 'T1G', 'T1G', 'T1G', 'T1G', 'T1G', 'T1G', 'T1G', 'T1G', 'T1G', 'T1G', 'T1G', 'T1D', 'T1G', 'T1G', 'T1G', 'T1D', 'T1G', 'T1G', 'T1G', 'T1G', 'T1G', 'T1G', 'T1G', 'T1G', 'T1G', 'T1G', 'T1G', 'T1G', 'T1G', 'T1G', 'T1G', 'T1G', 'T1G', 'T1G', 'T1G', 'T1G', 'T1G', 'T1G', 'T1G', 'T1G', 'T1G', 'T1G', 'T1G', 'T1G', 'T1G', 'T1G', 'T1G', 'T1G', 'T1G', 'T1G', 'T1G', 'T1G', 'T1G', 'T1G', 'T1G', 'T1G', 'T1G', 'T1G', 'T1G', 'T1G', 'T1G', 'T1G', 'T1G', 'T1G', 'T1G', 'T1G', 'T1G', 'T1G', 'T1G', 'T1G', 'T1G', 'T1G', 'T1G', 'T1G', 'T1G', 'T1G', 'T1G', 'T1G', 'T1G', 'T1G', 'T1G', 'T1G', 'T1G', 'T1G', 'T1G', 'T1G', 'T1G', 'T1G', 'T1G', 'T1G', 'T1G', 'T1G', 'T1G', 'T1G', 'T1G', 'T1G', 'T1G', 'T1G', 'T1G', 'T1G', 'T1G', 'T1G', 'T1G', 'T1G', 'T1G', 'T1G', 'T1G', 'T1G', 'T1G', 'T1G', 'T1G', 'T1G', 'T1G', 'T1G', 'T1G', 'T1G', 'T1G', 'T1G', 'T1G', 'T1G', 'T1G', 'T1G', 'T1G', 'T1G', 'T1G', 'T1G', 'T1G', 'T1G', 'T1G', 'T1G', 'T1G', 'T1G', 'T1G', 'T1G', 'T1G', 'T1G', 'T1G', 'T1G', 'T1G', 'T1G', 'T1G', 'T1G', 'T1G', 'T1G', 'T1G', 'T1G', 'T1G', 'T1G', 'T1G', 'T1G', 'T1G', 'T1G', 'T1G', 'T1G', 'T1G', 'T1G', 'T1G', 'T1G', 'T1G', 'T1G', 'T1G', 'T1G', 'T1G', 'T1G', 'T1G', 'T1G', 'T1G', 'T1G', 'T1G', 'T1G', 'T1G', 'T1G', 'T1G', 'T1G', 'T1G', 'T1G', 'T1G', 'T1G', 'T1G', 'T1G', 'T1G', 'T1G', 'T1G', 'T1G', 'T1G', 'T1G', 'T1G', 'T1G', 'T1G', 'T1G', 'T1G', 'T1G', 'T1G', 'T1G', 'T1G', 'T1G', 'T1G', 'T1G', 'T1G', 'T1G', 'T1G', 'T1G', 'T1G', 'T1G', 'T1G', 'T1G', 'T1G', 'T1G', 'T1G', 'T1G', 'T1G', 'T1G', 'T1G', 'T1G', 'T1G', 'T1G', 'T1G', 'T1G', 'T1G', 'T1G', 'T1G', 'T1G', 'T1G', 'T1G', 'T1G', 'T1G', 'T1G', 'T1G', 'T1G', 'T1G', 'T1G', 'T1G', 'T1G', 'T1G', 'T1G', 'T1G', 'T1G', 'T1G', 'T1G', 'T1G', 'T1G', 'T1G', 'T1G', 'T1G', 'T1G', 'T1G', 'T1G', 'T1G', 'T1G', 'T1G', 'T1G', 'T1G', 'T1G', 'T1G', 'T1G', 'T1G', 'T1G', 'T1G', 'T1G', 'T1G', 'T1G', 'T1G', 'T1G', 'T1G', 'T1G', 'T1G', 'T1G', 'T1G', 'T1G', 'T1G', 'T1G', 'T1G', 'T1G', 'T1G', 'T1G', 'T1G', 'T1G', 'T1G', 'T1G', 'T1G', 'T1G', 'T1G', 'T1D', 'T1G', 'T1G', 'T1G', 'T1G', 'T1G', 'T1G', 'T1G', 'T1G', 'T1G', 'T1G', 'T1G', 'T1G', 'T1G', 'T1G', 'T1G', 'T1G', 'T1G', 'T1G', 'T1G', 'T1G', 'T1G', 'T1G', 'T1G', 'T1D', 'T1G', 'T1G', 'T1G', 'T1G', 'T1G', 'T1G', 'T1G', 'T1G', 'T1G', 'T1G', 'T1G', 'T1G', 'T1G', 'T1G', 'T1G', 'T1G', 'T1G', 'T1G', 'T1G', 'T1G', 'T1G', 'T1G', 'T1G', 'T1G', 'T1G', 'T1G', 'T1G', 'T1G', 'T1G', 'T1G', 'T1G', 'T1G', 'T1G', 'T1G', 'T1G', 'T1G', 'T1G', 'T1G', 'T1G', 'T1G', 'T1G', 'T1G', 'T1G', 'T1G', 'T1G', 'T1G', 'T1G', 'T1G', 'T1G', 'T1G', 'T1G', 'T1G', 'T1G', 'T1G', 'T1G', 'T1G', 'T1G', 'T1G', 'T1G', 'T1G', 'T1G', 'T1G', 'T1G', 'T1G', 'T1G', 'T1G', 'T1G', 'T1G', 'T1G', 'T1G', 'T1G', 'T1G', 'T1G', 'T1G', 'T1G', 'T1G', 'T1G', 'T1G', 'T1G', 'T1G', 'T1G', 'T1G', 'T1G', 'T1G', 'T1G', 'T1G', 'T1G', 'T1G', 'T1G', 'T1G', 'T1G', 'T1G', 'T1G', 'T1G', 'T1G', 'T1G', 'T1G', 'T1G', 'T1G', 'T1G', 'T1G', 'T1G', 'T1G', 'T1G', 'T1G', 'T1G', 'T1G', 'T1G', 'T1G', 'T1G', 'T1D', 'T1G', 'T1G', 'T1G', 'T1G', 'T1G', 'T1G', 'T1G', 'T1G', 'T1G', 'T1G', 'T1G', 'T1G', 'T1G', 'T1G', 'T1G', 'T1G', 'T1G', 'T1G', 'T1G', 'T1G', 'T1G', 'T1G', 'T1G', 'T1G', 'T1G', 'T1G', 'T1G', 'T1G', 'T1G', 'T1G', 'T1G', 'T1G', 'T1G', 'T1G', 'T1G', 'T1G', 'T1G', 'T1G', 'T1G', 'T1G', 'T1G', 'T1G', 'T1G', 'T1G', 'T1G', 'T1G', 'T1G', 'T1G', 'T1G', 'T1G', 'T1G', 'T1G', 'T1G', 'T1G', 'T1G', 'T1G', 'T1G', 'T1G', 'T1G', 'T1G', 'T1G', 'T1G', 'T1G', 'T1G', 'T1G', 'T1G', 'T1G', 'T1G', 'T1G', 'T1G', 'T1G', 'T1G', 'T1G', 'T1G', 'T1G', 'T1G', 'T1G', 'T1G', 'T1G', 'T1G', 'T1G', 'T1G', 'T1G', 'T1G', 'T1G', 'T1G', 'T1G', 'T1G', 'T1G', 'T1G', 'T1G', 'T1G', 'T1G', 'T1G', 'T1G', 'T1G', 'T1G', 'T1G', 'T1D', 'T1G', 'T1G', 'T1G', 'T1G', 'T1G', 'T1G', 'T1G', 'T1G', 'T1G', 'T1G', 'T1G', 'T1G', 'T1G', 'T1G', 'T1G', 'T1G', 'T1G', 'T1G', 'T1G', 'T1G', 'T1G', 'T1G', 'T1G', 'T1G', 'T1G', 'T1G', 'T1G', 'T1G', 'T1G', 'T1G', 'T1G', 'T1G', 'T1G', 'T1G', 'T1G', 'T1G', 'T1G', 'T1G', 'T1G', 'T1G', 'T1G', 'T1G', 'T1G', 'T1G', 'T1G', 'T1G', 'T1G', 'T1G', 'T1G', 'T1G', 'T1G', 'T1G', 'T1G', 'T1G', 'T1G', 'T1G', 'T1G', 'T1G', 'T1G', 'T1G', 'T1G', 'T1G', 'T1G', 'T1G', 'T1G', 'T1G', 'T1G', 'T1G', 'T1G', 'T1G', 'T1G', 'T1G', 'T1G', 'T1G', 'T1G', 'T1G', 'T1G', 'T1G', 'T1G', 'T1G', 'T1G', 'T1G', 'T1G', 'T1G', 'T1G', 'T1G', 'T1G', 'T1G', 'T1G', 'T1G', 'T1G', 'T1G', 'T1G', 'T1G', 'T1G', 'T1G', 'T1G', 'T1G', 'T1G', 'T1G', 'T1G', 'T1G', 'T1G', 'T1G', 'T1G', 'T1G', 'T1G', 'T1G', 'T1G', 'T1G', 'T1G', 'T1G', 'T1G', 'T1G', 'T1G', 'T1G', 'T1G', 'T1G', 'T1G', 'T1G', 'T1G', 'T1G', 'T1G', 'T1G', 'T1G', 'T1G', 'T1G', 'T1G', 'T1G', 'T1G', 'T1G', 'T1G', 'T1G', 'T1G', 'T1G', 'T1G', 'T1G', 'T1G', 'T1G', 'T1G', 'T1G', 'T1G', 'T1G', 'T1G', 'T1G', 'T1G', 'T1G', 'T1G', 'T1G', 'T1G', 'T1G', 'T1G', 'T1G', 'T1G', 'T1G', 'T1G', 'T1D', 'T1G', 'T1G', 'T1G', 'T1G', 'T1G', 'T1G', 'T1G', 'T1G', 'T1G', 'T1G', 'T1G', 'T1G', 'T1G', 'T1G', 'T1G', 'T1G', 'T1G', 'T1G', 'T1G', 'T1G', 'T1G', 'T1G', 'T1G', 'T1G', 'T1G', 'T1G', 'T1G', 'T1G', 'T1G', 'T1G', 'T1G', 'T1G', 'T1G', 'T1G', 'T1G', 'T1G', 'T1G', 'T1G', 'T1G', 'T1G', 'T1G', 'T1G', 'T1G', 'T1G', 'T1G', 'T1G', 'T1G', 'T1G', 'T1G', 'T1G', 'T1G', 'T1G', 'T1G', 'T1G', 'T1G', 'T1G', 'T1G', 'T1G', 'T1G', 'T1G', 'T1G', 'T1G', 'T1G', 'T1G', 'T1G', 'T1G', 'T1G', 'T1G', 'T1G', 'T1G', 'T1G', 'T1G', 'T1G', 'T1G', 'T1G', 'T1G', 'T1G', 'T1G', 'T1G', 'T1G', 'T1G', 'T1G', 'T1G', 'T1G', 'T1G', 'T1G', 'T1G', 'T1G', 'T1G', 'T1G', 'T1G', 'T1G', 'T1G', 'T1G', 'T1G', 'T1G', 'T1G', 'T1D', 'T1G', 'T1G', 'T1G', 'T1G', 'T1G', 'T1G', 'T1G', 'T1G', 'T1G', 'T1G', 'T1G', 'T1G', 'T1G', 'T1G', 'T1G', 'T1G', 'T1G', 'T1G', 'T1G', 'T1G', 'T1G', 'T1G', 'T1G', 'T1G', 'T1G', 'T1G', 'T1G', 'T1G', 'T1G', 'T1G', 'T1G', 'T1G', 'T1G', 'T1G', 'T1G', 'T1G', 'T1G', 'T1G', 'T1G', 'T1G', 'T1G', 'T1G', 'T1G', 'T1G', 'T1G', 'T1G', 'T1G', 'T1G', 'T1G', 'T1G', 'T1G', 'T1G', 'T1G', 'T1G', 'T1G', 'T1G', 'T1G', 'T1G', 'T1G', 'T1G', 'T1G', 'T1G', 'T1G', 'T1G', 'T1G', 'T1G', 'T1G', 'T1G', 'T1G', 'T1G', 'T1G', 'T1G', 'T1G', 'T1G', 'T1G', 'T1G', 'T1G', 'T1G', 'T1G', 'T1G', 'T1G', 'T1G', 'T1G', 'T1G', 'T1G', 'T1G', 'T1G', 'T1G', 'T1G', 'T1G', 'T1G', 'T1G', 'T1G', 'T1G', 'T1G', 'T1G', 'T1G', 'T1G', 'T1G', 'T1G', 'T1G', 'T1G', 'T1G', 'T1G', 'T1G', 'T1G', 'T1G', 'T1G', 'T1G', 'T1G', 'T1G', 'T1G', 'T1G', 'T1G', 'T1G', 'T1G', 'T1G', 'T1G', 'T1G', 'T1G', 'T1G', 'T1G', 'T1G', 'T1G', 'T1G', 'T1G', 'T1G', 'T1G', 'T1G', 'T1G', 'T1G', 'T1G', 'T1G', 'T1G', 'T1G', 'T1G', 'T1G', 'T1G', 'T1G', 'T1G', 'T1G', 'T1G', 'T1G', 'T1G', 'T1G', 'T1G', 'T1G', 'T1G', 'T1G', 'T1G', 'T1G', 'T1D', 'T1G', 'T1G', 'T1G', 'T1G', 'T1G', 'T1G', 'T1G', 'T1G', 'T1G', 'T1G', 'T1G', 'T1G', 'T1G', 'T1G', 'T1G', 'T1G', 'T1G', 'T1G', 'T1G', 'T1G', 'T1G', 'T1G', 'T1G', 'T1G', 'T1G', 'T1G', 'T1G', 'T1G', 'T1G', 'T1G', 'T1G', 'T1G', 'T1G', 'T1G', 'T1G', 'T1G', 'T1G', 'T1G', 'T1G', 'T1G', 'T1G', 'T1G', 'T1G', 'T1G', 'T1G', 'T1G', 'T1G', 'T1G', 'T1G', 'T1G', 'T1G', 'T1G', 'T1G', 'T1G', 'T1G', 'T1G', 'T1G', 'T1G', 'T1G', 'T1G', 'T1G', 'T1G', 'T1G', 'T1G', 'T1G', 'T1G', 'T1G', 'T1G', 'T1G', 'T1G', 'T1G', 'T1G', 'T1G', 'T1G', 'T1G', 'T1G', 'T1G', 'T1G', 'T1G', 'T1G', 'T1G', 'T1G', 'T1G', 'T1G', 'T1G', 'T1G', 'T1G', 'T1G', 'T1G', 'T1G', 'T1G', 'T1G', 'T1G', 'T1G', 'T1G', 'T1G', 'T1G', 'T1G', 'T1G', 'T1G', 'T1G', 'T1G', 'T1G', 'T1G', 'T1G', 'T1G', 'T1G', 'T1G', 'T1G', 'T1G', 'T1G', 'T1G', 'T1G', 'T1G', 'T1G', 'T1G', 'T1G', 'T1G', 'T1G', 'T1D', 'T1G', 'T1G', 'T1G', 'T1G', 'T1G', 'T1G', 'T1G', 'T1G', 'T1G', 'T1G', 'T1G', 'T1G', 'T1G', 'T1G', 'T1G', 'T1G', 'T1G', 'T1G', 'T1G', 'T1G', 'T1G', 'T1G', 'T1G', 'T1G', 'T1G', 'T1G', 'T1G', 'T1G', 'T1G', 'T1G', 'T1G', 'T1G', 'T1G', 'T1G', 'T1G', 'T1G', 'T1G', 'T1G', 'T1G', 'T1G', 'T1G', 'T1G', 'T1G', 'T1G', 'T1G', 'T1G', 'T1G', 'T1G', 'T1G', 'T1G', 'T1G', 'T1G', 'T1G', 'T1G', 'T1G', 'T1D', 'T1G', 'T1G', 'T1G', 'T1G', 'T1G', 'T1G', 'T1G', 'T1G', 'T1G', 'T1G', 'T1G', 'T1G', 'T1G', 'T1G', 'T1G', 'T1G', 'T1G', 'T1G', 'T1G', 'T1G', 'T1G', 'T1G', 'T1G', 'T1G', 'T1G', 'T1G', 'T1D', 'T1G', 'T1G', 'T1G', 'T1G', 'T1G', 'T1G', 'T1G', 'T1G', 'T1G', 'T1G', 'T1G', 'T1G', 'T1G', 'T1G', 'T1G', 'T1G', 'T1G', 'T1G', 'T1G', 'T1G', 'T1G', 'T1G', 'T1G', 'T1G', 'T1G', 'T1G', 'T1G', 'T1G', 'T1G', 'T1G', 'T1G', 'T1G', 'T1G', 'T1G', 'T1G', 'T1G', 'T1G', 'T1G', 'T1G', 'T1G', 'T1G', 'T1G', 'T1G', 'T1G', 'T1G', 'T1G', 'T1G', 'T1G', 'T1G', 'T1G', 'T1G', 'T1G', 'T1G', 'T1G', 'T1G', 'T1G', 'T1G', 'T1G', 'T1G', 'T1G', 'T1G', 'T1G', 'T1G', 'T1G', 'T1G', 'T1G', 'T1G', 'T1G', 'T1G', 'T1G', 'T1G', 'T1G', 'T1G', 'T1G', 'T1G', 'T1G', 'T1G', 'T1G', 'T1G', 'T1G', 'T1G', 'T1G', 'T1G', 'T1G', 'T1G', 'T1G', 'T1G', 'T1G', 'T1G', 'T1G', 'T1G', 'T1G', 'T1G', 'T1G', 'T1G', 'T1G', 'T1G', 'T1G', 'T1G', 'T1G', 'T1G', 'T1G', 'T1G', 'T1G', 'T1G', 'T1G', 'T1G', 'T1G', 'T1G', 'T1G', 'T1G', 'T1G', 'T1G', 'T1G', 'T1G', 'T1G', 'T1D', 'T1G', 'T1G', 'T1G', 'T1G', 'T1G', 'T1G', 'T1G', 'T1G', 'T1G', 'T1G', 'T1G', 'T1G', 'T1G', 'T1G', 'T1D', 'T1G', 'T1G', 'T1G', 'T1G', 'T1G', 'T1G', 'T1G', 'T1G', 'T1G', 'T1G', 'T1G', 'T1G', 'T1G', 'T1G', 'T1G', 'T1G', 'T1G', 'T1G', 'T1G', 'T1G', 'T1G', 'T1G', 'T1G', 'T1G', 'T1G', 'T1G', 'T1G', 'T1G', 'T1G', 'T1G', 'T1G', 'T1G', 'T1G', 'T1G', 'T1G', 'T1G', 'T1G', 'T1G', 'T1G', 'T1G', 'T1G', 'T1G', 'T1G', 'T1G', 'T1G', 'T1G', 'T1G', 'T1G', 'T1G', 'T1G', 'T1G', 'T1G', 'T1G', 'T1G', 'T1G', 'T1G', 'T1G', 'T1G', 'T1G', 'T1G', 'T1G', 'T1G', 'T1G', 'T1G', 'T1G', 'T1G', 'T1G', 'T1G', 'T1G', 'T1G', 'T1G', 'T1G', 'T1G', 'T1G', 'T1G', 'T1G', 'T1G', 'T1G', 'T1G', 'T1G', 'T1G', 'T1G', 'T1G', 'T1G', 'T1G', 'T1G', 'T1G', 'T1G', 'T1G', 'T1G', 'T1G', 'T1G', 'T1G', 'T1G', 'T1G', 'T1G', 'T1G', 'T1G', 'T1G', 'T1G', 'T1G', 'T1G', 'T1G', 'T1G', 'T1G', 'T1G', 'T1G', 'T1G', 'T1G', 'T1G', 'T1G', 'T1G', 'T1G', 'T1G', 'T1G', 'T1G', 'T1G', 'T1G', 'T1G', 'T1G', 'T1G', 'T1G', 'T1G', 'T1G', 'T1G', 'T1G', 'T1G', 'T1G', 'T1G', 'T1G', 'T1G', 'T1G', 'T1G', 'T1G', 'T1G', 'T1G', 'T1G', 'T1G', 'T1G', 'T1G', 'T1G', 'T1G', 'T1G', 'T1G', 'T1G', 'T1G', 'T1G', 'T1G', 'T1G', 'T1G', 'T1G', 'T1G', 'T1G', 'T1G', 'T1G', 'T1G', 'T1G', 'T1G', 'T1G', 'T1G', 'T1G', 'T1G', 'T1G', 'T1G', 'T1G', 'T1G', 'T1G', 'T1G', 'T1G', 'T1G', 'T1G', 'T1G', 'T1G', 'T1G', 'T1G', 'T1G', 'T1G', 'T1G', 'T1G', 'T1G', 'T1G', 'T1G', 'T1G', 'T1G', 'T1G', 'T1G', 'T1G', 'T1G', 'T1G', 'T1G', 'T1G', 'T1G', 'T1G', 'T1G', 'T1G', 'T1G', 'T1G', 'T1G', 'T1G', 'T1G', 'T1G', 'T1G', 'T1G', 'T1G', 'T1G', 'T1G', 'T1G', 'T1G', 'T1G', 'T1G', 'T1G', 'T1G', 'T1G', 'T1G', 'T1G', 'T1G', 'T1G', 'T1G', 'T1G', 'T1G', 'T1G', 'T1G', 'T1G', 'T1G', 'T1G', 'T1G', 'T1G', 'T1G', 'T1G', 'T1G', 'T1G', 'T1G', 'T1G', 'T1G', 'T1G', 'T1G', 'T1G', 'T1G', 'T1G', 'T1G', 'T1G', 'T1G', 'T1G', 'T1G', 'T1G', 'T1G', 'T1G', 'T1G', 'T1G', 'T1G', 'T1G', 'T1G', 'T1G', 'T1G', 'T1G', 'T1G', 'T1G', 'T1G', 'T1G', 'T1G', 'T1G', 'T1G', 'T1G', 'T1G', 'T1G', 'T1G', 'T1G', 'T1G', 'T1G', 'T1G', 'T1G', 'T1G', 'T1G', 'T1G', 'T1G', 'T1G', 'T1G', 'T1G', 'T1G', 'T1G', 'T1G', 'T1G', 'T1G', 'T1G', 'T1G', 'T1G', 'T1G', 'T1G', 'T1G', 'T1G', 'T1G', 'T1D', 'T1G', 'T1G', 'T1G', 'T1G', 'T1G', 'T1G', 'T1G', 'T1G', 'T1G', 'T1G', 'T1G', 'T1G', 'T1G', 'T1G', 'T1G', 'T1G', 'T1G', 'T1G', 'T1G', 'T1G', 'T1G', 'T1G', 'T1G', 'T1G', 'T1G', 'T1G', 'T1G', 'T1G', 'T1G', 'T1G', 'T1G', 'T1G', 'T1G', 'T1G', 'T1G', 'T1G', 'T1G', 'T1G', 'T1G', 'T1G', 'T1G', 'T1G', 'T1G', 'T1G', 'T1G', 'T1G', 'T1G', 'T1G', 'T1G', 'T1G', 'T1G', 'T1G', 'T1G', 'T1G', 'T1G', 'T1G', 'T1G', 'T1G', 'T1G', 'T1D', 'T1G', 'T1G', 'T1G', 'T1G', 'T1G', 'T1D', 'T1G', 'T1G', 'T1G', 'T1G', 'T1G', 'T1G', 'T1G', 'T1G', 'T1G', 'T1G', 'T1G', 'T1G', 'T1G', 'T1G', 'T1G', 'T1G', 'T1G', 'T1G', 'T1G', 'T1G', 'T1G', 'T1G', 'T1G', 'T1G', 'T1G', 'T1G', 'T1G', 'T1G', 'T1G', 'T1G', 'T1G', 'T1G', 'T1G', 'T1G', 'T1G', 'T1G', 'T1G', 'T1G', 'T1G', 'T1G', 'T1G', 'T1G', 'T1G', 'T1G', 'T1G', 'T1G', 'T1G', 'T1G', 'T1G', 'T1G', 'T1G', 'T1G', 'T1G', 'T1G', 'T1G', 'T1G', 'T1G', 'T1G', 'T1G', 'T1G', 'T1G', 'T1G', 'T1G', 'T1G', 'T1G', 'T1G', 'T1G', 'T1G', 'T1G', 'T1G', 'T1G', 'T1G', 'T1G', 'T1G', 'T1G', 'T1G', 'T1G', 'T1G', 'T1G', 'T1G', 'T1G', 'T1G', 'T1G', 'T1G', 'T1G', 'T1G', 'T1G', 'T1G', 'T1G', 'T1G', 'T1G', 'T1G', 'T1G', 'T1G', 'T1G', 'T1G', 'T1G', 'T1G', 'T1G', 'T1G', 'T1G', 'T1G', 'T1G', 'T1G', 'T1G', 'T1G', 'T1G', 'T1G', 'T1D', 'T1G', 'T1G', 'T1G', 'T1G', 'T1G', 'T1G', 'T1G', 'T1G', 'T1G', 'T1G', 'T1G', 'T1G', 'T1G', 'T1G', 'T1G', 'T1G', 'T1G', 'T1G', 'T1G', 'T1G', 'T1G', 'T1G', 'T1G', 'T1G', 'T1G', 'T1G', 'T1G', 'T1G', 'T1G', 'T1G', 'T1G', 'T1G', 'T1G', 'T1G', 'T1G', 'T1G', 'T1G', 'T1G', 'T1G', 'T1G', 'T1G', 'T1G', 'T1G', 'T1G', 'T1G', 'T1G', 'T1G', 'T1G', 'T1G', 'T1G', 'T1G', 'T1G', 'T1G', 'T1G', 'T1G', 'T1G', 'T1G', 'T1G', 'T1G', 'T1G', 'T1G', 'T1G', 'T1G', 'T1G', 'T1G', 'T1G', 'T1G', 'T1G', 'T1G', 'T1G', 'T1G', 'T1G', 'T1G', 'T1G', 'T1G', 'T1G', 'T1G', 'T1G', 'T1G', 'T1G', 'T1G', 'T1G', 'T1G', 'T1G', 'T1G', 'T1G', 'T1G', 'T1G', 'T1G', 'T1G', 'T1G', 'T1G', 'T1G', 'T1G', 'T1G', 'T1G', 'T1G', 'T1G', 'T1G', 'T1G', 'T1G', 'T1G', 'T1G', 'T1G', 'T1G', 'T1G', 'T1G', 'T1G', 'T1G', 'T1G', 'T1G', 'T1G', 'T1G', 'T1G', 'T1G', 'T1G', 'T1G', 'T1G', 'T1G', 'T1G', 'T1G', 'T1G', 'T1G', 'T1G', 'T1G', 'T1G', 'T1G', 'T1G', 'T1G', 'T1G', 'T1G', 'T1G', 'T1G', 'T1G', 'T1G', 'T1G', 'T1G', 'T1G', 'T1G', 'T1G', 'T1G', 'T1G', 'T1G', 'T1G', 'T1G', 'T1G', 'T1G', 'T1G', 'T1G', 'T1G', 'T1G', 'T1G', 'T1G', 'T1G', 'T1G', 'T1G', 'T1G', 'T1G', 'T1G', 'T1G', 'T1G', 'T1G', 'T1G', 'T1G', 'T1G', 'T1G', 'T1G', 'T1G', 'T1G', 'T1G', 'T1G', 'T1G', 'T1G', 'T1G', 'T1G', 'T1G', 'T1G', 'T1G', 'T1G', 'T1G', 'T1G', 'T1G', 'T1G', 'T1G', 'T1G', 'T1G', 'T1G', 'T1G', 'T1G', 'T1G', 'T1G', 'T1G', 'T1G', 'T1G', 'T1G', 'T1G', 'T1G', 'T1G', 'T1G', 'T1G', 'T1G', 'T1G', 'T1G', 'T1G', 'T1G', 'T1G', 'T1G', 'T1G', 'T1G', 'T1G', 'T1G', 'T1G', 'T1G', 'T1G', 'T1G', 'T1G', 'T1G', 'T1G', 'T1G', 'T1G', 'T1G', 'T1G', 'T1G', 'T1G', 'T1G', 'T1G', 'T1G', 'T1G', 'T1G', 'T1G', 'T1G', 'T1G', 'T1G', 'T1G', 'T1G', 'T1G', 'T1G', 'T1G', 'T1G', 'T1G', 'T1G', 'T1G', 'T1G', 'T1G', 'T1G', 'T1G', 'T1G', 'T1G', 'T1G', 'T1G', 'T1G', 'T1G', 'T1G', 'T1G', 'T1G', 'T1G', 'T1G', 'T1G', 'T1G', 'T1G', 'T1G', 'T1G', 'T1G', 'T1G', 'T1G', 'T1G', 'T1G', 'T1G', 'T1G', 'T1G', 'T1G', 'T1G', 'T1G', 'T1G', 'T1G', 'T1G', 'T1G', 'T1G', 'T1G', 'T1G', 'T1G', 'T1G', 'T1G', 'T1G', 'T1G', 'T1G', 'T1G', 'T1G', 'T1G', 'T1G', 'T1G', 'T1G', 'T1G', 'T1G', 'T1G', 'T1G', 'T1G', 'T1G', 'T1G', 'T1G', 'T1G', 'T1G', 'T1G', 'T1G', 'T1G', 'T1G', 'T1G', 'T1G', 'T1G', 'T1G', 'T1G', 'T1G', 'T1G', 'T1G', 'T1G', 'T1G', 'T1G', 'T1G', 'T1G', 'T1G', 'T1G', 'T1G', 'T1G', 'T1G', 'T1G', 'T1G', 'T1G', 'T1G', 'T1G', 'T1G', 'T1G', 'T1G', 'T1G', 'T1G', 'T1G', 'T1D', 'T1G', 'T1G', 'T1G', 'T1G', 'T1G', 'T1G', 'T1G', 'T1G', 'T1G', 'T1G', 'T1G', 'T1G', 'T1G', 'T1G', 'T1G', 'T1G', 'T1G', 'T1G', 'T1G', 'T1G', 'T1G', 'T1G', 'T1G', 'T1G', 'T1G', 'T1G', 'T1G', 'T1G', 'T1G', 'T1G', 'T1G', 'T1G', 'T1G', 'T1G', 'T1G', 'T1G', 'T1G', 'T1G', 'T1G', 'T1G', 'T1G', 'T1G', 'T1G', 'T1G', 'T1G', 'T1G', 'T1G', 'T1G', 'T1D', 'T1G', 'T1G', 'T1G', 'T1G', 'T1G', 'T1G', 'T1G', 'T1G', 'T1G', 'T1G', 'T1G', 'T1G', 'T1G', 'T1G', 'T1G', 'T1G', 'T1G', 'T1G', 'T1G', 'T1G', 'T1G', 'T1G', 'T1G', 'T1G', 'T1G', 'T1G', 'T1G', 'T1G', 'T1G', 'T1G', 'T1G', 'T1G', 'T1G', 'T1G', 'T1G', 'T1G', 'T1G', 'T1G', 'T1G', 'T1G', 'T1G', 'T1G', 'T1G', 'T1G', 'T1G', 'T1G', 'T1G', 'T1G', 'T1G', 'T1G', 'T1G', 'T1G', 'T1G', 'T1G', 'T1G', 'T1G', 'T1G', 'T1G', 'T1G', 'T1G', 'T1G', 'T1G', 'T1G', 'T1G', 'T1G', 'T1G', 'T1G', 'T1G', 'T1G', 'T1G', 'T1G', 'T1G', 'T1G', 'T1G', 'T1G', 'T1G', 'T1G', 'T1G', 'T1G', 'T1G', 'T1G', 'T1G', 'T1G', 'T1G', 'T1G', 'T1G', 'T1G', 'T1G', 'T1G', 'T1G', 'T1G', 'T1G', 'T1D', 'T1G', 'T1G', 'T1G', 'T1G', 'T1G', 'T1G', 'T1G', 'T1G', 'T1G', 'T1G', 'T1G', 'T1D', 'T1G', 'T1G', 'T1G', 'T1G', 'T1G', 'T1G', 'T1G', 'T1G', 'T1G', 'T1G', 'T1G', 'T1G', 'T1G', 'T1G', 'T1G', 'T1G', 'T1G', 'T1G', 'T1G', 'T1G', 'T1G', 'T1G', 'T1G', 'T1G', 'T1G', 'T1G', 'T1G', 'T1G', 'T1G', 'T1G', 'T1G', 'T1G', 'T1G', 'T1G', 'T1G', 'T1G', 'T1G', 'T1G', 'T1G', 'T1G', 'T1G', 'T1G', 'T1G', 'T1G', 'T1G', 'T1G', 'T1G', 'T1G', 'T1G', 'T1G', 'T1G', 'T1G', 'T1G', 'T1G', 'T1G', 'T1G', 'T1G', 'T1G', 'T1G', 'T1D', 'T1G', 'T1G', 'T1G', 'T1G', 'T1G', 'T1G', 'T1G', 'T1G', 'T1G', 'T1G', 'T1G', 'T1G', 'T1G', 'T1G', 'T1G', 'T1G', 'T1G', 'T1G', 'T1G', 'T1G', 'T1G', 'T1G', 'T1G', 'T1G', 'T1G', 'T1G', 'T1G', 'T1G', 'T1G', 'T1G', 'T1G', 'T1G', 'T1G', 'T1G', 'T1G', 'T1G', 'T1G', 'T1G', 'T1G', 'T1G', 'T1G', 'T1G', 'T1G', 'T1G', 'T1G', 'T1G', 'T1G', 'T1G', 'T1G', 'T1G', 'T1G', 'T1G', 'T1G', 'T1G', 'T1G', 'T1G', 'T1G', 'T1G', 'T1G', 'T1G', 'T1G', 'T1G', 'T1G', 'T1G', 'T1G', 'T1G', 'T1G', 'T1G', 'T1G', 'T1G', 'T1G', 'T1G', 'T1G', 'T1G', 'T1G', 'T1G', 'T1G', 'T1G', 'T1G', 'T1G', 'T1G', 'T1G', 'T1G', 'T1G', 'T1G', 'T1G', 'T1G', 'T1G', 'T1G', 'T1G', 'T1G', 'T1G', 'T1G', 'T1G', 'T1G', 'T1G', 'T1G', 'T1G', 'T1G', 'T1G', 'T1G', 'T1G', 'T1G', 'T1G', 'T1G', 'T1G', 'T1G', 'T1G', 'T1G', 'T1G', 'T1G', 'T1G', 'T1G', 'T1G', 'T1G', 'T1G', 'T1G', 'T1G', 'T1G', 'T1G', 'T1G', 'T1G', 'T1G', 'T1G', 'T1G', 'T1G', 'T1G', 'T1G', 'T1G', 'T1G', 'T1G', 'T1G', 'T1G', 'T1G', 'T1G', 'T1G', 'T1G', 'T1G', 'T1G', 'T1G', 'T1G', 'T1G', 'T1G', 'T1G', 'T1G', 'T1G', 'T1G', 'T1G', 'T1G', 'T1G', 'T1G', 'T1G', 'T1G', 'T1G', 'T1G', 'T1G', 'T1G', 'T1G', 'T1G', 'T1G', 'T1G', 'T1G', 'T1G', 'T1G', 'T1G', 'T1G', 'T1G', 'T1G', 'T1G', 'T1G', 'T1G', 'T1G', 'T1G', 'T1G', 'T1G', 'T1G', 'T1G', 'T1G', 'T1G', 'T1G', 'T1G', 'T1G', 'T1G', 'T1G', 'T1G', 'T1G', 'T1G', 'T1G', 'T1G', 'T1G', 'T1G', 'T1G', 'T1G', 'T1G', 'T1G', 'T1G', 'T1G', 'T1G', 'T1G', 'T1G', 'T1G', 'T1G', 'T1G', 'T1G', 'T1G', 'T1G', 'T1G', 'T1G', 'T1G', 'T1G', 'T1G', 'T1G', 'T1G', 'T1G', 'T1G', 'T1G', 'T1G', 'T1G', 'T1G', 'T1G', 'T1G', 'T1G', 'T1G', 'T1G', 'T1G', 'T1D', 'T1G', 'T1G', 'T1G', 'T1G', 'T1G', 'T1G', 'T1G', 'T1G', 'T1G', 'T1G', 'T1G', 'T1G', 'T1G', 'T1G', 'T1G', 'T1G', 'T1G', 'T1G', 'T1G', 'T1G', 'T1G', 'T1G', 'T1G', 'T1G', 'T1G', 'T1G', 'T1G', 'T1G', 'T1G', 'T1G', 'T1G', 'T1G', 'T1G', 'T1G', 'T1D', 'T1G', 'T1G', 'T1G', 'T1G', 'T1G', 'T1G', 'T1G', 'T1G', 'T1G', 'T1G', 'T1G', 'T1G', 'T1G', 'T1G', 'T1G', 'T1G', 'T1G', 'T1G', 'T1G', 'T1G', 'T1G', 'T1G', 'T1G', 'T1G', 'T1G', 'T1G', 'T1G', 'T1G', 'T1G', 'T1G', 'T1G', 'T1G', 'T1G', 'T1G', 'T1G', 'T1G', 'T1G', 'T1G', 'T1G', 'T1G', 'T1G', 'T1G', 'T1G', 'T1G', 'T1G', 'T1G', 'T1G', 'T1G', 'T1G', 'T1G', 'T1G', 'T1G', 'T1G', 'T1G', 'T1G', 'T1G', 'T1G', 'T1G', 'T1G', 'T1G', 'T1G', 'T1G', 'T1G', 'T1G', 'T1G', 'T1G', 'T1G', 'T1G', 'T1G', 'T1G', 'T1G', 'T1G', 'T1G', 'T1G', 'T1G', 'T1G', 'T1G', 'T1G', 'T1G', 'T1G', 'T1G', 'T1G', 'T1G', 'T1D', 'T1G', 'T1G', 'T1G', 'T1G', 'T1G', 'T1G', 'T1G', 'T1G', 'T1G', 'T1G', 'T1G', 'T1G', 'T1G', 'T1G', 'T1G', 'T1G', 'T1G', 'T1G', 'T1G', 'T1G', 'T1G', 'T1G', 'T1G', 'T1G', 'T1G', 'T1G', 'T1G', 'T1G', 'T1G', 'T1G', 'T1G', 'T1G', 'T1G', 'T1G', 'T1G', 'T1G', 'T1G', 'T1G', 'T1G', 'T1G', 'T1G', 'T1G', 'T1G', 'T1G', 'T1G', 'T1G', 'T1G', 'T1G', 'T1G', 'T1G', 'T1G', 'T1G', 'T1G', 'T1G', 'T1G', 'T1G', 'T1G', 'T1G', 'T1G', 'T1G', 'T1G', 'T1G', 'T1G', 'T1G', 'T1G', 'T1G', 'T1G', 'T1G', 'T1G', 'T1G', 'T1G', 'T1G', 'T1G', 'T1G', 'T1G', 'T1G', 'T1G', 'T1G', 'T1G', 'T1G', 'T1G', 'T1G', 'T1G', 'T1G', 'T1G', 'T1G', 'T1G', 'T1G', 'T1G', 'T1G', 'T1G', 'T1G', 'T1G', 'T1G', 'T1G', 'T1G', 'T1G', 'T1G', 'T1G', 'T1G', 'T1G', 'T1G', 'T1G', 'T1G', 'T1G', 'T1G', 'T1G', 'T1G', 'T1G', 'T1G', 'T1G', 'T1G', 'T1G', 'T1G', 'T1G', 'T1G', 'T1G', 'T1G', 'T1G', 'T1G', 'T1G', 'T1G', 'T1G', 'T1G', 'T1G', 'T1G', 'T1G', 'T1G', 'T1G', 'T1G', 'T1G', 'T1G', 'T1G', 'T1G', 'T1G', 'T1G', 'T1G', 'T1G', 'T1G', 'T1G', 'T1G', 'T1G', 'T1G', 'T1G', 'T1G', 'T1G', 'T1G', 'T1G', 'T1G', 'T1G', 'T1G', 'T1G', 'T1G', 'T1G', 'T1G', 'T1G', 'T1G', 'T1G', 'T1G', 'T1G', 'T1G', 'T1G', 'T1G', 'T1G', 'T1G', 'T1G', 'T1G', 'T1G', 'T1G', 'T1G', 'T1G', 'T1G', 'T1G', 'T1G', 'T1G', 'T1G', 'T1G', 'T1G', 'T1G', 'T1G', 'T1G', 'T1G', 'T1G', 'T1G', 'T1G', 'T1G', 'T1G', 'T1G', 'T1G', 'T1G', 'T1G', 'T1G', 'T1G', 'T1G', 'T1G', 'T1G', 'T1G', 'T1G', 'T1G', 'T1G', 'T1G', 'T1G', 'T1G', 'T1G', 'T1G', 'T1G', 'T1G', 'T1G', 'T1G', 'T1G', 'T1G', 'T1G', 'T1G', 'T1G', 'T1G', 'T1G', 'T1G', 'T1G', 'T1G', 'T1G', 'T1G', 'T1G', 'T1G', 'T1G', 'T1G', 'T1G', 'T1G', 'T1G', 'T1G', 'T1G', 'T1G', 'T1G', 'T1G', 'T1G', 'T1G', 'T1G', 'T1G', 'T1G', 'T1G', 'T1G', 'T1D', 'T1G', 'T1G', 'T1G', 'T1G', 'T1G', 'T1G', 'T1G', 'T1G', 'T1G', 'T1G', 'T1G', 'T1G', 'T1G', 'T1G', 'T1G', 'T1G', 'T1G', 'T1G', 'T1G', 'T1G', 'T1G', 'T1G', 'T1G', 'T1G', 'T1G', 'T1G', 'T1G', 'T1G', 'T1G', 'T1G', 'T1G', 'T1G', 'T1G', 'T1G', 'T1G', 'T1G', 'T1G', 'T1G', 'T1G', 'T1G', 'T1G', 'T1G', 'T1G', 'T1G', 'T1G', 'T1G', 'T1G', 'T1G', 'T1G', 'T1G', 'T1G', 'T1G', 'T1G', 'T1G', 'T1G', 'T1G', 'T1G', 'T1G', 'T1G', 'T1G', 'T1G', 'T1G', 'T1G', 'T1G', 'T1G', 'T1D', 'T1G', 'T1G', 'T1G', 'T1G', 'T1G', 'T1G', 'T1G', 'T1G', 'T1G', 'T1G', 'T1G', 'T1G', 'T1G', 'T1G', 'T1G', 'T1G', 'T1G', 'T1G', 'T1G', 'T1G', 'T1G', 'T1G', 'T1G', 'T1G', 'T1G', 'T1G', 'T1G', 'T1G', 'T1G', 'T1G', 'T1G', 'T1G', 'T1G', 'T1G', 'T1G', 'T1G', 'T1G', 'T1G', 'T1G', 'T1G', 'T1G', 'T1G', 'T1G', 'T1G', 'T1G', 'T1G', 'T1G', 'T1G', 'T1G', 'T1G', 'T1G', 'T1G', 'T1G', 'T1G', 'T1G', 'T1G', 'T1G', 'T1G', 'T1G', 'T1G', 'T1G', 'T1G', 'T1G', 'T1G', 'T1G', 'T1G', 'T1G', 'T1G', 'T1G', 'T1G', 'T1G', 'T1G', 'T1G', 'T1G', 'T1G', 'T1G', 'T1G', 'T1G', 'T1G', 'T1G', 'T1G', 'T1G', 'T1G', 'T1G', 'T1G', 'T1G', 'T1G', 'T1G', 'T1G', 'T1G', 'T1G', 'T1G', 'T1G', 'T1G', 'T1G', 'T1G', 'T1G', 'T1G', 'T1G', 'T1G', 'T1G', 'T1G', 'T1G', 'T1G', 'T1G', 'T1G', 'T1G', 'T1G', 'T1G', 'T1G', 'T1G', 'T1G', 'T1G', 'T1G', 'T1G', 'T1G', 'T1G', 'T1G', 'T1G', 'T1G', 'T1G', 'T1G', 'T1G', 'T1G', 'T1G', 'T1G', 'T1G', 'T1G', 'T1G', 'T1G', 'T1G', 'T1G', 'T1G', 'T1G', 'T1G', 'T1G', 'T1G', 'T1G', 'T1G', 'T1G', 'T1G', 'T1G', 'T1G', 'T1G', 'T1G', 'T1G', 'T1G', 'T1G', 'T1G', 'T1G', 'T1G', 'T1G', 'T1G', 'T1G', 'T1G', 'T1G', 'T1G', 'T1G', 'T1G', 'T1G', 'T1G', 'T1G', 'T1G', 'T1G', 'T1G', 'T1G', 'T1G', 'T1G', 'T1G', 'T1G', 'T1G', 'T1G', 'T1G', 'T1G', 'T1G', 'T1G', 'T1G', 'T1G', 'T1G', 'T1G', 'T1G', 'T1G', 'T1G', 'T1G', 'T1G', 'T1G', 'T1G', 'T1G', 'T1G', 'T1G', 'T1G', 'T1G', 'T1G', 'T1G', 'T1G', 'T1G', 'T1G', 'T1G', 'T1G', 'T1G', 'T1G', 'T1G', 'T1G', 'T1G', 'T1G', 'T1G', 'T1G', 'T1G', 'T1G', 'T1G', 'T1G', 'T1G', 'T1G', 'T1G', 'T1G', 'T1G', 'T1G', 'T1G', 'T1G', 'T1G', 'T1G', 'T1G', 'T1G', 'T1G', 'T1G', 'T1G', 'T1G', 'T1G', 'T1G', 'T1G', 'T1G', 'T1G', 'T1G', 'T1G', 'T1G', 'T1G', 'T1G', 'T1G', 'T1G', 'T1G', 'T1G', 'T1G', 'T1G', 'T1G', 'T1G', 'T1G', 'T1G', 'T1G', 'T1G', 'T1G', 'T1G', 'T1G', 'T1G', 'T1G', 'T1G', 'T1G', 'T1G', 'T1G', 'T1G', 'T1G', 'T1G', 'T1G', 'T1G', 'T1G', 'T1G', 'T1G', 'T1G', 'T1G', 'T1G', 'T1G', 'T1G', 'T1G', 'T1G', 'T1G', 'T1G', 'T1G', 'T1G', 'T1G', 'T1G', 'T1G', 'T1G', 'T1G', 'T1G', 'T1G', 'T1G', 'T1G', 'T1G', 'T1G', 'T1G', 'T1G', 'T1G', 'T1G', 'T1G', 'T1G', 'T1G', 'T1G', 'T1G', 'T1G', 'T1G', 'T1G', 'T1G', 'T1G', 'T1G', 'T1G', 'T1G', 'T1G', 'T1G', 'T1G', 'T1G', 'T1G', 'T1G', 'T1G', 'T1G', 'T1G', 'T1G', 'T1G', 'T1G', 'T1G', 'T1G', 'T1G', 'T1G', 'T1G', 'T1G', 'T1G', 'T1G', 'T1G', 'T1G', 'T1G', 'T1G', 'T1G', 'T1G', 'T1G', 'T1G', 'T1G', 'T1G', 'T1G', 'T1G', 'T1G', 'T1G', 'T1G', 'T1G', 'T1G', 'T1G', 'T1G', 'T1G', 'T1G', 'T1G', 'T1G', 'T1G', 'T1G', 'T1G', 'T1G', 'T1G', 'T1G', 'T1G', 'T1G', 'T1G', 'T1G', 'T1G', 'T1G', 'T1G', 'T1G', 'T1G', 'T1G', 'T1G', 'T1G', 'T1G', 'T1G', 'T1G', 'T1G', 'T1G', 'T1G', 'T1G', 'T1G', 'T1G', 'T1G', 'T1G', 'T1G', 'T1G', 'T1G', 'T1G', 'T1G', 'T1G', 'T1G', 'T1G', 'T1G', 'T1D', 'T1G', 'T1G', 'T1G', 'T1G', 'T1G', 'T1G', 'T1G', 'T1G', 'T1G', 'T1G', 'T1G', 'T1G', 'T1G', 'T1G', 'T1G', 'T1G', 'T1G', 'T1G', 'T1G', 'T1G', 'T1G', 'T1G', 'T1G', 'T1G', 'T1G', 'T1G', 'T1G', 'T1G', 'T1G', 'T1G', 'T1G', 'T1G', 'T1G', 'T1D', 'T1G', 'T1G', 'T1G', 'T1G', 'T1G', 'T1G', 'T1G', 'T1G', 'T1G', 'T1G', 'T1G', 'T1G', 'T1G', 'T1G', 'T1G', 'T1G', 'T1G', 'T1G', 'T1G', 'T1G', 'T1G', 'T1G', 'T1G', 'T1G', 'T1D', 'T1G', 'T1G', 'T1G', 'T1G', 'T1G', 'T1G', 'T1G', 'T1G', 'T1G', 'T1G', 'T1G', 'T1G', 'T1G', 'T1G', 'T1G', 'T1G', 'T1G', 'T1G', 'T1G', 'T1G', 'T1G', 'T1G', 'T1G', 'T1G', 'T1G', 'T1G', 'T1G', 'T1G', 'T1G', 'T1G', 'T1G', 'T1G', 'T1G', 'T1G', 'T1G', 'T1G', 'T1G', 'T1G', 'T1G', 'T1G', 'T1G', 'T1G', 'T1G', 'T1G', 'T1G', 'T1G', 'T1G', 'T1G', 'T1G', 'T1G', 'T1G', 'T1G', 'T1G', 'T1G', 'T1G', 'T1G', 'T1G', 'T1G', 'T1G', 'T1G', 'T1G', 'T1G', 'T1G', 'T1G', 'T1G', 'T1G', 'T1G', 'T1G', 'T1G', 'T1G', 'T1G', 'T1G', 'T1G', 'T1G', 'T1G', 'T1G', 'T1G', 'T1G', 'T1G', 'T1G', 'T1G', 'T1G', 'T1G', 'T1G', 'T1G', 'T1G', 'T1G', 'T1G', 'T1G', 'T1G', 'T1G', 'T1G', 'T1G', 'T1G', 'T1G', 'T1G', 'T1G', 'T1G', 'T1G', 'T1G', 'T1G', 'T1G', 'T1G', 'T1G', 'T1G', 'T1G', 'T1G', 'T1G', 'T1G', 'T1G', 'T1G', 'T1G', 'T1G', 'T1G', 'T1G', 'T1G', 'T1G', 'T1G', 'T1G', 'T1G', 'T1G', 'T1G', 'T1G', 'T1G', 'T1G', 'T1G', 'T1G', 'T1G', 'T1G', 'T1G', 'T1G', 'T1G', 'T1G', 'T1G', 'T1G', 'T1G', 'T1G', 'T1G', 'T1G', 'T1G', 'T1G', 'T1G', 'T1G', 'T1G', 'T1G', 'T1G', 'T1G', 'T1G', 'T1G', 'T1G', 'T1G', 'T1G', 'T1G', 'T1G', 'T1G', 'T1G', 'T1G', 'T1G', 'T1G', 'T1G', 'T1G', 'T1G', 'T1G', 'T1G', 'T1G', 'T1G', 'T1G', 'T1G', 'T1G', 'T1G', 'T1G', 'T1G', 'T1G', 'T1G', 'T1G', 'T1G', 'T1G', 'T1G', 'T1G', 'T1G', 'T1G', 'T1G', 'T1G', 'T1G', 'T1G', 'T1G', 'T1G', 'T1G', 'T1G', 'T1G', 'T1G', 'T1G', 'T1G', 'T1G', 'T1G', 'T1G', 'T1G', 'T1G', 'T1G', 'T1G', 'T1G', 'T1G', 'T1G', 'T1G', 'T1G', 'T1G', 'T1G', 'T1G', 'T1G', 'T1G', 'T1G', 'T1G', 'T1G', 'T1G', 'T1G', 'T1G', 'T1G', 'T1G', 'T1G', 'T1G', 'T1G', 'T1G', 'T1G', 'T1G', 'T1G', 'T1G', 'T1G', 'T1G', 'T1G', 'T1G', 'T1G', 'T1G', 'T1G', 'T1G', 'T1G', 'T1G', 'T1G', 'T1G', 'T1G', 'T1G', 'T1G', 'T1G', 'T1G', 'T1G', 'T1G', 'T1G', 'T1G', 'T1G', 'T1G', 'T1G', 'T1G', 'T1G', 'T1G', 'T1G', 'T1G', 'T1G', 'T1G', 'T1G', 'T1G', 'T1G', 'T1G', 'T1G', 'T1G', 'T1G', 'T1G', 'T1G', 'T1G', 'T1G', 'T1G', 'T1G', 'T1G', 'T1G', 'T1G', 'T1G', 'T1G', 'T1G', 'T1G', 'T1G', 'T1G', 'T1G', 'T1G', 'T1G', 'T1G', 'T1G', 'T1G', 'T1G', 'T1G', 'T1G', 'T1G', 'T1G', 'T1G', 'T1G', 'T1G', 'T1G', 'T1G', 'T1G', 'T1G', 'T1G', 'T1G', 'T1G', 'T1G', 'T1G', 'T1G', 'T1G', 'T1G', 'T1G', 'T1G', 'T1G', 'T1G', 'T1G', 'T1G', 'T1G', 'T1G', 'T1G', 'T1G', 'T1G', 'T1G', 'T1G', 'T1G', 'T1G', 'T1G', 'T1G', 'T1G', 'T1G', 'T1G', 'T1G', 'T1G', 'T1G', 'T1G', 'T1G', 'T1G', 'T1G', 'T1G', 'T1G', 'T1G', 'T1G', 'T1G', 'T1G', 'T1G', 'T1G', 'T1G', 'T1G', 'T1G', 'T1G', 'T1G', 'T1G', 'T1G', 'T1G', 'T1G', 'T1G', 'T1G', 'T1G', 'T1G', 'T1G', 'T1D', 'T1G', 'T1G', 'T1G', 'T1G', 'T1G', 'T1G', 'T1G', 'T1G', 'T1G', 'T1G', 'T1G', 'T1G', 'T1G', 'T1G', 'T1G', 'T1G', 'T1G', 'T1G', 'T1G', 'T1G', 'T1G', 'T1G', 'T1G', 'T1G', 'T1G', 'T1G', 'T1G', 'T1G', 'T1G', 'T1G', 'T1G', 'T1G', 'T1G', 'T1G', 'T1G', 'T1G', 'T1G', 'T1G', 'T1G', 'T1G', 'T1G', 'T1G', 'T1G', 'T1G', 'T1G', 'T1G', 'T1G', 'T1G', 'T1G', 'T1G', 'T1G', 'T1G', 'T1G', 'T1G', 'T1G', 'T1G', 'T1G', 'T1G', 'T1G', 'T1G', 'T1G', 'T1G', 'T1G', 'T1G', 'T1G', 'T1G', 'T1G', 'T1G', 'T1G', 'T1G', 'T1G', 'T1G', 'T1G', 'T1G', 'T1G', 'T1G', 'T1G', 'T1G', 'T1G', 'T1G', 'T1G', 'T1G', 'T1G', 'T1G', 'T1G', 'T1G', 'T1G', 'T1G', 'T1G', 'T1G', 'T1G', 'T1G', 'T1G', 'T1G', 'T1G', 'T1G', 'T1G', 'T1G', 'T1D', 'T1G', 'T1G', 'T1G', 'T1G', 'T1G', 'T1G', 'T1G', 'T1G', 'T1G', 'T1G', 'T1G', 'T1G', 'T1G', 'T1G', 'T1G', 'T1G', 'T1G', 'T1G', 'T1G', 'T1G', 'T1G', 'T1G', 'T1G', 'T1G', 'T1G', 'T1G', 'T1G', 'T1G', 'T1G', 'T1G', 'T1G', 'T1G', 'T1G', 'T1G', 'T1G', 'T1D', 'T1G', 'T1G', 'T1G', 'T1G', 'T1G', 'T1G', 'T1G', 'T1G', 'T1G', 'T1G', 'T1G', 'T1G', 'T1G', 'T1G', 'T1G', 'T1G', 'T1G', 'T1G', 'T1G', 'T1G', 'T1G', 'T1G', 'T1G', 'T1G', 'T1G', 'T1G', 'T1G', 'T1G', 'T1G', 'T1G', 'T1G', 'T1G', 'T1G', 'T1G', 'T1G', 'T1G', 'T1G', 'T1G', 'T1G', 'T1G', 'T1D', 'T1G', 'T1G', 'T1G', 'T1G', 'T1G', 'T1G', 'T1G', 'T1G', 'T1G', 'T1G', 'T1G', 'T1G', 'T1G', 'T1G', 'T1G', 'T1G', 'T1G', 'T1G', 'T1G', 'T1G', 'T1G', 'T1G', 'T1G', 'T1G', 'T1G', 'T1G', 'T1G', 'T1G', 'T1G', 'T1G', 'T1G', 'T1G', 'T1G', 'T1G', 'T1G', 'T1G', 'T1G', 'T1G', 'T1G', 'T1G', 'T1G', 'T1G', 'T1G', 'T1G', 'T1G', 'T1G', 'T1G', 'T1G', 'T1G', 'T1G', 'T1G', 'T1G', 'T1G', 'T1G', 'T1G', 'T1G', 'T1G', 'T1G', 'T1G', 'T1G', 'T1G', 'T1G', 'T1G', 'T1G', 'T1G', 'T1G', 'T1G', 'T1G', 'T1G', 'T1G', 'T1G', 'T1G', 'T1G', 'T1G', 'T1G', 'T1G', 'T1G', 'T1G', 'T1G', 'T1G', 'T1G', 'T1G', 'T1G', 'T1G', 'T1G', 'T1G', 'T1G', 'T1G', 'T1G', 'T1G', 'T1G', 'T1G', 'T1G', 'T1G', 'T1G', 'T1G', 'T1G', 'T1G', 'T1G', 'T1G', 'T1G', 'T1G', 'T1G', 'T1G', 'T1G', 'T1G', 'T1G', 'T1G', 'T1G', 'T1G', 'T1G', 'T1G', 'T1G', 'T1G', 'T1G', 'T1G', 'T1G', 'T1G', 'T1G', 'T1G', 'T1G', 'T1G', 'T1G', 'T1G', 'T1G', 'T1G', 'T1G', 'T1G', 'T1G', 'T1G', 'T1G', 'T1G', 'T1G', 'T1G', 'T1G', 'T1G', 'T1G', 'T1G', 'T1G', 'T1G', 'T1G', 'T1G', 'T1G', 'T1G', 'T1G', 'T1G', 'T1G', 'T1G', 'T1G', 'T1G', 'T1G', 'T1G', 'T1G', 'T1G', 'T1G', 'T1G', 'T1D', 'T1G', 'T1G', 'T1G', 'T1G', 'T1G', 'T1G', 'T1G', 'T1G', 'T1G', 'T1G', 'T1G', 'T1G', 'T1G', 'T1G', 'T1G', 'T1G', 'T1G', 'T1G', 'T1G', 'T1G', 'T1G', 'T1G', 'T1G', 'T1G', 'T1G', 'T1G', 'T1G', 'T1G', 'T1G', 'T1G', 'T1G', 'T1G', 'T1G', 'T1G', 'T1G', 'T1G', 'T1G', 'T1G', 'T1G', 'T1G', 'T1G', 'T1G', 'T1G', 'T1G', 'T1G', 'T1G', 'T1G', 'T1G', 'T1G', 'T1G', 'T1G', 'T1G', 'T1G', 'T1G', 'T1G', 'T1G', 'T1G', 'T1G', 'T1G', 'T1G', 'T1G', 'T1G', 'T1G', 'T1G', 'T1G', 'T1G', 'T1G', 'T1G', 'T1G', 'T1G', 'T1G', 'T1G', 'T1G', 'T1G', 'T1G', 'T1G', 'T1G', 'T1G', 'T1G', 'T1G', 'T1G', 'T1G', 'T1G', 'T1G', 'T1G', 'T1G', 'T1G', 'T1G', 'T1G', 'T1G', 'T1G', 'T1G', 'T1G', 'T1G', 'T1G', 'T1G', 'T1G', 'T1G', 'T1G', 'T1G', 'T1G', 'T1G', 'T1G', 'T1G', 'T1G', 'T1G', 'T1G', 'T1G', 'T1G', 'T1G', 'T1G', 'T1G', 'T1G', 'T1G', 'T1G', 'T1G', 'T1G', 'T1G', 'T1G', 'T1G', 'T1G', 'T1G', 'T1G', 'T1G', 'T1G', 'T1G', 'T1G', 'T1G', 'T1G', 'T1G', 'T1G', 'T1G', 'T1G', 'T1G', 'T1G', 'T1G', 'T1G', 'T1G', 'T1G', 'T1G', 'T1G', 'T1G', 'T1G', 'T1G', 'T1G', 'T1G', 'T1G', 'T1G', 'T1G', 'T1G', 'T1G', 'T1G', 'T1G', 'T1G', 'T1G', 'T1G', 'T1G', 'T1G', 'T1G', 'T1G', 'T1G', 'T1G', 'T1G', 'T1G', 'T1G', 'T1G', 'T1G', 'T1G', 'T1G', 'T1G', 'T1G', 'T1G', 'T1G', 'T1G', 'T1G', 'T1G', 'T1G', 'T1G', 'T1G', 'T1G', 'T1G', 'T1G', 'T1G', 'T1G', 'T1G', 'T1G', 'T1G', 'T1G', 'T1G', 'T1G', 'T1G', 'T1G', 'T1G', 'T1G', 'T1G', 'T1G', 'T1G', 'T1G', 'T1G', 'T1G', 'T1G', 'T1G', 'T1G', 'T1G', 'T1G', 'T1G', 'T1G', 'T1G', 'T1G', 'T1G', 'T1G', 'T1G', 'T1G', 'T1G', 'T1G', 'T1G', 'T1G', 'T1G', 'T1G', 'T1D', 'T1G', 'T1G', 'T1G', 'T1G', 'T1G', 'T1G', 'T1G', 'T1G', 'T1G', 'T1G', 'T1G', 'T1G', 'T1G', 'T1G', 'T1G', 'T1G', 'T1G', 'T1G', 'T1G', 'T1G', 'T1G', 'T1G', 'T1G', 'T1G', 'T1G', 'T1G', 'T1G', 'T1G', 'T1G', 'T1G', 'T1G', 'T1G', 'T1G', 'T1G', 'T1G', 'T1G', 'T1G', 'T1G', 'T1G', 'T1G', 'T1G', 'T1G', 'T1G', 'T1G', 'T1G', 'T1G', 'T1G', 'T1G', 'T1G', 'T1G', 'T1G', 'T1G', 'T1G', 'T1G', 'T1G', 'T1G', 'T1G', 'T1G', 'T1G', 'T1G', 'T1G', 'T1G', 'T1G', 'T1G', 'T1G', 'T1G', 'T1G', 'T1G', 'T1G', 'T1G', 'T1G', 'T1G', 'T1G', 'T1G', 'T1G', 'T1G', 'T1G', 'T1G', 'T1G', 'T1G', 'T1G', 'T1G', 'T1G', 'T1G', 'T1G', 'T1G', 'T1G', 'T1G', 'T1G', 'T1G', 'T1G', 'T1G', 'T1G', 'T1G', 'T1G', 'T1G', 'T1G', 'T1G', 'T1G', 'T1G', 'T1G', 'T1G', 'T1G', 'T1G', 'T1G', 'T1G', 'T1G', 'T1G', 'T1G', 'T1G', 'T1G', 'T1G', 'T1G', 'T1G', 'T1G', 'T1G', 'T1G', 'T1G', 'T1G', 'T1G', 'T1G', 'T1G', 'T1G', 'T1G', 'T1G', 'T1G', 'T1G', 'T1G', 'T1G', 'T1G', 'T1G', 'T1G', 'T1G', 'T1G', 'T1G', 'T1G', 'T1G', 'T1G', 'T1G', 'T1G', 'T1G', 'T1G', 'T1G', 'T1G', 'T1G', 'T1G', 'T1G', 'T1G', 'T1G', 'T1G', 'T1G', 'T1G', 'T1G', 'T1G', 'T1G', 'T1G', 'T1G', 'T1G', 'T1G', 'T1G', 'T1G', 'T1G', 'T1G', 'T1G', 'T1G', 'T1G', 'T1G', 'T1G', 'T1G', 'T1G', 'T1G', 'T1G', 'T1G', 'T1G', 'T1G', 'T1G', 'T1G', 'T1G', 'T1G', 'T1G', 'T1G', 'T1G', 'T1G', 'T1G', 'T1G', 'T1G', 'T1G', 'T1G', 'T1G', 'T1G', 'T1G', 'T1G', 'T1G', 'T1G', 'T1G', 'T1G', 'T1G', 'T1G', 'T1G', 'T1G', 'T1G', 'T1G', 'T1G', 'T1D', 'T1G', 'T1G', 'T1G', 'T1G', 'T1G', 'T1G', 'T1G', 'T1G', 'T1G', 'T1G', 'T1G', 'T1G', 'T1G', 'T1G', 'T1G', 'T1G', 'T1G', 'T1G', 'T1G', 'T1G', 'T1G', 'T1G', 'T1G', 'T1G', 'T1G', 'T1G', 'T1G', 'T1G', 'T1G', 'T1G', 'T1G', 'T1D', 'T1G', 'T1G', 'T1G', 'T1G', 'T1G', 'T1G', 'T1G', 'T1G', 'T1G', 'T1G', 'T1G', 'T1G', 'T1G', 'T1G', 'T1G', 'T1G', 'T1G', 'T1G', 'T1G', 'T1G', 'T1G', 'T1G', 'T1G', 'T1G', 'T1G', 'T1G', 'T1G', 'T1G', 'T1G', 'T1G', 'T1G', 'T1G', 'T1G', 'T1G', 'T1G', 'T1G', 'T1G', 'T1G', 'T1G', 'T1G', 'T1G', 'T1G', 'T1G', 'T1G', 'T1G', 'T1G', 'T1G', 'T1G', 'T1G', 'T1G', 'T1G', 'T1G', 'T1G', 'T1G', 'T1G', 'T1G', 'T1G', 'T1G', 'T1G', 'T1G', 'T1G', 'T1G', 'T1G', 'T1G', 'T1G', 'T1G', 'T1G', 'T1G', 'T1G', 'T1G', 'T1G', 'T1G', 'T1G', 'T1G', 'T1G', 'T1G', 'T1G', 'T1G', 'T1G', 'T1G', 'T1G', 'T1G', 'T1G', 'T1G', 'T1G', 'T1G', 'T1G', 'T1G', 'T1G', 'T1G', 'T1G', 'T1G', 'T1G', 'T1G', 'T1G', 'T1G', 'T1G', 'T1G', 'T1G', 'T1G', 'T1G', 'T1G', 'T1G', 'T1G', 'T1G', 'T1G', 'T1G', 'T1G', 'T1G', 'T1G', 'T1G', 'T1G', 'T1G', 'T1G', 'T1G', 'T1G', 'T1G', 'T1G', 'T1G', 'T1G', 'T1G', 'T1G', 'T1G', 'T1G', 'T1G', 'T1G', 'T1G', 'T1G', 'T1G', 'T1G', 'T1G', 'T1G', 'T1G', 'T1G', 'T1G', 'T1G', 'T1G', 'T1G', 'T1G', 'T1G', 'T1G', 'T1G', 'T1G', 'T1G', 'T1G', 'T1G', 'T1G', 'T1G', 'T1G', 'T1G', 'T1G', 'T1G', 'T1G', 'T1G', 'T1G', 'T1G', 'T1G', 'T1G', 'T1G', 'T1G', 'T1G', 'T1G', 'T1G', 'T1G', 'T1G', 'T1G', 'T1G', 'T1G', 'T1G', 'T1G', 'T1G', 'T1G', 'T1G', 'T1G', 'T1G', 'T1G', 'T1G', 'T1G', 'T1G', 'T1G', 'T1G', 'T1G', 'T1G', 'T1G', 'T1G', 'T1G', 'T1G', 'T1G', 'T1G', 'T1G', 'T1G', 'T1G', 'T1G', 'T1G', 'T1G', 'T1G', 'T1G', 'T1G', 'T1G', 'T1G', 'T1G', 'T1G', 'T1G', 'T1G', 'T1G', 'T1G', 'T1G', 'T1G', 'T1G', 'T1G', 'T1G', 'T1G', 'T1G', 'T1G', 'T1G', 'T1G', 'T1G', 'T1G', 'T1G', 'T1G', 'T1G', 'T1G', 'T1G', 'T1G', 'T1G', 'T1G', 'T1G', 'T1G', 'T1G', 'T1G', 'T1G', 'T1G', 'T1G', 'T1G', 'T1G', 'T1G', 'T1G', 'T1G', 'T1G', 'T1G', 'T1G', 'T1G', 'T1G', 'T1G', 'T1G', 'T1G', 'T1G', 'T1G', 'T1G', 'T1G', 'T1G', 'T1G', 'T1G', 'T1G', 'T1G', 'T1G', 'T1G', 'T1G', 'T1G', 'T1G', 'T1G', 'T1G', 'T1G', 'T1G', 'T1D', 'T1G', 'T1G', 'T1G', 'T1G', 'T1G', 'T1G', 'T1G', 'T1G', 'T1G', 'T1G', 'T1G', 'T1G', 'T1G', 'T1G', 'T1G', 'T1G', 'T1G', 'T1G', 'T1G', 'T1G', 'T1G', 'T1G', 'T1G', 'T1G', 'T1G', 'T1G', 'T1G', 'T1G', 'T1G', 'T1G', 'T1G', 'T1G', 'T1G', 'T1G', 'T1G', 'T1G', 'T1G', 'T1G', 'T1G', 'T1G', 'T1G', 'T1G', 'T1D', 'T1G', 'T1G', 'T1G', 'T1G', 'T1G', 'T1G', 'T1G', 'T1G', 'T1G', 'T1G', 'T1G', 'T1G', 'T1G', 'T1G', 'T1G', 'T1G', 'T1G', 'T1G', 'T1G', 'T1G', 'T1G', 'T1G', 'T1D', 'T1G', 'T1G', 'T1G', 'T1G', 'T1G', 'T1G', 'T1G', 'T1G', 'T1G', 'T1G', 'T1G', 'T1G', 'T1G', 'T1G', 'T1G', 'T1G', 'T1G', 'T1G', 'T1G', 'T1G', 'T1G', 'T1G', 'T1G', 'T1G', 'T1G', 'T1G', 'T1G', 'T1G', 'T1G', 'T1G', 'T1G', 'T1G', 'T1G', 'T1G', 'T1G', 'T1G', 'T1G', 'T1G', 'T1G', 'T1G', 'T1G', 'T1G', 'T1G', 'T1G', 'T1G', 'T1G', 'T1G', 'T1G', 'T1G', 'T1G', 'T1G', 'T1G', 'T1G', 'T1G', 'T1G', 'T1G', 'T1G', 'T1G', 'T1G', 'T1G', 'T1G', 'T1G', 'T1G', 'T1G', 'T1G', 'T1G', 'T1G', 'T1G', 'T1G', 'T1G', 'T1G', 'T1G', 'T1G', 'T1G', 'T1G', 'T1G', 'T1G', 'T1G', 'T1G', 'T1G', 'T1G', 'T1G', 'T1G', 'T1G', 'T1G', 'T1G', 'T1G', 'T1G', 'T1G', 'T1G', 'T1G', 'T1G', 'T1G', 'T1G', 'T1G', 'T1G', 'T1G', 'T1G', 'T1G', 'T1G', 'T1G', 'T1G', 'T1G', 'T1G', 'T1G', 'T1G', 'T1G', 'T1G', 'T1G', 'T1G', 'T1G', 'T1G', 'T1G', 'T1G', 'T1G', 'T1G', 'T1G', 'T1G', 'T1G', 'T1G', 'T1G', 'T1G', 'T1G', 'T1G', 'T1G', 'T1G', 'T1G', 'T1G', 'T1G', 'T1G', 'T1G', 'T1G', 'T1G', 'T1G', 'T1G', 'T1G', 'T1G', 'T1G', 'T1G', 'T1G', 'T1G', 'T1G', 'T1G', 'T1G', 'T1G', 'T1G', 'T1G', 'T1G', 'T1G', 'T1D', 'T1G', 'T1G', 'T1G', 'T1G', 'T1G', 'T1G', 'T1G', 'T1G', 'T1G', 'T1G', 'T1G', 'T1G', 'T1G', 'T1G', 'T1G', 'T1G', 'T1G', 'T1G', 'T1G', 'T1G', 'T1G', 'T1G', 'T1G', 'T1G', 'T1G', 'T1G', 'T1G', 'T1G', 'T1G', 'T1G', 'T1G', 'T1G', 'T1G', 'T1G', 'T1G', 'T1G', 'T1G', 'T1G', 'T1G', 'T1G', 'T1G', 'T1G', 'T1G', 'T1G', 'T1G', 'T1G', 'T1G', 'T1G', 'T1G', 'T1G', 'T1G', 'T1G', 'T1D', 'T1G', 'T1G', 'T1G', 'T1G', 'T1G', 'T1G', 'T1G', 'T1G', 'T1G', 'T1G', 'T1G', 'T1G', 'T1G', 'T1G', 'T1G', 'T1G', 'T1G', 'T1G', 'T1G', 'T1G', 'T1G', 'T1G', 'T1G', 'T1G', 'T1G', 'T1G', 'T1G', 'T1G', 'T1G', 'T1G', 'T1G', 'T1G', 'T1G', 'T1G', 'T1G', 'T1G', 'T1G', 'T1G', 'T1G', 'T1G', 'T1G', 'T1G', 'T1G', 'T1G', 'T1G', 'T1G', 'T1G', 'T1G', 'T1G', 'T1G', 'T1G', 'T1G', 'T1G', 'T1G', 'T1G', 'T1G', 'T1G', 'T1G', 'T1G', 'T1G', 'T1D', 'T1G', 'T1G', 'T1G', 'T1G', 'T1G', 'T1G', 'T1G', 'T1G', 'T1G', 'T1G', 'T1G', 'T1G', 'T1G', 'T1G', 'T1G', 'T1G', 'T1G', 'T1G', 'T1G', 'T1G', 'T1G', 'T1G', 'T1G', 'T1G', 'T1G', 'T1G', 'T1G', 'T1G', 'T1G', 'T1G', 'T1G', 'T1G', 'T1G', 'T1G', 'T1G', 'T1G', 'T1G', 'T1G', 'T1G', 'T1G', 'T1G', 'T1G', 'T1G', 'T1G', 'T1G', 'T1G', 'T1G', 'T1G', 'T1G', 'T1G', 'T1G', 'T1G', 'T1G', 'T1G', 'T1G', 'T1G', 'T1G', 'T1G', 'T1G', 'T1G', 'T1G', 'T1G', 'T1G', 'T1G', 'T1G', 'T1G', 'T1G', 'T1G', 'T1G', 'T1G', 'T1G', 'T1G', 'T1G', 'T1G', 'T1G', 'T1G', 'T1G', 'T1G', 'T1G', 'T1G', 'T1G', 'T1G', 'T1G', 'T1G', 'T1G', 'T1G', 'T1G', 'T1G', 'T1G', 'T1G', 'T1G', 'T1G', 'T1G', 'T1G', 'T1G', 'T1G', 'T1G', 'T1G', 'T1G', 'T1G', 'T1G', 'T1G', 'T1G', 'T1G', 'T1G', 'T1G', 'T1G', 'T1G', 'T1G', 'T1G', 'T1G', 'T1G', 'T1G', 'T1G', 'T1G', 'T1G', 'T1G', 'T1G', 'T1G', 'T1G', 'T1G', 'T1G', 'T1G', 'T1G', 'T1G', 'T1G', 'T1G', 'T1G', 'T1G', 'T1G', 'T1G', 'T1G', 'T1G', 'T1G', 'T1G', 'T1G', 'T1G', 'T1G', 'T1G', 'T1G', 'T1G', 'T1G', 'T1G', 'T1G', 'T1G', 'T1G', 'T1G', 'T1G', 'T1G', 'T1G', 'T1G', 'T1G', 'T1G', 'T1G', 'T1G', 'T1G', 'T1G', 'T1G', 'T1G', 'T1G', 'T1G', 'T1G', 'T1G', 'T1G', 'T1G', 'T1G', 'T1G', 'T1G', 'T1G', 'T1G', 'T1G', 'T1G', 'T1G', 'T1G', 'T1G', 'T1G', 'T1G', 'T1G', 'T1G', 'T1G', 'T1G', 'T1G', 'T1G', 'T1G', 'T1G', 'T1G', 'T1G', 'T1G', 'T1G', 'T1G', 'T1G', 'T1G', 'T1G', 'T1G', 'T1G', 'T1G', 'T1G', 'T1G', 'T1G', 'T1G', 'T1G', 'T1G', 'T1G', 'T1G', 'T1G', 'T1G', 'T1G', 'T1G', 'T1G', 'T1G', 'T1G', 'T1G', 'T1G', 'T1G', 'T1G', 'T1G', 'T1G', 'T1G', 'T1G', 'T1G', 'T1G', 'T1G', 'T1G', 'T1G', 'T1G', 'T1G', 'T1G', 'T1G', 'T1G', 'T1G', 'T1G', 'T1G', 'T1G', 'T1G', 'T1G', 'T1G', 'T1G', 'T1G', 'T1G', 'T1G', 'T1G', 'T1G', 'T1G', 'T1G', 'T1G', 'T1G', 'T1G', 'T1G', 'T1G', 'T1G', 'T1G', 'T1G', 'T1G', 'T1G', 'T1G', 'T1G', 'T1G', 'T1G', 'T1G', 'T1G', 'T1G', 'T1G', 'T1G', 'T1G', 'T1G', 'T1G', 'T1G', 'T1G', 'T1G', 'T1G', 'T1G', 'T1D', 'T1G', 'T1G', 'T1G', 'T1G', 'T1G', 'T1G', 'T1G', 'T1G', 'T1G', 'T1G', 'T1G', 'T1G', 'T1G', 'T1G', 'T1G', 'T1G', 'T1G', 'T1G', 'T1G', 'T1G', 'T1G', 'T1G', 'T1G', 'T1G', 'T1G', 'T1G', 'T1G', 'T1G', 'T1G', 'T1G', 'T1G', 'T1G', 'T1G', 'T1G', 'T1G', 'T1G', 'T1G', 'T1G', 'T1G', 'T1G', 'T1G', 'T1G', 'T1G', 'T1G', 'T1G', 'T1G', 'T1G', 'T1G', 'T1G', 'T1G', 'T1G', 'T1G', 'T1G', 'T1G', 'T1G', 'T1G', 'T1G', 'T1G', 'T1G', 'T1G', 'T1G', 'T1G', 'T1G', 'T1G', 'T1G', 'T1G', 'T1G', 'T1G', 'T1G', 'T1G', 'T1G', 'T1G', 'T1G', 'T1G', 'T1G', 'T1G', 'T1G', 'T1G', 'T1G', 'T1G', 'T1G', 'T1G', 'T1G', 'T1G', 'T1G', 'T1G', 'T1G', 'T1G', 'T1G', 'T1G', 'T1G', 'T1G', 'T1G', 'T1G', 'T1G', 'T1G', 'T1G', 'T1G', 'T1G', 'T1G', 'T1G', 'T1G', 'T1G', 'T1G', 'T1G', 'T1G', 'T1G', 'T1G', 'T1G', 'T1G', 'T1G', 'T1G', 'T1G', 'T1G', 'T1G', 'T1G', 'T1G', 'T1G', 'T1G', 'T1G', 'T1G', 'T1G', 'T1G', 'T1G', 'T1G', 'T1G', 'T1G', 'T1G', 'T1D', 'T1G', 'T1G', 'T1G', 'T1G', 'T1G', 'T1G', 'T1D', 'T1G', 'T1G', 'T1G', 'T1G', 'T1G', 'T1G', 'T1G', 'T1G', 'T1G', 'T1G', 'T1G', 'T1G', 'T1G', 'T1G', 'T1G', 'T1G', 'T1G', 'T1G', 'T1G', 'T1G', 'T1G', 'T1G', 'T1G', 'T1G', 'T1G', 'T1G', 'T1G', 'T1G', 'T1G', 'T1G', 'T1G', 'T1G', 'T1G', 'T1G', 'T1G', 'T1G', 'T1G', 'T1G', 'T1G', 'T1G', 'T1D', 'T1G', 'T1D', 'T1G', 'T1G', 'T1G', 'T1G', 'T1G', 'T1G', 'T1G', 'T1G', 'T1G', 'T1G', 'T1G', 'T1G', 'T1G', 'T1G', 'T1G', 'T1G', 'T1G', 'T1G', 'T1G', 'T1G', 'T1G', 'T1G', 'T1G', 'T1G', 'T1G', 'T1G', 'T1G', 'T1G', 'T1G', 'T1G', 'T1G', 'T1G', 'T1G', 'T1G', 'T1G', 'T1G', 'T1G', 'T1G', 'T1G', 'T1G', 'T1G', 'T1G', 'T1G', 'T1G', 'T1G', 'T1G', 'T1G', 'T1G', 'T1G', 'T1G', 'T1G', 'T1G', 'T1G', 'T1G', 'T1G', 'T1G', 'T1G', 'T1G', 'T1G', 'T1G', 'T1G', 'T1G', 'T1G', 'T1G', 'T1G', 'T1G', 'T1G', 'T1G', 'T1G', 'T1G', 'T1G', 'T1G', 'T1G', 'T1G', 'T1G', 'T1G', 'T1G', 'T1G', 'T1G', 'T1G', 'T1G', 'T1G', 'T1G', 'T1G', 'T1G', 'T1G', 'T1G', 'T1G', 'T1G', 'T1G', 'T1G', 'T1G', 'T1G', 'T1G', 'T1G', 'T1G', 'T1G', 'T1G', 'T1G', 'T1G', 'T1G', 'T1G', 'T1G', 'T1G', 'T1G', 'T1G', 'T1G', 'T1G', 'T1G', 'T1G', 'T1G', 'T1G', 'T1G', 'T1G', 'T1G', 'T1G', 'T1G', 'T1G', 'T1G', 'T1G', 'T1G', 'T1G', 'T1G', 'T1G', 'T1G', 'T1G', 'T1G', 'T1G', 'T1G', 'T1G', 'T1G', 'T1G', 'T1G', 'T1G', 'T1G', 'T1G', 'T1G', 'T1G', 'T1G', 'T1G', 'T1G', 'T1G', 'T1G', 'T1G', 'T1G', 'T1G', 'T1G', 'T1G', 'T1G', 'T1G', 'T1G', 'T1G', 'T1G', 'T1G', 'T1G', 'T1G', 'T1G', 'T1G', 'T1G', 'T1G', 'T1G', 'T1G', 'T1G', 'T1G', 'T1G', 'T1G', 'T1G', 'T1G', 'T1G', 'T1G', 'T1G', 'T1G', 'T1G', 'T1G', 'T1G', 'T1G', 'T1G', 'T1G', 'T1G', 'T1G', 'T1G', 'T1G', 'T1G', 'T1G', 'T1G', 'T1G', 'T1G', 'T1G', 'T1G', 'T1G', 'T1G', 'T1G', 'T1G', 'T1G', 'T1G', 'T1G', 'T1G', 'T1G', 'T1G', 'T1G', 'T1G', 'T1G', 'T1G', 'T1G', 'T1G', 'T1G', 'T1G', 'T1G', 'T1G', 'T1G', 'T1G', 'T1G', 'T1G', 'T1G', 'T1G', 'T1G', 'T1G', 'T1G', 'T1G', 'T1G', 'T1G', 'T1G', 'T1G', 'T1G', 'T1G', 'T1G', 'T1G', 'T1G', 'T1G', 'T1G', 'T1G', 'T1G', 'T1G', 'T1G', 'T1G', 'T1G', 'T1G', 'T1G', 'T1G', 'T1G', 'T1G', 'T1G', 'T1G', 'T1G', 'T1G', 'T1G', 'T1G', 'T1G', 'T1G', 'T1G', 'T1G', 'T1G', 'T1G', 'T1G', 'T1G', 'T1G', 'T1G', 'T1G', 'T1G', 'T1G', 'T1G', 'T1G', 'T1G', 'T1G', 'T1G', 'T1G', 'T1G', 'T1G', 'T1G', 'T1G', 'T1G', 'T1G', 'T1G', 'T1G', 'T1G', 'T1G', 'T1G', 'T1G', 'T1G', 'T1G', 'T1G', 'T1G', 'T1G', 'T1G', 'T1G', 'T1G', 'T1G', 'T1G', 'T1G', 'T1G', 'T1G', 'T1G', 'T1G', 'T1G', 'T1G', 'T1G', 'T1G', 'T1G', 'T1G', 'T1G', 'T1G', 'T1G', 'T1G', 'T1G', 'T1G', 'T1G', 'T1G', 'T1G', 'T1G', 'T1G', 'T1G', 'T1G', 'T1G', 'T1G', 'T1G', 'T1G', 'T1G', 'T1G', 'T1G', 'T1G', 'T1G', 'T1G', 'T1G', 'T1G', 'T1G', 'T1G', 'T1G', 'T1G', 'T1G', 'T1G', 'T1G', 'T1G', 'T1D', 'T1G', 'T1G', 'T1G', 'T1G', 'T1G', 'T1G', 'T1G', 'T1G', 'T1G', 'T1G', 'T1G', 'T1G', 'T1G', 'T1G', 'T1G', 'T1G', 'T1G', 'T1G', 'T1G', 'T1G', 'T1G', 'T1G', 'T1G', 'T1G', 'T1G', 'T1G', 'T1G', 'T1G', 'T1G', 'T1G', 'T1G', 'T1G', 'T1G', 'T1G', 'T1G', 'T1G', 'T1G', 'T1G', 'T1G', 'T1G', 'T1G', 'T1G', 'T1G', 'T1G', 'T1G', 'T1G', 'T1G', 'T1G', 'T1G', 'T1G', 'T1G', 'T1G', 'T1G', 'T1G', 'T1G', 'T1G', 'T1G', 'T1G', 'T1G', 'T1G', 'T1G', 'T1G', 'T1G', 'T1G', 'T1G', 'T1G', 'T1G', 'T1G', 'T1G', 'T1G', 'T1G', 'T1G', 'T1G', 'T1G', 'T1G', 'T1G', 'T1G', 'T1G', 'T1G', 'T1G', 'T1G', 'T1G', 'T1G', 'T1G', 'T1G', 'T1G', 'T1G', 'T1G', 'T1G', 'T1G', 'T1G', 'T1G', 'T1G', 'T1G', 'T1G', 'T1G', 'T1D', 'T1G', 'T1G', 'T1G', 'T1G', 'T1G', 'T1G', 'T1G', 'T1G', 'T1G', 'T1G', 'T1G', 'T1G', 'T1G', 'T1G', 'T1G', 'T1G', 'T1G', 'T1G', 'T1G', 'T1G', 'T1G', 'T1G', 'T1G', 'T1G', 'T1G', 'T1G', 'T1G', 'T1G', 'T1G', 'T1G', 'T1D', 'T1G', 'T1G', 'T1G', 'T1G', 'T1G', 'T1G', 'T1G', 'T1G', 'T1G', 'T1G', 'T1G', 'T1G', 'T1G', 'T1G', 'T1G', 'T1G', 'T1G', 'T1G', 'T1G', 'T1G', 'T1G', 'T1G', 'T1G', 'T1G', 'T1G', 'T1G', 'T1G', 'T1G', 'T1G', 'T1G', 'T1G', 'T1G', 'T1G', 'T1G', 'T1G', 'T1G', 'T1G', 'T1G', 'T1G', 'T1G', 'T1G', 'T1G', 'T1G', 'T1G', 'T1G', 'T1G', 'T1G', 'T1G', 'T1G', 'T1G', 'T1G', 'T1G', 'T1G', 'T1G', 'T1G', 'T1G', 'T1G', 'T1G', 'T1G', 'T1G', 'T1G', 'T1G', 'T1G', 'T1G', 'T1G', 'T1G', 'T1G', 'T1G', 'T1G', 'T1G', 'T1G', 'T1G', 'T1G', 'T1G', 'T1G', 'T1G', 'T1G', 'T1G', 'T1G', 'T1G', 'T1G', 'T1G', 'T1G', 'T1G', 'T1G', 'T1G', 'T1G', 'T1G', 'T1G', 'T1G', 'T1G', 'T1G', 'T1G', 'T1G', 'T1G', 'T1G', 'T1G', 'T1G', 'T1G', 'T1G', 'T1G', 'T1G', 'T1G', 'T1G', 'T1G', 'T1G', 'T1G', 'T1G', 'T1G', 'T1G', 'T1G', 'T1G', 'T1G', 'T1G', 'T1G', 'T1G', 'T1G', 'T1G', 'T1G', 'T1G', 'T1G', 'T1G', 'T1G', 'T1G', 'T1G', 'T1G', 'T1G', 'T1G', 'T1G', 'T1G', 'T1G', 'T1G', 'T1G', 'T1G', 'T1G', 'T1G', 'T1G', 'T1G', 'T1G', 'T1G', 'T1G', 'T1G', 'T1G', 'T1G', 'T1G', 'T1G', 'T1G', 'T1G', 'T1D', 'T1G', 'T1G', 'T1G', 'T1G', 'T1G', 'T1G', 'T1G', 'T1G', 'T1G', 'T1G', 'T1G', 'T1G', 'T1G', 'T1G', 'T1G', 'T1G', 'T1G', 'T1G', 'T1G', 'T1G', 'T1G', 'T1G', 'T1G', 'T1G', 'T1G', 'T1G', 'T1G', 'T1G', 'T1G', 'T1G', 'T1G', 'T1G', 'T1G', 'T1G', 'T1G', 'T1G', 'T1G', 'T1G', 'T1G', 'T1G', 'T1G', 'T1G', 'T1G', 'T1G', 'T1G', 'T1G', 'T1G', 'T1G', 'T1G', 'T1G', 'T1G', 'T1G', 'T1G', 'T1G', 'T1G', 'T1G', 'T1G', 'T1G', 'T1G', 'T1G', 'T1G', 'T1G', 'T1G', 'T1G', 'T1G', 'T1G', 'T1G', 'T1G', 'T1G', 'T1G', 'T1G', 'T1G', 'T1G', 'T1G', 'T1G', 'T1G', 'T1G', 'T1G', 'T1G', 'T1G', 'T1G', 'T1G', 'T1G', 'T1G', 'T1G', 'T1G', 'T1G', 'T1G', 'T1G', 'T1G', 'T1G', 'T1G', 'T1G', 'T1G', 'T1G', 'T1G', 'T1G', 'T1G', 'T1G', 'T1G', 'T1G', 'T1D', 'T1G', 'T1G', 'T1G', 'T1G', 'T1G', 'T1G', 'T1G', 'T1G', 'T1G', 'T1G', 'T1G', 'T1G', 'T1G', 'T1G', 'T1G', 'T1G', 'T1G', 'T1G', 'T1G', 'T1G', 'T1G', 'T1G', 'T1G', 'T1G', 'T1G', 'T1G', 'T1G', 'T1G', 'T1G', 'T1G', 'T1G', 'T1G', 'T1G', 'T1G', 'T1G', 'T1G', 'T1G', 'T1G', 'T1G', 'T1G', 'T1G', 'T1G', 'T1G', 'T1G', 'T1G', 'T1G', 'T1G', 'T1G', 'T1G', 'T1G', 'T1G', 'T1G', 'T1G', 'T1G', 'T1G', 'T1G', 'T1G', 'T1G', 'T1G', 'T1G', 'T1D', 'T1G', 'T1G', 'T1G', 'T1G', 'T1G', 'T1G', 'T1G', 'T1D', 'T1G', 'T1G', 'T1G', 'T1G', 'T1G', 'T1G', 'T1G', 'T1G', 'T1G', 'T1G', 'T1G', 'T1G', 'T1G', 'T1G', 'T1G', 'T1G', 'T1G', 'T1G', 'T1G', 'T1G', 'T1G', 'T1G', 'T1G', 'T1G', 'T1G', 'T1G', 'T1G', 'T1G', 'T1G', 'T1G', 'T1G', 'T1G', 'T1G', 'T1G', 'T1G', 'T1G', 'T1G', 'T1G', 'T1G', 'T1G', 'T1G', 'T1G', 'T1G', 'T1G', 'T1G', 'T1G', 'T1G', 'T1G', 'T1G', 'T1G', 'T1G', 'T1G', 'T1G', 'T1G', 'T1G', 'T1G', 'T1G', 'T1G', 'T1G', 'T1G', 'T1G', 'T1G', 'T1G', 'T1G', 'T1G', 'T1G', 'T1G', 'T1G', 'T1G', 'T1G', 'T1G', 'T1G', 'T1G', 'T1G', 'T1G', 'T1G', 'T1G', 'T1G', 'T1G', 'T1G', 'T1G', 'T1G', 'T1G', 'T1G', 'T1G', 'T1G', 'T1G', 'T1G', 'T1G', 'T1G', 'T1G', 'T1G', 'T1G', 'T1G', 'T1G', 'T1G', 'T1G', 'T1G', 'T1G', 'T1G', 'T1G', 'T1G', 'T1G', 'T1G', 'T1G', 'T1G', 'T1G', 'T1G', 'T1G', 'T1G', 'T1G', 'T1G', 'T1G', 'T1G', 'T1G', 'T1G', 'T1G', 'T1G', 'T1G', 'T1G', 'T1G', 'T1G', 'T1D', 'T1G', 'T1G', 'T1G', 'T1G', 'T1G', 'T1G', 'T1G', 'T1G', 'T1G', 'T1G', 'T1G', 'T1G', 'T1G', 'T1G', 'T1G', 'T1G', 'T1G', 'T1G', 'T1G', 'T1G', 'T1G', 'T1G', 'T1G', 'T1G', 'T1G', 'T1G', 'T1G', 'T1G', 'T1G', 'T1G', 'T1G', 'T1G', 'T1G', 'T1G', 'T1G', 'T1G', 'T1G', 'T1G', 'T1G', 'T1G', 'T1G', 'T1G', 'T1G', 'T1G', 'T1G', 'T1G', 'T1G', 'T1G', 'T1G', 'T1G', 'T1G', 'T1G', 'T1G', 'T1G', 'T1G', 'T1G', 'T1G', 'T1G', 'T1G', 'T1G', 'T1G', 'T1G', 'T1G', 'T1G', 'T1G', 'T1G', 'T1G', 'T1G', 'T1G', 'T1G', 'T1G', 'T1G', 'T1G', 'T1G', 'T1G', 'T1G', 'T1G', 'T1G', 'T1G', 'T1G', 'T1G', 'T1G', 'T1G', 'T1G', 'T1G', 'T1G', 'T1G', 'T1G', 'T1G', 'T1G', 'T1G', 'T1G', 'T1G', 'T1G', 'T1G', 'T1G', 'T1G', 'T1G', 'T1G', 'T1G', 'T1G', 'T1G', 'T1G', 'T1G', 'T1G', 'T1G', 'T1G', 'T1G', 'T1G', 'T1G', 'T1G', 'T1G', 'T1G', 'T1G', 'T1G', 'T1G', 'T1G', 'T1G', 'T1G', 'T1G', 'T1G', 'T1G', 'T1G', 'T1G', 'T1G', 'T1G', 'T1G', 'T1G', 'T1G', 'T1G', 'T1G', 'T1G', 'T1G', 'T1G', 'T1G', 'T1G', 'T1G', 'T1G', 'T1G', 'T1G', 'T1G', 'T1G', 'T1G', 'T1G', 'T1G', 'T1G', 'T1G', 'T1G', 'T1G', 'T1G', 'T1G', 'T1G', 'T1G', 'T1G', 'T1G', 'T1G', 'T1G', 'T1G', 'T1G', 'T1G', 'T1G', 'T1G', 'T1G', 'T1G', 'T1G', 'T1G', 'T1G', 'T1G', 'T1G', 'T1G', 'T1G', 'T1G', 'T1G', 'T1G', 'T1G', 'T1G', 'T1G', 'T1G', 'T1G', 'T1G', 'T1G', 'T1G', 'T1G', 'T1G', 'T1G', 'T1G', 'T1G', 'T1G', 'T1G', 'T1G', 'T1G', 'T1G', 'T1G', 'T1G', 'T1G', 'T1G', 'T1G', 'T1G', 'T1G', 'T1G', 'T1G', 'T1G', 'T1G', 'T1G', 'T1G', 'T1G', 'T1G', 'T1G', 'T1G', 'T1G', 'T1G', 'T1G', 'T1G', 'T1G', 'T1G', 'T1G', 'T1G', 'T1G', 'T1G', 'T1G', 'T1G', 'T1G', 'T1G', 'T1G', 'T1G', 'T1G', 'T1G', 'T1G', 'T1G', 'T1G', 'T1D', 'T1G', 'T1G', 'T1G', 'T1G', 'T1G', 'T1G', 'T1G', 'T1G', 'T1G', 'T1G', 'T1G', 'T1G', 'T1G', 'T1G', 'T1G', 'T1G', 'T1G', 'T1G', 'T1G', 'T1G', 'T1G', 'T1G', 'T1G', 'T1G', 'T1G', 'T1G', 'T1G', 'T1G', 'T1G', 'T1G', 'T1G', 'T1G', 'T1G', 'T1G', 'T1G', 'T1G', 'T1G', 'T1G', 'T1G', 'T1G', 'T1G', 'T1G', 'T1G', 'T1G', 'T1G', 'T1G', 'T1G', 'T1G', 'T1G', 'T1G', 'T1G', 'T1G', 'T1G', 'T1G', 'T1G', 'T1G', 'T1G', 'T1G', 'T1G', 'T1G', 'T1G', 'T1G', 'T1G', 'T1G', 'T1G', 'T1G', 'T1G', 'T1G', 'T1G', 'T1G', 'T1G', 'T1G', 'T1G', 'T1G', 'T1G', 'T1G', 'T1G', 'T1G', 'T1G', 'T1G', 'T1G', 'T1G', 'T1G', 'T1G', 'T1G', 'T1G', 'T1G', 'T1G', 'T1G', 'T1G', 'T1G', 'T1G', 'T1G', 'T1G', 'T1G', 'T1G', 'T1G', 'T1G', 'T1G', 'T1G', 'T1G', 'T1G', 'T1G', 'T1G', 'T1G', 'T1G', 'T1G', 'T1G', 'T1G', 'T1G', 'T1G', 'T1G', 'T1G', 'T1G', 'T1G', 'T1G', 'T1G', 'T1G', 'T1G', 'T1G', 'T1G', 'T1G', 'T1G', 'T1G', 'T1G', 'T1G', 'T1G', 'T1G', 'T1G', 'T1G', 'T1G', 'T1G', 'T1G', 'T1G', 'T1D', 'T1D', 'T1G', 'T1G', 'T1G', 'T1G', 'T1G', 'T1G', 'T1G', 'T1G', 'T1G', 'T1G', 'T1G', 'T1G', 'T1G', 'T1G', 'T1G', 'T1G', 'T1G', 'T1G', 'T1G', 'T1D', 'T1G', 'T1G', 'T1G', 'T1G', 'T1G', 'T1G', 'T1G', 'T1G', 'T1G', 'T1G', 'T1G', 'T1G', 'T1G', 'T1G', 'T1G', 'T1G', 'T1G', 'T1G', 'T1G', 'T1G', 'T1G', 'T1G', 'T1G', 'T1G', 'T1G', 'T1G', 'T1G', 'T1G', 'T1G', 'T1G', 'T1G', 'T1G', 'T1G', 'T1G', 'T1G', 'T1G', 'T1G', 'T1G', 'T1G', 'T1G', 'T1D', 'T1G', 'T1G', 'T1G', 'T1G', 'T1G', 'T1G', 'T1G', 'T1G', 'T1G', 'T1G', 'T1G', 'T1G', 'T1G', 'T1G', 'T1G', 'T1G', 'T1G', 'T1G', 'T1G', 'T1G', 'T1G', 'T1G', 'T1G', 'T1G', 'T1G', 'T1G', 'T1D', 'T1G', 'T1G', 'T1G', 'T1G', 'T1G', 'T1G', 'T1G', 'T1G', 'T1G', 'T1G', 'T1G', 'T1G', 'T1G', 'T1G', 'T1G', 'T1G', 'T1G', 'T1G', 'T1G', 'T1G', 'T1G', 'T1G', 'T1G', 'T1D', 'T1G', 'T1G', 'T1G', 'T1G', 'T1G', 'T1G', 'T1G', 'T1G', 'T1G', 'T1G', 'T1G', 'T1G', 'T1G', 'T1G', 'T1G', 'T1G', 'T1G', 'T1G', 'T1G', 'T1G', 'T1G', 'T1G', 'T1G', 'T1G', 'T1G', 'T1G', 'T1G', 'T1G', 'T1G', 'T1G', 'T1G', 'T1G', 'T1G', 'T1G', 'T1G', 'T1G', 'T1G', 'T1G', 'T1G', 'T1G', 'T1G', 'T1G', 'T1G', 'T1G', 'T1G', 'T1G', 'T1G', 'T1G', 'T1G', 'T1G', 'T1G', 'T1G', 'T1G', 'T1G', 'T1G', 'T1G', 'T1G', 'T1G', 'T1G', 'T1G', 'T1G', 'T1G', 'T1G', 'T1G', 'T1G', 'T1G', 'T1G', 'T1G', 'T1G', 'T1G', 'T1G', 'T1G', 'T1G', 'T1G', 'T1G', 'T1G', 'T1G', 'T1G', 'T1G', 'T1G', 'T1G', 'T1G', 'T1G', 'T1G', 'T1G', 'T1G', 'T1G', 'T1G', 'T1G', 'T1G', 'T1G', 'T1G', 'T1G', 'T1G', 'T1G', 'T1G', 'T1G', 'T1G', 'T1G', 'T1G', 'T1G', 'T1G', 'T1G', 'T1G', 'T1G', 'T1G', 'T1G', 'T1G', 'T1G', 'T1G', 'T1G', 'T1G', 'T1G', 'T1G', 'T1G', 'T1G', 'T1G', 'T1G', 'T1G', 'T1G', 'T1G', 'T1G', 'T1G', 'T1G', 'T1G', 'T1G', 'T1G', 'T1G', 'T1G', 'T1G', 'T1G', 'T1G', 'T1G', 'T1G', 'T1G', 'T1G', 'T1G', 'T1G', 'T1G', 'T1G', 'T1G', 'T1G', 'T1G', 'T1G', 'T1G', 'T1G', 'T1G', 'T1G', 'T1G', 'T1G', 'T1G', 'T1G', 'T1G', 'T1G', 'T1G', 'T1G', 'T1G', 'T1G', 'T1G', 'T1G', 'T1G', 'T1G', 'T1G', 'T1G', 'T1G', 'T1G', 'T1G', 'T1G', 'T1G', 'T1G', 'T1G', 'T1G', 'T1G', 'T1G', 'T1G', 'T1G', 'T1G', 'T1G', 'T1G', 'T1G', 'T1G', 'T1G', 'T1G', 'T1G', 'T1G', 'T1G', 'T1G', 'T1G', 'T1G', 'T1G', 'T1G', 'T1G', 'T1G', 'T1G', 'T1G', 'T1D', 'T1G', 'T1G', 'T1G', 'T1G', 'T1G', 'T1G', 'T1G', 'T1G', 'T1G', 'T1G', 'T1G', 'T1G', 'T1G', 'T1G', 'T1G', 'T1G', 'T1G', 'T1G', 'T1G', 'T1G', 'T1G', 'T1G', 'T1G', 'T1G', 'T1G', 'T1G', 'T1G', 'T1G', 'T1G', 'T1G', 'T1G', 'T1G', 'T1G', 'T1G', 'T1G', 'T1G', 'T1G', 'T1G', 'T1G', 'T1G', 'T1G', 'T1G', 'T1G', 'T1G', 'T1G', 'T1G', 'T1G', 'T1G', 'T1G', 'T1G', 'T1G', 'T1G', 'T1G', 'T1G', 'T1G', 'T1G', 'T1G', 'T1G', 'T1G', 'T1G', 'T1G', 'T1G', 'T1G', 'T1G', 'T1G', 'T1G', 'T1G', 'T1G', 'T1G', 'T1G', 'T1G', 'T1G', 'T1G', 'T1G', 'T1G', 'T1D', 'T1G', 'T1G', 'T1G', 'T1G', 'T1G', 'T1G', 'T1G', 'T1G', 'T1G', 'T1G', 'T1G', 'T1G', 'T1G', 'T1G', 'T1G', 'T1G', 'T1G', 'T1G', 'T1G', 'T1G', 'T1G', 'T1G', 'T1G', 'T1G', 'T1G', 'T1G', 'T1G', 'T1G', 'T1G', 'T1G', 'T1G', 'T1G', 'T1G', 'T1G', 'T1G', 'T1G', 'T1G', 'T1G', 'T1G', 'T1G', 'T1G', 'T1G', 'T1G', 'T1G', 'T1G', 'T1G', 'T1G', 'T1G', 'T1G', 'T1G', 'T1D', 'T1G', 'T1G', 'T1G', 'T1G', 'T1G', 'T1G', 'T1G', 'T1G', 'T1G', 'T1G', 'T1G', 'T1G', 'T1G', 'T1G', 'T1G', 'T1G', 'T1G', 'T1G', 'T1G', 'T1G', 'T1G', 'T1G', 'T1G', 'T1G', 'T1G', 'T1G', 'T1G', 'T1G', 'T1G', 'T1G', 'T1G', 'T1G', 'T1G', 'T1G', 'T1G', 'T1G', 'T1G', 'T1G', 'T1G', 'T1G', 'T1G', 'T1G', 'T1G', 'T1G', 'T1G', 'T1G', 'T1G', 'T1G', 'T1G', 'T1G', 'T1G', 'T1G', 'T1G', 'T1G', 'T1G', 'T1G', 'T1G', 'T1G', 'T1G', 'T1G', 'T1G', 'T1G', 'T1G', 'T1G', 'T1G', 'T1G', 'T1G', 'T1G', 'T1G', 'T1G', 'T1G', 'T1G', 'T1G', 'T1G', 'T1G', 'T1G', 'T1G', 'T1G', 'T1G', 'T1G', 'T1G', 'T1G', 'T1G', 'T1G', 'T1G', 'T1G', 'T1G', 'T1G', 'T1G', 'T1G', 'T1G', 'T1G', 'T1G', 'T1G', 'T1G', 'T1G', 'T1G', 'T1G', 'T1G', 'T1G', 'T1G', 'T1G', 'T1G', 'T1G', 'T1G', 'T1G', 'T1G', 'T1G', 'T1G', 'T1G', 'T1G', 'T1G', 'T1G', 'T1G', 'T1G', 'T1G', 'T1G', 'T1G', 'T1G', 'T1G', 'T1G', 'T1G', 'T1G', 'T1G', 'T1G', 'T1G', 'T1G', 'T1G', 'T1G', 'T1G', 'T1G', 'T1G', 'T1G', 'T1G', 'T1D', 'T1G', 'T1G', 'T1G', 'T1G', 'T1G', 'T1G', 'T1G', 'T1G', 'T1G', 'T1G', 'T1G', 'T1G', 'T1G', 'T1G', 'T1G', 'T1G', 'T1G', 'T1G', 'T1G', 'T1G', 'T1G', 'T1G', 'T1G', 'T1G', 'T1G', 'T1G', 'T1G', 'T1G', 'T1G', 'T1G', 'T1G', 'T1G', 'T1G', 'T1G', 'T1G', 'T1D', 'T1G', 'T1G', 'T1G', 'T1G', 'T1G', 'T1G', 'T1G', 'T1G', 'T1G', 'T1G', 'T1G', 'T1G', 'T1G', 'T1G', 'T1G', 'T1G', 'T1G', 'T1G', 'T1G', 'T1D', 'T1G', 'T1G', 'T1G', 'T1G', 'T1G', 'T1G', 'T1G', 'T1G', 'T1G', 'T1G', 'T1G', 'T1G', 'T1G', 'T1G', 'T1G', 'T1G', 'T1G', 'T1G', 'T1G', 'T1G', 'T1G', 'T1G', 'T1G', 'T1G', 'T1G', 'T1G', 'T1G', 'T1G', 'T1G', 'T1G', 'T1G', 'T1G', 'T1G', 'T1G', 'T1G', 'T1G', 'T1G', 'T1G', 'T1G', 'T1G', 'T1G', 'T1G', 'T1G', 'T1G', 'T1G', 'T1G', 'T1G', 'T1G', 'T1G', 'T1G', 'T1G', 'T1G', 'T1G', 'T1G', 'T1D', 'T1G', 'T1G', 'T1G', 'T1G', 'T1G', 'T1G', 'T1G', 'T1G', 'T1G', 'T1G', 'T1G', 'T1G', 'T1G', 'T1G', 'T1G', 'T1G', 'T1G', 'T1G', 'T1G', 'T1G', 'T1G', 'T1G', 'T1G', 'T1G', 'T1G', 'T1G', 'T1G', 'T1G', 'T1G', 'T1G', 'T1G', 'T1G', 'T1G', 'T1G', 'T1G', 'T1G', 'T1G', 'T1G', 'T1G', 'T1G', 'T1G', 'T1G', 'T1G', 'T1G', 'T1G', 'T1G', 'T1G', 'T1G', 'T1G', 'T1G', 'T1G', 'T1G', 'T1G', 'T1G', 'T1G', 'T1G', 'T1G', 'T1G', 'T1G', 'T1G', 'T1G', 'T1G', 'T1G', 'T1G', 'T1G', 'T1G', 'T1G', 'T1G', 'T1G', 'T1G', 'T1G', 'T1G', 'T1G', 'T1G', 'T1G', 'T1G', 'T1G', 'T1G', 'T1G', 'T1G', 'T1G', 'T1G', 'T1G', 'T1G', 'T1G', 'T1G', 'T1G', 'T1G', 'T1G', 'T1G', 'T1G', 'T1G', 'T1G', 'T1G', 'T1D', 'T1G', 'T1G', 'T1G', 'T1G', 'T1G', 'T1G', 'T1G', 'T1G', 'T1G', 'T1G', 'T1G', 'T1G', 'T1G', 'T1G', 'T1G', 'T1D', 'T1G', 'T1G', 'T1G', 'T1G', 'T1G', 'T1G', 'T1G', 'T1G', 'T1G', 'T1G', 'T1G', 'T1G', 'T1G', 'T1D', 'T1G', 'T1G', 'T1G', 'T1G', 'T1G', 'T1G', 'T1G', 'T1G', 'T1G', 'T1G', 'T1G', 'T1G', 'T1G', 'T1G', 'T1G', 'T1G', 'T1G', 'T1G', 'T1G', 'T1G', 'T1G', 'T1G', 'T1G', 'T1G', 'T1G', 'T1G', 'T1G', 'T1G', 'T1G', 'T1G', 'T1G', 'T1G', 'T1G', 'T1G', 'T1G', 'T1G', 'T1G', 'T1G', 'T1G', 'T1G', 'T1G', 'T1G', 'T1G', 'T1G', 'T1G', 'T1G', 'T1G', 'T1G', 'T1G', 'T1G', 'T1G', 'T1G', 'T1G', 'T1G', 'T1G', 'T1G', 'T1G', 'T1G', 'T1G', 'T1G', 'T1G', 'T1G', 'T1G', 'T1G', 'T1G', 'T1G', 'T1G', 'T1G', 'T1G', 'T1G', 'T1G', 'T1G', 'T1G', 'T1G', 'T1G', 'T1G', 'T1G', 'T1G', 'T1G', 'T1G', 'T1G', 'T1G', 'T1G', 'T1G', 'T1D', 'T1G', 'T1G', 'T1G', 'T1G', 'T1G', 'T1G', 'T1G', 'T1G', 'T1G', 'T1G', 'T1G', 'T1G', 'T1G', 'T1G', 'T1G', 'T1G', 'T1G', 'T1G', 'T1G', 'T1G', 'T1G', 'T1G', 'T1G', 'T1G', 'T1G', 'T1G', 'T1G', 'T1G', 'T1G', 'T1G', 'T1G', 'T1G', 'T1G', 'T1G', 'T1G', 'T1G', 'T1G', 'T1G', 'T1G', 'T1G', 'T1G', 'T1G', 'T1G', 'T1G', 'T1G', 'T1G', 'T1G', 'T1G', 'T1G', 'T1G', 'T1G', 'T1G', 'T1G', 'T1D', 'T1G', 'T1G', 'T1G', 'T1G', 'T1G', 'T1G', 'T1D', 'T1G', 'T1G', 'T1G', 'T1G', 'T1G', 'T1G', 'T1G', 'T1G', 'T1G', 'T1G', 'T1G', 'T1G', 'T1G', 'T1G', 'T1G', 'T1G', 'T1G', 'T1G', 'T1G', 'T1G', 'T1G', 'T1G', 'T1G', 'T1G', 'T1G', 'T1G', 'T1G', 'T1G', 'T1G', 'T1G', 'T1G', 'T1G', 'T1G', 'T1G', 'T1G', 'T1G', 'T1G', 'T1G', 'T1G', 'T1G', 'T1G', 'T1G', 'T1G', 'T1G', 'T1G', 'T1G', 'T1G', 'T1G', 'T1G', 'T1G', 'T1G', 'T1G', 'T1G', 'T1G', 'T1G', 'T1G', 'T1G', 'T1G', 'T1G', 'T1G', 'T1G', 'T1G', 'T1G', 'T1G', 'T1G', 'T1G', 'T1G', 'T1G', 'T1G', 'T1G', 'T1G', 'T1G', 'T1G', 'T1G', 'T1G', 'T1G', 'T1G', 'T1G', 'T1G', 'T1G', 'T1G', 'T1G', 'T1G', 'T1G', 'T1G', 'T1G', 'T1G', 'T1G', 'T1G', 'T1G', 'T1G', 'T1G', 'T1G', 'T1G', 'T1G', 'T1G', 'T1G', 'T1G', 'T1G', 'T1G', 'T1G', 'T1G', 'T1G', 'T1G', 'T1G', 'T1G', 'T1G', 'T1G', 'T1G', 'T1G', 'T1G', 'T1G', 'T1G', 'T1G', 'T1G', 'T1G', 'T1G', 'T1G', 'T1G', 'T1G', 'T1G', 'T1G', 'T1G', 'T1G', 'T1G', 'T1G', 'T1G', 'T1G', 'T1G', 'T1G', 'T1G', 'T1G', 'T1G', 'T1G', 'T1G', 'T1G', 'T1G', 'T1G', 'T1G', 'T1G', 'T1G', 'T1G', 'T1G', 'T1G', 'T1G', 'T1G', 'T1G', 'T1G', 'T1G', 'T1D', 'T1D', 'T1G', 'T1G', 'T1G', 'T1G', 'T1G', 'T1G', 'T1G', 'T1G', 'T1G', 'T1G', 'T1G', 'T1G', 'T1G', 'T1G', 'T1G', 'T1G', 'T1G', 'T1G', 'T1G', 'T1G', 'T1G', 'T1G', 'T1G', 'T1G', 'T1G', 'T1G', 'T1G', 'T1G', 'T1G', 'T1G', 'T1G', 'T1G', 'T1G', 'T1G', 'T1G', 'T1G', 'T1G', 'T1G', 'T1G', 'T1G', 'T1G', 'T1G', 'T1G', 'T1G', 'T1G', 'T1G', 'T1G', 'T1G', 'T1G', 'T1G', 'T1G', 'T1G', 'T1G', 'T1G', 'T1G', 'T1G', 'T1G', 'T1G', 'T1G', 'T1G', 'T1G', 'T1G', 'T1G', 'T1G', 'T1G', 'T1G', 'T1G', 'T1G', 'T1G', 'T1G', 'T1G', 'T1G', 'T1G', 'T1G', 'T1G', 'T1G', 'T1G', 'T1G', 'T1G', 'T1G', 'T1G', 'T1G', 'T1G', 'T1G', 'T1G', 'T1G', 'T1G', 'T1G', 'T1G', 'T1G', 'T1G', 'T1G', 'T1G', 'T1G', 'T1G', 'T1G', 'T1G', 'T1G', 'T1G', 'T1G', 'T1G', 'T1G', 'T1G', 'T1G', 'T1G', 'T1G', 'T1G', 'T1G', 'T1G', 'T1G', 'T1G', 'T1G', 'T1G', 'T1G', 'T1G', 'T1G', 'T1G', 'T1G', 'T1G', 'T1G', 'T1G', 'T1G', 'T1G', 'T1G', 'T1G', 'T1G', 'T1G', 'T1G', 'T1G', 'T1G', 'T1G', 'T1G', 'T1G', 'T1G', 'T1G', 'T1G', 'T1G', 'T1G', 'T1G', 'T1G', 'T1G', 'T1G', 'T1G', 'T1G', 'T1G', 'T1G', 'T1G', 'T1G', 'T1G', 'T1G', 'T1G', 'T1G', 'T1G', 'T1G', 'T1G', 'T1G', 'T1G', 'T1G', 'T1G', 'T1G', 'T1G', 'T1G', 'T1G', 'T1G', 'T1G', 'T1G', 'T1G', 'T1G', 'T1G', 'T1G', 'T1G', 'T1G', 'T1G', 'T1G', 'T1G', 'T1G', 'T1G', 'T1G', 'T1G', 'T1G', 'T1G', 'T1G', 'T1G', 'T1G', 'T1G', 'T1G', 'T1G', 'T1G', 'T1G', 'T1G', 'T1G', 'T1G', 'T1G', 'T1G', 'T1G', 'T1G', 'T1G', 'T1G', 'T1G', 'T1G', 'T1G', 'T1G', 'T1G', 'T1G', 'T1G', 'T1G', 'T1G', 'T1G', 'T1G', 'T1G', 'T1G', 'T1G', 'T1G', 'T1G', 'T1G', 'T1G', 'T1G', 'T1G', 'T1G', 'T1G', 'T1G', 'T1G', 'T1G', 'T1G', 'T1G', 'T1G', 'T1G', 'T1G', 'T1G', 'T1G', 'T1G', 'T1G', 'T1G', 'T1G', 'T1G', 'T1G', 'T1G', 'T1G', 'T1G', 'T1G', 'T1G', 'T1G', 'T1G', 'T1G', 'T1G', 'T1G', 'T1G', 'T1G', 'T1G', 'T1G', 'T1G', 'T1G', 'T1G', 'T1G', 'T1G', 'T1G', 'T1G', 'T1G', 'T1G', 'T1G', 'T1G', 'T1G', 'T1G', 'T1G', 'T1G', 'T1G', 'T1G', 'T1G', 'T1G', 'T1G', 'T1G', 'T1G', 'T1G', 'T1G', 'T1G', 'T1G', 'T1G', 'T1G', 'T1G', 'T1G', 'T1G', 'T1G', 'T1G', 'T1G', 'T1G', 'T1G', 'T1G', 'T1G', 'T1G', 'T1G', 'T1G', 'T1G', 'T1G', 'T1G', 'T1G', 'T1G', 'T1G', 'T1G', 'T1G', 'T1G', 'T1G', 'T1G', 'T1G', 'T1G', 'T1G', 'T1G', 'T1G', 'T1G', 'T1G', 'T1G', 'T1G', 'T1D', 'T1G', 'T1G', 'T1G', 'T1G', 'T1G', 'T1G', 'T1G', 'T1G', 'T1G', 'T1G', 'T1G', 'T1G', 'T1G', 'T1G', 'T1G', 'T1G', 'T1G', 'T1G', 'T1G', 'T1G', 'T1G', 'T1G', 'T1G', 'T1G', 'T1G', 'T1G', 'T1G', 'T1G', 'T1G', 'T1G', 'T1G', 'T1G', 'T1G', 'T1G', 'T1G', 'T1G', 'T1G', 'T1G', 'T1G', 'T1G', 'T1G', 'T1G', 'T1G', 'T1G', 'T1G', 'T1G', 'T1G', 'T1G', 'T1G', 'T1G', 'T1G', 'T1G', 'T1G', 'T1G', 'T1G', 'T1G', 'T1G', 'T1G', 'T1G', 'T1G', 'T1G', 'T1G', 'T1G', 'T1G', 'T1G', 'T1G', 'T1G', 'T1G', 'T1G', 'T1G', 'T1G', 'T1G', 'T1G', 'T1G', 'T1G', 'T1G', 'T1G', 'T1G', 'T1G', 'T1G', 'T1G', 'T1G', 'T1G', 'T1G', 'T1G', 'T1G', 'T1G', 'T1G', 'T1G', 'T1G', 'T1G', 'T1G', 'T1G', 'T1G', 'T1G', 'T1G', 'T1G', 'T1G', 'T1G', 'T1G', 'T1G', 'T1G', 'T1D', 'T1G', 'T1G', 'T1G', 'T1G', 'T1G', 'T1G', 'T1G', 'T1G', 'T1G', 'T1G', 'T1G', 'T1G', 'T1G', 'T1G', 'T1G', 'T1G', 'T1G', 'T1G', 'T1G', 'T1G', 'T1G', 'T1G', 'T1G', 'T1G', 'T1G', 'T1G', 'T1G', 'T1G', 'T1G', 'T1G', 'T1G', 'T1G', 'T1G', 'T1G', 'T1G', 'T1G', 'T1G', 'T1G', 'T1G', 'T1G', 'T1G', 'T1G', 'T1G', 'T1G', 'T1G', 'T1G', 'T1G', 'T1G', 'T1G', 'T1G', 'T1G', 'T1G', 'T1G', 'T1G', 'T1G', 'T1G', 'T1G', 'T1G', 'T1G', 'T1G', 'T1G', 'T1G', 'T1G', 'T1G', 'T1G', 'T1G', 'T1G', 'T1G', 'T1G', 'T1G', 'T1G', 'T1G', 'T1G', 'T1G', 'T1G', 'T1G', 'T1G', 'T1G', 'T1G', 'T1G', 'T1G', 'T1G', 'T1G', 'T1G', 'T1G', 'T1G', 'T1G', 'T1G', 'T1G', 'T1G', 'T1G', 'T1G', 'T1G', 'T1G', 'T1G', 'T1G', 'T1G', 'T1G', 'T1G', 'T1G', 'T1G', 'T1G', 'T1G', 'T1G', 'T1G', 'T1G', 'T1G', 'T1G', 'T1G', 'T1G', 'T1G', 'T1G', 'T1G', 'T1G', 'T1G', 'T1G', 'T1G', 'T1G', 'T1G', 'T1G', 'T1G', 'T1G', 'T1G', 'T1G', 'T1G', 'T1G', 'T1G', 'T1G', 'T1G', 'T1G', 'T1G', 'T1G', 'T1G', 'T1G', 'T1G', 'T1G', 'T1G', 'T1G', 'T1G', 'T1G', 'T1G', 'T1G', 'T1G', 'T1G', 'T1G', 'T1G', 'T1G', 'T1G', 'T1G', 'T1G', 'T1G', 'T1G', 'T1G', 'T1G', 'T1G', 'T1G', 'T1G', 'T1G', 'T1G', 'T1G', 'T1G', 'T1G', 'T1G', 'T1G', 'T1G', 'T1G', 'T1G', 'T1G', 'T1G', 'T1G', 'T1G', 'T1G', 'T1G', 'T1G', 'T1G', 'T1G', 'T1G', 'T1G', 'T1G', 'T1G', 'T1G', 'T1G', 'T1G', 'T1G', 'T1G', 'T1G', 'T1G', 'T1G', 'T1G', 'T1G', 'T1D', 'T1G', 'T1G', 'T1G', 'T1G', 'T1G', 'T1G', 'T1G', 'T1G', 'T1G', 'T1G', 'T1G', 'T1G', 'T1G', 'T1G', 'T1G', 'T1G', 'T1G', 'T1G', 'T1G', 'T1G', 'T1G', 'T1G', 'T1G', 'T1G', 'T1G', 'T1G', 'T1G', 'T1G', 'T1G', 'T1G', 'T1G', 'T1G', 'T1G', 'T1G', 'T1G', 'T1G', 'T1G', 'T1G', 'T1G', 'T1G', 'T1G', 'T1G', 'T1G', 'T1G', 'T1G', 'T1G', 'T1G', 'T1G', 'T1G', 'T1G', 'T1G', 'T1G', 'T1G', 'T1G', 'T1G', 'T1G', 'T1G', 'T1G', 'T1G', 'T1G', 'T1G', 'T1G', 'T1G', 'T1G', 'T1G', 'T1G', 'T1G', 'T1G', 'T1G', 'T1G', 'T1G', 'T1G', 'T1G', 'T1G', 'T1G', 'T1G', 'T1G', 'T1G', 'T1G', 'T1G', 'T1G', 'T1G', 'T1G', 'T1G', 'T1G', 'T1G', 'T1G', 'T1G', 'T1G', 'T1G', 'T1G', 'T1G', 'T1G', 'T1G', 'T1G', 'T1G', 'T1G', 'T1G', 'T1G', 'T1G', 'T1G', 'T1G', 'T1G', 'T1G', 'T1G', 'T1G', 'T1G', 'T1G', 'T1G', 'T1G', 'T1G', 'T1D', 'T1G', 'T1G', 'T1G', 'T1G', 'T1D', 'T1G', 'T1G', 'T1G', 'T1G', 'T1G', 'T1G', 'T1G', 'T1G', 'T1G', 'T1G', 'T1G', 'T1G', 'T1G', 'T1G', 'T1G', 'T1G', 'T1G', 'T1G', 'T1G', 'T1G', 'T1G', 'T1G', 'T1G', 'T1G', 'T1G', 'T1G', 'T1G', 'T1G', 'T1G', 'T1G', 'T1G', 'T1G', 'T1G', 'T1G', 'T1G', 'T1G', 'T1G', 'T1G', 'T1G', 'T1G', 'T1G', 'T1G', 'T1G', 'T1G', 'T1G', 'T1G', 'T1G', 'T1G', 'T1G', 'T1G', 'T1G', 'T1G', 'T1G', 'T1G', 'T1G', 'T1G', 'T1G', 'T1G', 'T1G', 'T1G', 'T1G', 'T1G', 'T1G', 'T1G', 'T1G', 'T1G', 'T1G', 'T1G', 'T1G', 'T1G', 'T1G', 'T1G', 'T1G', 'T1G', 'T1G', 'T1G', 'T1G', 'T1G', 'T1G', 'T1G', 'T1G', 'T1G', 'T1G', 'T1G', 'T1G', 'T1G', 'T1G', 'T1G', 'T1G', 'T1G', 'T1G', 'T1G', 'T1G', 'T1G', 'T1G', 'T1G', 'T1G', 'T1G', 'T1G', 'T1G', 'T1G', 'T1G', 'T1G', 'T1G', 'T1G', 'T1G', 'T1G', 'T1G', 'T1G', 'T1G', 'T1G', 'T1G', 'T1G', 'T1G', 'T1G', 'T1G', 'T1G', 'T1G', 'T1G', 'T1G', 'T1G', 'T1G', 'T1G', 'T1G', 'T1G', 'T1G', 'T1G', 'T1G', 'T1G', 'T1G', 'T1G', 'T1G', 'T1G', 'T1G', 'T1G', 'T1G', 'T1G', 'T1G', 'T1G', 'T1G', 'T1G', 'T1G', 'T1G', 'T1G', 'T1G', 'T1G', 'T1G', 'T1G', 'T1G', 'T1G', 'T1G', 'T1G', 'T1G', 'T1G', 'T1G', 'T1G', 'T1G', 'T1G', 'T1G', 'T1G', 'T1G', 'T1G', 'T1G', 'T1G', 'T1G', 'T1G', 'T1G', 'T1G', 'T1G', 'T1G', 'T1G', 'T1G', 'T1G', 'T1G', 'T1G', 'T1G', 'T1G', 'T1G', 'T1G', 'T1G', 'T1G', 'T1G', 'T1G', 'T1G', 'T1G', 'T1G', 'T1G', 'T1G', 'T1G', 'T1G', 'T1D', 'T1G', 'T1G', 'T1G', 'T1G', 'T1G', 'T1G', 'T1G', 'T1G', 'T1G', 'T1G', 'T1G', 'T1G', 'T1G', 'T1G', 'T1G', 'T1G', 'T1G', 'T1G', 'T1G', 'T1G', 'T1G', 'T1G', 'T1G', 'T1G', 'T1G', 'T1G', 'T1G', 'T1G', 'T1G', 'T1G', 'T1G', 'T1G', 'T1G', 'T1G', 'T1G', 'T1D', 'T1G', 'T1G', 'T1G', 'T1G', 'T1G', 'T1G', 'T1G', 'T1G', 'T1G', 'T1G', 'T1G', 'T1G', 'T1G', 'T1G', 'T1G', 'T1G', 'T1G', 'T1G', 'T1G', 'T1G', 'T1G', 'T1G', 'T1G', 'T1G', 'T1G', 'T1G', 'T1G', 'T1G', 'T1G', 'T1G', 'T1G', 'T1G', 'T1G', 'T1G', 'T1G', 'T1G', 'T1G', 'T1G', 'T1G', 'T1G', 'T1G', 'T1G', 'T1G', 'T1G', 'T1G', 'T1G', 'T1G', 'T1D', 'T1G', 'T1G', 'T1G', 'T1G', 'T1G', 'T1G', 'T1G', 'T1G', 'T1G', 'T1G', 'T1G', 'T1G', 'T1G', 'T1G', 'T1G', 'T1G', 'T1G', 'T1G', 'T1G', 'T1G', 'T1G', 'T1G', 'T1G', 'T1G', 'T1G', 'T1G', 'T1G', 'T1G', 'T1G', 'T1G', 'T1G', 'T1G', 'T1G', 'T1G', 'T1G', 'T1G', 'T1G', 'T1G', 'T1G', 'T1G', 'T1G', 'T1G', 'T1G', 'T1G', 'T1G', 'T1G', 'T1G', 'T1G', 'T1G', 'T1G', 'T1G', 'T1G', 'T1G', 'T1G', 'T1G', 'T1G', 'T1G', 'T1G', 'T1G', 'T1G', 'T1G', 'T1G', 'T1G', 'T1G', 'T1G', 'T1G', 'T1G', 'T1G', 'T1G', 'T1G', 'T1G', 'T1G', 'T1G', 'T1G', 'T1G', 'T1G', 'T1G', 'T1G', 'T1G', 'T1G', 'T1G', 'T1G', 'T1G', 'T1G', 'T1G', 'T1G', 'T1G', 'T1G', 'T1G', 'T1G', 'T1G', 'T1D', 'T1G', 'T1G', 'T1G', 'T1G', 'T1G', 'T1G', 'T1G', 'T1G', 'T1G', 'T1G', 'T1G', 'T1G', 'T1G', 'T1G', 'T1G', 'T1G', 'T1G', 'T1G', 'T1G', 'T1G', 'T1G', 'T1G', 'T1G', 'T1G', 'T1G', 'T1G', 'T1G', 'T1G', 'T1G', 'T1G', 'T1G', 'T1G', 'T1G', 'T1G', 'T1G', 'T1G', 'T1G', 'T1G', 'T1D', 'T1G', 'T1G', 'T1G', 'T1G', 'T1G', 'T1G', 'T1G', 'T1G', 'T1G', 'T1G', 'T1G', 'T1G', 'T1G', 'T1G', 'T1G', 'T1G', 'T1G', 'T1G', 'T1G', 'T1G', 'T1G', 'T1G', 'T1G', 'T1G', 'T1G', 'T1G', 'T1G', 'T1G', 'T1G', 'T1G', 'T1G', 'T1G', 'T1G', 'T1G', 'T1G', 'T1G', 'T1G', 'T1G', 'T1G', 'T1G', 'T1G', 'T1G', 'T1G', 'T1G', 'T1G', 'T1G', 'T1G', 'T1G', 'T1G', 'T1G', 'T1G', 'T1G', 'T1G', 'T1G', 'T1G', 'T1G', 'T1G', 'T1G', 'T1G', 'T1G', 'T1G', 'T1G', 'T1G', 'T1G', 'T1G', 'T1G', 'T1G', 'T1G', 'T1G', 'T1G', 'T1G', 'T1G', 'T1G', 'T1G', 'T1G', 'T1G', 'T1G', 'T1G', 'T1G', 'T1G', 'T1G', 'T1G', 'T1G', 'T1G', 'T1G', 'T1G', 'T1G', 'T1G', 'T1G', 'T1G', 'T1G', 'T1G', 'T1G', 'T1G', 'T1G', 'T1G', 'T1G', 'T1G', 'T1G', 'T1G', 'T1G', 'T1G', 'T1G', 'T1G', 'T1G', 'T1D', 'T1G', 'T1G', 'T1G', 'T1G', 'T1G', 'T1G', 'T1G', 'T1G', 'T1G', 'T1G', 'T1G', 'T1G', 'T1G', 'T1G', 'T1G', 'T1G', 'T1G', 'T1G', 'T1G', 'T1G', 'T1G', 'T1G', 'T1G', 'T1G', 'T1G', 'T1G', 'T1G', 'T1G', 'T1G', 'T1G', 'T1G', 'T1G', 'T1G', 'T1G', 'T1G', 'T1G', 'T1G', 'T1G', 'T1G', 'T1G', 'T1G', 'T1G', 'T1G', 'T1G', 'T1G', 'T1G', 'T1G', 'T1G', 'T1G', 'T1G', 'T1G', 'T1G', 'T1G', 'T1G', 'T1G', 'T1G', 'T1G', 'T1G', 'T1G', 'T1G', 'T1G', 'T1G', 'T1G', 'T1G', 'T1G', 'T1G', 'T1G', 'T1G', 'T1G', 'T1G', 'T1G', 'T1G', 'T1G', 'T1G', 'T1D', 'T1G', 'T1G', 'T1G', 'T1G', 'T1G', 'T1G', 'T1G', 'T1G', 'T1G', 'T1G', 'T1G', 'T1G', 'T1G', 'T1G', 'T1G', 'T1G', 'T1G', 'T1G', 'T1G', 'T1D', 'T1G', 'T1G', 'T1G', 'T1G', 'T1G', 'T1G', 'T1G', 'T1G', 'T1G', 'T1G', 'T1G', 'T1G', 'T1G', 'T1G', 'T1G', 'T1G', 'T1G', 'T1D', 'T1G', 'T1G', 'T1G', 'T1G', 'T1G', 'T1G', 'T1G', 'T1G', 'T1G', 'T1G', 'T1G', 'T1G', 'T1G', 'T1G', 'T1G', 'T1G', 'T1G', 'T1G', 'T1G', 'T1G', 'T1D', 'T1G', 'T1G', 'T1G', 'T1G', 'T1G', 'T1G', 'T1G', 'T1G', 'T1G', 'T1G', 'T1G', 'T1G', 'T1G', 'T1G', 'T1G', 'T1G', 'T1G', 'T1G', 'T1G', 'T1G', 'T1G', 'T1G', 'T1G', 'T1G', 'T1G', 'T1G', 'T1G', 'T1G', 'T1G', 'T1G', 'T1G', 'T1G', 'T1G', 'T1G', 'T1G', 'T1G', 'T1G', 'T1G', 'T1G', 'T1G', 'T1G', 'T1G', 'T1G', 'T1G', 'T1G', 'T1G', 'T1G', 'T1G', 'T1G', 'T1G', 'T1G', 'T1G', 'T1G', 'T1G', 'T1G', 'T1G', 'T1G', 'T1G', 'T1G', 'T1G', 'T1G', 'T1G', 'T1G', 'T1G', 'T1G', 'T1G', 'T1G', 'T1G', 'T1G', 'T1G', 'T1G', 'T1G', 'T1G', 'T1G', 'T1G', 'T1G', 'T1G', 'T1G', 'T1G', 'T1G', 'T1G', 'T1G', 'T1G', 'T1G', 'T1G', 'T1G', 'T1G', 'T1G', 'T1G', 'T1G', 'T1G', 'T1G', 'T1G', 'T1G', 'T1G', 'T1G', 'T1G', 'T1G', 'T1G', 'T1G', 'T1G', 'T1G', 'T1G', 'T1G', 'T1G', 'T1G', 'T1G', 'T1G', 'T1G', 'T1G', 'T1G', 'T1G', 'T1G', 'T1G', 'T1G', 'T1G', 'T1G', 'T1G', 'T1G', 'T1D', 'T1G', 'T1G', 'T1D', 'T1G', 'T1G', 'T1G', 'T1G', 'T1G', 'T1G', 'T1G', 'T1G', 'T1G', 'T1G', 'T1G', 'T1G', 'T1G', 'T1G', 'T1G', 'T1G', 'T1G', 'T1G', 'T1G', 'T1G', 'T1G', 'T1G', 'T1G', 'T1G', 'T1G', 'T1G', 'T1G', 'T1G', 'T1G', 'T1G', 'T1G', 'T1G', 'T1G', 'T1G', 'T1G', 'T1G', 'T1G', 'T1G', 'T1G', 'T1G', 'T1G', 'T1G', 'T1G', 'T1G', 'T1G', 'T1G', 'T1G', 'T1G', 'T1G', 'T1G', 'T1G', 'T1G', 'T1G', 'T1G', 'T1G', 'T1G', 'T1G', 'T1G', 'T1G', 'T1G', 'T1G', 'T1G', 'T1G', 'T1G', 'T1G', 'T1G', 'T1G', 'T1G', 'T1G', 'T1G', 'T1G', 'T1G', 'T1G', 'T1G', 'T1G', 'T1G', 'T1G', 'T1G', 'T1G', 'T1G', 'T1G', 'T1G', 'T1G', 'T1G', 'T1G', 'T1G', 'T1G', 'T1G', 'T1G', 'T1G', 'T1G', 'T1G', 'T1G', 'T1G', 'T1G', 'T1G', 'T1G', 'T1G', 'T1G', 'T1G', 'T1G', 'T1G', 'T1G', 'T1G', 'T1G', 'T1G', 'T1G', 'T1G', 'T1G', 'T1G', 'T1G', 'T1G', 'T1G', 'T1G', 'T1G', 'T1G', 'T1G', 'T1G', 'T1G', 'T1G', 'T1G', 'T1G', 'T1G', 'T1G', 'T1G', 'T1G', 'T1G', 'T1G', 'T1G', 'T1G', 'T1G', 'T1G', 'T1G', 'T1G', 'T1G', 'T1G', 'T1G', 'T1D', 'T1G', 'T1G', 'T1G', 'T1G', 'T1G', 'T1G', 'T1G', 'T1G', 'T1G', 'T1G', 'T1G', 'T1G', 'T1G', 'T1G', 'T1G', 'T1G', 'T1G', 'T1G', 'T1G', 'T1G', 'T1G', 'T1G', 'T1G', 'T1G', 'T1G', 'T1G', 'T1G', 'T1G', 'T1G', 'T1G', 'T1G', 'T1G', 'T1G', 'T1G', 'T1G', 'T1G', 'T1G', 'T1G', 'T1G', 'T1G', 'T1G', 'T1G', 'T1G', 'T1G', 'T1G', 'T1G', 'T1G', 'T1G', 'T1G', 'T1G', 'T1G', 'T1G', 'T1G', 'T1G', 'T1G', 'T1G', 'T1G', 'T1G', 'T1G', 'T1G', 'T1G', 'T1G', 'T1G', 'T1G', 'T1G', 'T1G', 'T1G', 'T1G', 'T1G', 'T1G', 'T1G', 'T1D', 'T1G', 'T1G', 'T1G', 'T1G', 'T1G', 'T1G', 'T1G', 'T1G', 'T1G', 'T1G', 'T1G', 'T1G', 'T1G', 'T1G', 'T1G', 'T1G', 'T1G', 'T1G', 'T1G', 'T1G', 'T1G', 'T1G', 'T1G', 'T1G', 'T1G', 'T1G', 'T1G', 'T1G', 'T1G', 'T1G', 'T1G', 'T1G', 'T1G', 'T1G', 'T1G', 'T1G', 'T1G', 'T1G', 'T1G', 'T1G', 'T1G', 'T1G', 'T1G', 'T1G', 'T1G', 'T1G', 'T1G', 'T1G', 'T1G', 'T1G', 'T1G', 'T1G', 'T1G', 'T1G', 'T1G', 'T1G', 'T1G', 'T1G', 'T1G', 'T1G', 'T1G', 'T1G', 'T1G', 'T1G', 'T1G', 'T1G', 'T1G', 'T1G', 'T1G', 'T1G', 'T1G', 'T1G', 'T1G', 'T1G', 'T1G', 'T1G', 'T1G', 'T1G', 'T1G', 'T1G', 'T1G', 'T1G', 'T1G', 'T1G', 'T1G', 'T1G', 'T1G', 'T1G', 'T1G', 'T1G', 'T1G', 'T1G', 'T1G', 'T1G', 'T1G', 'T1G', 'T1G', 'T1G', 'T1G', 'T1G', 'T1G', 'T1G', 'T1G', 'T1G', 'T1G', 'T1G', 'T1G', 'T1G', 'T1G', 'T1G', 'T1G', 'T1G', 'T1G', 'T1G', 'T1G', 'T1G', 'T1G', 'T1G', 'T1G', 'T1G', 'T1G', 'T1G', 'T1G', 'T1G', 'T1G', 'T1G', 'T1G', 'T1G', 'T1G', 'T1G', 'T1G', 'T1G', 'T1G', 'T1G', 'T1G', 'T1G', 'T1G', 'T1G', 'T1G', 'T1G', 'T1G', 'T1G', 'T1G', 'T1G', 'T1G', 'T1G', 'T1G', 'T1G', 'T1G', 'T1G', 'T1G', 'T1G', 'T1G', 'T1G', 'T1G', 'T1G', 'T1G', 'T1G', 'T1G', 'T1G', 'T1G', 'T1G', 'T1G', 'T1G', 'T1G', 'T1G', 'T1G', 'T1G', 'T1G', 'T1G', 'T1G', 'T1G', 'T1G', 'T1G', 'T1G', 'T1G', 'T1G', 'T1G', 'T1D', 'T1G', 'T1G', 'T1G', 'T1G', 'T1G', 'T1G', 'T1G', 'T1G', 'T1G', 'T1G', 'T1G', 'T1G', 'T1G', 'T1G', 'T1G', 'T1G', 'T1G', 'T1G', 'T1G', 'T1G', 'T1G', 'T1G', 'T1G', 'T1G', 'T1G', 'T1G', 'T1G', 'T1G', 'T1G', 'T1G', 'T1G', 'T1G', 'T1G', 'T1G', 'T1G', 'T1G', 'T1G', 'T1G', 'T1G', 'T1G', 'T1G', 'T1G', 'T1G', 'T1G', 'T1G', 'T1G', 'T1G', 'T1G', 'T1G', 'T1G', 'T1G', 'T1G', 'T1G', 'T1G', 'T1G', 'T1G', 'T1G', 'T1G', 'T1G', 'T1G', 'T1G', 'T1G', 'T1G', 'T1G', 'T1G', 'T1G', 'T1G', 'T1G', 'T1G', 'T1G', 'T1G', 'T1G', 'T1G', 'T1G', 'T1G', 'T1G', 'T1G', 'T1G', 'T1G', 'T1G', 'T1G', 'T1G', 'T1G', 'T1G', 'T1G', 'T1G', 'T1G', 'T1G', 'T1G', 'T1G', 'T1G', 'T1G', 'T1G', 'T1G', 'T1G', 'T1G', 'T1G', 'T1G', 'T1G', 'T1G', 'T1G', 'T1G', 'T1G', 'T1G', 'T1G', 'T1G', 'T1G', 'T1G', 'T1G', 'T1G', 'T1G', 'T1G', 'T1G', 'T1G', 'T1G', 'T1G', 'T1G', 'T1G', 'T1G', 'T1G', 'T1G', 'T1G', 'T1G', 'T1G', 'T1G', 'T1G', 'T1G', 'T1G', 'T1G', 'T1G', 'T1G', 'T1G', 'T1G', 'T1G', 'T1G', 'T1G', 'T1G', 'T1G', 'T1G', 'T1G', 'T1G', 'T1G', 'T1G', 'T1G', 'T1G', 'T1G', 'T1G', 'T1G', 'T1G', 'T1G', 'T1G', 'T1G', 'T1G', 'T1G', 'T1G', 'T1G', 'T1G', 'T1G', 'T1G', 'T1G', 'T1G', 'T1G', 'T1G', 'T1G', 'T1G', 'T1G', 'T1G', 'T1G', 'T1G', 'T1G', 'T1G', 'T1G', 'T1G', 'T1G', 'T1G', 'T1G', 'T1G', 'T1G', 'T1G', 'T1G', 'T1G', 'T1G', 'T1G', 'T1G', 'T1G', 'T1G', 'T1G', 'T1G', 'T1G', 'T1G', 'T1G', 'T1G', 'T1G', 'T1G', 'T1G', 'T1G', 'T1G', 'T1G', 'T1G', 'T1G', 'T1G', 'T1G', 'T1G', 'T1G', 'T1G', 'T1G', 'T1G', 'T1G', 'T1G', 'T1G', 'T1G', 'T1G', 'T1G', 'T1G', 'T1G', 'T1G', 'T1G', 'T1G', 'T1G', 'T1G', 'T1G', 'T1G', 'T1G', 'T1G', 'T1G', 'T1G', 'T1G', 'T1G', 'T1G', 'T1G', 'T1G', 'T1G', 'T1G', 'T1G', 'T1G', 'T1G', 'T1G', 'T1G', 'T1G', 'T1G', 'T1G', 'T1G', 'T1G', 'T1G', 'T1G', 'T1G', 'T1G', 'T1G', 'T1G', 'T1G', 'T1G', 'T1G', 'T1G', 'T1G', 'T1G', 'T1G', 'T1G', 'T1G', 'T1G', 'T1G', 'T1G', 'T1G', 'T1G', 'T1G', 'T1G', 'T1G', 'T1G', 'T1G', 'T1G', 'T1G', 'T1G', 'T1G', 'T1G', 'T1G', 'T1G', 'T1D', 'T1G', 'T1G', 'T1G', 'T1G', 'T1G', 'T1G', 'T1G', 'T1G', 'T1G', 'T1G', 'T1G', 'T1G', 'T1G', 'T1G', 'T1G', 'T1G', 'T1G', 'T1G', 'T1G', 'T1G', 'T1G', 'T1G', 'T1G', 'T1G', 'T1G', 'T1G', 'T1G', 'T1G', 'T1G', 'T1G', 'T1G', 'T1G', 'T1G', 'T1G', 'T1G', 'T1G', 'T1G', 'T1G', 'T1G', 'T1G', 'T1G', 'T1G', 'T1G', 'T1G', 'T1G', 'T1G', 'T1G', 'T1G', 'T1G', 'T1G', 'T1G', 'T1G', 'T1G', 'T1G', 'T1G', 'T1G', 'T1G', 'T1G', 'T1G', 'T1G', 'T1G', 'T1G', 'T1G', 'T1G', 'T1G', 'T1G', 'T1G', 'T1G', 'T1G', 'T1G', 'T1G', 'T1G', 'T1G', 'T1G', 'T1G', 'T1G', 'T1G', 'T1G', 'T1G', 'T1G', 'T1G', 'T1G', 'T1G', 'T1G', 'T1G', 'T1G', 'T1G', 'T1G', 'T1G', 'T1G', 'T1G', 'T1G', 'T1G', 'T1G', 'T1G', 'T1G', 'T1G', 'T1G', 'T1G', 'T1G', 'T1G', 'T1G', 'T1G', 'T1G', 'T1G', 'T1G', 'T1G', 'T1G', 'T1G', 'T1G', 'T1G', 'T1G', 'T1G', 'T1G', 'T1G', 'T1G', 'T1G', 'T1G', 'T1G', 'T1G', 'T1G', 'T1G', 'T1G', 'T1G', 'T1G', 'T1G', 'T1G', 'T1G', 'T1G', 'T1G', 'T1G', 'T1G', 'T1G', 'T1G', 'T1G', 'T1G', 'T1G', 'T1G', 'T1G', 'T1G', 'T1G', 'T1G', 'T1G', 'T1G', 'T1G', 'T1G', 'T1G', 'T1G', 'T1G', 'T1G', 'T1G', 'T1G', 'T1G', 'T1G', 'T1G', 'T1G', 'T1G', 'T1G', 'T1G', 'T1G', 'T1G', 'T1G', 'T1G', 'T1G', 'T1G', 'T1G', 'T1G', 'T1G', 'T1G', 'T1G', 'T1G', 'T1G', 'T1G', 'T1G', 'T1G', 'T1G', 'T1G', 'T1G', 'T1G', 'T1G', 'T1G', 'T1G', 'T1G', 'T1G', 'T1G', 'T1G', 'T1G', 'T1G', 'T1G', 'T1G', 'T1G', 'T1G', 'T1G', 'T1G', 'T1G', 'T1G', 'T1G', 'T1G', 'T1G', 'T1G', 'T1G', 'T1G', 'T1G', 'T1G', 'T1G', 'T1G', 'T1G', 'T1G', 'T1G', 'T1G', 'T1G', 'T1G', 'T1G', 'T1G', 'T1G', 'T1G', 'T1G', 'T1G', 'T1G', 'T1G', 'T1G', 'T1G', 'T1G', 'T1G', 'T1G', 'T1G', 'T1G', 'T1G', 'T1G', 'T1G', 'T1G', 'T1G', 'T1G', 'T1G', 'T1G', 'T1G', 'T1G', 'T1G', 'T1G', 'T1G', 'T1G', 'T1G', 'T1G', 'T1G', 'T1G', 'T1G', 'T1G', 'T1G', 'T1G', 'T1G', 'T1G', 'T1G', 'T1G', 'T1G', 'T1G', 'T1G', 'T1G', 'T1G', 'T1G', 'T1G', 'T1G', 'T1G', 'T1G', 'T1G', 'T1G', 'T1G', 'T1G', 'T1G', 'T1G', 'T1G', 'T1G', 'T1G', 'T1G', 'T1G', 'T1G', 'T1G', 'T1G', 'T1G', 'T1G', 'T1G', 'T1G', 'T1G', 'T1G', 'T1G', 'T1G', 'T1G', 'T1G', 'T1G', 'T1G', 'T1G', 'T1G', 'T1G', 'T1G', 'T1G', 'T1G', 'T1G', 'T1G', 'T1G', 'T1G', 'T1G', 'T1G', 'T1G', 'T1G', 'T1G', 'T1G', 'T1G', 'T1G', 'T1G', 'T1G', 'T1G', 'T1G', 'T1G', 'T1G', 'T1G', 'T1G', 'T1G', 'T1G', 'T1G', 'T1G', 'T1G', 'T1G', 'T1G', 'T1G', 'T1G', 'T1G', 'T1G', 'T1G', 'T1G', 'T1G', 'T1G', 'T1G', 'T1G', 'T1G', 'T1G', 'T1G', 'T1G', 'T1G', 'T1G', 'T1G', 'T1G', 'T1G', 'T1G', 'T1G', 'T1G', 'T1G', 'T1G', 'T1G', 'T1G', 'T1G', 'T1G', 'T1G', 'T1G', 'T1G', 'T1G', 'T1G', 'T1G', 'T1G', 'T1G', 'T1G', 'T1G', 'T1G', 'T1G', 'T1G', 'T1G', 'T1G', 'T1G', 'T1G', 'T1G', 'T1G', 'T1G', 'T1G', 'T1G', 'T1G', 'T1G', 'T1G', 'T1G', 'T1G', 'T1G', 'T1G', 'T1G', 'T1G', 'T1G', 'T1G', 'T1G', 'T1G', 'T1G', 'T1G', 'T1G', 'T1G', 'T1G', 'T1G', 'T1G', 'T1G', 'T1G', 'T1G', 'T1G', 'T1G', 'T1G', 'T1D', 'T1G', 'T1G', 'T1G', 'T1G', 'T1G', 'T1G', 'T1G', 'T1G', 'T1G', 'T1G', 'T1G', 'T1G', 'T1G', 'T1G', 'T1G', 'T1G', 'T1G', 'T1G', 'T1G', 'T1G', 'T1G', 'T1G', 'T1G', 'T1G', 'T1G', 'T1G', 'T1G', 'T1G', 'T1G', 'T1G', 'T1G', 'T1G', 'T1G', 'T1G', 'T1G', 'T1G', 'T1G', 'T1G', 'T1G', 'T1G', 'T1G', 'T1G', 'T1G', 'T1G', 'T1G', 'T1G', 'T1G', 'T1G', 'T1G', 'T1G', 'T1G', 'T1G', 'T1G', 'T1G', 'T1G', 'T1G', 'T1G', 'T1G', 'T1G', 'T1G', 'T1G', 'T1G', 'T1G', 'T1G', 'T1G', 'T1G', 'T1G', 'T1G', 'T1G', 'T1G', 'T1G', 'T1G', 'T1G', 'T1G', 'T1G', 'T1G', 'T1G', 'T1G', 'T1G', 'T1G', 'T1G', 'T1G', 'T1G', 'T1G', 'T1G', 'T1G', 'T1G', 'T1G', 'T1G', 'T1G', 'T1G', 'T1G', 'T1G', 'T1G', 'T1G', 'T1G', 'T1G', 'T1G', 'T1G', 'T1G', 'T1G', 'T1G', 'T1G', 'T1G', 'T1G', 'T1G', 'T1G', 'T1G', 'T1G', 'T1G', 'T1G', 'T1G', 'T1G', 'T1G', 'T1G', 'T1G', 'T1G', 'T1G', 'T1G', 'T1G', 'T1G', 'T1G', 'T1G', 'T1G', 'T1G', 'T1G', 'T1G', 'T1G', 'T1G', 'T1G', 'T1G', 'T1G', 'T1G', 'T1G', 'T1G', 'T1G', 'T1G', 'T1G', 'T1G', 'T1G', 'T1G', 'T1G', 'T1G', 'T1G', 'T1G', 'T1G', 'T1G', 'T1G', 'T1G', 'T1G', 'T1G', 'T1G', 'T1G', 'T1G', 'T1G', 'T1G', 'T1G', 'T1G', 'T1G', 'T1G', 'T1G', 'T1G', 'T1G', 'T1G', 'T1G', 'T1G', 'T1G', 'T1G', 'T1G', 'T1G', 'T1G', 'T1G', 'T1G', 'T1G', 'T1G', 'T1G', 'T1G', 'T1G', 'T1G', 'T1G', 'T1G', 'T1G', 'T1G', 'T1G', 'T1G', 'T1G', 'T1G', 'T1G', 'T1G', 'T1G', 'T1G', 'T1G', 'T1G', 'T1G', 'T1G', 'T1G', 'T1G', 'T1G', 'T1G', 'T1G', 'T1G', 'T1G', 'T1G', 'T1G', 'T1G', 'T1G', 'T1G', 'T1G', 'T1G', 'T1G', 'T1G', 'T1G', 'T1G', 'T1G', 'T1G', 'T1G', 'T1G', 'T1G', 'T1G', 'T1G', 'T1G', 'T1G', 'T1G', 'T1G', 'T1G', 'T1G', 'T1G', 'T1G', 'T1G', 'T1G', 'T1G', 'T1G', 'T1G', 'T1G', 'T1G', 'T1G', 'T1G', 'T1G', 'T1G', 'T1G', 'T1G', 'T1G', 'T1G', 'T1G', 'T1G', 'T1G', 'T1G', 'T1G', 'T1G', 'T1G', 'T1G', 'T1G', 'T1G', 'T1D', 'T1G', 'T1G', 'T1G', 'T1G', 'T1G', 'T1G', 'T1G', 'T1G', 'T1G', 'T1G', 'T1G', 'T1G', 'T1G', 'T1G', 'T1G', 'T1G', 'T1G', 'T1G', 'T1G', 'T1D', 'T1G', 'T1G', 'T1G', 'T1G', 'T1G', 'T1G', 'T1G', 'T1G', 'T1G', 'T1G', 'T1G', 'T1G', 'T1G', 'T1G', 'T1G', 'T1G', 'T1G', 'T1G', 'T1G', 'T1G', 'T1G', 'T1G', 'T1G', 'T1G', 'T1G', 'T1G', 'T1G', 'T1G', 'T1G', 'T1G', 'T1G', 'T1G', 'T1G', 'T1G', 'T1G', 'T1G', 'T1G', 'T1G', 'T1G', 'T1G', 'T1G', 'T1G', 'T1G', 'T1G', 'T1G', 'T1G', 'T1D', 'T1G', 'T1G', 'T1G', 'T1G', 'T1G', 'T1G', 'T1G', 'T1G', 'T1G', 'T1G', 'T1G', 'T1G', 'T1G', 'T1G', 'T1G', 'T1G', 'T1G', 'T1G', 'T1G', 'T1G', 'T1G', 'T1G', 'T1G', 'T1G', 'T1G', 'T1G', 'T1G', 'T1G', 'T1G', 'T1G', 'T1G', 'T1G', 'T1G', 'T1G', 'T1G', 'T1G', 'T1G', 'T1G', 'T1G', 'T1G', 'T1G', 'T1G', 'T1G', 'T1G', 'T1G', 'T1G', 'T1G', 'T1G', 'T1G', 'T1G', 'T1G', 'T1G', 'T1G', 'T1G', 'T1G', 'T1G', 'T1G', 'T1G', 'T1G', 'T1G', 'T1G', 'T1G', 'T1G', 'T1G', 'T1G', 'T1G', 'T1G', 'T1G', 'T1G', 'T1G', 'T1G', 'T1G', 'T1G', 'T1G', 'T1G', 'T1G', 'T1G', 'T1D', 'T1G', 'T1G', 'T1G', 'T1G', 'T1G', 'T1G', 'T1G', 'T1G', 'T1G', 'T1G', 'T1G', 'T1G', 'T1G', 'T1G', 'T1G', 'T1G', 'T1G', 'T1G', 'T1G', 'T1G', 'T1G', 'T1G', 'T1G', 'T1G', 'T1G', 'T1G', 'T1G', 'T1G', 'T1G', 'T1G', 'T1G', 'T1G', 'T1G', 'T1G', 'T1G', 'T1G', 'T1G', 'T1G', 'T1G', 'T1G', 'T1G', 'T1G', 'T1G', 'T1G', 'T1G', 'T1G', 'T1G', 'T1G', 'T1G', 'T1G', 'T1G', 'T1G', 'T1G', 'T1G', 'T1G', 'T1G', 'T1G', 'T1G', 'T1G', 'T1G', 'T1G', 'T1G', 'T1G', 'T1G', 'T1G', 'T1G', 'T1G', 'T1G', 'T1G', 'T1G', 'T1G', 'T1G', 'T1G', 'T1G', 'T1G', 'T1G', 'T1G', 'T1G', 'T1G', 'T1G', 'T1G', 'T1G', 'T1G', 'T1G', 'T1D', 'T1G', 'T1G', 'T1G', 'T1G', 'T1G', 'T1G', 'T1G', 'T1G', 'T1G', 'T1G', 'T1G', 'T1G', 'T1G', 'T1G', 'T1G', 'T1G', 'T1G', 'T1G', 'T1G', 'T1G', 'T1G', 'T1G', 'T1G', 'T1G', 'T1G', 'T1G', 'T1G', 'T1G', 'T1G', 'T1G', 'T1G', 'T1G', 'T1G', 'T1G', 'T1G', 'T1G', 'T1G', 'T1G', 'T1G', 'T1G', 'T1G', 'T1G', 'T1G', 'T1G', 'T1G', 'T1G', 'T1G', 'T1G', 'T1G', 'T1G', 'T1G', 'T1G', 'T1G', 'T1G', 'T1G', 'T1G', 'T1G', 'T1G', 'T1G', 'T1G', 'T1G', 'T1G', 'T1G', 'T1G', 'T1G', 'T1G', 'T1G', 'T1G', 'T1G', 'T1G', 'T1G', 'T1G', 'T1G', 'T1G', 'T1G', 'T1D', 'T1G', 'T1G', 'T1G', 'T1G', 'T1G', 'T1G', 'T1G', 'T1G', 'T1G', 'T1G', 'T1G', 'T1G', 'T1G', 'T1G', 'T1G', 'T1G', 'T1G', 'T1G', 'T1G', 'T1G', 'T1G', 'T1G', 'T1G', 'T1G', 'T1G', 'T1G', 'T1G', 'T1G', 'T1G', 'T1G', 'T1G', 'T1G', 'T1G', 'T1G', 'T1G', 'T1G', 'T1G', 'T1G', 'T1G', 'T1G', 'T1G', 'T1G', 'T1G', 'T1G', 'T1G', 'T1G', 'T1G', 'T1G', 'T1G', 'T1G', 'T1G', 'T1G', 'T1G', 'T1G', 'T1G', 'T1G', 'T1G', 'T1G', 'T1G', 'T1G', 'T1G', 'T1G', 'T1G', 'T1G', 'T1G', 'T1G', 'T1G', 'T1G', 'T1G', 'T1G', 'T1G', 'T1G', 'T1G', 'T1G', 'T1G', 'T1G', 'T1G', 'T1G', 'T1G', 'T1G', 'T1G', 'T1G', 'T1G', 'T1G', 'T1G', 'T1G', 'T1G', 'T1G', 'T1G', 'T1G', 'T1G', 'T1G', 'T1G', 'T1G', 'T1G', 'T1G', 'T1G', 'T1G', 'T1G', 'T1G', 'T1G', 'T1G', 'T1G', 'T1G', 'T1G', 'T1G', 'T1G', 'T1G', 'T1G', 'T1G', 'T1G', 'T1G', 'T1G', 'T1G', 'T1G', 'T1G', 'T1G', 'T1G', 'T1G', 'T1G', 'T1G', 'T1G', 'T1G', 'T1G', 'T1G', 'T1G', 'T1G', 'T1G', 'T1G', 'T1G', 'T1G', 'T1G', 'T1G', 'T1G', 'T1G', 'T1G', 'T1G', 'T1G', 'T1G', 'T1G', 'T1G', 'T1G', 'T1G', 'T1D', 'T1G', 'T1G', 'T1G', 'T1G', 'T1G', 'T1G', 'T1G', 'T1G', 'T1G', 'T1G', 'T1G', 'T1G', 'T1G', 'T1G', 'T1G', 'T1G', 'T1G', 'T1G', 'T1G', 'T1G', 'T1G', 'T1G', 'T1G', 'T1G', 'T1G', 'T1G', 'T1G', 'T1G', 'T1G', 'T1G', 'T1G', 'T1G', 'T1G', 'T1G', 'T1G', 'T1G', 'T1G', 'T1G', 'T1G', 'T1G', 'T1G', 'T1G', 'T1G', 'T1G', 'T1G', 'T1G', 'T1G', 'T1G', 'T1G', 'T1G', 'T1G', 'T1G', 'T1G', 'T1G', 'T1G', 'T1G', 'T1G', 'T1G', 'T1G', 'T1G', 'T1G', 'T1G', 'T1G', 'T1G', 'T1G', 'T1G', 'T1G', 'T1G', 'T1G', 'T1G', 'T1G', 'T1G', 'T1G', 'T1G', 'T1G', 'T1G', 'T1G', 'T1G', 'T1G', 'T1G', 'T1G', 'T1G', 'T1G', 'T1G', 'T1G', 'T1G', 'T1G', 'T1G', 'T1G', 'T1G', 'T1G', 'T1G', 'T1G', 'T1G', 'T1G', 'T1G', 'T1G', 'T1G', 'T1G', 'T1G', 'T1G', 'T1G', 'T1G', 'T1G', 'T1G', 'T1G', 'T1G', 'T1G', 'T1G', 'T1G', 'T1G', 'T1G', 'T1G', 'T1G', 'T1G', 'T1G', 'T1G', 'T1G', 'T1G', 'T1G', 'T1G', 'T1G', 'T1G', 'T1G', 'T1G', 'T1G', 'T1G', 'T1G', 'T1G', 'T1G', 'T1G', 'T1G', 'T1G', 'T1G', 'T1G', 'T1G', 'T1G', 'T1G', 'T1G', 'T1G', 'T1G', 'T1G', 'T1G', 'T1G', 'T1G', 'T1G', 'T1G', 'T1G', 'T1G', 'T1G', 'T1G', 'T1G', 'T1G', 'T1G', 'T1G', 'T1G', 'T1G', 'T1G', 'T1G', 'T1G', 'T1G', 'T1G', 'T1G', 'T1G', 'T1G', 'T1G', 'T1G', 'T1G', 'T1G', 'T1G', 'T1G', 'T1G', 'T1G', 'T1G', 'T1G', 'T1G', 'T1G', 'T1G', 'T1G', 'T1G', 'T1G', 'T1G', 'T1G', 'T1G', 'T1G', 'T1G', 'T1G', 'T1G', 'T1G', 'T1G', 'T1G', 'T1G', 'T1G', 'T1G', 'T1G', 'T1G', 'T1G', 'T1G', 'T1G', 'T1G', 'T1G', 'T1G', 'T1G', 'T1G', 'T1G', 'T1G', 'T1G', 'T1G', 'T1G', 'T1G', 'T1G', 'T1G', 'T1G', 'T1G', 'T1G', 'T1G', 'T1G', 'T1G', 'T1G', 'T1G', 'T1G', 'T1G', 'T1G', 'T1G', 'T1G', 'T1G', 'T1G', 'T1G', 'T1G', 'T1G', 'T1G', 'T1G', 'T1G', 'T1G', 'T1G', 'T1G', 'T1G', 'T1G', 'T1G', 'T1G', 'T1G', 'T1G', 'T1G', 'T1G', 'T1G', 'T1G', 'T1G', 'T1G', 'T1G', 'T1G', 'T1G', 'T1G', 'T1G', 'T1G', 'T1G', 'T1G', 'T1G', 'T1G', 'T1G', 'T1G', 'T1G', 'T1G', 'T1G', 'T1G', 'T1G', 'T1G', 'T1G', 'T1G', 'T1G', 'T1G', 'T1G', 'T1G', 'T1G', 'T1G', 'T1G', 'T1G', 'T1G', 'T1G', 'T1G', 'T1G', 'T1G', 'T1G', 'T1G', 'T1G', 'T1G', 'T1G', 'T1G', 'T1G', 'T1G', 'T1G', 'T1G', 'T1G', 'T1G', 'T1G', 'T1G', 'T1G', 'T1G', 'T1G', 'T1G', 'T1G', 'T1G', 'T1G', 'T1G', 'T1G', 'T1G', 'T1G', 'T1G', 'T1G', 'T1G', 'T1G', 'T1G', 'T1G', 'T1G', 'T1G', 'T1G', 'T1G', 'T1G', 'T1G', 'T1G', 'T1G', 'T1G', 'T1G', 'T1G', 'T1G', 'T1G', 'T1G', 'T1G', 'T1G', 'T1G', 'T1G', 'T1G', 'T1G', 'T1G', 'T1G', 'T1G', 'T1G', 'T1G', 'T1G', 'T1G', 'T1G', 'T1G', 'T1G', 'T1G', 'T1G', 'T1G', 'T1G', 'T1G', 'T1D', 'T1G', 'T1G', 'T1G', 'T1G', 'T1G', 'T1G', 'T1G', 'T1G', 'T1G', 'T1G', 'T1G', 'T1G', 'T1G', 'T1G', 'T1G', 'T1G', 'T1G', 'T1G', 'T1G', 'T1G', 'T1G', 'T1G', 'T1G', 'T1G', 'T1G', 'T1G', 'T1G', 'T1G', 'T1G', 'T1G', 'T1G', 'T1G', 'T1G', 'T1G', 'T1G', 'T1G', 'T1G', 'T1G', 'T1G', 'T1G', 'T1G', 'T1G', 'T1G', 'T1G', 'T1G', 'T1G', 'T1G', 'T1G', 'T1G', 'T1G', 'T1G', 'T1G', 'T1G', 'T1G', 'T1G', 'T1G', 'T1G', 'T1G', 'T1G', 'T1G', 'T1G', 'T1G', 'T1G', 'T1G', 'T1G', 'T1G', 'T1G', 'T1G', 'T1G', 'T1G', 'T1G', 'T1G', 'T1G', 'T1G', 'T1G', 'T1G', 'T1G', 'T1G', 'T1G', 'T1G', 'T1G', 'T1G', 'T1G', 'T1G', 'T1G', 'T1G', 'T1G', 'T1G', 'T1G', 'T1G', 'T1G', 'T1G', 'T1G', 'T1G', 'T1G', 'T1G', 'T1G', 'T1G', 'T1G', 'T1G', 'T1G', 'T1G', 'T1G', 'T1G', 'T1G', 'T1G', 'T1G', 'T1G', 'T1G', 'T1G', 'T1G', 'T1G', 'T1G', 'T1G', 'T1G', 'T1G', 'T1G', 'T1G', 'T1G', 'T1G', 'T1G', 'T1G', 'T1G', 'T1G', 'T1G', 'T1G', 'T1D', 'T1G', 'T1G', 'T1G', 'T1G', 'T1G', 'T1G', 'T1G', 'T1G', 'T1G', 'T1G', 'T1G', 'T1G', 'T1G', 'T1G', 'T1G', 'T1G', 'T1G', 'T1G', 'T1G', 'T1G', 'T1G', 'T1D', 'T1G', 'T1G', 'T1G', 'T1G', 'T1G', 'T1G', 'T1G', 'T1G', 'T1G', 'T1G', 'T1G', 'T1G', 'T1G', 'T1G', 'T1G', 'T1G', 'T1G', 'T1G', 'T1G', 'T1G', 'T1G', 'T1G', 'T1G', 'T1G', 'T1G', 'T1G', 'T1G', 'T1G', 'T1G', 'T1G', 'T1G', 'T1G', 'T1G', 'T1G', 'T1G', 'T1G', 'T1G', 'T1G', 'T1G', 'T1G', 'T1G', 'T1G', 'T1G', 'T1G', 'T1G', 'T1D', 'T1G', 'T1G', 'T1G', 'T1G', 'T1G', 'T1D', 'T1G', 'T1G', 'T1G', 'T1G', 'T1G', 'T1G', 'T1G', 'T1G', 'T1G', 'T1G', 'T1G', 'T1G', 'T1G', 'T1G', 'T1G', 'T1G', 'T1G', 'T1G', 'T1G', 'T1G', 'T1G', 'T1G', 'T1G', 'T1G', 'T1G', 'T1G', 'T1G', 'T1G', 'T1G', 'T1G', 'T1G', 'T1G', 'T1G', 'T1G', 'T1G', 'T1G', 'T1G', 'T1G', 'T1G', 'T1G', 'T1G', 'T1G', 'T1G', 'T1G', 'T1G', 'T1G', 'T1G', 'T1G', 'T1G', 'T1G', 'T1G', 'T1G', 'T1G', 'T1G', 'T1G', 'T1G', 'T1G', 'T1G', 'T1G', 'T1G', 'T1G', 'T1G', 'T1G', 'T1G', 'T1G', 'T1G', 'T1G', 'T1G', 'T1G', 'T1G', 'T1G', 'T1G', 'T1G', 'T1G', 'T1G', 'T1G', 'T1G', 'T1G', 'T1D', 'T1G', 'T1G', 'T1G', 'T1G', 'T1G', 'T1G', 'T1G', 'T1G', 'T1G', 'T1G', 'T1G', 'T1G', 'T1G', 'T1G', 'T1G', 'T1G', 'T1G', 'T1G', 'T1G', 'T1G', 'T1G', 'T1G', 'T1G', 'T1G', 'T1G', 'T1G', 'T1G', 'T1G', 'T1G', 'T1G', 'T1G', 'T1G', 'T1G', 'T1G', 'T1G', 'T1G', 'T1G', 'T1G', 'T1G', 'T1G', 'T1G', 'T1G', 'T1G', 'T1G', 'T1G', 'T1G', 'T1G', 'T1G', 'T1G', 'T1G', 'T1G', 'T1G', 'T1G', 'T1G', 'T1G', 'T1G', 'T1G', 'T1G', 'T1G', 'T1G', 'T1G', 'T1G', 'T1G', 'T1G', 'T1G', 'T1G', 'T1G', 'T1G', 'T1G', 'T1G', 'T1G', 'T1G', 'T1G', 'T1G', 'T1G', 'T1G', 'T1G', 'T1G', 'T1G', 'T1G', 'T1G', 'T1G', 'T1G', 'T1G', 'T1G', 'T1G', 'T1G', 'T1G', 'T1G', 'T1G', 'T1G', 'T1G', 'T1G', 'T1G', 'T1G', 'T1G', 'T1G', 'T1G', 'T1G', 'T1G', 'T1G', 'T1G', 'T1G', 'T1G', 'T1G', 'T1G', 'T1G', 'T1G', 'T1G', 'T1G', 'T1G', 'T1G', 'T1G', 'T1G', 'T1G', 'T1G', 'T1G', 'T1G', 'T1G', 'T1G', 'T1G', 'T1G', 'T1G', 'T1G', 'T1G', 'T1G', 'T1G', 'T1G', 'T1G', 'T1G', 'T1G', 'T1G', 'T1G', 'T1G', 'T1G', 'T1G', 'T1G', 'T1G', 'T1G', 'T1G', 'T1G', 'T1G', 'T1G', 'T1G', 'T1G', 'T1G', 'T1D', 'T1G', 'T1G', 'T1G', 'T1G', 'T1G', 'T1G', 'T1G', 'T1G', 'T1D', 'T1G', 'T1G', 'T1G', 'T1G', 'T1G', 'T1G', 'T1G', 'T1G', 'T1G', 'T1G', 'T1G', 'T1G', 'T1G', 'T1G', 'T1G', 'T1G', 'T1G', 'T1G', 'T1G', 'T1G', 'T1G', 'T1G', 'T1G', 'T1G', 'T1G', 'T1G', 'T1G', 'T1G', 'T1G', 'T1G', 'T1G', 'T1G', 'T1G', 'T1G', 'T1G', 'T1G', 'T1G', 'T1G', 'T1G', 'T1G', 'T1G', 'T1G', 'T1G', 'T1G', 'T1G', 'T1G', 'T1G', 'T1G', 'T1G', 'T1G', 'T1G', 'T1G', 'T1G', 'T1G', 'T1G', 'T1G', 'T1G', 'T1G', 'T1G', 'T1G', 'T1G', 'T1G', 'T1G', 'T1G', 'T1G', 'T1G', 'T1G', 'T1G', 'T1G', 'T1G', 'T1G', 'T1G', 'T1G', 'T1G', 'T1G', 'T1G', 'T1G', 'T1G', 'T1G', 'T1G', 'T1G', 'T1G', 'T1G', 'T1G', 'T1G', 'T1G', 'T1G', 'T1G', 'T1G', 'T1G', 'T1G', 'T1G', 'T1G', 'T1G', 'T1G', 'T1G', 'T1G', 'T1G', 'T1G', 'T1G', 'T1G', 'T1G', 'T1G', 'T1G', 'T1G', 'T1G', 'T1G', 'T1G', 'T1G', 'T1G', 'T1G', 'T1G', 'T1G', 'T1G', 'T1G', 'T1G', 'T1G', 'T1G', 'T1G', 'T1G', 'T1G', 'T1G', 'T1G', 'T1G', 'T1G', 'T1G', 'T1G', 'T1G', 'T1G', 'T1G', 'T1G', 'T1G', 'T1G', 'T1G', 'T1G', 'T1G', 'T1G', 'T1G', 'T1G', 'T1G', 'T1G', 'T1G', 'T1G', 'T1G', 'T1G', 'T1G', 'T1G', 'T1G', 'T1G', 'T1G', 'T1G', 'T1G', 'T1G', 'T1G', 'T1G', 'T1G', 'T1G', 'T1G', 'T1G', 'T1G', 'T1G', 'T1G', 'T1G', 'T1G', 'T1G', 'T1G', 'T1G', 'T1G', 'T1G', 'T1G', 'T1G', 'T1G', 'T1G', 'T1G', 'T1G', 'T1G', 'T1G', 'T1G', 'T1G', 'T1G', 'T1G', 'T1G', 'T1G', 'T1G', 'T1G', 'T1G', 'T1G', 'T1G', 'T1G', 'T1G', 'T1G', 'T1G', 'T1G', 'T1G', 'T1G', 'T1G', 'T1G', 'T1G', 'T1G', 'T1G', 'T1G', 'T1G', 'T1G', 'T1G', 'T1G', 'T1G', 'T1G', 'T1G', 'T1G', 'T1G', 'T1G', 'T1G', 'T1G', 'T1G', 'T1G', 'T1G', 'T1G', 'T1G', 'T1G', 'T1G', 'T1G', 'T1G', 'T1G', 'T1G', 'T1G', 'T1G', 'T1G', 'T1G', 'T1G', 'T1G', 'T1G', 'T1G', 'T1G', 'T1G', 'T1G', 'T1G', 'T1G', 'T1G', 'T1G', 'T1G', 'T1G', 'T1G', 'T1G', 'T1G', 'T1G', 'T1G', 'T1G', 'T1G', 'T1G', 'T1G', 'T1G', 'T1G', 'T1G', 'T1G', 'T1G', 'T1G', 'T1G', 'T1G', 'T1G', 'T1G', 'T1G', 'T1D', 'T1G', 'T1G', 'T1G', 'T1G', 'T1G', 'T1G', 'T1G', 'T1G', 'T1G', 'T1G', 'T1G', 'T1G', 'T1G', 'T1G', 'T1G', 'T1G', 'T1G', 'T1G', 'T1G', 'T1G', 'T1G', 'T1G', 'T1G', 'T1G', 'T1G', 'T1G', 'T1G', 'T1G', 'T1G', 'T1D', 'T1G', 'T1G', 'T1G', 'T1G', 'T1G', 'T1G', 'T1G', 'T1G', 'T1G', 'T1G', 'T1G', 'T1G', 'T1G', 'T1G', 'T1G', 'T1G', 'T1G', 'T1G', 'T1G', 'T1G', 'T1G', 'T1G', 'T1G', 'T1G', 'T1G', 'T1G', 'T1G', 'T1G', 'T1G', 'T1G', 'T1G', 'T1G', 'T1G', 'T1G', 'T1G', 'T1G', 'T1G', 'T1G', 'T1G', 'T1G', 'T1G', 'T1G', 'T1G', 'T1G', 'T1G', 'T1G', 'T1G', 'T1G', 'T1G', 'T1G', 'T1G', 'T1G', 'T1G', 'T1D', 'T1G', 'T1G', 'T1G', 'T1G', 'T1G', 'T1G', 'T1G', 'T1G', 'T1G', 'T1G', 'T1G', 'T1G', 'T1G', 'T1G', 'T1G', 'T1D', 'T1G', 'T1G', 'T1G', 'T1G', 'T1G', 'T1G', 'T1G', 'T1G', 'T1G', 'T1G', 'T1G', 'T1G', 'T1G', 'T1G', 'T1G', 'T1G', 'T1G', 'T1G', 'T1G', 'T1G', 'T1G', 'T1G', 'T1G', 'T1G', 'T1G', 'T1G', 'T1G', 'T1G', 'T1G', 'T1G', 'T1G', 'T1G', 'T1G', 'T1G', 'T1G', 'T1G', 'T1G', 'T1G', 'T1G', 'T1G', 'T1G', 'T1G', 'T1G', 'T1G', 'T1G', 'T1G', 'T1G', 'T1G', 'T1G', 'T1G', 'T1G', 'T1G', 'T1G', 'T1G', 'T1G', 'T1G', 'T1G', 'T1G', 'T1G', 'T1G', 'T1G', 'T1G', 'T1G', 'T1G', 'T1G', 'T1G', 'T1G', 'T1G', 'T1G', 'T1G', 'T1G', 'T1G', 'T1G', 'T1G', 'T1G', 'T1G', 'T1G', 'T1G', 'T1G', 'T1G', 'T1G', 'T1G', 'T1G', 'T1G', 'T1G', 'T1G', 'T1G', 'T1G', 'T1G', 'T1G', 'T1G', 'T1G', 'T1G', 'T1G', 'T1G', 'T1G', 'T1G', 'T1G', 'T1G', 'T1G', 'T1G', 'T1G', 'T1G', 'T1G', 'T1G', 'T1G', 'T1G', 'T1D', 'T1G', 'T1G', 'T1G', 'T1G', 'T1G', 'T1G', 'T1G', 'T1G', 'T1G', 'T1G', 'T1G', 'T1G', 'T1G', 'T1G', 'T1G', 'T1G', 'T1G', 'T1G', 'T1G', 'T1G', 'T1D', 'T1G', 'T1G', 'T1G', 'T1G', 'T1G', 'T1G', 'T1G', 'T1G', 'T1G', 'T1G', 'T1G', 'T1G', 'T1G', 'T1G', 'T1G', 'T1G', 'T1G', 'T1G', 'T1G', 'T1G', 'T1G', 'T1G', 'T1G', 'T1G', 'T1G', 'T1G', 'T1G', 'T1G', 'T1G', 'T1G', 'T1G', 'T1G', 'T1G', 'T1D', 'T1G', 'T1G', 'T1G', 'T1G', 'T1G', 'T1G', 'T1G', 'T1G', 'T1G', 'T1G', 'T1G', 'T1G', 'T1G', 'T1G', 'T1G', 'T1G', 'T1G', 'T1G', 'T1G', 'T1G', 'T1G', 'T1G', 'T1G', 'T1G', 'T1G', 'T1G', 'T1G', 'T1G', 'T1G', 'T1G', 'T1G', 'T1G', 'T1G', 'T1G', 'T1G', 'T1G', 'T1G', 'T1G', 'T1G', 'T1G', 'T1G', 'T1G', 'T1G', 'T1G', 'T1G', 'T1G', 'T1G', 'T1G', 'T1G', 'T1G', 'T1G', 'T1G', 'T1G', 'T1G', 'T1G', 'T1G', 'T1G', 'T1G', 'T1G', 'T1G', 'T1G', 'T1G', 'T1G', 'T1G', 'T1G', 'T1G', 'T1G', 'T1G', 'T1G', 'T1G', 'T1G', 'T1G', 'T1G', 'T1G', 'T1G', 'T1G', 'T1G', 'T1G', 'T1G', 'T1G', 'T1G', 'T1G', 'T1G', 'T1G', 'T1G', 'T1G', 'T1G', 'T1G', 'T1G', 'T1G', 'T1G', 'T1G', 'T1G', 'T1G', 'T1G', 'T1G', 'T1G', 'T1G', 'T1G', 'T1G', 'T1G', 'T1G', 'T1G', 'T1G', 'T1G', 'T1G', 'T1G', 'T1D', 'T1G', 'T1G', 'T1G', 'T1G', 'T1G', 'T1G', 'T1G', 'T1G', 'T1G', 'T1G', 'T1G', 'T1G', 'T1G', 'T1G', 'T1G', 'T1G', 'T1G', 'T1G', 'T1G', 'T1G', 'T1G', 'T1G', 'T1G', 'T1G', 'T1G', 'T1G', 'T1G', 'T1G', 'T1G', 'T1G', 'T1G', 'T1G', 'T1G', 'T1G', 'T1G', 'T1G', 'T1G', 'T1G', 'T1G', 'T1G', 'T1G', 'T1G', 'T1G', 'T1G', 'T1G', 'T1G', 'T1G', 'T1G', 'T1G', 'T1G', 'T1G', 'T1G', 'T1G', 'T1G', 'T1G', 'T1G', 'T1G', 'T1G', 'T1G', 'T1G', 'T1G', 'T1G', 'T1G', 'T1G', 'T1G', 'T1G', 'T1G', 'T1G', 'T1G', 'T1G', 'T1G', 'T1G', 'T1G', 'T1G', 'T1G', 'T1G', 'T1G', 'T1G', 'T1G', 'T1G', 'T1G', 'T1G', 'T1G', 'T1G', 'T1G', 'T1G', 'T1G', 'T1G', 'T1G', 'T1G', 'T1G', 'T1G', 'T1G', 'T1G', 'T1G', 'T1G', 'T1G', 'T1G', 'T1G', 'T1G', 'T1G', 'T1G', 'T1G', 'T1D', 'T1G', 'T1G', 'T1D', 'T1D', 'T1G', 'T1G', 'T1G', 'T1G', 'T1G', 'T1G', 'T1G', 'T1G', 'T1G', 'T1G', 'T1G', 'T1G', 'T1G', 'T1G', 'T1G', 'T1G', 'T1G', 'T1G', 'T1G', 'T1G', 'T1G', 'T1G', 'T1G', 'T1G', 'T1G', 'T1G', 'T1G', 'T1G', 'T1G', 'T1G', 'T1G', 'T1G', 'T1G', 'T1G', 'T1G', 'T1G', 'T1G', 'T1G', 'T1G', 'T1G', 'T1G', 'T1G', 'T1G', 'T1G', 'T1G', 'T1G', 'T1G', 'T1G', 'T1G', 'T1G', 'T1G', 'T1G', 'T1G', 'T1G', 'T1G', 'T1G', 'T1G', 'T1G', 'T1G', 'T1G', 'T1G', 'T1G', 'T1G', 'T1G', 'T1G', 'T1D', 'T1G', 'T1G', 'T1G', 'T1G', 'T1G', 'T1G', 'T1G', 'T1G', 'T1G', 'T1G', 'T1G', 'T1G', 'T1G', 'T1G', 'T1G', 'T1G', 'T1D', 'T1G', 'T1G', 'T1G', 'T1G', 'T1G', 'T1G', 'T1G', 'T1G', 'T1G', 'T1G', 'T1G', 'T1G', 'T1G', 'T1G', 'T1G', 'T1G', 'T1G', 'T1G', 'T1G', 'T1G', 'T1G', 'T1D', 'T1G', 'T1G', 'T1G', 'T1G', 'T1G', 'T1G', 'T1G', 'T1G', 'T1G', 'T1G', 'T1G', 'T1G', 'T1G', 'T1G', 'T1G', 'T1G', 'T1G', 'T1G', 'T1G', 'T1G', 'T1G', 'T1G', 'T1G', 'T1G', 'T1G', 'T1G', 'T1G', 'T1G', 'T1G', 'T1G', 'T1G', 'T1G', 'T1G', 'T1G', 'T1G', 'T1G', 'T1G', 'T1G', 'T1G', 'T1G', 'T1G', 'T1G', 'T1G', 'T1G', 'T1G', 'T1G', 'T1G', 'T1G', 'T1G', 'T1G', 'T1G', 'T1G', 'T1G', 'T1G', 'T1G', 'T1G', 'T1G', 'T1G', 'T1G', 'T1G', 'T1G', 'T1G', 'T1G', 'T1G', 'T1G', 'T1G', 'T1G', 'T1G', 'T1G', 'T1G', 'T1G', 'T1G', 'T1G', 'T1G', 'T1G', 'T1G', 'T1G', 'T1G', 'T1G', 'T1G', 'T1G', 'T1G', 'T1G', 'T1G', 'T1G', 'T1G', 'T1G', 'T1G', 'T1G', 'T1G', 'T1G', 'T1G', 'T1G', 'T1G', 'T1G', 'T1G', 'T1G', 'T1G', 'T1G', 'T1G', 'T1G', 'T1G', 'T1G', 'T1G', 'T1G', 'T1G', 'T1G', 'T1G', 'T1G', 'T1G', 'T1G', 'T1G', 'T1G', 'T1G', 'T1G', 'T1G', 'T1G', 'T1G', 'T1G', 'T1G', 'T1G', 'T1G', 'T1G', 'T1G', 'T1G', 'T1G', 'T1G', 'T1G', 'T1G', 'T1G', 'T1G', 'T1G', 'T1G', 'T1G', 'T1G', 'T1G', 'T1G', 'T1G', 'T1G', 'T1G', 'T1G', 'T1G', 'T1G', 'T1G', 'T1G', 'T1G', 'T1G', 'T1G', 'T1G', 'T1G', 'T1G', 'T1G', 'T1G', 'T1G', 'T1G', 'T1G', 'T1G', 'T1G', 'T1G', 'T1G', 'T1G', 'T1G', 'T1G', 'T1G', 'T1G', 'T1G', 'T1G', 'T1G', 'T1G', 'T1G', 'T1G', 'T1G', 'T1G', 'T1G', 'T1G', 'T1G', 'T1G', 'T1G', 'T1G', 'T1G', 'T1G', 'T1G', 'T1G', 'T1G', 'T1G', 'T1G', 'T1G', 'T1G', 'T1G', 'T1G', 'T1G', 'T1G', 'T1G', 'T1G', 'T1G', 'T1G', 'T1G', 'T1G', 'T1G', 'T1G', 'T1G', 'T1G', 'T1G', 'T1G', 'T1G', 'T1G', 'T1G', 'T1G', 'T1G', 'T1G', 'T1G', 'T1G', 'T1G', 'T1G', 'T1G', 'T1G', 'T1G', 'T1G', 'T1G', 'T1G', 'T1G', 'T1G', 'T1G', 'T1G', 'T1G', 'T1G', 'T1G', 'T1G', 'T1G', 'T1G', 'T1G', 'T1G', 'T1G', 'T1G', 'T1G', 'T1G', 'T1G', 'T1G', 'T1G', 'T1G', 'T1G', 'T1G', 'T1G', 'T1G', 'T1G', 'T1G', 'T1G', 'T1G', 'T1G', 'T1G', 'T1G', 'T1G', 'T1G', 'T1G', 'T1D', 'T1G', 'T1G', 'T1G', 'T1G', 'T1G', 'T1G', 'T1G', 'T1G', 'T1G', 'T1G', 'T1G', 'T1G', 'T1G', 'T1G', 'T1G', 'T1G', 'T1G', 'T1G', 'T1G', 'T1G', 'T1G', 'T1G', 'T1G', 'T1G', 'T1G', 'T1G', 'T1G', 'T1G', 'T1G', 'T1G', 'T1G', 'T1G', 'T1G', 'T1G', 'T1G', 'T1G', 'T1G', 'T1G', 'T1G', 'T1G', 'T1G', 'T1G', 'T1G', 'T1G', 'T1G', 'T1G', 'T1G', 'T1G', 'T1G', 'T1G', 'T1G', 'T1D', 'T1G', 'T1G', 'T1G', 'T1G', 'T1G', 'T1G', 'T1G', 'T1G', 'T1G', 'T1G', 'T1G', 'T1G', 'T1G', 'T1G', 'T1G', 'T1G', 'T1G', 'T1G', 'T1G', 'T1G', 'T1G', 'T1G', 'T1G', 'T1G', 'T1G', 'T1G', 'T1G', 'T1G', 'T1G', 'T1G', 'T1G', 'T1G', 'T1G', 'T1G', 'T1G', 'T1G', 'T1G', 'T1G', 'T1G', 'T1G', 'T1G', 'T1G', 'T1G', 'T1G', 'T1G', 'T1G', 'T1G', 'T1G', 'T1G', 'T1G', 'T1G', 'T1G', 'T1G', 'T1G', 'T1G', 'T1G', 'T1G', 'T1G', 'T1G', 'T1G', 'T1G', 'T1G', 'T1G', 'T1G', 'T1G', 'T1G', 'T1G', 'T1G', 'T1G', 'T1G', 'T1G', 'T1G', 'T1G', 'T1G', 'T1G', 'T1G', 'T1G', 'T1G', 'T1G', 'T1G', 'T1G', 'T1G', 'T1G', 'T1G', 'T1G', 'T1G', 'T1G', 'T1G', 'T1G', 'T1G', 'T1G', 'T1G', 'T1G', 'T1G', 'T1G', 'T1G', 'T1G', 'T1G', 'T1G', 'T1G', 'T1G', 'T1G', 'T1G', 'T1G', 'T1G', 'T1G', 'T1G', 'T1G', 'T1G', 'T1G', 'T1G', 'T1G', 'T1D', 'T1G', 'T1G', 'T1G', 'T1G', 'T1G', 'T1G', 'T1G', 'T1G', 'T1G', 'T1G', 'T1G', 'T1G', 'T1G', 'T1G', 'T1G', 'T1G', 'T1G', 'T1G', 'T1G', 'T1G', 'T1G', 'T1G', 'T1G', 'T1G', 'T1G', 'T1G', 'T1G', 'T1G', 'T1G', 'T1G', 'T1G', 'T1G', 'T1G', 'T1G', 'T1G', 'T1G', 'T1G', 'T1G', 'T1G', 'T1G', 'T1G', 'T1G', 'T1G', 'T1G', 'T1G', 'T1G', 'T1G', 'T1G', 'T1G', 'T1G', 'T1G', 'T1G', 'T1G', 'T1G', 'T1G', 'T1D', 'T1G', 'T1G', 'T1G', 'T1G', 'T1G', 'T1G', 'T1G', 'T1G', 'T1G', 'T1G', 'T1G', 'T1G', 'T1G', 'T1G', 'T1G', 'T1G', 'T1G', 'T1G', 'T1G', 'T1G', 'T1G', 'T1G', 'T1G', 'T1G', 'T1G', 'T1G', 'T1G', 'T1G', 'T1G', 'T1G', 'T1G', 'T1G', 'T1G', 'T1G', 'T1G', 'T1G', 'T1G', 'T1G', 'T1G', 'T1G', 'T1G', 'T1G', 'T1G', 'T1G', 'T1G', 'T1G', 'T1G', 'T1G', 'T1G', 'T1G', 'T1G', 'T1G', 'T1G', 'T1G', 'T1G', 'T1G', 'T1G', 'T1G', 'T1G', 'T1G', 'T1G', 'T1G', 'T1G', 'T1G', 'T1G', 'T1G', 'T1G', 'T1G', 'T1G', 'T1G', 'T1G', 'T1G', 'T1G', 'T1G', 'T1G', 'T1G', 'T1G', 'T1G', 'T1G', 'T1G', 'T1G', 'T1G', 'T1G', 'T1G', 'T1G', 'T1G', 'T1G', 'T1G', 'T1G', 'T1G', 'T1G', 'T1G', 'T1G', 'T1G', 'T1G', 'T1G', 'T1G', 'T1G', 'T1G', 'T1G', 'T1G', 'T1G', 'T1G', 'T1G', 'T1G', 'T1G', 'T1G', 'T1G', 'T1G', 'T1G', 'T1G', 'T1G', 'T1G', 'T1G', 'T1G', 'T1G', 'T1G', 'T1G', 'T1G', 'T1G', 'T1G', 'T1G', 'T1G', 'T1G', 'T1G', 'T1G', 'T1G', 'T1G', 'T1G', 'T1G', 'T1G', 'T1G', 'T1G', 'T1G', 'T1G', 'T1G', 'T1G', 'T1G', 'T1G', 'T1G', 'T1G', 'T1G', 'T1G', 'T1G', 'T1G', 'T1G', 'T1G', 'T1G', 'T1G', 'T1G', 'T1G', 'T1G', 'T1G', 'T1G', 'T1G', 'T1G', 'T1G', 'T1G', 'T1G', 'T1G', 'T1G', 'T1G', 'T1G', 'T1G', 'T1G', 'T1G', 'T1G', 'T1G', 'T1G', 'T1G', 'T1G', 'T1G', 'T1G', 'T1D', 'T1G', 'T1G', 'T1G', 'T1G', 'T1G', 'T1G', 'T1G', 'T1G', 'T1G', 'T1G', 'T1G', 'T1G', 'T1G', 'T1G', 'T1G', 'T1G', 'T1G', 'T1G', 'T1G', 'T1D', 'T1G', 'T1G', 'T1G', 'T1G', 'T1G', 'T1G', 'T1G', 'T1G', 'T1G', 'T1G', 'T1G', 'T1G', 'T1G', 'T1G', 'T1G', 'T1G', 'T1G', 'T1G', 'T1G', 'T1G', 'T1G', 'T1G', 'T1G', 'T1G', 'T1G', 'T1G', 'T1G', 'T1G', 'T1G', 'T1G', 'T1G', 'T1G', 'T1G', 'T1G', 'T1G', 'T1G', 'T1G', 'T1G', 'T1G', 'T1G', 'T1G', 'T1G', 'T1G', 'T1G', 'T1G', 'T1G', 'T1G', 'T1G', 'T1G', 'T1G', 'T1G', 'T1G', 'T1G', 'T1G', 'T1G', 'T1G', 'T1G', 'T1G', 'T1G', 'T1G', 'T1G', 'T1G', 'T1G', 'T1G', 'T1G', 'T1G', 'T1G', 'T1G', 'T1G', 'T1G', 'T1G', 'T1G', 'T1G', 'T1D', 'T1G', 'T1G', 'T1G', 'T1G', 'T1G', 'T1G', 'T1G', 'T1G', 'T1G', 'T1G', 'T1G', 'T1G', 'T1G', 'T1G', 'T1G', 'T1G', 'T1G', 'T1G', 'T1G', 'T1G', 'T1G', 'T1G', 'T1G', 'T1G', 'T1G', 'T1G', 'T1G', 'T1G', 'T1G', 'T1G', 'T1G', 'T1G', 'T1G', 'T1G', 'T1G', 'T1G', 'T1G', 'T1G', 'T1G', 'T1G', 'T1G', 'T1G', 'T1G', 'T1G', 'T1G', 'T1G', 'T1G', 'T1G', 'T1G', 'T1G', 'T1G', 'T1G', 'T1G', 'T1G', 'T1G', 'T1G', 'T1G', 'T1G', 'T1G', 'T1G', 'T1G', 'T1G', 'T1G', 'T1G', 'T1G', 'T1G', 'T1G', 'T1G', 'T1G', 'T1G', 'T1G', 'T1G', 'T1G', 'T1G', 'T1G', 'T1G', 'T1G', 'T1G', 'T1G', 'T1G', 'T1G', 'T1G', 'T1G', 'T1G', 'T1G', 'T1G', 'T1G', 'T1G', 'T1G', 'T1G', 'T1G', 'T1G', 'T1G', 'T1G', 'T1G', 'T1G', 'T1G', 'T1G', 'T1G', 'T1G', 'T1G', 'T1G', 'T1G', 'T1G', 'T1G', 'T1G', 'T1G', 'T1G', 'T1G', 'T1G', 'T1G', 'T1G', 'T1G', 'T1G', 'T1G', 'T1G', 'T1G', 'T1G', 'T1G', 'T1G', 'T1G', 'T1G', 'T1G', 'T1G', 'T1G', 'T1G', 'T1G', 'T1G', 'T1G', 'T1G', 'T1G', 'T1G', 'T1G', 'T1G', 'T1G', 'T1G', 'T1G', 'T1G', 'T1G', 'T1G', 'T1G', 'T1G', 'T1G', 'T1G', 'T1G', 'T1G', 'T1G', 'T1G', 'T1G', 'T1G', 'T1G', 'T1G', 'T1G', 'T1G', 'T1G', 'T1G', 'T1G', 'T1G', 'T1G', 'T1G', 'T1G', 'T1G', 'T1G', 'T1G', 'T1G', 'T1G', 'T1G', 'T1G', 'T1G', 'T1G', 'T1G', 'T1G', 'T1G', 'T1G', 'T1G', 'T1G', 'T1G', 'T1G', 'T1G', 'T1D', 'T1G', 'T1G', 'T1G', 'T1G', 'T1G', 'T1G', 'T1G', 'T1G', 'T1G', 'T1G', 'T1G', 'T1G', 'T1G', 'T1G', 'T1G', 'T1G', 'T1G', 'T1G', 'T1G', 'T1G', 'T1G', 'T1G', 'T1G', 'T1G', 'T1G', 'T1G', 'T1G', 'T1G', 'T1G', 'T1G', 'T1G', 'T1G', 'T1G', 'T1G', 'T1G', 'T1G', 'T1G', 'T1G', 'T1G', 'T1G', 'T1G', 'T1G', 'T1G', 'T1G', 'T1G', 'T1G', 'T1G', 'T1G', 'T1G', 'T1G', 'T1G', 'T1G', 'T1G', 'T1G', 'T1G', 'T1G', 'T1G', 'T1G', 'T1G', 'T1G', 'T1G', 'T1G', 'T1G', 'T1G', 'T1G', 'T1G', 'T1G', 'T1G', 'T1G', 'T1G', 'T1G', 'T1G', 'T1G', 'T1G', 'T1G', 'T1G', 'T1G', 'T1G', 'T1G', 'T1G', 'T1G', 'T1G', 'T1G', 'T1G', 'T1G', 'T1G', 'T1G', 'T1G', 'T1G', 'T1G', 'T1G', 'T1G', 'T1G', 'T1G', 'T1G', 'T1G', 'T1G', 'T1G', 'T1G', 'T1G', 'T1G', 'T1G', 'T1G', 'T1G', 'T1G', 'T1G', 'T1G', 'T1G', 'T1G', 'T1G', 'T1G', 'T1G', 'T1G', 'T1G', 'T1G', 'T1G', 'T1G', 'T1G', 'T1G', 'T1G', 'T1G', 'T1G', 'T1G', 'T1G', 'T1G', 'T1G', 'T1G', 'T1G', 'T1G', 'T1G', 'T1G', 'T1G', 'T1G', 'T1G', 'T1G', 'T1G', 'T1G', 'T1G', 'T1G', 'T1G', 'T1G', 'T1G', 'T1G', 'T1G', 'T1G', 'T1G', 'T1G', 'T1G', 'T1G', 'T1G', 'T1G', 'T1G', 'T1G', 'T1G', 'T1G', 'T1G', 'T1G', 'T1G', 'T1G', 'T1G', 'T1G', 'T1G', 'T1G', 'T1G', 'T1G', 'T1G', 'T1G', 'T1G', 'T1G', 'T1G', 'T1G', 'T1G', 'T1G', 'T1G', 'T1G', 'T1G', 'T1G', 'T1G', 'T1G', 'T1G', 'T1G', 'T1G', 'T1G', 'T1G', 'T1G', 'T1G', 'T1G', 'T1G', 'T1G', 'T1G', 'T1G', 'T1G', 'T1G', 'T1G', 'T1G', 'T1G', 'T1G', 'T1G', 'T1G', 'T1G', 'T1G', 'T1G', 'T1G', 'T1G', 'T1G', 'T1G', 'T1G', 'T1G', 'T1G', 'T1G', 'T1G', 'T1G', 'T1G', 'T1G', 'T1G', 'T1G', 'T1G', 'T1G', 'T1G', 'T1G', 'T1G', 'T1G', 'T1G', 'T1G', 'T1G', 'T1G', 'T1G', 'T1G', 'T1G', 'T1G', 'T1G', 'T1G', 'T1G', 'T1G', 'T1G', 'T1G', 'T1G', 'T1G', 'T1G', 'T1G', 'T1G', 'T1G', 'T1G', 'T1G', 'T1G', 'T1G', 'T1G', 'T1G', 'T1G', 'T1G', 'T1G', 'T1G', 'T1G', 'T1G', 'T1G', 'T1G', 'T1G', 'T1G', 'T1G', 'T1G', 'T1G', 'T1G', 'T1G', 'T1G', 'T1G', 'T1G', 'T1G', 'T1G', 'T1G', 'T1G', 'T1G', 'T1G', 'T1G', 'T1G', 'T1D', 'T1G', 'T1G', 'T1G', 'T1G', 'T1G', 'T1G', 'T1G', 'T1G', 'T1G', 'T1G', 'T1G', 'T1G', 'T1G', 'T1G', 'T1G', 'T1G', 'T1G', 'T1G', 'T1G', 'T1G', 'T1G', 'T1G', 'T1G', 'T1G', 'T1G', 'T1G', 'T1G', 'T1G', 'T1G', 'T1G', 'T1G', 'T1G', 'T1G', 'T1G', 'T1G', 'T1G', 'T1G', 'T1G', 'T1G', 'T1G', 'T1G', 'T1G', 'T1G', 'T1G', 'T1G', 'T1G', 'T1G', 'T1G', 'T1G', 'T1G', 'T1G', 'T1G', 'T1G', 'T1G', 'T1G', 'T1G', 'T1G', 'T1G', 'T1G', 'T1G', 'T1G', 'T1G', 'T1G', 'T1G', 'T1G', 'T1G', 'T1G', 'T1G', 'T1G', 'T1G', 'T1G', 'T1G', 'T1G', 'T1G', 'T1G', 'T1G', 'T1G', 'T1G', 'T1G', 'T1G', 'T1G', 'T1G', 'T1G', 'T1G', 'T1G', 'T1G', 'T1G', 'T1G', 'T1G', 'T1G', 'T1G', 'T1G', 'T1G', 'T1G', 'T1G', 'T1G', 'T1G', 'T1G', 'T1G', 'T1G', 'T1G', 'T1G', 'T1G', 'T1G', 'T1G', 'T1G', 'T1G', 'T1G', 'T1G', 'T1G', 'T1G', 'T1G', 'T1G', 'T1G', 'T1G', 'T1G', 'T1G', 'T1G', 'T1G', 'T1G', 'T1G', 'T1G', 'T1G', 'T1G', 'T1G', 'T1G', 'T1G', 'T1G', 'T1G', 'T1G', 'T1G', 'T1G', 'T1G', 'T1G', 'T1G', 'T1G', 'T1G', 'T1G', 'T1G', 'T1G', 'T1G', 'T1G', 'T1G', 'T1G', 'T1G', 'T1G', 'T1G', 'T1G', 'T1G', 'T1G', 'T1G', 'T1G', 'T1G', 'T1G', 'T1G', 'T1G', 'T1G', 'T1G', 'T1G', 'T1G', 'T1G', 'T1G', 'T1G', 'T1G', 'T1G', 'T1G', 'T1G', 'T1G', 'T1G', 'T1G', 'T1G', 'T1G', 'T1G', 'T1G', 'T1G', 'T1G', 'T1G', 'T1G', 'T1G', 'T1G', 'T1G', 'T1G', 'T1G', 'T1G', 'T1G', 'T1G', 'T1G', 'T1G', 'T1G', 'T1G', 'T1G', 'T1G', 'T1G', 'T1G', 'T1G', 'T1G', 'T1G', 'T1G', 'T1G', 'T1G', 'T1G', 'T1G', 'T1G', 'T1G', 'T1G', 'T1G', 'T1G', 'T1G', 'T1G', 'T1G', 'T1G', 'T1G', 'T1G', 'T1G', 'T1G', 'T1G', 'T1G', 'T1G', 'T1G', 'T1G', 'T1G', 'T1G', 'T1G', 'T1G', 'T1G', 'T1G', 'T1G', 'T1G', 'T1G', 'T1G', 'T1G', 'T1G', 'T1G', 'T1G', 'T1G', 'T1G', 'T1G', 'T1G', 'T1G', 'T1G', 'T1G', 'T1G', 'T1G', 'T1G', 'T1G', 'T1G', 'T1D', 'T1G', 'T1G', 'T1G', 'T1G', 'T1G', 'T1G', 'T1G', 'T1G', 'T1G', 'T1G', 'T1G', 'T1G', 'T1G', 'T1G', 'T1G', 'T1G', 'T1G', 'T1G', 'T1G', 'T1G', 'T1G', 'T1G', 'T1G', 'T1G', 'T1G', 'T1G', 'T1G', 'T1G', 'T1G', 'T1G', 'T1G', 'T1G', 'T1G', 'T1G', 'T1G', 'T1G', 'T1G', 'T1G', 'T1G', 'T1G', 'T1G', 'T1G', 'T1G', 'T1G', 'T1G', 'T1G', 'T1G', 'T1G', 'T1G', 'T1G', 'T1G', 'T1G', 'T1G', 'T1G', 'T1G', 'T1G', 'T1G', 'T1G', 'T1G', 'T1G', 'T1G', 'T1G', 'T1G', 'T1G', 'T1G', 'T1G', 'T1G', 'T1G', 'T1G', 'T1D', 'T1G', 'T1G', 'T1G', 'T1G', 'T1G', 'T1G', 'T1G', 'T1G', 'T1G', 'T1G', 'T1G', 'T1G', 'T1G', 'T1G', 'T1G', 'T1G', 'T1G', 'T1G', 'T1G', 'T1G', 'T1G', 'T1G', 'T1G', 'T1G', 'T1G', 'T1G', 'T1G', 'T1G', 'T1G', 'T1G', 'T1G', 'T1G', 'T1G', 'T1G', 'T1G', 'T1G', 'T1G', 'T1G', 'T1G', 'T1G', 'T1G', 'T1G', 'T1G', 'T1G', 'T1G', 'T1G', 'T1G', 'T1G', 'T1G', 'T1G', 'T1G', 'T1G', 'T1G', 'T1G', 'T1G', 'T1G', 'T1G', 'T1D', 'T1G', 'T1G', 'T1G', 'T1G', 'T1G', 'T1G', 'T1G', 'T1G', 'T1G', 'T1G', 'T1G', 'T1G', 'T1G', 'T1G', 'T1G', 'T1G', 'T1G', 'T1G', 'T1G', 'T1D', 'T1G', 'T1G', 'T1G', 'T1G', 'T1G', 'T1D', 'T1G', 'T1G', 'T1G', 'T1G', 'T1G', 'T1G', 'T1G', 'T1G', 'T1G', 'T1G', 'T1G', 'T1G', 'T1G', 'T1G', 'T1G', 'T1G', 'T1G', 'T1G', 'T1G', 'T1G', 'T1G', 'T1G', 'T1G', 'T1G', 'T1G', 'T1G', 'T1G', 'T1G', 'T1G', 'T1G', 'T1G', 'T1G', 'T1G', 'T1G', 'T1G', 'T1G', 'T1G', 'T1G', 'T1G', 'T1G', 'T1G', 'T1G', 'T1G', 'T1G', 'T1G', 'T1G', 'T1G', 'T1G', 'T1G', 'T1G', 'T1G', 'T1G', 'T1G', 'T1G', 'T1G', 'T1G', 'T1G', 'T1G', 'T1G', 'T1G', 'T1G', 'T1G', 'T1G', 'T1G', 'T1G', 'T1G', 'T1G', 'T1G', 'T1G', 'T1G', 'T1G', 'T1G', 'T1G', 'T1G', 'T1G', 'T1G', 'T1G', 'T1G', 'T1G', 'T1G', 'T1G', 'T1G', 'T1G', 'T1G', 'T1G', 'T1G', 'T1G', 'T1G', 'T1G', 'T1G', 'T1G', 'T1G', 'T1G', 'T1G', 'T1G', 'T1G', 'T1G', 'T1G', 'T1G', 'T1G', 'T1G', 'T1G', 'T1G', 'T1G', 'T1G', 'T1G', 'T1G', 'T1G', 'T1G', 'T1G', 'T1G', 'T1G', 'T1G', 'T1G', 'T1G', 'T1G', 'T1G', 'T1G', 'T1G', 'T1G', 'T1G', 'T1G', 'T1G', 'T1G', 'T1G', 'T1G', 'T1G', 'T1G', 'T1G', 'T1G', 'T1G', 'T1G', 'T1G', 'T1G', 'T1G', 'T1G', 'T1G', 'T1G', 'T1G', 'T1G', 'T1G', 'T1G', 'T1G', 'T1G', 'T1G', 'T1G', 'T1G', 'T1G', 'T1G', 'T1G', 'T1G', 'T1G', 'T1G', 'T1G', 'T1G', 'T1G', 'T1G', 'T1G', 'T1G', 'T1G', 'T1G', 'T1G', 'T1G', 'T1G', 'T1G', 'T1G', 'T1G', 'T1G', 'T1G', 'T1G', 'T1G', 'T1G', 'T1G', 'T1G', 'T1G', 'T1G', 'T1G', 'T1G', 'T1G', 'T1G', 'T1G', 'T1G', 'T1G', 'T1G', 'T1G', 'T1G', 'T1G', 'T1G', 'T1G', 'T1G', 'T1G', 'T1G', 'T1G', 'T1G', 'T1G', 'T1G', 'T1G', 'T1G', 'T1G', 'T1G', 'T1G', 'T1G', 'T1G', 'T1G', 'T1G', 'T1G', 'T1G', 'T1G', 'T1G', 'T1G', 'T1G', 'T1G', 'T1G', 'T1G', 'T1G', 'T1G', 'T1G', 'T1G', 'T1G', 'T1G', 'T1G', 'T1G', 'T1G', 'T1G', 'T1G', 'T1G', 'T1G', 'T1G', 'T1G', 'T1G', 'T1G', 'T1G', 'T1G', 'T1G', 'T1G', 'T1G', 'T1G', 'T1G', 'T1G', 'T1G', 'T1G', 'T1G', 'T1G', 'T1D', 'T1G', 'T1G', 'T1G', 'T1G', 'T1G', 'T1G', 'T1G', 'T1G', 'T1G', 'T1G', 'T1G', 'T1G', 'T1G', 'T1G', 'T1G', 'T1G', 'T1G', 'T1G', 'T1G', 'T1G', 'T1G', 'T1G', 'T1G', 'T1G', 'T1G', 'T1G', 'T1G', 'T1G', 'T1G', 'T1G', 'T1G', 'T1G', 'T1G', 'T1G', 'T1G', 'T1G', 'T1G', 'T1G', 'T1G', 'T1G', 'T1G', 'T1G', 'T1D', 'T1G', 'T1G', 'T1G', 'T1G', 'T1G', 'T1G', 'T1G', 'T1G', 'T1G', 'T1G', 'T1G', 'T1G', 'T1G', 'T1G', 'T1G', 'T1G', 'T1G', 'T1G', 'T1G', 'T1G', 'T1G', 'T1G', 'T1G', 'T1G', 'T1G', 'T1G', 'T1G', 'T1G', 'T1G', 'T1G', 'T1G', 'T1G', 'T1G', 'T1G', 'T1G', 'T1G', 'T1G', 'T1G', 'T1G', 'T1G', 'T1G', 'T1G', 'T1G', 'T1G', 'T1G', 'T1G', 'T1G', 'T1G', 'T1G', 'T1G', 'T1G', 'T1G', 'T1G', 'T1G', 'T1G', 'T1G', 'T1G', 'T1G', 'T1G', 'T1G', 'T1G', 'T1G', 'T1G', 'T1G', 'T1G', 'T1G', 'T1G', 'T1G', 'T1G', 'T1D', 'T1G', 'T1G', 'T1G', 'T1G', 'T1G', 'T1G', 'T1G', 'T1G', 'T1G', 'T1G', 'T1G', 'T1G', 'T1G', 'T1G', 'T1G', 'T1G', 'T1G', 'T1G', 'T1G', 'T1G', 'T1G', 'T1G', 'T1G', 'T1G', 'T1G', 'T1G', 'T1G', 'T1G', 'T1G', 'T1G', 'T1G', 'T1G', 'T1G', 'T1G', 'T1G', 'T1G', 'T1G', 'T1G', 'T1G', 'T1G', 'T1G', 'T1G', 'T1G', 'T1G', 'T1G', 'T1G', 'T1G', 'T1G', 'T1G', 'T1G', 'T1G', 'T1G', 'T1G', 'T1G', 'T1G', 'T1G', 'T1G', 'T1G', 'T1G', 'T1G', 'T1G', 'T1G', 'T1G', 'T1G', 'T1G', 'T1G', 'T1G', 'T1G', 'T1G', 'T1G', 'T1G', 'T1G', 'T1G', 'T1G', 'T1G', 'T1G', 'T1G', 'T1G', 'T1G', 'T1G', 'T1G', 'T1G', 'T1G', 'T1G', 'T1G', 'T1G', 'T1G', 'T1G', 'T1G', 'T1G', 'T1G', 'T1G', 'T1G', 'T1G', 'T1G', 'T1G', 'T1G', 'T1G', 'T1G', 'T1G', 'T1G', 'T1G', 'T1G', 'T1G', 'T1G', 'T1G', 'T1G', 'T1G', 'T1G', 'T1G', 'T1G', 'T1G', 'T1G', 'T1G', 'T1G', 'T1G', 'T1G', 'T1G', 'T1G', 'T1G', 'T1G', 'T1G', 'T1G', 'T1G', 'T1G', 'T1G', 'T1G', 'T1G', 'T1G', 'T1G', 'T1G', 'T1G', 'T1G', 'T1G', 'T1G', 'T1G', 'T1G', 'T1G', 'T1G', 'T1G', 'T1G', 'T1G', 'T1G', 'T1G', 'T1G', 'T1G', 'T1G', 'T1G', 'T1G', 'T1G', 'T1G', 'T1G', 'T1G', 'T1G', 'T1G', 'T1G', 'T1G', 'T1G', 'T1G', 'T1G', 'T1G', 'T1G', 'T1G', 'T1G', 'T1G', 'T1G', 'T1G', 'T1G', 'T1G', 'T1G', 'T1G', 'T1G', 'T1G', 'T1G', 'T1G', 'T1G', 'T1G', 'T1G', 'T1G', 'T1G', 'T1G', 'T1G', 'T1G', 'T1G', 'T1G', 'T1G', 'T1G', 'T1G', 'T1G', 'T1G', 'T1G', 'T1G', 'T1G', 'T1G', 'T1G', 'T1G', 'T1G', 'T1G', 'T1G', 'T1G', 'T1G', 'T1G', 'T1G', 'T1G', 'T1G', 'T1G', 'T1G', 'T1G', 'T1G', 'T1G', 'T1G', 'T1G', 'T1G', 'T1G', 'T1G', 'T1G', 'T1G', 'T1G', 'T1G', 'T1G', 'T1G', 'T1G', 'T1G', 'T1G', 'T1G', 'T1D', 'T1G', 'T1G', 'T1G', 'T1G', 'T1G', 'T1G', 'T1G', 'T1G', 'T1G', 'T1G', 'T1G', 'T1G', 'T1G', 'T1G', 'T1G', 'T1G', 'T1G', 'T1G', 'T1G', 'T1G', 'T1G', 'T1G', 'T1G', 'T1G', 'T1G', 'T1G', 'T1G', 'T1G', 'T1G', 'T1G', 'T1G', 'T1G', 'T1G', 'T1G', 'T1G', 'T1G', 'T1G', 'T1G', 'T1G', 'T1G', 'T1G', 'T1G', 'T1G', 'T1G', 'T1G', 'T1G', 'T1G', 'T1G', 'T1G', 'T1G', 'T1G', 'T1G', 'T1G', 'T1G', 'T1G', 'T1G', 'T1G', 'T1G', 'T1G', 'T1G', 'T1G', 'T1G', 'T1G', 'T1G', 'T1G', 'T1G', 'T1G', 'T1G', 'T1G', 'T1G', 'T1G', 'T1G', 'T1G', 'T1G', 'T1G', 'T1G', 'T1G', 'T1G', 'T1G', 'T1G', 'T1G', 'T1G', 'T1G', 'T1G', 'T1G', 'T1G', 'T1G', 'T1G', 'T1G', 'T1G', 'T1G', 'T1G', 'T1G', 'T1G', 'T1G', 'T1G', 'T1G', 'T1G', 'T1G', 'T1G', 'T1G', 'T1G', 'T1G', 'T1G', 'T1G', 'T1G', 'T1G', 'T1G', 'T1G', 'T1G', 'T1G', 'T1G', 'T1G', 'T1G', 'T1G', 'T1G', 'T1G', 'T1G', 'T1G', 'T1G', 'T1G', 'T1G', 'T1G', 'T1D', 'T1G', 'T1G', 'T1G', 'T1G', 'T1G', 'T1G', 'T1G', 'T1G', 'T1G', 'T1G', 'T1G', 'T1G', 'T1G', 'T1G', 'T1G', 'T1G', 'T1G', 'T1G', 'T1G', 'T1G', 'T1G', 'T1G', 'T1G', 'T1G', 'T1G', 'T1G', 'T1G', 'T1G', 'T1G', 'T1G', 'T1G', 'T1G', 'T1G', 'T1G', 'T1G', 'T1G', 'T1G', 'T1G', 'T1G', 'T1G', 'T1G', 'T1G', 'T1G', 'T1G', 'T1G', 'T1G', 'T1G', 'T1G', 'T1G', 'T1G', 'T1G', 'T1G', 'T1G', 'T1G', 'T1G', 'T1G', 'T1G', 'T1G', 'T1G', 'T1G', 'T1G', 'T1G', 'T1G', 'T1G', 'T1G', 'T1G', 'T1G', 'T1G', 'T1G', 'T1G', 'T1G', 'T1G', 'T1G', 'T1D', 'T1G', 'T1G', 'T1G', 'T1G', 'T1G', 'T1G', 'T1G', 'T1G', 'T1G', 'T1G', 'T1G', 'T1G', 'T1G', 'T1G', 'T1G', 'T1G', 'T1G', 'T1G', 'T1G', 'T1G', 'T1G', 'T1G', 'T1G', 'T1G', 'T1G', 'T1G', 'T1G', 'T1G', 'T1G', 'T1G', 'T1G', 'T1G', 'T1G', 'T1G', 'T1G', 'T1G', 'T1G', 'T1G', 'T1G', 'T1G', 'T1G', 'T1G', 'T1G', 'T1G', 'T1G', 'T1G', 'T1G', 'T1G', 'T1G', 'T1G', 'T1G', 'T1G', 'T1G', 'T1G', 'T1G', 'T1G', 'T1G', 'T1G', 'T1G', 'T1G', 'T1G', 'T1G', 'T1G', 'T1G', 'T1G', 'T1G', 'T1D', 'T1G', 'T1G', 'T1G', 'T1G', 'T1G', 'T1G', 'T1G', 'T1G', 'T1G', 'T1G', 'T1G', 'T1G', 'T1G', 'T1G', 'T1G', 'T1G', 'T1G', 'T1G', 'T1G', 'T1G', 'T1G', 'T1G', 'T1G', 'T1G', 'T1G', 'T1G', 'T1G', 'T1G', 'T1G', 'T1G', 'T1G', 'T1G', 'T1G', 'T1G', 'T1G', 'T1G', 'T1G', 'T1G', 'T1G', 'T1G', 'T1G', 'T1G', 'T1G', 'T1G', 'T1G', 'T1G', 'T1G', 'T1G', 'T1G', 'T1G', 'T1G', 'T1G', 'T1G', 'T1G', 'T1G', 'T1G', 'T1G', 'T1G', 'T1G', 'T1G', 'T1G', 'T1G', 'T1G', 'T1G', 'T1G', 'T1G', 'T1G', 'T1G', 'T1G', 'T1G', 'T1G', 'T1G', 'T1G', 'T1G', 'T1G', 'T1G', 'T1G', 'T1G', 'T1G', 'T1G', 'T1G', 'T1G', 'T1G', 'T1G', 'T1G', 'T1G', 'T1G', 'T1G', 'T1G', 'T1G', 'T1G', 'T1G', 'T1G', 'T1G', 'T1G', 'T1G', 'T1G', 'T1G', 'T1G', 'T1G', 'T1G', 'T1G', 'T1G', 'T1D', 'T1G', 'T1G', 'T1G', 'T1G', 'T1G', 'T1G', 'T1G', 'T1G', 'T1G', 'T1G', 'T1G', 'T1G', 'T1G', 'T1G', 'T1G', 'T1G', 'T1G', 'T1G', 'T1G', 'T1G', 'T1G', 'T1G', 'T1G', 'T1G', 'T1G', 'T1G', 'T1G', 'T1G', 'T1G', 'T1G', 'T1G', 'T1G', 'T1G', 'T1G', 'T1G', 'T1G', 'T1G', 'T1G', 'T1G', 'T1G', 'T1G', 'T1G', 'T1G', 'T1G', 'T1G', 'T1G', 'T1G', 'T1G', 'T1D', 'T1G', 'T1G', 'T1G', 'T1G', 'T1G', 'T1G', 'T1G', 'T1G', 'T1G', 'T1G', 'T1G', 'T1G', 'T1G', 'T1G', 'T1G', 'T1G', 'T1G', 'T1G', 'T1G', 'T1G', 'T1G', 'T1G', 'T1G', 'T1G', 'T1G', 'T1G', 'T1G', 'T1G', 'T1G', 'T1G', 'T1G', 'T1G', 'T1G', 'T1G', 'T1G', 'T1G', 'T1G', 'T1G', 'T1G', 'T1G', 'T1G', 'T1G', 'T1G', 'T1G', 'T1G', 'T1G', 'T1G', 'T1G', 'T1G', 'T1G', 'T1G', 'T1G', 'T1G', 'T1G', 'T1G', 'T1G', 'T1G', 'T1G', 'T1G', 'T1G', 'T1G', 'T1G', 'T1G', 'T1G', 'T1G', 'T1G', 'T1G', 'T1G', 'T1G', 'T1G', 'T1G', 'T1G', 'T1G', 'T1G', 'T1G', 'T1G', 'T1G', 'T1G', 'T1G', 'T1G', 'T1G', 'T1G', 'T1G', 'T1G', 'T1G', 'T1G', 'T1G', 'T1G', 'T1G', 'T1G', 'T1G', 'T1G', 'T1G', 'T1G', 'T1G', 'T1G', 'T1G', 'T1G', 'T1G', 'T1G', 'T1G', 'T1G', 'T1G', 'T1G', 'T1G', 'T1G', 'T1G', 'T1G', 'T1G', 'T1G', 'T1G', 'T1G', 'T1G', 'T1G', 'T1G', 'T1G', 'T1D', 'T1G', 'T1G', 'T1G', 'T1G', 'T1G', 'T1G', 'T1G', 'T1G', 'T1G', 'T1G', 'T1G', 'T1G', 'T1G', 'T1G', 'T1G', 'T1G', 'T1G', 'T1G', 'T1G', 'T1G', 'T1G', 'T1G', 'T1G', 'T1G', 'T1G', 'T1G', 'T1G', 'T1G', 'T1G', 'T1G', 'T1G', 'T1G', 'T1G', 'T1G', 'T1G', 'T1G', 'T1G', 'T1G', 'T1G', 'T1G', 'T1G', 'T1G', 'T1G', 'T1G', 'T1G', 'T1G', 'T1G', 'T1G', 'T1G', 'T1G', 'T1G', 'T1G', 'T1G', 'T1G', 'T1G', 'T1G', 'T1G', 'T1G', 'T1G', 'T1G', 'T1G', 'T1G', 'T1G', 'T1G', 'T1G', 'T1G', 'T1G', 'T1G', 'T1G', 'T1G', 'T1G', 'T1G', 'T1G', 'T1G', 'T1G', 'T1G', 'T1G', 'T1G', 'T1G', 'T1G', 'T1G', 'T1G', 'T1G', 'T1G', 'T1G', 'T1G', 'T1G', 'T1G', 'T1G', 'T1G', 'T1G', 'T1G', 'T1G', 'T1G', 'T1G', 'T1G', 'T1G', 'T1G', 'T1G', 'T1G', 'T1G', 'T1G', 'T1G', 'T1G', 'T1G', 'T1G', 'T1G', 'T1G', 'T1G', 'T1G', 'T1G', 'T1G', 'T1D', 'T1G', 'T1G', 'T1G', 'T1G', 'T1G', 'T1G', 'T1G', 'T1G', 'T1G', 'T1G', 'T1G', 'T1G', 'T1G', 'T1G', 'T1G', 'T1G', 'T1G', 'T1G', 'T1G', 'T1G', 'T1G', 'T1G', 'T1G', 'T1G', 'T1G', 'T1G', 'T1G', 'T1G', 'T1G', 'T1G', 'T1G', 'T1G', 'T1G', 'T1G', 'T1G', 'T1G', 'T1G', 'T1G', 'T1G', 'T1G', 'T1G', 'T1G', 'T1G', 'T1G', 'T1G', 'T1G', 'T1G', 'T1G', 'T1G', 'T1G', 'T1G', 'T1G', 'T1G', 'T1G', 'T1G', 'T1G', 'T1G', 'T1G', 'T1G', 'T1G', 'T1G', 'T1G', 'T1G', 'T1G', 'T1G', 'T1G', 'T1G', 'T1G', 'T1G', 'T1G', 'T1G', 'T1G', 'T1G', 'T1G', 'T1G', 'T1G', 'T1G', 'T1G', 'T1G', 'T1G', 'T1G', 'T1G', 'T1G', 'T1G', 'T1G', 'T1G', 'T1G', 'T1G', 'T1G', 'T1G', 'T1G', 'T1G', 'T1G', 'T1G', 'T1G', 'T1G', 'T1G', 'T1G', 'T1G', 'T1G', 'T1G', 'T1G', 'T1G', 'T1G', 'T1G', 'T1G', 'T1G', 'T1G', 'T1G', 'T1G', 'T1G', 'T1G', 'T1G', 'T1G', 'T1G', 'T1G', 'T1G', 'T1D', 'T1G', 'T1G', 'T1G', 'T1G', 'T1G', 'T1G', 'T1G', 'T1G', 'T1G', 'T1G', 'T1G', 'T1G', 'T1G', 'T1G', 'T1G', 'T1G', 'T1G', 'T1G', 'T1G', 'T1G', 'T1G', 'T1G', 'T1G', 'T1G', 'T1G', 'T1G', 'T1D', 'T1G', 'T1G', 'T1G', 'T1G', 'T1G', 'T1G', 'T1G', 'T1D', 'T1G', 'T1G', 'T1G', 'T1G', 'T1G', 'T1G', 'T1G', 'T1G', 'T1G', 'T1G', 'T1G', 'T1G', 'T1G', 'T1G', 'T1G', 'T1G', 'T1G', 'T1G', 'T1G', 'T1G', 'T1G', 'T1G', 'T1G', 'T1G', 'T1G', 'T1G', 'T1G', 'T1G', 'T1G', 'T1G', 'T1G', 'T1G', 'T1G', 'T1G', 'T1G', 'T1G', 'T1G', 'T1G', 'T1G', 'T1G', 'T1G', 'T1G', 'T1G', 'T1G', 'T1G', 'T1G', 'T1G', 'T1G', 'T1G', 'T1G', 'T1G', 'T1G', 'T1G', 'T1G', 'T1G', 'T1G', 'T1G', 'T1G', 'T1G', 'T1G', 'T1G', 'T1G', 'T1G', 'T1G', 'T1G', 'T1G', 'T1G', 'T1G', 'T1G', 'T1G', 'T1G', 'T1G', 'T1G', 'T1G', 'T1G', 'T1G', 'T1G', 'T1G', 'T1G', 'T1G', 'T1G', 'T1G', 'T1G', 'T1G', 'T1G', 'T1G', 'T1G', 'T1G', 'T1G', 'T1G', 'T1G', 'T1G', 'T1G', 'T1G', 'T1G', 'T1G', 'T1G', 'T1G', 'T1G', 'T1G', 'T1G', 'T1G', 'T1G', 'T1G', 'T1G', 'T1G', 'T1G', 'T1G', 'T1G', 'T1G', 'T1G', 'T1G', 'T1G', 'T1G', 'T1G', 'T1G', 'T1G', 'T1G', 'T1G', 'T1G', 'T1G', 'T1G', 'T1G', 'T1G', 'T1G', 'T1G', 'T1G', 'T1G', 'T1G', 'T1G', 'T1G', 'T1G', 'T1G', 'T1G', 'T1G', 'T1G', 'T1G', 'T1G', 'T1G', 'T1G', 'T1G', 'T1G', 'T1G', 'T1G', 'T1G', 'T1G', 'T1G', 'T1G', 'T1G', 'T1G', 'T1G', 'T1G', 'T1G', 'T1G', 'T1G', 'T1G', 'T1G', 'T1G', 'T1G', 'T1G', 'T1D', 'T1G', 'T1G', 'T1G', 'T1G', 'T1G', 'T1G', 'T1G', 'T1G', 'T1G', 'T1G', 'T1G', 'T1D', 'T1G', 'T1G', 'T1G', 'T1G', 'T1G', 'T1G', 'T1G', 'T1G', 'T1G', 'T1G', 'T1G', 'T1G', 'T1G', 'T1G', 'T1G', 'T1G', 'T1G', 'T1G', 'T1G', 'T1G', 'T1G', 'T1G', 'T1G', 'T1G', 'T1G', 'T1G', 'T1G', 'T1G', 'T1G', 'T1G', 'T1G', 'T1G', 'T1G', 'T1G', 'T1G', 'T1G', 'T1G', 'T1G', 'T1G', 'T1G', 'T1G', 'T1G', 'T1G', 'T1G', 'T1G', 'T1G', 'T1G', 'T1G', 'T1G', 'T1G', 'T1G', 'T1G', 'T1G', 'T1G', 'T1G', 'T1G', 'T1G', 'T1G', 'T1G', 'T1G', 'T1G', 'T1G', 'T1G', 'T1G', 'T1G', 'T1G', 'T1G', 'T1G', 'T1G', 'T1G', 'T1G', 'T1G', 'T1G', 'T1G', 'T1G', 'T1G', 'T1G', 'T1G', 'T1G', 'T1G', 'T1G', 'T1G', 'T1G', 'T1G', 'T1G', 'T1G', 'T1G', 'T1G', 'T1G', 'T1G', 'T1G', 'T1G', 'T1G', 'T1G', 'T1G', 'T1G', 'T1G', 'T1D', 'T1G', 'T1G', 'T1G', 'T1G', 'T1G', 'T1G', 'T1G', 'T1G', 'T1G', 'T1G', 'T1G', 'T1G', 'T1G', 'T1G', 'T1G', 'T1G', 'T1G', 'T1G', 'T1G', 'T1G', 'T1D', 'T1G', 'T1G', 'T1G', 'T1G', 'T1G', 'T1G', 'T1G', 'T1G', 'T1G', 'T1G', 'T1G', 'T1G', 'T1G', 'T1G', 'T1G', 'T1G', 'T1G', 'T1G', 'T1G', 'T1G', 'T1G', 'T1G', 'T1G', 'T1G', 'T1G', 'T1G', 'T1G', 'T1G', 'T1G', 'T1G', 'T1G', 'T1G', 'T1G', 'T1G', 'T1G', 'T1G', 'T1G', 'T1G', 'T1G', 'T1G', 'T1G', 'T1G', 'T1G', 'T1G', 'T1G', 'T1G', 'T1G', 'T1G', 'T1G', 'T1G', 'T1G', 'T1G', 'T1G', 'T1G', 'T1G', 'T1G', 'T1G', 'T1G', 'T1G', 'T1G', 'T1G', 'T1G', 'T1G', 'T1G', 'T1G', 'T1G', 'T1G', 'T1G', 'T1G', 'T1G', 'T1G', 'T1G', 'T1G', 'T1G', 'T1D', 'T1G', 'T1G', 'T1G', 'T1G', 'T1G', 'T1G', 'T1G', 'T1G', 'T1G', 'T1G', 'T1G', 'T1G', 'T1G', 'T1G', 'T1G', 'T1G', 'T1G', 'T1G', 'T1G', 'T1G', 'T1G', 'T1G', 'T1G', 'T1G', 'T1G', 'T1G', 'T1G', 'T1G', 'T1G', 'T1G', 'T1G', 'T1G', 'T1G', 'T1G', 'T1G', 'T1G', 'T1G', 'T1G', 'T1G', 'T1G', 'T1G', 'T1G', 'T1G', 'T1G', 'T1G', 'T1G', 'T1G', 'T1G', 'T1G', 'T1G', 'T1G', 'T1G', 'T1G', 'T1G', 'T1G', 'T1G', 'T1G', 'T1G', 'T1G', 'T1G', 'T1G', 'T1G', 'T1G', 'T1G', 'T1G', 'T1G', 'T1G', 'T1G', 'T1G', 'T1G', 'T1G', 'T1G', 'T1G', 'T1G', 'T1G', 'T1G', 'T1G', 'T1G', 'T1G', 'T1G', 'T1G', 'T1G', 'T1G', 'T1G', 'T1G', 'T1G', 'T1G', 'T1G', 'T1G', 'T1G', 'T1G', 'T1G', 'T1G', 'T1G', 'T1G', 'T1G', 'T1G', 'T1G', 'T1G', 'T1G', 'T1G', 'T1G', 'T1G', 'T1G', 'T1G', 'T1G', 'T1G', 'T1G', 'T1G', 'T1G', 'T1G', 'T1G', 'T1G', 'T1G', 'T1G', 'T1G', 'T1G', 'T1G', 'T1G', 'T1G', 'T1G', 'T1G', 'T1G', 'T1G', 'T1G', 'T1G', 'T1G', 'T1G', 'T1G', 'T1G', 'T1G', 'T1G', 'T1G', 'T1G', 'T1G', 'T1G', 'T1G', 'T1G', 'T1G', 'T1G', 'T1G', 'T1G', 'T1G', 'T1G', 'T1G', 'T1G', 'T1G', 'T1G', 'T1G', 'T1G', 'T1G', 'T1G', 'T1G', 'T1G', 'T1G', 'T1G', 'T1G', 'T1G', 'T1G', 'T1G', 'T1G', 'T1G', 'T1G', 'T1G', 'T1G', 'T1G', 'T1G', 'T1G', 'T1G', 'T1G', 'T1G', 'T1G', 'T1G', 'T1G', 'T1G', 'T1G', 'T1G', 'T1G', 'T1G', 'T1G', 'T1G', 'T1G', 'T1G', 'T1G', 'T1G', 'T1G', 'T1G', 'T1G', 'T1G', 'T1G', 'T1G', 'T1G', 'T1G', 'T1G', 'T1G', 'T1G', 'T1G', 'T1G', 'T1G', 'T1G', 'T1G', 'T1G', 'T1G', 'T1G', 'T1G', 'T1G', 'T1G', 'T1G', 'T1G', 'T1G', 'T1G', 'T1G', 'T1G', 'T1G', 'T1G', 'T1G', 'T1G', 'T1G', 'T1G', 'T1G', 'T1G', 'T1G', 'T1G', 'T1G', 'T1G', 'T1G', 'T1G', 'T1G', 'T1G', 'T1G', 'T1G', 'T1G', 'T1G', 'T1G', 'T1G', 'T1G', 'T1G', 'T1G', 'T1G', 'T1G', 'T1G', 'T1G', 'T1G', 'T1G', 'T1G', 'T1G', 'T1G', 'T1G', 'T1G', 'T1G', 'T1G', 'T1G', 'T1G', 'T1G', 'T1G', 'T1G', 'T1G', 'T1G', 'T1G', 'T1G', 'T1G', 'T1G', 'T1G', 'T1G', 'T1G', 'T1G', 'T1G', 'T1G', 'T1G', 'T1G', 'T1G', 'T1G', 'T1G', 'T1G', 'T1G', 'T1G', 'T1G', 'T1G', 'T1G', 'T1G', 'T1G', 'T1G', 'T1G', 'T1G', 'T1G', 'T1G', 'T1G', 'T1G', 'T1D', 'T1G', 'T1G', 'T1G', 'T1G', 'T1G', 'T1G', 'T1G', 'T1G', 'T1G', 'T1G', 'T1G', 'T1G', 'T1G', 'T1G', 'T1G', 'T1G', 'T1G', 'T1G', 'T1G', 'T1G', 'T1G', 'T1G', 'T1G', 'T1G', 'T1G', 'T1G', 'T1G', 'T1G', 'T1G', 'T1G', 'T1G', 'T1G', 'T1G', 'T1G', 'T1G', 'T1G', 'T1G', 'T1G', 'T1G', 'T1G', 'T1G', 'T1G', 'T1G', 'T1G', 'T1G', 'T1G', 'T1G', 'T1G', 'T1G', 'T1G', 'T1G', 'T1G', 'T1G', 'T1G', 'T1G', 'T1G', 'T1G', 'T1G', 'T1G', 'T1G', 'T1G', 'T1G', 'T1G', 'T1G', 'T1G', 'T1G', 'T1G', 'T1G', 'T1G', 'T1G', 'T1G', 'T1G', 'T1G', 'T1G', 'T1G', 'T1G', 'T1G', 'T1G', 'T1G', 'T1G', 'T1G', 'T1G', 'T1G', 'T1G', 'T1G', 'T1G', 'T1G', 'T1G', 'T1G', 'T1G', 'T1G', 'T1G', 'T1G', 'T1G', 'T1G', 'T1G', 'T1G', 'T1G', 'T1G', 'T1G', 'T1G', 'T1G', 'T1G', 'T1G', 'T1G', 'T1G', 'T1G', 'T1G', 'T1G', 'T1G', 'T1G', 'T1G', 'T1G', 'T1G', 'T1G', 'T1G', 'T1G', 'T1G', 'T1G', 'T1G', 'T1G', 'T1G', 'T1G', 'T1G', 'T1G', 'T1G', 'T1G', 'T1G', 'T1G', 'T1G', 'T1G', 'T1G', 'T1G', 'T1G', 'T1G', 'T1G', 'T1G', 'T1G', 'T1G', 'T1G', 'T1G', 'T1G', 'T1G', 'T1G', 'T1G', 'T1G', 'T1G', 'T1G', 'T1G', 'T1G', 'T1G', 'T1G', 'T1G', 'T1G', 'T1G', 'T1G', 'T1G', 'T1G', 'T1G', 'T1G', 'T1G', 'T1G', 'T1G', 'T1G', 'T1G', 'T1G', 'T1G', 'T1G', 'T1G', 'T1G', 'T1G', 'T1G', 'T1G', 'T1G', 'T1G', 'T1G', 'T1G', 'T1G', 'T1G', 'T1G', 'T1G', 'T1G', 'T1G', 'T1G', 'T1G', 'T1G', 'T1G', 'T1G', 'T1G', 'T1G', 'T1G', 'T1G', 'T1G', 'T1G', 'T1G', 'T1G', 'T1G', 'T1G', 'T1G', 'T1G', 'T1G', 'T1G', 'T1G', 'T1G', 'T1G', 'T1G', 'T1G', 'T1G', 'T1G', 'T1G', 'T1G', 'T1G', 'T1G', 'T1G', 'T1G', 'T1G', 'T1G', 'T1G', 'T1G', 'T1G', 'T1G', 'T1G', 'T1G', 'T1G', 'T1G', 'T1G', 'T1G', 'T1G', 'T1G', 'T1G', 'T1G', 'T1G', 'T1G', 'T1G', 'T1G', 'T1G', 'T1G', 'T1G', 'T1G', 'T1G', 'T1G', 'T1G', 'T1G', 'T1G', 'T1G', 'T1G', 'T1G', 'T1G', 'T1G', 'T1G', 'T1G', 'T1G', 'T1G', 'T1G', 'T1G', 'T1G', 'T1G', 'T1G', 'T1G', 'T1G', 'T1G', 'T1G', 'T1G', 'T1G', 'T1G', 'T1G', 'T1G', 'T1G', 'T1G', 'T1G', 'T1G', 'T1G', 'T1G', 'T1G', 'T1G', 'T1G', 'T1G', 'T1G', 'T1G', 'T1G', 'T1G', 'T1G', 'T1G', 'T1G', 'T1G', 'T1G', 'T1G', 'T1G', 'T1G', 'T1G', 'T1G', 'T1G', 'T1G', 'T1G', 'T1G', 'T1G', 'T1G', 'T1G', 'T1G', 'T1G', 'T1G', 'T1G', 'T1G', 'T1G', 'T1G', 'T1G', 'T1G', 'T1G', 'T1G', 'T1G', 'T1G', 'T1G', 'T1G', 'T1G', 'T1G', 'T1G', 'T1G', 'T1G', 'T1G', 'T1G', 'T1G', 'T1G', 'T1G', 'T1G', 'T1G', 'T1G', 'T1G', 'T1G', 'T1G', 'T1G', 'T1G', 'T1G', 'T1G', 'T1G', 'T1G', 'T1G', 'T1G', 'T1G', 'T1G', 'T1G', 'T1G', 'T1G', 'T1G', 'T1G', 'T1G', 'T1G', 'T1G', 'T1G', 'T1G', 'T1G', 'T1G', 'T1G', 'T1G', 'T1G', 'T1G', 'T1G', 'T1G', 'T1G', 'T1G', 'T1G', 'T1G', 'T1G', 'T1G', 'T1G', 'T1G', 'T1G', 'T1G', 'T1G', 'T1G', 'T1G', 'T1G', 'T1G', 'T1G', 'T1G', 'T1G', 'T1G', 'T1G', 'T1G', 'T1G', 'T1G', 'T1G', 'T1G', 'T1G', 'T1G', 'T1G', 'T1G', 'T1G', 'T1G', 'T1G', 'T1G', 'T1G', 'T1G', 'T1G', 'T1G', 'T1G', 'T1G', 'T1G', 'T1G', 'T1G', 'T1G', 'T1G', 'T1G', 'T1G', 'T1G', 'T1D', 'T1G', 'T1D', 'T1G', 'T1G', 'T1G', 'T1G', 'T1G', 'T1G', 'T1G', 'T1G', 'T1G', 'T1G', 'T1G', 'T1G', 'T1G', 'T1G', 'T1G', 'T1G', 'T1G', 'T1G', 'T1G', 'T1G', 'T1G', 'T1G', 'T1G', 'T1G', 'T1G', 'T1G', 'T1G', 'T1G', 'T1G', 'T1G', 'T1G', 'T1G', 'T1G', 'T1G', 'T1G', 'T1G', 'T1G', 'T1G', 'T1G', 'T1G', 'T1G', 'T1G', 'T1G', 'T1G', 'T1G', 'T1G', 'T1G', 'T1G', 'T1G', 'T1G', 'T1G', 'T1G', 'T1G', 'T1G', 'T1G', 'T1G', 'T1G', 'T1G', 'T1G', 'T1G', 'T1G', 'T1G', 'T1G', 'T1G', 'T1G', 'T1G', 'T1G', 'T1G', 'T1G', 'T1G', 'T1G', 'T1G', 'T1G', 'T1G', 'T1G', 'T1G', 'T1G', 'T1G', 'T1G', 'T1G', 'T1G', 'T1G', 'T1G', 'T1G', 'T1G', 'T1G', 'T1G', 'T1G', 'T1G', 'T1G', 'T1G', 'T1G', 'T1G', 'T1G', 'T1G', 'T1G', 'T1G', 'T1G', 'T1G', 'T1G', 'T1G', 'T1G', 'T1G', 'T1G', 'T1G', 'T1G', 'T1G', 'T1G', 'T1G', 'T1G', 'T1G', 'T1G', 'T1G', 'T1G', 'T1G', 'T1G', 'T1G', 'T1G', 'T1G', 'T1G', 'T1G', 'T1G', 'T1G', 'T1G', 'T1G', 'T1G', 'T1G', 'T1G', 'T1G', 'T1G', 'T1G', 'T1G', 'T1G', 'T1G', 'T1G', 'T1G', 'T1G', 'T1G', 'T1G', 'T1G', 'T1G', 'T1G', 'T1G', 'T1G', 'T1G', 'T1G', 'T1G', 'T1G', 'T1G', 'T1G', 'T1G', 'T1G', 'T1G', 'T1G', 'T1G', 'T1G', 'T1G', 'T1G', 'T1G', 'T1G', 'T1G', 'T1G', 'T1G', 'T1G', 'T1G', 'T1G', 'T1G', 'T1G', 'T1G', 'T1G', 'T1G', 'T1G', 'T1G', 'T1G', 'T1G', 'T1G', 'T1G', 'T1G', 'T1G', 'T1G', 'T1G', 'T1G', 'T1G', 'T1G', 'T1G', 'T1G', 'T1G', 'T1G', 'T1G', 'T1G', 'T1G', 'T1G', 'T1G', 'T1G', 'T1G', 'T1G', 'T1G', 'T1G', 'T1G', 'T1G', 'T1G', 'T1G', 'T1G', 'T1G', 'T1G', 'T1G', 'T1G', 'T1G', 'T1G', 'T1G', 'T1G', 'T1G', 'T1G', 'T1G', 'T1G', 'T1G', 'T1D', 'T1G', 'T1G', 'T1G', 'T1G', 'T1G', 'T1G', 'T1G', 'T1G', 'T1G', 'T1G', 'T1G', 'T1G', 'T1G', 'T1G', 'T1G', 'T1G', 'T1G', 'T1G', 'T1G', 'T1G', 'T1G', 'T1G', 'T1G', 'T1G', 'T1G', 'T1G', 'T1G', 'T1G', 'T1G', 'T1G', 'T1G', 'T1G', 'T1G', 'T1G', 'T1G', 'T1G', 'T1G', 'T1G', 'T1G', 'T1G', 'T1G', 'T1G', 'T1G', 'T1G', 'T1G', 'T1G', 'T1G', 'T1G', 'T1G', 'T1G', 'T1G', 'T1G', 'T1G', 'T1G', 'T1G', 'T1G', 'T1G', 'T1G', 'T1G', 'T1G', 'T1G', 'T1G', 'T1G', 'T1G', 'T1G', 'T1G', 'T1G', 'T1G', 'T1G', 'T1G', 'T1G', 'T1G', 'T1G', 'T1G', 'T1G', 'T1G', 'T1G', 'T1G', 'T1G', 'T1G', 'T1G', 'T1G', 'T1G', 'T1G', 'T1G', 'T1G', 'T1G', 'T1G', 'T1G', 'T1G', 'T1G', 'T1G', 'T1G', 'T1G', 'T1G', 'T1G', 'T1G', 'T1G', 'T1G', 'T1G', 'T1G', 'T1G', 'T1G', 'T1G', 'T1G', 'T1G', 'T1G', 'T1G', 'T1G', 'T1G', 'T1G', 'T1G', 'T1G', 'T1G', 'T1G', 'T1G', 'T1G', 'T1G', 'T1G', 'T1G', 'T1G', 'T1G', 'T1G', 'T1G', 'T1G', 'T1G', 'T1G', 'T1G', 'T1G', 'T1G', 'T1G', 'T1G', 'T1G', 'T1G', 'T1G', 'T1G', 'T1G', 'T1G', 'T1G', 'T1G', 'T1G', 'T1G', 'T1G', 'T1G', 'T1G', 'T1G', 'T1G', 'T1G', 'T1G', 'T1G', 'T1G', 'T1G', 'T1G', 'T1G', 'T1G', 'T1G', 'T1G', 'T1G', 'T1G', 'T1G', 'T1G', 'T1G', 'T1G', 'T1G', 'T1G', 'T1G', 'T1G', 'T1G', 'T1G', 'T1G', 'T1G', 'T1G', 'T1G', 'T1G', 'T1G', 'T1G', 'T1G', 'T1G', 'T1G', 'T1G', 'T1G', 'T1G', 'T1G', 'T1G', 'T1G', 'T1G', 'T1G', 'T1G', 'T1G', 'T1G', 'T1G', 'T1G', 'T1G', 'T1G', 'T1G', 'T1G', 'T1G', 'T1G', 'T1G', 'T1G', 'T1G', 'T1G', 'T1G', 'T1G', 'T1G', 'T1G', 'T1G', 'T1G', 'T1G', 'T1G', 'T1G', 'T1G', 'T1G', 'T1G', 'T1G', 'T1G', 'T1G', 'T1G', 'T1G', 'T1G', 'T1G', 'T1G', 'T1G', 'T1G', 'T1G', 'T1G', 'T1G', 'T1G', 'T1G', 'T1G', 'T1G', 'T1G', 'T1G', 'T1G', 'T1G', 'T1G', 'T1G', 'T1G', 'T1G', 'T1G', 'T1G', 'T1G', 'T1G', 'T1G', 'T1G', 'T1G', 'T1G', 'T1G', 'T1G', 'T1G', 'T1G', 'T1G', 'T1G', 'T1G', 'T1G', 'T1G', 'T1G', 'T1G', 'T1G', 'T1G', 'T1G', 'T1G', 'T1G', 'T1G', 'T1G', 'T1G', 'T1G', 'T1G', 'T1G', 'T1G', 'T1G', 'T1G', 'T1G', 'T1G', 'T1G', 'T1G', 'T1G', 'T1G', 'T1G', 'T1G', 'T1G', 'T1G', 'T1G', 'T1G', 'T1G', 'T1G', 'T1G', 'T1G', 'T1G', 'T1G', 'T1G', 'T1G', 'T1G', 'T1G', 'T1G', 'T1D', 'T1G', 'T1G', 'T1G', 'T1G', 'T1G', 'T1G', 'T1D', 'T1G', 'T1G', 'T1G', 'T1G', 'T1G', 'T1G', 'T1G', 'T1G', 'T1G', 'T1G', 'T1G', 'T1G', 'T1G', 'T1G', 'T1G', 'T1G', 'T1G', 'T1G', 'T1G', 'T1G', 'T1G', 'T1G', 'T1G', 'T1G', 'T1G', 'T1G', 'T1G', 'T1G', 'T1G', 'T1G', 'T1G', 'T1G', 'T1G', 'T1G', 'T1G', 'T1G', 'T1G', 'T1G', 'T1G', 'T1G', 'T1G', 'T1G', 'T1G', 'T1G', 'T1G', 'T1G', 'T1G', 'T1G', 'T1G', 'T1G', 'T1G', 'T1G', 'T1G', 'T1G', 'T1G', 'T1G', 'T1G', 'T1G', 'T1G', 'T1G', 'T1G', 'T1G', 'T1G', 'T1G', 'T1G', 'T1G', 'T1G', 'T1G', 'T1G', 'T1G', 'T1G', 'T1G', 'T1G', 'T1G', 'T1G', 'T1G', 'T1G', 'T1G', 'T1G', 'T1G', 'T1G', 'T1G', 'T1G', 'T1G', 'T1G', 'T1G', 'T1G', 'T1G', 'T1G', 'T1G', 'T1G', 'T1G', 'T1G', 'T1G', 'T1G', 'T1G', 'T1G', 'T1G', 'T1G', 'T1G', 'T1G', 'T1G', 'T1G', 'T1G', 'T1G', 'T1G', 'T1G', 'T1G', 'T1G', 'T1G', 'T1G', 'T1G', 'T1G', 'T1G', 'T1G', 'T1G', 'T1G', 'T1G', 'T1G', 'T1G', 'T1D', 'T1G', 'T1G', 'T1G', 'T1G', 'T1G', 'T1G', 'T1G', 'T1G', 'T1G', 'T1G', 'T1G', 'T1G', 'T1G', 'T1G', 'T1G', 'T1G', 'T1G', 'T1G', 'T1G', 'T1G', 'T1G', 'T1G', 'T1G', 'T1G', 'T1G', 'T1G', 'T1G', 'T1G', 'T1G', 'T1G', 'T1D', 'T1G', 'T1G', 'T1G', 'T1G', 'T1G', 'T1G', 'T1G', 'T1G', 'T1G', 'T1G', 'T1G', 'T1G', 'T1G', 'T1G', 'T1G', 'T1G', 'T1G', 'T1G', 'T1G', 'T1G', 'T1G', 'T1G', 'T1G', 'T1G', 'T1G', 'T1G', 'T1G', 'T1G', 'T1G', 'T1G', 'T1G', 'T1G', 'T1G', 'T1G', 'T1G', 'T1G', 'T1G', 'T1G', 'T1G', 'T1G', 'T1G', 'T1G', 'T1G', 'T1G', 'T1G', 'T1G', 'T1G', 'T1G', 'T1G', 'T1G', 'T1G', 'T1G', 'T1G', 'T1G', 'T1G', 'T1G', 'T1G', 'T1G', 'T1G', 'T1G', 'T1G', 'T1G', 'T1G', 'T1G', 'T1G', 'T1G', 'T1G', 'T1D', 'T1G', 'T1G', 'T1G', 'T1G', 'T1G', 'T1G', 'T1G', 'T1G', 'T1G', 'T1G', 'T1G', 'T1G', 'T1G', 'T1G', 'T1G', 'T1G', 'T1G', 'T1G', 'T1G', 'T1G', 'T1G', 'T1G', 'T1G', 'T1G', 'T1G', 'T1G', 'T1G', 'T1G', 'T1G', 'T1G', 'T1G', 'T1D', 'T1G', 'T1G', 'T1G', 'T1D', 'T1G', 'T1G', 'T1G', 'T1G', 'T1G', 'T1G', 'T1G', 'T1G', 'T1G', 'T1G', 'T1G', 'T1G', 'T1G', 'T1G', 'T1G', 'T1G', 'T1G', 'T1G', 'T1G', 'T1G', 'T1G', 'T1G', 'T1G', 'T1G', 'T1G', 'T1G', 'T1G', 'T1G', 'T1G', 'T1G', 'T1G', 'T1G', 'T1G', 'T1G', 'T1G', 'T1G', 'T1G', 'T1G', 'T1G', 'T1G', 'T1G', 'T1G', 'T1G', 'T1G', 'T1G', 'T1G', 'T1G', 'T1G', 'T1G', 'T1G', 'T1G', 'T1G', 'T1G', 'T1G', 'T1G', 'T1G', 'T1G', 'T1G', 'T1G', 'T1G', 'T1G', 'T1G', 'T1G', 'T1G', 'T1G', 'T1G', 'T1G', 'T1G', 'T1G', 'T1G', 'T1G', 'T1G', 'T1G', 'T1G', 'T1G', 'T1G', 'T1G', 'T1G', 'T1G', 'T1G', 'T1G', 'T1G', 'T1G', 'T1G', 'T1G', 'T1G', 'T1G', 'T1G', 'T1G', 'T1G', 'T1G', 'T1G', 'T1G', 'T1G', 'T1G', 'T1G', 'T1G', 'T1G', 'T1G', 'T1G', 'T1G', 'T1G', 'T1G', 'T1G', 'T1G', 'T1G', 'T1G', 'T1G', 'T1G', 'T1G', 'T1G', 'T1G', 'T1G', 'T1G', 'T1G', 'T1G', 'T1G', 'T1G', 'T1G', 'T1G', 'T1G', 'T1G', 'T1G', 'T1G', 'T1G', 'T1G', 'T1G', 'T1G', 'T1G', 'T1G', 'T1G', 'T1G', 'T1G', 'T1G', 'T1G', 'T1G', 'T1G', 'T1G', 'T1G', 'T1G', 'T1G', 'T1G', 'T1G', 'T1G', 'T1G', 'T1G', 'T1G', 'T1G', 'T1G', 'T1G', 'T1G', 'T1G', 'T1G', 'T1G', 'T1G', 'T1G', 'T1G', 'T1G', 'T1G', 'T1G', 'T1G', 'T1G', 'T1G', 'T1G', 'T1G', 'T1G', 'T1G', 'T1G', 'T1G', 'T1G', 'T1G', 'T1G', 'T1G', 'T1G', 'T1G', 'T1G', 'T1G', 'T1G', 'T1G', 'T1G', 'T1G', 'T1G', 'T1G', 'T1G', 'T1G', 'T1D', 'T1G', 'T1G', 'T1G', 'T1G', 'T1G', 'T1G', 'T1G', 'T1G', 'T1G', 'T1G', 'T1G', 'T1G', 'T1G', 'T1G', 'T1G', 'T1G', 'T1G', 'T1G', 'T1G', 'T1G', 'T1G', 'T1G', 'T1G', 'T1G', 'T1G', 'T1G', 'T1G', 'T1G', 'T1G', 'T1G', 'T1G', 'T1G', 'T1G', 'T1G', 'T1G', 'T1G', 'T1G', 'T1G', 'T1G', 'T1G', 'T1G', 'T1G', 'T1G', 'T1G', 'T1G', 'T1G', 'T1G', 'T1G', 'T1G', 'T1G', 'T1G', 'T1G', 'T1G', 'T1G', 'T1G', 'T1G', 'T1G', 'T1G', 'T1G', 'T1G', 'T1G', 'T1G', 'T1G', 'T1G', 'T1G', 'T1G', 'T1G', 'T1G', 'T1G', 'T1G', 'T1G', 'T1G', 'T1G', 'T1G', 'T1G', 'T1G', 'T1G', 'T1G', 'T1G', 'T1G', 'T1G', 'T1G', 'T1G', 'T1G', 'T1G', 'T1G', 'T1G', 'T1G', 'T1G', 'T1G', 'T1G', 'T1G', 'T1G', 'T1G', 'T1G', 'T1G', 'T1G', 'T1G', 'T1G', 'T1G', 'T1G', 'T1G', 'T1G', 'T1G', 'T1G', 'T1G', 'T1G', 'T1G', 'T1G', 'T1G', 'T1G', 'T1G', 'T1G', 'T1G', 'T1G', 'T1G', 'T1G', 'T1G', 'T1G', 'T1G', 'T1G', 'T1G', 'T1G', 'T1G', 'T1G', 'T1G', 'T1G', 'T1G', 'T1G', 'T1G', 'T1G', 'T1G', 'T1G', 'T1G', 'T1G', 'T1G', 'T1G', 'T1G', 'T1G', 'T1G', 'T1G', 'T1G', 'T1G', 'T1G', 'T1G', 'T1G', 'T1G', 'T1G', 'T1G', 'T1G', 'T1G', 'T1G', 'T1G', 'T1G', 'T1G', 'T1G', 'T1G', 'T1G', 'T1G', 'T1G', 'T1G', 'T1G', 'T1G', 'T1G', 'T1G', 'T1G', 'T1G', 'T1G', 'T1G', 'T1G', 'T1G', 'T1G', 'T1G', 'T1G', 'T1G', 'T1G', 'T1G', 'T1G', 'T1G', 'T1G', 'T1G', 'T1G', 'T1G', 'T1G', 'T1G', 'T1G', 'T1G', 'T1G', 'T1G', 'T1G', 'T1G', 'T1G', 'T1G', 'T1G', 'T1G', 'T1G', 'T1G', 'T1G', 'T1G', 'T1G', 'T1G', 'T1G', 'T1G', 'T1G', 'T1G', 'T1G', 'T1G', 'T1G', 'T1G', 'T1G', 'T1G', 'T1G', 'T1G', 'T1G', 'T1G', 'T1G', 'T1G', 'T1G', 'T1G', 'T1G', 'T1G', 'T1G', 'T1G', 'T1G', 'T1G', 'T1G', 'T1G', 'T1G', 'T1G', 'T1G', 'T1G', 'T1G', 'T1G', 'T1G', 'T1G', 'T1G', 'T1G', 'T1G', 'T1G', 'T1G', 'T1G', 'T1G', 'T1G', 'T1G', 'T1G', 'T1G', 'T1G', 'T1G', 'T1G', 'T1G', 'T1G', 'T1G', 'T1G', 'T1G', 'T1G', 'T1G', 'T1G', 'T1G', 'T1G', 'T1G', 'T1G', 'T1G', 'T1G', 'T1G', 'T1G', 'T1G', 'T1G', 'T1G', 'T1G', 'T1G', 'T1G', 'T1G', 'T1G', 'T1G', 'T1G', 'T1G', 'T1G', 'T1G', 'T1G', 'T1G', 'T1G', 'T1G', 'T1G', 'T1G', 'T1G', 'T1G', 'T1G', 'T1G', 'T1G', 'T1G', 'T1G', 'T1G', 'T1G', 'T1G', 'T1G', 'T1G', 'T1G', 'T1G', 'T1G', 'T1G', 'T1G', 'T1G', 'T1G', 'T1G', 'T1G', 'T1G', 'T1G', 'T1G', 'T1G', 'T1G', 'T1G', 'T1G', 'T1G', 'T1G', 'T1G', 'T1G', 'T1G', 'T1G', 'T1G', 'T1G', 'T1G', 'T1G', 'T1G', 'T1G', 'T1G', 'T1G', 'T1G', 'T1G', 'T1G', 'T1G', 'T1G', 'T1G', 'T1G', 'T1G', 'T1G', 'T1G', 'T1G', 'T1G', 'T1G', 'T1G', 'T1G', 'T1G', 'T1G', 'T1G', 'T1G', 'T1G', 'T1G', 'T1G', 'T1G', 'T1G', 'T1G', 'T1G', 'T1G', 'T1G', 'T1G', 'T1G', 'T1G', 'T1G', 'T1G', 'T1G', 'T1G', 'T1G', 'T1G', 'T1G', 'T1G', 'T1G', 'T1G', 'T1G', 'T1G', 'T1G', 'T1G', 'T1G', 'T1G', 'T1G', 'T1G', 'T1G', 'T1G', 'T1G', 'T1G', 'T1G', 'T1G', 'T1G', 'T1G', 'T1G', 'T1G', 'T1G', 'T1G', 'T1G', 'T1G', 'T1G', 'T1G', 'T1G', 'T1G', 'T1G', 'T1G', 'T1G', 'T1G', 'T1G', 'T1G', 'T1G', 'T1G', 'T1G', 'T1G', 'T1G', 'T1G', 'T1G', 'T1G', 'T1G', 'T1G', 'T1G', 'T1G', 'T1G', 'T1G', 'T1G', 'T1G', 'T1G', 'T1G', 'T1G', 'T1G', 'T1G', 'T1G', 'T1G', 'T1G', 'T1G', 'T1G', 'T1G', 'T1G', 'T1G', 'T1G', 'T1G', 'T1G', 'T1G', 'T1G', 'T1G', 'T1G', 'T1G', 'T1G', 'T1G', 'T1G', 'T1G', 'T1G', 'T1G', 'T1G', 'T1G', 'T1G', 'T1G', 'T1G', 'T1G', 'T1G', 'T1G', 'T1G', 'T1G', 'T1G', 'T1G', 'T1G', 'T1G', 'T1G', 'T1G', 'T1G', 'T1G', 'T1G', 'T1G', 'T1G', 'T1G', 'T1G', 'T1G', 'T1G', 'T1G', 'T1G', 'T1G', 'T1G', 'T1G', 'T1G', 'T1G', 'T1G', 'T1G', 'T1G', 'T1G', 'T1G', 'T1G', 'T1G', 'T1G', 'T1G', 'T1G', 'T1G', 'T1G', 'T1G', 'T1G', 'T1G', 'T1G', 'T1G', 'T1G', 'T1G', 'T1G', 'T1G', 'T1G', 'T1G', 'T1G', 'T1G', 'T1G', 'T1G', 'T1G', 'T1G', 'T1G', 'T1G', 'T1G', 'T1G', 'T1G', 'T1G', 'T1G', 'T1G', 'T1G', 'T1G', 'T1G', 'T1G', 'T1G', 'T1G', 'T1G', 'T1G', 'T1G', 'T1G', 'T1G', 'T1G', 'T1G', 'T1G', 'T1G', 'T1G', 'T1G', 'T1G', 'T1G', 'T1G', 'T1G', 'T1G', 'T1G', 'T1G', 'T1G', 'T1G', 'T1G', 'T1G', 'T1G', 'T1G', 'T1G', 'T1G', 'T1G', 'T1G', 'T1G', 'T1G', 'T1G', 'T1G', 'T1G', 'T1G', 'T1G', 'T1G', 'T1G', 'T1G', 'T1G', 'T1G', 'T1G', 'T1G', 'T1G', 'T1G', 'T1G', 'T1G', 'T1G', 'T1G', 'T1G', 'T1G', 'T1G', 'T1G', 'T1G', 'T1G', 'T1G', 'T1G', 'T1G', 'T1G', 'T1G', 'T1G', 'T1G', 'T1G', 'T1G', 'T1G', 'T1G', 'T1G', 'T1G', 'T1G', 'T1G', 'T1G', 'T1G', 'T1G', 'T1G', 'T1G', 'T1G', 'T1G', 'T1G', 'T1D', 'T1G', 'T1G', 'T1G', 'T1G', 'T1G', 'T1G', 'T1G', 'T1G', 'T1G', 'T1G', 'T1G', 'T1G', 'T1G', 'T1G', 'T1G', 'T1G', 'T1G', 'T1G', 'T1G', 'T1G', 'T1G', 'T1G', 'T1G', 'T1G', 'T1G', 'T1G', 'T1G', 'T1G', 'T1G', 'T1G', 'T1G', 'T1G', 'T1G', 'T1G', 'T1G', 'T1G', 'T1G', 'T1G', 'T1G', 'T1G', 'T1G', 'T1G', 'T1G', 'T1G', 'T1G', 'T1G', 'T1G', 'T1G', 'T1G', 'T1G', 'T1G', 'T1G', 'T1G', 'T1G', 'T1G', 'T1G', 'T1G', 'T1G', 'T1G', 'T1G', 'T1G', 'T1G', 'T1G', 'T1G', 'T1G', 'T1G', 'T1G', 'T1G', 'T1G', 'T1G', 'T1G', 'T1G', 'T1G', 'T1G', 'T1G', 'T1G', 'T1G', 'T1G', 'T1G', 'T1G', 'T1G', 'T1G', 'T1G', 'T1G', 'T1G', 'T1G', 'T1G', 'T1G', 'T1G', 'T1G', 'T1G', 'T1G', 'T1G', 'T1G', 'T1G', 'T1G', 'T1G', 'T1G', 'T1G', 'T1G', 'T1G', 'T1G', 'T1G', 'T1G', 'T1G', 'T1G', 'T1G', 'T1G', 'T1G', 'T1G', 'T1G', 'T1G', 'T1G', 'T1G', 'T1G', 'T1G', 'T1G', 'T1G', 'T1G', 'T1G', 'T1G', 'T1G', 'T1G', 'T1G', 'T1G', 'T1G', 'T1G', 'T1G', 'T1G', 'T1G', 'T1G', 'T1G', 'T1D', 'T1G', 'T1G', 'T1G', 'T1G', 'T1G', 'T1G', 'T1G', 'T1G', 'T1G', 'T1G', 'T1G', 'T1G', 'T1G', 'T1G', 'T1G', 'T1G', 'T1G', 'T1G', 'T1G', 'T1G', 'T1G', 'T1G', 'T1G', 'T1G', 'T1G', 'T1G', 'T1G', 'T1G', 'T1G', 'T1G', 'T1G', 'T1G', 'T1G', 'T1G', 'T1G', 'T1G', 'T1G', 'T1G', 'T1G', 'T1G', 'T1G', 'T1G', 'T1G', 'T1G', 'T1G', 'T1G', 'T1G', 'T1G', 'T1G', 'T1G', 'T1G', 'T1G', 'T1G', 'T1G', 'T1G', 'T1G', 'T1G', 'T1G', 'T1G', 'T1G', 'T1G', 'T1G', 'T1G', 'T1G', 'T1G', 'T1G', 'T1G', 'T1G', 'T1G', 'T1G', 'T1G', 'T1G', 'T1G', 'T1G', 'T1G', 'T1G', 'T1G', 'T1G', 'T1G', 'T1G', 'T1G', 'T1G', 'T1G', 'T1G', 'T1G', 'T1G', 'T1G', 'T1G', 'T1G', 'T1G', 'T1G', 'T1G', 'T1G', 'T1G', 'T1G', 'T1G', 'T1G', 'T1G', 'T1G', 'T1G', 'T1G', 'T1G', 'T1G', 'T1G', 'T1G', 'T1G', 'T1G', 'T1G', 'T1G', 'T1G', 'T1G', 'T1G', 'T1G', 'T1G', 'T1G', 'T1G', 'T1G', 'T1G', 'T1G', 'T1G', 'T1G', 'T1G', 'T1G', 'T1G', 'T1G', 'T1G', 'T1G', 'T1G', 'T1G', 'T1G', 'T1G', 'T1G', 'T1G', 'T1G', 'T1G', 'T1G', 'T1G', 'T1G', 'T1G', 'T1G', 'T1G', 'T1G', 'T1G', 'T1G', 'T1G', 'T1G', 'T1G', 'T1G', 'T1G', 'T1G', 'T1G', 'T1G', 'T1G', 'T1G', 'T1G', 'T1G', 'T1G', 'T1G', 'T1G', 'T1G', 'T1G', 'T1G', 'T1G', 'T1G', 'T1G', 'T1G', 'T1G', 'T1G', 'T1G', 'T1G', 'T1G', 'T1G', 'T1G', 'T1G', 'T1G', 'T1G', 'T1G', 'T1G', 'T1G', 'T1G', 'T1G', 'T1G', 'T1G', 'T1G', 'T1G', 'T1G', 'T1G', 'T1G', 'T1G', 'T1G', 'T1G', 'T1G', 'T1G', 'T1G', 'T1G', 'T1G', 'T1G', 'T1G', 'T1G', 'T1G', 'T1G', 'T1G', 'T1G', 'T1G', 'T1G', 'T1G', 'T1G', 'T1G', 'T1G', 'T1G', 'T1G', 'T1G', 'T1G', 'T1G', 'T1G', 'T1G', 'T1G', 'T1G', 'T1G', 'T1G', 'T1G', 'T1G', 'T1G', 'T1G', 'T1G', 'T1G', 'T1G', 'T1G', 'T1G', 'T1G', 'T1G', 'T1G', 'T1G', 'T1G', 'T1G', 'T1G', 'T1G', 'T1G', 'T1G', 'T1G', 'T1G', 'T1G', 'T1G', 'T1G', 'T1G', 'T1G', 'T1G', 'T1G', 'T1G', 'T1G', 'T1G', 'T1G', 'T1G', 'T1G', 'T1G', 'T1G', 'T1G', 'T1G', 'T1G', 'T1G', 'T1G', 'T1G', 'T1G', 'T1G', 'T1G', 'T1G', 'T1G', 'T1G', 'T1G', 'T1G', 'T1G', 'T1G', 'T1G', 'T1G', 'T1G', 'T1G', 'T1G', 'T1G', 'T1G', 'T1G', 'T1G', 'T1G', 'T1G', 'T1G', 'T1G', 'T1G', 'T1G', 'T1G', 'T1G', 'T1G', 'T1G', 'T1G', 'T1G', 'T1G', 'T1G', 'T1G', 'T1G', 'T1G', 'T1G', 'T1G', 'T1G', 'T1G', 'T1G', 'T1G', 'T1G', 'T1G', 'T1G', 'T1G', 'T1G', 'T1G', 'T1G', 'T1G', 'T1G', 'T1G', 'T1G', 'T1G', 'T1G', 'T1G', 'T1G', 'T1G', 'T1G', 'T1G', 'T1G', 'T1G', 'T1G', 'T1G', 'T1G', 'T1G', 'T1G', 'T1G', 'T1G', 'T1G', 'T1G', 'T1G', 'T1G', 'T1G', 'T1G', 'T1G', 'T1G', 'T1G', 'T1G', 'T1G', 'T1G', 'T1G', 'T1G', 'T1D', 'T1G', 'T1G', 'T1G', 'T1G', 'T1G', 'T1G', 'T1G', 'T1G', 'T1G', 'T1G', 'T1G', 'T1G', 'T1G', 'T1G', 'T1G', 'T1G', 'T1G', 'T1G', 'T1G', 'T1G', 'T1G', 'T1G', 'T1G', 'T1G', 'T1G', 'T1G', 'T1G', 'T1G', 'T1G', 'T1G', 'T1G', 'T1G', 'T1G', 'T1G', 'T1G', 'T1G', 'T1G', 'T1G', 'T1G', 'T1G', 'T1G', 'T1G', 'T1G', 'T1G', 'T1G', 'T1G', 'T1G', 'T1G', 'T1G', 'T1G', 'T1G', 'T1G', 'T1G', 'T1G', 'T1G', 'T1G', 'T1G', 'T1G', 'T1G', 'T1G', 'T1G', 'T1G', 'T1G', 'T1G', 'T1G', 'T1G', 'T1G', 'T1G', 'T1G', 'T1G', 'T1G', 'T1G', 'T1G', 'T1G', 'T1G', 'T1G', 'T1G', 'T1G', 'T1G', 'T1G', 'T1G', 'T1G', 'T1G', 'T1G', 'T1G', 'T1G', 'T1G', 'T1G', 'T1G', 'T1G', 'T1G', 'T1G', 'T1G', 'T1G', 'T1G', 'T1G', 'T1G', 'T1G', 'T1G', 'T1G', 'T1G', 'T1G', 'T1G', 'T1G', 'T1G', 'T1G', 'T1G', 'T1G', 'T1G', 'T1G', 'T1G', 'T1G', 'T1G', 'T1G', 'T1G', 'T1G', 'T1G', 'T1G', 'T1G', 'T1G', 'T1G', 'T1G', 'T1G', 'T1G', 'T1G', 'T1G', 'T1G', 'T1G', 'T1G', 'T1G', 'T1G', 'T1G', 'T1G', 'T1G', 'T1G', 'T1G', 'T1G', 'T1G', 'T1G', 'T1G', 'T1G', 'T1G', 'T1G', 'T1G', 'T1G', 'T1G', 'T1D', 'T1G', 'T1G', 'T1G', 'T1G', 'T1G', 'T1G', 'T1G', 'T1G', 'T1G', 'T1G', 'T1G', 'T1G', 'T1G', 'T1G', 'T1G', 'T1G', 'T1G', 'T1G', 'T1G', 'T1G', 'T1G', 'T1G', 'T1G', 'T1G', 'T1G', 'T1G', 'T1G', 'T1G', 'T1G', 'T1G', 'T1G', 'T1G', 'T1G', 'T1G', 'T1G', 'T1G', 'T1G', 'T1G', 'T1G', 'T1G', 'T1G', 'T1G', 'T1G', 'T1G', 'T1G', 'T1G', 'T1G', 'T1G', 'T1G', 'T1G', 'T1G', 'T1G', 'T1G', 'T1G', 'T1G', 'T1G', 'T1G', 'T1G', 'T1G', 'T1G', 'T1G', 'T1G', 'T1G', 'T1G', 'T1G', 'T1G', 'T1G', 'T1G', 'T1G', 'T1G', 'T1G', 'T1G', 'T1G', 'T1G', 'T1G', 'T1G', 'T1G', 'T1G', 'T1G', 'T1G', 'T1G', 'T1G', 'T1G', 'T1G', 'T1G', 'T1G', 'T1G', 'T1G', 'T1G', 'T1G', 'T1G', 'T1G', 'T1G', 'T1G', 'T1G', 'T1G', 'T1G', 'T1G', 'T1G', 'T1G', 'T1G', 'T1G', 'T1G', 'T1G', 'T1G', 'T1G', 'T1G', 'T1G', 'T1G', 'T1G', 'T1G', 'T1G', 'T1G', 'T1G', 'T1G', 'T1G', 'T1G', 'T1G', 'T1G', 'T1G', 'T1G', 'T1G', 'T1G', 'T1G', 'T1G', 'T1G', 'T1G', 'T1G', 'T1G', 'T1G', 'T1G', 'T1G', 'T1G', 'T1G', 'T1G', 'T1G', 'T1G', 'T1G', 'T1G', 'T1G', 'T1G', 'T1G', 'T1G', 'T1G', 'T1G', 'T1G', 'T1G', 'T1G', 'T1G', 'T1G', 'T1G', 'T1G', 'T1G', 'T1G', 'T1G', 'T1G', 'T1G', 'T1G', 'T1G', 'T1G', 'T1G', 'T1G', 'T1G', 'T1G', 'T1G', 'T1G', 'T1G', 'T1G', 'T1G', 'T1G', 'T1G', 'T1G', 'T1G', 'T1G', 'T1G', 'T1G', 'T1G', 'T1G', 'T1G', 'T1G', 'T1G', 'T1G', 'T1G', 'T1G', 'T1G', 'T1G', 'T1G', 'T1G', 'T1G', 'T1G', 'T1G', 'T1G', 'T1G', 'T1G', 'T1G', 'T1G', 'T1G', 'T1G', 'T1G', 'T1G', 'T1G', 'T1G', 'T1G', 'T1G', 'T1G', 'T1G', 'T1G', 'T1G', 'T1G', 'T1G', 'T1G', 'T1G', 'T1G', 'T1G', 'T1G', 'T1G', 'T1G', 'T1G', 'T1G', 'T1G', 'T1G', 'T1G', 'T1G', 'T1G', 'T1G', 'T1G', 'T1G', 'T1G', 'T1G', 'T1G', 'T1G', 'T1G', 'T1G', 'T1D', 'T1G', 'T1G', 'T1G', 'T1G', 'T1G', 'T1G', 'T1G', 'T1G', 'T1G', 'T1G', 'T1G', 'T1G', 'T1G', 'T1G', 'T1G', 'T1G', 'T1G', 'T1G', 'T1G', 'T1G', 'T1G', 'T1G', 'T1G', 'T1G', 'T1G', 'T1G', 'T1D', 'T1G', 'T1G', 'T1G', 'T1G', 'T1G', 'T1G', 'T1G', 'T1G', 'T1G', 'T1G', 'T1G', 'T1G', 'T1G', 'T1G', 'T1G', 'T1G', 'T1G', 'T1G', 'T1G', 'T1G', 'T1G', 'T1G', 'T1G', 'T1G', 'T1G', 'T1G', 'T1G', 'T1G', 'T1G', 'T1G', 'T1G', 'T1G', 'T1G', 'T1G', 'T1G', 'T1G', 'T1G', 'T1G', 'T1G', 'T1G', 'T1G', 'T1G', 'T1G', 'T1G', 'T1G', 'T1G', 'T1G', 'T1G', 'T1G', 'T1G', 'T1G', 'T1G', 'T1G', 'T1G', 'T1G', 'T1G', 'T1G', 'T1G', 'T1G', 'T1G', 'T1G', 'T1G', 'T1G', 'T1G', 'T1G', 'T1G', 'T1G', 'T1G', 'T1G', 'T1G', 'T1G', 'T1G', 'T1G', 'T1G', 'T1G', 'T1G', 'T1G', 'T1G', 'T1G', 'T1G', 'T1G', 'T1G', 'T1D', 'T1G', 'T1G', 'T1G', 'T1G', 'T1G', 'T1G', 'T1G', 'T1G', 'T1G', 'T1G', 'T1G', 'T1G', 'T1G', 'T1G', 'T1G', 'T1G', 'T1G', 'T1G', 'T1G', 'T1G', 'T1G', 'T1G', 'T1G', 'T1G', 'T1G', 'T1G', 'T1G', 'T1G', 'T1D', 'T1G', 'T1G', 'T1G', 'T1G', 'T1G', 'T1G', 'T1G', 'T1G', 'T1G', 'T1G', 'T1G', 'T1G', 'T1G', 'T1G', 'T1G', 'T1G', 'T1G', 'T1G', 'T1G', 'T1G', 'T1G', 'T1G', 'T1G', 'T1G', 'T1G', 'T1G', 'T1G', 'T1G', 'T1G', 'T1G', 'T1G', 'T1G', 'T1G', 'T1G', 'T1G', 'T1G', 'T1G', 'T1G', 'T1G', 'T1G', 'T1G', 'T1G', 'T1G', 'T1G', 'T1G', 'T1G', 'T1G', 'T1G', 'T1G', 'T1G', 'T1G', 'T1G', 'T1G', 'T1G', 'T1G', 'T1G', 'T1G', 'T1G', 'T1G', 'T1G', 'T1G', 'T1G', 'T1G', 'T1G', 'T1G', 'T1G', 'T1G', 'T1G', 'T1G', 'T1G', 'T1G', 'T1G', 'T1G', 'T1G', 'T1G', 'T1G', 'T1G', 'T1G', 'T1G', 'T1G', 'T1G', 'T1G', 'T1G', 'T1G', 'T1G', 'T1G', 'T1G', 'T1G', 'T1G', 'T1G', 'T1G', 'T1G', 'T1G', 'T1G', 'T1G', 'T1G', 'T1G', 'T1G', 'T1G', 'T1G', 'T1G', 'T1G', 'T1G', 'T1G', 'T1G', 'T1G', 'T1G', 'T1G', 'T1G', 'T1G', 'T1G', 'T1G', 'T1G', 'T1G', 'T1G', 'T1G', 'T1G', 'T1G', 'T1G', 'T1G', 'T1G', 'T1G', 'T1D', 'T1G', 'T1G', 'T1G', 'T1G', 'T1G', 'T1G', 'T1G', 'T1G', 'T1G', 'T1G', 'T1G', 'T1G', 'T1G', 'T1G', 'T1G', 'T1G', 'T1G', 'T1G', 'T1G', 'T1G', 'T1G', 'T1G', 'T1G', 'T1G', 'T1G', 'T1G', 'T1G', 'T1G', 'T1G', 'T1G', 'T1G', 'T1G', 'T1G', 'T1G', 'T1G', 'T1G', 'T1G', 'T1G', 'T1G', 'T1G', 'T1G', 'T1G', 'T1G', 'T1G', 'T1G', 'T1G', 'T1G', 'T1G', 'T1G', 'T1G', 'T1D', 'T1G', 'T1G', 'T1G', 'T1G', 'T1G', 'T1G', 'T1G', 'T1G', 'T1G', 'T1G', 'T1G', 'T1G', 'T1G', 'T1G', 'T1G', 'T1G', 'T1G', 'T1G', 'T1G', 'T1G', 'T1G', 'T1G', 'T1G', 'T1G', 'T1G', 'T1G', 'T1G', 'T1G', 'T1G', 'T1G', 'T1G', 'T1G', 'T1G', 'T1G', 'T1G', 'T1G', 'T1G', 'T1G', 'T1G', 'T1G', 'T1G', 'T1G', 'T1G', 'T1G', 'T1G', 'T1G', 'T1G', 'T1G', 'T1G', 'T1G', 'T1G', 'T1G', 'T1G', 'T1G', 'T1G', 'T1G', 'T1G', 'T1G', 'T1G', 'T1G', 'T1G', 'T1G', 'T1G', 'T1G', 'T1G', 'T1G', 'T1G', 'T1G', 'T1G', 'T1G', 'T1G', 'T1G', 'T1G', 'T1G', 'T1D', 'T1G', 'T1G', 'T1G', 'T1G', 'T1G', 'T1G', 'T1G', 'T1G', 'T1G', 'T1G', 'T1G', 'T1G', 'T1G', 'T1G', 'T1G', 'T1G', 'T1G', 'T1G', 'T1G', 'T1G', 'T1G', 'T1G', 'T1G', 'T1G', 'T1G', 'T1G', 'T1G', 'T1G', 'T1G', 'T1G', 'T1G', 'T1G', 'T1G', 'T1G', 'T1G', 'T1G', 'T1G', 'T1G', 'T1G', 'T1G', 'T1G', 'T1G', 'T1G', 'T1G', 'T1G', 'T1G', 'T1G', 'T1G', 'T1G', 'T1G', 'T1G', 'T1G', 'T1G', 'T1G', 'T1G', 'T1G', 'T1G', 'T1G', 'T1G', 'T1G', 'T1G', 'T1G', 'T1G', 'T1G', 'T1G', 'T1G', 'T1G', 'T1G', 'T1G', 'T1G', 'T1G', 'T1G', 'T1G', 'T1G', 'T1G', 'T1G', 'T1G', 'T1G', 'T1G', 'T1G', 'T1G', 'T1G', 'T1G', 'T1G', 'T1G', 'T1G', 'T1G', 'T1G', 'T1G', 'T1G', 'T1G', 'T1G', 'T1G', 'T1G', 'T1G', 'T1G', 'T1G', 'T1G', 'T1G', 'T1G', 'T1G', 'T1G', 'T1G', 'T1G', 'T1G', 'T1G', 'T1G', 'T1G', 'T1G', 'T1G', 'T1G', 'T1G', 'T1G', 'T1G', 'T1G', 'T1G', 'T1G', 'T1G', 'T1G', 'T1G', 'T1G', 'T1G', 'T1G', 'T1G', 'T1G', 'T1G', 'T1G', 'T1G', 'T1G', 'T1G', 'T1G', 'T1G', 'T1G', 'T1G', 'T1G', 'T1G', 'T1G', 'T1G', 'T1G', 'T1G', 'T1G', 'T1G', 'T1G', 'T1G', 'T1G', 'T1G', 'T1G', 'T1G', 'T1G', 'T1G', 'T1G', 'T1G', 'T1G', 'T1G', 'T1G', 'T1G', 'T1G', 'T1G', 'T1G', 'T1G', 'T1G', 'T1G', 'T1G', 'T1G', 'T1G', 'T1G', 'T1G', 'T1G', 'T1G', 'T1G', 'T1G', 'T1G', 'T1G', 'T1G', 'T1G', 'T1G', 'T1G', 'T1G', 'T1G', 'T1G', 'T1G', 'T1G', 'T1G', 'T1G', 'T1G', 'T1G', 'T1G', 'T1G', 'T1G', 'T1G', 'T1G', 'T1G', 'T1G', 'T1G', 'T1G', 'T1G', 'T1G', 'T1G', 'T1G', 'T1G', 'T1G', 'T1G', 'T1G', 'T1G', 'T1G', 'T1G', 'T1G', 'T1G', 'T1G', 'T1G', 'T1G', 'T1G', 'T1G', 'T1G', 'T1G', 'T1G', 'T1G', 'T1G', 'T1G', 'T1G', 'T1G', 'T1G', 'T1G', 'T1G', 'T1G', 'T1G', 'T1G', 'T1G', 'T1G', 'T1G', 'T1G', 'T1G', 'T1G', 'T1G', 'T1G', 'T1G', 'T1G', 'T1G', 'T1G', 'T1G', 'T1G', 'T1G', 'T1G', 'T1G', 'T1G', 'T1G', 'T1G', 'T1G', 'T1G', 'T1G', 'T1G', 'T1G', 'T1G', 'T1G', 'T1D', 'T1G', 'T1G', 'T1G', 'T1G', 'T1G', 'T1G', 'T1G', 'T1G', 'T1G', 'T1G', 'T1G', 'T1G', 'T1G', 'T1G', 'T1G', 'T1G', 'T1G', 'T1G', 'T1G', 'T1G', 'T1G', 'T1G', 'T1G', 'T1G', 'T1G', 'T1G', 'T1G', 'T1G', 'T1G', 'T1G', 'T1G', 'T1G', 'T1G', 'T1G', 'T1G', 'T1G', 'T1G', 'T1G', 'T1G', 'T1G', 'T1G', 'T1D', 'T1G', 'T1G', 'T1G', 'T1G', 'T1G', 'T1G', 'T1G', 'T1G', 'T1G', 'T1G', 'T1G', 'T1G', 'T1G', 'T1G', 'T1G', 'T1G', 'T1G', 'T1G', 'T1G', 'T1G', 'T1G', 'T1G', 'T1G', 'T1G', 'T1G', 'T1G', 'T1G', 'T1G', 'T1G', 'T1G', 'T1G', 'T1G', 'T1G', 'T1G', 'T1G', 'T1G', 'T1G', 'T1G', 'T1G', 'T1G', 'T1G', 'T1G', 'T1G', 'T1G', 'T1G', 'T1G', 'T1G', 'T1D', 'T1G', 'T1G', 'T1G', 'T1G', 'T1G', 'T1G', 'T1G', 'T1G', 'T1G', 'T1G', 'T1G', 'T1G', 'T1G', 'T1G', 'T1G', 'T1G', 'T1G', 'T1G', 'T1G', 'T1G', 'T1G', 'T1G', 'T1G', 'T1G', 'T1G', 'T1G', 'T1G', 'T1G', 'T1G', 'T1G', 'T1G', 'T1G', 'T1G', 'T1G', 'T1G', 'T1G', 'T1G', 'T1G', 'T1G', 'T1G', 'T1G', 'T1G', 'T1G', 'T1G', 'T1G', 'T1G', 'T1G', 'T1D', 'T1G', 'T1G', 'T1G', 'T1G', 'T1G', 'T1G', 'T1G', 'T1G', 'T1G', 'T1G', 'T1G', 'T1G', 'T1G', 'T1G', 'T1G', 'T1G', 'T1G', 'T1G', 'T1G', 'T1G', 'T1G', 'T1G', 'T1G', 'T1G', 'T1G', 'T1G', 'T1G', 'T1G', 'T1G', 'T1G', 'T1G', 'T1G', 'T1G', 'T1G', 'T1G', 'T1G', 'T1G', 'T1G', 'T1G', 'T1G', 'T1G', 'T1G', 'T1G', 'T1G', 'T1G', 'T1G', 'T1G', 'T1G', 'T1G', 'T1G', 'T1G', 'T1G', 'T1G', 'T1G', 'T1G', 'T1G', 'T1G', 'T1G', 'T1G', 'T1G', 'T1G', 'T1G', 'T1G', 'T1G', 'T1G', 'T1G', 'T1G', 'T1G', 'T1G', 'T1G', 'T1G', 'T1G', 'T1G', 'T1G', 'T1G', 'T1G', 'T1G', 'T1G', 'T1D', 'T1G', 'T1G', 'T1G', 'T1G', 'T1G', 'T1G', 'T1G', 'T1G', 'T1G', 'T1G', 'T1G', 'T1G', 'T1G', 'T1G', 'T1G', 'T1G', 'T1G', 'T1G', 'T1G', 'T1G', 'T1G', 'T1G', 'T1G', 'T1G', 'T1G', 'T1G', 'T1G', 'T1G', 'T1G', 'T1G', 'T1G', 'T1G', 'T1G', 'T1G', 'T1G', 'T1G', 'T1G', 'T1G', 'T1G', 'T1G', 'T1G', 'T1G', 'T1G', 'T1G', 'T1G', 'T1G', 'T1G', 'T1G', 'T1G', 'T1G', 'T1G', 'T1G', 'T1G', 'T1G', 'T1G', 'T1G', 'T1G', 'T1G', 'T1G', 'T1G', 'T1G', 'T1G', 'T1G', 'T1G', 'T1G', 'T1D', 'T1G', 'T1G', 'T1G', 'T1G', 'T1G', 'T1G', 'T1G', 'T1G', 'T1G', 'T1G', 'T1G', 'T1G', 'T1G', 'T1G', 'T1G', 'T1G', 'T1G', 'T1G', 'T1G', 'T1G', 'T1G', 'T1G', 'T1G', 'T1G', 'T1G', 'T1G', 'T1G', 'T1G', 'T1G', 'T1G', 'T1G', 'T1G', 'T1G', 'T1G', 'T1G', 'T1G', 'T1G', 'T1G', 'T1G', 'T1G', 'T1G', 'T1G', 'T1G', 'T1G', 'T1G', 'T1G', 'T1G', 'T1G', 'T1G', 'T1G', 'T1G', 'T1G', 'T1G', 'T1G', 'T1G', 'T1G', 'T1G', 'T1D', 'T1G', 'T1G', 'T1G', 'T1G', 'T1G', 'T1G', 'T1G', 'T1G', 'T1G', 'T1G', 'T1G', 'T1G', 'T1G', 'T1G', 'T1G', 'T1G', 'T1G', 'T1G', 'T1G', 'T1G', 'T1G', 'T1G', 'T1G', 'T1G', 'T1G', 'T1G', 'T1G', 'T1G', 'T1G', 'T1G', 'T1G', 'T1G', 'T1G', 'T1G', 'T1G', 'T1D', 'T1G', 'T1G', 'T1G', 'T1G', 'T1G', 'T1G', 'T1G', 'T1G', 'T1G', 'T1G', 'T1G', 'T1G', 'T1G', 'T1G', 'T1G', 'T1G', 'T1G', 'T1G', 'T1G', 'T1G', 'T1G', 'T1G', 'T1G', 'T1G', 'T1G', 'T1G', 'T1G', 'T1G', 'T1G', 'T1G', 'T1G', 'T1G', 'T1G', 'T1G', 'T1G', 'T1G', 'T1G', 'T1G', 'T1G', 'T1G', 'T1G', 'T1G', 'T1G', 'T1G', 'T1G', 'T1G', 'T1G', 'T1G', 'T1G', 'T1G', 'T1G', 'T1G', 'T1G', 'T1G', 'T1G', 'T1G', 'T1G', 'T1G', 'T1G', 'T1G', 'T1D', 'T1G', 'T1G', 'T1G', 'T1G', 'T1G', 'T1G', 'T1G', 'T1G', 'T1G', 'T1G', 'T1G', 'T1G', 'T1G', 'T1G', 'T1G', 'T1G', 'T1G', 'T1G', 'T1G', 'T1G', 'T1G', 'T1G', 'T1G', 'T1G', 'T1G', 'T1G', 'T1G', 'T1G', 'T1G', 'T1G', 'T1G', 'T1G', 'T1G', 'T1G', 'T1G', 'T1G', 'T1G', 'T1G', 'T1G', 'T1G', 'T1G', 'T1G', 'T1G', 'T1G', 'T1G', 'T1G', 'T1G', 'T1G', 'T1G', 'T1G', 'T1G', 'T1G', 'T1G', 'T1G', 'T1G', 'T1G', 'T1D', 'T1G', 'T1G', 'T1G', 'T1G', 'T1G', 'T1G', 'T1G', 'T1G', 'T1G', 'T1G', 'T1G', 'T1G', 'T1G', 'T1G', 'T1G', 'T1G', 'T1G', 'T1G', 'T1G', 'T1G', 'T1G', 'T1G', 'T1G', 'T1G', 'T1G', 'T1G', 'T1G', 'T1G', 'T1G', 'T1G', 'T1G', 'T1G', 'T1G', 'T1G', 'T1G', 'T1G', 'T1G', 'T1G', 'T1G', 'T1G', 'T1G', 'T1G', 'T1G', 'T1G', 'T1G', 'T1G', 'T1G', 'T1G', 'T1G', 'T1G', 'T1G', 'T1G', 'T1G', 'T1G', 'T1G', 'T1G', 'T1G', 'T1G', 'T1G', 'T1G', 'T1G', 'T1G', 'T1G', 'T1G', 'T1G', 'T1G', 'T1G', 'T1G', 'T1G', 'T1G', 'T1G', 'T1G', 'T1G', 'T1G', 'T1G', 'T1G', 'T1G', 'T1G', 'T1G', 'T1G', 'T1G', 'T1G', 'T1G', 'T1G', 'T1G', 'T1G', 'T1G', 'T1G', 'T1G', 'T1G', 'T1G', 'T1G', 'T1G', 'T1G', 'T1G', 'T1G', 'T1G', 'T1G', 'T1G', 'T1G', 'T1G', 'T1G', 'T1G', 'T1G', 'T1G', 'T1G', 'T1G', 'T1G', 'T1G', 'T1G', 'T1G', 'T1G', 'T1G', 'T1G', 'T1G', 'T1G', 'T1G', 'T1G', 'T1G', 'T1G', 'T1G', 'T1G', 'T1G', 'T1G', 'T1G', 'T1G', 'T1G', 'T1G', 'T1G', 'T1G', 'T1G', 'T1G', 'T1G', 'T1G', 'T1G', 'T1G', 'T1G', 'T1G', 'T1G', 'T1G', 'T1G', 'T1G', 'T1G', 'T1G', 'T1G', 'T1G', 'T1G', 'T1G', 'T1G', 'T1G', 'T1G', 'T1G', 'T1G', 'T1G', 'T1G', 'T1G', 'T1G', 'T1G', 'T1G', 'T1G', 'T1G', 'T1G', 'T1G', 'T1G', 'T1G', 'T1G', 'T1G', 'T1G', 'T1G', 'T1G', 'T1G', 'T1G', 'T1G', 'T1G', 'T1G', 'T1G', 'T1G', 'T1G', 'T1G', 'T1G', 'T1G', 'T1G', 'T1G', 'T1G', 'T1G', 'T1G', 'T1G', 'T1G', 'T1G', 'T1G', 'T1G', 'T1G', 'T1G', 'T1G', 'T1G', 'T1G', 'T1G', 'T1G', 'T1G', 'T1D', 'T1G', 'T1G', 'T1G', 'T1G', 'T1G', 'T1G', 'T1G', 'T1G', 'T1G', 'T1G', 'T1G', 'T1G', 'T1G', 'T1G', 'T1G', 'T1G', 'T1G', 'T1G', 'T1G', 'T1G', 'T1G', 'T1G', 'T1G', 'T1G', 'T1G', 'T1G', 'T1G', 'T1G', 'T1G', 'T1G', 'T1G', 'T1G', 'T1G', 'T1G', 'T1G', 'T1G', 'T1G', 'T1G', 'T1G', 'T1G', 'T1G', 'T1G', 'T1G', 'T1G', 'T1G', 'T1G', 'T1G', 'T1G', 'T1G', 'T1G', 'T1G', 'T1G', 'T1G', 'T1G', 'T1G', 'T1G', 'T1G', 'T1G', 'T1G', 'T1G', 'T1G', 'T1G', 'T1G', 'T1G', 'T1G', 'T1G', 'T1G', 'T1G', 'T1G', 'T1G', 'T1G', 'T1G', 'T1G', 'T1G', 'T1G', 'T1G', 'T1G', 'T1G', 'T1G', 'T1G', 'T1G', 'T1G', 'T1G', 'T1G', 'T1G', 'T1G', 'T1G', 'T1D', 'T1G', 'T1G', 'T1G', 'T1G', 'T1G', 'T1G', 'T1G', 'T1G', 'T1G', 'T1G', 'T1G', 'T1G', 'T1G', 'T1G', 'T1G', 'T1G', 'T1G', 'T1G', 'T1G', 'T1G', 'T1G', 'T1G', 'T1G', 'T1G', 'T1G', 'T1G', 'T1G', 'T1G', 'T1G', 'T1G', 'T1G', 'T1G', 'T1G', 'T1G', 'T1G', 'T1G', 'T1G', 'T1G', 'T1G', 'T1G', 'T1G', 'T1G', 'T1G', 'T1G', 'T1G', 'T1G', 'T1G', 'T1G', 'T1G', 'T1G', 'T1G', 'T1G', 'T1G', 'T1G', 'T1G', 'T1G', 'T1G', 'T1G', 'T1G', 'T1G', 'T1G', 'T1G', 'T1G', 'T1G', 'T1G', 'T1G', 'T1G', 'T1G', 'T1G', 'T1G', 'T1G', 'T1G', 'T1G', 'T1G', 'T1G', 'T1G', 'T1G', 'T1G', 'T1G', 'T1G', 'T1G', 'T1G', 'T1G', 'T1G', 'T1G', 'T1G', 'T1G', 'T1G', 'T1G', 'T1G', 'T1G', 'T1G', 'T1G', 'T1G', 'T1G', 'T1G', 'T1G', 'T1G', 'T1G', 'T1G', 'T1G', 'T1G', 'T1G', 'T1G', 'T1G', 'T1G', 'T1G', 'T1G', 'T1G', 'T1G', 'T1G', 'T1G', 'T1G', 'T1G', 'T1G', 'T1G', 'T1G', 'T1G', 'T1G', 'T1G', 'T1G', 'T1G', 'T1G', 'T1G', 'T1G', 'T1G', 'T1G', 'T1G', 'T1G', 'T1G', 'T1G', 'T1G', 'T1G', 'T1G', 'T1G', 'T1G', 'T1G', 'T1G', 'T1G', 'T1G', 'T1G', 'T1G', 'T1G', 'T1G', 'T1G', 'T1G', 'T1G', 'T1G', 'T1G', 'T1G', 'T1G', 'T1G', 'T1G', 'T1G', 'T1G', 'T1G', 'T1G', 'T1G', 'T1G', 'T1G', 'T1G', 'T1G', 'T1G', 'T1G', 'T1G', 'T1G', 'T1G', 'T1G', 'T1G', 'T1G', 'T1G', 'T1G', 'T1G', 'T1G', 'T1G', 'T1G', 'T1G', 'T1G', 'T1G', 'T1G', 'T1G', 'T1G', 'T1G', 'T1G', 'T1G', 'T1G', 'T1G', 'T1G', 'T1G', 'T1G', 'T1G', 'T1G', 'T1G', 'T1G', 'T1G', 'T1G', 'T1G', 'T1G', 'T1G', 'T1G', 'T1G', 'T1G', 'T1G', 'T1G', 'T1G', 'T1G', 'T1G', 'T1G', 'T1G', 'T1G', 'T1G', 'T1G', 'T1G', 'T1G', 'T1G', 'T1G', 'T1G', 'T1G', 'T1G', 'T1G', 'T1G', 'T1G', 'T1G', 'T1G', 'T1G', 'T1G', 'T1G', 'T1G', 'T1G', 'T1G', 'T1G', 'T1G', 'T1G', 'T1G', 'T1G', 'T1G', 'T1G', 'T1G', 'T1G', 'T1G', 'T1G', 'T1G', 'T1G', 'T1G', 'T1G', 'T1G', 'T1G', 'T1G', 'T1G', 'T1G', 'T1G', 'T1G', 'T1G', 'T1G', 'T1G', 'T1G', 'T1G', 'T1G', 'T1G', 'T1G', 'T1G', 'T1G', 'T1G', 'T1G', 'T1G', 'T1G', 'T1G', 'T1G', 'T1G', 'T1G', 'T1G', 'T1G', 'T1G', 'T1G', 'T1G', 'T1G', 'T1G', 'T1G', 'T1G', 'T1G', 'T1G', 'T1G', 'T1G', 'T1G', 'T1G', 'T1G', 'T1G', 'T1G', 'T1G', 'T1G', 'T1G', 'T1G', 'T1G', 'T1G', 'T1G', 'T1G', 'T1G', 'T1G', 'T1G', 'T1G', 'T1G', 'T1G', 'T1G', 'T1G', 'T1G', 'T1G', 'T1G', 'T1G', 'T1G', 'T1G', 'T1G', 'T1G', 'T1G', 'T1G', 'T1G', 'T1G', 'T1G', 'T1G', 'T1G', 'T1G', 'T1G', 'T1G', 'T1G', 'T1G', 'T1G', 'T1G', 'T1G', 'T1G', 'T1G', 'T1G', 'T1G', 'T1G', 'T1G', 'T1G', 'T1G', 'T1G', 'T1G', 'T1G', 'T1G', 'T1G', 'T1G', 'T1G', 'T1G', 'T1G', 'T1G', 'T1G', 'T1G', 'T1G', 'T1G', 'T1D', 'T1G', 'T1G', 'T1G', 'T1G', 'T1G', 'T1G', 'T1G', 'T1G', 'T1G', 'T1G', 'T1G', 'T1G', 'T1G', 'T1G', 'T1G', 'T1G', 'T1G', 'T1G', 'T1G', 'T1G', 'T1G', 'T1G', 'T1G', 'T1G', 'T1G', 'T1G', 'T1G', 'T1G', 'T1G', 'T1G', 'T1G', 'T1G', 'T1G', 'T1G', 'T1G', 'T1G', 'T1G', 'T1G', 'T1G', 'T1G', 'T1G', 'T1G', 'T1G', 'T1G', 'T1G', 'T1G', 'T1G', 'T1G', 'T1G', 'T1G', 'T1G', 'T1G', 'T1G', 'T1G', 'T1G', 'T1G', 'T1G', 'T1G', 'T1G', 'T1G', 'T1G', 'T1G', 'T1G', 'T1G', 'T1G', 'T1G', 'T1G', 'T1G', 'T1G', 'T1G', 'T1G', 'T1G', 'T1G', 'T1G', 'T1G', 'T1G', 'T1G', 'T1G', 'T1G', 'T1G', 'T1G', 'T1G', 'T1G', 'T1G', 'T1G', 'T1G', 'T1D', 'T1G', 'T1G', 'T1G', 'T1G', 'T1G', 'T1G', 'T1G', 'T1G', 'T1G', 'T1G', 'T1G', 'T1G', 'T1G', 'T1G', 'T1G', 'T1G', 'T1G', 'T1G', 'T1G', 'T1G', 'T1G', 'T1G', 'T1G', 'T1G', 'T1G', 'T1G', 'T1G', 'T1G', 'T1G', 'T1G', 'T1G', 'T1G', 'T1G', 'T1G', 'T1G', 'T1G', 'T1G', 'T1G', 'T1G', 'T1G', 'T1G', 'T1G', 'T1G', 'T1G', 'T1G', 'T1G', 'T1G', 'T1D', 'T1G', 'T1G', 'T1G', 'T1G', 'T1G', 'T1G', 'T1G', 'T1G', 'T1G', 'T1G', 'T1G', 'T1G', 'T1G', 'T1G', 'T1G', 'T1G', 'T1G', 'T1G', 'T1G', 'T1G', 'T1G', 'T1G', 'T1G', 'T1G', 'T1G', 'T1G', 'T1G', 'T1G', 'T1G', 'T1G', 'T1G', 'T1G', 'T1G', 'T1G', 'T1G', 'T1G', 'T1G', 'T1G', 'T1G', 'T1G', 'T1G', 'T1G', 'T1G', 'T1G', 'T1G', 'T1G', 'T1G', 'T1G', 'T1G', 'T1G', 'T1G', 'T1G', 'T1G', 'T1G', 'T1G', 'T1G', 'T1G', 'T1G', 'T1G', 'T1G', 'T1G', 'T1G', 'T1G', 'T1G', 'T1G', 'T1G', 'T1G', 'T1G', 'T1G', 'T1G', 'T1G', 'T1G', 'T1G', 'T1G', 'T1G', 'T1G', 'T1G', 'T1G', 'T1G', 'T1G', 'T1G', 'T1G', 'T1G', 'T1G', 'T1G', 'T1G', 'T1G', 'T1G', 'T1G', 'T1G', 'T1G', 'T1G', 'T1G', 'T1G', 'T1G', 'T1G', 'T1G', 'T1G', 'T1G', 'T1G', 'T1G', 'T1G', 'T1G', 'T1G', 'T1G', 'T1G', 'T1G', 'T1G', 'T1G', 'T1G', 'T1G', 'T1G', 'T1G', 'T1G', 'T1G', 'T1G', 'T1G', 'T1G', 'T1G', 'T1G', 'T1G', 'T1G', 'T1D', 'T1G', 'T1G', 'T1G', 'T1G', 'T1G', 'T1G', 'T1D', 'T1G', 'T1G', 'T1G', 'T1G', 'T1G', 'T1G', 'T1G', 'T1G', 'T1G', 'T1G', 'T1G', 'T1G', 'T1G', 'T1G', 'T1G', 'T1G', 'T1G', 'T1G', 'T1G', 'T1G', 'T1G', 'T1G', 'T1G', 'T1G', 'T1G', 'T1G', 'T1G', 'T1G', 'T1G', 'T1G', 'T1G', 'T1G', 'T1G', 'T1G', 'T1G', 'T1G', 'T1G', 'T1G', 'T1G', 'T1G', 'T1D', 'T1G', 'T1G', 'T1G', 'T1G', 'T1G', 'T1G', 'T1G', 'T1G', 'T1G', 'T1G', 'T1G', 'T1G', 'T1G', 'T1G', 'T1G', 'T1G', 'T1G', 'T1G', 'T1G', 'T1G', 'T1G', 'T1G', 'T1G', 'T1G', 'T1G', 'T1G', 'T1G', 'T1G', 'T1G', 'T1G', 'T1G', 'T1G', 'T1G', 'T1G', 'T1G', 'T1G', 'T1G', 'T1G', 'T1G', 'T1G', 'T1G', 'T1G', 'T1G', 'T1G', 'T1G', 'T1G', 'T1G', 'T1G', 'T1G', 'T1G', 'T1G', 'T1G', 'T1G', 'T1G', 'T1G', 'T1G', 'T1G', 'T1G', 'T1G', 'T1G', 'T1G', 'T1G', 'T1G', 'T1G', 'T1G', 'T1G', 'T1G', 'T1G', 'T1G', 'T1G', 'T1G', 'T1G', 'T1G', 'T1G', 'T1G', 'T1G', 'T1G', 'T1G', 'T1G', 'T1G', 'T1G', 'T1G', 'T1G', 'T1G', 'T1G', 'T1G', 'T1G', 'T1G', 'T1G', 'T1G', 'T1G', 'T1G', 'T1G', 'T1G', 'T1G', 'T1G', 'T1G', 'T1G', 'T1G', 'T1G', 'T1G', 'T1G', 'T1G', 'T1G', 'T1G', 'T1G', 'T1G', 'T1G', 'T1G', 'T1G', 'T1G', 'T1G', 'T1G', 'T1G', 'T1G', 'T1G', 'T1G', 'T1G', 'T1G', 'T1G', 'T1G', 'T1G', 'T1G', 'T1G', 'T1G', 'T1G', 'T1G', 'T1G', 'T1G', 'T1G', 'T1G', 'T1G', 'T1G', 'T1G', 'T1G', 'T1G', 'T1G', 'T1G', 'T1G', 'T1G', 'T1G', 'T1G', 'T1G', 'T1G', 'T1G', 'T1G', 'T1G', 'T1G', 'T1G', 'T1G', 'T1G', 'T1G', 'T1G', 'T1G', 'T1G', 'T1G', 'T1G', 'T1G', 'T1G', 'T1G', 'T1G', 'T1G', 'T1G', 'T1G', 'T1G', 'T1G', 'T1G', 'T1G', 'T1G', 'T1G', 'T1G', 'T1G', 'T1G', 'T1G', 'T1G', 'T1G', 'T1G', 'T1G', 'T1G', 'T1G', 'T1G', 'T1G', 'T1G', 'T1G', 'T1G', 'T1G', 'T1G', 'T1G', 'T1G', 'T1G', 'T1G', 'T1G', 'T1G', 'T1G', 'T1G', 'T1G', 'T1G', 'T1G', 'T1G', 'T1G', 'T1G', 'T1G', 'T1G', 'T1G', 'T1G', 'T1G', 'T1G', 'T1G', 'T1G', 'T1G', 'T1G', 'T1G', 'T1G', 'T1G', 'T1G', 'T1G', 'T1G', 'T1G', 'T1G', 'T1G', 'T1G', 'T1G', 'T1G', 'T1G', 'T1G', 'T1G', 'T1G', 'T1G', 'T1G', 'T1D', 'T1G', 'T1G', 'T1G', 'T1G', 'T1G', 'T1G', 'T1G', 'T1G', 'T1G', 'T1G', 'T1G', 'T1G', 'T1G', 'T1G', 'T1G', 'T1G', 'T1G', 'T1G', 'T1G', 'T1G', 'T1G', 'T1G', 'T1G', 'T1G', 'T1G', 'T1G', 'T1G', 'T1G', 'T1G', 'T1G', 'T1G', 'T1G', 'T1G', 'T1G', 'T1G', 'T1G', 'T1G', 'T1G', 'T1G', 'T1G', 'T1G', 'T1G', 'T1G', 'T1G', 'T1G', 'T1G', 'T1G', 'T1G', 'T1G', 'T1G', 'T1G', 'T1G', 'T1G', 'T1G', 'T1G', 'T1G', 'T1G', 'T1G', 'T1G', 'T1G', 'T1G', 'T1G', 'T1G', 'T1G', 'T1G', 'T1G', 'T1G', 'T1G', 'T1G', 'T1G', 'T1G', 'T1G', 'T1G', 'T1G', 'T1G', 'T1G', 'T1G', 'T1G', 'T1G', 'T1G', 'T1G', 'T1G', 'T1G', 'T1G', 'T1G', 'T1G', 'T1G', 'T1G', 'T1G', 'T1G', 'T1G', 'T1G', 'T1G', 'T1G', 'T1G', 'T1G', 'T1G', 'T1G', 'T1G', 'T1G', 'T1G', 'T1G', 'T1G', 'T1G', 'T1G', 'T1G', 'T1D', 'T1G', 'T1G', 'T1G', 'T1G', 'T1G', 'T1G', 'T1G', 'T1G', 'T1G', 'T1G', 'T1G', 'T1G', 'T1G', 'T1G', 'T1G', 'T1G', 'T1G', 'T1G', 'T1G', 'T1G', 'T1G', 'T1G', 'T1G', 'T1G', 'T1G', 'T1G', 'T1G', 'T1G', 'T1G', 'T1G', 'T1G', 'T1G', 'T1G', 'T1G', 'T1G', 'T1G', 'T1G', 'T1G', 'T1G', 'T1G', 'T1G', 'T1G', 'T1G', 'T1G', 'T1G', 'T1G', 'T1G', 'T1G', 'T1G', 'T1G', 'T1G', 'T1G', 'T1G', 'T1G', 'T1G', 'T1G', 'T1G', 'T1G', 'T1G', 'T1G', 'T1G', 'T1G', 'T1G', 'T1G', 'T1G', 'T1G', 'T1G', 'T1G', 'T1G', 'T1G', 'T1G', 'T1G', 'T1G', 'T1G', 'T1G', 'T1G', 'T1G', 'T1G', 'T1G', 'T1G', 'T1G', 'T1G', 'T1G', 'T1G', 'T1G', 'T1G', 'T1G', 'T1G', 'T1G', 'T1G', 'T1G', 'T1G', 'T1G', 'T1G', 'T1G', 'T1G', 'T1G', 'T1G', 'T1G', 'T1G', 'T1G', 'T1G', 'T1G', 'T1G', 'T1G', 'T1G', 'T1G', 'T1G', 'T1G', 'T1D', 'T1G', 'T1G', 'T1G', 'T1G', 'T1G', 'T1G', 'T1G', 'T1G', 'T1G', 'T1G', 'T1G', 'T1G', 'T1G', 'T1G', 'T1G', 'T1G', 'T1G', 'T1G', 'T1G', 'T1G', 'T1G', 'T1G', 'T1G', 'T1G', 'T1G', 'T1G', 'T1G', 'T1G', 'T1G', 'T1G', 'T1G', 'T1G', 'T1G', 'T1G', 'T1G', 'T1G', 'T1G', 'T1G', 'T1G', 'T1G', 'T1G', 'T1G', 'T1G', 'T1G', 'T1G', 'T1G', 'T1G', 'T1G', 'T1G', 'T1G', 'T1G', 'T1G', 'T1G', 'T1G', 'T1G', 'T1G', 'T1G', 'T1G', 'T1G', 'T1G', 'T1G', 'T1G', 'T1G', 'T1G', 'T1G', 'T1G', 'T1G', 'T1G', 'T1G', 'T1G', 'T1G', 'T1G', 'T1G', 'T1G', 'T1G', 'T1G', 'T1G', 'T1G', 'T1G', 'T1G', 'T1G', 'T1G', 'T1G', 'T1G', 'T1G', 'T1G', 'T1G', 'T1G', 'T1G', 'T1G', 'T1G', 'T1G', 'T1G', 'T1G', 'T1G', 'T1G', 'T1G', 'T1G', 'T1G', 'T1G', 'T1G', 'T1G', 'T1G', 'T1G', 'T1G', 'T1G', 'T1G', 'T1G', 'T1G', 'T1G', 'T1G', 'T1G', 'T1G', 'T1G', 'T1G', 'T1G', 'T1G', 'T1G', 'T1G', 'T1G', 'T1G', 'T1G', 'T1G', 'T1G', 'T1G', 'T1G', 'T1G', 'T1G', 'T1G', 'T1G', 'T1G', 'T1G', 'T1G', 'T1G', 'T1G', 'T1G', 'T1G', 'T1G', 'T1G', 'T1G', 'T1G', 'T1G', 'T1G', 'T1G', 'T1G', 'T1G', 'T1G', 'T1G', 'T1G', 'T1G', 'T1G', 'T1G', 'T1G', 'T1G', 'T1G', 'T1G', 'T1G', 'T1G', 'T1G', 'T1G', 'T1G', 'T1G', 'T1G', 'T1G', 'T1G', 'T1G', 'T1G', 'T1G', 'T1G', 'T1G', 'T1G', 'T1G', 'T1G', 'T1G', 'T1G', 'T1G', 'T1G', 'T1G', 'T1G', 'T1G', 'T1G', 'T1G', 'T1G', 'T1G', 'T1G', 'T1G', 'T1G', 'T1G', 'T1G', 'T1G', 'T1G', 'T1G', 'T1G', 'T1G', 'T1G', 'T1G', 'T1G', 'T1G', 'T1G', 'T1G', 'T1G', 'T1G', 'T1G', 'T1G', 'T1G', 'T1G', 'T1G', 'T1G', 'T1G', 'T1G', 'T1G', 'T1G', 'T1G', 'T1G', 'T1G', 'T1G', 'T1G', 'T1G', 'T1G', 'T1G', 'T1G', 'T1G', 'T1G', 'T1G', 'T1G', 'T1G', 'T1G', 'T1G', 'T1G', 'T1G', 'T1G', 'T1G', 'T1G', 'T1G', 'T1G', 'T1G', 'T1G', 'T1G', 'T1G', 'T1G', 'T1G', 'T1G', 'T1G', 'T1G', 'T1G', 'T1G', 'T1G', 'T1G', 'T1G', 'T1G', 'T1G', 'T1G', 'T1G', 'T1G', 'T1G', 'T1G', 'T1G', 'T1G', 'T1G', 'T1G', 'T1G', 'T1G', 'T1G', 'T1G', 'T1G', 'T1G', 'T1G', 'T1G', 'T1G', 'T1G', 'T1G', 'T1G', 'T1G', 'T1G', 'T1G', 'T1G', 'T1G', 'T1G', 'T1G', 'T1G', 'T1G', 'T1G', 'T1G', 'T1G', 'T1G', 'T1G', 'T1G', 'T1G', 'T1G', 'T1G', 'T1G', 'T1G', 'T1G', 'T1G', 'T1G', 'T1G', 'T1G', 'T1G', 'T1G', 'T1G', 'T1G', 'T1G', 'T1G', 'T1G', 'T1G', 'T1G', 'T1G', 'T1G', 'T1G', 'T1G', 'T1G', 'T1G', 'T1G', 'T1G', 'T1G', 'T1G', 'T1G', 'T1G', 'T1G', 'T1G', 'T1G', 'T1G', 'T1G', 'T1G', 'T1G', 'T1G', 'T1G', 'T1G', 'T1G', 'T1G', 'T1G', 'T1G', 'T1G', 'T1G', 'T1G', 'T1G', 'T1G', 'T1G', 'T1G', 'T1G', 'T1G', 'T1G', 'T1G', 'T1G', 'T1G', 'T1G', 'T1G', 'T1G', 'T1G', 'T1G', 'T1G', 'T1G', 'T1G', 'T1G', 'T1G', 'T1G', 'T1G', 'T1G', 'T1G', 'T1G', 'T1G', 'T1G', 'T1G', 'T1G', 'T1G', 'T1G', 'T1G', 'T1G', 'T1G', 'T1G', 'T1G', 'T1G', 'T1G', 'T1G', 'T1G', 'T1G', 'T1G', 'T1G', 'T1G', 'T1G', 'T1G', 'T1G', 'T1G', 'T1G', 'T1G', 'T1G', 'T1G', 'T1G', 'T1G', 'T1G', 'T1G', 'T1G', 'T1G', 'T1G', 'T1G', 'T1G', 'T1G', 'T1G', 'T1G', 'T1G', 'T1G', 'T1G', 'T1G', 'T1G', 'T1G', 'T1G', 'T1G', 'T1G', 'T1G', 'T1G', 'T1G', 'T1G', 'T1G', 'T1G', 'T1G', 'T1G', 'T1G', 'T1G', 'T1G', 'T1G', 'T1G', 'T1G', 'T1G', 'T1G', 'T1G', 'T1G', 'T2G', 'T2G', 'T2G', 'T2G', 'T2G', 'T2G', 'T2G', 'T2G', 'T2G', 'T2G', 'T2G', 'T2G', 'T2G', 'T2G', 'T2G', 'T2G', 'T2G', 'T2G', 'T2G', 'T2G', 'T2G', 'T2G', 'T2G', 'T2G', 'T2G', 'T2G', 'T2G', 'T2G', 'T2G', 'T2G', 'T2G', 'T2G', 'T2G', 'T2G', 'T2G', 'T2G', 'T2G', 'T2G', 'T2G', 'T2G', 'T2G', 'T2G', 'T2G', 'T2G', 'T2G', 'T2G', 'T2G', 'T2G', 'T2G', 'T2G', 'T2G', 'T2G', 'T2G', 'T2G', 'T2G', 'T2G', 'T2G', 'T2G', 'T2G', 'T2G', 'T2G', 'T2G', 'T2G', 'T2G', 'T2G', 'T2G', 'T2G', 'T2G', 'T2G', 'T2G', 'T2G', 'T2G', 'T2G', 'T2G', 'T2G', 'T2G', 'T2G', 'T2G', 'T2G', 'T2G', 'T2G', 'T2G', 'T2G', 'T2G', 'T2G', 'T2G', 'T2G', 'T2G', 'T2G', 'T2G', 'T2G', 'T2G', 'T2G', 'T2G', 'T2G', 'T2G', 'T2G', 'T2G', 'T2G', 'T2G', 'T2G', 'T2G', 'T2G', 'T2G', 'T2G', 'T2G', 'T2G', 'T2G', 'T2G', 'T2G', 'T2G', 'T2G', 'T2G', 'T2G', 'T2G', 'T2G', 'T2G', 'T2G', 'T2G', 'T2G', 'T2G', 'T2G', 'T2G', 'T2G', 'T2G', 'T2G', 'T2G', 'T2G', 'T2G', 'T2G', 'T2G', 'T2G', 'T2G', 'T2G', 'T2G', 'T2G', 'T2G', 'T2G', 'T2G', 'T2G', 'T2G', 'T2G', 'T2G', 'T2G', 'T2G', 'T2G', 'T2G', 'T2G', 'T2G', 'T2G', 'T2G', 'T2G', 'T2G', 'T2G', 'T2G', 'T2G', 'T2G', 'T2G', 'T2G', 'T2G', 'T2G', 'T2G', 'T2G', 'T2G', 'T2G', 'T2G', 'T2G', 'T2G', 'T2G', 'T2G', 'T2G', 'T2G', 'T2G', 'T2G', 'T2G', 'T2G', 'T2G', 'T2G', 'T2G', 'T2G', 'T2G', 'T2G', 'T2G', 'T2G', 'T2G', 'T2G', 'T2G', 'T2G', 'T2G', 'T2G', 'T2G', 'T2G', 'T2G', 'T2G', 'T2G', 'T2G', 'T2G', 'T2G', 'T2G', 'T2G', 'T2G', 'T2G', 'T2G', 'T2G', 'T2G', 'T2G', 'T2G', 'T2G', 'T2G', 'T2G', 'T2G', 'T2G', 'T2G', 'T2G', 'T2G', 'T2G', 'T2G', 'T2G', 'T2G', 'T2G', 'T2G', 'T2G', 'T2G', 'T2G', 'T2G', 'T2G', 'T2G', 'T2G', 'T2G', 'T2G', 'T2G', 'T2G', 'T2G', 'T2G', 'T2G', 'T2G', 'T2G', 'T2G', 'T2G', 'T2G', 'T2G', 'T2G', 'T2G', 'T2G', 'T2G', 'T2G', 'T2G', 'T2G', 'T2G', 'T2G', 'T2G', 'T2G', 'T2G', 'T2G', 'T2G', 'T2G', 'T2G', 'T2G', 'T2G', 'T2G', 'T2G', 'T2G', 'T2G', 'T2G', 'T2G', 'T2G', 'T2G', 'T2G', 'T2G', 'T2G', 'T2G', 'T2G', 'T2G', 'T2G', 'T2G', 'T2G', 'T2G', 'T2G', 'T2G', 'T2G', 'T2G', 'T2G', 'T2G', 'T2G', 'T2G', 'T2G', 'T2G', 'T2G', 'T2G', 'T2G', 'T2G', 'T2G', 'T2G', 'T2G', 'T2G', 'T2G', 'T2G', 'T2G', 'T2G', 'T2G', 'T2G', 'T2G', 'T2G', 'T2G', 'T2G', 'T2G', 'T2G', 'T2G', 'T2G', 'T2G', 'T2G', 'T2G', 'T2G', 'T2G', 'T2G', 'T2G', 'T2G', 'T2G', 'T2G', 'T2G', 'T2G', 'T2G', 'T2G', 'T2G', 'T2G', 'T2G', 'T2G', 'T2G', 'T2G', 'T2G', 'T2G', 'T2G', 'T2G', 'T2G', 'T2G', 'T2G', 'T2D', 'T2G', 'T2G', 'T2G', 'T2G', 'T2G', 'T2G', 'T2G', 'T2G', 'T2G', 'T2G', 'T2G', 'T2G', 'T2G', 'T2G', 'T2G', 'T2G', 'T2G', 'T2G', 'T2G', 'T2G', 'T2G', 'T2G', 'T2G', 'T2G', 'T2G', 'T2G', 'T2G', 'T2G', 'T2G', 'T2G', 'T2G', 'T2G', 'T2G', 'T2G', 'T2G', 'T2G', 'T2D', 'T2G', 'T2G', 'T2G', 'T2G', 'T2G', 'T2G', 'T2G', 'T2G', 'T2G', 'T2G', 'T2G', 'T2G', 'T2G', 'T2G', 'T2G', 'T2G', 'T2G', 'T2G', 'T2G', 'T2G', 'T2G', 'T2G', 'T2G', 'T2G', 'T2G', 'T2G', 'T2G', 'T2G', 'T2G', 'T2G', 'T2G', 'T2G', 'T2G', 'T2G', 'T2G', 'T2G', 'T2G', 'T2G', 'T2G', 'T2G', 'T2G', 'T2G', 'T2G', 'T2G', 'T2G', 'T2G', 'T2G', 'T2G', 'T2G', 'T2G', 'T2G', 'T2G', 'T2G', 'T2G', 'T2G', 'T2G', 'T2G', 'T2G', 'T2G', 'T2G', 'T2G', 'T2G', 'T2G', 'T2G', 'T2G', 'T2G', 'T2G', 'T2G', 'T2G', 'T2G', 'T2G', 'T2G', 'T2G', 'T2G', 'T2G', 'T2G', 'T2G', 'T2G', 'T2G', 'T2G', 'T2G', 'T2G', 'T2G', 'T2G', 'T2G', 'T2G', 'T2G', 'T2G', 'T2G', 'T2G', 'T2G', 'T2G', 'T2G', 'T2G', 'T2G', 'T2G', 'T2G', 'T2G', 'T2G', 'T2G', 'T2G', 'T2G', 'T2G', 'T2G', 'T2G', 'T2G', 'T2G', 'T2G', 'T2G', 'T2D', 'T2G', 'T2G', 'T2G', 'T2G', 'T2G', 'T2G', 'T2G', 'T2G', 'T2G', 'T2G', 'T2G', 'T2G', 'T2G', 'T2G', 'T2G', 'T2G', 'T2G', 'T2G', 'T2G', 'T2G', 'T2G', 'T2G', 'T2G', 'T2G', 'T2G', 'T2G', 'T2G', 'T2G', 'T2G', 'T2G', 'T2G', 'T2G', 'T2G', 'T2G', 'T2G', 'T2G', 'T2G', 'T2G', 'T2G', 'T2G', 'T2G', 'T2G', 'T2G', 'T2G', 'T2D', 'T2G', 'T2G', 'T2G', 'T2D', 'T2G', 'T2G', 'T2G', 'T2G', 'T2G', 'T2G', 'T2G', 'T2G', 'T2G', 'T2G', 'T2G', 'T2G', 'T2G', 'T2G', 'T2G', 'T2G', 'T2G', 'T2G', 'T2G', 'T2G', 'T2G', 'T2G', 'T2G', 'T2G', 'T2G', 'T2G', 'T2G', 'T2G', 'T2G', 'T2G', 'T2G', 'T2G', 'T2G', 'T2G', 'T2G', 'T2G', 'T2G', 'T2G', 'T2G', 'T2G', 'T2G', 'T2G', 'T2G', 'T2G', 'T2G', 'T2G', 'T2G', 'T2G', 'T2G', 'T2G', 'T2D', 'T2G', 'T2G', 'T2G', 'T2G', 'T2G', 'T2G', 'T2G', 'T2G', 'T2G', 'T2G', 'T2G', 'T2G', 'T2G', 'T2G', 'T2G', 'T2G', 'T2G', 'T2G', 'T2G', 'T2G', 'T2G', 'T2G', 'T2G', 'T2G', 'T2G', 'T2G', 'T2G', 'T2G', 'T2G', 'T2G', 'T2G', 'T2G', 'T2G', 'T2G', 'T2G', 'T2G', 'T2G', 'T2G', 'T2G', 'T2G', 'T2G', 'T2G', 'T2G', 'T2G', 'T2G', 'T2G', 'T2G', 'T2G', 'T2G', 'T2G', 'T2G', 'T2G', 'T2G', 'T2G', 'T2G', 'T2G', 'T2G', 'T2G', 'T2G', 'T2G', 'T2G', 'T2G', 'T2G', 'T2G', 'T2G', 'T2G', 'T2G', 'T2G', 'T2G', 'T2G', 'T2G', 'T2G', 'T2G', 'T2D', 'T2G', 'T2G', 'T2D', 'T2G', 'T2G', 'T2G', 'T2G', 'T2G', 'T2G', 'T2G', 'T2G', 'T2G', 'T2G', 'T2G', 'T2G', 'T2G', 'T2G', 'T2G', 'T2G', 'T2G', 'T2G', 'T2G', 'T2G', 'T2G', 'T2G', 'T2G', 'T2G', 'T2G', 'T2G', 'T2G', 'T2G', 'T2G', 'T2G', 'T2G', 'T2G', 'T2G', 'T2G', 'T2G', 'T2G', 'T2G', 'T2G', 'T2G', 'T2G', 'T2G', 'T2G', 'T2G', 'T2G', 'T2G', 'T2G', 'T2G', 'T2G', 'T2G', 'T2G', 'T2G', 'T2G', 'T2G', 'T2G', 'T2G', 'T2D', 'T2G', 'T2G', 'T2G', 'T2G', 'T2G', 'T2G', 'T2G', 'T2G', 'T2G', 'T2G', 'T2G', 'T2G', 'T2G', 'T2G', 'T2G', 'T2G', 'T2G', 'T2G', 'T2G', 'T2G', 'T2G', 'T2G', 'T2G', 'T2G', 'T2G', 'T2G', 'T2G', 'T2G', 'T2G', 'T2G', 'T2G', 'T2G', 'T2G', 'T2G', 'T2G', 'T2G', 'T2G', 'T2G', 'T2G', 'T2G', 'T2D', 'T2G', 'T2G', 'T2D', 'T2G', 'T2G', 'T2G', 'T2G', 'T2G', 'T2G', 'T2G', 'T2G', 'T2G', 'T2G', 'T2G', 'T2G', 'T2G', 'T2G', 'T2G', 'T2G', 'T2G', 'T2G', 'T2G', 'T2G', 'T2G', 'T2G', 'T2G', 'T2G', 'T2G', 'T2G', 'T2G', 'T2G', 'T2G', 'T2G', 'T2G', 'T2G', 'T2G', 'T2G', 'T2G', 'T2G', 'T2G', 'T2G', 'T2G', 'T2G', 'T2G', 'T2G', 'T2G', 'T2G', 'T2G', 'T2G', 'T2D', 'T2G', 'T2G', 'T2G', 'T2G', 'T2G', 'T2G', 'T2G', 'T2G', 'T2G', 'T2G', 'T2G', 'T2G', 'T2G', 'T2G', 'T2G', 'T2G', 'T2G', 'T2G', 'T2G', 'T2G', 'T2G', 'T2G', 'T2G', 'T2G', 'T2G', 'T2G', 'T2G', 'T2G', 'T2G', 'T2G', 'T2G', 'T2G', 'T2G', 'T2G', 'T2G', 'T2G', 'T2G', 'T2G', 'T2G', 'T2G', 'T2G', 'T2G', 'T2G', 'T2G', 'T2G', 'T2G', 'T2G', 'T2G', 'T2G', 'T2G', 'T2G', 'T2G', 'T2G', 'T2G', 'T2G', 'T2G', 'T2G', 'T2G', 'T2G', 'T2G', 'T2G', 'T2G', 'T2G', 'T2G', 'T2G', 'T2G', 'T2G', 'T2G', 'T2G', 'T2G', 'T2G', 'T2G', 'T2G', 'T2G', 'T2G', 'T2G', 'T2G', 'T2G', 'T2G', 'T2G', 'T2G', 'T2G', 'T2G', 'T2G', 'T2G', 'T2G', 'T2G', 'T2D', 'T2G', 'T2G', 'T2G', 'T2G', 'T2G', 'T2D', 'T2G', 'T2G', 'T2G', 'T2G', 'T2G', 'T2G', 'T2G', 'T2G', 'T2G', 'T2G', 'T2G', 'T2G', 'T2G', 'T2G', 'T2G', 'T2G', 'T2G', 'T2G', 'T2G', 'T2G', 'T2G', 'T2G', 'T2G', 'T2G', 'T2G', 'T2G', 'T2G', 'T2G', 'T2G', 'T2G', 'T2G', 'T2G', 'T2D', 'T2G', 'T2G', 'T2G', 'T2G', 'T2G', 'T2G', 'T2G', 'T2G', 'T2G', 'T2G', 'T2G', 'T2G', 'T2G', 'T2G', 'T2G', 'T2G', 'T2G', 'T2G', 'T2G', 'T2G', 'T2G', 'T2G', 'T2G', 'T2G', 'T2G', 'T2G', 'T2G', 'T2G', 'T2G', 'T2G', 'T2G', 'T2G', 'T2G', 'T2G', 'T2G', 'T2G', 'T2G', 'T2G', 'T2G', 'T2G', 'T2G', 'T2G', 'T2G', 'T2G', 'T2G', 'T2G', 'T2G', 'T2G', 'T2G', 'T2G', 'T2G', 'T2G', 'T2G', 'T2G', 'T2G', 'T2G', 'T2G', 'T2G', 'T2G', 'T2G', 'T2G', 'T2G', 'T2G', 'T2G', 'T2G', 'T2G', 'T2G', 'T2G', 'T2G', 'T2G', 'T2G', 'T2G', 'T2G', 'T2G', 'T2G', 'T2G', 'T2G', 'T2G', 'T2G', 'T2G', 'T2G', 'T2G', 'T2G', 'T2G', 'T2G', 'T2G', 'T2G', 'T2G', 'T2G', 'T2G', 'T2G', 'T2D', 'T2G', 'T2G', 'T2G', 'T2G', 'T2G', 'T2G', 'T2G', 'T2G', 'T2G', 'T2G', 'T2G', 'T2G', 'T2G', 'T2G', 'T2G', 'T2G', 'T2D', 'T2G', 'T2G', 'T2G', 'T2D', 'T2G', 'T2G', 'T2G', 'T2G', 'T2G', 'T2G', 'T2G', 'T2G', 'T2G', 'T2G', 'T2G', 'T2G', 'T2G', 'T2G', 'T2G', 'T2G', 'T2G', 'T2G', 'T2G', 'T2G', 'T2G', 'T2G', 'T2G', 'T2G', 'T2G', 'T2G', 'T2G', 'T2G', 'T2G', 'T2G', 'T2G', 'T2G', 'T2G', 'T2G', 'T2G', 'T2G', 'T2G', 'T2G', 'T2G', 'T2G', 'T2G', 'T2G', 'T2G', 'T2G', 'T2G', 'T2G', 'T2G', 'T2G', 'T2G', 'T2G', 'T2G', 'T2G', 'T2G', 'T2G', 'T2G', 'T2G', 'T2G', 'T2G', 'T2G', 'T2G', 'T2G', 'T2G', 'T2G', 'T2G', 'T2G', 'T2G', 'T2G', 'T2G', 'T2G', 'T2G', 'T2G', 'T2G', 'T2G', 'T2G', 'T2G', 'T2G', 'T2D', 'T2G', 'T2G', 'T2G', 'T2G', 'T2G', 'T2G', 'T2G', 'T2G', 'T2G', 'T2G', 'T2G', 'T2G', 'T2G', 'T2G', 'T2G', 'T2G', 'T2G', 'T2G', 'T2G', 'T2G', 'T2G', 'T2G', 'T2G', 'T2G', 'T2G', 'T2G', 'T2G', 'T2G', 'T2G', 'T2G', 'T2G', 'T2G', 'T2G', 'T2G', 'T2G', 'T2G', 'T2G', 'T2G', 'T2G', 'T2G', 'T2G', 'T2G', 'T2G', 'T2G', 'T2G', 'T2G', 'T2G', 'T2G', 'T2G', 'T2G', 'T2G', 'T2G', 'T2G', 'T2G', 'T2D', 'T2G', 'T2G', 'T2G', 'T2G', 'T2G', 'T2G', 'T2G', 'T2G', 'T2G', 'T2D', 'T2G', 'T2G', 'T2G', 'T2G', 'T2G', 'T2G', 'T2G', 'T2G', 'T2G', 'T2G', 'T2G', 'T2G', 'T2D', 'T2G', 'T2G', 'T2D', 'T2G', 'T2G', 'T2G', 'T2G', 'T2G', 'T2G', 'T2G', 'T2G', 'T2G', 'T2G', 'T2G', 'T2G', 'T2G', 'T2G', 'T2G', 'T2G', 'T2G', 'T2G', 'T2G', 'T2G', 'T2G', 'T2G', 'T2G', 'T2G', 'T2G', 'T2G', 'T2G', 'T2G', 'T2G', 'T2G', 'T2G', 'T2G', 'T2G', 'T2G', 'T2G', 'T2G', 'T2G', 'T2G', 'T2G', 'T2G', 'T2D', 'T2G', 'T2G', 'T2G', 'T2G', 'T2G', 'T2G', 'T2G', 'T2G', 'T2G', 'T2G', 'T2G', 'T2G', 'T2G', 'T2G', 'T2G', 'T2G', 'T2G', 'T2G', 'T2G', 'T2G', 'T2G', 'T2G', 'T2G', 'T2G', 'T2G', 'T2G', 'T2G', 'T2G', 'T2G', 'T2G', 'T2G', 'T2G', 'T2G', 'T2G', 'T2G', 'T2G', 'T2G', 'T2G', 'T2G', 'T2G', 'T2G', 'T2G', 'T2G', 'T2G', 'T2D', 'T2G', 'T2G', 'T2G', 'T2G', 'T2G', 'T2G', 'T2G', 'T2G', 'T2G', 'T2G', 'T2G', 'T2G', 'T2G', 'T2G', 'T2G', 'T2G', 'T2G', 'T2G', 'T2G', 'T2G', 'T2G', 'T2G', 'T2G', 'T2D', 'T2G', 'T2G', 'T2G', 'T2G', 'T2G', 'T2G', 'T2G', 'T2G', 'T2G', 'T2G', 'T2G', 'T2G', 'T2G', 'T2G', 'T2G', 'T2G', 'T2G', 'T2D', 'T2G', 'T2G', 'T2G', 'T2G', 'T2G', 'T2G', 'T2G', 'T2G', 'T2G', 'T2G', 'T2G', 'T2G', 'T2G', 'T2G', 'T2G', 'T2G', 'T2G', 'T2G', 'T2G', 'T2G', 'T2G', 'T2G', 'T2G', 'T2G', 'T2G', 'T2G', 'T2G', 'T2G', 'T2G', 'T2G', 'T2G', 'T2G', 'T2G', 'T2G', 'T2G', 'T2G', 'T2G', 'T2G', 'T2G', 'T2D', 'T2G', 'T2G', 'T2G', 'T2G', 'T2G', 'T2G', 'T2G', 'T2G', 'T2G', 'T2G', 'T2G', 'T2G', 'T2G', 'T2G', 'T2G', 'T2G', 'T2G', 'T2G', 'T2G', 'T2G', 'T2G', 'T2G', 'T2G', 'T2D', 'T2G', 'T2G', 'T2G', 'T2G', 'T2G', 'T2G', 'T2G', 'T2G', 'T2G', 'T2G', 'T2G', 'T2G', 'T2G', 'T2G', 'T2G', 'T2G', 'T2G', 'T2G', 'T2G', 'T2G', 'T2G', 'T2G', 'T2G', 'T2G', 'T2G', 'T2G', 'T2G', 'T2G', 'T2G', 'T2G', 'T2G', 'T2G', 'T2G', 'T2G', 'T2G', 'T2G', 'T2G', 'T2G', 'T2G', 'T2G', 'T2G', 'T2G', 'T2G', 'T2G', 'T2G', 'T2G', 'T2D', 'T2G', 'T2G', 'T2G', 'T2G', 'T2G', 'T2G', 'T2G', 'T2G', 'T2G', 'T2G', 'T2G', 'T2G', 'T2G', 'T2G', 'T2G', 'T2G', 'T2G', 'T2G', 'T2G', 'T2G', 'T2G', 'T2G', 'T2G', 'T2G', 'T2G', 'T2G', 'T2G', 'T2G', 'T2G', 'T2G', 'T2G', 'T2G', 'T2G', 'T2G', 'T2G', 'T2G', 'T2G', 'T2G', 'T2G', 'T2G', 'T2G', 'T2G', 'T2D', 'T2G', 'T2G', 'T2G', 'T2G', 'T2G', 'T2G', 'T2G', 'T2G', 'T2G', 'T2G', 'T2G', 'T2G', 'T2G', 'T2G', 'T2G', 'T2G', 'T2G', 'T2G', 'T2G', 'T2G', 'T2G', 'T2G', 'T2G', 'T2G', 'T2G', 'T2G', 'T2G', 'T2G', 'T2G', 'T2G', 'T2G', 'T2G', 'T2G', 'T2G', 'T2G', 'T2G', 'T2G', 'T2G', 'T2G', 'T2G', 'T2G', 'T2G', 'T2G', 'T2G', 'T2G', 'T2G', 'T2G', 'T2G', 'T2G', 'T2G', 'T2G', 'T2G', 'T2G', 'T2G', 'T2G', 'T2G', 'T2G', 'T2G', 'T2G', 'T2G', 'T2G', 'T2G', 'T2G', 'T2D', 'T2G', 'T2G', 'T2G', 'T2G', 'T2G', 'T2G', 'T2G', 'T2G', 'T2G', 'T2G', 'T2G', 'T2G', 'T2G', 'T2G', 'T2G', 'T2G', 'T2G', 'T2G', 'T2G', 'T2G', 'T2G', 'T2G', 'T2G', 'T2G', 'T2G', 'T2G', 'T2G', 'T2G', 'T2G', 'T2G', 'T2G', 'T2G', 'T2G', 'T2G', 'T2G', 'T2G', 'T2G', 'T2G', 'T2G', 'T2G', 'T2G', 'T2G', 'T2G', 'T2G', 'T2G', 'T2G', 'T2G', 'T2G', 'T2G', 'T2G', 'T2G', 'T2G', 'T2G', 'T2G', 'T2G', 'T2G', 'T2G', 'T2G', 'T2G', 'T2G', 'T2G', 'T2G', 'T2G', 'T2G', 'T2G', 'T2G', 'T2G', 'T2G', 'T2G', 'T2G', 'T2G', 'T2G', 'T2G', 'T2G', 'T2G', 'T2G', 'T2G', 'T2G', 'T2G', 'T2G', 'T2G', 'T2G', 'T2G', 'T2G', 'T2G', 'T2G', 'T2G', 'T2G', 'T2G', 'T2G', 'T2G', 'T2G', 'T2G', 'T2G', 'T2G', 'T2G', 'T2G', 'T2G', 'T2G', 'T2G', 'T2G', 'T2G', 'T2G', 'T2G', 'T2G', 'T2G', 'T2G', 'T2G', 'T2G', 'T2G', 'T2G', 'T2G', 'T2G', 'T2G', 'T2G', 'T2G', 'T2D', 'T2G', 'T2G', 'T2G', 'T2G', 'T2G', 'T2G', 'T2G', 'T2G', 'T2G', 'T2G', 'T2G', 'T2D', 'T2G', 'T2G', 'T2G', 'T2G', 'T2G', 'T2G', 'T2G', 'T2G', 'T2G', 'T2G', 'T2G', 'T2G', 'T2G', 'T2G', 'T2G', 'T2G', 'T2G', 'T2G', 'T2G', 'T2G', 'T2G', 'T2G', 'T2G', 'T2G', 'T2G', 'T2G', 'T2G', 'T2G', 'T2G', 'T2G', 'T2G', 'T2D', 'T2G', 'T2G', 'T2G', 'T2G', 'T2G', 'T2G', 'T2G', 'T2G', 'T2G', 'T2G', 'T2G', 'T2G', 'T2G', 'T2G', 'T2G', 'T2G', 'T2G', 'T2G', 'T2G', 'T2G', 'T2D', 'T2G', 'T2G', 'T2G', 'T2G', 'T2G', 'T2G', 'T2G', 'T2G', 'T2G', 'T2G', 'T2D', 'T2G', 'T2G', 'T2G', 'T2G', 'T2G', 'T2G', 'T2D', 'T2G', 'T2G', 'T2G', 'T2G', 'T2G', 'T2G', 'T2G', 'T2G', 'T2G', 'T2G', 'T2G', 'T2G', 'T2G', 'T2G', 'T2G', 'T2G', 'T2G', 'T2G', 'T2G', 'T2G', 'T2G', 'T2G', 'T2G', 'T2G', 'T2G', 'T2G', 'T2G', 'T2G', 'T2G', 'T2G', 'T2G', 'T2G', 'T2G', 'T2G', 'T2G', 'T2G', 'T2G', 'T2G', 'T2G', 'T2G', 'T2G', 'T2G', 'T2G', 'T2G', 'T2G', 'T2G', 'T2G', 'T2G', 'T2G', 'T2G', 'T2G', 'T2G', 'T2G', 'T2G', 'T2G', 'T2G', 'T2G', 'T2G', 'T2G', 'T2G', 'T2G', 'T2G', 'T2G', 'T2G', 'T2G', 'T2G', 'T2G', 'T2G', 'T2G', 'T2G', 'T2G', 'T2G', 'T2G', 'T2G', 'T2G', 'T2G', 'T2G', 'T2G', 'T2G', 'T2G', 'T2D', 'T2G', 'T2G', 'T2G', 'T2G', 'T2G', 'T2G', 'T2G', 'T2G', 'T2G', 'T2G', 'T2G', 'T2G', 'T2G', 'T2G', 'T2G', 'T2G', 'T2G', 'T2G', 'T2G', 'T2G', 'T2G', 'T2G', 'T2G', 'T2G', 'T2G', 'T2G', 'T2G', 'T2G', 'T2G', 'T2G', 'T2G', 'T2G', 'T2G', 'T2G', 'T2G', 'T2G', 'T2G', 'T2G', 'T2G', 'T2G', 'T2G', 'T2G', 'T2G', 'T2D', 'T2G', 'T2G', 'T2G', 'T2G', 'T2D', 'T2G', 'T2G', 'T2G', 'T2G', 'T2G', 'T2G', 'T2G', 'T2G', 'T2G', 'T2G', 'T2G', 'T2G', 'T2G', 'T2G', 'T2G', 'T2G', 'T2G', 'T2G', 'T2G', 'T2G', 'T2G', 'T2G', 'T2G', 'T2G', 'T2G', 'T2G', 'T2G', 'T2G', 'T2G', 'T2G', 'T2G', 'T2G', 'T2G', 'T2G', 'T2G', 'T2G', 'T2G', 'T2G', 'T2G', 'T2G', 'T2G', 'T2G', 'T2G', 'T2G', 'T2G', 'T2G', 'T2G', 'T2G', 'T2G', 'T2G', 'T2G', 'T2G', 'T2G', 'T2G', 'T2G', 'T2G', 'T2G', 'T2G', 'T2G', 'T2G', 'T2G', 'T2G', 'T2G', 'T2G', 'T2G', 'T2G', 'T2G', 'T2G', 'T2G', 'T2G', 'T2G', 'T2G', 'T2G', 'T2G', 'T2G', 'T2G', 'T2G', 'T2G', 'T2G', 'T2G', 'T2D', 'T2G', 'T2G', 'T2G', 'T2G', 'T2G', 'T2G', 'T2G', 'T2G', 'T2G', 'T2G', 'T2G', 'T2G', 'T2G', 'T2G', 'T2G', 'T2G', 'T2G', 'T2G', 'T2G', 'T2G', 'T2G', 'T2G', 'T2G', 'T2G', 'T2G', 'T2G', 'T2D', 'T2G', 'T2G', 'T2G', 'T2G', 'T2G', 'T2G', 'T2G', 'T2G', 'T2G', 'T2G', 'T2G', 'T2G', 'T2G', 'T2G', 'T2G', 'T2G', 'T2G', 'T2G', 'T2G', 'T2G', 'T2G', 'T2G', 'T2G', 'T2G', 'T2G', 'T2G', 'T2G', 'T2G', 'T2G', 'T2G', 'T2G', 'T2G', 'T2G', 'T2G', 'T2G', 'T2D', 'T2G', 'T2G', 'T2G', 'T2G', 'T2G', 'T2G', 'T2G', 'T2G', 'T2G', 'T2G', 'T2G', 'T2G', 'T2G', 'T2G', 'T2D', 'T2G', 'T2G', 'T2G', 'T2G', 'T2G', 'T2G', 'T2G', 'T2G', 'T2G', 'T2G', 'T2G', 'T2G', 'T2G', 'T2G', 'T2G', 'T2G', 'T2G', 'T2G', 'T2G', 'T2G', 'T2G', 'T2G', 'T2G', 'T2G', 'T2G', 'T2G', 'T2G', 'T2G', 'T2G', 'T2G', 'T2G', 'T2G', 'T2G', 'T2G', 'T2G', 'T2G', 'T2G', 'T2G', 'T2G', 'T2G', 'T2G', 'T2G', 'T2G', 'T2G', 'T2G', 'T2G', 'T2G', 'T2G', 'T2G', 'T2G', 'T2G', 'T2G', 'T2G', 'T2G', 'T2G', 'T2G', 'T2G', 'T2G', 'T2G', 'T2G', 'T2G', 'T2G', 'T2G', 'T2G', 'T2G', 'T2G', 'T2G', 'T2G', 'T2G', 'T2G', 'T2G', 'T2G', 'T2G', 'T2G', 'T2G', 'T2G', 'T2G', 'T2G', 'T2G', 'T2G', 'T2G', 'T2G', 'T2G', 'T2G', 'T2G', 'T2G', 'T2G', 'T2G', 'T2G', 'T2G', 'T2G', 'T2G', 'T2G', 'T2G', 'T2G', 'T2G', 'T2G', 'T2G', 'T2G', 'T2G', 'T2G', 'T2G', 'T2G', 'T2G', 'T2G', 'T2G', 'T2G', 'T2G', 'T2G', 'T2G', 'T2G', 'T2G', 'T2G', 'T2G', 'T2G', 'T2G', 'T2G', 'T2G', 'T2G', 'T2G', 'T2G', 'T2G', 'T2G', 'T2G', 'T2G', 'T2G', 'T2G', 'T2G', 'T2G', 'T2G', 'T2G', 'T2G', 'T2D', 'T2G', 'T2G', 'T2G', 'T2G', 'T2G', 'T2G', 'T2G', 'T2G', 'T2G', 'T2G', 'T2G', 'T2G', 'T2G', 'T2G', 'T2G', 'T2G', 'T2G', 'T2G', 'T2G', 'T2G', 'T2G', 'T2G', 'T2G', 'T2G', 'T2G', 'T2G', 'T2G', 'T2G', 'T2G', 'T2G', 'T2G', 'T2G', 'T2G', 'T2G', 'T2G', 'T2G', 'T2G', 'T2G', 'T2G', 'T2G', 'T2G', 'T2G', 'T2G', 'T2G', 'T2D', 'T2G', 'T2G', 'T2G', 'T2G', 'T2G', 'T2G', 'T2G', 'T2G', 'T2G', 'T2G', 'T2G', 'T2G', 'T2G', 'T2G', 'T2G', 'T2G', 'T2G', 'T2G', 'T2G', 'T2G', 'T2G', 'T2G', 'T2G', 'T2G', 'T2G', 'T2G', 'T2G', 'T2G', 'T2G', 'T2G', 'T2G', 'T2G', 'T2G', 'T2G', 'T2G', 'T2G', 'T2G', 'T2G', 'T2G', 'T2D', 'T2G', 'T2G', 'T2G', 'T2G', 'T2G', 'T2G', 'T2G', 'T2G', 'T2G', 'T2G', 'T2G', 'T2G', 'T2D', 'T2G', 'T2G', 'T2G', 'T2G', 'T2G', 'T2G', 'T2G', 'T2G', 'T2G', 'T2G', 'T2G', 'T2G', 'T2G', 'T2G', 'T2G', 'T2G', 'T2G', 'T2G', 'T2G', 'T2G', 'T2G', 'T2D', 'T2G', 'T2G', 'T2G', 'T2G', 'T2G', 'T2G', 'T2G', 'T2G', 'T2G', 'T2G', 'T2G', 'T2G', 'T2G', 'T2G', 'T2G', 'T2G', 'T2G', 'T2G', 'T2G', 'T2G', 'T2G', 'T2G', 'T2G', 'T2G', 'T2G', 'T2D', 'T2G', 'T2G', 'T2G', 'T2G', 'T2G', 'T2G', 'T2G', 'T2G', 'T2G', 'T2G', 'T2G', 'T2G', 'T2G', 'T2G', 'T2G', 'T2G', 'T2G', 'T2G', 'T2G', 'T2D', 'T2G', 'T2G', 'T2G', 'T2G', 'T2G', 'T2G', 'T2G', 'T2G', 'T2G', 'T2G', 'T2G', 'T2G', 'T2G', 'T2G', 'T2G', 'T2G', 'T2G', 'T2G', 'T2G', 'T2G', 'T2G', 'T2G', 'T2G', 'T2G', 'T2G', 'T2G', 'T2G', 'T2G', 'T2G', 'T2D', 'T2G', 'T2G', 'T2G', 'T2G', 'T2G', 'T2G', 'T2G', 'T2G', 'T2G', 'T2G', 'T2G', 'T2G', 'T2G', 'T2G', 'T2G', 'T2G', 'T2G', 'T2G', 'T2G', 'T2G', 'T2G', 'T2G', 'T2G', 'T2G', 'T2G', 'T2G', 'T2G', 'T2G', 'T2G', 'T2G', 'T2G', 'T2G', 'T2G', 'T2G', 'T2D', 'T2G', 'T2G', 'T2G', 'T2G', 'T2G', 'T2G', 'T2G', 'T2G', 'T2G', 'T2G', 'T2G', 'T2G', 'T2G', 'T2G', 'T2G', 'T2G', 'T2G', 'T2G', 'T2G', 'T2G', 'T2G', 'T2G', 'T2G', 'T2G', 'T2G', 'T2G', 'T2G', 'T2G', 'T2G', 'T2G', 'T2G', 'T2D', 'T2G', 'T2G', 'T2G', 'T2G', 'T2G', 'T2G', 'T2G', 'T2G', 'T2G', 'T2G', 'T2D', 'T2G', 'T2G', 'T2G', 'T2G', 'T2G', 'T2G', 'T2G', 'T2G', 'T2G', 'T2G', 'T2G', 'T2G', 'T2G', 'T2G', 'T2G', 'T2G', 'T2G', 'T2G', 'T2G', 'T2G', 'T2G', 'T2G', 'T2G', 'T2G', 'T2G', 'T2G', 'T2G', 'T2G', 'T2G', 'T2G', 'T2G', 'T2G', 'T2G', 'T2G', 'T2G', 'T2G', 'T2G', 'T2G', 'T2G', 'T2G', 'T2G', 'T2G', 'T2G', 'T2G', 'T2G', 'T2G', 'T2G', 'T2G', 'T2G', 'T2G', 'T2G', 'T2G', 'T2G', 'T2G', 'T2G', 'T2G', 'T2G', 'T2G', 'T2G', 'T2G', 'T2G', 'T2G', 'T2G', 'T2G', 'T2G', 'T2G', 'T2G', 'T2G', 'T2G', 'T2G', 'T2G', 'T2G', 'T2G', 'T2G', 'T2G', 'T2G', 'T2G', 'T2G', 'T2G', 'T2G', 'T2G', 'T2G', 'T2G', 'T2G', 'T2G', 'T2G', 'T2G', 'T2G', 'T2G', 'T2G', 'T2G', 'T2G', 'T2G', 'T2G', 'T2G', 'T2G', 'T2G', 'T2G', 'T2G', 'T2G', 'T2G', 'T2G', 'T2G', 'T2G', 'T2G', 'T2G', 'T2G', 'T2G', 'T2G', 'T2G', 'T2G', 'T2G', 'T2G', 'T2G', 'T2D', 'T2G', 'T2G', 'T2G', 'T2G', 'T2G', 'T2G', 'T2G', 'T2G', 'T2G', 'T2G', 'T2G', 'T2G', 'T2G', 'T2G', 'T2G', 'T2G', 'T2G', 'T2G', 'T2G', 'T2G', 'T2G', 'T2G', 'T2G', 'T2G', 'T2G', 'T2G', 'T2G', 'T2G', 'T2G', 'T2G', 'T2G', 'T2G', 'T2G', 'T2G', 'T2G', 'T2G', 'T2G', 'T2G', 'T2G', 'T2G', 'T2G', 'T2G', 'T2G', 'T2G', 'T2G', 'T2G', 'T2G', 'T2G', 'T2G', 'T2G', 'T2G', 'T2G', 'T2G', 'T2G', 'T2D', 'T2G', 'T2G', 'T2G', 'T2G', 'T2G', 'T2G', 'T2G', 'T2G', 'T2G', 'T2G', 'T2G', 'T2G', 'T2G', 'T2G', 'T2G', 'T2G', 'T2G', 'T2G', 'T2G', 'T2G', 'T2G', 'T2G', 'T2G', 'T2G', 'T2G', 'T2G', 'T2G', 'T2G', 'T2G', 'T2G', 'T2G', 'T2G', 'T2G', 'T2G', 'T2G', 'T2G', 'T2G', 'T2G', 'T2G', 'T2G', 'T2G', 'T2G', 'T2G', 'T2G', 'T2G', 'T2G', 'T2G', 'T2G', 'T2G', 'T2G', 'T2G', 'T2G', 'T2G', 'T2G', 'T2G', 'T2G', 'T2G', 'T2G', 'T2G', 'T2G', 'T2G', 'T2G', 'T2G', 'T2G', 'T2G', 'T2G', 'T2G', 'T2G', 'T2G', 'T2G', 'T2G', 'T2G', 'T2G', 'T2G', 'T2G', 'T2G', 'T2G', 'T2G', 'T2G', 'T2G', 'T2G', 'T2G', 'T2G', 'T2G', 'T2G', 'T2G', 'T2G', 'T2G', 'T2G', 'T2G', 'T2G', 'T2G', 'T2G', 'T2G', 'T2G', 'T2G', 'T2G', 'T2G', 'T2G', 'T2G', 'T2G', 'T2G', 'T2G', 'T2G', 'T2G', 'T2G', 'T2G', 'T2G', 'T2G', 'T2G', 'T2G', 'T2G', 'T2G', 'T2G', 'T2G', 'T2G', 'T2D', 'T2G', 'T2G', 'T2G', 'T2G', 'T2G', 'T2G', 'T2G', 'T2G', 'T2G', 'T2G', 'T2G', 'T2G', 'T2G', 'T2G', 'T2G', 'T2G', 'T2G', 'T2G', 'T2G', 'T2G', 'T2G', 'T2G', 'T2G', 'T2G', 'T2G', 'T2G', 'T2G', 'T2G', 'T2G', 'T2G', 'T2G', 'T2G', 'T2G', 'T2G', 'T2D', 'T2G', 'T2G', 'T2G', 'T2G', 'T2G', 'T2G', 'T2G', 'T2G', 'T2G', 'T2G', 'T2G', 'T2G', 'T2G', 'T2G', 'T2G', 'T2G', 'T2G', 'T2G', 'T2G', 'T2G', 'T2G', 'T2G', 'T2G', 'T2G', 'T2G', 'T2G', 'T2G', 'T2G', 'T2G', 'T2G', 'T2G', 'T2G', 'T2G', 'T2G', 'T2G', 'T2G', 'T2G', 'T2G', 'T2G', 'T2G', 'T2G', 'T2G', 'T2G', 'T2G', 'T2G', 'T2G', 'T2G', 'T2G', 'T2G', 'T2G', 'T2G', 'T2G', 'T2G', 'T2G', 'T2G', 'T2G', 'T2G', 'T2G', 'T2G', 'T2G', 'T2G', 'T2G', 'T2G', 'T2G', 'T2G', 'T2G', 'T2G', 'T2G', 'T2G', 'T2G', 'T2G', 'T2G', 'T2G', 'T2G', 'T2G', 'T2D', 'T2G', 'T2G', 'T2G', 'T2G', 'T2G', 'T2G', 'T2G', 'T2G', 'T2G', 'T2G', 'T2G', 'T2G', 'T2G', 'T2G', 'T2G', 'T2G', 'T2G', 'T2G', 'T2G', 'T2G', 'T2G', 'T2G', 'T2G', 'T2G', 'T2G', 'T2G', 'T2G', 'T2G', 'T2G', 'T2G', 'T2G', 'T2D', 'T2G', 'T2G', 'T2G', 'T2G', 'T2G', 'T2G', 'T2G', 'T2G', 'T2G', 'T2G', 'T2G', 'T2G', 'T2G', 'T2G', 'T2G', 'T2G', 'T2G', 'T2G', 'T2G', 'T2G', 'T2G', 'T2G', 'T2G', 'T2G', 'T2G', 'T2G', 'T2G', 'T2G', 'T2G', 'T2G', 'T2G', 'T2G', 'T2G', 'T2G', 'T2G', 'T2G', 'T2G', 'T2G', 'T2G', 'T2G', 'T2G', 'T2G', 'T2G', 'T2G', 'T2G', 'T2G', 'T2G', 'T2G', 'T2G', 'T2G', 'T2G', 'T2G', 'T2G', 'T2G', 'T2G', 'T2G', 'T2G', 'T2G', 'T2G', 'T2G', 'T2G', 'T2D', 'T2G', 'T2G', 'T2G', 'T2G', 'T2D', 'T2G', 'T2G', 'T2G', 'T2G', 'T2G', 'T2G', 'T2G', 'T2G', 'T2G', 'T2G', 'T2G', 'T2G', 'T2G', 'T2G', 'T2G', 'T2G', 'T2G', 'T2G', 'T2G', 'T2G', 'T2G', 'T2G', 'T2G', 'T2G', 'T2G', 'T2G', 'T2G', 'T2G', 'T2G', 'T2G', 'T2G', 'T2G', 'T2G', 'T2G', 'T2G', 'T2G', 'T2G', 'T2G', 'T2G', 'T2G', 'T2G', 'T2G', 'T2G', 'T2G', 'T2G', 'T2G', 'T2G', 'T2G', 'T2G', 'T2G', 'T2G', 'T2G', 'T2G', 'T2G', 'T2G', 'T2G', 'T2G', 'T2G', 'T2G', 'T2G', 'T2G', 'T2G', 'T2G', 'T2G', 'T2G', 'T2G', 'T2G', 'T2G', 'T2G', 'T2G', 'T2G', 'T2G', 'T2G', 'T2G', 'T2G', 'T2G', 'T2G', 'T2G', 'T2G', 'T2G', 'T2G', 'T2G', 'T2G', 'T2G', 'T2G', 'T2G', 'T2G', 'T2G', 'T2G', 'T2G', 'T2G', 'T2G', 'T2G', 'T2G', 'T2G', 'T2G', 'T2G', 'T2G', 'T2G', 'T2G', 'T2G', 'T2G', 'T2G', 'T2G', 'T2G', 'T2G', 'T2G', 'T2G', 'T2G', 'T2G', 'T2G', 'T2G', 'T2G', 'T2G', 'T2G', 'T2G', 'T2G', 'T2G', 'T2G', 'T2G', 'T2G', 'T2G', 'T2G', 'T2G', 'T2G', 'T2G', 'T2G', 'T2G', 'T2G', 'T2G', 'T2G', 'T2G', 'T2G', 'T2G', 'T2G', 'T2G', 'T2G', 'T2G', 'T2G', 'T2G', 'T2G', 'T2G', 'T2G', 'T2G', 'T2G', 'T2G', 'T2G', 'T2G', 'T2G', 'T2G', 'T2G', 'T2G', 'T2G', 'T2G', 'T2G', 'T2G', 'T2G', 'T2G', 'T2G', 'T2G', 'T2G', 'T2G', 'T2G', 'T2G', 'T2G', 'T2G', 'T2G', 'T2G', 'T2G', 'T2G', 'T2G', 'T2G', 'T2G', 'T2G', 'T2G', 'T2G', 'T2G', 'T2G', 'T2G', 'T2G', 'T2G', 'T2G', 'T2G', 'T2G', 'T2G', 'T2G', 'T2G', 'T2G', 'T2G', 'T2G', 'T2G', 'T2G', 'T2G', 'T2G', 'T2G', 'T2G', 'T2G', 'T2G', 'T2G', 'T2G', 'T2G', 'T2G', 'T2G', 'T2G', 'T2G', 'T2G', 'T2G', 'T2G', 'T2G', 'T2G', 'T2G', 'T2G', 'T2D', 'T2G', 'T2G', 'T2G', 'T2G', 'T2G', 'T2G', 'T2G', 'T2G', 'T2G', 'T2G', 'T2G', 'T2G', 'T2G', 'T2G', 'T2G', 'T2G', 'T2G', 'T2G', 'T2G', 'T2G', 'T2G', 'T2G', 'T2G', 'T2G', 'T2G', 'T2G', 'T2G', 'T2G', 'T2G', 'T2G', 'T2G', 'T2G', 'T2G', 'T2G', 'T2G', 'T2G', 'T2G', 'T2G', 'T2G', 'T2G', 'T2G', 'T2G', 'T2G', 'T2G', 'T2G', 'T2G', 'T2G', 'T2G', 'T2G', 'T2G', 'T2G', 'T2G', 'T2G', 'T2G', 'T2G', 'T2G', 'T2G', 'T2G', 'T2G', 'T2G', 'T2G', 'T2G', 'T2G', 'T2G', 'T2G', 'T2G', 'T2D', 'T2G', 'T2G', 'T2G', 'T2G', 'T2G', 'T2G', 'T2G', 'T2G', 'T2G', 'T2G', 'T2G', 'T2G', 'T2G', 'T2G', 'T2G', 'T2G', 'T2G', 'T2G', 'T2G', 'T2G', 'T2G', 'T2G', 'T2G', 'T2G', 'T2G', 'T2G', 'T2G', 'T2G', 'T2G', 'T2G', 'T2G', 'T2G', 'T2G', 'T2G', 'T2G', 'T2G', 'T2G', 'T2G', 'T2G', 'T2G', 'T2G', 'T2G', 'T2G', 'T2G', 'T2G', 'T2G', 'T2G', 'T2G', 'T2G', 'T2G', 'T2G', 'T2G', 'T2G', 'T2G', 'T2G', 'T2G', 'T2G', 'T2G', 'T2G', 'T2G', 'T2G', 'T2D', 'T2G', 'T2G', 'T2G', 'T2G', 'T2G', 'T2G', 'T2G', 'T2D', 'T2G', 'T2G', 'T2G', 'T2G', 'T2G', 'T2G', 'T2G', 'T2G', 'T2G', 'T2G', 'T2G', 'T2G', 'T2G', 'T2G', 'T2G', 'T2G', 'T2G', 'T2G', 'T2G', 'T2G', 'T2D', 'T2G', 'T2G', 'T2G', 'T2G', 'T2G', 'T2G', 'T2G', 'T2G', 'T2G', 'T2G', 'T2G', 'T2D', 'T2G', 'T2G', 'T2G', 'T2G', 'T2G', 'T2G', 'T2G', 'T2G', 'T2G', 'T2G', 'T2G', 'T2G', 'T2G', 'T2G', 'T2G', 'T2G', 'T2G', 'T2G', 'T2G', 'T2G', 'T2G', 'T2G', 'T2G', 'T2G', 'T2G', 'T2G', 'T2G', 'T2G', 'T2G', 'T2G', 'T2G', 'T2G', 'T2G', 'T2G', 'T2G', 'T2G', 'T2G', 'T2G', 'T2G', 'T2G', 'T2G', 'T2G', 'T2G', 'T2G', 'T2G', 'T2G', 'T2G', 'T2G', 'T2G', 'T2G', 'T2G', 'T2G', 'T2G', 'T2G', 'T2G', 'T2G', 'T2G', 'T2G', 'T2G', 'T2G', 'T2G', 'T2G', 'T2G', 'T2G', 'T2G', 'T2G', 'T2G', 'T2G', 'T2G', 'T2G', 'T2G', 'T2G', 'T2G', 'T2G', 'T2G', 'T2G', 'T2G', 'T2G', 'T2G', 'T2G', 'T2G', 'T2G', 'T2G', 'T2G', 'T2G', 'T2G', 'T2G', 'T2G', 'T2G', 'T2G', 'T2G', 'T2G', 'T2G', 'T2G', 'T2G', 'T2G', 'T2G', 'T2G', 'T2G', 'T2G', 'T2G', 'T2G', 'T2G', 'T2G', 'T2G', 'T2G', 'T2G', 'T2G', 'T2G', 'T2G', 'T2G', 'T2G', 'T2G', 'T2G', 'T2G', 'T2G', 'T2G', 'T2G', 'T2G', 'T2G', 'T2G', 'T2G', 'T2G', 'T2G', 'T2G', 'T2G', 'T2G', 'T2G', 'T2G', 'T2G', 'T2G', 'T2G', 'T2G', 'T2G', 'T2G', 'T2G', 'T2G', 'T2G', 'T2G', 'T2G', 'T2D', 'T2G', 'T2G', 'T2G', 'T2G', 'T2D', 'T2G', 'T2D', 'T2G', 'T2G', 'T2G', 'T2G', 'T2G', 'T2G', 'T2G', 'T2G', 'T2G', 'T2G', 'T2G', 'T2G', 'T2G', 'T2G', 'T2G', 'T2G', 'T2G', 'T2G', 'T2G', 'T2G', 'T2G', 'T2G', 'T2G', 'T2G', 'T2G', 'T2G', 'T2G', 'T2G', 'T2G', 'T2G', 'T2G', 'T2G', 'T2G', 'T2G', 'T2G', 'T2G', 'T2G', 'T2G', 'T2G', 'T2G', 'T2G', 'T2G', 'T2G', 'T2G', 'T2G', 'T2G', 'T2G', 'T2G', 'T2G', 'T2G', 'T2G', 'T2G', 'T2G', 'T2G', 'T2G', 'T2G', 'T2G', 'T2G', 'T2G', 'T2G', 'T2G', 'T2G', 'T2G', 'T2G', 'T2G', 'T2G', 'T2G', 'T2G', 'T2G', 'T2G', 'T2G', 'T2G', 'T2G', 'T2G', 'T2G', 'T2G', 'T2G', 'T2G', 'T2G', 'T2G', 'T2G', 'T2G', 'T2G', 'T2G', 'T2G', 'T2G', 'T2G', 'T2G', 'T2G', 'T2G', 'T2G', 'T2G', 'T2G', 'T2G', 'T2G', 'T2G', 'T2G', 'T2G', 'T2G', 'T2G', 'T2G', 'T2G', 'T2G', 'T2G', 'T2G', 'T2G', 'T2G', 'T2G', 'T2G', 'T2G', 'T2G', 'T2G', 'T2G', 'T2G', 'T2G', 'T2G', 'T2G', 'T2G', 'T2G', 'T2G', 'T2G', 'T2G', 'T2G', 'T2G', 'T2G', 'T2G', 'T2G', 'T2G', 'T2G', 'T2G', 'T2G', 'T2G', 'T2G', 'T2G', 'T2G', 'T2G', 'T2G', 'T2G', 'T2G', 'T2G', 'T2G', 'T2G', 'T2G', 'T2G', 'T2G', 'T2G', 'T2G', 'T2D', 'T2G', 'T2G', 'T2G', 'T2G', 'T2G', 'T2G', 'T2G', 'T2G', 'T2G', 'T2G', 'T2G', 'T2G', 'T2G', 'T2G', 'T2G', 'T2G', 'T2G', 'T2G', 'T2G', 'T2G', 'T2G', 'T2G', 'T2G', 'T2G', 'T2G', 'T2G', 'T2G', 'T2G', 'T2G', 'T2G', 'T2G', 'T2G', 'T2G', 'T2G', 'T2G', 'T2G', 'T2G', 'T2G', 'T2G', 'T2G', 'T2G', 'T2G', 'T2G', 'T2G', 'T2G', 'T2G', 'T2G', 'T2G', 'T2G', 'T2G', 'T2G', 'T2G', 'T2G', 'T2G', 'T2G', 'T2G', 'T2G', 'T2G', 'T2G', 'T2G', 'T2G', 'T2G', 'T2G', 'T2G', 'T2G', 'T2G', 'T2G', 'T2G', 'T2G', 'T2G', 'T2G', 'T2G', 'T2G', 'T2G', 'T2G', 'T2G', 'T2G', 'T2G', 'T2G', 'T2G', 'T2G', 'T2G', 'T2D', 'T2G', 'T2G', 'T2G', 'T2G', 'T2G', 'T2D', 'T2G', 'T2G', 'T2G', 'T2G', 'T2G', 'T2G', 'T2G', 'T2G', 'T2G', 'T2G', 'T2G', 'T2G', 'T2G', 'T2G', 'T2G', 'T2G', 'T2G', 'T2G', 'T2G', 'T2G', 'T2G', 'T2G', 'T2G', 'T2D', 'T2G', 'T2G', 'T2D', 'T2G', 'T2G', 'T2G', 'T2G', 'T2G', 'T2G', 'T2G', 'T2G', 'T2G', 'T2G', 'T2G', 'T2G', 'T2G', 'T2G', 'T2G', 'T2G', 'T2G', 'T2G', 'T2G', 'T2G', 'T2G', 'T2G', 'T2G', 'T2G', 'T2G', 'T2G', 'T2G', 'T2G', 'T2G', 'T2G', 'T2G', 'T2G', 'T2G', 'T2G', 'T2G', 'T2G', 'T2G', 'T2G', 'T2G', 'T2G', 'T2G', 'T2G', 'T2G', 'T2G', 'T2G', 'T2G', 'T2G', 'T2G', 'T2G', 'T2G', 'T2G', 'T2G', 'T2G', 'T2G', 'T2G', 'T2D', 'T2G', 'T2G', 'T2G', 'T2G', 'T2G', 'T2G', 'T2G', 'T2G', 'T2G', 'T2G', 'T2G', 'T2G', 'T2G', 'T2G', 'T2G', 'T2G', 'T2G', 'T2G', 'T2G', 'T2G', 'T2G', 'T2D', 'T2G', 'T2G', 'T2G', 'T2G', 'T2G', 'T2G', 'T2G', 'T2G', 'T2G', 'T2G', 'T2G', 'T2G', 'T2G', 'T2G', 'T2G', 'T2G', 'T2G', 'T2G', 'T2G', 'T2G', 'T2G', 'T2G', 'T2G', 'T2G', 'T2G', 'T2G', 'T2G', 'T2G', 'T2G', 'T2G', 'T2G', 'T2G', 'T2G', 'T2G', 'T2G', 'T2G', 'T2G', 'T2G', 'T2G', 'T2G', 'T2G', 'T2G', 'T2G', 'T2G', 'T2G', 'T2G', 'T2G', 'T2G', 'T2G', 'T2G', 'T2G', 'T2G', 'T2G', 'T2G', 'T2G', 'T2G', 'T2G', 'T2G', 'T2G', 'T2G', 'T2G', 'T2G', 'T2G', 'T2G', 'T2G', 'T2G', 'T2G', 'T2G', 'T2G', 'T2G', 'T2G', 'T2G', 'T2G', 'T2G', 'T2G', 'T2G', 'T2G', 'T2G', 'T2G', 'T2G', 'T2G', 'T2G', 'T2G', 'T2G', 'T2G', 'T2G', 'T2G', 'T2G', 'T2G', 'T2G', 'T2G', 'T2D', 'T2G', 'T2G', 'T2G', 'T2G', 'T2G', 'T2G', 'T2G', 'T2G', 'T2G', 'T2G', 'T2G', 'T2G', 'T2G', 'T2G', 'T2G', 'T2G', 'T2G', 'T2G', 'T2G', 'T2D', 'T2G', 'T2G', 'T2G', 'T2G', 'T2G', 'T2G', 'T2G', 'T2G', 'T2G', 'T2G', 'T2G', 'T2G', 'T2G', 'T2G', 'T2G', 'T2G', 'T2G', 'T2G', 'T2G', 'T2G', 'T2G', 'T2G', 'T2G', 'T2G', 'T2D', 'T2G', 'T2G', 'T2G', 'T2G', 'T2G', 'T2G', 'T2G', 'T2G', 'T2G', 'T2G', 'T2G', 'T2G', 'T2G', 'T2G', 'T2G', 'T2G', 'T2G', 'T2G', 'T2G', 'T2D', 'T2G', 'T2G', 'T2G', 'T2G', 'T2G', 'T2G', 'T2G', 'T2G', 'T2G', 'T2G', 'T2G', 'T2G', 'T2G', 'T2G', 'T2G', 'T2G', 'T2G', 'T2G', 'T2G', 'T2G', 'T2G', 'T2G', 'T2G', 'T2G', 'T2G', 'T2G', 'T2G', 'T2G', 'T2G', 'T2G', 'T2G', 'T2G', 'T2G', 'T2G', 'T2G', 'T2G', 'T2G', 'T2G', 'T2G', 'T2G', 'T2G', 'T2G', 'T2G', 'T2G', 'T2G', 'T2G', 'T2G', 'T2G', 'T2G', 'T2G', 'T2G', 'T2G', 'T2G', 'T2G', 'T2G', 'T2G', 'T2G', 'T2G', 'T2G', 'T2G', 'T2G', 'T2D', 'T2G', 'T2G', 'T2G', 'T2G', 'T2G', 'T2G', 'T2G', 'T2G', 'T2G', 'T2G', 'T2G', 'T2G', 'T2G', 'T2G', 'T2G', 'T2G', 'T2G', 'T2G', 'T2G', 'T2G', 'T2G', 'T2G', 'T2G', 'T2G', 'T2G', 'T2G', 'T2G', 'T2G', 'T2G', 'T2G', 'T2G', 'T2G', 'T2G', 'T2G', 'T2G', 'T2G', 'T2G', 'T2G', 'T2G', 'T2G', 'T2G', 'T2G', 'T2G', 'T2G', 'T2G', 'T2G', 'T2G', 'T2G', 'T2G', 'T2G', 'T2G', 'T2G', 'T2D', 'T2G', 'T2G', 'T2G', 'T2G', 'T2D', 'T2G', 'T2G', 'T2G', 'T2G', 'T2D', 'T2G', 'T2G', 'T2G', 'T2G', 'T2G', 'T2G', 'T2G', 'T2G', 'T2G', 'T2G', 'T2G', 'T2G', 'T2G', 'T2G', 'T2G', 'T2G', 'T2G', 'T2G', 'T2G', 'T2G', 'T2G', 'T2G', 'T2G', 'T2G', 'T2G', 'T2G', 'T2G', 'T2G', 'T2G', 'T2G', 'T2G', 'T2G', 'T2G', 'T2G', 'T2G', 'T2G', 'T2G', 'T2G', 'T2G', 'T2G', 'T2G', 'T2G', 'T2G', 'T2G', 'T2G', 'T2G', 'T2G', 'T2G', 'T2G', 'T2G', 'T2G', 'T2G', 'T2G', 'T2G', 'T2G', 'T2G', 'T2G', 'T2G', 'T2G', 'T2G', 'T2G', 'T2G', 'T2G', 'T2G', 'T2G', 'T2G', 'T2G', 'T2G', 'T2G', 'T2G', 'T2G', 'T2G', 'T2G', 'T2G', 'T2G', 'T2G', 'T2G', 'T2G', 'T2G', 'T2G', 'T2G', 'T2G', 'T2G', 'T2G', 'T2G', 'T2G', 'T2G', 'T2G', 'T2G', 'T2G', 'T2G', 'T2G', 'T2G', 'T2G', 'T2D', 'T2G', 'T2G', 'T2G', 'T2G', 'T2G', 'T2G', 'T2G', 'T2G', 'T2G', 'T2G', 'T2G', 'T2G', 'T2G', 'T2G', 'T2G', 'T2G', 'T2G', 'T2G', 'T2G', 'T2G', 'T2G', 'T2G', 'T2G', 'T2G', 'T2G', 'T2G', 'T2G', 'T2G', 'T2G', 'T2G', 'T2G', 'T2G', 'T2G', 'T2G', 'T2G', 'T2G', 'T2G', 'T2G', 'T2G', 'T2G', 'T2G', 'T2G', 'T2G', 'T2G', 'T2G', 'T2G', 'T2G', 'T2G', 'T2G', 'T2G', 'T2G', 'T2G', 'T2G', 'T2G', 'T2G', 'T2G', 'T2G', 'T2G', 'T2G', 'T2G', 'T2G', 'T2G', 'T2G', 'T2G', 'T2D', 'T2G', 'T2G', 'T2G', 'T2G', 'T2G', 'T2G', 'T2G', 'T2G', 'T2G', 'T2G', 'T2G', 'T2G', 'T2G', 'T2G', 'T2G', 'T2G', 'T2G', 'T2G', 'T2G', 'T2G', 'T2G', 'T2G', 'T2G', 'T2G', 'T2G', 'T2G', 'T2G', 'T2G', 'T2G', 'T2G', 'T2G', 'T2G', 'T2G', 'T2G', 'T2G', 'T2G', 'T2G', 'T2G', 'T2G', 'T2G', 'T2G', 'T2G', 'T2G', 'T2G', 'T2G', 'T2G', 'T2G', 'T2G', 'T2G', 'T2G', 'T2G', 'T2G', 'T2G', 'T2G', 'T2G', 'T2G', 'T2G', 'T2G', 'T2G', 'T2G', 'T2G', 'T2G', 'T2G', 'T2G', 'T2G', 'T2G', 'T2G', 'T2G', 'T2G', 'T2G', 'T2G', 'T2G', 'T2G', 'T2G', 'T2G', 'T2G', 'T2G', 'T2G', 'T2G', 'T2G', 'T2G', 'T2G', 'T2G', 'T2G', 'T2G', 'T2G', 'T2G', 'T2G', 'T2G', 'T2G', 'T2G', 'T2G', 'T2G', 'T2G', 'T2G', 'T2G', 'T2G', 'T2G', 'T2G', 'T2G', 'T2G', 'T2G', 'T2G', 'T2G', 'T2G', 'T2G', 'T2G', 'T2G', 'T2G', 'T2G', 'T2G', 'T2G', 'T2G', 'T2G', 'T2G', 'T2G', 'T2G', 'T2G', 'T2G', 'T2G', 'T2G', 'T2G', 'T2G', 'T2G', 'T2G', 'T2G', 'T2G', 'T2G', 'T2G', 'T2G', 'T2G', 'T2G', 'T2G', 'T2G', 'T2G', 'T2G', 'T2G', 'T2G', 'T2G', 'T2G', 'T2G', 'T2G', 'T2G', 'T2G', 'T2G', 'T2G', 'T2G', 'T2G', 'T2G', 'T2G', 'T2G', 'T2G', 'T2G', 'T2G', 'T2G', 'T2G', 'T2G', 'T2G', 'T2G', 'T2G', 'T2G', 'T2G', 'T2G', 'T2G', 'T2G', 'T2G', 'T2G', 'T2G', 'T2G', 'T2G', 'T2G', 'T2G', 'T2G', 'T2G', 'T2G', 'T2G', 'T2G', 'T2G', 'T2G', 'T2G', 'T2G', 'T2G', 'T2G', 'T2G', 'T2G', 'T2G', 'T2G', 'T2G', 'T2G', 'T2G', 'T2G', 'T2G', 'T2G', 'T2G', 'T2G', 'T2G', 'T2G', 'T2G', 'T2G', 'T2G', 'T2G', 'T2G', 'T2G', 'T2G', 'T2G', 'T2G', 'T2G', 'T2G', 'T2G', 'T2G', 'T2G', 'T2G', 'T2G', 'T2G', 'T2G', 'T2G', 'T2G', 'T2G', 'T2G', 'T2G', 'T2G', 'T2G', 'T2G', 'T2G', 'T2G', 'T2G', 'T2G', 'T2D', 'T2G', 'T2G', 'T2G', 'T2G', 'T2G', 'T2G', 'T2G', 'T2G', 'T2G', 'T2G', 'T2G', 'T2G', 'T2G', 'T2G', 'T2G', 'T2G', 'T2G', 'T2G', 'T2G', 'T2G', 'T2G', 'T2G', 'T2G', 'T2G', 'T2G', 'T2G', 'T2G', 'T2G', 'T2G', 'T2G', 'T2G', 'T2G', 'T2G', 'T2G', 'T2G', 'T2G', 'T2G', 'T2G', 'T2G', 'T2G', 'T2G', 'T2G', 'T2G', 'T2G', 'T2G', 'T2G', 'T2G', 'T2G', 'T2G', 'T2G', 'T2G', 'T2G', 'T2G', 'T2G', 'T2G', 'T2G', 'T2G', 'T2G', 'T2G', 'T2G', 'T2G', 'T2G', 'T2G', 'T2G', 'T2G', 'T2G', 'T2G', 'T2G', 'T2G', 'T2G', 'T2G', 'T2G', 'T2G', 'T2G', 'T2G', 'T2G', 'T2G', 'T2G', 'T2G', 'T2D', 'T2G', 'T2G', 'T2G', 'T2D', 'T2G', 'T2G', 'T2G', 'T2G', 'T2G', 'T2G', 'T2G', 'T2G', 'T2G', 'T2G', 'T2D', 'T2G', 'T2G', 'T2G', 'T2G', 'T2G', 'T2G', 'T2G', 'T2G', 'T2G', 'T2G', 'T2G', 'T2G', 'T2G', 'T2G', 'T2G', 'T2G', 'T2G', 'T2G', 'T2G', 'T2G', 'T2G', 'T2G', 'T2G', 'T2G', 'T2G', 'T2G', 'T2G', 'T2G', 'T2G', 'T2G', 'T2G', 'T2G', 'T2G', 'T2G', 'T2G', 'T2G', 'T2G', 'T2G', 'T2G', 'T2G', 'T2G', 'T2G', 'T2G', 'T2G', 'T2G', 'T2G', 'T2G', 'T2G', 'T2G', 'T2G', 'T2G', 'T2G', 'T2G', 'T2G', 'T2G', 'T2G', 'T2G', 'T2G', 'T2G', 'T2G', 'T2G', 'T2G', 'T2G', 'T2G', 'T2G', 'T2G', 'T2G', 'T2G', 'T2G', 'T2G', 'T2G', 'T2G', 'T2G', 'T2G', 'T2G', 'T2G', 'T2G', 'T2G', 'T2G', 'T2G', 'T2G', 'T2G', 'T2G', 'T2G', 'T2G', 'T2G', 'T2G', 'T2G', 'T2G', 'T2G', 'T2G', 'T2G', 'T2G', 'T2G', 'T2G', 'T2G', 'T2G', 'T2G', 'T2G', 'T2G', 'T2G', 'T2G', 'T2G', 'T2G', 'T2G', 'T2G', 'T2G', 'T2G', 'T2G', 'T2G', 'T2G', 'T2G', 'T2G', 'T2G', 'T2G', 'T2G', 'T2G', 'T2G', 'T2G', 'T2G', 'T2G', 'T2G', 'T2G', 'T2G', 'T2G', 'T2G', 'T2G', 'T2G', 'T2G', 'T2G', 'T2G', 'T2G', 'T2G', 'T2G', 'T2G', 'T2G', 'T2G', 'T2G', 'T2D', 'T2D', 'T2G', 'T2G', 'T2G', 'T2G', 'T2G', 'T2G', 'T2G', 'T2G', 'T2G', 'T2G', 'T2G', 'T2G', 'T2G', 'T2G', 'T2G', 'T2G', 'T2G', 'T2G', 'T2G', 'T2G', 'T2G', 'T2G', 'T2G', 'T2G', 'T2G', 'T2G', 'T2G', 'T2G', 'T2G', 'T2G', 'T2G', 'T2G', 'T2G', 'T2G', 'T2G', 'T2G', 'T2G', 'T2G', 'T2G', 'T2G', 'T2G', 'T2G', 'T2G', 'T2G', 'T2G', 'T2G', 'T2G', 'T2G', 'T2G', 'T2G', 'T2G', 'T2G', 'T2G', 'T2G', 'T2G', 'T2G', 'T2G', 'T2G', 'T2G', 'T2G', 'T2G', 'T2G', 'T2G', 'T2G', 'T2G', 'T2G', 'T2G', 'T2G', 'T2G', 'T2G', 'T2G', 'T2G', 'T2G', 'T2G', 'T2G', 'T2G', 'T2G', 'T2G', 'T2G', 'T2G', 'T2G', 'T2G', 'T2G', 'T2G', 'T2G', 'T2G', 'T2G', 'T2G', 'T2G', 'T2G', 'T2G', 'T2G', 'T2G', 'T2G', 'T2G', 'T2G', 'T2G', 'T2G', 'T2G', 'T2G', 'T2G', 'T2G', 'T2G', 'T2G', 'T2G', 'T2G', 'T2G', 'T2G', 'T2G', 'T2G', 'T2G', 'T2G', 'T2G', 'T2G', 'T2G', 'T2G', 'T2G', 'T2G', 'T2G', 'T2G', 'T2G', 'T2G', 'T2G', 'T2G', 'T2G', 'T2G', 'T2G', 'T2G', 'T2G', 'T2G', 'T2G', 'T2G', 'T2G', 'T2G', 'T2G', 'T2G', 'T2G', 'T2G', 'T2G', 'T2G', 'T2G', 'T2G', 'T2G', 'T2G', 'T2G', 'T2G', 'T2G', 'T2G', 'T2G', 'T2G', 'T2G', 'T2G', 'T2G', 'T2G', 'T2G', 'T2G', 'T2G', 'T2G', 'T2G', 'T2G', 'T2G', 'T2G', 'T2G', 'T2G', 'T2G', 'T2G', 'T2G', 'T2G', 'T2G', 'T2G', 'T2D', 'T2G', 'T2G', 'T2G', 'T2G', 'T2G', 'T2G', 'T2G', 'T2G', 'T2G', 'T2G', 'T2G', 'T2G', 'T2G', 'T2G', 'T2G', 'T2G', 'T2G', 'T2G', 'T2G', 'T2G', 'T2G', 'T2G', 'T2G', 'T2G', 'T2G', 'T2G', 'T2G', 'T2G', 'T2G', 'T2G', 'T2G', 'T2G', 'T2G', 'T2G', 'T2G', 'T2G', 'T2G', 'T2G', 'T2G', 'T2G', 'T2G', 'T2G', 'T2G', 'T2G', 'T2G', 'T2G', 'T2G', 'T2G', 'T2G', 'T2G', 'T2G', 'T2G', 'T2G', 'T2G', 'T2G', 'T2G', 'T2G', 'T2G', 'T2G', 'T2G', 'T2G', 'T2G', 'T2G', 'T2G', 'T2G', 'T2D', 'T2G', 'T2G', 'T2G', 'T2G', 'T2G', 'T2G', 'T2G', 'T2G', 'T2G', 'T2G', 'T2G', 'T2G', 'T2G', 'T2G', 'T2G', 'T2G', 'T2G', 'T2G', 'T2G', 'T2G', 'T2G', 'T2G', 'T2G', 'T2G', 'T2G', 'T2G', 'T2G', 'T2G', 'T2G', 'T2G', 'T2G', 'T2G', 'T2G', 'T2G', 'T2G', 'T2G', 'T2G', 'T2G', 'T2G', 'T2G', 'T2G', 'T2G', 'T2G', 'T2G', 'T2G', 'T2G', 'T2G', 'T2G', 'T2G', 'T2G', 'T2G', 'T2G', 'T2G', 'T2G', 'T2G', 'T2G', 'T2G', 'T2G', 'T2G', 'T2G', 'T2G', 'T2G', 'T2G', 'T2G', 'T2G', 'T2G', 'T2G', 'T2G', 'T2G', 'T2G', 'T2G', 'T2G', 'T2G', 'T2G', 'T2G', 'T2G', 'T2G', 'T2G', 'T2G', 'T2G', 'T2G', 'T2G', 'T2G', 'T2G', 'T2G', 'T2D', 'T2G', 'T2G', 'T2G', 'T2G', 'T2G', 'T2G', 'T2G', 'T2G', 'T2G', 'T2G', 'T2G', 'T2G', 'T2G', 'T2G', 'T2G', 'T2G', 'T2G', 'T2G', 'T2G', 'T2G', 'T2G', 'T2D', 'T2G', 'T2G', 'T2G', 'T2D', 'T2G', 'T2G', 'T2G', 'T2G', 'T2G', 'T2G', 'T2G', 'T2G', 'T2G', 'T2G', 'T2G', 'T2G', 'T2G', 'T2G', 'T2G', 'T2G', 'T2G', 'T2G', 'T2G', 'T2G', 'T2G', 'T2G', 'T2G', 'T2G', 'T2G', 'T2G', 'T2G', 'T2G', 'T2G', 'T2G', 'T2G', 'T2D', 'T2G', 'T2G', 'T2G', 'T2G', 'T2G', 'T2G', 'T2G', 'T2G', 'T2G', 'T2G', 'T2G', 'T2G', 'T2G', 'T2G', 'T2G', 'T2G', 'T2G', 'T2G', 'T2G', 'T2G', 'T2G', 'T2G', 'T2G', 'T2G', 'T2G', 'T2G', 'T2G', 'T2G', 'T2G', 'T2G', 'T2G', 'T2G', 'T2G', 'T2G', 'T2G', 'T2G', 'T2G', 'T2G', 'T2G', 'T2G', 'T2G', 'T2G', 'T2G', 'T2G', 'T2G', 'T2G', 'T2G', 'T2G', 'T2G', 'T2G', 'T2G', 'T2G', 'T2G', 'T2G', 'T2G', 'T2G', 'T2G', 'T2G', 'T2G', 'T2G', 'T2G', 'T2G', 'T2G', 'T2G', 'T2G', 'T2G', 'T2G', 'T2G', 'T2G', 'T2G', 'T2G', 'T2G', 'T2D', 'T2G', 'T2G', 'T2G', 'T2G', 'T2G', 'T2G', 'T2G', 'T2G', 'T2G', 'T2G', 'T2G', 'T2G', 'T2G', 'T2G', 'T2G', 'T2G', 'T2G', 'T2G', 'T2G', 'T2G', 'T2G', 'T2G', 'T2G', 'T2G', 'T2G', 'T2G', 'T2G', 'T2G', 'T2G', 'T2G', 'T2G', 'T2G', 'T2G', 'T2G', 'T2G', 'T2G', 'T2G', 'T2G', 'T2G', 'T2G', 'T2G', 'T2G', 'T2G', 'T2G', 'T2G', 'T2G', 'T2G', 'T2G', 'T2G', 'T2G', 'T2G', 'T2G', 'T2G', 'T2G', 'T2G', 'T2G', 'T2G', 'T2G', 'T2G', 'T2D', 'T2G', 'T2G', 'T2G', 'T2G', 'T2G', 'T2G', 'T2G', 'T2G', 'T2G', 'T2G', 'T2G', 'T2G', 'T2G', 'T2G', 'T2G', 'T2G', 'T2G', 'T2G', 'T2G', 'T2G', 'T2G', 'T2G', 'T2G', 'T2G', 'T2G', 'T2G', 'T2G', 'T2G', 'T2G', 'T2G', 'T2G', 'T2G', 'T2G', 'T2G', 'T2G', 'T2G', 'T2G', 'T2G', 'T2G', 'T2G', 'T2G', 'T2G', 'T2G', 'T2G', 'T2G', 'T2G', 'T2G', 'T2G', 'T2G', 'T2G', 'T2G', 'T2D', 'T2G', 'T2G', 'T2G', 'T2G', 'T2G', 'T2G', 'T2G', 'T2D', 'T2G', 'T2G', 'T2G', 'T2G', 'T2G', 'T2G', 'T2G', 'T2G', 'T2G', 'T2G', 'T2G', 'T2G', 'T2G', 'T2G', 'T2G', 'T2G', 'T2G', 'T2G', 'T2G', 'T2G', 'T2D', 'T2G', 'T2G', 'T2G', 'T2G', 'T2G', 'T2G', 'T2G', 'T2G', 'T2G', 'T2G', 'T2G', 'T2G', 'T2G', 'T2G', 'T2G', 'T2G', 'T2G', 'T2G', 'T2G', 'T2G', 'T2G', 'T2G', 'T2G', 'T2G', 'T2G', 'T2G', 'T2G', 'T2G', 'T2G', 'T2D', 'T2D', 'T2G', 'T2G', 'T2G', 'T2G', 'T2G', 'T2G', 'T2G', 'T2G', 'T2G', 'T2G', 'T2G', 'T2G', 'T2G', 'T2G', 'T2G', 'T2G', 'T2G', 'T2G', 'T2G', 'T2G', 'T2G', 'T2G', 'T2G', 'T2G', 'T2G', 'T2G', 'T2G', 'T2G', 'T2G', 'T2G', 'T2G', 'T2G', 'T2G', 'T2G', 'T2G', 'T2G', 'T2G', 'T2G', 'T2G', 'T2G', 'T2G', 'T2G', 'T2G', 'T2D', 'T2G', 'T2G', 'T2G', 'T2G', 'T2G', 'T2G', 'T2G', 'T2G', 'T2G', 'T2G', 'T2G', 'T2G', 'T2G', 'T2G', 'T2G', 'T2G', 'T2G', 'T2G', 'T2G', 'T2G', 'T2G', 'T2G', 'T2G', 'T2G', 'T2G', 'T2G', 'T2G', 'T2G', 'T2G', 'T2G', 'T2G', 'T2G', 'T2G', 'T2G', 'T2G', 'T2G', 'T2G', 'T2G', 'T2G', 'T2G', 'T2G', 'T2G', 'T2G', 'T2G', 'T2G', 'T2G', 'T2G', 'T2G', 'T2G', 'T2G', 'T2G', 'T2G', 'T2G', 'T2G', 'T2G', 'T2G', 'T2G', 'T2G', 'T2G', 'T2G', 'T2G', 'T2G', 'T2G', 'T2G', 'T2G', 'T2G', 'T2G', 'T2G', 'T2G', 'T2G', 'T2G', 'T2G', 'T2G', 'T2G', 'T2G', 'T2G', 'T2G', 'T2G', 'T2G', 'T2G', 'T2G', 'T2D', 'T2G', 'T2G', 'T2G', 'T2G', 'T2G', 'T2G', 'T2G', 'T2G', 'T2G', 'T2G', 'T2G', 'T2G', 'T2G', 'T2D', 'T2G', 'T2G', 'T2G', 'T2G', 'T2D', 'T2G', 'T2G', 'T2G', 'T2G', 'T2G', 'T2G', 'T2G', 'T2G', 'T2G', 'T2G', 'T2G', 'T2G', 'T2G', 'T2G', 'T2G', 'T2G', 'T2G', 'T2G', 'T2G', 'T2G', 'T2G', 'T2G', 'T2G', 'T2G', 'T2G', 'T2G', 'T2G', 'T2D', 'T2G', 'T2G', 'T2G', 'T2G', 'T2G', 'T2G', 'T2G', 'T2G', 'T2G', 'T2G', 'T2G', 'T2G', 'T2G', 'T2G', 'T2G', 'T2G', 'T2G', 'T2G', 'T2G', 'T2G', 'T2G', 'T2G', 'T2G', 'T2G', 'T2G', 'T2G', 'T2G', 'T2G', 'T2G', 'T2G', 'T2G', 'T2G', 'T2G', 'T2G', 'T2G', 'T2G', 'T2G', 'T2G', 'T2G', 'T2G', 'T2G', 'T2G', 'T2G', 'T2G', 'T2G', 'T2G', 'T2G', 'T2G', 'T2G', 'T2G', 'T2G', 'T2G', 'T2G', 'T2G', 'T2G', 'T2G', 'T2G', 'T2G', 'T2G', 'T2D', 'T2G', 'T2G', 'T2G', 'T2G', 'T2G', 'T2G', 'T2G', 'T2G', 'T2G', 'T2G', 'T2G', 'T2G', 'T2G', 'T2G', 'T2G', 'T2G', 'T2G', 'T2G', 'T2G', 'T2G', 'T2G', 'T2G', 'T2G', 'T2G', 'T2G', 'T2G', 'T2G', 'T2G', 'T2G', 'T2G', 'T2G', 'T2G', 'T2G', 'T2G', 'T2G', 'T2G', 'T2G', 'T2G', 'T2G', 'T2G', 'T2G', 'T2G', 'T2G', 'T2G', 'T2G', 'T2G', 'T2G', 'T2G', 'T2G', 'T2G', 'T2G', 'T2G', 'T2G', 'T2G', 'T2G', 'T2G', 'T2G', 'T2G', 'T2G', 'T2G', 'T2G', 'T2G', 'T2G', 'T2G', 'T2G', 'T2G', 'T2G', 'T2G', 'T2G', 'T2G', 'T2G', 'T2G', 'T2G', 'T2G', 'T2G', 'T2D', 'T2G', 'T2G', 'T2G', 'T2G', 'T2G', 'T2G', 'T2G', 'T2G', 'T2G', 'T2G', 'T2G', 'T2G', 'T2G', 'T2G', 'T2G', 'T2G', 'T2G', 'T2G', 'T2G', 'T2G', 'T2G', 'T2G', 'T2G', 'T2G', 'T2G', 'T2G', 'T2G', 'T2G', 'T2G', 'T2G', 'T2G', 'T2G', 'T2G', 'T2G', 'T2G', 'T2G', 'T2G', 'T2G', 'T2G', 'T2G', 'T2G', 'T2G', 'T2G', 'T2G', 'T2G', 'T2G', 'T2G', 'T2G', 'T2G', 'T2G', 'T2G', 'T2G', 'T2G', 'T2G', 'T2G', 'T2G', 'T2G', 'T2G', 'T2G', 'T2G', 'T2G', 'T2G', 'T2G', 'T2G', 'T2G', 'T2G', 'T2G', 'T2G', 'T2G', 'T2G', 'T2G', 'T2G', 'T2G', 'T2G', 'T2G', 'T2G', 'T2G', 'T2G', 'T2G', 'T2G', 'T2G', 'T2D', 'T2G', 'T2G', 'T2G', 'T2G', 'T2G', 'T2G', 'T2G', 'T2G', 'T2G', 'T2G', 'T2G', 'T2G', 'T2D', 'T2G', 'T2G', 'T2G', 'T2G', 'T2G', 'T2G', 'T2D', 'T2G', 'T2G', 'T2G', 'T2G', 'T2G', 'T2G', 'T2G', 'T2G', 'T2G', 'T2G', 'T2G', 'T2G', 'T2G', 'T2G', 'T2G', 'T2G', 'T2G', 'T2G', 'T2G', 'T2G', 'T2G', 'T2G', 'T2G', 'T2G', 'T2G', 'T2G', 'T2G', 'T2G', 'T2G', 'T2G', 'T2G', 'T2G', 'T2G', 'T2G', 'T2G', 'T2G', 'T2G', 'T2G', 'T2G', 'T2G', 'T2G', 'T2G', 'T2G', 'T2G', 'T2G', 'T2G', 'T2G', 'T2G', 'T2G', 'T2G', 'T2G', 'T2G', 'T2G', 'T2G', 'T2G', 'T2G', 'T2G', 'T2G', 'T2G', 'T2G', 'T2G', 'T2G', 'T2G', 'T2G', 'T2G', 'T2G', 'T2G', 'T2G', 'T2G', 'T2G', 'T2G', 'T2G', 'T2G', 'T2G', 'T2G', 'T2G', 'T2G', 'T2G', 'T2G', 'T2G', 'T2G', 'T2G', 'T2G', 'T2G', 'T2G', 'T2G', 'T2G', 'T2G', 'T2G', 'T2G', 'T2G', 'T2G', 'T2G', 'T2G', 'T2G', 'T2G', 'T2G', 'T2G', 'T2G', 'T2G', 'T2G', 'T2G', 'T2G', 'T2G', 'T2G', 'T2G', 'T2G', 'T2G', 'T2G', 'T2G', 'T2G', 'T2G', 'T2G', 'T2G', 'T2G', 'T2G', 'T2G', 'T2G', 'T2G', 'T2G', 'T2G', 'T2G', 'T2G', 'T2G', 'T2G', 'T2G', 'T2G', 'T2G', 'T2G', 'T2G', 'T2G', 'T2G', 'T2G', 'T2G', 'T2G', 'T2G', 'T2G', 'T2G', 'T2G', 'T2G', 'T2G', 'T2G', 'T2G', 'T2G', 'T2G', 'T2G', 'T2G', 'T2G', 'T2G', 'T2G', 'T2G', 'T2G', 'T2G', 'T2G', 'T2G', 'T2G', 'T2G', 'T2G', 'T2G', 'T2G', 'T2G', 'T2G', 'T2G', 'T2G', 'T2G', 'T2G', 'T2G', 'T2G', 'T2G', 'T2G', 'T2D', 'T2G', 'T2G', 'T2G', 'T2G', 'T2G', 'T2G', 'T2G', 'T2G', 'T2G', 'T2G', 'T2G', 'T2G', 'T2G', 'T2G', 'T2G', 'T2G', 'T2G', 'T2G', 'T2G', 'T2G', 'T2G', 'T2G', 'T2G', 'T2G', 'T2G', 'T2G', 'T2G', 'T2G', 'T2G', 'T2G', 'T2G', 'T2G', 'T2G', 'T2G', 'T2G', 'T2G', 'T2G', 'T2G', 'T2G', 'T2G', 'T2G', 'T2G', 'T2G', 'T2G', 'T2G', 'T2G', 'T2G', 'T2G', 'T2G', 'T2G', 'T2G', 'T2G', 'T2G', 'T2G', 'T2G', 'T2G', 'T2G', 'T2G', 'T2G', 'T2G', 'T2G', 'T2G', 'T2G', 'T2G', 'T2G', 'T2G', 'T2G', 'T2G', 'T2G', 'T2G', 'T2G', 'T2G', 'T2G', 'T2G', 'T2G', 'T2G', 'T2G', 'T2G', 'T2G', 'T2G', 'T2G', 'T2G', 'T2G', 'T2G', 'T2G', 'T2G', 'T2G', 'T2G', 'T2G', 'T2G', 'T2G', 'T2G', 'T2G', 'T2G', 'T2G', 'T2G', 'T2G', 'T2G', 'T2G', 'T2G', 'T2G', 'T2G', 'T2G', 'T2G', 'T2G', 'T2G', 'T2G', 'T2G', 'T2G', 'T2G', 'T2G', 'T2G', 'T2G', 'T2G', 'T2G', 'T2G', 'T2G', 'T2G', 'T2G', 'T2G', 'T2G', 'T2G', 'T2G', 'T2G', 'T2G', 'T2G', 'T2G', 'T2G', 'T2G', 'T2G', 'T2G', 'T2G', 'T2G', 'T2G', 'T2G', 'T2G', 'T2D', 'T2G', 'T2G', 'T2G', 'T2G', 'T2G', 'T2G', 'T2G', 'T2G', 'T2G', 'T2D', 'T2G', 'T2G', 'T2G', 'T2G', 'T2G', 'T2G', 'T2G', 'T2G', 'T2G', 'T2G', 'T2G', 'T2G', 'T2G', 'T2G', 'T2G', 'T2G', 'T2G', 'T2G', 'T2G', 'T2G', 'T2G', 'T2G', 'T2G', 'T2G', 'T2G', 'T2G', 'T2G', 'T2G', 'T2G', 'T2G', 'T2G', 'T2G', 'T2G', 'T2G', 'T2G', 'T2G', 'T2G', 'T2G', 'T2G', 'T2G', 'T2G', 'T2G', 'T2G', 'T2G', 'T2G', 'T2G', 'T2G', 'T2G', 'T2G', 'T2G', 'T2G', 'T2G', 'T2G', 'T2G', 'T2G', 'T2G', 'T2G', 'T2G', 'T2G', 'T2G', 'T2G', 'T2G', 'T2G', 'T2G', 'T2G', 'T2G', 'T2G', 'T2G', 'T2G', 'T2G', 'T2G', 'T2G', 'T2G', 'T2D', 'T2G', 'T2D', 'T2G', 'T2G', 'T2G', 'T2G', 'T2G', 'T2G', 'T2G', 'T2G', 'T2G', 'T2G', 'T2G', 'T2G', 'T2G', 'T2G', 'T2G', 'T2G', 'T2G', 'T2G', 'T2G', 'T2G', 'T2G', 'T2G', 'T2G', 'T2G', 'T2G', 'T2G', 'T2G', 'T2G', 'T2G', 'T2G', 'T2G', 'T2G', 'T2G', 'T2G', 'T2G', 'T2G', 'T2G', 'T2G', 'T2G', 'T2G', 'T2G', 'T2G', 'T2G', 'T2G', 'T2G', 'T2G', 'T2G', 'T2G', 'T2G', 'T2G', 'T2G', 'T2G', 'T2G', 'T2G', 'T2G', 'T2G', 'T2G', 'T2G', 'T2G', 'T2G', 'T2G', 'T2G', 'T2G', 'T2G', 'T2G', 'T2G', 'T2G', 'T2G', 'T2G', 'T2G', 'T2G', 'T2G', 'T2G', 'T2G', 'T2G', 'T2G', 'T2G', 'T2G', 'T2G', 'T2D', 'T2G', 'T2G', 'T2G', 'T2G', 'T2G', 'T2G', 'T2G', 'T2G', 'T2G', 'T2G', 'T2G', 'T2G', 'T2G', 'T2G', 'T2G', 'T2G', 'T2G', 'T2G', 'T2G', 'T2G', 'T2G', 'T2G', 'T2G', 'T2G', 'T2G', 'T2G', 'T2G', 'T2G', 'T2G', 'T2G', 'T2G', 'T2G', 'T2G', 'T2G', 'T2G', 'T2G', 'T2G', 'T2G', 'T2G', 'T2G', 'T2G', 'T2G', 'T2G', 'T2G', 'T2G', 'T2G', 'T2G', 'T2G', 'T2G', 'T2G', 'T2G', 'T2G', 'T2G', 'T2G', 'T2G', 'T2G', 'T2G', 'T2G', 'T2G', 'T2G', 'T2G', 'T2G', 'T2G', 'T2G', 'T2G', 'T2G', 'T2G', 'T2G', 'T2G', 'T2G', 'T2G', 'T2G', 'T2G', 'T2G', 'T2G', 'T2G', 'T2G', 'T2G', 'T2G', 'T2D', 'T2G', 'T2G', 'T2G', 'T2G', 'T2G', 'T2G', 'T2G', 'T2G', 'T2G', 'T2G', 'T2G', 'T2G', 'T2G', 'T2G', 'T2G', 'T2G', 'T2G', 'T2G', 'T2G', 'T2G', 'T2G', 'T2G', 'T2G', 'T2G', 'T2G', 'T2G', 'T2G', 'T2G', 'T2D', 'T2G', 'T2G', 'T2G', 'T2G', 'T2G', 'T2G', 'T2G', 'T2G', 'T2G', 'T2G', 'T2G', 'T2G', 'T2G', 'T2G', 'T2G', 'T2G', 'T2G', 'T2G', 'T2G', 'T2G', 'T2G', 'T2G', 'T2G', 'T2G', 'T2G', 'T2G', 'T2G', 'T2G', 'T2G', 'T2G', 'T2G', 'T2G', 'T2G', 'T2G', 'T2G', 'T2G', 'T2G', 'T2G', 'T2G', 'T2G', 'T2D', 'T2G', 'T2G', 'T2G', 'T2G', 'T2G', 'T2G', 'T2G', 'T2G', 'T2G', 'T2G', 'T2G', 'T2G', 'T2G', 'T2G', 'T2G', 'T2G', 'T2G', 'T2G', 'T2G', 'T2G', 'T2G', 'T2G', 'T2G', 'T2G', 'T2G', 'T2G', 'T2G', 'T2G', 'T2G', 'T2G', 'T2G', 'T2G', 'T2G', 'T2G', 'T2G', 'T2G', 'T2G', 'T2G', 'T2G', 'T2G', 'T2G', 'T2G', 'T2G', 'T2G', 'T2G', 'T2G', 'T2G', 'T2G', 'T2G', 'T2G', 'T2G', 'T2G', 'T2G', 'T2G', 'T2G', 'T2G', 'T2G', 'T2G', 'T2G', 'T2G', 'T2G', 'T2G', 'T2G', 'T2G', 'T2G', 'T2G', 'T2G', 'T2G', 'T2G', 'T2G', 'T2G', 'T2G', 'T2G', 'T2G', 'T2G', 'T2G', 'T2G', 'T2G', 'T2G', 'T2G', 'T2G', 'T2G', 'T2G', 'T2D', 'T2G', 'T2G', 'T2G', 'T2G', 'T2G', 'T2G', 'T2G', 'T2G', 'T2G', 'T2G', 'T2G', 'T2G', 'T2G', 'T2G', 'T2G', 'T2G', 'T2G', 'T2G', 'T2G', 'T2G', 'T2G', 'T2G', 'T2G', 'T2G', 'T2G', 'T2G', 'T2G', 'T2G', 'T2G', 'T2G', 'T2G', 'T2G', 'T2G', 'T2G', 'T2G', 'T2G', 'T2G', 'T2G', 'T2G', 'T2G', 'T2G', 'T2G', 'T2G', 'T2G', 'T2G', 'T2G', 'T2G', 'T2G', 'T2G', 'T2G', 'T2G', 'T2G', 'T2G', 'T2G', 'T2G', 'T2G', 'T2G', 'T2G', 'T2G', 'T2G', 'T2G', 'T2G', 'T2G', 'T2G', 'T2G', 'T2G', 'T2G', 'T2G', 'T2D', 'T2G', 'T2G', 'T2G', 'T2G', 'T2G', 'T2G', 'T2G', 'T2G', 'T2G', 'T2G', 'T2G', 'T2G', 'T2G', 'T2G', 'T2G', 'T2G', 'T2G', 'T2G', 'T2G', 'T2G', 'T2G', 'T2G', 'T2G', 'T2G', 'T2G', 'T2G', 'T2D', 'T2G', 'T2G', 'T2G', 'T2G', 'T2G', 'T2G', 'T2G', 'T2G', 'T2G', 'T2G', 'T2G', 'T2G', 'T2G', 'T2G', 'T2G', 'T2G', 'T2G', 'T2G', 'T2G', 'T2G', 'T2G', 'T2G', 'T2G', 'T2G', 'T2G', 'T2G', 'T2G', 'T2G', 'T2G', 'T2G', 'T2G', 'T2G', 'T2G', 'T2G', 'T2G', 'T2G', 'T2G', 'T2G', 'T2G', 'T2G', 'T2G', 'T2G', 'T2G', 'T2G', 'T2G', 'T2G', 'T2G', 'T2G', 'T2G', 'T2G', 'T2G', 'T2G', 'T2G', 'T2G', 'T2G', 'T2G', 'T2G', 'T2G', 'T2G', 'T2G', 'T2G', 'T2G', 'T2G', 'T2G', 'T2G', 'T2G', 'T2G', 'T2G', 'T2G', 'T2G', 'T2G', 'T2G', 'T2G', 'T2G', 'T2G', 'T2G', 'T2G', 'T2G', 'T2G', 'T2D', 'T2G', 'T2G', 'T2G', 'T2G', 'T2G', 'T2G', 'T2G', 'T2G', 'T2G', 'T2G', 'T2G', 'T2G', 'T2G', 'T2G', 'T2G', 'T2G', 'T2G', 'T2G', 'T2G', 'T2D', 'T2G', 'T2G', 'T2G', 'T2G', 'T2G', 'T2G', 'T2G', 'T2G', 'T2G', 'T2G', 'T2G', 'T2G', 'T2G', 'T2G', 'T2G', 'T2G', 'T2G', 'T2G', 'T2G', 'T2G', 'T2G', 'T2G', 'T2G', 'T2G', 'T2G', 'T2G', 'T2G', 'T2G', 'T2G', 'T2G', 'T2G', 'T2G', 'T2G', 'T2G', 'T2G', 'T2G', 'T2G', 'T2G', 'T2G', 'T2G', 'T2G', 'T2G', 'T2G', 'T2G', 'T2G', 'T2G', 'T2G', 'T2G', 'T2G', 'T2G', 'T2G', 'T2G', 'T2G', 'T2G', 'T2G', 'T2G', 'T2G', 'T2G', 'T2G', 'T2G', 'T2G', 'T2G', 'T2G', 'T2G', 'T2G', 'T2G', 'T2G', 'T2G', 'T2G', 'T2G', 'T2G', 'T2G', 'T2G', 'T2G', 'T2D', 'T2G', 'T2G', 'T2G', 'T2G', 'T2G', 'T2G', 'T2G', 'T2G', 'T2G', 'T2G', 'T2G', 'T2G', 'T2G', 'T2G', 'T2G', 'T2G', 'T2G', 'T2G', 'T2G', 'T2G', 'T2G', 'T2G', 'T2G', 'T2G', 'T2G', 'T2G', 'T2G', 'T2G', 'T2G', 'T2G', 'T2G', 'T2G', 'T2G', 'T2G', 'T2G', 'T2G', 'T2G', 'T2G', 'T2G', 'T2G', 'T2G', 'T2G', 'T2G', 'T2G', 'T2G', 'T2G', 'T2G', 'T2G', 'T2G', 'T2G', 'T2G', 'T2G', 'T2G', 'T2G', 'T2G', 'T2G', 'T2G', 'T2G', 'T2G', 'T2G', 'T2G', 'T2G', 'T2G', 'T2G', 'T2G', 'T2G', 'T2G', 'T2G', 'T2G', 'T2G', 'T2G', 'T2G', 'T2G', 'T2G', 'T2G', 'T2G', 'T2G', 'T2G', 'T2G', 'T2G', 'T2G', 'T2G', 'T2G', 'T2G', 'T2G', 'T2G', 'T2G', 'T2G', 'T2G', 'T2G', 'T2G', 'T2G', 'T2G', 'T2G', 'T2G', 'T2G', 'T2G', 'T2G', 'T2G', 'T2G', 'T2G', 'T2G', 'T2G', 'T2G', 'T2G', 'T2G', 'T2G', 'T2G', 'T2G', 'T2G', 'T2G', 'T2G', 'T2G', 'T2G', 'T2G', 'T2G', 'T2G', 'T2G', 'T2G', 'T2G', 'T2G', 'T2G', 'T2G', 'T2G', 'T2G', 'T2G', 'T2G', 'T2G', 'T2G', 'T2G', 'T2G', 'T2G', 'T2G', 'T2G', 'T2G', 'T2G', 'T2G', 'T2G', 'T2G', 'T2G', 'T2G', 'T2G', 'T2D', 'T2G', 'T2G', 'T2G', 'T2G', 'T2G', 'T2G', 'T2G', 'T2G', 'T2G', 'T2G', 'T2G', 'T2G', 'T2G', 'T2G', 'T2G', 'T2G', 'T2G', 'T2G', 'T2G', 'T2G', 'T2G', 'T2G', 'T2G', 'T2G', 'T2G', 'T2G', 'T2G', 'T2G', 'T2G', 'T2G', 'T2G', 'T2G', 'T2G', 'T2G', 'T2G', 'T2G', 'T2G', 'T2G', 'T2G', 'T2G', 'T2G', 'T2G', 'T2G', 'T2G', 'T2G', 'T2G', 'T2G', 'T2G', 'T2G', 'T2G', 'T2G', 'T2G', 'T2G', 'T2G', 'T2G', 'T2G', 'T2G', 'T2G', 'T2G', 'T2G', 'T2G', 'T2G', 'T2G', 'T2G', 'T2G', 'T2G', 'T2G', 'T2G', 'T2G', 'T2G', 'T2G', 'T2G', 'T2G', 'T2G', 'T2G', 'T2G', 'T2D', 'T2G', 'T2G', 'T2G', 'T2G', 'T2G', 'T2G', 'T2G', 'T2G', 'T2G', 'T2G', 'T2G', 'T2G', 'T2G', 'T2G', 'T2G', 'T2G', 'T2G', 'T2G', 'T2G', 'T2G', 'T2G', 'T2G', 'T2G', 'T2G', 'T2G', 'T2G', 'T2G', 'T2G', 'T2G', 'T2G', 'T2G', 'T2G', 'T2G', 'T2G', 'T2G', 'T2G', 'T2G', 'T2G', 'T2G', 'T2G', 'T2G', 'T2G', 'T2G', 'T2G', 'T2G', 'T2G', 'T2G', 'T2G', 'T2G', 'T2G', 'T2G', 'T2G', 'T2G', 'T2G', 'T2G', 'T2G', 'T2G', 'T2G', 'T2G', 'T2G', 'T2G', 'T2G', 'T2G', 'T2G', 'T2G', 'T2G', 'T2G', 'T2G', 'T2G', 'T2G', 'T2G', 'T2G', 'T2G', 'T2G', 'T2G', 'T2D', 'T2G', 'T2G', 'T2G', 'T2G', 'T2G', 'T2G', 'T2G', 'T2G', 'T2G', 'T2G', 'T2G', 'T2G', 'T2G', 'T2G', 'T2G', 'T2G', 'T2G', 'T2G', 'T2G', 'T2G', 'T2G', 'T2G', 'T2G', 'T2G', 'T2G', 'T2G', 'T2G', 'T2G', 'T2G', 'T2G', 'T2G', 'T2G', 'T2G', 'T2G', 'T2G', 'T2G', 'T2G', 'T2G', 'T2G', 'T2G', 'T2G', 'T2G', 'T2G', 'T2G', 'T2G', 'T2G', 'T2G', 'T2G', 'T2G', 'T2G', 'T2G', 'T2G', 'T2G', 'T2G', 'T2G', 'T2G', 'T2G', 'T2G', 'T2G', 'T2G', 'T2G', 'T2G', 'T2G', 'T2G', 'T2G', 'T2G', 'T2G', 'T2G', 'T2G', 'T2G', 'T2G', 'T2G', 'T2G', 'T2G', 'T2G', 'T2G', 'T2G', 'T2G', 'T2G', 'T2G', 'T2G', 'T2G', 'T2G', 'T2G', 'T2G', 'T2G', 'T2G', 'T2G', 'T2G', 'T2G', 'T2G', 'T2G', 'T2G', 'T2G', 'T2G', 'T2G', 'T2G', 'T2G', 'T2G', 'T2G', 'T2G', 'T2G', 'T2G', 'T2G', 'T2G', 'T2G', 'T2G', 'T2G', 'T2G', 'T2G', 'T2G', 'T2G', 'T2G', 'T2G', 'T2G', 'T2G', 'T2G', 'T2G', 'T2G', 'T2G', 'T2G', 'T2G', 'T2G', 'T2G', 'T2G', 'T2G', 'T2G', 'T2G', 'T2G', 'T2G', 'T2G', 'T2G', 'T2G', 'T2G', 'T2G', 'T2G', 'T2G', 'T2G', 'T2G', 'T2G', 'T2G', 'T2G', 'T2G', 'T2G', 'T2D', 'T2G', 'T2G', 'T2G', 'T2G', 'T2G', 'T2G', 'T2G', 'T2G', 'T2G', 'T2G', 'T2G', 'T2G', 'T2G', 'T2G', 'T2G', 'T2G', 'T2G', 'T2G', 'T2G', 'T2G', 'T2G', 'T2G', 'T2G', 'T2G', 'T2G', 'T2G', 'T2G', 'T2G', 'T2G', 'T2G', 'T2G', 'T2G', 'T2G', 'T2G', 'T2G', 'T2G', 'T2G', 'T2G', 'T2G', 'T2G', 'T2G', 'T2G', 'T2G', 'T2G', 'T2G', 'T2G', 'T2G', 'T2G', 'T2G', 'T2G', 'T2G', 'T2G', 'T2G', 'T2G', 'T2G', 'T2G', 'T2G', 'T2G', 'T2G', 'T2G', 'T2G', 'T2G', 'T2G', 'T2G', 'T2G', 'T2G', 'T2G', 'T2G', 'T2G', 'T2G', 'T2G', 'T2G', 'T2G', 'T2G', 'T2G', 'T2G', 'T2G', 'T2G', 'T2G', 'T2G', 'T2G', 'T2G', 'T2G', 'T2G', 'T2G', 'T2G', 'T2G', 'T2G', 'T2G', 'T2G', 'T2G', 'T2G', 'T2G', 'T2D', 'T2G', 'T2D', 'T2G', 'T2G', 'T2G', 'T2G', 'T2G', 'T2G', 'T2G', 'T2G', 'T2G', 'T2G', 'T2G', 'T2G', 'T2G', 'T2G', 'T2G', 'T2G', 'T2G', 'T2G', 'T2G', 'T2G', 'T2G', 'T2G', 'T2G', 'T2D', 'T2G', 'T2G', 'T2G', 'T2G', 'T2G', 'T2G', 'T2G', 'T2G', 'T2G', 'T2G', 'T2G', 'T2G', 'T2G', 'T2G', 'T2G', 'T2G', 'T2G', 'T2G', 'T2G', 'T2G', 'T2G', 'T2G', 'T2G', 'T2G', 'T2G', 'T2G', 'T2G', 'T2G', 'T2G', 'T2G', 'T2G', 'T2G', 'T2G', 'T2G', 'T2G', 'T2G', 'T2G', 'T2G', 'T2G', 'T2G', 'T2G', 'T2G', 'T2G', 'T2G', 'T2G', 'T2G', 'T2G', 'T2G', 'T2G', 'T2D', 'T2G', 'T2G', 'T2G', 'T2G', 'T2G', 'T2G', 'T2G', 'T2G', 'T2G', 'T2G', 'T2G', 'T2G', 'T2G', 'T2G', 'T2G', 'T2G', 'T2G', 'T2G', 'T2G', 'T2G', 'T2G', 'T2G', 'T2G', 'T2G', 'T2G', 'T2G', 'T2G', 'T2G', 'T2G', 'T2G', 'T2G', 'T2G', 'T2G', 'T2G', 'T2G', 'T2G', 'T2G', 'T2G', 'T2G', 'T2G', 'T2G', 'T2G', 'T2G', 'T2G', 'T2G', 'T2G', 'T2G', 'T2G', 'T2G', 'T2G', 'T2G', 'T2G', 'T2G', 'T2G', 'T2G', 'T2G', 'T2G', 'T2G', 'T2G', 'T2G', 'T2G', 'T2G', 'T2G', 'T2G', 'T2G', 'T2G', 'T2G', 'T2G', 'T2G', 'T2G', 'T2G', 'T2G', 'T2G', 'T2G', 'T2G', 'T2G', 'T2G', 'T2G', 'T2G', 'T2G', 'T2G', 'T2G', 'T2G', 'T2G', 'T2G', 'T2G', 'T2G', 'T2G', 'T2G', 'T2G', 'T2G', 'T2G', 'T2G', 'T2G', 'T2G', 'T2G', 'T2G', 'T2G', 'T2G', 'T2G', 'T2G', 'T2G', 'T2G', 'T2G', 'T2G', 'T2G', 'T2G', 'T2G', 'T2G', 'T2G', 'T2G', 'T2G', 'T2G', 'T2G', 'T2G', 'T2G', 'T2G', 'T2G', 'T2G', 'T2G', 'T2G', 'T2G', 'T2G', 'T2G', 'T2G', 'T2G', 'T2G', 'T2G', 'T2G', 'T2G', 'T2G', 'T2G', 'T2G', 'T2G', 'T2G', 'T2G', 'T2G', 'T2G', 'T2G', 'T2G', 'T2G', 'T2G', 'T2G', 'T2G', 'T2G', 'T2G', 'T2G', 'T2G', 'T2G', 'T2D', 'T2G', 'T2G', 'T2G', 'T2G', 'T2G', 'T2G', 'T2G', 'T2G', 'T2G', 'T2G', 'T2G', 'T2G', 'T2G', 'T2G', 'T2G', 'T2G', 'T2G', 'T2G', 'T2G', 'T2G', 'T2G', 'T2G', 'T2G', 'T2G', 'T2D', 'T2G', 'T2G', 'T2G', 'T2G', 'T2G', 'T2G', 'T2G', 'T2G', 'T2G', 'T2G', 'T2G', 'T2G', 'T2G', 'T2G', 'T2G', 'T2G', 'T2G', 'T2G', 'T2G', 'T2G', 'T2G', 'T2G', 'T2G', 'T2G', 'T2G', 'T2G', 'T2G', 'T2G', 'T2G', 'T2G', 'T2G', 'T2G', 'T2G', 'T2G', 'T2D', 'T2G', 'T2G', 'T2G', 'T2G', 'T2G', 'T2G', 'T2G', 'T2G', 'T2G', 'T2G', 'T2G', 'T2G', 'T2G', 'T2G', 'T2G', 'T2G', 'T2G', 'T2G', 'T2G', 'T2G', 'T2G', 'T2G', 'T2G', 'T2G', 'T2G', 'T2G', 'T2G', 'T2G', 'T2G', 'T2G', 'T2G', 'T2G', 'T2G', 'T2D', 'T2G', 'T2G', 'T2G', 'T2G', 'T2G', 'T2G', 'T2G', 'T2G', 'T2G', 'T2G', 'T2D', 'T2G', 'T2G', 'T2G', 'T2G', 'T2G', 'T2G', 'T2G', 'T2G', 'T2G', 'T2G', 'T2G', 'T2G', 'T2G', 'T2G', 'T2G', 'T2G', 'T2G', 'T2G', 'T2G', 'T2G', 'T2G', 'T2G', 'T2G', 'T2G', 'T2G', 'T2G', 'T2G', 'T2D', 'T2G', 'T2G', 'T2G', 'T2G', 'T2G', 'T2G', 'T2G', 'T2G', 'T2G', 'T2G', 'T2G', 'T2G', 'T2G', 'T2G', 'T2G', 'T2G', 'T2G', 'T2G', 'T2G', 'T2G', 'T2G', 'T2G', 'T2G', 'T2G', 'T2G', 'T2G', 'T2G', 'T2G', 'T2G', 'T2G', 'T2G', 'T2G', 'T2G', 'T2G', 'T2G', 'T2G', 'T2G', 'T2G', 'T2G', 'T2G', 'T2G', 'T2G', 'T2G', 'T2G', 'T2G', 'T2G', 'T2G', 'T2G', 'T2G', 'T2G', 'T2G', 'T2G', 'T2G', 'T2G', 'T2D', 'T2G', 'T2G', 'T2G', 'T2G', 'T2G', 'T2G', 'T2G', 'T2G', 'T2G', 'T2G', 'T2G', 'T2G', 'T2G', 'T2G', 'T2G', 'T2G', 'T2G', 'T2G', 'T2G', 'T2G', 'T2G', 'T2G', 'T2G', 'T2G', 'T2G', 'T2G', 'T2G', 'T2G', 'T2G', 'T2G', 'T2D', 'T2G', 'T2G', 'T2G', 'T2G', 'T2G', 'T2G', 'T2G', 'T2G', 'T2G', 'T2G', 'T2G', 'T2G', 'T2G', 'T2G', 'T2G', 'T2G', 'T2G', 'T2G', 'T2G', 'T2G', 'T2G', 'T2G', 'T2G', 'T2G', 'T2G', 'T2D', 'T2G', 'T2G', 'T2G', 'T2G', 'T2G', 'T2G', 'T2G', 'T2G', 'T2G', 'T2G', 'T2G', 'T2G', 'T2G', 'T2G', 'T2G', 'T2G', 'T2G', 'T2G', 'T2G', 'T2G', 'T2G', 'T2G', 'T2G', 'T2G', 'T2G', 'T2G', 'T2G', 'T2G', 'T2G', 'T2G', 'T2G', 'T2G', 'T2G', 'T2G', 'T2G', 'T2G', 'T2G', 'T2G', 'T2G', 'T2G', 'T2G', 'T2G', 'T2G', 'T2G', 'T2G', 'T2G', 'T2G', 'T2G', 'T2G', 'T2G', 'T2G', 'T2G', 'T2G', 'T2G', 'T2G', 'T2G', 'T2G', 'T2G', 'T2G', 'T2G', 'T2G', 'T2G', 'T2G', 'T2G', 'T2G', 'T2G', 'T2G', 'T2G', 'T2G', 'T2G', 'T2G', 'T2G', 'T2G', 'T2G', 'T2G', 'T2G', 'T2G', 'T2G', 'T2G', 'T2G', 'T2G', 'T2G', 'T2G', 'T2G', 'T2G', 'T2G', 'T2G', 'T2G', 'T2G', 'T2G', 'T2G', 'T2G', 'T2G', 'T2G', 'T2G', 'T2G', 'T2G', 'T2D', 'T2G', 'T2G', 'T2G', 'T2G', 'T2G', 'T2G', 'T2G', 'T2G', 'T2G', 'T2G', 'T2G', 'T2G', 'T2G', 'T2G', 'T2G', 'T2G', 'T2G', 'T2G', 'T2G', 'T2G', 'T2G', 'T2G', 'T2G', 'T2G', 'T2G', 'T2G', 'T2D', 'T2G', 'T2G', 'T2G', 'T2G', 'T2G', 'T2G', 'T2G', 'T2G', 'T2G', 'T2G', 'T2G', 'T2D', 'T2G', 'T2G', 'T2G', 'T2G', 'T2G', 'T2G', 'T2G', 'T2G', 'T2G', 'T2G', 'T2G', 'T2G', 'T2G', 'T2G', 'T2G', 'T2G', 'T2G', 'T2G', 'T2G', 'T2G', 'T2G', 'T2G', 'T2G', 'T2G', 'T2G', 'T2G', 'T2G', 'T2G', 'T2G', 'T2G', 'T2G', 'T2G', 'T2G', 'T2G', 'T2G', 'T2G', 'T2G', 'T2G', 'T2G', 'T2G', 'T2G', 'T2G', 'T2G', 'T2G', 'T2G', 'T2G', 'T2G', 'T2G', 'T2G', 'T2G', 'T2G', 'T2G', 'T2G', 'T2G', 'T2G', 'T2G', 'T2G', 'T2G', 'T2G', 'T2G', 'T2G', 'T2G', 'T2G', 'T2G', 'T2G', 'T2G', 'T2G', 'T2G', 'T2G', 'T2G', 'T2G', 'T2D', 'T2G', 'T2G', 'T2G', 'T2G', 'T2G', 'T2G', 'T2G', 'T2G', 'T2G', 'T2G', 'T2G', 'T2G', 'T2G', 'T2G', 'T2G', 'T2G', 'T2G', 'T2G', 'T2G', 'T2G', 'T2G', 'T2G', 'T2G', 'T2G', 'T2G', 'T2G', 'T2G', 'T2G', 'T2G', 'T2G', 'T2G', 'T2G', 'T2G', 'T2G', 'T2G', 'T2G', 'T2G', 'T2G', 'T2G', 'T2G', 'T2G', 'T2G', 'T2G', 'T2G', 'T2G', 'T2G', 'T2G', 'T2G', 'T2G', 'T2G', 'T2G', 'T2G', 'T2G', 'T2G', 'T2G', 'T2G', 'T2G', 'T2G', 'T2G', 'T2G', 'T2G', 'T2G', 'T2G', 'T2G', 'T2G', 'T2G', 'T2G', 'T2G', 'T2G', 'T2G', 'T2G', 'T2G', 'T2G', 'T2G', 'T2G', 'T2G', 'T2G', 'T2G', 'T2G', 'T2G', 'T2G', 'T2G', 'T2G', 'T2G', 'T2G', 'T2G', 'T2G', 'T2G', 'T2G', 'T2G', 'T2G', 'T2G', 'T2G', 'T2G', 'T2G', 'T2G', 'T2G', 'T2G', 'T2G', 'T2G', 'T2G', 'T2G', 'T2G', 'T2G', 'T2G', 'T2G', 'T2G', 'T2G', 'T2G', 'T2G', 'T2G', 'T2G', 'T2G', 'T2G', 'T2G', 'T2G', 'T2G', 'T2G', 'T2G', 'T2G', 'T2G', 'T2G', 'T2G', 'T2G', 'T2G', 'T2G', 'T2G', 'T2G', 'T2G', 'T2G', 'T2G', 'T2G', 'T2G', 'T2G', 'T2G', 'T2G', 'T2G', 'T2G', 'T2G', 'T2G', 'T2G', 'T2G', 'T2G', 'T2G', 'T2G', 'T2G', 'T2G', 'T2G', 'T2G', 'T2G', 'T2G', 'T2G', 'T2D', 'T2G', 'T2G', 'T2G', 'T2G', 'T2G', 'T2G', 'T2G', 'T2G', 'T2G', 'T2G', 'T2G', 'T2G', 'T2G', 'T2G', 'T2G', 'T2G', 'T2G', 'T2G', 'T2G', 'T2G', 'T2G', 'T2G', 'T2G', 'T2G', 'T2G', 'T2G', 'T2G', 'T2G', 'T2G', 'T2G', 'T2G', 'T2G', 'T2G', 'T2G', 'T2G', 'T2G', 'T2G', 'T2G', 'T2G', 'T2G', 'T2G', 'T2G', 'T2G', 'T2G', 'T2G', 'T2G', 'T2G', 'T2G', 'T2G', 'T2G', 'T2G', 'T2G', 'T2G', 'T2G', 'T2G', 'T2G', 'T2G', 'T2G', 'T2G', 'T2G', 'T2G', 'T2G', 'T2G', 'T2G', 'T2G', 'T2G', 'T2G', 'T2G', 'T2G', 'T2G', 'T2G', 'T2G', 'T2G', 'T2G', 'T2G', 'T2G', 'T2G', 'T2G', 'T2G', 'T2G', 'T2G', 'T2G', 'T2G', 'T2G', 'T2G', 'T2G', 'T2G', 'T2G', 'T2G', 'T2G', 'T2G', 'T2G', 'T2G', 'T2G', 'T2G', 'T2G', 'T2G', 'T2G', 'T2G', 'T2G', 'T2G', 'T2G', 'T2G', 'T2G', 'T2G', 'T2G', 'T2G', 'T2G', 'T2G', 'T2G', 'T2G', 'T2G', 'T2G', 'T2G', 'T2G', 'T2G', 'T2G', 'T2G', 'T2G', 'T2G', 'T2G', 'T2G', 'T2G', 'T2G', 'T2G', 'T2G', 'T2G', 'T2G', 'T2G', 'T2G', 'T2G', 'T2G', 'T2G', 'T2G', 'T2G', 'T2G', 'T2G', 'T2G', 'T2G', 'T2G', 'T2G', 'T2G', 'T2G', 'T2G', 'T2D', 'T2G', 'T2G', 'T2G', 'T2G', 'T2G', 'T2G', 'T2G', 'T2G', 'T2G', 'T2G', 'T2G', 'T2G', 'T2G', 'T2G', 'T2G', 'T2G', 'T2G', 'T2G', 'T2G', 'T2G', 'T2G', 'T2G', 'T2G', 'T2G', 'T2G', 'T2G', 'T2G', 'T2G', 'T2G', 'T2G', 'T2G', 'T2G', 'T2G', 'T2G', 'T2G', 'T2G', 'T2G', 'T2G', 'T2G', 'T2G', 'T2G', 'T2G', 'T2G', 'T2G', 'T2G', 'T2G', 'T2G', 'T2G', 'T2G', 'T2G', 'T2G', 'T2G', 'T2G', 'T2G', 'T2G', 'T2G', 'T2G', 'T2G', 'T2G', 'T2G', 'T2G', 'T2G', 'T2G', 'T2G', 'T2G', 'T2G', 'T2G', 'T2G', 'T2G', 'T2G', 'T2G', 'T2G', 'T2G', 'T2G', 'T2G', 'T2G', 'T2G', 'T2G', 'T2G', 'T2G', 'T2G', 'T2G', 'T2G', 'T2G', 'T2G', 'T2G', 'T2G', 'T2G', 'T2G', 'T2G', 'T2G', 'T2G', 'T2G', 'T2G', 'T2G', 'T2G', 'T2G', 'T2G', 'T2G', 'T2G', 'T2G', 'T2G', 'T2G', 'T2G', 'T2G', 'T2G', 'T2G', 'T2G', 'T2G', 'T2G', 'T2G', 'T2G', 'T2G', 'T2G', 'T2G', 'T2G', 'T2G', 'T2G', 'T2G', 'T2G', 'T2G', 'T2G', 'T2G', 'T2G', 'T2G', 'T2G', 'T2G', 'T2G', 'T2G', 'T2G', 'T2G', 'T2G', 'T2G', 'T2G', 'T2G', 'T2G', 'T2G', 'T2G', 'T2G', 'T2G', 'T2G', 'T2G', 'T2G', 'T2D', 'T2G', 'T2G', 'T2G', 'T2G', 'T2G', 'T2G', 'T2G', 'T2G', 'T2G', 'T2G', 'T2G', 'T2G', 'T2G', 'T2G', 'T2G', 'T2G', 'T2G', 'T2G', 'T2G', 'T2G', 'T2G', 'T2G', 'T2G', 'T2G', 'T2G', 'T2G', 'T2G', 'T2G', 'T2G', 'T2G', 'T2G', 'T2G', 'T2G', 'T2G', 'T2G', 'T2G', 'T2D', 'T2G', 'T2G', 'T2G', 'T2G', 'T2G', 'T2G', 'T2G', 'T2G', 'T2G', 'T2G', 'T2G', 'T2G', 'T2G', 'T2G', 'T2G', 'T2G', 'T2G', 'T2G', 'T2G', 'T2G', 'T2G', 'T2G', 'T2G', 'T2G', 'T2G', 'T2G', 'T2G', 'T2G', 'T2G', 'T2G', 'T2G', 'T2G', 'T2G', 'T2G', 'T2G', 'T2G', 'T2G', 'T2G', 'T2G', 'T2G', 'T2G', 'T2G', 'T2G', 'T2G', 'T2G', 'T2G', 'T2G', 'T2G', 'T2G', 'T2G', 'T2G', 'T2G', 'T2G', 'T2G', 'T2G', 'T2G', 'T2G', 'T2G', 'T2G', 'T2G', 'T2G', 'T2G', 'T2G', 'T2G', 'T2G', 'T2G', 'T2G', 'T2G', 'T2G', 'T2G', 'T2G', 'T2G', 'T2G', 'T2G', 'T2G', 'T2G', 'T2G', 'T2G', 'T2G', 'T2G', 'T2G', 'T2G', 'T2G', 'T2G', 'T2G', 'T2G', 'T2G', 'T2G', 'T2G', 'T2G', 'T2G', 'T2G', 'T2G', 'T2G', 'T2G', 'T2G', 'T2G', 'T2G', 'T2G', 'T2G', 'T2G', 'T2G', 'T2G', 'T2G', 'T2G', 'T2G', 'T2G', 'T2G', 'T2G', 'T2G', 'T2G', 'T2G', 'T2G', 'T2G', 'T2G', 'T2G', 'T2G', 'T2G', 'T2G', 'T2G', 'T2G', 'T2G', 'T2G', 'T2G', 'T2G', 'T2G', 'T2G', 'T2G', 'T2G', 'T2G', 'T2G', 'T2G', 'T2G', 'T2G', 'T2G', 'T2G', 'T2G', 'T2G', 'T2G', 'T2G', 'T2G', 'T2G', 'T2G', 'T2G', 'T2G', 'T2G', 'T2G', 'T2G', 'T2G', 'T2G', 'T2G', 'T2G', 'T2G', 'T2G', 'T2G', 'T2G', 'T2G', 'T2G', 'T2G', 'T2G', 'T2G', 'T2G', 'T2G', 'T2G', 'T2G', 'T2G', 'T2G', 'T2G', 'T2G', 'T2G', 'T2G', 'T2G', 'T2G', 'T2G', 'T2G', 'T2G', 'T2G', 'T2G', 'T2G', 'T2G', 'T2G', 'T2G', 'T2G', 'T2G', 'T2G', 'T2G', 'T2G', 'T2G', 'T2G', 'T2G', 'T2G', 'T2G', 'T2G', 'T2G', 'T2G', 'T2G', 'T2G', 'T2G', 'T2G', 'T2G', 'T2G', 'T2G', 'T2G', 'T2G', 'T2G', 'T2G', 'T2G', 'T2G', 'T2G', 'T2G', 'T2G', 'T2G', 'T2G', 'T2G', 'T2G', 'T2G', 'T2G', 'T2G', 'T2G', 'T2G', 'T2G', 'T2G', 'T2G', 'T2G', 'T2G', 'T2G', 'T2G', 'T2G', 'T2G', 'T2G', 'T2G', 'T2G', 'T2G', 'T2G', 'T2G', 'T2G', 'T2G', 'T2G', 'T2G', 'T2G', 'T2G', 'T2G', 'T2G', 'T2G', 'T2G', 'T2G', 'T2G', 'T2G', 'T2G', 'T2G', 'T2G', 'T2G', 'T2G', 'T2G', 'T2G', 'T2G', 'T2G', 'T2G', 'T2G', 'T2G', 'T2G', 'T2G', 'T2G', 'T2G', 'T2G', 'T2G', 'T2G', 'T2G', 'T2G', 'T2G', 'T2G', 'T2G', 'T2G', 'T2G', 'T2G', 'T2G', 'T2G', 'T2G', 'T2G', 'T2G', 'T2G', 'T2G', 'T2G', 'T2G', 'T2G', 'T2G', 'T2G', 'T2G', 'T2G', 'T2G', 'T2G', 'T2G', 'T2G', 'T2G', 'T2G', 'T2G', 'T2G', 'T2G', 'T2G', 'T2G', 'T2G', 'T2G', 'T2G', 'T2G', 'T2G', 'T2G', 'T2G', 'T2G', 'T2G', 'T2G', 'T2G', 'T2G', 'T2G', 'T2G', 'T2G', 'T2G', 'T2G', 'T2G', 'T2G', 'T2G', 'T2G', 'T2G', 'T2G', 'T2G', 'T2G', 'T2G', 'T2G', 'T2G', 'T2G', 'T2G', 'T2G', 'T2G', 'T2G', 'T2G', 'T2G', 'T2G', 'T2G', 'T2G', 'T2G', 'T2G', 'T2G', 'T2G', 'T2G', 'T2G', 'T2G', 'T2G', 'T2G', 'T2G', 'T2G', 'T2G', 'T2G', 'T2G', 'T2G', 'T2G', 'T2G', 'T2G', 'T2G', 'T2G', 'T2G', 'T2G', 'T2G', 'T2G', 'T2G', 'T2G', 'T2G', 'T2G', 'T2G', 'T2G', 'T2G', 'T2G', 'T2G', 'T2G', 'T2G', 'T2G', 'T2G', 'T2G', 'T2G', 'T2G', 'T2G', 'T2G', 'T2G', 'T2G', 'T2G', 'T2G', 'T2G', 'T2G', 'T2G', 'T2G', 'T2G', 'T2G', 'T2G', 'T2G', 'T2G', 'T2G', 'T2G', 'T2G', 'T2G', 'T2G', 'T2G', 'T2G', 'T2G', 'T2G', 'T2G', 'T2G', 'T2G', 'T2G', 'T2G', 'T2G', 'T2G', 'T2G', 'T2G', 'T2G', 'T2G', 'T2G', 'T2G', 'T2G', 'T2G', 'T2G', 'T2G', 'T2G', 'T2G', 'T2G', 'T2G', 'T2G', 'T2G', 'T2G', 'T2G', 'T2G', 'T2G', 'T2G', 'T2G', 'T2G', 'T2G', 'T2G', 'T2G', 'T2G', 'T2G', 'T2G', 'T2G', 'T2G', 'T2G', 'T2G', 'T2G', 'T2G', 'T2G', 'T2G', 'T2G', 'T2G', 'T2G', 'T2G', 'T2G', 'T2G', 'T2G', 'T2G', 'T2G', 'T2G', 'T2G', 'T2G', 'T2G', 'T2G', 'T2G', 'T2G', 'T2G', 'T2G', 'T2G', 'T2G', 'T2G', 'T2G', 'T2G', 'T2G', 'T2G', 'T2D', 'T2G', 'T2G', 'T2G', 'T2G', 'T2D', 'T2G', 'T2G', 'T2G', 'T2G', 'T2G', 'T2G', 'T2G', 'T2G', 'T2G', 'T2G', 'T2G', 'T2G', 'T2G', 'T2G', 'T2G', 'T2G', 'T2G', 'T2G', 'T2G', 'T2G', 'T2G', 'T2G', 'T2G', 'T2G', 'T2G', 'T2G', 'T2G', 'T2G', 'T2G', 'T2G', 'T2G', 'T2G', 'T2G', 'T2G', 'T2G', 'T2G', 'T2G', 'T2G', 'T2G', 'T2G', 'T2G', 'T2G', 'T2G', 'T2G', 'T2G', 'T2G', 'T2G', 'T2G', 'T2G', 'T2G', 'T2G', 'T2G', 'T2G', 'T2G', 'T2G', 'T2G', 'T2D', 'T2G', 'T2G', 'T2G', 'T2G', 'T2G', 'T2G', 'T2G', 'T2G', 'T2G', 'T2G', 'T2G', 'T2G', 'T2G', 'T2G', 'T2G', 'T2G', 'T2G', 'T2G', 'T2G', 'T2G', 'T2G', 'T2G', 'T2G', 'T2G', 'T2G', 'T2G', 'T2G', 'T2G', 'T2G', 'T2G', 'T2G', 'T2G', 'T2G', 'T2G', 'T2G', 'T2G', 'T2G', 'T2G', 'T2G', 'T2G', 'T2D', 'T2G', 'T2G', 'T2G', 'T2G', 'T2G', 'T2G', 'T2G', 'T2G', 'T2G', 'T2G', 'T2G', 'T2G', 'T2G', 'T2G', 'T2G', 'T2G', 'T2G', 'T2G', 'T2G', 'T2D', 'T2G', 'T2G', 'T2G', 'T2D', 'T2G', 'T2G', 'T2G', 'T2G', 'T2G', 'T2G', 'T2G', 'T2G', 'T2G', 'T2G', 'T2G', 'T2G', 'T2G', 'T2G', 'T2G', 'T2G', 'T2G', 'T2G', 'T2G', 'T2G', 'T2G', 'T2G', 'T2D', 'T2G', 'T2G', 'T2G', 'T2G', 'T2G', 'T2G', 'T2G', 'T2G', 'T2G', 'T2G', 'T2G', 'T2G', 'T2G', 'T2G', 'T2G', 'T2G', 'T2G', 'T2G', 'T2G', 'T2G', 'T2G', 'T2G', 'T2G', 'T2G', 'T2G', 'T2G', 'T2G', 'T2G', 'T2G', 'T2G', 'T2G', 'T2G', 'T2G', 'T2G', 'T2G', 'T2G', 'T2G', 'T2G', 'T2G', 'T2G', 'T2G', 'T2G', 'T2G', 'T2G', 'T2G', 'T2G', 'T2G', 'T2G', 'T2G', 'T2G', 'T2G', 'T2G', 'T2G', 'T2G', 'T2G', 'T2G', 'T2G', 'T2G', 'T2G', 'T2G', 'T2G', 'T2G', 'T2G', 'T2G', 'T2G', 'T2G', 'T2G', 'T2G', 'T2G', 'T2G', 'T2G', 'T2G', 'T2G', 'T2G', 'T2G', 'T2G', 'T2G', 'T2G', 'T2G', 'T2G', 'T2G', 'T2G', 'T2G', 'T2G', 'T2G', 'T2G', 'T2G', 'T2G', 'T2G', 'T2G', 'T2G', 'T2G', 'T2G', 'T2G', 'T2D', 'T2D', 'T2G', 'T2G', 'T2G', 'T2G', 'T2G', 'T2G', 'T2G', 'T2G', 'T2G', 'T2G', 'T2G', 'T2G', 'T2G', 'T2G', 'T2G', 'T2G', 'T2G', 'T2G', 'T2G', 'T2G', 'T2G', 'T2G', 'T2G', 'T2G', 'T2G', 'T2G', 'T2G', 'T2G', 'T2G', 'T2G', 'T2G', 'T2G', 'T2G', 'T2G', 'T2D', 'T2G', 'T2G', 'T2G', 'T2G', 'T2G', 'T2G', 'T2G', 'T2G', 'T2G', 'T2G', 'T2G', 'T2G', 'T2G', 'T2G', 'T2G', 'T2G', 'T2G', 'T2G', 'T2G', 'T2G', 'T2G', 'T2G', 'T2G', 'T2G', 'T2G', 'T2G', 'T2G', 'T2G', 'T2G', 'T2G', 'T2G', 'T2G', 'T2G', 'T2G', 'T2G', 'T2G', 'T2G', 'T2G', 'T2G', 'T2G', 'T2G', 'T2G', 'T2G', 'T2G', 'T2G', 'T2G', 'T2G', 'T2G', 'T2G', 'T2G', 'T2G', 'T2G', 'T2G', 'T2G', 'T2G', 'T2G', 'T2G', 'T2G', 'T2G', 'T2G', 'T2G', 'T2G', 'T2G', 'T2G', 'T2G', 'T2G', 'T2G', 'T2G', 'T2G', 'T2G', 'T2G', 'T2G', 'T2G', 'T2G', 'T2G', 'T2G', 'T2G', 'T2G', 'T2G', 'T2G', 'T2G', 'T2G', 'T2G', 'T2G', 'T2G', 'T2G', 'T2G', 'T2G', 'T2G', 'T2G', 'T2G', 'T2G', 'T2G', 'T2G', 'T2D', 'T2G', 'T2G', 'T2G', 'T2G', 'T2G', 'T2G', 'T2G', 'T2G', 'T2G', 'T2G', 'T2G', 'T2G', 'T2G', 'T2G', 'T2G', 'T2G', 'T2G', 'T2G', 'T2G', 'T2G', 'T2G', 'T2G', 'T2G', 'T2G', 'T2G', 'T2G', 'T2G', 'T2G', 'T2G', 'T2G', 'T2G', 'T2G', 'T2G', 'T2G', 'T2G', 'T2G', 'T2G', 'T2G', 'T2G', 'T2G', 'T2G', 'T2G', 'T2G', 'T2G', 'T2G', 'T2G', 'T2G', 'T2G', 'T2G', 'T2G', 'T2G', 'T2G', 'T2G', 'T2G', 'T2G', 'T2G', 'T2G', 'T2G', 'T2G', 'T2G', 'T2G', 'T2G', 'T2G', 'T2G', 'T2G', 'T2G', 'T2G', 'T2G', 'T2G', 'T2G', 'T2G', 'T2G', 'T2G', 'T2G', 'T2G', 'T2G', 'T2G', 'T2G', 'T2G', 'T2G', 'T2G', 'T2G', 'T2G', 'T2G', 'T2G', 'T2G', 'T2G', 'T2G', 'T2G', 'T2G', 'T2G', 'T2G', 'T2G', 'T2G', 'T2G', 'T2G', 'T2G', 'T2G', 'T2G', 'T2G', 'T2G', 'T2G', 'T2G', 'T2G', 'T2G', 'T2G', 'T2G', 'T2G', 'T2G', 'T2G', 'T2G', 'T2G', 'T2G', 'T2G', 'T2G', 'T2G', 'T2G', 'T2G', 'T2G', 'T2G', 'T2G', 'T2G', 'T2G', 'T2G', 'T2G', 'T2G', 'T2G', 'T2G', 'T2G', 'T2G', 'T2G', 'T2G', 'T2G', 'T2G', 'T2G', 'T2G', 'T2G', 'T2G', 'T2G', 'T2G', 'T2G', 'T2G', 'T2G', 'T2G', 'T2G', 'T2G', 'T2G', 'T2G', 'T2G', 'T2G', 'T2G', 'T2G', 'T2G', 'T2G', 'T2G', 'T2G', 'T2G', 'T2G', 'T2G', 'T2G', 'T2G', 'T2G', 'T2G', 'T2D', 'T2G', 'T2G', 'T2G', 'T2G', 'T2G', 'T2G', 'T2G', 'T2G', 'T2G', 'T2G', 'T2G', 'T2G', 'T2G', 'T2G', 'T2G', 'T2G', 'T2G', 'T2G', 'T2G', 'T2G', 'T2G', 'T2G', 'T2G', 'T2G', 'T2G', 'T2G', 'T2G', 'T2G', 'T2G', 'T2G', 'T2G', 'T2G', 'T2D', 'T2G', 'T2G', 'T2G', 'T2D', 'T2G', 'T2G', 'T2G', 'T2G', 'T2G', 'T2G', 'T2G', 'T2G', 'T2G', 'T2G', 'T2G', 'T2G', 'T2G', 'T2G', 'T2G', 'T2G', 'T2G', 'T2G', 'T2G', 'T2G', 'T2G', 'T2G', 'T2G', 'T2G', 'T2G', 'T2G', 'T2G', 'T2G', 'T2G', 'T2G', 'T2G', 'T2G', 'T2G', 'T2G', 'T2G', 'T2G', 'T2G', 'T2G', 'T2G', 'T2G', 'T2G', 'T2G', 'T2G', 'T2G', 'T2G', 'T2G', 'T2G', 'T2G', 'T2G', 'T2G', 'T2G', 'T2G', 'T2G', 'T2G', 'T2G', 'T2G', 'T2G', 'T2G', 'T2G', 'T2G', 'T2G', 'T2G', 'T2G', 'T2G', 'T2G', 'T2G', 'T2G', 'T2G', 'T2D', 'T2G', 'T2D', 'T2G', 'T2G', 'T2G', 'T2G', 'T2G', 'T2G', 'T2G', 'T2G', 'T2G', 'T2G', 'T2G', 'T2G', 'T2G', 'T2G', 'T2G', 'T2G', 'T2G', 'T2G', 'T2G', 'T2G', 'T2G', 'T2G', 'T2G', 'T2D', 'T2G', 'T2G', 'T2G', 'T2G', 'T2G', 'T2G', 'T2G', 'T2G', 'T2G', 'T2D', 'T2G', 'T2G', 'T2G', 'T2G', 'T2G', 'T2G', 'T2G', 'T2G', 'T2G', 'T2G', 'T2G', 'T2G', 'T2G', 'T2G', 'T2G', 'T2G', 'T2G', 'T2G', 'T2G', 'T2G', 'T2G', 'T2D', 'T2G', 'T2G', 'T2G', 'T2G', 'T2G', 'T2G', 'T2G', 'T2G', 'T2G', 'T2G', 'T2G', 'T2G', 'T2G', 'T2G', 'T2G', 'T2G', 'T2G', 'T2G', 'T2G', 'T2G', 'T2G', 'T2G', 'T2D', 'T2G', 'T2D', 'T2G', 'T2G', 'T2G', 'T2G', 'T2G', 'T2G', 'T2G', 'T2G', 'T2G', 'T2G', 'T2G', 'T2G', 'T2G', 'T2G', 'T2G', 'T2G', 'T2G', 'T2G', 'T2G', 'T2G', 'T2G', 'T2G', 'T2G', 'T2G', 'T2G', 'T2G', 'T2G', 'T2G', 'T2G', 'T2G', 'T2G', 'T2G', 'T2G', 'T2G', 'T2G', 'T2G', 'T2G', 'T2G', 'T2G', 'T2G', 'T2G', 'T2G', 'T2G', 'T2G', 'T2G', 'T2G', 'T2G', 'T2G', 'T2G', 'T2G', 'T2G', 'T2G', 'T2G', 'T2G', 'T2G', 'T2G', 'T2G', 'T2G', 'T2G', 'T2G', 'T2G', 'T2G', 'T2G', 'T2D', 'T2G', 'T2G', 'T2G', 'T2G', 'T2G', 'T2G', 'T2G', 'T2G', 'T2G', 'T2G', 'T2G', 'T2G', 'T2G', 'T2G', 'T2G', 'T2G', 'T2G', 'T2G', 'T2G', 'T2G', 'T2G', 'T2G', 'T2G', 'T2G', 'T2G', 'T2G', 'T2G', 'T2G', 'T2G', 'T2G', 'T2G', 'T2G', 'T2G', 'T2G', 'T2G', 'T2G', 'T2G', 'T2G', 'T2G', 'T2G', 'T2G', 'T2G', 'T2G', 'T2G', 'T2G', 'T2G', 'T2G', 'T2G', 'T2G', 'T2G', 'T2G', 'T2G', 'T2G', 'T2G', 'T2G', 'T2G', 'T2G', 'T2G', 'T2G', 'T2G', 'T2G', 'T2G', 'T2G', 'T2G', 'T2D', 'T2G', 'T2G', 'T2G', 'T2G', 'T2G', 'T2G', 'T2G', 'T2G', 'T2G', 'T2G', 'T2G', 'T2G', 'T2G', 'T2G', 'T2G', 'T2G', 'T2G', 'T2G', 'T2G', 'T2G', 'T2G', 'T2G', 'T2G', 'T2G', 'T2G', 'T2D', 'T2G', 'T2G', 'T2G', 'T2G', 'T2G', 'T2G', 'T2G', 'T2G', 'T2G', 'T2G', 'T2G', 'T2G', 'T2G', 'T2G', 'T2G', 'T2G', 'T2G', 'T2G', 'T2G', 'T2G', 'T2G', 'T2G', 'T2G', 'T2G', 'T2D', 'T2G', 'T2G', 'T2G', 'T2G', 'T2G', 'T2G', 'T2G', 'T2G', 'T2G', 'T2G', 'T2G', 'T2G', 'T2G', 'T2G', 'T2G', 'T2G', 'T2G', 'T2G', 'T2G', 'T2G', 'T2G', 'T2G', 'T2G', 'T2G', 'T2D', 'T2G', 'T2G', 'T2G', 'T2G', 'T2G', 'T2G', 'T2G', 'T2G', 'T2G', 'T2G', 'T2G', 'T2G', 'T2G', 'T2G', 'T2G', 'T2G', 'T2G', 'T2G', 'T2G', 'T2G', 'T2G', 'T2G', 'T2G', 'T2G', 'T2G', 'T2G', 'T2G', 'T2G', 'T2G', 'T2G', 'T2G', 'T2G', 'T2G', 'T2G', 'T2G', 'T2G', 'T2G', 'T2G', 'T2G', 'T2D', 'T2G', 'T2G', 'T2G', 'T2G', 'T2G', 'T2G', 'T2G', 'T2G', 'T2G', 'T2G', 'T2G', 'T2G', 'T2G', 'T2G', 'T2G', 'T2G', 'T2G', 'T2G', 'T2G', 'T2G', 'T2G', 'T2G', 'T2G', 'T2G', 'T2G', 'T2G', 'T2G', 'T2G', 'T2G', 'T2G', 'T2G', 'T2G', 'T2G', 'T2G', 'T2D', 'T2G', 'T2G', 'T2G', 'T2G', 'T2G', 'T2G', 'T2G', 'T2G', 'T2G', 'T2G', 'T2G', 'T2G', 'T2G', 'T2G', 'T2G', 'T2G', 'T2G', 'T2G', 'T2G', 'T2G', 'T2G', 'T2G', 'T2G', 'T2G', 'T2G', 'T2G', 'T2G', 'T2G', 'T2G', 'T2G', 'T2G', 'T2G', 'T2G', 'T2G', 'T2G', 'T2G', 'T2G', 'T2G', 'T2D', 'T2G', 'T2G', 'T2G', 'T2G', 'T2G', 'T2G', 'T2G', 'T2G', 'T2G', 'T2G', 'T2G', 'T2G', 'T2G', 'T2G', 'T2G', 'T2G', 'T2G', 'T2G', 'T2G', 'T2G', 'T2G', 'T2G', 'T2G', 'T2G', 'T2G', 'T2G', 'T2G', 'T2G', 'T2G', 'T2G', 'T2G', 'T2G', 'T2G', 'T2G', 'T2G', 'T2G', 'T2G', 'T2D', 'T2G', 'T2G', 'T2G', 'T2G', 'T2G', 'T2G', 'T2G', 'T2G', 'T2G', 'T2G', 'T2G', 'T2G', 'T2G', 'T2G', 'T2G', 'T2G', 'T2D', 'T2G', 'T2G', 'T2G', 'T2G', 'T2G', 'T2G', 'T2G', 'T2G', 'T2G', 'T2G', 'T2G', 'T2G', 'T2G', 'T2G', 'T2G', 'T2G', 'T2G', 'T2G', 'T2G', 'T2G', 'T2G', 'T2G', 'T2G', 'T2G', 'T2G', 'T2G', 'T2G', 'T2G', 'T2G', 'T2G', 'T2G', 'T2G', 'T2G', 'T2G', 'T2G', 'T2G', 'T2G', 'T2G', 'T2G', 'T2G', 'T2G', 'T2G', 'T2G', 'T2G', 'T2G', 'T2G', 'T2G', 'T2G', 'T2G', 'T2G', 'T2G', 'T2G', 'T2G', 'T2G', 'T2G', 'T2G', 'T2G', 'T2G', 'T2G', 'T2G', 'T2G', 'T2G', 'T2G', 'T2G', 'T2G', 'T2G', 'T2G', 'T2G', 'T2G', 'T2G', 'T2G', 'T2G', 'T2G', 'T2G', 'T2G', 'T2G', 'T2G', 'T2G', 'T2G', 'T2G', 'T2G', 'T2G', 'T2G', 'T2G', 'T2D', 'T2G', 'T2G', 'T2G', 'T2G', 'T2G', 'T2G', 'T2G', 'T2G', 'T2G', 'T2G', 'T2G', 'T2G', 'T2G', 'T2G', 'T2G', 'T2G', 'T2G', 'T2G', 'T2D', 'T2G', 'T2G', 'T2G', 'T2G', 'T2G', 'T2G', 'T2G', 'T2G', 'T2G', 'T2D', 'T2G', 'T2G', 'T2G', 'T2G', 'T2G', 'T2G', 'T2G', 'T2G', 'T2G', 'T2G', 'T2G', 'T2G', 'T2G', 'T2G', 'T2G', 'T2G', 'T2G', 'T2G', 'T2G', 'T2G', 'T2G', 'T2G', 'T2G', 'T2G', 'T2G', 'T2G', 'T2G', 'T2G', 'T2G', 'T2G', 'T2G', 'T2G', 'T2G', 'T2G', 'T2G', 'T2G', 'T2G', 'T2G', 'T2G', 'T2G', 'T2G', 'T2G', 'T2G', 'T2G', 'T2G', 'T2G', 'T2G', 'T2G', 'T2G', 'T2D', 'T2G', 'T2G', 'T2G', 'T2D', 'T2G', 'T2G', 'T2G', 'T2G', 'T2G', 'T2G', 'T2G', 'T2D', 'T2G', 'T2G', 'T2G', 'T2G', 'T2G', 'T2G', 'T2G', 'T2G', 'T2G', 'T2G', 'T2G', 'T2G', 'T2G', 'T2G', 'T2G', 'T2G', 'T2G', 'T2G', 'T2G', 'T2G', 'T2G', 'T2G', 'T2G', 'T2G', 'T2G', 'T2G', 'T2G', 'T2G', 'T2G', 'T2G', 'T2G', 'T2G', 'T2G', 'T2G', 'T2G', 'T2G', 'T2G', 'T2G', 'T2G', 'T2G', 'T2G', 'T2G', 'T2G', 'T2G', 'T2G', 'T2G', 'T2G', 'T2G', 'T2G', 'T2G', 'T2G', 'T2G', 'T2G', 'T2G', 'T2G', 'T2G', 'T2G', 'T2G', 'T2G', 'T2G', 'T2G', 'T2G', 'T2G', 'T2G', 'T2G', 'T2G', 'T2G', 'T2G', 'T2G', 'T2G', 'T2G', 'T2G', 'T2G', 'T2G', 'T2G', 'T2G', 'T2G', 'T2G', 'T2G', 'T2G', 'T2G', 'T2G', 'T2G', 'T2G', 'T2G', 'T2G', 'T2G', 'T2G', 'T2G', 'T2G', 'T2G', 'T2G', 'T2G', 'T2G', 'T2G', 'T2G', 'T2G', 'T2G', 'T2G', 'T2G', 'T2G', 'T2G', 'T2G', 'T2G', 'T2G', 'T2G', 'T2G', 'T2G', 'T2G', 'T2G', 'T2G', 'T2G', 'T2G', 'T2G', 'T2G', 'T2G', 'T2G', 'T2G', 'T2G', 'T2G', 'T2G', 'T2G', 'T2G', 'T2G', 'T2G', 'T2G', 'T2G', 'T2G', 'T2G', 'T2G', 'T2G', 'T2G', 'T2G', 'T2G', 'T2G', 'T2G', 'T2G', 'T2G', 'T2G', 'T2G', 'T2G', 'T2G', 'T2G', 'T2G', 'T2G', 'T2G', 'T2G', 'T2G', 'T2G', 'T2G', 'T2G', 'T2G', 'T2G', 'T2G', 'T2G', 'T2G', 'T2G', 'T2G', 'T2G', 'T2G', 'T2G', 'T2G', 'T2G', 'T2G', 'T2G', 'T2G', 'T2G', 'T2G', 'T2G', 'T2G', 'T2G', 'T2G', 'T2G', 'T2G', 'T2G', 'T2G', 'T2G', 'T2G', 'T2G', 'T2G', 'T2G', 'T2G', 'T2G', 'T2G', 'T2G', 'T2G', 'T2G', 'T2G', 'T2G', 'T2G', 'T2G', 'T2G', 'T2G', 'T2G', 'T2G', 'T2G', 'T2G', 'T2G', 'T2G', 'T2G', 'T2G', 'T2G', 'T2G', 'T2G', 'T2G', 'T2G', 'T2G', 'T2G', 'T2G', 'T2G', 'T2G', 'T2G', 'T2D', 'T2G', 'T2G', 'T2G', 'T2G', 'T2G', 'T2G', 'T2G', 'T2G', 'T2G', 'T2G', 'T2G', 'T2G', 'T2G', 'T2G', 'T2G', 'T2G', 'T2G', 'T2G', 'T2G', 'T2G', 'T2G', 'T2G', 'T2G', 'T2G', 'T2G', 'T2G', 'T2G', 'T2G', 'T2G', 'T2G', 'T2G', 'T2G', 'T2G', 'T2G', 'T2G', 'T2G', 'T2G', 'T2G', 'T2G', 'T2G', 'T2G', 'T2G', 'T2G', 'T2G', 'T2G', 'T2G', 'T2G', 'T2D', 'T2G', 'T2G', 'T2G', 'T2G', 'T2G', 'T2G', 'T2G', 'T2G', 'T2G', 'T2G', 'T2G', 'T2G', 'T2G', 'T2G', 'T2G', 'T2G', 'T2G', 'T2G', 'T2G', 'T2G', 'T2G', 'T2G', 'T2G', 'T2G', 'T2G', 'T2G', 'T2G', 'T2G', 'T2G', 'T2G', 'T2G', 'T2G', 'T2G', 'T2G', 'T2G', 'T2G', 'T2G', 'T2G', 'T2G', 'T2G', 'T2G', 'T2G', 'T2G', 'T2G', 'T2G', 'T2G', 'T2G', 'T2G', 'T2G', 'T2G', 'T2G', 'T2G', 'T2G', 'T2G', 'T2G', 'T2G', 'T2G', 'T2G', 'T2G', 'T2G', 'T2G', 'T2G', 'T2G', 'T2G', 'T2G', 'T2G', 'T2G', 'T2G', 'T2G', 'T2G', 'T2G', 'T2G', 'T2D', 'T2G', 'T2G', 'T2G', 'T2G', 'T2G', 'T2G', 'T2G', 'T2G', 'T2G', 'T2G', 'T2G', 'T2G', 'T2D', 'T2G', 'T2G', 'T2G', 'T2G', 'T2G', 'T2G', 'T2G', 'T2G', 'T2G', 'T2G', 'T2G', 'T2G', 'T2G', 'T2G', 'T2G', 'T2G', 'T2G', 'T2G', 'T2G', 'T2G', 'T2G', 'T2G', 'T2G', 'T2G', 'T2G', 'T2G', 'T2G', 'T2G', 'T2D', 'T2G', 'T2G', 'T2G', 'T2G', 'T2G', 'T2G', 'T2G', 'T2G', 'T2G', 'T2G', 'T2G', 'T2G', 'T2G', 'T2G', 'T2G', 'T2D', 'T2G', 'T2G', 'T2G', 'T2G', 'T2G', 'T2G', 'T2G', 'T2G', 'T2G', 'T2G', 'T2G', 'T2G', 'T2G', 'T2G', 'T2G', 'T2G', 'T2G', 'T2G', 'T2G', 'T2G', 'T2G', 'T2G', 'T2G', 'T2G', 'T2G', 'T2G', 'T2G', 'T2G', 'T2G', 'T2G', 'T2G', 'T2G', 'T2G', 'T2G', 'T2G', 'T2G', 'T2G', 'T2G', 'T2G', 'T2G', 'T2G', 'T2G', 'T2G', 'T2G', 'T2G', 'T2D', 'T2G', 'T2G', 'T2G', 'T2G', 'T2G', 'T2G', 'T2G', 'T2G', 'T2G', 'T2G', 'T2G', 'T2G', 'T2G', 'T2G', 'T2G', 'T2G', 'T2G', 'T2G', 'T2G', 'T2G', 'T2G', 'T2G', 'T2G', 'T2G', 'T2G', 'T2G', 'T2G', 'T2G', 'T2G', 'T2G', 'T2G', 'T2G', 'T2G', 'T2G', 'T2G', 'T2G', 'T2G', 'T2G', 'T2G', 'T2G', 'T2G', 'T2G', 'T2G', 'T2G', 'T2G', 'T2D', 'T2G', 'T2G', 'T2G', 'T2G', 'T2G', 'T2G', 'T2G', 'T2G', 'T2G', 'T2G', 'T2G', 'T2G', 'T2G', 'T2G', 'T2G', 'T2G', 'T2G', 'T2G', 'T2G', 'T2G', 'T2G', 'T2G', 'T2G', 'T2G', 'T2G', 'T2G', 'T2G', 'T2G', 'T2G', 'T2G', 'T2G', 'T2G', 'T2G', 'T2G', 'T2G', 'T2G', 'T2G', 'T2G', 'T2G', 'T2G', 'T2G', 'T2G', 'T2G', 'T2G', 'T2G', 'T2G', 'T2G', 'T2G', 'T2G', 'T2G', 'T2G', 'T2G', 'T2G', 'T2G', 'T2G', 'T2G', 'T2G', 'T2G', 'T2G', 'T2G', 'T2G', 'T2G', 'T2G', 'T2G', 'T2G', 'T2G', 'T2G', 'T2G', 'T2G', 'T2G', 'T2G', 'T2G', 'T2G', 'T2G', 'T2G', 'T2G', 'T2G', 'T2G', 'T2G', 'T2G', 'T2G', 'T2G', 'T2G', 'T2G', 'T2G', 'T2G', 'T2G', 'T2G', 'T2G', 'T2G', 'T2G', 'T2G', 'T2G', 'T2G', 'T2G', 'T2G', 'T2G', 'T2G', 'T2G', 'T2G', 'T2G', 'T2G', 'T2G', 'T2G', 'T2G', 'T2G', 'T2G', 'T2G', 'T2G', 'T2G', 'T2G', 'T2G', 'T2G', 'T2G', 'T2G', 'T2D', 'T2G', 'T2G', 'T2G', 'T2G', 'T2G', 'T2G', 'T2G', 'T2G', 'T2G', 'T2G', 'T2G', 'T2G', 'T2G', 'T2G', 'T2D', 'T2G', 'T2G', 'T2G', 'T2G', 'T2G', 'T2G', 'T2G', 'T2G', 'T2G', 'T2G', 'T2G', 'T2G', 'T2G', 'T2G', 'T2G', 'T2G', 'T2G', 'T2G', 'T2G', 'T2G', 'T2G', 'T2G', 'T2G', 'T2G', 'T2G', 'T2G', 'T2G', 'T2G', 'T2G', 'T2G', 'T2G', 'T2G', 'T2G', 'T2G', 'T2D', 'T2G', 'T2G', 'T2G', 'T2G', 'T2G', 'T2G', 'T2D', 'T2G', 'T2G', 'T2G', 'T2G', 'T2G', 'T2G', 'T2G', 'T2G', 'T2G', 'T2G', 'T2G', 'T2G', 'T2G', 'T2G', 'T2G', 'T2G', 'T2G', 'T2G', 'T2G', 'T2G', 'T2G', 'T2G', 'T2G', 'T2G', 'T2G', 'T2G', 'T2G', 'T2G', 'T2G', 'T2G', 'T2G', 'T2G', 'T2G', 'T2D', 'T2G', 'T2G', 'T2G', 'T2G', 'T2G', 'T2G', 'T2G', 'T2G', 'T2G', 'T2G', 'T2G', 'T2G', 'T2G', 'T2G', 'T2G', 'T2G', 'T2G', 'T2G', 'T2G', 'T2G', 'T2G', 'T2G', 'T2G', 'T2G', 'T2G', 'T2G', 'T2G', 'T2G', 'T2G', 'T2G', 'T2G', 'T2G', 'T2G', 'T2G', 'T2G', 'T2G', 'T2G', 'T2G', 'T2G', 'T2G', 'T2G', 'T2G', 'T2G', 'T2G', 'T2G', 'T2G', 'T2G', 'T2G', 'T2G', 'T2G', 'T2G', 'T2G', 'T2G', 'T2G', 'T2G', 'T2G', 'T2G', 'T2G', 'T2G', 'T2G', 'T2G', 'T2G', 'T2G', 'T2G', 'T2G', 'T2G', 'T2G', 'T2G', 'T2G', 'T2G', 'T2G', 'T2G', 'T2G', 'T2G', 'T2G', 'T2G', 'T2G', 'T2G', 'T2G', 'T2G', 'T2G', 'T2G', 'T2G', 'T2G', 'T2G', 'T2G', 'T2G', 'T2G', 'T2G', 'T2G', 'T2G', 'T2G', 'T2G', 'T2G', 'T2G', 'T2G', 'T2G', 'T2G', 'T2G', 'T2G', 'T2G', 'T2G', 'T2G', 'T2G', 'T2G', 'T2G', 'T2G', 'T2G', 'T2G', 'T2G', 'T2G', 'T2G', 'T2G', 'T2G', 'T2G', 'T2G', 'T2G', 'T2G', 'T2G', 'T2G', 'T2G', 'T2G', 'T2G', 'T2G', 'T2G', 'T2G', 'T2G', 'T2G', 'T2G', 'T2G', 'T2G', 'T2G', 'T2G', 'T2G', 'T2G', 'T2G', 'T2G', 'T2G', 'T2G', 'T2G', 'T2G', 'T2D', 'T2G', 'T2G', 'T2G', 'T2G', 'T2G', 'T2G', 'T2G', 'T2G', 'T2G', 'T2G', 'T2G', 'T2G', 'T2G', 'T2G', 'T2G', 'T2G', 'T2G', 'T2G', 'T2G', 'T2G', 'T2G', 'T2G', 'T2G', 'T2G', 'T2G', 'T2G', 'T2G', 'T2G', 'T2G', 'T2G', 'T2G', 'T2G', 'T2G', 'T2G', 'T2G', 'T2G', 'T2G', 'T2G', 'T2G', 'T2G', 'T2G', 'T2G', 'T2G', 'T2G', 'T2G', 'T2G', 'T2G', 'T2G', 'T2G', 'T2G', 'T2G', 'T2G', 'T2G', 'T2G', 'T2G', 'T2G', 'T2G', 'T2G', 'T2G', 'T2G', 'T2G', 'T2G', 'T2G', 'T2G', 'T2G', 'T2G', 'T2G', 'T2G', 'T2G', 'T2G', 'T2G', 'T2G', 'T2G', 'T2G', 'T2G', 'T2G', 'T2G', 'T2G', 'T2G', 'T2G', 'T2G', 'T2G', 'T2G', 'T2G', 'T2G', 'T2G', 'T2G', 'T2G', 'T2G', 'T2G', 'T2G', 'T2G', 'T2G', 'T2G', 'T2G', 'T2G', 'T2G', 'T2G', 'T2G', 'T2G', 'T2G', 'T2G', 'T2G', 'T2G', 'T2G', 'T2G', 'T2G', 'T2G', 'T2G', 'T2G', 'T2G', 'T2G', 'T2G', 'T2G', 'T2G', 'T2G', 'T2G', 'T2G', 'T2G', 'T2G', 'T2G', 'T2G', 'T2G', 'T2G', 'T2G', 'T2G', 'T2G', 'T2G', 'T2G', 'T2G', 'T2G', 'T2G', 'T2G', 'T2D', 'T2G', 'T2G', 'T2G', 'T2G', 'T2G', 'T2G', 'T2G', 'T2G', 'T2G', 'T2G', 'T2G', 'T2G', 'T2G', 'T2G', 'T2G', 'T2D', 'T2G', 'T2G', 'T2G', 'T2G', 'T2G', 'T2G', 'T2G', 'T2G', 'T2G', 'T2G', 'T2G', 'T2G', 'T2G', 'T2G', 'T2G', 'T2G', 'T2G', 'T2G', 'T2G', 'T2G', 'T2G', 'T2G', 'T2G', 'T2G', 'T2G', 'T2G', 'T2G', 'T2G', 'T2G', 'T2G', 'T2G', 'T2G', 'T2G', 'T2G', 'T2G', 'T2G', 'T2G', 'T2G', 'T2G', 'T2G', 'T2G', 'T2G', 'T2G', 'T2G', 'T2G', 'T2G', 'T2G', 'T2G', 'T2G', 'T2G', 'T2G', 'T2G', 'T2G', 'T2G', 'T2G', 'T2G', 'T2G', 'T2G', 'T2G', 'T2G', 'T2G', 'T2G', 'T2G', 'T2G', 'T2G', 'T2G', 'T2G', 'T2G', 'T2G', 'T2G', 'T2G', 'T2G', 'T2G', 'T2G', 'T2G', 'T2G', 'T2G', 'T2G', 'T2G', 'T2G', 'T2G', 'T2G', 'T2G', 'T2G', 'T2G', 'T2G', 'T2G', 'T2D', 'T2G', 'T2G', 'T2G', 'T2G', 'T2G', 'T2G', 'T2G', 'T2G', 'T2G', 'T2G', 'T2G', 'T2G', 'T2G', 'T2G', 'T2G', 'T2G', 'T2G', 'T2G', 'T2G', 'T2G', 'T2G', 'T2D', 'T2G', 'T2G', 'T2G', 'T2G', 'T2G', 'T2G', 'T2G', 'T2G', 'T2G', 'T2G', 'T2G', 'T2G', 'T2G', 'T2G', 'T2G', 'T2G', 'T2G', 'T2G', 'T2G', 'T2G', 'T2G', 'T2G', 'T2G', 'T2G', 'T2G', 'T2G', 'T2G', 'T2G', 'T2G', 'T2G', 'T2G', 'T2G', 'T2G', 'T2G', 'T2G', 'T2G', 'T2G', 'T2G', 'T2G', 'T2G', 'T2G', 'T2G', 'T2G', 'T2G', 'T2G', 'T2G', 'T2G', 'T2G', 'T2G', 'T2G', 'T2G', 'T2G', 'T2G', 'T2G', 'T2G', 'T2G', 'T2G', 'T2G', 'T2G', 'T2G', 'T2G', 'T2G', 'T2G', 'T2G', 'T2G', 'T2G', 'T2G', 'T2G', 'T2G', 'T2G', 'T2G', 'T2G', 'T2G', 'T2G', 'T2G', 'T2D', 'T2G', 'T2G', 'T2G', 'T2G', 'T2G', 'T2G', 'T2G', 'T2G', 'T2G', 'T2G', 'T2G', 'T2G', 'T2G', 'T2G', 'T2G', 'T2G', 'T2G', 'T2G', 'T2G', 'T2G', 'T2G', 'T2G', 'T2G', 'T2G', 'T2G', 'T2G', 'T2G', 'T2G', 'T2G', 'T2G', 'T2G', 'T2G', 'T2G', 'T2G', 'T2G', 'T2G', 'T2G', 'T2G', 'T2G', 'T2G', 'T2G', 'T2G', 'T2G', 'T2G', 'T2G', 'T2G', 'T2G', 'T2G', 'T2G', 'T2G', 'T2G', 'T2G', 'T2G', 'T2D', 'T2G', 'T2G', 'T2G', 'T2G', 'T2G', 'T2G', 'T2G', 'T2G', 'T2D', 'T2G', 'T2G', 'T2G', 'T2G', 'T2G', 'T2G', 'T2G', 'T2G', 'T2G', 'T2G', 'T2G', 'T2G', 'T2D', 'T2G', 'T2G', 'T2G', 'T2G', 'T2G', 'T2G', 'T2G', 'T2G', 'T2G', 'T2G', 'T2G', 'T2G', 'T2G', 'T2G', 'T2G', 'T2G', 'T2G', 'T2G', 'T2G', 'T2G', 'T2G', 'T2G', 'T2G', 'T2G', 'T2G', 'T2G', 'T2G', 'T2G', 'T2G', 'T2G', 'T2G', 'T2G', 'T2G', 'T2G', 'T2G', 'T2G', 'T2G', 'T2G', 'T2G', 'T2G', 'T2G', 'T2G', 'T2G', 'T2G', 'T2G', 'T2G', 'T2G', 'T2G', 'T2G', 'T2G', 'T2G', 'T2G', 'T2G', 'T2G', 'T2G', 'T2D', 'T2G', 'T2G', 'T2G', 'T2G', 'T2G', 'T2G', 'T2G', 'T2G', 'T2G', 'T2G', 'T2G', 'T2G', 'T2G', 'T2G', 'T2G', 'T2G', 'T2D', 'T2G', 'T2D', 'T2G', 'T2G', 'T2G', 'T2G', 'T2G', 'T2G', 'T2G', 'T2G', 'T2G', 'T2G', 'T2G', 'T2G', 'T2G', 'T2G', 'T2G', 'T2G', 'T2G', 'T2G', 'T2G', 'T2G', 'T2G', 'T2G', 'T2G', 'T2G', 'T2G', 'T2G', 'T2G', 'T2G', 'T2D', 'T2G', 'T2G', 'T2G', 'T2G', 'T2G', 'T2G', 'T2G', 'T2G', 'T2G', 'T2G', 'T2G', 'T2G', 'T2G', 'T2G', 'T2G', 'T2G', 'T2G', 'T2G', 'T2G', 'T2G', 'T2G', 'T2G', 'T2G', 'T2G', 'T2G', 'T2G', 'T2G', 'T2G', 'T2G', 'T2G', 'T2G', 'T2G', 'T2G', 'T2G', 'T2G', 'T2G', 'T2G', 'T2G', 'T2G', 'T2G', 'T2G', 'T2D', 'T2G', 'T2G', 'T2G', 'T2G', 'T2G', 'T2G', 'T2G', 'T2G', 'T2G', 'T2G', 'T2G', 'T2G', 'T2G', 'T2G', 'T2G', 'T2G', 'T2G', 'T2G', 'T2G', 'T2G', 'T2G', 'T2G', 'T2G', 'T2G', 'T2G', 'T2G', 'T2G', 'T2G', 'T2G', 'T2G', 'T2G', 'T2G', 'T2G', 'T2G', 'T2G', 'T2G', 'T2G', 'T2G', 'T2G', 'T2G', 'T2G', 'T2G', 'T2G', 'T2G', 'T2D', 'T2G', 'T2G', 'T2G', 'T2G', 'T2G', 'T2G', 'T2G', 'T2G', 'T2G', 'T2G', 'T2G', 'T2G', 'T2G', 'T2G', 'T2G', 'T2G', 'T2G', 'T2G', 'T2G', 'T2G', 'T2G', 'T2G', 'T2G', 'T2G', 'T2G', 'T2G', 'T2G', 'T2G', 'T2G', 'T2G', 'T2G', 'T2G', 'T2G', 'T2G', 'T2G', 'T2G', 'T2G', 'T2G', 'T2G', 'T2G', 'T2G', 'T2G', 'T2G', 'T2D', 'T2G', 'T2G', 'T2G', 'T2G', 'T2G', 'T2G', 'T2G', 'T2G', 'T2G', 'T2G', 'T2G', 'T2G', 'T2G', 'T2G', 'T2G', 'T2G', 'T2G', 'T2G', 'T2G', 'T2G', 'T2G', 'T2G', 'T2G', 'T2G', 'T2G', 'T2G', 'T2G', 'T2G', 'T2G', 'T2G', 'T2G', 'T2G', 'T2G', 'T2G', 'T2G', 'T2G', 'T2G', 'T2G', 'T2G', 'T2G', 'T2G', 'T2G', 'T2G', 'T2G', 'T2G', 'T2G', 'T2G', 'T2G', 'T2G', 'T2G', 'T2G', 'T2G', 'T2G', 'T2G', 'T2G', 'T2G', 'T2G', 'T2G', 'T2G', 'T2G', 'T2G', 'T2G', 'T2G', 'T2G', 'T2G', 'T2G', 'T2G', 'T2G', 'T2G', 'T2G', 'T2G', 'T2G', 'T2G', 'T2G', 'T2G', 'T2G', 'T2G', 'T2G', 'T2G', 'T2G', 'T2G', 'T2G', 'T2G', 'T2G', 'T2D', 'T2G', 'T2G', 'T2G', 'T2G', 'T2G', 'T2G', 'T2G', 'T2G', 'T2G', 'T2G', 'T2D', 'T2G', 'T2G', 'T2G', 'T2G', 'T2G', 'T2G', 'T2G', 'T2D', 'T2G', 'T2G', 'T2G', 'T2G', 'T2G', 'T2G', 'T2G', 'T2G', 'T2G', 'T2G', 'T2G', 'T2G', 'T2G', 'T2G', 'T2G', 'T2G', 'T2G', 'T2G', 'T2G', 'T2G', 'T2G', 'T2G', 'T2G', 'T2G', 'T2G', 'T2G', 'T2G', 'T2G', 'T2G', 'T2G', 'T2G', 'T2G', 'T2G', 'T2G', 'T2G', 'T2G', 'T2G', 'T2G', 'T2G', 'T2G', 'T2G', 'T2G', 'T2G', 'T2G', 'T2G', 'T2G', 'T2G', 'T2G', 'T2G', 'T2G', 'T2G', 'T2G', 'T2G', 'T2G', 'T2G', 'T2G', 'T2G', 'T2G', 'T2G', 'T2G', 'T2G', 'T2G', 'T2G', 'T2G', 'T2G', 'T2G', 'T2G', 'T2G', 'T2G', 'T2G', 'T2G', 'T2G', 'T2G', 'T2G', 'T2G', 'T2G', 'T2G', 'T2G', 'T2G', 'T2G', 'T2G', 'T2G', 'T2G', 'T2G', 'T2G', 'T2G', 'T2G', 'T2G', 'T2G', 'T2G', 'T2D', 'T2G', 'T2G', 'T2G', 'T2G', 'T2G', 'T2G', 'T2G', 'T2G', 'T2G', 'T2G', 'T2G', 'T2G', 'T2G', 'T2G', 'T2G', 'T2G', 'T2G', 'T2G', 'T2G', 'T2G', 'T2G', 'T2G', 'T2G', 'T2G', 'T2G', 'T2G', 'T2G', 'T2G', 'T2G', 'T2G', 'T2G', 'T2G', 'T2G', 'T2G', 'T2G', 'T2G', 'T2G', 'T2G', 'T2G', 'T2G', 'T2G', 'T2G', 'T2G', 'T2G', 'T2G', 'T2G', 'T2G', 'T2G', 'T2G', 'T2G', 'T2G', 'T2G', 'T2G', 'T2G', 'T2G', 'T2G', 'T2G', 'T2G', 'T2G', 'T2G', 'T2G', 'T2G', 'T2G', 'T2G', 'T2G', 'T2G', 'T2G', 'T2G', 'T2G', 'T2G', 'T2G', 'T2G', 'T2G', 'T2G', 'T2G', 'T2G', 'T2G', 'T2G', 'T2G', 'T2G', 'T2G', 'T2G', 'T2G', 'T2G', 'T2G', 'T2G', 'T2G', 'T2G', 'T2G', 'T2G', 'T2G', 'T2G', 'T2G', 'T2G', 'T2G', 'T2G', 'T2G', 'T2G', 'T2G', 'T2G', 'T2G', 'T2G', 'T2G', 'T2G', 'T2G', 'T2G', 'T2G', 'T2G', 'T2G', 'T2G', 'T2G', 'T2G', 'T2G', 'T2G', 'T2G', 'T2G', 'T2G', 'T2G', 'T2G', 'T2G', 'T2G', 'T2G', 'T2G', 'T2G', 'T2G', 'T2G', 'T2G', 'T2G', 'T2G', 'T2G', 'T2G', 'T2G', 'T2G', 'T2G', 'T2G', 'T2G', 'T2G', 'T2G', 'T2G', 'T2G', 'T2G', 'T2G', 'T2G', 'T2G', 'T2G', 'T2G', 'T2G', 'T2G', 'T2G', 'T2G', 'T2G', 'T2G', 'T2G', 'T2G', 'T2G', 'T2G', 'T2G', 'T2G', 'T2G', 'T2G', 'T2G', 'T2G', 'T2G', 'T2G', 'T2G', 'T2G', 'T2G', 'T2G', 'T2G', 'T2G', 'T2G', 'T2G', 'T2G', 'T2G', 'T2G', 'T2G', 'T2G', 'T2G', 'T2G', 'T2G', 'T2G', 'T2G', 'T2G', 'T2G', 'T2G', 'T2G', 'T2G', 'T2G', 'T2G', 'T2G', 'T2G', 'T2G', 'T2G', 'T2G', 'T2G', 'T2G', 'T2G', 'T2G', 'T2G', 'T2G', 'T2G', 'T2G', 'T2G', 'T2G', 'T2G', 'T2G', 'T2G', 'T2G', 'T2G', 'T2G', 'T2G', 'T2G', 'T2G', 'T2G', 'T2G', 'T2G', 'T2G', 'T2G', 'T2G', 'T2G', 'T2G', 'T2G', 'T2G', 'T2G', 'T2G', 'T2G', 'T2G', 'T2G', 'T2G', 'T2G', 'T2G', 'T2G', 'T2G', 'T2G', 'T2G', 'T2G', 'T2G', 'T2G', 'T2G', 'T2G', 'T2G', 'T2G', 'T2G', 'T2G', 'T2G', 'T2G', 'T2G', 'T2G', 'T2G', 'T2G', 'T2G', 'T2G', 'T2G', 'T2G', 'T2G', 'T2G', 'T2G', 'T2G', 'T2G', 'T2G', 'T2G', 'T2G', 'T2G', 'T2G', 'T2G', 'T2G', 'T2D', 'T2G', 'T2G', 'T2G', 'T2G', 'T2G', 'T2G', 'T2G', 'T2G', 'T2G', 'T2G', 'T2G', 'T2G', 'T2G', 'T2G', 'T2G', 'T2G', 'T2G', 'T2G', 'T2G', 'T2G', 'T2G', 'T2G', 'T2G', 'T2G', 'T2G', 'T2G', 'T2G', 'T2G', 'T2G', 'T2G', 'T2G', 'T2G', 'T2G', 'T2G', 'T2G', 'T2G', 'T2G', 'T2G', 'T2G', 'T2G', 'T2G', 'T2G', 'T2G', 'T2G', 'T2G', 'T2G', 'T2G', 'T2G', 'T2G', 'T2G', 'T2G', 'T2G', 'T2G', 'T2G', 'T2G', 'T2G', 'T2G', 'T2G', 'T2G', 'T2G', 'T2G', 'T2G', 'T2G', 'T2G', 'T2G', 'T2G', 'T2G', 'T2G', 'T2G', 'T2G', 'T2D', 'T2G', 'T2G', 'T2G', 'T2G', 'T2G', 'T2G', 'T2G', 'T2G', 'T2G', 'T2G', 'T2G', 'T2G', 'T2G', 'T2G', 'T2G', 'T2G', 'T2G', 'T2G', 'T2G', 'T2G', 'T2G', 'T2G', 'T2G', 'T2G', 'T2G', 'T2G', 'T2G', 'T2G', 'T2G', 'T2G', 'T2G', 'T2G', 'T2G', 'T2G', 'T2G', 'T2G', 'T2G', 'T2G', 'T2G', 'T2G', 'T2G', 'T2G', 'T2G', 'T2G', 'T2G', 'T2G', 'T2G', 'T2G', 'T2G', 'T2G', 'T2G', 'T2G', 'T2G', 'T2G', 'T2G', 'T2G', 'T2G', 'T2G', 'T2G', 'T2G', 'T2G', 'T2G', 'T2G', 'T2G', 'T2G', 'T2G', 'T2G', 'T2G', 'T2G', 'T2G', 'T2G', 'T2G', 'T2G', 'T2G', 'T2G', 'T2G', 'T2G', 'T2G', 'T2G', 'T2G', 'T2G', 'T2G', 'T2G', 'T2G', 'T2G', 'T2G', 'T2G', 'T2G', 'T2G', 'T2G', 'T2G', 'T2G', 'T2G', 'T2G', 'T2G', 'T2G', 'T2G', 'T2G', 'T2G', 'T2G', 'T2G', 'T2D', 'T2G', 'T2G', 'T2G', 'T2G', 'T2D', 'T2G', 'T2G', 'T2G', 'T2G', 'T2G', 'T2G', 'T2G', 'T2G', 'T2G', 'T2G', 'T2G', 'T2G', 'T2G', 'T2G', 'T2G', 'T2G', 'T2G', 'T2G', 'T2G', 'T2G', 'T2G', 'T2G', 'T2G', 'T2G', 'T2G', 'T2G', 'T2G', 'T2G', 'T2G', 'T2G', 'T2G', 'T2G', 'T2G', 'T2G', 'T2G', 'T2G', 'T2G', 'T2G', 'T2G', 'T2G', 'T2G', 'T2G', 'T2G', 'T2G', 'T2G', 'T2G', 'T2G', 'T2G', 'T2G', 'T2G', 'T2G', 'T2G', 'T2G', 'T2G', 'T2G', 'T2D', 'T2G', 'T2G', 'T2G', 'T2G', 'T2G', 'T2G', 'T2D', 'T2G', 'T2G', 'T2G', 'T2G', 'T2G', 'T2D', 'T2G', 'T2G', 'T2G', 'T2G', 'T2G', 'T2G', 'T2G', 'T2G', 'T2G', 'T2G', 'T2G', 'T2G', 'T2G', 'T2D', 'T2G', 'T2G', 'T2G', 'T2G', 'T2G', 'T2G', 'T2G', 'T2G', 'T2G', 'T2G', 'T2G', 'T2G', 'T2G', 'T2G', 'T2G', 'T2G', 'T2G', 'T2G', 'T2G', 'T2G', 'T2G', 'T2G', 'T2G', 'T2G', 'T2G', 'T2G', 'T2G', 'T2G', 'T2G', 'T2G', 'T2G', 'T2G', 'T2G', 'T2G', 'T2G', 'T2G', 'T2G', 'T2G', 'T2G', 'T2G', 'T2G', 'T2G', 'T2G', 'T2G', 'T2G', 'T2G', 'T2G', 'T2G', 'T2G', 'T2G', 'T2G', 'T2G', 'T2D', 'T2G', 'T2G', 'T2G', 'T2D', 'T2G', 'T2G', 'T2G', 'T2G', 'T2G', 'T2G', 'T2G', 'T2D', 'T2G', 'T2G', 'T2G', 'T2G', 'T2G', 'T2G', 'T2G', 'T2G', 'T2G', 'T2G', 'T2G', 'T2G', 'T2G', 'T2G', 'T2G', 'T2G', 'T2G', 'T2G', 'T2G', 'T2G', 'T2G', 'T2G', 'T2G', 'T2G', 'T2G', 'T2G', 'T2G', 'T2G', 'T2G', 'T2G', 'T2G', 'T2G', 'T2G', 'T2G', 'T2G', 'T2G', 'T2G', 'T2G', 'T2G', 'T2G', 'T2G', 'T2G', 'T2G', 'T2G', 'T2G', 'T2G', 'T2G', 'T2G', 'T2G', 'T2G', 'T2G', 'T2G', 'T2G', 'T2G', 'T2G', 'T2G', 'T2D', 'T2G', 'T2G', 'T2G', 'T2G', 'T2G', 'T2G', 'T2G', 'T2G', 'T2G', 'T2G', 'T2G', 'T2G', 'T2G', 'T2G', 'T2G', 'T2G', 'T2G', 'T2G', 'T2G', 'T2G', 'T2G', 'T2G', 'T2G', 'T2G', 'T2G', 'T2G', 'T2G', 'T2G', 'T2G', 'T2G', 'T2G', 'T2G', 'T2G', 'T2G', 'T2G', 'T2G', 'T2G', 'T2G', 'T2G', 'T2G', 'T2G', 'T2G', 'T2G', 'T2G', 'T2G', 'T2G', 'T2G', 'T2D', 'T2D', 'T2G', 'T2G', 'T2G', 'T2G', 'T2G', 'T2G', 'T2G', 'T2G', 'T2D', 'T2G', 'T2D', 'T2G', 'T2G', 'T2G', 'T2G', 'T2G', 'T2G', 'T2G', 'T2G', 'T2G', 'T2G', 'T2G', 'T2G', 'T2G', 'T2G', 'T2G', 'T2G', 'T2G', 'T2G', 'T2G', 'T2G', 'T2G', 'T2G', 'T2G', 'T2G', 'T2G', 'T2G', 'T2G', 'T2G', 'T2G', 'T2G', 'T2G', 'T2G', 'T2G', 'T2G', 'T2G', 'T2G', 'T2G', 'T2G', 'T2G', 'T2G', 'T2G', 'T2G', 'T2G', 'T2G', 'T2G', 'T2G', 'T2G', 'T2G', 'T2G', 'T2G', 'T2G', 'T2G', 'T2G', 'T2G', 'T2G', 'T2G', 'T2G', 'T2G', 'T2G', 'T2G', 'T2G', 'T2G', 'T2G', 'T2G', 'T2G', 'T2G', 'T2G', 'T2G', 'T2G', 'T2G', 'T2G', 'T2D', 'T2G', 'T2D', 'T2G', 'T2G', 'T2G', 'T2G', 'T2G', 'T2G', 'T2G', 'T2G', 'T2G', 'T2G', 'T2G', 'T2G', 'T2G', 'T2G', 'T2G', 'T2G', 'T2G', 'T2G', 'T2G', 'T2G', 'T2G', 'T2G', 'T2G', 'T2G', 'T2G', 'T2G', 'T2G', 'T2G', 'T2G', 'T2G', 'T2G', 'T2G', 'T2G', 'T2G', 'T2G', 'T2G', 'T2G', 'T2G', 'T2G', 'T2G', 'T2G', 'T2G', 'T2G', 'T2G', 'T2G', 'T2G', 'T2G', 'T2G', 'T2G', 'T2G', 'T2G', 'T2G', 'T2G', 'T2G', 'T2G', 'T2G', 'T2G', 'T2G', 'T2G', 'T2G', 'T2G', 'T2G', 'T2G', 'T2G', 'T2G', 'T2G', 'T2G', 'T2G', 'T2G', 'T2G', 'T2G', 'T2G', 'T2G', 'T2G', 'T2G', 'T2G', 'T2G', 'T2G', 'T2G', 'T2G', 'T2G', 'T2G', 'T2G', 'T2G', 'T2G', 'T2G', 'T2G', 'T2G', 'T2G', 'T2G', 'T2G', 'T2G', 'T2G', 'T2G', 'T2G', 'T2G', 'T2G', 'T2G', 'T2G', 'T2G', 'T2G', 'T2G', 'T2G', 'T2G', 'T2G', 'T2G', 'T2G', 'T2G', 'T2G', 'T2G', 'T2G', 'T2G', 'T2G', 'T2G', 'T2G', 'T2G', 'T2G', 'T2G', 'T2G', 'T2G', 'T2G', 'T2G', 'T2G', 'T2G', 'T2G', 'T2G', 'T2G', 'T2G', 'T2G', 'T2G', 'T2G', 'T2G', 'T2G', 'T2G', 'T2G', 'T2G', 'T2G', 'T2G', 'T2G', 'T2G', 'T2G', 'T2G', 'T2G', 'T2G', 'T2G', 'T2G', 'T2G', 'T2G', 'T2G', 'T2G', 'T2G', 'T2G', 'T2G', 'T2G', 'T2G', 'T2G', 'T2G', 'T2G', 'T2G', 'T2G', 'T2G', 'T2G', 'T2G', 'T2G', 'T2G', 'T2G', 'T2G', 'T2G', 'T2G', 'T2G', 'T2G', 'T2G', 'T2G', 'T2G', 'T2G', 'T2G', 'T2G', 'T2G', 'T2G', 'T2G', 'T2G', 'T2G', 'T2G', 'T2G', 'T2G', 'T2G', 'T2G', 'T2G', 'T2G', 'T2G', 'T2G', 'T2G', 'T2G', 'T2G', 'T2G', 'T2D', 'T2G', 'T2G', 'T2G', 'T2G', 'T2G', 'T2G', 'T2G', 'T2G', 'T2G', 'T2G', 'T2G', 'T2G', 'T2G', 'T2G', 'T2G', 'T2G', 'T2G', 'T2G', 'T2G', 'T2G', 'T2G', 'T2G', 'T2G', 'T2G', 'T2G', 'T2G', 'T2G', 'T2G', 'T2G', 'T2G', 'T2G', 'T2G', 'T2G', 'T2G', 'T2G', 'T2G', 'T2G', 'T2G', 'T2G', 'T2G', 'T2G', 'T2G', 'T2G', 'T2G', 'T2G', 'T2G', 'T2G', 'T2G', 'T2G', 'T2G', 'T2G', 'T2G', 'T2G', 'T2G', 'T2G', 'T2G', 'T2G', 'T2G', 'T2G', 'T2G', 'T2G', 'T2G', 'T2G', 'T2G', 'T2G', 'T2G', 'T2G', 'T2G', 'T2G', 'T2G', 'T2G', 'T2G', 'T2G', 'T2G', 'T2G', 'T2G', 'T2G', 'T2G', 'T2G', 'T2G', 'T2G', 'T2G', 'T2G', 'T2G', 'T2G', 'T2G', 'T2G', 'T2G', 'T2G', 'T2G', 'T2G', 'T2G', 'T2G', 'T2G', 'T2G', 'T2G', 'T2G', 'T2G', 'T2G', 'T2G', 'T2G', 'T2G', 'T2G', 'T2G', 'T2G', 'T2G', 'T2G', 'T2G', 'T2G', 'T2G', 'T2G', 'T2G', 'T2G', 'T2G', 'T2G', 'T2G', 'T2G', 'T2G', 'T2G', 'T2G', 'T2G', 'T2G', 'T2G', 'T2G', 'T2G', 'T2G', 'T2G', 'T2G', 'T2G', 'T2G', 'T2G', 'T2G', 'T2G', 'T2G', 'T2G', 'T2G', 'T2G', 'T2G', 'T2G', 'T2G', 'T2G', 'T2G', 'T2G', 'T2G', 'T2G', 'T2G', 'T2G', 'T2G', 'T2G', 'T2G', 'T2G', 'T2G', 'T2G', 'T2G', 'T2G', 'T2G', 'T2G', 'T2G', 'T2G', 'T2G', 'T2G', 'T2G', 'T2G', 'T2G', 'T2G', 'T2G', 'T2G', 'T2G', 'T2G', 'T2G', 'T2G', 'T2G', 'T2G', 'T2G', 'T2G', 'T2G', 'T2G', 'T2G', 'T2G', 'T2G', 'T2G', 'T2G', 'T2G', 'T2G', 'T2G', 'T2G', 'T2G', 'T2G', 'T2G', 'T2G', 'T2G', 'T2G', 'T2G', 'T2G', 'T2G', 'T2G', 'T2G', 'T2G', 'T2G', 'T2G', 'T2G', 'T2G', 'T2G', 'T2G', 'T2G', 'T2G', 'T2G', 'T2G', 'T2G', 'T2G', 'T2G', 'T2G', 'T2G', 'T2G', 'T2G', 'T2G', 'T2G', 'T2G', 'T2G', 'T2G', 'T2G', 'T2G', 'T2G', 'T2G', 'T2G', 'T2G', 'T2G', 'T2G', 'T2G', 'T2D', 'T2G', 'T2G', 'T2G', 'T2G', 'T2G', 'T2G', 'T2G', 'T2G', 'T2G', 'T2G', 'T2G', 'T2G', 'T2G', 'T2G', 'T2G', 'T2G', 'T2G', 'T2G', 'T2G', 'T2G', 'T2G', 'T2G', 'T2G', 'T2G', 'T2G', 'T2G', 'T2G', 'T2G', 'T2G', 'T2G', 'T2G', 'T2G', 'T2G', 'T2G', 'T2G', 'T2G', 'T2G', 'T2G', 'T2G', 'T2G', 'T2G', 'T2G', 'T2G', 'T2G', 'T2G', 'T2G', 'T2G', 'T2G', 'T2G', 'T2G', 'T2G', 'T2G', 'T2G', 'T2G', 'T2G', 'T2G', 'T2G', 'T2G', 'T2G', 'T2G', 'T2G', 'T2G', 'T2G', 'T2G', 'T2G', 'T2G', 'T2G', 'T2G', 'T2G', 'T2G', 'T2G', 'T2G', 'T2G', 'T2G', 'T2G', 'T2G', 'T2G', 'T2G', 'T2G', 'T2G', 'T2G', 'T2G', 'T2G', 'T2G', 'T2G', 'T2G', 'T2D', 'T2G', 'T2G', 'T2G', 'T2G', 'T2G', 'T2G', 'T2G', 'T2G', 'T2G', 'T2G', 'T2G', 'T2G', 'T2G', 'T2G', 'T2G', 'T2G', 'T2G', 'T2G', 'T2G', 'T2G', 'T2G', 'T2G', 'T2G', 'T2G', 'T2G', 'T2G', 'T2G', 'T2G', 'T2G', 'T2G', 'T2G', 'T2G', 'T2G', 'T2G', 'T2G', 'T2G', 'T2G', 'T2G', 'T2G', 'T2G', 'T2G', 'T2G', 'T2G', 'T2G', 'T2G', 'T2G', 'T2G', 'T2G', 'T2G', 'T2G', 'T2G', 'T2G', 'T2G', 'T2G', 'T2G', 'T2G', 'T2G', 'T2G', 'T2G', 'T2G', 'T2G', 'T2G', 'T2G', 'T2G', 'T2G', 'T2G', 'T2G', 'T2G', 'T2G', 'T2G', 'T2G', 'T2G', 'T2G', 'T2G', 'T2G', 'T2G', 'T2G', 'T2G', 'T2G', 'T2G', 'T2G', 'T2G', 'T2G', 'T2G', 'T2G', 'T2G', 'T2G', 'T2G', 'T2G', 'T2G', 'T2G', 'T2G', 'T2D', 'T2G', 'T2G', 'T2G', 'T2G', 'T2G', 'T2G', 'T2G', 'T2G', 'T2G', 'T2G', 'T2G', 'T2G', 'T2G', 'T2G', 'T2G', 'T2G', 'T2G', 'T2G', 'T2G', 'T2G', 'T2G', 'T2G', 'T2G', 'T2G', 'T2G', 'T2G', 'T2G', 'T2G', 'T2G', 'T2G', 'T2G', 'T2G', 'T2G', 'T2G', 'T2G', 'T2G', 'T2G', 'T2G', 'T2G', 'T2G', 'T2G', 'T2G', 'T2G', 'T2G', 'T2G', 'T2G', 'T2G', 'T2G', 'T2G', 'T2G', 'T2G', 'T2G', 'T2G', 'T2G', 'T2G', 'T2G', 'T2G', 'T2G', 'T2G', 'T2G', 'T2G', 'T2G', 'T2G', 'T2G', 'T2G', 'T2G', 'T2G', 'T2G', 'T2G', 'T2G', 'T2G', 'T2G', 'T2G', 'T2G', 'T2D', 'T2G', 'T2G', 'T2G', 'T2G', 'T2G', 'T2G', 'T2G', 'T2D', 'T2G', 'T2G', 'T2G', 'T2G', 'T2G', 'T2G', 'T2G', 'T2G', 'T2G', 'T2G', 'T2G', 'T2G', 'T2G', 'T2G', 'T2G', 'T2G', 'T2G', 'T2G', 'T2G', 'T2G', 'T2G', 'T2G', 'T2G', 'T2G', 'T2G', 'T2G', 'T2G', 'T2G', 'T2G', 'T2G', 'T2G', 'T2G', 'T2G', 'T2G', 'T2G', 'T2G', 'T2G', 'T2G', 'T2G', 'T2G', 'T2G', 'T2G', 'T2G', 'T2G', 'T2G', 'T2G', 'T2G', 'T2G', 'T2G', 'T2G', 'T2G', 'T2G', 'T2G', 'T2G', 'T2G', 'T2G', 'T2G', 'T2G', 'T2G', 'T2G', 'T2G', 'T2G', 'T2G', 'T2G', 'T2G', 'T2G', 'T2G', 'T2G', 'T2G', 'T2G', 'T2G', 'T2G', 'T2G', 'T2G', 'T2G', 'T2G', 'T2G', 'T2G', 'T2G', 'T2G', 'T2G', 'T2G', 'T2G', 'T2G', 'T2G', 'T2G', 'T2G', 'T2G', 'T2G', 'T2G', 'T2G', 'T2G', 'T2G', 'T2G', 'T2G', 'T2G', 'T2G', 'T2G', 'T2G', 'T2G', 'T2G', 'T2G', 'T2G', 'T2G', 'T2G', 'T2G', 'T2G', 'T2G', 'T2G', 'T2G', 'T2G', 'T2G', 'T2G', 'T2G', 'T2G', 'T2G', 'T2G', 'T2G', 'T2G', 'T2G', 'T2G', 'T2G', 'T2G', 'T2G', 'T2G', 'T2G', 'T2G', 'T2G', 'T2G', 'T2G', 'T2G', 'T2G', 'T2G', 'T2G', 'T2G', 'T2G', 'T2G', 'T2G', 'T2G', 'T2G', 'T2D', 'T2G', 'T2G', 'T2G', 'T2G', 'T2G', 'T2G', 'T2G', 'T2G', 'T2G', 'T2G', 'T2G', 'T2G', 'T2G', 'T2G', 'T2G', 'T2G', 'T2G', 'T2G', 'T2G', 'T2G', 'T2G', 'T2G', 'T2G', 'T2G', 'T2G', 'T2G', 'T2G', 'T2G', 'T2G', 'T2G', 'T2G', 'T2G', 'T2G', 'T2G', 'T2G', 'T2G', 'T2G', 'T2G', 'T2G', 'T2G', 'T2G', 'T2G', 'T2G', 'T2G', 'T2G', 'T2G', 'T2G', 'T2G', 'T2G', 'T2G', 'T2D', 'T2G', 'T2G', 'T2G', 'T2G', 'T2G', 'T2G', 'T2G', 'T2G', 'T2G', 'T2G', 'T2G', 'T2G', 'T2G', 'T2G', 'T2G', 'T2G', 'T2G', 'T2G', 'T2G', 'T2G', 'T2G', 'T2G', 'T2G', 'T2G', 'T2G', 'T2G', 'T2G', 'T2G', 'T2G', 'T2G', 'T2G', 'T2G', 'T2G', 'T2G', 'T2G', 'T2G', 'T2G', 'T2G', 'T2G', 'T2G', 'T2G', 'T2G', 'T2G', 'T2G', 'T2G', 'T2G', 'T2G', 'T2G', 'T2G', 'T2G', 'T2G', 'T2G', 'T2G', 'T2G', 'T2G', 'T2G', 'T2G', 'T2G', 'T2G', 'T2D', 'T2G', 'T2G', 'T2G', 'T2G', 'T2G', 'T2G', 'T2G', 'T2G', 'T2G', 'T2G', 'T2G', 'T2G', 'T2G', 'T2G', 'T2G', 'T2G', 'T2D', 'T2G', 'T2G', 'T2G', 'T2G', 'T2G', 'T2G', 'T2G', 'T2G', 'T2G', 'T2G', 'T2G', 'T2G', 'T2G', 'T2G', 'T2G', 'T2G', 'T2G', 'T2G', 'T2G', 'T2G', 'T2G', 'T2G', 'T2G', 'T2G', 'T2G', 'T2G', 'T2G', 'T2G', 'T2G', 'T2G', 'T2G', 'T2G', 'T2G', 'T2G', 'T2G', 'T2G', 'T2G', 'T2G', 'T2G', 'T2G', 'T2G', 'T2G', 'T2G', 'T2G', 'T2G', 'T2G', 'T2G', 'T2G', 'T2G', 'T2G', 'T2G', 'T2G', 'T2G', 'T2G', 'T2G', 'T2G', 'T2G', 'T2G', 'T2G', 'T2G', 'T2G', 'T2G', 'T2G', 'T2G', 'T2G', 'T2G', 'T2G', 'T2G', 'T2G', 'T2G', 'T2G', 'T2G', 'T2G', 'T2G', 'T2G', 'T2G', 'T2G', 'T2G', 'T2G', 'T2G', 'T2G', 'T2G', 'T2G', 'T2G', 'T2G', 'T2G', 'T2G', 'T2G', 'T2G', 'T2G', 'T2G', 'T2G', 'T2G', 'T2G', 'T2G', 'T2G', 'T2G', 'T2G', 'T2G', 'T2G', 'T2G', 'T2G', 'T2G', 'T2G', 'T2G', 'T2G', 'T2G', 'T2G', 'T2G', 'T2G', 'T2G', 'T2G', 'T2G', 'T2G', 'T2G', 'T2G', 'T2G', 'T2G', 'T2G', 'T2G', 'T2G', 'T2G', 'T2G', 'T2G', 'T2G', 'T2G', 'T2G', 'T2G', 'T2G', 'T2G', 'T2G', 'T2G', 'T2G', 'T2G', 'T2G', 'T2G', 'T2G', 'T2G', 'T2G', 'T2G', 'T2G', 'T2G', 'T2G', 'T2G', 'T2G', 'T2G', 'T2G', 'T2G', 'T2G', 'T2G', 'T2G', 'T2G', 'T2G', 'T2G', 'T2G', 'T2G', 'T2G', 'T2G', 'T2G', 'T2G', 'T2G', 'T2G', 'T2G', 'T2G', 'T2G', 'T2G', 'T2G', 'T2G', 'T2G', 'T2G', 'T2G', 'T2G', 'T2G', 'T2G', 'T2G', 'T2G', 'T2G', 'T2G', 'T2G', 'T2G', 'T2G', 'T2G', 'T2G', 'T2G', 'T2G', 'T2G', 'T2G', 'T2G', 'T2G', 'T2G', 'T2G', 'T2G', 'T2G', 'T2G', 'T2G', 'T2G', 'T2G', 'T2G', 'T2G', 'T2G', 'T2G', 'T2G', 'T2G', 'T2G', 'T2G', 'T2G', 'T2G', 'T2G', 'T2G', 'T2G', 'T2G', 'T2G', 'T2G', 'T2G', 'T2G', 'T2G', 'T2G', 'T2G', 'T2G', 'T2G', 'T2G', 'T2G', 'T2G', 'T2G', 'T2G', 'T2G', 'T2G', 'T2G', 'T2G', 'T2G', 'T2G', 'T2G', 'T2G', 'T2G', 'T2G', 'T2G', 'T2G', 'T2G', 'T2G', 'T2G', 'T2G', 'T2G', 'T2G', 'T2G', 'T2G', 'T2G', 'T2G', 'T2G', 'T2G', 'T2G', 'T2G', 'T2G', 'T2G', 'T2G', 'T2G', 'T2G', 'T2G', 'T2G', 'T2G', 'T2G', 'T2G', 'T2G', 'T2G', 'T2G', 'T2G', 'T2G', 'T2G', 'T2G', 'T2G', 'T2G', 'T2G', 'T2G', 'T2G', 'T2G', 'T2G', 'T2G', 'T2G', 'T2G', 'T2G', 'T2G', 'T2G', 'T2G', 'T2G', 'T2G', 'T2G', 'T2G', 'T2G', 'T2G', 'T2G', 'T2G', 'T2G', 'T2G', 'T2G', 'T2G', 'T2G', 'T2G', 'T2G', 'T2G', 'T2G', 'T2G', 'T2G', 'T2G', 'T2G', 'T2G', 'T2G', 'T2G', 'T2G', 'T2G', 'T2G', 'T2G', 'T2G', 'T2G', 'T2G', 'T2G', 'T2G', 'T2G', 'T2G', 'T2G', 'T2G', 'T2G', 'T2G', 'T2G', 'T2G', 'T2G', 'T2G', 'T2G', 'T2G', 'T2G', 'T2G', 'T2G', 'T2G', 'T2G', 'T2G', 'T2G', 'T2G', 'T2G', 'T2G', 'T2G', 'T2G', 'T2G', 'T2G', 'T2G', 'T2G', 'T2G', 'T2G', 'T2G', 'T2G', 'T2G', 'T2G', 'T2G', 'T2G', 'T2G', 'T2G', 'T2G', 'T2G', 'T2G', 'T2G', 'T2G', 'T2G', 'T2G', 'T2G', 'T2G', 'T2G', 'T2G', 'T2G', 'T2G', 'T2G', 'T2G', 'T2G', 'T2G', 'T2G', 'T2G', 'T2G', 'T2G', 'T2G', 'T2G', 'T2G', 'T2G', 'T2G', 'T2G', 'T2G', 'T2G', 'T2G', 'T2G', 'T2G', 'T2G', 'T2G', 'T2G', 'T2G', 'T2G', 'T2G', 'T2G', 'T2G', 'T2G', 'T2G', 'T2G', 'T2G', 'T2G', 'T2G', 'T2G', 'T2G', 'T2G', 'T2G', 'T2G', 'T2G', 'T2G', 'T2G', 'T2G', 'T2G', 'T2G', 'T2G', 'T2G', 'T2G', 'T2G', 'T2G', 'T2G', 'T2G', 'T2G', 'T2G', 'T2G', 'T2G', 'T2G', 'T2G', 'T2G', 'T2G', 'T2G', 'T2G', 'T2G', 'T2G', 'T2G', 'T2G', 'T2G', 'T2G', 'T2D', 'T2G', 'T2G', 'T2G', 'T2G', 'T2G', 'T2G', 'T2G', 'T2G', 'T2G', 'T2G', 'T2G', 'T2G', 'T2G', 'T2G', 'T2G', 'T2G', 'T2G', 'T2G', 'T2G', 'T2G', 'T2G', 'T2G', 'T2G', 'T2G', 'T2G', 'T2G', 'T2G', 'T2G', 'T2G', 'T2G', 'T2G', 'T2G', 'T2G', 'T2G', 'T2G', 'T2G', 'T2G', 'T2G', 'T2G', 'T2G', 'T2G', 'T2G', 'T2G', 'T2G', 'T2G', 'T2G', 'T2G', 'T2G', 'T2G', 'T2G', 'T2G', 'T2G', 'T2G', 'T2G', 'T2G', 'T2G', 'T2G', 'T2G', 'T2G', 'T2G', 'T2G', 'T2G', 'T2G', 'T2G', 'T2G', 'T2G', 'T2G', 'T2G', 'T2G', 'T2G', 'T2G', 'T2G', 'T2G', 'T2G', 'T2G', 'T2G', 'T2G', 'T2G', 'T2G', 'T2G', 'T2G', 'T2G', 'T2G', 'T2G', 'T2G', 'T2G', 'T2G', 'T2G', 'T2G', 'T2G', 'T2G', 'T2G', 'T2G', 'T2G', 'T2G', 'T2G', 'T2G', 'T2G', 'T2G', 'T2G', 'T2G', 'T2G', 'T2G', 'T2G', 'T2G', 'T2G', 'T2G', 'T2G', 'T2G', 'T2G', 'T2G', 'T2G', 'T2G', 'T2G', 'T2G', 'T2G', 'T2G', 'T2G', 'T2G', 'T2G', 'T2G', 'T2G', 'T2G', 'T2G', 'T2G', 'T2G', 'T2G', 'T2G', 'T2G', 'T2G', 'T2G', 'T2G', 'T2G', 'T2G', 'T2G', 'T2G', 'T2G', 'T2G', 'T2G', 'T2G', 'T2G', 'T2G', 'T2G', 'T2G', 'T2G', 'T2G', 'T2G', 'T2G', 'T2G', 'T2G', 'T2G', 'T2G', 'T2G', 'T2G', 'T2G', 'T2G', 'T2G', 'T2G', 'T2G', 'T2G', 'T2G', 'T2G', 'T2G', 'T2G', 'T2G', 'T2G', 'T2G', 'T2G', 'T2G', 'T2G', 'T2G', 'T2D', 'T2G', 'T2G', 'T2G', 'T2G', 'T2G', 'T2G', 'T2G', 'T2G', 'T2G', 'T2G', 'T2G', 'T2G', 'T2G', 'T2G', 'T2G', 'T2G', 'T2G', 'T2G', 'T2G', 'T2G', 'T2G', 'T2G', 'T2G', 'T2G', 'T2G', 'T2D', 'T2G', 'T2G', 'T2G', 'T2G', 'T2D', 'T2G', 'T2G', 'T2G', 'T2G', 'T2G', 'T2G', 'T2G', 'T2G', 'T2G', 'T2G', 'T2G', 'T2G', 'T2G', 'T2G', 'T2G', 'T2G', 'T2G', 'T2G', 'T2G', 'T2G', 'T2G', 'T2G', 'T2G', 'T2G', 'T2G', 'T2G', 'T2G', 'T2G', 'T2G', 'T2G', 'T2G', 'T2G', 'T2G', 'T2D', 'T2G', 'T2G', 'T2G', 'T2G', 'T2G', 'T2G', 'T2G', 'T2G', 'T2G', 'T2G', 'T2G', 'T2G', 'T2G', 'T2G', 'T2D', 'T2G', 'T2G', 'T2G', 'T2G', 'T2G', 'T2G', 'T2G', 'T2G', 'T2G', 'T2G', 'T2G', 'T2G', 'T2G', 'T2G', 'T2G', 'T2G', 'T2G', 'T2G', 'T2G', 'T2G', 'T2G', 'T2G', 'T2G', 'T2G', 'T2D', 'T2G', 'T2G', 'T2G', 'T2G', 'T2D', 'T2G', 'T2G', 'T2G', 'T2G', 'T2G', 'T2G', 'T2G', 'T2G', 'T2G', 'T2G', 'T2G', 'T2G', 'T2G', 'T2G', 'T2G', 'T2G', 'T2G', 'T2G', 'T2G', 'T2G', 'T2G', 'T2G', 'T2G', 'T2G', 'T2G', 'T2G', 'T2G', 'T2G', 'T2G', 'T2G', 'T2G', 'T2G', 'T2G', 'T2G', 'T2G', 'T2G', 'T2G', 'T2G', 'T2G', 'T2G', 'T2G', 'T2G', 'T2G', 'T2G', 'T2G', 'T2G', 'T2G', 'T2G', 'T2G', 'T2G', 'T2G', 'T2G', 'T2G', 'T2G', 'T2G', 'T2G', 'T2G', 'T2D', 'T2G', 'T2G', 'T2G', 'T2G', 'T2G', 'T2G', 'T2G', 'T2G', 'T2G', 'T2G', 'T2G', 'T2G', 'T2G', 'T2G', 'T2G', 'T2G', 'T2G', 'T2G', 'T2G', 'T2G', 'T2G', 'T2G', 'T2G', 'T2G', 'T2G', 'T2G', 'T2G', 'T2G', 'T2G', 'T2G', 'T2G', 'T2G', 'T2G', 'T2G', 'T2G', 'T2G', 'T2G', 'T2G', 'T2G', 'T2G', 'T2G', 'T2G', 'T2G', 'T2G', 'T2G', 'T2G', 'T2G', 'T2G', 'T2G', 'T2G', 'T2G', 'T2G', 'T2G', 'T2G', 'T2G', 'T2G', 'T2G', 'T2G', 'T2G', 'T2G', 'T2G', 'T2G', 'T2D', 'T2G', 'T2G', 'T2G', 'T2G', 'T2G', 'T2G', 'T2G', 'T2G', 'T2G', 'T2G', 'T2G', 'T2G', 'T2G', 'T2G', 'T2G', 'T2G', 'T2G', 'T2G', 'T2G', 'T2G', 'T2G', 'T2G', 'T2G', 'T2G', 'T2G', 'T2G', 'T2G', 'T2G', 'T2G', 'T2G', 'T2G', 'T2G', 'T2G', 'T2G', 'T2G', 'T2G', 'T2G', 'T2G', 'T2D', 'T2G', 'T2G', 'T2G', 'T2G', 'T2G', 'T2G', 'T2G', 'T2G', 'T2G', 'T2G', 'T2G', 'T2G', 'T2G', 'T2G', 'T2D', 'T2G', 'T2G', 'T2G', 'T2G', 'T2G', 'T2G', 'T2G', 'T2G', 'T2G', 'T2G', 'T2G', 'T2G', 'T2G', 'T2G', 'T2G', 'T2G', 'T2G', 'T2G', 'T2G', 'T2G', 'T2G', 'T2G', 'T2G', 'T2G', 'T2G', 'T2G', 'T2G', 'T2G', 'T2G', 'T2G', 'T2G', 'T2G', 'T2G', 'T2G', 'T2D', 'T2G', 'T2G', 'T2G', 'T2G', 'T2G', 'T2G', 'T2G', 'T2G', 'T2G', 'T2D', 'T2G', 'T2G', 'T2G', 'T2G', 'T2G', 'T2G', 'T2G', 'T2G', 'T2G', 'T2G', 'T2G', 'T2G', 'T2G', 'T2G', 'T2G', 'T2G', 'T2G', 'T2G', 'T2G', 'T2G', 'T2G', 'T2G', 'T2G', 'T2G', 'T2G', 'T2G', 'T2G', 'T2G', 'T2G', 'T2G', 'T2G', 'T2G', 'T2G', 'T2G', 'T2G', 'T2G', 'T2G', 'T2G', 'T2G', 'T2G', 'T2G', 'T2G', 'T2G', 'T2G', 'T2G', 'T2G', 'T2G', 'T2G', 'T2G', 'T2G', 'T2G', 'T2G', 'T2G', 'T2G', 'T2G', 'T2G', 'T2G', 'T2G', 'T2G', 'T2G', 'T2G', 'T2G', 'T2G', 'T2G', 'T2G', 'T2G', 'T2G', 'T2G', 'T2G', 'T2G', 'T2G', 'T2G', 'T2G', 'T2G', 'T2G', 'T2G', 'T2D', 'T2G', 'T2G', 'T2G', 'T2G', 'T2G', 'T2D', 'T2G', 'T2G', 'T2G', 'T2G', 'T2G', 'T2G', 'T2G', 'T2G', 'T2G', 'T2G', 'T2G', 'T2G', 'T2G', 'T2G', 'T2G', 'T2G', 'T2G', 'T2G', 'T2G', 'T2G', 'T2G', 'T2G', 'T2G', 'T2G', 'T2G', 'T2G', 'T2G', 'T2G', 'T2G', 'T2G', 'T2G', 'T2G', 'T2G', 'T2G', 'T2G', 'T2G', 'T2G', 'T2G', 'T2G', 'T2G', 'T2G', 'T2G', 'T2G', 'T2G', 'T2G', 'T2G', 'T2G', 'T2G', 'T2G', 'T2G', 'T2G', 'T2G', 'T2G', 'T2G', 'T2G', 'T2G', 'T2G', 'T2G', 'T2G', 'T2G', 'T2G', 'T2G', 'T2G', 'T2G', 'T2D', 'T2G', 'T2G', 'T2G', 'T2G', 'T2G', 'T2G', 'T2G', 'T2G', 'T2G', 'T2G', 'T2G', 'T2G', 'T2G', 'T2G', 'T2G', 'T2G', 'T2G', 'T2G', 'T2G', 'T2G', 'T2G', 'T2G', 'T2G', 'T2G', 'T2G', 'T2G', 'T2G', 'T2G', 'T2D', 'T2G', 'T2G', 'T2G', 'T2G', 'T2G', 'T2G', 'T2G', 'T2G', 'T2G', 'T2G', 'T2G', 'T2G', 'T2G', 'T2G', 'T2D', 'T2G', 'T2G', 'T2G', 'T2G', 'T2G', 'T2G', 'T2G', 'T2G', 'T2G', 'T2G', 'T2G', 'T2G', 'T2G', 'T2G', 'T2G', 'T2G', 'T2G', 'T2G', 'T2G', 'T2G', 'T2G', 'T2G', 'T2G', 'T2G', 'T2G', 'T2G', 'T2G', 'T2G', 'T2G', 'T2G', 'T2G', 'T2G', 'T2G', 'T2G', 'T2G', 'T2G', 'T2G', 'T2G', 'T2G', 'T2G', 'T2G', 'T2G', 'T2G', 'T2D', 'T2G', 'T2G', 'T2G', 'T2D', 'T2G', 'T2G', 'T2G', 'T2G', 'T2D', 'T2G', 'T2G', 'T2G', 'T2G', 'T2G', 'T2G', 'T2G', 'T2G', 'T2G', 'T2G', 'T2G', 'T2G', 'T2G', 'T2G', 'T2G', 'T2G', 'T2G', 'T2G', 'T2G', 'T2G', 'T2G', 'T2G', 'T2G', 'T2G', 'T2G', 'T2G', 'T2G', 'T2G', 'T2G', 'T2G', 'T2G', 'T2G', 'T2G', 'T2G', 'T2G', 'T2G', 'T2G', 'T2G', 'T2G', 'T2G', 'T2G', 'T2G', 'T2G', 'T2G', 'T2G', 'T2G', 'T2G', 'T2G', 'T2G', 'T2G', 'T2G', 'T2G', 'T2G', 'T2G', 'T2G', 'T2G', 'T2G', 'T2G', 'T2G', 'T2G', 'T2G', 'T2G', 'T2G', 'T2G', 'T2G', 'T2G', 'T2G', 'T2G', 'T2G', 'T2G', 'T2G', 'T2G', 'T2G', 'T2G', 'T2G', 'T2G', 'T2G', 'T2G', 'T2G', 'T2G', 'T2G', 'T2G', 'T2G', 'T2G', 'T2G', 'T2G', 'T2G', 'T2G', 'T2G', 'T2G', 'T2G', 'T2G', 'T2G', 'T2G', 'T2G', 'T2G', 'T2G', 'T2G', 'T2G', 'T2G', 'T2G', 'T2G', 'T2G', 'T2G', 'T2G', 'T2G', 'T2G', 'T2G', 'T2G', 'T2G', 'T2G', 'T2G', 'T2G', 'T2G', 'T2G', 'T2G', 'T2G', 'T2G', 'T2G', 'T2G', 'T2G', 'T2D', 'T2G', 'T2G', 'T2G', 'T2G', 'T2G', 'T2G', 'T2G', 'T2D', 'T2G', 'T2G', 'T2G', 'T2G', 'T2G', 'T2D', 'T2G', 'T2G', 'T2G', 'T2G', 'T2G', 'T2G', 'T2G', 'T2G', 'T2G', 'T2G', 'T2G', 'T2G', 'T2G', 'T2G', 'T2G', 'T2G', 'T2G', 'T2G', 'T2G', 'T2G', 'T2G', 'T2G', 'T2G', 'T2G', 'T2G', 'T2G', 'T2G', 'T2G', 'T2G', 'T2G', 'T2G', 'T2G', 'T2G', 'T2G', 'T2G', 'T2G', 'T2G', 'T2G', 'T2G', 'T2G', 'T2G', 'T2G', 'T2G', 'T2G', 'T2G', 'T2G', 'T2G', 'T2G', 'T2G', 'T2G', 'T2G', 'T2G', 'T2G', 'T2G', 'T2G', 'T2G', 'T2G', 'T2G', 'T2G', 'T2G', 'T2G', 'T2G', 'T2G', 'T2G', 'T2G', 'T2G', 'T2G', 'T2G', 'T2G', 'T2G', 'T2G', 'T2D', 'T2G', 'T2G', 'T2G', 'T2G', 'T2G', 'T2G', 'T2G', 'T2G', 'T2G', 'T2G', 'T2G', 'T2G', 'T2G', 'T2G', 'T2G', 'T2G', 'T2G', 'T2G', 'T2G', 'T2G', 'T2G', 'T2G', 'T2G', 'T2G', 'T2G', 'T2G', 'T2G', 'T2G', 'T2G', 'T2G', 'T2G', 'T2G', 'T2G', 'T2G', 'T2G', 'T2D', 'T2G', 'T2G', 'T2G', 'T2G', 'T2G', 'T2G', 'T2G', 'T2G', 'T2G', 'T2G', 'T2G', 'T2G', 'T2G', 'T2G', 'T2G', 'T2G', 'T2G', 'T2G', 'T2G', 'T2G', 'T2G', 'T2G', 'T2G', 'T2G', 'T2G', 'T2G', 'T2G', 'T2G', 'T2G', 'T2G', 'T2G', 'T2G', 'T2G', 'T2G', 'T2G', 'T2G', 'T2G', 'T2G', 'T2G', 'T2G', 'T2G', 'T2G', 'T2G', 'T2G', 'T2G', 'T2G', 'T2G', 'T2G', 'T2G', 'T2G', 'T2G', 'T2G', 'T2G', 'T2G', 'T2G', 'T2G', 'T2G', 'T2G', 'T2G', 'T2G', 'T2G', 'T2G', 'T2G', 'T2G', 'T2G', 'T2G', 'T2G', 'T2G', 'T2G', 'T2G', 'T2G', 'T2G', 'T2G', 'T2G', 'T2G', 'T2G', 'T2G', 'T2G', 'T2G', 'T2G', 'T2G', 'T2G', 'T2G', 'T2G', 'T2G', 'T2G', 'T2G', 'T2G', 'T2G', 'T2G', 'T2G', 'T2G', 'T2G', 'T2G', 'T2G', 'T2G', 'T2G', 'T2G', 'T2G', 'T2G', 'T2G', 'T2G', 'T2G', 'T2G', 'T2G', 'T2G', 'T2G', 'T2G', 'T2G', 'T2G', 'T2G', 'T2G', 'T2G', 'T2G', 'T2G', 'T2G', 'T2G', 'T2G', 'T2G', 'T2G', 'T2G', 'T2G', 'T2G', 'T2G', 'T2G', 'T2G', 'T2G', 'T2G', 'T2G', 'T2G', 'T2G', 'T2G', 'T2D', 'T2G', 'T2G', 'T2G', 'T2G', 'T2G', 'T2G', 'T2G', 'T2G', 'T2G', 'T2G', 'T2G', 'T2G', 'T2G', 'T2G', 'T2G', 'T2G', 'T2G', 'T2G', 'T2G', 'T2G', 'T2G', 'T2G', 'T2G', 'T2G', 'T2G', 'T2G', 'T2G', 'T2G', 'T2G', 'T2G', 'T2G', 'T2G', 'T2G', 'T2G', 'T2G', 'T2G', 'T2G', 'T2G', 'T2G', 'T2G', 'T2G', 'T2G', 'T2G', 'T2G', 'T2G', 'T2G', 'T2G', 'T2G', 'T2G', 'T2G', 'T2G', 'T2G', 'T2G', 'T2G', 'T2G', 'T2G', 'T2G', 'T2G', 'T2G', 'T2G', 'T2G', 'T2G', 'T2G', 'T2G', 'T2G', 'T2G', 'T2G', 'T2G', 'T2G', 'T2G', 'T2G', 'T2G', 'T2G', 'T2G', 'T2G', 'T2G', 'T2G', 'T2G', 'T2G', 'T2G', 'T2G', 'T2G', 'T2G', 'T2G', 'T2G', 'T2G', 'T2G', 'T2G', 'T2G', 'T2G', 'T2G', 'T2G', 'T2G', 'T2G', 'T2G', 'T2G', 'T2G', 'T2G', 'T2G', 'T2G', 'T2G', 'T2G', 'T2G', 'T2G', 'T2G', 'T2G', 'T2G', 'T2G', 'T2G', 'T2G', 'T2G', 'T2G', 'T2G', 'T2G', 'T2G', 'T2G', 'T2G', 'T2G', 'T2G', 'T2G', 'T2G', 'T2G', 'T2G', 'T2G', 'T2G', 'T2G', 'T2G', 'T2G', 'T2G', 'T2G', 'T2G', 'T2G', 'T2G', 'T2G', 'T2G', 'T2G', 'T2G', 'T2G', 'T2G', 'T2G', 'T2G', 'T2G', 'T2G', 'T2G', 'T2G', 'T2G', 'T2G', 'T2G', 'T2G', 'T2G', 'T2G', 'T2G', 'T2G', 'T2G', 'T2G', 'T2G', 'T2G', 'T2G', 'T2G', 'T2G', 'T2G', 'T2G', 'T2G', 'T2G', 'T2G', 'T2G', 'T2G', 'T2G', 'T2G', 'T2G', 'T2G', 'T2G', 'T2G', 'T2G', 'T2G', 'T2G', 'T2G', 'T2G', 'T2G', 'T2G', 'T2G', 'T2G', 'T2G', 'T2G', 'T2G', 'T2G', 'T2G', 'T2G', 'T2G', 'T2G', 'T2G', 'T2G', 'T2G', 'T2G', 'T2G', 'T2G', 'T2G', 'T2D', 'T2G', 'T2G', 'T2G', 'T2G', 'T2G', 'T2G', 'T2G', 'T2G', 'T2G', 'T2G', 'T2G', 'T2G', 'T2G', 'T2G', 'T2G', 'T2G', 'T2G', 'T2G', 'T2G', 'T2G', 'T2G', 'T2G', 'T2D', 'T2G', 'T2G', 'T2G', 'T2G', 'T2G', 'T2G', 'T2G', 'T2G', 'T2G', 'T2G', 'T2G', 'T2G', 'T2G', 'T2G', 'T2G', 'T2G', 'T2G', 'T2G', 'T2G', 'T2G', 'T2G', 'T2G', 'T2G', 'T2G', 'T2G', 'T2G', 'T2G', 'T2G', 'T2G', 'T2G', 'T2G', 'T2G', 'T2G', 'T2G', 'T2G', 'T2G', 'T2G', 'T2G', 'T2G', 'T2G', 'T2G', 'T2G', 'T2G', 'T2G', 'T2G', 'T2G', 'T2G', 'T2G', 'T2G', 'T2G', 'T2G', 'T2G', 'T2G', 'T2G', 'T2G', 'T2G', 'T2G', 'T2G', 'T2G', 'T2G', 'T2G', 'T2G', 'T2G', 'T2G', 'T2G', 'T2G', 'T2G', 'T2G', 'T2G', 'T2G', 'T2G', 'T2D', 'T2G', 'T2G', 'T2G', 'T2G', 'T2G', 'T2D', 'T2G', 'T2G', 'T2G', 'T2G', 'T2G', 'T2G', 'T2G', 'T2G', 'T2G', 'T2G', 'T2G', 'T2G', 'T2G', 'T2G', 'T2G', 'T2G', 'T2G', 'T2G', 'T2G', 'T2G', 'T2G', 'T2G', 'T2G', 'T2G', 'T2G', 'T2G', 'T2G', 'T2G', 'T2G', 'T2G', 'T2G', 'T2G', 'T2G', 'T2G', 'T2G', 'T2G', 'T2G', 'T2G', 'T2G', 'T2G', 'T2G', 'T2G', 'T2G', 'T2G', 'T2G', 'T2G', 'T2G', 'T2G', 'T2G', 'T2G', 'T2G', 'T2G', 'T2G', 'T2G', 'T2G', 'T2G', 'T2G', 'T2G', 'T2G', 'T2G', 'T2G', 'T2G', 'T2G', 'T2G', 'T2G', 'T2G', 'T2G', 'T2G', 'T2G', 'T2G', 'T2G', 'T2G', 'T2G', 'T2D', 'T2G', 'T2G', 'T2G', 'T2G', 'T2G', 'T2G', 'T2G', 'T2G', 'T2G', 'T2G', 'T2G', 'T2G', 'T2G', 'T2G', 'T2G', 'T2G', 'T2G', 'T2G', 'T2G', 'T2G', 'T2G', 'T2G', 'T2G', 'T2G', 'T2G', 'T2G', 'T2G', 'T2G', 'T2G', 'T2G', 'T2G', 'T2G', 'T2G', 'T2G', 'T2G', 'T2G', 'T2G', 'T2G', 'T2G', 'T2G', 'T2G', 'T2G', 'T2G', 'T2G', 'T2G', 'T2G', 'T2G', 'T2G', 'T2G', 'T2G', 'T2G', 'T2G', 'T2G', 'T2G', 'T2G', 'T2G', 'T2G', 'T2G', 'T2G', 'T2G', 'T2G', 'T2G', 'T2G', 'T2G', 'T2G', 'T2G', 'T2G', 'T2G', 'T2G', 'T2G', 'T2D', 'T2G', 'T2G', 'T2G', 'T2G', 'T2G', 'T2G', 'T2G', 'T2G', 'T2G', 'T2G', 'T2D', 'T2G', 'T2G', 'T2G', 'T2G', 'T2G', 'T2G', 'T2G', 'T2G', 'T2G', 'T2G', 'T2G', 'T2G', 'T2G', 'T2G', 'T2G', 'T2G', 'T2G', 'T2G', 'T2G', 'T2G', 'T2G', 'T2G', 'T2G', 'T2G', 'T2G', 'T2G', 'T2G', 'T2G', 'T2G', 'T2G', 'T2G', 'T2G', 'T2G', 'T2G', 'T2G', 'T2G', 'T2G', 'T2G', 'T2G', 'T2G', 'T2G', 'T2G', 'T2G', 'T2G', 'T2G', 'T2G', 'T2G', 'T2G', 'T2G', 'T2G', 'T2G', 'T2G', 'T2G', 'T2G', 'T2G', 'T2G', 'T2G', 'T2G', 'T2G', 'T2G', 'T2G', 'T2G', 'T2G', 'T2G', 'T2G', 'T2G', 'T2G', 'T2G', 'T2G', 'T2G', 'T2G', 'T2G', 'T2G', 'T2G', 'T2G', 'T2G', 'T2G', 'T2G', 'T2G', 'T2G', 'T2G', 'T2G', 'T2G', 'T2G', 'T2G', 'T2G', 'T2G', 'T2G', 'T2G', 'T2G', 'T2G', 'T2G', 'T2G', 'T2G', 'T2G', 'T2G', 'T2G', 'T2G', 'T2G', 'T2G', 'T2G', 'T2G', 'T2G', 'T2G', 'T2G', 'T2G', 'T2G', 'T2G', 'T2G', 'T2G', 'T2G', 'T2G', 'T2G', 'T2G', 'T2G', 'T2G', 'T2G', 'T2G', 'T2G', 'T2G', 'T2G', 'T2G', 'T2G', 'T2G', 'T2G', 'T2G', 'T2G', 'T2G', 'T2G', 'T2G', 'T2G', 'T2G', 'T2G', 'T2G', 'T2G', 'T2G', 'T2G', 'T2G', 'T2G', 'T2G', 'T2G', 'T2G', 'T2G', 'T2G', 'T2G', 'T2G', 'T2G', 'T2G', 'T2G', 'T2G', 'T2G', 'T2G', 'T2G', 'T2G', 'T2G', 'T2G', 'T2G', 'T2G', 'T2G', 'T2G', 'T2G', 'T2G', 'T2G', 'T2G', 'T2G', 'T2G', 'T2G', 'T2G', 'T2G', 'T2G', 'T2G', 'T2G', 'T2G', 'T2G', 'T2G', 'T2G', 'T2G', 'T2G', 'T2G', 'T2G', 'T2G', 'T2G', 'T2G', 'T2G', 'T2G', 'T2G', 'T2G', 'T2G', 'T2G', 'T2D', 'T2G', 'T2G', 'T2G', 'T2G', 'T2G', 'T2G', 'T2G', 'T2G', 'T2G', 'T2G', 'T2G', 'T2G', 'T2G', 'T2G', 'T2G', 'T2D', 'T2G', 'T2G', 'T2G', 'T2G', 'T2G', 'T2G', 'T2G', 'T2G', 'T2G', 'T2G', 'T2G', 'T2G', 'T2G', 'T2G', 'T2G', 'T2G', 'T2G', 'T2G', 'T2G', 'T2G', 'T2G', 'T2G', 'T2G', 'T2G', 'T2G', 'T2G', 'T2G', 'T2G', 'T2G', 'T2G', 'T2G', 'T2G', 'T2G', 'T2G', 'T2G', 'T2G', 'T2G', 'T2G', 'T2G', 'T2G', 'T2G', 'T2G', 'T2G', 'T2G', 'T2G', 'T2G', 'T2G', 'T2G', 'T2G', 'T2G', 'T2G', 'T2G', 'T2G', 'T2G', 'T2G', 'T2G', 'T2G', 'T2G', 'T2G', 'T2G', 'T2G', 'T2G', 'T2G', 'T2G', 'T2G', 'T2G', 'T2G', 'T2G', 'T2G', 'T2G', 'T2G', 'T2G', 'T2G', 'T2G', 'T2G', 'T2G', 'T2G', 'T2G', 'T2G', 'T2G', 'T2G', 'T2G', 'T2G', 'T2G', 'T2G', 'T2D', 'T2G', 'T2G', 'T2G', 'T2G', 'T2G', 'T2G', 'T2G', 'T2G', 'T2G', 'T2G', 'T2G', 'T2G', 'T2G', 'T2G', 'T2G', 'T2G', 'T2D', 'T2G', 'T2G', 'T2G', 'T2G', 'T2G', 'T2G', 'T2G', 'T2G', 'T2D', 'T2G', 'T2G', 'T2G', 'T2D', 'T2G', 'T2G', 'T2G', 'T2G', 'T2G', 'T2G', 'T2G', 'T2G', 'T2G', 'T2G', 'T2G', 'T2G', 'T2G', 'T2D', 'T2G', 'T2G', 'T2G', 'T2G', 'T2G', 'T2G', 'T2G', 'T2G', 'T2G', 'T2G', 'T2G', 'T2G', 'T2G', 'T2G', 'T2G', 'T2G', 'T2G', 'T2G', 'T2G', 'T2G', 'T2G', 'T2G', 'T2G', 'T2G', 'T2G', 'T2G', 'T2G', 'T2G', 'T2G', 'T2G', 'T2G', 'T2G', 'T2G', 'T2G', 'T2G', 'T2G', 'T2G', 'T2G', 'T2D', 'T2G', 'T2G', 'T2D', 'T2G', 'T2G', 'T2D', 'T2G', 'T2G', 'T2G', 'T2G', 'T2G', 'T2D', 'T2G', 'T2G', 'T2G', 'T2G', 'T2G', 'T2G', 'T2G', 'T2G', 'T2G', 'T2G', 'T2G', 'T2G', 'T2G', 'T2G', 'T2G', 'T2G', 'T2G', 'T2G', 'T2G', 'T2D', 'T2G', 'T2G', 'T2G', 'T2G', 'T2G', 'T2G', 'T2G', 'T2G', 'T2G', 'T2G', 'T2G', 'T2G', 'T2G', 'T2G', 'T2G', 'T2G', 'T2G', 'T2G', 'T2G', 'T2G', 'T2G', 'T2G', 'T2G', 'T2G', 'T2G', 'T2G', 'T2G', 'T2G', 'T2G', 'T2G', 'T2G', 'T2G', 'T2G', 'T2G', 'T2G', 'T2G', 'T2G', 'T2G', 'T2G', 'T2G', 'T2G', 'T2G', 'T2G', 'T2G', 'T2G', 'T2G', 'T2G', 'T2G', 'T2G', 'T2D', 'T2G', 'T2G', 'T2G', 'T2G', 'T2G', 'T2G', 'T2G', 'T2G', 'T2G', 'T2D', 'T2G', 'T2G', 'T2G', 'T2G', 'T2G', 'T2G', 'T2G', 'T2G', 'T2G', 'T2G', 'T2G', 'T2G', 'T2G', 'T2G', 'T2G', 'T2G', 'T2G', 'T2G', 'T2G', 'T2G', 'T2G', 'T2G', 'T2G', 'T2G', 'T2G', 'T2G', 'T2G', 'T2G', 'T2G', 'T2G', 'T2G', 'T2G', 'T2G', 'T2G', 'T2G', 'T2G', 'T2G', 'T2G', 'T2G', 'T2G', 'T2G', 'T2G', 'T2G', 'T2G', 'T2G', 'T2G', 'T2G', 'T2G', 'T2G', 'T2G', 'T2G', 'T2G', 'T2G', 'T2G', 'T2G', 'T2D', 'T2G', 'T2G', 'T2G', 'T2G', 'T2G', 'T2G', 'T2G', 'T2G', 'T2G', 'T2G', 'T2G', 'T2G', 'T2G', 'T2G', 'T2G', 'T2G', 'T2G', 'T2G', 'T2G', 'T2G', 'T2G', 'T2G', 'T2G', 'T2G', 'T2G', 'T2G', 'T2G', 'T2G', 'T2G', 'T2G', 'T2G', 'T2G', 'T2G', 'T2G', 'T2G', 'T2G', 'T2G', 'T2G', 'T2G', 'T2G', 'T2G', 'T2G', 'T2G', 'T2D', 'T2G', 'T2G', 'T2G', 'T2G', 'T2G', 'T2G', 'T2G', 'T2G', 'T2G', 'T2G', 'T2G', 'T2G', 'T2G', 'T2G', 'T2G', 'T2G', 'T2G', 'T2G', 'T2G', 'T2G', 'T2G', 'T2G', 'T2G', 'T2G', 'T2G', 'T2G', 'T2G', 'T2G', 'T2G', 'T2G', 'T2G', 'T2G', 'T2G', 'T2G', 'T2G', 'T2G', 'T2G', 'T2G', 'T2G', 'T2G', 'T2G', 'T2G', 'T2G', 'T2G', 'T2G', 'T2G', 'T2G', 'T2G', 'T2G', 'T2G', 'T2G', 'T2G', 'T2G', 'T2G', 'T2G', 'T2G', 'T2G', 'T2G', 'T2G', 'T2G', 'T2G', 'T2G', 'T2G', 'T2G', 'T2G', 'T2G', 'T2G', 'T2G', 'T2G', 'T2G', 'T2G', 'T2G', 'T2G', 'T2G', 'T2G', 'T2G', 'T2G', 'T2G', 'T2G', 'T2G', 'T2G', 'T2G', 'T2G', 'T2G', 'T2G', 'T2G', 'T2G', 'T2G', 'T2G', 'T2G', 'T2G', 'T2G', 'T2G', 'T2G', 'T2G', 'T2G', 'T2G', 'T2G', 'T2G', 'T2G', 'T2G', 'T2G', 'T2G', 'T2G', 'T2G', 'T2G', 'T2G', 'T2G', 'T2G', 'T2G', 'T2G', 'T2G', 'T2G', 'T2G', 'T2G', 'T2G', 'T2G', 'T2G', 'T2G', 'T2G', 'T2G', 'T2G', 'T2G', 'T2G', 'T2G', 'T2G', 'T2G', 'T2G', 'T2G', 'T2G', 'T2G', 'T2G', 'T2G', 'T2G', 'T2G', 'T2G', 'T2G', 'T2G', 'T2G', 'T2G', 'T2G', 'T2G', 'T2G', 'T2G', 'T2G', 'T2G', 'T2G', 'T2G', 'T2G', 'T2G', 'T2G', 'T2G', 'T2G', 'T2G', 'T2G', 'T2G', 'T2G', 'T2G', 'T2G', 'T2G', 'T2G', 'T2G', 'T2G', 'T2G', 'T2G', 'T2G', 'T2G', 'T2G', 'T2G', 'T2G', 'T2G', 'T2G', 'T2G', 'T2G', 'T2G', 'T2G', 'T2G', 'T2G', 'T2G', 'T2G', 'T2G', 'T2G', 'T2G', 'T2G', 'T2G', 'T2G', 'T2G', 'T2G', 'T2G', 'T2G', 'T2G', 'T2G', 'T2G', 'T2G', 'T2G', 'T2G', 'T2G', 'T2G', 'T2G', 'T2G', 'T2G', 'T2G', 'T2G', 'T2G', 'T2G', 'T2G', 'T2G', 'T2G', 'T2G', 'T2G', 'T2G', 'T2D', 'T2G', 'T2G', 'T2G', 'T2G', 'T2G', 'T2G', 'T2G', 'T2G', 'T2G', 'T2G', 'T2G', 'T2D', 'T2G', 'T2G', 'T2G', 'T2G', 'T2G', 'T2G', 'T2G', 'T2G', 'T2G', 'T2G', 'T2G', 'T2G', 'T2G', 'T2G', 'T2G', 'T2G', 'T2G', 'T2G', 'T2G', 'T2G', 'T2G', 'T2G', 'T2G', 'T2G', 'T2G', 'T2G', 'T2D', 'T2G', 'T2G', 'T2G', 'T2G', 'T2G', 'T2G', 'T2G', 'T2G', 'T2G', 'T2G', 'T2G', 'T2G', 'T2G', 'T2G', 'T2G', 'T2G', 'T2G', 'T2G', 'T2G', 'T2G', 'T2G', 'T2G', 'T2G', 'T2G', 'T2G', 'T2G', 'T2G', 'T2G', 'T2G', 'T2G', 'T2G', 'T2D', 'T2G', 'T2G', 'T2G', 'T2G', 'T2G', 'T2G', 'T2G', 'T2G', 'T2G', 'T2G', 'T2G', 'T2G', 'T2G', 'T2G', 'T2G', 'T2G', 'T2G', 'T2G', 'T2G', 'T2G', 'T2G', 'T2G', 'T2G', 'T2G', 'T2D', 'T2G', 'T2G', 'T2G', 'T2G', 'T2G', 'T2G', 'T2G', 'T2G', 'T2G', 'T2G', 'T2G', 'T2G', 'T2G', 'T2G', 'T2G', 'T2G', 'T2G', 'T2G', 'T2G', 'T2G', 'T2G', 'T2G', 'T2G', 'T2G', 'T2G', 'T2G', 'T2G', 'T2G', 'T2G', 'T2G', 'T2G', 'T2G', 'T2G', 'T2G', 'T2G', 'T2G', 'T2G', 'T2G', 'T2G', 'T2G', 'T2G', 'T2G', 'T2G', 'T2G', 'T2G', 'T2G', 'T2G', 'T2G', 'T2G', 'T2G', 'T2G', 'T2G', 'T2G', 'T2G', 'T2G', 'T2G', 'T2G', 'T2G', 'T2G', 'T2G', 'T2G', 'T2G', 'T2G', 'T2G', 'T2G', 'T2G', 'T2G', 'T2G', 'T2G', 'T2G', 'T2G', 'T2G', 'T2G', 'T2D', 'T2G', 'T2G', 'T2G', 'T2G', 'T2G', 'T2G', 'T2G', 'T2G', 'T2G', 'T2G', 'T2G', 'T2G', 'T2G', 'T2G', 'T2G', 'T2G', 'T2D', 'T2G', 'T2G', 'T2G', 'T2G', 'T2G', 'T2G', 'T2G', 'T2G', 'T2G', 'T2G', 'T2G', 'T2G', 'T2G', 'T2G', 'T2G', 'T2G', 'T2G', 'T2G', 'T2G', 'T2G', 'T2G', 'T2D', 'T2G', 'T2G', 'T2G', 'T2D', 'T2G', 'T2G', 'T2G', 'T2G', 'T2G', 'T2G', 'T2G', 'T2G', 'T2G', 'T2G', 'T2G', 'T2G', 'T2G', 'T2G', 'T2G', 'T2G', 'T2G', 'T2G', 'T2G', 'T2G', 'T2G', 'T2G', 'T2G', 'T2G', 'T2G', 'T2G', 'T2G', 'T2G', 'T2G', 'T2G', 'T2G', 'T2G', 'T2G', 'T2G', 'T2G', 'T2G', 'T2G', 'T2G', 'T2G', 'T2G', 'T2G', 'T2G', 'T2G', 'T2G', 'T2G', 'T2G', 'T2G', 'T2G', 'T2D', 'T2G', 'T2G', 'T2G', 'T2G', 'T2G', 'T2G', 'T2G', 'T2G', 'T2G', 'T2G', 'T2G', 'T2G', 'T2G', 'T2G', 'T2G', 'T2G', 'T2G', 'T2G', 'T2G', 'T2G', 'T2G', 'T2G', 'T2G', 'T2G', 'T2G', 'T2G', 'T2G', 'T2G', 'T2G', 'T2G', 'T2G', 'T2G', 'T2G', 'T2G', 'T2G', 'T2G', 'T2G', 'T2G', 'T2G', 'T2G', 'T2G', 'T2G', 'T2G', 'T2G', 'T2G', 'T2G', 'T2G', 'T2G', 'T2G', 'T2G', 'T2G', 'T2G', 'T2G', 'T2G', 'T2G', 'T2G', 'T2G', 'T2G', 'T2G', 'T2G', 'T2G', 'T2G', 'T2G', 'T2G', 'T2G', 'T2G', 'T2G', 'T2G', 'T2G', 'T2G', 'T2G', 'T2G', 'T2G', 'T2G', 'T2G', 'T2G', 'T2G', 'T2G', 'T2G', 'T2G', 'T2G', 'T2G', 'T2G', 'T2G', 'T2G', 'T2G', 'T2G', 'T2G', 'T2G', 'T2G', 'T2G', 'T2G', 'T2G', 'T2G', 'T2G', 'T2G', 'T2G', 'T2G', 'T2G', 'T2G', 'T2G', 'T2G', 'T2G', 'T2G', 'T2G', 'T2G', 'T2G', 'T2G', 'T2G', 'T2G', 'T2G', 'T2G', 'T2G', 'T2G', 'T2G', 'T2G', 'T2G', 'T2G', 'T2G', 'T2G', 'T2G', 'T2G', 'T2G', 'T2G', 'T2G', 'T2G', 'T2G', 'T2G', 'T2G', 'T2G', 'T2G', 'T2G', 'T2G', 'T2G', 'T2G', 'T2G', 'T2G', 'T2G', 'T2G', 'T2G', 'T2G', 'T2G', 'T2G', 'T2G', 'T2G', 'T2G', 'T2G', 'T2G', 'T2G', 'T2G', 'T2G', 'T2G', 'T2G', 'T2G', 'T2G', 'T2G', 'T2G', 'T2G', 'T2G', 'T2G', 'T2G', 'T2G', 'T2G', 'T2G', 'T2G', 'T2G', 'T2G', 'T2G', 'T2G', 'T2G', 'T2G', 'T2G', 'T2G', 'T2G', 'T2G', 'T2G', 'T2G', 'T2G', 'T2G', 'T2G', 'T2G', 'T2G', 'T2G', 'T2G', 'T2G', 'T2G', 'T2G', 'T2G', 'T2G', 'T2G', 'T2G', 'T2G', 'T2G', 'T2G', 'T2G', 'T2G', 'T2G', 'T2G', 'T2G', 'T2G', 'T2G', 'T2G', 'T2G', 'T2G', 'T2G', 'T2G', 'T2G', 'T2G', 'T2G', 'T2G', 'T2G', 'T2G', 'T2G', 'T2G', 'T2G', 'T2G', 'T2G', 'T2G', 'T2G', 'T2G', 'T2G', 'T2G', 'T2G', 'T2G', 'T2G', 'T2G', 'T2G', 'T2G', 'T2G', 'T2G', 'T2G', 'T2G', 'T2D', 'T2G', 'T2G', 'T2G', 'T2G', 'T2G', 'T2G', 'T2G', 'T2G', 'T2G', 'T2G', 'T2G', 'T2G', 'T2G', 'T2G', 'T2G', 'T2G', 'T2G', 'T2G', 'T2G', 'T2G', 'T2G', 'T2G', 'T2G', 'T2G', 'T2G', 'T2G', 'T2G', 'T2D', 'T2G', 'T2G', 'T2G', 'T2G', 'T2G', 'T2G', 'T2G', 'T2G', 'T2G', 'T2G', 'T2G', 'T2G', 'T2G', 'T2G', 'T2G', 'T2G', 'T2G', 'T2G', 'T2G', 'T2G', 'T2G', 'T2G', 'T2G', 'T2G', 'T2G', 'T2G', 'T2G', 'T2G', 'T2G', 'T2G', 'T2G', 'T2G', 'T2G', 'T2G', 'T2G', 'T2G', 'T2G', 'T2G', 'T2G', 'T2G', 'T2G', 'T2G', 'T2G', 'T2G', 'T2G', 'T2G', 'T2G', 'T2G', 'T2G', 'T2G', 'T2G', 'T2G', 'T2G', 'T2G', 'T2G', 'T2G', 'T2G', 'T2G', 'T2G', 'T2D', 'T2G', 'T2G', 'T2G', 'T2G', 'T2G', 'T2G', 'T2G', 'T2G', 'T2G', 'T2G', 'T2D', 'T2G', 'T2G', 'T2G', 'T2G', 'T2G', 'T2G', 'T2G', 'T2G', 'T2G', 'T2G', 'T2G', 'T2G', 'T2G', 'T2G', 'T2G', 'T2G', 'T2G', 'T2G', 'T2G', 'T2G', 'T2G', 'T2G', 'T2G', 'T2G', 'T2G', 'T2G', 'T2G', 'T2G', 'T2G', 'T2G', 'T2G', 'T2G', 'T2G', 'T2G', 'T2G', 'T2G', 'T2G', 'T2G', 'T2G', 'T2G', 'T2G', 'T2G', 'T2G', 'T2G', 'T2G', 'T2G', 'T2G', 'T2G', 'T2G', 'T2G', 'T2G', 'T2G', 'T2G', 'T2G', 'T2G', 'T2G', 'T2G', 'T2G', 'T2G', 'T2G', 'T2G', 'T2G', 'T2G', 'T2G', 'T2G', 'T2G', 'T2D', 'T2G', 'T2G', 'T2G', 'T2G', 'T2G', 'T2G', 'T2G', 'T2G', 'T2G', 'T2G', 'T2G', 'T2G', 'T2G', 'T2G', 'T2G', 'T2G', 'T2G', 'T2G', 'T2G', 'T2G', 'T2G', 'T2G', 'T2G', 'T2G', 'T2G', 'T2G', 'T2G', 'T2G', 'T2G', 'T2G', 'T2G', 'T2G', 'T2G', 'T2G', 'T2G', 'T2G', 'T2G', 'T2G', 'T2G', 'T2G', 'T2G', 'T2G', 'T2G', 'T2G', 'T2G', 'T2G', 'T2G', 'T2G', 'T2G', 'T2G', 'T2G', 'T2G', 'T2G', 'T2G', 'T2G', 'T2G', 'T2G', 'T2G', 'T2G', 'T2G', 'T2G', 'T2G', 'T2G', 'T2G', 'T2G', 'T2G', 'T2G', 'T2G', 'T2G', 'T2G', 'T2G', 'T2G', 'T2G', 'T2G', 'T2G', 'T2G', 'T2G', 'T2G', 'T2G', 'T2G', 'T2G', 'T2G', 'T2G', 'T2G', 'T2G', 'T2G', 'T2G', 'T2G', 'T2G', 'T2G', 'T2G', 'T2G', 'T2G', 'T2G', 'T2G', 'T2G', 'T2G', 'T2G', 'T2G', 'T2G', 'T2G', 'T2G', 'T2G', 'T2G', 'T2G', 'T2G', 'T2G', 'T2G', 'T2G', 'T2G', 'T2G', 'T2G', 'T2G', 'T2G', 'T2G', 'T2G', 'T2G', 'T2G', 'T2G', 'T2G', 'T2G', 'T2G', 'T2G', 'T2G', 'T2G', 'T2G', 'T2G', 'T2G', 'T2G', 'T2G', 'T2G', 'T2G', 'T2G', 'T2G', 'T2G', 'T2G', 'T2D', 'T2G', 'T2G', 'T2G', 'T2G', 'T2D', 'T2G', 'T2G', 'T2G', 'T2G', 'T2G', 'T2G', 'T2G', 'T2G', 'T2G', 'T2G', 'T2G', 'T2G', 'T2G', 'T2G', 'T2G', 'T2G', 'T2G', 'T2D', 'T2G', 'T2G', 'T2G', 'T2G', 'T2G', 'T2G', 'T2D', 'T2G', 'T2G', 'T2G', 'T2G', 'T2D', 'T2G', 'T2G', 'T2G', 'T2G', 'T2G', 'T2G', 'T2G', 'T2G', 'T2G', 'T2G', 'T2G', 'T2G', 'T2G', 'T2G', 'T2G', 'T2G', 'T2G', 'T2G', 'T2G', 'T2G', 'T2G', 'T2G', 'T2G', 'T2G', 'T2G', 'T2G', 'T2G', 'T2G', 'T2G', 'T2G', 'T2G', 'T2G', 'T2G', 'T2G', 'T2G', 'T2G', 'T2G', 'T2G', 'T2G', 'T2G', 'T2G', 'T2G', 'T2G', 'T2G', 'T2G', 'T2G', 'T2G', 'T2G', 'T2G', 'T2G', 'T2G', 'T2G', 'T2G', 'T2G', 'T2G', 'T2D', 'T2G', 'T2G', 'T2G', 'T2G', 'T2G', 'T2G', 'T2G', 'T2G', 'T2G', 'T2G', 'T2G', 'T2G', 'T2G', 'T2G', 'T2G', 'T2G', 'T2G', 'T2G', 'T2G', 'T2G', 'T2G', 'T2G', 'T2G', 'T2G', 'T2G', 'T2G', 'T2G', 'T2G', 'T2G', 'T2G', 'T2G', 'T2G', 'T2G', 'T2G', 'T2G', 'T2G', 'T2G', 'T2G', 'T2G', 'T2G', 'T2G', 'T2G', 'T2G', 'T2G', 'T2G', 'T2G', 'T2G', 'T2G', 'T2G', 'T2G', 'T2G', 'T2G', 'T2G', 'T2G', 'T2G', 'T2G', 'T2G', 'T2G', 'T2G', 'T2G', 'T2G', 'T2G', 'T2G', 'T2G', 'T2G', 'T2G', 'T2G', 'T2G', 'T2G', 'T2G', 'T2G', 'T2G', 'T2G', 'T2G', 'T2G', 'T2G', 'T2G', 'T2G', 'T2G', 'T2G', 'T2G', 'T2G', 'T2G', 'T2G', 'T2G', 'T2G', 'T2G', 'T2G', 'T2G', 'T2G', 'T2G', 'T2G', 'T2G', 'T2G', 'T2G', 'T2G', 'T2G', 'T2G', 'T2G', 'T2D', 'T2G', 'T2G', 'T2D', 'T2G', 'T2G', 'T2G', 'T2G', 'T2G', 'T2G', 'T2G', 'T2G', 'T2G', 'T2G', 'T2G', 'T2G', 'T2G', 'T2G', 'T2G', 'T2G', 'T2G', 'T2G', 'T2G', 'T2G', 'T2G', 'T2G', 'T2G', 'T2G', 'T2G', 'T2G', 'T2G', 'T2G', 'T2G', 'T2G', 'T2G', 'T2G', 'T2G', 'T2G', 'T2G', 'T2G', 'T2G', 'T2G', 'T2G', 'T2G', 'T2G', 'T2G', 'T2G', 'T2G', 'T2G', 'T2G', 'T2G', 'T2D', 'T2G', 'T2G', 'T2G', 'T2D', 'T2G', 'T2G', 'T2G', 'T2G', 'T2G', 'T2G', 'T2G', 'T2G', 'T2G', 'T2G', 'T2G', 'T2G', 'T2G', 'T2G', 'T2G', 'T2G', 'T2G', 'T2G', 'T2G', 'T2G', 'T2G', 'T2G', 'T2G', 'T2G', 'T2G', 'T2G', 'T2G', 'T2G', 'T2G', 'T2G', 'T2G', 'T2G', 'T2G', 'T2G', 'T2G', 'T2G', 'T2G', 'T2G', 'T2G', 'T2G', 'T2G', 'T2G', 'T2G', 'T2G', 'T2G', 'T2G', 'T2G', 'T2G', 'T2G', 'T2G', 'T2G', 'T2G', 'T2G', 'T2G', 'T2G', 'T2G', 'T2G', 'T2G', 'T2G', 'T2G', 'T2G', 'T2G', 'T2G', 'T2G', 'T2G', 'T2G', 'T2G', 'T2G', 'T2G', 'T2G', 'T2G', 'T2G', 'T2G', 'T2G', 'T2G', 'T2G', 'T2G', 'T2G', 'T2G', 'T2G', 'T2G', 'T2G', 'T2G', 'T2D', 'T2G', 'T2G', 'T2G', 'T2G', 'T2D', 'T2G', 'T2G', 'T2G', 'T2G', 'T2G', 'T2G', 'T2G', 'T2G', 'T2G', 'T2G', 'T2G', 'T2G', 'T2G', 'T2G', 'T2G', 'T2G', 'T2G', 'T2G', 'T2G', 'T2G', 'T2G', 'T2G', 'T2G', 'T2G', 'T2G', 'T2G', 'T2G', 'T2G', 'T2G', 'T2G', 'T2G', 'T2G', 'T2G', 'T2G', 'T2G', 'T2G', 'T2G', 'T2G', 'T2G', 'T2G', 'T2G', 'T2G', 'T2G', 'T2G', 'T2G', 'T2G', 'T2G', 'T2G', 'T2G', 'T2G', 'T2G', 'T2G', 'T2G', 'T2G', 'T2G', 'T2G', 'T2G', 'T2G', 'T2G', 'T2G', 'T2G', 'T2G', 'T2G', 'T2G', 'T2G', 'T2G', 'T2G', 'T2G', 'T2G', 'T2G', 'T2G', 'T2G', 'T2G', 'T2G', 'T2G', 'T2G', 'T2G', 'T2G', 'T2G', 'T2G', 'T2G', 'T2G', 'T2G', 'T2G', 'T2G', 'T2G', 'T2G', 'T2G', 'T2G', 'T2G', 'T2G', 'T2G', 'T2G', 'T2G', 'T2G', 'T2G', 'T2G', 'T2G', 'T2G', 'T2G', 'T2G', 'T2G', 'T2G', 'T2G', 'T2G', 'T2G', 'T2G', 'T2G', 'T2G', 'T2G', 'T2G', 'T2G', 'T2G', 'T2G', 'T2G', 'T2G', 'T2G', 'T2G', 'T2G', 'T2G', 'T2G', 'T2G', 'T2G', 'T2G', 'T2G', 'T2G', 'T2G', 'T2G', 'T2G', 'T2G', 'T2G', 'T2G', 'T2G', 'T2G', 'T2G', 'T2G', 'T2G', 'T2G', 'T2G', 'T2G', 'T2G', 'T2G', 'T2G', 'T2G', 'T2G', 'T2G', 'T2G', 'T2G', 'T2G', 'T2D', 'T2G', 'T2G', 'T2G', 'T2G', 'T2G', 'T2G', 'T2G', 'T2G', 'T2G', 'T2G', 'T2G', 'T2G', 'T2G', 'T2G', 'T2G', 'T2G', 'T2G', 'T2G', 'T2G', 'T2G', 'T2G', 'T2G', 'T2G', 'T2G', 'T2G', 'T2G', 'T2G', 'T2G', 'T2G', 'T2G', 'T2G', 'T2G', 'T2G', 'T2G', 'T2G', 'T2G', 'T2G', 'T2G', 'T2G', 'T2G', 'T2G', 'T2G', 'T2G', 'T2G', 'T2G', 'T2G', 'T2G', 'T2G', 'T2G', 'T2G', 'T2G', 'T2G', 'T2G', 'T2G', 'T2G', 'T2G', 'T2G', 'T2G', 'T2G', 'T2G', 'T2G', 'T2G', 'T2D', 'T2G', 'T2G', 'T2G', 'T2G', 'T2G', 'T2G', 'T2G', 'T2G', 'T2G', 'T2G', 'T2G', 'T2G', 'T2G', 'T2D', 'T2G', 'T2G', 'T2G', 'T2G', 'T2G', 'T2G', 'T2G', 'T2G', 'T2G', 'T2G', 'T2G', 'T2G', 'T2G', 'T2G', 'T2G', 'T2G', 'T2G', 'T2G', 'T2G', 'T2G', 'T2G', 'T2G', 'T2G', 'T2G', 'T2G', 'T2G', 'T2G', 'T2G', 'T2G', 'T2G', 'T2G', 'T2G', 'T2G', 'T2G', 'T2G', 'T2G', 'T2G', 'T2G', 'T2G', 'T2G', 'T2G', 'T2G', 'T2G', 'T2G', 'T2G', 'T2G', 'T2G', 'T2G', 'T2G', 'T2G', 'T2G', 'T2G', 'T2G', 'T2G', 'T2G', 'T2G', 'T2G', 'T2G', 'T2G', 'T2G', 'T2G', 'T2G', 'T2G', 'T2G', 'T2G', 'T2G', 'T2G', 'T2G', 'T2G', 'T2G', 'T2G', 'T2G', 'T2G', 'T2G', 'T2G', 'T2G', 'T2G', 'T2G', 'T2G', 'T2G', 'T2G', 'T2G', 'T2G', 'T2G', 'T2G', 'T2G', 'T2G', 'T2G', 'T2G', 'T2G', 'T2G', 'T2G', 'T2G', 'T2G', 'T2G', 'T2G', 'T2G', 'T2D', 'T2G', 'T2G', 'T2G', 'T2G', 'T2G', 'T2G', 'T2G', 'T2G', 'T2G', 'T2G', 'T2G', 'T2G', 'T2G', 'T2G', 'T2G', 'T2G', 'T2G', 'T2G', 'T2G', 'T2G', 'T2G', 'T2G', 'T2G', 'T2G', 'T2G', 'T2G', 'T2G', 'T2G', 'T2G', 'T2G', 'T2G', 'T2G', 'T2G', 'T2G', 'T2G', 'T2G', 'T2G', 'T2G', 'T2G', 'T2G', 'T2G', 'T2G', 'T2G', 'T2G', 'T2G', 'T2G', 'T2G', 'T2G', 'T2G', 'T2G', 'T2G', 'T2G', 'T2G', 'T2D', 'T2G', 'T2G', 'T2G', 'T2G', 'T2G', 'T2G', 'T2G', 'T2G', 'T2G', 'T2G', 'T2D', 'T2G', 'T2G', 'T2G', 'T2G', 'T2G', 'T2G', 'T2G', 'T2G', 'T2G', 'T2G', 'T2G', 'T2G', 'T2G', 'T2G', 'T2G', 'T2G', 'T2G', 'T2G', 'T2G', 'T2G', 'T2G', 'T2G', 'T2G', 'T2G', 'T2G', 'T2G', 'T2G', 'T2G', 'T2G', 'T2G', 'T2G', 'T2G', 'T2G', 'T2G', 'T2G', 'T2G', 'T2G', 'T2G', 'T2G', 'T2G', 'T2G', 'T2G', 'T2G', 'T2G', 'T2G', 'T2G', 'T2D', 'T2G', 'T2G', 'T2G', 'T2G', 'T2G', 'T2D', 'T2G', 'T2G', 'T2G', 'T2G', 'T2G', 'T2G', 'T2G', 'T2G', 'T2G', 'T2G', 'T2D', 'T2G', 'T2G', 'T2G', 'T2G', 'T2G', 'T2G', 'T2G', 'T2G', 'T2G', 'T2G', 'T2G', 'T2G', 'T2G', 'T2G', 'T2G', 'T2G', 'T2G', 'T2G', 'T2G', 'T2G', 'T2G', 'T2G', 'T2G', 'T2G', 'T2G', 'T2G', 'T2G', 'T2G', 'T2G', 'T2G', 'T2G', 'T2G', 'T2G', 'T2G', 'T2G', 'T2G', 'T2G', 'T2G', 'T2G', 'T2G', 'T2G', 'T2G', 'T2G', 'T2G', 'T2G', 'T2G', 'T2D', 'T2G', 'T2G', 'T2G', 'T2G', 'T2G', 'T2G', 'T2G', 'T2G', 'T2G', 'T2G', 'T2G', 'T2G', 'T2G', 'T2G', 'T2G', 'T2G', 'T2G', 'T2G', 'T2G', 'T2G', 'T2G', 'T2G', 'T2G', 'T2G', 'T2G', 'T2G', 'T2G', 'T2G', 'T2G', 'T2G', 'T2G', 'T2G', 'T2G', 'T2G', 'T2G', 'T2G', 'T2G', 'T2G', 'T2D', 'T2G', 'T2G', 'T2G', 'T2G', 'T2G', 'T2G', 'T2G', 'T2G', 'T2G', 'T2G', 'T2G', 'T2G', 'T2G', 'T2G', 'T2G', 'T2G', 'T2G', 'T2G', 'T2G', 'T2G', 'T2G', 'T2G', 'T2G', 'T2G', 'T2G', 'T2G', 'T2G', 'T2G', 'T2G', 'T2G', 'T2G', 'T2G', 'T2G', 'T2G', 'T2G', 'T2G', 'T2G', 'T2G', 'T2G', 'T2G', 'T2G', 'T2G', 'T2G', 'T2G', 'T2G', 'T2G', 'T2G', 'T2G', 'T2G', 'T2D', 'T2G', 'T2G', 'T2G', 'T2G', 'T2G', 'T2G', 'T2G', 'T2G', 'T2G', 'T2G', 'T2G', 'T2G', 'T2G', 'T2G', 'T2G', 'T2G', 'T2G', 'T2G', 'T2G', 'T2G', 'T2G', 'T2G', 'T2G', 'T2G', 'T2G', 'T2G', 'T2G', 'T2G', 'T2G', 'T2G', 'T2G', 'T2G', 'T2G', 'T2G', 'T2G', 'T2G', 'T2G', 'T2G', 'T2G', 'T2G', 'T2G', 'T2G', 'T2G', 'T2G', 'T2G', 'T2G', 'T2G', 'T2G', 'T2G', 'T2G', 'T2G', 'T2G', 'T2G', 'T2G', 'T2G', 'T2G', 'T2G', 'T2G', 'T2G', 'T2G', 'T2G', 'T2G', 'T2G', 'T2G', 'T2G', 'T2G', 'T2G', 'T2G', 'T2G', 'T2G', 'T2G', 'T2G', 'T2G', 'T2G', 'T2G', 'T2G', 'T2G', 'T2G', 'T2G', 'T2G', 'T2G', 'T2G', 'T2G', 'T2G', 'T2G', 'T2G', 'T2G', 'T2G', 'T2G', 'T2G', 'T2G', 'T2G', 'T2G', 'T2G', 'T2G', 'T2G', 'T2G', 'T2G', 'T2G', 'T2G', 'T2G', 'T2G', 'T2G', 'T2G', 'T2G', 'T2G', 'T2G', 'T2G', 'T2G', 'T2G', 'T2G', 'T2G', 'T2G', 'T2G', 'T2D', 'T2G', 'T2G', 'T2G', 'T2D', 'T2G', 'T2G', 'T2G', 'T2G', 'T2G', 'T2G', 'T2G', 'T2G', 'T2G', 'T2G', 'T2G', 'T2G', 'T2G', 'T2G', 'T2G', 'T2G', 'T2G', 'T2G', 'T2G', 'T2G', 'T2G', 'T2G', 'T2G', 'T2G', 'T2G', 'T2G', 'T2G', 'T2G', 'T2G', 'T2G', 'T2G', 'T2G', 'T2G', 'T2G', 'T2G', 'T2G', 'T2G', 'T2D', 'T2G', 'T2G', 'T2G', 'T2G', 'T2G', 'T2G', 'T2G', 'T2G', 'T2G', 'T2G', 'T2G', 'T2D', 'T2G', 'T2G', 'T2G', 'T2G', 'T2G', 'T2G', 'T2G', 'T2G', 'T2G', 'T2G', 'T2G', 'T2G', 'T2G', 'T2G', 'T2G', 'T2G', 'T2G', 'T2G', 'T2G', 'T2G', 'T2G', 'T2G', 'T2G', 'T2G', 'T2G', 'T2G', 'T2G', 'T2G', 'T2G', 'T2G', 'T2G', 'T2G', 'T2G', 'T2G', 'T2D', 'T2G', 'T2G', 'T2D', 'T2G', 'T2G', 'T2G', 'T2G', 'T2G', 'T2D', 'T2G', 'T2G', 'T2G', 'T2G', 'T2G', 'T2G', 'T2G', 'T2G', 'T2G', 'T2G', 'T2G', 'T2G', 'T2G', 'T2G', 'T2G', 'T2G', 'T2G', 'T2G', 'T2G', 'T2G', 'T2G', 'T2G', 'T2G', 'T2G', 'T2G', 'T2G', 'T2G', 'T2G', 'T2G', 'T2G', 'T2G', 'T2G', 'T2G', 'T2G', 'T2G', 'T2G', 'T2G', 'T2G', 'T2G', 'T2G', 'T2G', 'T2G', 'T2G', 'T2G', 'T2G', 'T2G', 'T2G', 'T2G', 'T2G', 'T2G', 'T2G', 'T2G', 'T2G', 'T2G', 'T2G', 'T2G', 'T2G', 'T2G', 'T2G', 'T2G', 'T2G', 'T2G', 'T2G', 'T2G', 'T2G', 'T2G', 'T2G', 'T2G', 'T2D', 'T2G', 'T2G', 'T2G', 'T2G', 'T2G', 'T2G', 'T2G', 'T2G', 'T2G', 'T2G', 'T2G', 'T2G', 'T2G', 'T2G', 'T2G', 'T2G', 'T2G', 'T2G', 'T2G', 'T2G', 'T2G', 'T2G', 'T2G', 'T2G', 'T2G', 'T2G', 'T2G', 'T2G', 'T2G', 'T2G', 'T2G', 'T2G', 'T2G', 'T2G', 'T2G', 'T2G', 'T2G', 'T2G', 'T2G', 'T2G', 'T2D', 'T2G', 'T2G', 'T2G', 'T2G', 'T2G', 'T2G', 'T2G', 'T2G', 'T2G', 'T2G', 'T2G', 'T2G', 'T2G', 'T2G', 'T2G', 'T2G', 'T2G', 'T2G', 'T2G', 'T2G', 'T2G', 'T2G', 'T2G', 'T2G', 'T2G', 'T2G', 'T2G', 'T2G', 'T2G', 'T2G', 'T2G', 'T2G', 'T2G', 'T2G', 'T2G', 'T2G', 'T2G', 'T2G', 'T2G', 'T2G', 'T2D', 'T2G', 'T2G', 'T2G', 'T2G', 'T2G', 'T2G', 'T2G', 'T2G', 'T2G', 'T2G', 'T2G', 'T2G', 'T2G', 'T2G', 'T2G', 'T2G', 'T2G', 'T2D', 'T2G', 'T2G', 'T2G', 'T2G', 'T2G', 'T2G', 'T2G', 'T2G', 'T2G', 'T2G', 'T2G', 'T2G', 'T2G', 'T2G', 'T2G', 'T2G', 'T2G', 'T2G', 'T2G', 'T2G', 'T2G', 'T2G', 'T2G', 'T2G', 'T2G', 'T2G', 'T2G', 'T2G', 'T2G', 'T2G', 'T2G', 'T2G', 'T2G', 'T2G', 'T2G', 'T2G', 'T2G', 'T2G', 'T2G', 'T2G', 'T2G', 'T2G', 'T2G', 'T2G', 'T2G', 'T2G', 'T2G', 'T2G', 'T2G', 'T2G', 'T2G', 'T2G', 'T2G', 'T2G', 'T2G', 'T2G', 'T2G', 'T2G', 'T2G', 'T2G', 'T2G', 'T2G', 'T2G', 'T2G', 'T2G', 'T2G', 'T2G', 'T2G', 'T2G', 'T2G', 'T2G', 'T2G', 'T2G', 'T2G', 'T2G', 'T2G', 'T2G', 'T2G', 'T2G', 'T2G', 'T2G', 'T2G', 'T2G', 'T2G', 'T2G', 'T2G', 'T2G', 'T2G', 'T2D', 'T2G', 'T2G', 'T2G', 'T2G', 'T2G', 'T2G', 'T2G', 'T2G', 'T2G', 'T2G', 'T2G', 'T2G', 'T2G', 'T2G', 'T2G', 'T2G', 'T2G', 'T2G', 'T2G', 'T2G', 'T2G', 'T2G', 'T2G', 'T2G', 'T2G', 'T2G', 'T2G', 'T2G', 'T2D', 'T2G', 'T2G', 'T2G', 'T2G', 'T2G', 'T2G', 'T2G', 'T2G', 'T2G', 'T2G', 'T2G', 'T2G', 'T2G', 'T2G', 'T2G', 'T2G', 'T2G', 'T2G', 'T2G', 'T2G', 'T2G', 'T2G', 'T2G', 'T2G', 'T2G', 'T2G', 'T2G', 'T2G', 'T2G', 'T2G', 'T2G', 'T2G', 'T2G', 'T2G', 'T2G', 'T2G', 'T2G', 'T2G', 'T2G', 'T2G', 'T2G', 'T2G', 'T2G', 'T2G', 'T2G', 'T2G', 'T2D', 'T2G', 'T2G', 'T2G', 'T2G', 'T2G', 'T2G', 'T2G', 'T2G', 'T2G', 'T2G', 'T2G', 'T2G', 'T2G', 'T2G', 'T2G', 'T2G', 'T2G', 'T2G', 'T2G', 'T2G', 'T2G', 'T2G', 'T2G', 'T2G', 'T2G', 'T2G', 'T2G', 'T2G', 'T2G', 'T2G', 'T2G', 'T2G', 'T2G', 'T2G', 'T2G', 'T2G', 'T2G', 'T2G', 'T2G', 'T2G', 'T2G', 'T2G', 'T2G', 'T2G', 'T2G', 'T2G', 'T2G', 'T2G', 'T2G', 'T2G', 'T2G', 'T2G', 'T2G', 'T2G', 'T2G', 'T2G', 'T2G', 'T2G', 'T2G', 'T2G', 'T2G', 'T2G', 'T2G', 'T2G', 'T2G', 'T2G', 'T2G', 'T2G', 'T2G', 'T2G', 'T2G', 'T2G', 'T2G', 'T2G', 'T2G', 'T2G', 'T2G', 'T2G', 'T2G', 'T2G', 'T2G', 'T2G', 'T2G', 'T2G', 'T2G', 'T2G', 'T2G', 'T2G', 'T2G', 'T2G', 'T2G', 'T2G', 'T2G', 'T2G', 'T2G', 'T2G', 'T2G', 'T2G', 'T2D', 'T2G', 'T2G', 'T2G', 'T2G', 'T2G', 'T2G', 'T2G', 'T2G', 'T2G', 'T2G', 'T2G', 'T2G', 'T2G', 'T2G', 'T2G', 'T2G', 'T2G', 'T2G', 'T2G', 'T2G', 'T2G', 'T2G', 'T2G', 'T2G', 'T2G', 'T2G', 'T2G', 'T2G', 'T2G', 'T2G', 'T2G', 'T2G', 'T2G', 'T2G', 'T2G', 'T2G', 'T2G', 'T2G', 'T2G', 'T2G', 'T2G', 'T2G', 'T2G', 'T2G', 'T2G', 'T2G', 'T2G', 'T2G', 'T2G', 'T2G', 'T2G', 'T2G', 'T2G', 'T2G', 'T2G', 'T2G', 'T2G', 'T2G', 'T2G', 'T2G', 'T2G', 'T2G', 'T2G', 'T2G', 'T2G', 'T2G', 'T2G', 'T2G', 'T2G', 'T2G', 'T2G', 'T2G', 'T2G', 'T2G', 'T2G', 'T2G', 'T2G', 'T2G', 'T2G', 'T2G', 'T2G', 'T2G', 'T2G', 'T2G', 'T2G', 'T2G', 'T2G', 'T2G', 'T2G', 'T2G', 'T2G', 'T2G', 'T2G', 'T2G', 'T2G', 'T2G', 'T2G', 'T2G', 'T2G', 'T2G', 'T2G', 'T2G', 'T2G', 'T2G', 'T2G', 'T2G', 'T2G', 'T2G', 'T2G', 'T2G', 'T2G', 'T2G', 'T2G', 'T2G', 'T2G', 'T2G', 'T2G', 'T2G', 'T2G', 'T2G', 'T2G', 'T2G', 'T2G', 'T2G', 'T2G', 'T2G', 'T2G', 'T2D', 'T2G', 'T2G', 'T2G', 'T2G', 'T2G', 'T2G', 'T2G', 'T2G', 'T2G', 'T2G', 'T2G', 'T2G', 'T2G', 'T2G', 'T2G', 'T2G', 'T2G', 'T2G', 'T2G', 'T2G', 'T2G', 'T2G', 'T2G', 'T2G', 'T2G', 'T2G', 'T2G', 'T2G', 'T2G', 'T2G', 'T2G', 'T2G', 'T2G', 'T2G', 'T2G', 'T2G', 'T2G', 'T2G', 'T2G', 'T2G', 'T2G', 'T2G', 'T2G', 'T2D', 'T2G', 'T2G', 'T2G', 'T2G', 'T2G', 'T2G', 'T2G', 'T2G', 'T2G', 'T2G', 'T2G', 'T2G', 'T2G', 'T2G', 'T2G', 'T2G', 'T2G', 'T2G', 'T2G', 'T2G', 'T2G', 'T2G', 'T2G', 'T2G', 'T2G', 'T2G', 'T2G', 'T2G', 'T2G', 'T2G', 'T2G', 'T2G', 'T2G', 'T2G', 'T2G', 'T2G', 'T2G', 'T2G', 'T2G', 'T2G', 'T2G', 'T2G', 'T2G', 'T2G', 'T2G', 'T2G', 'T2G', 'T2G', 'T2G', 'T2G', 'T2G', 'T2G', 'T2G', 'T2G', 'T2G', 'T2G', 'T2G', 'T2G', 'T2G', 'T2G', 'T2G', 'T2G', 'T2G', 'T2G', 'T2G', 'T2G', 'T2G', 'T2G', 'T2G', 'T2G', 'T2G', 'T2G', 'T2G', 'T2G', 'T2G', 'T2D', 'T2G', 'T2G', 'T2G', 'T2G', 'T2G', 'T2G', 'T2G', 'T2G', 'T2G', 'T2G', 'T2G', 'T2G', 'T2G', 'T2G', 'T2G', 'T2G', 'T2G', 'T2G', 'T2G', 'T2G', 'T2G', 'T2G', 'T2G', 'T2G', 'T2G', 'T2G', 'T2G', 'T2G', 'T2G', 'T2G', 'T2G', 'T2G', 'T2G', 'T2G', 'T2G', 'T2G', 'T2G', 'T2G', 'T2G', 'T2G', 'T2G', 'T2G', 'T2G', 'T2G', 'T2G', 'T2G', 'T2G', 'T2G', 'T2G', 'T2G', 'T2G', 'T2G', 'T2G', 'T2G', 'T2G', 'T2G', 'T2G', 'T2G', 'T2G', 'T2G', 'T2G', 'T2G', 'T2G', 'T2G', 'T2G', 'T2G', 'T2G', 'T2G', 'T2D', 'T2G', 'T2G', 'T2G', 'T2G', 'T2G', 'T2G', 'T2G', 'T2G', 'T2G', 'T2G', 'T2G', 'T2G', 'T2G', 'T2G', 'T2G', 'T2G', 'T2G', 'T2G', 'T2G', 'T2G', 'T2G', 'T2G', 'T2G', 'T2G', 'T2G', 'T2G', 'T2G', 'T2G', 'T2D', 'T2G', 'T2D', 'T2G', 'T2G', 'T2G', 'T2G', 'T2G', 'T2G', 'T2G', 'T2G', 'T2G', 'T2G', 'T2G', 'T2G', 'T2G', 'T2G', 'T2G', 'T2G', 'T2G', 'T2G', 'T2G', 'T2G', 'T2G', 'T2G', 'T2G', 'T2G', 'T2G', 'T2G', 'T2G', 'T2G', 'T2G', 'T2G', 'T2G', 'T2G', 'T2G', 'T2G', 'T2G', 'T2G', 'T2G', 'T2G', 'T2G', 'T2G', 'T2G', 'T2G', 'T2G', 'T2G', 'T2G', 'T2G', 'T2G', 'T2G', 'T2G', 'T2G', 'T2G', 'T2G', 'T2G', 'T2G', 'T2G', 'T2G', 'T2G', 'T2G', 'T2G', 'T2G', 'T2G', 'T2G', 'T2G', 'T2G', 'T2G', 'T2G', 'T2G', 'T2G', 'T2G', 'T2G', 'T2G', 'T2D', 'T2G', 'T2G', 'T2G', 'T2G', 'T2G', 'T2G', 'T2G', 'T2G', 'T2G', 'T2G', 'T2G', 'T2G', 'T2G', 'T2G', 'T2G', 'T2G', 'T2G', 'T2G', 'T2G', 'T2G', 'T2G', 'T2G', 'T2G', 'T2G', 'T2G', 'T2G', 'T2G', 'T2G', 'T2G', 'T2G', 'T2G', 'T2G', 'T2G', 'T2G', 'T2G', 'T2G', 'T2G', 'T2G', 'T2G', 'T2G', 'T2G', 'T2G', 'T2G', 'T2G', 'T2G', 'T2G', 'T2G', 'T2G', 'T2G', 'T2G', 'T2G', 'T2G', 'T2G', 'T2D', 'T2G', 'T2G', 'T2G', 'T2G', 'T2G', 'T2G', 'T2G', 'T2G', 'T2G', 'T2G', 'T2G', 'T2G', 'T2G', 'T2G', 'T2G', 'T2G', 'T2G', 'T2G', 'T2G', 'T2G', 'T2G', 'T2G', 'T2G', 'T2G', 'T2G', 'T2D', 'T2G', 'T2G', 'T2G', 'T2G', 'T2G', 'T2G', 'T2G', 'T2G', 'T2G', 'T2G', 'T2G', 'T2G', 'T2G', 'T2G', 'T2G', 'T2G', 'T2G', 'T2G', 'T2G', 'T2G', 'T2G', 'T2G', 'T2G', 'T2G', 'T2G', 'T2G', 'T2G', 'T2G', 'T2G', 'T2G', 'T2G', 'T2G', 'T2G', 'T2G', 'T2G', 'T2G', 'T2G', 'T2G', 'T2G', 'T2G', 'T2G', 'T2G', 'T2G', 'T2G', 'T2G', 'T2G', 'T2G', 'T2G', 'T2G', 'T2G', 'T2G', 'T2G', 'T2G', 'T2G', 'T2G', 'T2G', 'T2G', 'T2G', 'T2G', 'T2G', 'T2G', 'T2G', 'T2G', 'T2G', 'T2G', 'T2G', 'T2G', 'T2G', 'T2G', 'T2G', 'T2G', 'T2G', 'T2G', 'T2G', 'T2G', 'T2G', 'T2G', 'T2G', 'T2G', 'T2G', 'T2G', 'T2G', 'T2G', 'T2G', 'T2G', 'T2G', 'T2G', 'T2G', 'T2G', 'T2G', 'T2G', 'T2G', 'T2G', 'T2G', 'T2G', 'T2G', 'T2G', 'T2G', 'T2G', 'T2G', 'T2G', 'T2G', 'T2G', 'T2G', 'T2G', 'T2G', 'T2G', 'T2G', 'T2G', 'T2G', 'T2G', 'T2G', 'T2G', 'T2G', 'T2G', 'T2G', 'T2G', 'T2G', 'T2G', 'T2G', 'T2G', 'T2G', 'T2G', 'T2G', 'T2G', 'T2G', 'T2G', 'T2G', 'T2G', 'T2G', 'T2G', 'T2G', 'T2G', 'T2G', 'T2G', 'T2G', 'T2G', 'T2G', 'T2G', 'T2G', 'T2G', 'T2G', 'T2G', 'T2G', 'T2G', 'T2G', 'T2G', 'T2G', 'T2G', 'T2G', 'T2G', 'T2G', 'T2G', 'T2G', 'T2G', 'T2G', 'T2G', 'T2G', 'T2G', 'T2G', 'T2G', 'T2G', 'T2G', 'T2G', 'T2G', 'T2G', 'T2G', 'T2G', 'T2G', 'T2G', 'T2G', 'T2G', 'T2G', 'T2G', 'T2G', 'T2G', 'T2G', 'T2G', 'T2G', 'T2G', 'T2G', 'T2G', 'T2G', 'T2G', 'T2G', 'T2G', 'T2G', 'T2G', 'T2G', 'T2G', 'T2G', 'T2G', 'T2G', 'T2G', 'T2G', 'T2G', 'T2G', 'T2G', 'T2G', 'T2G', 'T2G', 'T2G', 'T2G', 'T2G', 'T2G', 'T2D', 'T2G', 'T2G', 'T2G', 'T2G', 'T2G', 'T2G', 'T2G', 'T2G', 'T2G', 'T2G', 'T2G', 'T2G', 'T2G', 'T2G', 'T2G', 'T2G', 'T2D', 'T2G', 'T2G', 'T2G', 'T2D', 'T2G', 'T2G', 'T2G', 'T2D', 'T2G', 'T2G', 'T2G', 'T2G', 'T2G', 'T2G', 'T2G', 'T2G', 'T2G', 'T2G', 'T2G', 'T2G', 'T2G', 'T2G', 'T2G', 'T2G', 'T2G', 'T2G', 'T2G', 'T2G', 'T2G', 'T2G', 'T2G', 'T2G', 'T2G', 'T2G', 'T2G', 'T2G', 'T2G', 'T2G', 'T2G', 'T2G', 'T2G', 'T2G', 'T2G', 'T2G', 'T2G', 'T2D', 'T2G', 'T2G', 'T2G', 'T2G', 'T2G', 'T2G', 'T2G', 'T2G', 'T2D', 'T2G', 'T2G', 'T2G', 'T2G', 'T2G', 'T2G', 'T2G', 'T2G', 'T2G', 'T2G', 'T2G', 'T2G', 'T2G', 'T2G', 'T2G', 'T2G', 'T2G', 'T2G', 'T2G', 'T2G', 'T2G', 'T2G', 'T2G', 'T2G', 'T2D', 'T2G', 'T2G', 'T2G', 'T2G', 'T2D', 'T2G', 'T2G', 'T2G', 'T2G', 'T2G', 'T2G', 'T2G', 'T2G', 'T2G', 'T2G', 'T2G', 'T2G', 'T2G', 'T2G', 'T2G', 'T2G', 'T2G', 'T2G', 'T2G', 'T2G', 'T2G', 'T2G', 'T2G', 'T2G', 'T2G', 'T2G', 'T2G', 'T2G', 'T2G', 'T2G', 'T2G', 'T2G', 'T2G', 'T2G', 'T2G', 'T2G', 'T2G', 'T2G', 'T2G', 'T2G', 'T2G', 'T2G', 'T2G', 'T2G', 'T2G', 'T2G', 'T2G', 'T2G', 'T2G', 'T2G', 'T2G', 'T2G', 'T2G', 'T2G', 'T2G', 'T2G', 'T2G', 'T2G', 'T2G', 'T2G', 'T2G', 'T2G', 'T2G', 'T2G', 'T2G', 'T2G', 'T2G', 'T2G', 'T2G', 'T2G', 'T2G', 'T2D', 'T2G', 'T2G', 'T2G', 'T2G', 'T2G', 'T2G', 'T2G', 'T2G', 'T2G', 'T2G', 'T2G', 'T2G', 'T2G', 'T2G', 'T2G', 'T2G', 'T2G', 'T2G', 'T2G', 'T2G', 'T2G', 'T2G', 'T2G', 'T2G', 'T2G', 'T2G', 'T2G', 'T2G', 'T2G', 'T2G', 'T2G', 'T2G', 'T2G', 'T2G', 'T2G', 'T2G', 'T2G', 'T2D', 'T2G', 'T2G', 'T2G', 'T2D', 'T2G', 'T2G', 'T2G', 'T2G', 'T2G', 'T2G', 'T2G', 'T2G', 'T2G', 'T2G', 'T2G', 'T2G', 'T2G', 'T2G', 'T2G', 'T2G', 'T2G', 'T2G', 'T2G', 'T2G', 'T2G', 'T2G', 'T2G', 'T2G', 'T2G', 'T2G', 'T2G', 'T2G', 'T2G', 'T2G', 'T2G', 'T2G', 'T2D', 'T2G', 'T2G', 'T2G', 'T2G', 'T2G', 'T2G', 'T2G', 'T2G', 'T2G', 'T2G', 'T2G', 'T2G', 'T2G', 'T2G', 'T2G', 'T2G', 'T2G', 'T2G', 'T2G', 'T2G', 'T2G', 'T2G', 'T2G', 'T2G', 'T2G', 'T2G', 'T2G', 'T2G', 'T2G', 'T2G', 'T2G', 'T2G', 'T2G', 'T2G', 'T2G', 'T2G', 'T2G', 'T2G', 'T2G', 'T2D', 'T2G', 'T2G', 'T2G', 'T2G', 'T2G', 'T2G', 'T2G', 'T2G', 'T2G', 'T2G', 'T2G', 'T2G', 'T2G', 'T2G', 'T2G', 'T2G', 'T2G', 'T2G', 'T2G', 'T2G', 'T2G', 'T2G', 'T2G', 'T2G', 'T2G', 'T2G', 'T2G', 'T2G', 'T2G', 'T2G', 'T2G', 'T2G', 'T2G', 'T2G', 'T2G', 'T2G', 'T2G', 'T2G', 'T2G', 'T2G', 'T2G', 'T2G', 'T2G', 'T2G', 'T2G', 'T2G', 'T2G', 'T2G', 'T2G', 'T2G', 'T2G', 'T2D', 'T2G', 'T2G', 'T2G', 'T2G', 'T2G', 'T2G', 'T2G', 'T2G', 'T2G', 'T2G', 'T2G', 'T2G', 'T2G', 'T2G', 'T2G', 'T2G', 'T2G', 'T2G', 'T2G', 'T2G', 'T2G', 'T2G', 'T2G', 'T2G', 'T2G', 'T2G', 'T2G', 'T2G', 'T2G', 'T2G', 'T2G', 'T2G', 'T2G', 'T2G', 'T2G', 'T2G', 'T2G', 'T2G', 'T2G', 'T2G', 'T2G', 'T2G', 'T2G', 'T2G', 'T2G', 'T2G', 'T2G', 'T2G', 'T2G', 'T2G', 'T2G', 'T2G', 'T2G', 'T2G', 'T2G', 'T2G', 'T2G', 'T2G', 'T2G', 'T2G', 'T2G', 'T2G', 'T2G', 'T2G', 'T2G', 'T2G', 'T2G', 'T2G', 'T2G', 'T2G', 'T2G', 'T2G', 'T2G', 'T2G', 'T2G', 'T2G', 'T2G', 'T2G', 'T2G', 'T2G', 'T2D', 'T2G', 'T2G', 'T2G', 'T2G', 'T2G', 'T2G', 'T2G', 'T2G', 'T2G', 'T2G', 'T2G', 'T2D', 'T2G', 'T2G', 'T2G', 'T2G', 'T2G', 'T2G', 'T2G', 'T2G', 'T2G', 'T2G', 'T2G', 'T2G', 'T2G', 'T2G', 'T2G', 'T2G', 'T2G', 'T2G', 'T2G', 'T2G', 'T2G', 'T2G', 'T2D', 'T2G', 'T2G', 'T2G', 'T2G', 'T2G', 'T2G', 'T2G', 'T2G', 'T2G', 'T2G', 'T2G', 'T2G', 'T2G', 'T2D', 'T2G', 'T2G', 'T2G', 'T2G', 'T2G', 'T2G', 'T2G', 'T2G', 'T2G', 'T2G', 'T2G', 'T2G', 'T2G', 'T2G', 'T2G', 'T2G', 'T2G', 'T2G', 'T2G', 'T2G', 'T2G', 'T2G', 'T2G', 'T2G', 'T2G', 'T2G', 'T2G', 'T2G', 'T2G', 'T2G', 'T2G', 'T2G', 'T2G', 'T2D', 'T2G', 'T2G', 'T2G', 'T2G', 'T2G', 'T2G', 'T2G', 'T2G', 'T2G', 'T2G', 'T2G', 'T2G', 'T2G', 'T2G', 'T2G', 'T2G', 'T2G', 'T2G', 'T2G', 'T2G', 'T2G', 'T2G', 'T2G', 'T2G', 'T2G', 'T2G', 'T2G', 'T2G', 'T2G', 'T2G', 'T2G', 'T2G', 'T2G', 'T2G', 'T2G', 'T2G', 'T2G', 'T2G', 'T2G', 'T2G', 'T2G', 'T2G', 'T2G', 'T2G', 'T2D', 'T2G', 'T2G', 'T2G', 'T2G', 'T2G', 'T2G', 'T2G', 'T2G', 'T2G', 'T2G', 'T2G', 'T2G', 'T2G', 'T2G', 'T2G', 'T2G', 'T2G', 'T2G', 'T2D', 'T2G', 'T2G', 'T2G', 'T2G', 'T2G', 'T2G', 'T2G', 'T2G', 'T2G', 'T2G', 'T2G', 'T2G', 'T2G', 'T2G', 'T2G', 'T2G', 'T2G', 'T2G', 'T2G', 'T2G', 'T2G', 'T2G', 'T2G', 'T2G', 'T2G', 'T2G', 'T2G', 'T2G', 'T2G', 'T2G', 'T2G', 'T2G', 'T2G', 'T2G', 'T2G', 'T2G', 'T2G', 'T2G', 'T2G', 'T2G', 'T2G', 'T2G', 'T2G', 'T2G', 'T2G', 'T2G', 'T2G', 'T2G', 'T2G', 'T2D', 'T2G', 'T2G', 'T2G', 'T2G', 'T2G', 'T2G', 'T2G', 'T2G', 'T2G', 'T2G', 'T2G', 'T2G', 'T2G', 'T2G', 'T2G', 'T2G', 'T2G', 'T2G', 'T2G', 'T2G', 'T2G', 'T2G', 'T2G', 'T2G', 'T2G', 'T2G', 'T2G', 'T2G', 'T2G', 'T2G', 'T2G', 'T2G', 'T2G', 'T2G', 'T2G', 'T2G', 'T2G', 'T2G', 'T2G', 'T2G', 'T2G', 'T2G', 'T2G', 'T2G', 'T2G', 'T2G', 'T2G', 'T2G', 'T2G', 'T2G', 'T2G', 'T2G', 'T2G', 'T2G', 'T2G', 'T2G', 'T2G', 'T2G', 'T2G', 'T2G', 'T2G', 'T2G', 'T2G', 'T2G', 'T2G', 'T2G', 'T2G', 'T2G', 'T2G', 'T2G', 'T2G', 'T2G', 'T2G', 'T2G', 'T2G', 'T2G', 'T2G', 'T2G', 'T2G', 'T2G', 'T2G', 'T2G', 'T2G', 'T2G', 'T2G', 'T2G', 'T2G', 'T2G', 'T2G', 'T2G', 'T2G', 'T2D', 'T2G', 'T2G', 'T2G', 'T2G', 'T2G', 'T2G', 'T2G', 'T2G', 'T2G', 'T2G', 'T2G', 'T2G', 'T2G', 'T2G', 'T2G', 'T2G', 'T2G', 'T2G', 'T2G', 'T2G', 'T2G', 'T2G', 'T2G', 'T2G', 'T2G', 'T2G', 'T2G', 'T2G', 'T2G', 'T2G', 'T2G', 'T2G', 'T2G', 'T2G', 'T2G', 'T2G', 'T2G', 'T2G', 'T2G', 'T2G', 'T2G', 'T2G', 'T2G', 'T2G', 'T2G', 'T2G', 'T2G', 'T2G', 'T2G', 'T2G', 'T2G', 'T2G', 'T2G', 'T2G', 'T2G', 'T2G', 'T2G', 'T2G', 'T2G', 'T2G', 'T2G', 'T2G', 'T2G', 'T2G', 'T2G', 'T2G', 'T2G', 'T2G', 'T2G', 'T2G', 'T2G', 'T2G', 'T2G', 'T2G', 'T2G', 'T2G', 'T2G', 'T2G', 'T2G', 'T2G', 'T2G', 'T2G', 'T2G', 'T2G', 'T2G', 'T2G', 'T2G', 'T2G', 'T2G', 'T2G', 'T2G', 'T2G', 'T2G', 'T2G', 'T2G', 'T2G', 'T2G', 'T2G', 'T2G', 'T2G', 'T2G', 'T2G', 'T2G', 'T2G', 'T2G', 'T2G', 'T2G', 'T2G', 'T2G', 'T2G', 'T2G', 'T2G', 'T2G', 'T2G', 'T2G', 'T2G', 'T2G', 'T2G', 'T2G', 'T2G', 'T2G', 'T2G', 'T2G', 'T2G', 'T2G', 'T2G', 'T2G', 'T2G', 'T2G', 'T2D', 'T2G', 'T2G', 'T2G', 'T2D', 'T2G', 'T2G', 'T2G', 'T2G', 'T2G', 'T2G', 'T2G', 'T2G', 'T2G', 'T2G', 'T2G', 'T2G', 'T2G', 'T2G', 'T2G', 'T2G', 'T2G', 'T2G', 'T2G', 'T2G', 'T2G', 'T2G', 'T2G', 'T2G', 'T2G', 'T2G', 'T2G', 'T2G', 'T2G', 'T2G', 'T2G', 'T2G', 'T2D', 'T2G', 'T2G', 'T2G', 'T2G', 'T2G', 'T2G', 'T2G', 'T2G', 'T2G', 'T2G', 'T2G', 'T2G', 'T2G', 'T2G', 'T2G', 'T2G', 'T2G', 'T2G', 'T2G', 'T2G', 'T2G', 'T2G', 'T2G', 'T2G', 'T2G', 'T2G', 'T2G', 'T2G', 'T2G', 'T2G', 'T2G', 'T2G', 'T2G', 'T2G', 'T2G', 'T2G', 'T2G', 'T2G', 'T2G', 'T2G', 'T2G', 'T2G', 'T2G', 'T2G', 'T2G', 'T2G', 'T2G', 'T2G', 'T2G', 'T2G', 'T2D', 'T2G', 'T2G', 'T2G', 'T2G', 'T2G', 'T2G', 'T2G', 'T2G', 'T2G', 'T2G', 'T2G', 'T2G', 'T2G', 'T2G', 'T2G', 'T2G', 'T2G', 'T2G', 'T2G', 'T2G', 'T2G', 'T2G', 'T2G', 'T2G', 'T2G', 'T2G', 'T2G', 'T2G', 'T2G', 'T2G', 'T2G', 'T2G', 'T2G', 'T2G', 'T2G', 'T2G', 'T2G', 'T2G', 'T2G', 'T2D', 'T2G', 'T2G', 'T2G', 'T2G', 'T2G', 'T2G', 'T2G', 'T2G', 'T2G', 'T2G', 'T2G', 'T2G', 'T2G', 'T2G', 'T2G', 'T2G', 'T2G', 'T2G', 'T2G', 'T2G', 'T2G', 'T2G', 'T2G', 'T2G', 'T2G', 'T2G', 'T2G', 'T2G', 'T2G', 'T2G', 'T2G', 'T2G', 'T2G', 'T2G', 'T2G', 'T2G', 'T2G', 'T2G', 'T2G', 'T2G', 'T2G', 'T2G', 'T2G', 'T2G', 'T2G', 'T2G', 'T2G', 'T2G', 'T2G', 'T2G', 'T2G', 'T2G', 'T2G', 'T2G', 'T2G', 'T2G', 'T2G', 'T2G', 'T2G', 'T2G', 'T2G', 'T2G', 'T2G', 'T2G', 'T2G', 'T2G', 'T2G', 'T2G', 'T2G', 'T2G', 'T2G', 'T2G', 'T2G', 'T2G', 'T2G', 'T2G', 'T2G', 'T2G', 'T2G', 'T2G', 'T2G', 'T2G', 'T2G', 'T2G', 'T2G', 'T2G', 'T2G', 'T2G', 'T2G', 'T2G', 'T2G', 'T2G', 'T2G', 'T2G', 'T2G', 'T2G', 'T2G', 'T2G', 'T2G', 'T2G', 'T2G', 'T2G', 'T2G', 'T2G', 'T2G', 'T2G', 'T2G', 'T2G', 'T2G', 'T2G', 'T2G', 'T2G', 'T2G', 'T2G', 'T2G', 'T2D', 'T2G', 'T2G', 'T2G', 'T2G', 'T2G', 'T2G', 'T2G', 'T2G', 'T2G', 'T2G', 'T2G', 'T2G', 'T2G', 'T2G', 'T2G', 'T2G', 'T2G', 'T2G', 'T2G', 'T2G', 'T2G', 'T2G', 'T2G', 'T2G', 'T2G', 'T2G', 'T2G', 'T2G', 'T2G', 'T2G', 'T2G', 'T2G', 'T2G', 'T2G', 'T2G', 'T2D', 'T2G', 'T2G', 'T2G', 'T2G', 'T2G', 'T2G', 'T2G', 'T2G', 'T2G', 'T2G', 'T2G', 'T2G', 'T2G', 'T2G', 'T2G', 'T2G', 'T2G', 'T2G', 'T2G', 'T2G', 'T2G', 'T2G', 'T2G', 'T2G', 'T2G', 'T2G', 'T2G', 'T2G', 'T2G', 'T2G', 'T2G', 'T2G', 'T2G', 'T2G', 'T2G', 'T2G', 'T2G', 'T2G', 'T2G', 'T2G', 'T2G', 'T2G', 'T2G', 'T2G', 'T2G', 'T2G', 'T2G', 'T2G', 'T2G', 'T2G', 'T2G', 'T2G', 'T2G', 'T2G', 'T2G', 'T2G', 'T2G', 'T2G', 'T2G', 'T2G', 'T2G', 'T2G', 'T2G', 'T2G', 'T2G', 'T2G', 'T2G', 'T2G', 'T2G', 'T2G', 'T2G', 'T2G', 'T2G', 'T2G', 'T2G', 'T2G', 'T2G', 'T2D', 'T2G', 'T2G', 'T2G', 'T2G', 'T2G', 'T2G', 'T2G', 'T2D', 'T2G', 'T2G', 'T2G', 'T2G', 'T2G', 'T2G', 'T2G', 'T2G', 'T2G', 'T2G', 'T2G', 'T2G', 'T2D', 'T2G', 'T2G', 'T2G', 'T2G', 'T2G', 'T2G', 'T2G', 'T2G', 'T2G', 'T2G', 'T2G', 'T2G', 'T2G', 'T2G', 'T2G', 'T2G', 'T2G', 'T2G', 'T2G', 'T2G', 'T2G', 'T2G', 'T2G', 'T2G', 'T2G', 'T2G', 'T2G', 'T2G', 'T2G', 'T2G', 'T2G', 'T2G', 'T2G', 'T2G', 'T2G', 'T2D', 'T2G', 'T2G', 'T2G', 'T2G', 'T2G', 'T2G', 'T2D', 'T2G', 'T2G', 'T2G', 'T2G', 'T2G', 'T2G', 'T2G', 'T2G', 'T2G', 'T2G', 'T2G', 'T2G', 'T2G', 'T2G', 'T2G', 'T2G', 'T2G', 'T2G', 'T2G', 'T2G', 'T2G', 'T2G', 'T2G', 'T2G', 'T2G', 'T2G', 'T2G', 'T2G', 'T2G', 'T2G', 'T2G', 'T2G', 'T2G', 'T2G', 'T2G', 'T2G', 'T2G', 'T2G', 'T2G', 'T2G', 'T2G', 'T2G', 'T2G', 'T2G', 'T2G', 'T2G', 'T2G', 'T2G', 'T2G', 'T2G', 'T2G', 'T2G', 'T2G', 'T2G', 'T2G', 'T2G', 'T2G', 'T2G', 'T2G', 'T2G', 'T2G', 'T2G', 'T2G', 'T2G', 'T2G', 'T2G', 'T2G', 'T2G', 'T2G', 'T2G', 'T2G', 'T2G', 'T2G', 'T2G', 'T2G', 'T2G', 'T2G', 'T2G', 'T2G', 'T2G', 'T2G', 'T2G', 'T2G', 'T2G', 'T2G', 'T2G', 'T2G', 'T2G', 'T2G', 'T2G', 'T2G', 'T2G', 'T2G', 'T2G', 'T2G', 'T2G', 'T2D', 'T2G', 'T2G', 'T2G', 'T2D', 'T2G', 'T2G', 'T2G', 'T2G', 'T2G', 'T2G', 'T2D', 'T2G', 'T2G', 'T2G', 'T2G', 'T2G', 'T2G', 'T2G', 'T2G', 'T2G', 'T2G', 'T2D', 'T2G', 'T2D', 'T2G', 'T2G', 'T2G', 'T2G', 'T2G', 'T2G', 'T2G', 'T2G', 'T2G', 'T2G', 'T2G', 'T2G', 'T2G', 'T2G', 'T2G', 'T2G', 'T2G', 'T2G', 'T2G', 'T2G', 'T2G', 'T2G', 'T2G', 'T2G', 'T2G', 'T2G', 'T2G', 'T2G', 'T2G', 'T2G', 'T2G', 'T2G', 'T2G', 'T2D', 'T2G', 'T2G', 'T2G', 'T2G', 'T2G', 'T2G', 'T2G', 'T2G', 'T2G', 'T2G', 'T2G', 'T2G', 'T2G', 'T2G', 'T2G', 'T2G', 'T2G', 'T2G', 'T2G', 'T2G', 'T2D', 'T2G', 'T2G', 'T2G', 'T2G', 'T2G', 'T2G', 'T2G', 'T2G', 'T2G', 'T2G', 'T2G', 'T2G', 'T2G', 'T2G', 'T2G', 'T2G', 'T2G', 'T2G', 'T2G', 'T2G', 'T2G', 'T2G', 'T2G', 'T2G', 'T2G', 'T2G', 'T2G', 'T2G', 'T2G', 'T2G', 'T2G', 'T2G', 'T2G', 'T2G', 'T2G', 'T2G', 'T2G', 'T2G', 'T2G', 'T2G', 'T2G', 'T2G', 'T2G', 'T2G', 'T2G', 'T2G', 'T2G', 'T2G', 'T2G', 'T2G', 'T2G', 'T2G', 'T2G', 'T2G', 'T2G', 'T2G', 'T2G', 'T2G', 'T2G', 'T2G', 'T2G', 'T2G', 'T2G', 'T2G', 'T2G', 'T2G', 'T2G', 'T2D', 'T2G', 'T2G', 'T2G', 'T2G', 'T2G', 'T2G', 'T2G', 'T2G', 'T2G', 'T2G', 'T2G', 'T2G', 'T2G', 'T2G', 'T2G', 'T2G', 'T2G', 'T2G', 'T2G', 'T2G', 'T2G', 'T2G', 'T2G', 'T2G', 'T2G', 'T2G', 'T2G', 'T2G', 'T2G', 'T2G', 'T2G', 'T2G', 'T2G', 'T2G', 'T2G', 'T2G', 'T2G', 'T2G', 'T2G', 'T2G', 'T2G', 'T2G', 'T2G', 'T2G', 'T2G', 'T2G', 'T2G', 'T2G', 'T2G', 'T2G', 'T2G', 'T2G', 'T2G', 'T2G', 'T2G', 'T2G', 'T2G', 'T2G', 'T2G', 'T2G', 'T2G', 'T2G', 'T2G', 'T2G', 'T2G', 'T2G', 'T2G', 'T2G', 'T2G', 'T2G', 'T2G', 'T2G', 'T2G', 'T2G', 'T2G', 'T2G', 'T2G', 'T2G', 'T2G', 'T2G', 'T2G', 'T2G', 'T2G', 'T2G', 'T2G', 'T2G', 'T2G', 'T2G', 'T2G', 'T2G', 'T2G', 'T2G', 'T2G', 'T2G', 'T2G', 'T2G', 'T2G', 'T2G', 'T2G', 'T2G', 'T2G', 'T2G', 'T2G', 'T2G', 'T2G', 'T2D', 'T2G', 'T2G', 'T2G', 'T2G', 'T2G', 'T2G', 'T2G', 'T2G', 'T2G', 'T2G', 'T2G', 'T2G', 'T2G', 'T2G', 'T2G', 'T2G', 'T2G', 'T2G', 'T2G', 'T2G', 'T2G', 'T2G', 'T2G', 'T2G', 'T2G', 'T2G', 'T2G', 'T2G', 'T2G', 'T2G', 'T2G', 'T2G', 'T2G', 'T2G', 'T2G', 'T2G', 'T2G', 'T2G', 'T2G', 'T2G', 'T2G', 'T2G', 'T2G', 'T2G', 'T2G', 'T2G', 'T2G', 'T2G', 'T2G', 'T2G', 'T2G', 'T2G', 'T2G', 'T2G', 'T2G', 'T2G', 'T2G', 'T2G', 'T2G', 'T2G', 'T2G', 'T2G', 'T2G', 'T2G', 'T2G', 'T2G', 'T2G', 'T2G', 'T2G', 'T2G', 'T2G', 'T2G', 'T2G', 'T2G', 'T2G', 'T2D', 'T2G', 'T2G', 'T2G', 'T2G', 'T2G', 'T2G', 'T2G', 'T2G', 'T2G', 'T2G', 'T2G', 'T2G', 'T2G', 'T2G', 'T2G', 'T2G', 'T2G', 'T2G', 'T2G', 'T2G', 'T2G', 'T2G', 'T2G', 'T2G', 'T2G', 'T2G', 'T2G', 'T2G', 'T2G', 'T2G', 'T2G', 'T2G', 'T2G', 'T2G', 'T2G', 'T2G', 'T2G', 'T2G', 'T2G', 'T2G', 'T2G', 'T2G', 'T2G', 'T2G', 'T2G', 'T2G', 'T2G', 'T2G', 'T2G', 'T2G', 'T2G', 'T2G', 'T2G', 'T2G', 'T2G', 'T2G', 'T2G', 'T2G', 'T2D', 'T2G', 'T2G', 'T2G', 'T2G', 'T2G', 'T2G', 'T2G', 'T2G', 'T2G', 'T2G', 'T2G', 'T2G', 'T2G', 'T2G', 'T2G', 'T2G', 'T2G', 'T2G', 'T2G', 'T2G', 'T2G', 'T2G', 'T2G', 'T2G', 'T2G', 'T2G', 'T2G', 'T2G', 'T2G', 'T2G', 'T2G', 'T2G', 'T2G', 'T2G', 'T2G', 'T2G', 'T2G', 'T2G', 'T2G', 'T2G', 'T2G', 'T2G', 'T2G', 'T2G', 'T2G', 'T2G', 'T2G', 'T2G', 'T2G', 'T2G', 'T2G', 'T2G', 'T2G', 'T2G', 'T2G', 'T2G', 'T2G', 'T2G', 'T2G', 'T2G', 'T2G', 'T2G', 'T2G', 'T2G', 'T2G', 'T2G', 'T2G', 'T2G', 'T2G', 'T2G', 'T2G', 'T2G', 'T2G', 'T2G', 'T2G', 'T2G', 'T2G', 'T2D', 'T2G', 'T2G', 'T2G', 'T2G', 'T2G', 'T2G', 'T2G', 'T2G', 'T2G', 'T2G', 'T2G', 'T2G', 'T2G', 'T2G', 'T2G', 'T2G', 'T2G', 'T2G', 'T2G', 'T2G', 'T2G', 'T2D', 'T2G', 'T2G', 'T2G', 'T2G', 'T2G', 'T2G', 'T2G', 'T2G', 'T2G', 'T2G', 'T2G', 'T2G', 'T2G', 'T2G', 'T2G', 'T2G', 'T2G', 'T2G', 'T2G', 'T2G', 'T2G', 'T2G', 'T2G', 'T2G', 'T2G', 'T2G', 'T2G', 'T2G', 'T2G', 'T2G', 'T2G', 'T2G', 'T2G', 'T2G', 'T2G', 'T2G', 'T2G', 'T2G', 'T2G', 'T2G', 'T2G', 'T2G', 'T2G', 'T2G', 'T2G', 'T2G', 'T2G', 'T2G', 'T2G', 'T2G', 'T2G', 'T2G', 'T2G', 'T2G', 'T2G', 'T2G', 'T2G', 'T2G', 'T2G', 'T2G', 'T2G', 'T2G', 'T2G', 'T2G', 'T2G', 'T2G', 'T2G', 'T2G', 'T2G', 'T2G', 'T2G', 'T2G', 'T2G', 'T2G', 'T2G', 'T2G', 'T2G', 'T2G', 'T2G', 'T2G', 'T2D', 'T2G', 'T2G', 'T2G', 'T2G', 'T2G', 'T2G', 'T2G', 'T2G', 'T2G', 'T2G', 'T2G', 'T2G', 'T2G', 'T2G', 'T2G', 'T2G', 'T2G', 'T2G', 'T2G', 'T2G', 'T2G', 'T2G', 'T2G', 'T2G', 'T2G', 'T2G', 'T2G', 'T2G', 'T2G', 'T2G', 'T2G', 'T2G', 'T2G', 'T2G', 'T2G', 'T2G', 'T2G', 'T2G', 'T2G', 'T2G', 'T2G', 'T2G', 'T2G', 'T2G', 'T2G', 'T2G', 'T2G', 'T2G', 'T2G', 'T2G', 'T2G', 'T2G', 'T2G', 'T2G', 'T2G', 'T2G', 'T2G', 'T2G', 'T2G', 'T2G', 'T2G', 'T2G', 'T2G', 'T2G', 'T2G', 'T2G', 'T2G', 'T2G', 'T2G', 'T2G', 'T2G', 'T2G', 'T2G', 'T2G', 'T2G', 'T2G', 'T2G', 'T2G', 'T2G', 'T2G', 'T2G', 'T2G', 'T2G', 'T2G', 'T2G', 'T2G', 'T2G', 'T2G', 'T2G', 'T2G', 'T2G', 'T2G', 'T2G', 'T2G', 'T2G', 'T2G', 'T2G', 'T2G', 'T2D', 'T2G', 'T2G', 'T2G', 'T2G', 'T2G', 'T2G', 'T2G', 'T2G', 'T2G', 'T2G', 'T2G', 'T2G', 'T2D', 'T2G', 'T2G', 'T2G', 'T2G', 'T2G', 'T2G', 'T2G', 'T2G', 'T2G', 'T2G', 'T2D', 'T2G', 'T2G', 'T2G', 'T2G', 'T2G', 'T2G', 'T2G', 'T2D', 'T2G', 'T2G', 'T2G', 'T2G', 'T2G', 'T2G', 'T2G', 'T2G', 'T2G', 'T2G', 'T2G', 'T2G', 'T2G', 'T2G', 'T2G', 'T2G', 'T2G', 'T2G', 'T2G', 'T2G', 'T2G', 'T2G', 'T2G', 'T2G', 'T2G', 'T2G', 'T2G', 'T2G', 'T2G', 'T2G', 'T2G', 'T2G', 'T2G', 'T2G', 'T2G', 'T2G', 'T2G', 'T2G', 'T2G', 'T2G', 'T2G', 'T2G', 'T2G', 'T2G', 'T2G', 'T2G', 'T2G', 'T2G', 'T2G', 'T2G', 'T2G', 'T2G', 'T2G', 'T2G', 'T2G', 'T2G', 'T2G', 'T2G', 'T2G', 'T2G', 'T2G', 'T2G', 'T2G', 'T2G', 'T2G', 'T2G', 'T2G', 'T2G', 'T2G', 'T2G', 'T2G', 'T2G', 'T2G', 'T2G', 'T2D', 'T2G', 'T2G', 'T2G', 'T2G', 'T2G', 'T2G', 'T2G', 'T2G', 'T2G', 'T2G', 'T2G', 'T2G', 'T2G', 'T2G', 'T2G', 'T2G', 'T2G', 'T2G', 'T2G', 'T2G', 'T2G', 'T2G', 'T2G', 'T2G', 'T2G', 'T2G', 'T2G', 'T2G', 'T2G', 'T2G', 'T2G', 'T2G', 'T2G', 'T2G', 'T2G', 'T2G', 'T2G', 'T2G', 'T2G', 'T2G', 'T2G', 'T2G', 'T2G', 'T2G', 'T2G', 'T2G', 'T2G', 'T2G', 'T2G', 'T2G', 'T2G', 'T2G', 'T2G', 'T2G', 'T2G', 'T2G', 'T2G', 'T2G', 'T2G', 'T2G', 'T2G', 'T2G', 'T2G', 'T2G', 'T2G', 'T2G', 'T2G', 'T2G', 'T2G', 'T2G', 'T2G', 'T2G', 'T2G', 'T2G', 'T2G', 'T2G', 'T2G', 'T2D', 'T2G', 'T2G', 'T2G', 'T2G', 'T2G', 'T2G', 'T2G', 'T2G', 'T2G', 'T2G', 'T2G', 'T2G', 'T2G', 'T2G', 'T2G', 'T2G', 'T2G', 'T2G', 'T2G', 'T2G', 'T2G', 'T2G', 'T2G', 'T2G', 'T2G', 'T2G', 'T2G', 'T2G', 'T2G', 'T2G', 'T2G', 'T2G', 'T2G', 'T2G', 'T2G', 'T2G', 'T2G', 'T2G', 'T2G', 'T2G', 'T2G', 'T2G', 'T2G', 'T2G', 'T2G', 'T2G', 'T2G', 'T2G', 'T2G', 'T2G', 'T2G', 'T2G', 'T2G', 'T2G', 'T2G', 'T2G', 'T2G', 'T2G', 'T2G', 'T2G', 'T2G', 'T2G', 'T2G', 'T2G', 'T2G', 'T2G', 'T2G', 'T2G', 'T2G', 'T2G', 'T2G', 'T2G', 'T2G', 'T2G', 'T2G', 'T2G', 'T2G', 'T2G', 'T2G', 'T2G', 'T2G', 'T2G', 'T2G', 'T2G', 'T2D', 'T2G', 'T2G', 'T2G', 'T2G', 'T2G', 'T2G', 'T2G', 'T2G', 'T2G', 'T2G', 'T2G', 'T2G', 'T2G', 'T2G', 'T2G', 'T2G', 'T2G', 'T2G', 'T2G', 'T2G', 'T2G', 'T2G', 'T2G', 'T2G', 'T2G', 'T2G', 'T2G', 'T2G', 'T2G', 'T2G', 'T2G', 'T2G', 'T2G', 'T2G', 'T2G', 'T2G', 'T2G', 'T2G', 'T2G', 'T2G', 'T2G', 'T2G', 'T2G', 'T2G', 'T2G', 'T2G', 'T2G', 'T2G', 'T2G', 'T2G', 'T2G', 'T2G', 'T2G', 'T2G', 'T2G', 'T2G', 'T2G', 'T2G', 'T2G', 'T2G', 'T2G', 'T2G', 'T2G', 'T2G', 'T2G', 'T2G', 'T2G', 'T2G', 'T2G', 'T2G', 'T2G', 'T2G', 'T2G', 'T2G', 'T2G', 'T2G', 'T2G', 'T2G', 'T2G', 'T2G', 'T2G', 'T2G', 'T2G', 'T2G', 'T2G', 'T2G', 'T2G', 'T2G', 'T2G', 'T2G', 'T2G', 'T2G', 'T2G', 'T2G', 'T2G', 'T2G', 'T2G', 'T2G', 'T2G', 'T2G', 'T2G', 'T2G', 'T2G', 'T2G', 'T2G', 'T2G', 'T2G', 'T2G', 'T2G', 'T2D', 'T2G', 'T2G', 'T2G', 'T2G', 'T2D', 'T2G', 'T2G', 'T2G', 'T2D', 'T2G', 'T2G', 'T2G', 'T2G', 'T2G', 'T2G', 'T2G', 'T2G', 'T2G', 'T2G', 'T2D', 'T2G', 'T2G', 'T2G', 'T2G', 'T2G', 'T2G', 'T2D', 'T2G', 'T2G', 'T2G', 'T2G', 'T2G', 'T2G', 'T2G', 'T2G', 'T2G', 'T2G', 'T2G', 'T2G', 'T2D', 'T2G', 'T2G', 'T2G', 'T2G', 'T2G', 'T2G', 'T2G', 'T2G', 'T2G', 'T2G', 'T2G', 'T2G', 'T2G', 'T2G', 'T2G', 'T2G', 'T2G', 'T2G', 'T2G', 'T2G', 'T2G', 'T2G', 'T2G', 'T2G', 'T2G', 'T2D', 'T2G', 'T2G', 'T2G', 'T2G', 'T2G', 'T2G', 'T2G', 'T2G', 'T2G', 'T2G', 'T2G', 'T2G', 'T2G', 'T2G', 'T2G', 'T2G', 'T2G', 'T2G', 'T2G', 'T2G', 'T2G', 'T2G', 'T2G', 'T2G', 'T2G', 'T2G', 'T2G', 'T2G', 'T2G', 'T2G', 'T2G', 'T2G', 'T2G', 'T2G', 'T2G', 'T2G', 'T2G', 'T2G', 'T2G', 'T2G', 'T2G', 'T2G', 'T2G', 'T2G', 'T2G', 'T2G', 'T2G', 'T2G', 'T2G', 'T2G', 'T2G', 'T2G', 'T2G', 'T2G', 'T2G', 'T2G', 'T2G', 'T2G', 'T2G', 'T2G', 'T2G', 'T2G', 'T2G', 'T2G', 'T2G', 'T2G', 'T2G', 'T2G', 'T2G', 'T2G', 'T2G', 'T2G', 'T2G', 'T2G', 'T2G', 'T2G', 'T2G', 'T2G', 'T2G', 'T2G', 'T2G', 'T2G', 'T2G', 'T2G', 'T2G', 'T2G', 'T2G', 'T2G', 'T2G', 'T2G', 'T2G', 'T2G', 'T2G', 'T2G', 'T2G', 'T2G', 'T2G', 'T2G', 'T2G', 'T2G', 'T2G', 'T2G', 'T2G', 'T2G', 'T2G', 'T2G', 'T2G', 'T2G', 'T2G', 'T2G', 'T2D', 'T2G', 'T2G', 'T2G', 'T2G', 'T2G', 'T2G', 'T2G', 'T2G', 'T2G', 'T2G', 'T2G', 'T2G', 'T2G', 'T2G', 'T2G', 'T2G', 'T2G', 'T2G', 'T2G', 'T2G', 'T2G', 'T2G', 'T2G', 'T2G', 'T2G', 'T2G', 'T2G', 'T2G', 'T2G', 'T2G', 'T2G', 'T2G', 'T2G', 'T2G', 'T2G', 'T2G', 'T2G', 'T2G', 'T2G', 'T2G', 'T2G', 'T2G', 'T2G', 'T2G', 'T2G', 'T2G', 'T2G', 'T2G', 'T2G', 'T2G', 'T2G', 'T2G', 'T2G', 'T2G', 'T2G', 'T2G', 'T2G', 'T2G', 'T2G', 'T2G', 'T2G', 'T2G', 'T2G', 'T2G', 'T2G', 'T2G', 'T2G', 'T2G', 'T2G', 'T2G', 'T2G', 'T2G', 'T2G', 'T2G', 'T2G', 'T2G', 'T2G', 'T2G', 'T2G', 'T2G', 'T2G', 'T2G', 'T2G', 'T2G', 'T2G', 'T2G', 'T2G', 'T2G', 'T2G', 'T2G', 'T2G', 'T2G', 'T2G', 'T2G', 'T2G', 'T2G', 'T2G', 'T2G', 'T2G', 'T2G', 'T2G', 'T2G', 'T2G', 'T2G', 'T2G', 'T2G', 'T2G', 'T2G', 'T2G', 'T2G', 'T2G', 'T2G', 'T2G', 'T2G', 'T2G', 'T2G', 'T2G', 'T2G', 'T2G', 'T2G', 'T2G', 'T2G', 'T2G', 'T2G', 'T2G', 'T2G', 'T2G', 'T2G', 'T2G', 'T2G', 'T2G', 'T2G', 'T2G', 'T2G', 'T2G', 'T2G', 'T2G', 'T2G', 'T2G', 'T2G', 'T2G', 'T2G', 'T2G', 'T2G', 'T2G', 'T2G', 'T2G', 'T2G', 'T2G', 'T2G', 'T2G', 'T2G', 'T2D', 'T2G', 'T2G', 'T2G', 'T2G', 'T2G', 'T2G', 'T2G', 'T2G', 'T2G', 'T2G', 'T2G', 'T2G', 'T2G', 'T2G', 'T2G', 'T2G', 'T2G', 'T2G', 'T2G', 'T2G', 'T2G', 'T2G', 'T2G', 'T2G', 'T2G', 'T2G', 'T2G', 'T2G', 'T2G', 'T2G', 'T2G', 'T2G', 'T2G', 'T2G', 'T2G', 'T2G', 'T2G', 'T2G', 'T2G', 'T2G', 'T2G', 'T2G', 'T2G', 'T2G', 'T2G', 'T2G', 'T2G', 'T2G', 'T2G', 'T2G', 'T2G', 'T2G', 'T2G', 'T2G', 'T2G', 'T2G', 'T2G', 'T2G', 'T2G', 'T2G', 'T2G', 'T2G', 'T2G', 'T2G', 'T2G', 'T2G', 'T2G', 'T2G', 'T2G', 'T2G', 'T2G', 'T2G', 'T2G', 'T2G', 'T2G', 'T2G', 'T2G', 'T2G', 'T2G', 'T2G', 'T2G', 'T2G', 'T2G', 'T2G', 'T2G', 'T2G', 'T2G', 'T2G', 'T2G', 'T2G', 'T2G', 'T2G', 'T2G', 'T2G', 'T2G', 'T2G', 'T2G', 'T2G', 'T2G', 'T2G', 'T2G', 'T2G', 'T2G', 'T2G', 'T2G', 'T2G', 'T2G', 'T2G', 'T2G', 'T2G', 'T2G', 'T2G', 'T2G', 'T2G', 'T2G', 'T2G', 'T2G', 'T2G', 'T2G', 'T2G', 'T2G', 'T2G', 'T2G', 'T2G', 'T2G', 'T2G', 'T2G', 'T2G', 'T2G', 'T2G', 'T2G', 'T2G', 'T2G', 'T2G', 'T2G', 'T2G', 'T2G', 'T2G', 'T2G', 'T2G', 'T2G', 'T2G', 'T2G', 'T2G', 'T2G', 'T2G', 'T2G', 'T2G', 'T2G', 'T2G', 'T2G', 'T2G', 'T2G', 'T2G', 'T2G', 'T2G', 'T2G', 'T2G', 'T2G', 'T2G', 'T2G', 'T2G', 'T2G', 'T2G', 'T2G', 'T2G', 'T2G', 'T2G', 'T2G', 'T2G', 'T2G', 'T2G', 'T2G', 'T2G', 'T2G', 'T2G', 'T2G', 'T2G', 'T2G', 'T2G', 'T2G', 'T2G', 'T2G', 'T2G', 'T2G', 'T2G', 'T2G', 'T2G', 'T2G', 'T2G', 'T2G', 'T2G', 'T2G', 'T2G', 'T2G', 'T2G', 'T2G', 'T2G', 'T2G', 'T2G', 'T2G', 'T2G', 'T2G', 'T2D', 'T2G', 'T2G', 'T2G', 'T2G', 'T2G', 'T2G', 'T2G', 'T2G', 'T2G', 'T2G', 'T2G', 'T2G', 'T2G', 'T2G', 'T2G', 'T2G', 'T2G', 'T2G', 'T2G', 'T2G', 'T2G', 'T2G', 'T2G', 'T2G', 'T2G', 'T2G', 'T2G', 'T2G', 'T2G', 'T2G', 'T2G', 'T2G', 'T2G', 'T2G', 'T2G', 'T2G', 'T2G', 'T2G', 'T2G', 'T2G', 'T2G', 'T2G', 'T2G', 'T2G', 'T2G', 'T2G', 'T2G', 'T2G', 'T2G', 'T2G', 'T2G', 'T2G', 'T2G', 'T2G', 'T2G', 'T2G', 'T2G', 'T2G', 'T2G', 'T2G', 'T2G', 'T2G', 'T2G', 'T2G', 'T2G', 'T2G', 'T2G', 'T2G', 'T2G', 'T2G', 'T2G', 'T2G', 'T2G', 'T2G', 'T2G', 'T2G', 'T2G', 'T2G', 'T2G', 'T2G', 'T2G', 'T2G', 'T2G', 'T2G', 'T2G', 'T2G', 'T2G', 'T2G', 'T2G', 'T2G', 'T2G', 'T2G', 'T2G', 'T2G', 'T2G', 'T2G', 'T2G', 'T2G', 'T2G', 'T2G', 'T2G', 'T2G', 'T2G', 'T2G', 'T2G', 'T2G', 'T2G', 'T2G', 'T2G', 'T2G', 'T2G', 'T2G', 'T2G', 'T2G', 'T2G', 'T2G', 'T2G', 'T2G', 'T2G', 'T2G', 'T2G', 'T2G', 'T2G', 'T2G', 'T2G', 'T2G', 'T2G', 'T2G', 'T2G', 'T2G', 'T2G', 'T2G', 'T2G', 'T2G', 'T2G', 'T2G', 'T2G', 'T2G', 'T2G', 'T2G', 'T2G', 'T2G', 'T2G', 'T2G', 'T2G', 'T2G', 'T2G', 'T2G', 'T2G', 'T2G', 'T2G', 'T2G', 'T2G', 'T2G', 'T2G', 'T2G', 'T2G', 'T2G', 'T2G', 'T2G', 'T2G', 'T2G', 'T2G', 'T2G', 'T2G', 'T2G', 'T2G', 'T2G', 'T2G', 'T2G', 'T2G', 'T2G', 'T2G', 'T2G', 'T2G', 'T2G', 'T2D', 'T2G', 'T2G', 'T2G', 'T2G', 'T2G', 'T2G', 'T2G', 'T2G', 'T2G', 'T2G', 'T2G', 'T2G', 'T2G', 'T2G', 'T2G', 'T2G', 'T2G', 'T2G', 'T2G', 'T2G', 'T2G', 'T2G', 'T2G', 'T2G', 'T2G', 'T2G', 'T2G', 'T2G', 'T2G', 'T2G', 'T2G', 'T2G', 'T2G', 'T2G', 'T2G', 'T2G', 'T2G', 'T2G', 'T2G', 'T2G', 'T2G', 'T2G', 'T2G', 'T2G', 'T2G', 'T2G', 'T2G', 'T2G', 'T2G', 'T2G', 'T2G', 'T2G', 'T2G', 'T2G', 'T2G', 'T2G', 'T2G', 'T2G', 'T2G', 'T2G', 'T2G', 'T2G', 'T2G', 'T2D', 'T2G', 'T2G', 'T2G', 'T2G', 'T2G', 'T2G', 'T2G', 'T2D', 'T2G', 'T2G', 'T2G', 'T2G', 'T2G', 'T2G', 'T2G', 'T2G', 'T2G', 'T2G', 'T2G', 'T2G', 'T2G', 'T2G', 'T2G', 'T2G', 'T2G', 'T2G', 'T2G', 'T2G', 'T2G', 'T2G', 'T2G', 'T2G', 'T2G', 'T2G', 'T2G', 'T2G', 'T2G', 'T2G', 'T2G', 'T2G', 'T2D', 'T2G', 'T2G', 'T2G', 'T2G', 'T2G', 'T2G', 'T2G', 'T2D', 'T2G', 'T2G', 'T2D', 'T2G', 'T2G', 'T2G', 'T2G', 'T2G', 'T2G', 'T2G', 'T2G', 'T2G', 'T2G', 'T2D', 'T2G', 'T2G', 'T2G', 'T2G', 'T2G', 'T2G', 'T2G', 'T2G', 'T2G', 'T2G', 'T2G', 'T2G', 'T2G', 'T2G', 'T2G', 'T2D', 'T2G', 'T2G', 'T2G', 'T2G', 'T2D', 'T2G', 'T2G', 'T2G', 'T2G', 'T2G', 'T2G', 'T2G', 'T2G', 'T2G', 'T2G', 'T2G', 'T2G', 'T2G', 'T2G', 'T2G', 'T2G', 'T2G', 'T2G', 'T2G', 'T2G', 'T2G', 'T2G', 'T2G', 'T2G', 'T2G', 'T2G', 'T2G', 'T2G', 'T2G', 'T2G', 'T2G', 'T2G', 'T2G', 'T2G', 'T2G', 'T2G', 'T2G', 'T2G', 'T2G', 'T2G', 'T2G', 'T2G', 'T2G', 'T2G', 'T2G', 'T2G', 'T2G', 'T2G', 'T2G', 'T2G', 'T2G', 'T2G', 'T2G', 'T2G', 'T2G', 'T2G', 'T2G', 'T2G', 'T2G', 'T2G', 'T2G', 'T2G', 'T2G', 'T2G', 'T2G', 'T2G', 'T2G', 'T2G', 'T2G', 'T2G', 'T2G', 'T2G', 'T2G', 'T2G', 'T2G', 'T2G', 'T2G', 'T2G', 'T2G', 'T2G', 'T2G', 'T2G', 'T2G', 'T2G', 'T2G', 'T2G', 'T2G', 'T2G', 'T2G', 'T2G', 'T2G', 'T2G', 'T2G', 'T2G', 'T2G', 'T2G', 'T2G', 'T2G', 'T2D', 'T2G', 'T2G', 'T2G', 'T2G', 'T2G', 'T2G', 'T2G', 'T2G', 'T2G', 'T2G', 'T2G', 'T2G', 'T2G', 'T2G', 'T2G', 'T2G', 'T2G', 'T2G', 'T2G', 'T2G', 'T2G', 'T2G', 'T2G', 'T2D', 'T2G', 'T2G', 'T2G', 'T2G', 'T2G', 'T2G', 'T2G', 'T2G', 'T2G', 'T2G', 'T2G', 'T2G', 'T2D', 'T2G', 'T2G', 'T2G', 'T2G', 'T2G', 'T2G', 'T2G', 'T2G', 'T2G', 'T2G', 'T2G', 'T2G', 'T2G', 'T2G', 'T2G', 'T2G', 'T2G', 'T2G', 'T2G', 'T2G', 'T2G', 'T2G', 'T2G', 'T2G', 'T2G', 'T2G', 'T2G', 'T2G', 'T2G', 'T2G', 'T2G', 'T2G', 'T2G', 'T2G', 'T2G', 'T2G', 'T2G', 'T2G', 'T2G', 'T2G', 'T2G', 'T2G', 'T2G', 'T2G', 'T2G', 'T2G', 'T2G', 'T2G', 'T2G', 'T2G', 'T2G', 'T2G', 'T2G', 'T2G', 'T2G', 'T2G', 'T2G', 'T2G', 'T2G', 'T2G', 'T2G', 'T2G', 'T2G', 'T2G', 'T2G', 'T2G', 'T2G', 'T2G', 'T2G', 'T2G', 'T2G', 'T2G', 'T2G', 'T2G', 'T2G', 'T2G', 'T2G', 'T2G', 'T2G', 'T2G', 'T2G', 'T2G', 'T2G', 'T2G', 'T2G', 'T2G', 'T2G', 'T2G', 'T2G', 'T2G', 'T2G', 'T2G', 'T2G', 'T2G', 'T2G', 'T2G', 'T2G', 'T2G', 'T2G', 'T2G', 'T2G', 'T2G', 'T2G', 'T2G', 'T2G', 'T2G', 'T2G', 'T2G', 'T2G', 'T2G', 'T2G', 'T2G', 'T2G', 'T2G', 'T2G', 'T2G', 'T2G', 'T2G', 'T2G', 'T2G', 'T2G', 'T2G', 'T2G', 'T2G', 'T2G', 'T2G', 'T2G', 'T2G', 'T2G', 'T2G', 'T2G', 'T2G', 'T2G', 'T2G', 'T2G', 'T2G', 'T2G', 'T2G', 'T2G', 'T2D', 'T2G', 'T2G', 'T2G', 'T2G', 'T2G', 'T2G', 'T2G', 'T2G', 'T2G', 'T2G', 'T2G', 'T2G', 'T2G', 'T2G', 'T2G', 'T2G', 'T2G', 'T2G', 'T2G', 'T2G', 'T2G', 'T2G', 'T2G', 'T2G', 'T2G', 'T2G', 'T2G', 'T2G', 'T2G', 'T2G', 'T2G', 'T2G', 'T2G', 'T2G', 'T2G', 'T2G', 'T2G', 'T2G', 'T2G', 'T2G', 'T2G', 'T2G', 'T2G', 'T2G', 'T2G', 'T2G', 'T2G', 'T2D', 'T2G', 'T2G', 'T2G', 'T2G', 'T2G', 'T2G', 'T2G', 'T2G', 'T2G', 'T2G', 'T2G', 'T2G', 'T2G', 'T2G', 'T2D', 'T2G', 'T2G', 'T2G', 'T2G', 'T2G', 'T2G', 'T2G', 'T2G', 'T2G', 'T2G', 'T2G', 'T2G', 'T2G', 'T2G', 'T2G', 'T2G', 'T2G', 'T2G', 'T2G', 'T2G', 'T2G', 'T2G', 'T2G', 'T2G', 'T2G', 'T2G', 'T2G', 'T2G', 'T2G', 'T2G', 'T2G', 'T2G', 'T2G', 'T2G', 'T2G', 'T2G', 'T2G', 'T2G', 'T2G', 'T2G', 'T2G', 'T2G', 'T2G', 'T2D', 'T2G', 'T2G', 'T2G', 'T2G', 'T2G', 'T2G', 'T2G', 'T2G', 'T2G', 'T2G', 'T2G', 'T2G', 'T2G', 'T2G', 'T2G', 'T2G', 'T2G', 'T2G', 'T2G', 'T2G', 'T2G', 'T2G', 'T2G', 'T2G', 'T2G', 'T2G', 'T2G', 'T2G', 'T2G', 'T2G', 'T2G', 'T2G', 'T2G', 'T2G', 'T2G', 'T2G', 'T2G', 'T2G', 'T2D', 'T2G', 'T2G', 'T2G', 'T2G', 'T2G', 'T2G', 'T2G', 'T2D', 'T2G', 'T2G', 'T2G', 'T2G', 'T2G', 'T2G', 'T2G', 'T2G', 'T2G', 'T2G', 'T2G', 'T2G', 'T2G', 'T2G', 'T2G', 'T2G', 'T2G', 'T2G', 'T2G', 'T2G', 'T2G', 'T2G', 'T2G', 'T2G', 'T2G', 'T2G', 'T2G', 'T2G', 'T2G', 'T2G', 'T2G', 'T2G', 'T2G', 'T2G', 'T2G', 'T2G', 'T2G', 'T2G', 'T2D', 'T2G', 'T2G', 'T2G', 'T2D', 'T2G', 'T2G', 'T2G', 'T2G', 'T2G', 'T2G', 'T2G', 'T2G', 'T2G', 'T2G', 'T2G', 'T2G', 'T2G', 'T2G', 'T2G', 'T2G', 'T2G', 'T2G', 'T2G', 'T2G', 'T2G', 'T2G', 'T2G', 'T2G', 'T2G', 'T2G', 'T2G', 'T2G', 'T2G', 'T2G', 'T2G', 'T2G', 'T2G', 'T2G', 'T2G', 'T2G', 'T2G', 'T2G', 'T2G', 'T2G', 'T2G', 'T2G', 'T2G', 'T2G', 'T2G', 'T2G', 'T2G', 'T2G', 'T2G', 'T2G', 'T2G', 'T2G', 'T2G', 'T2G', 'T2G', 'T2G', 'T2G', 'T2G', 'T2G', 'T2G', 'T2G', 'T2G', 'T2G', 'T2G', 'T2G', 'T2G', 'T2G', 'T2G', 'T2G', 'T2G', 'T2G', 'T2G', 'T2G', 'T2G', 'T2G', 'T2G', 'T2G', 'T2G', 'T2G', 'T2G', 'T2G', 'T2G', 'T2G', 'T2G', 'T2G', 'T2G', 'T2G', 'T2G', 'T2G', 'T2G', 'T2G', 'T2G', 'T2G', 'T2G', 'T2G', 'T2G', 'T2G', 'T2G', 'T2G', 'T2G', 'T2G', 'T2G', 'T2G', 'T2G', 'T2G', 'T2G', 'T2G', 'T2G', 'T2G', 'T2G', 'T2G', 'T2G', 'T2G', 'T2G', 'T2G', 'T2G', 'T2G', 'T2G', 'T2G', 'T2G', 'T2G', 'T2G', 'T2G', 'T2G', 'T2G', 'T2G', 'T2G', 'T2G', 'T2G', 'T2G', 'T2G', 'T2G', 'T2G', 'T2G', 'T2G', 'T2G', 'T2G', 'T2G', 'T2G', 'T2G', 'T2G', 'T2G', 'T2G', 'T2G', 'T2G', 'T2G', 'T2G', 'T2G', 'T2G', 'T2G', 'T2G', 'T2G', 'T2G', 'T2G', 'T2G', 'T2G', 'T2G', 'T2G', 'T2G', 'T2G', 'T2G', 'T2G', 'T2G', 'T2G', 'T2G', 'T2G', 'T2D', 'T2G', 'T2G', 'T2G', 'T2G', 'T2G', 'T2G', 'T2G', 'T2G', 'T2G', 'T2G', 'T2G', 'T2G', 'T2G', 'T2G', 'T2G', 'T2G', 'T2G', 'T2G', 'T2G', 'T2G', 'T2G', 'T2G', 'T2G', 'T2G', 'T2G', 'T2G', 'T2G', 'T2G', 'T2G', 'T2G', 'T2G', 'T2G', 'T2G', 'T2G', 'T2G', 'T2G', 'T2G', 'T2G', 'T2G', 'T2G', 'T2G', 'T2G', 'T2G', 'T2G', 'T2G', 'T2G', 'T2G', 'T2G', 'T2G', 'T2G', 'T2G', 'T2G', 'T2G', 'T2G', 'T2G', 'T2G', 'T2G', 'T2G', 'T2G', 'T2G', 'T2G', 'T2G', 'T2G', 'T2G', 'T2G', 'T2G', 'T2G', 'T2G', 'T2G', 'T2G', 'T2G', 'T2G', 'T2G', 'T2G', 'T2G', 'T2G', 'T2G', 'T2G', 'T2G', 'T2G', 'T2G', 'T2G', 'T2G', 'T2G', 'T2G', 'T2G', 'T2G', 'T2G', 'T2G', 'T2G', 'T2G', 'T2G', 'T2G', 'T2G', 'T2G', 'T2G', 'T2G', 'T2G', 'T2G', 'T2G', 'T2G', 'T2G', 'T2G', 'T2D', 'T2G', 'T2G', 'T2G', 'T2G', 'T2G', 'T2G', 'T2D', 'T2G', 'T2G', 'T2G', 'T2G', 'T2G', 'T2G', 'T2G', 'T2G', 'T2G', 'T2G', 'T2G', 'T2G', 'T2G', 'T2G', 'T2G', 'T2G', 'T2G', 'T2G', 'T2G', 'T2G', 'T2G', 'T2G', 'T2G', 'T2G', 'T2G', 'T2G', 'T2G', 'T2G', 'T2G', 'T2G', 'T2G', 'T2G', 'T2G', 'T2G', 'T2G', 'T2G', 'T2G', 'T2G', 'T2G', 'T2G', 'T2G', 'T2G', 'T2G', 'T2G', 'T2G', 'T2G', 'T2G', 'T2G', 'T2G', 'T2G', 'T2G', 'T2G', 'T2G', 'T2G', 'T2G', 'T2G', 'T2G', 'T2G', 'T2G', 'T2G', 'T2G', 'T2G', 'T2G', 'T2G', 'T2G', 'T2G', 'T2G', 'T2G', 'T2G', 'T2G', 'T2G', 'T2G', 'T2D', 'T2G', 'T2G', 'T2G', 'T2G', 'T2G', 'T2G', 'T2G', 'T2G', 'T2G', 'T2G', 'T2G', 'T2G', 'T2G', 'T2G', 'T2G', 'T2G', 'T2G', 'T2G', 'T2G', 'T2G', 'T2G', 'T2G', 'T2G', 'T2G', 'T2G', 'T2G', 'T2G', 'T2G', 'T2G', 'T2G', 'T2G', 'T2G', 'T2G', 'T2G', 'T2G', 'T2G', 'T2G', 'T2G', 'T2G', 'T2G', 'T2G', 'T2G', 'T2G', 'T2G', 'T2G', 'T2G', 'T2G', 'T2G', 'T2G', 'T2G', 'T2G', 'T2G', 'T2G', 'T2G', 'T2G', 'T2G', 'T2G', 'T2G', 'T2G', 'T2G', 'T2G', 'T2G', 'T2D', 'T2G', 'T2G', 'T2G', 'T2G', 'T2G', 'T2G', 'T2G', 'T2G', 'T2G', 'T2G', 'T2G', 'T2G', 'T2G', 'T2G', 'T2G', 'T2G', 'T2G', 'T2D', 'T2G', 'T2G', 'T2G', 'T2G', 'T2G', 'T2G', 'T2G', 'T2G', 'T2G', 'T2G', 'T2G', 'T2G', 'T2G', 'T2G', 'T2G', 'T2G', 'T2G', 'T2G', 'T2G', 'T2G', 'T2G', 'T2G', 'T2G', 'T2G', 'T2G', 'T2G', 'T2G', 'T2D', 'T2G', 'T2G', 'T2G', 'T2G', 'T2G', 'T2D', 'T2G', 'T2G', 'T2G', 'T2G', 'T2G', 'T2G', 'T2G', 'T2G', 'T2G', 'T2G', 'T2G', 'T2G', 'T2G', 'T2G', 'T2G', 'T2G', 'T2G', 'T2G', 'T2G', 'T2G', 'T2G', 'T2G', 'T2G', 'T2G', 'T2G', 'T2G', 'T2G', 'T2G', 'T2G', 'T2G', 'T2G', 'T2G', 'T2G', 'T2G', 'T2G', 'T2G', 'T2G', 'T2G', 'T2G', 'T2D', 'T2G', 'T2G', 'T2G', 'T2G', 'T2G', 'T2G', 'T2G', 'T2G', 'T2G', 'T2G', 'T2G', 'T2G', 'T2G', 'T2G', 'T2G', 'T2G', 'T2G', 'T2D', 'T2G', 'T2G', 'T2G', 'T2G', 'T2G', 'T2G', 'T2G', 'T2G', 'T2G', 'T2G', 'T2G', 'T2G', 'T2G', 'T2G', 'T2G', 'T2G', 'T2G', 'T2G', 'T2G', 'T2G', 'T2G', 'T2G', 'T2G', 'T2G', 'T2G', 'T2G', 'T2G', 'T2G', 'T2G', 'T2G', 'T2G', 'T2G', 'T2G', 'T2G', 'T2G', 'T2G', 'T2G', 'T2G', 'T2D', 'T2G', 'T2G', 'T2G', 'T2G', 'T2G', 'T2G', 'T2G', 'T2G', 'T2G', 'T2G', 'T2G', 'T2G', 'T2G', 'T2G', 'T2G', 'T2G', 'T2G', 'T2G', 'T2G', 'T2G', 'T2G', 'T2G', 'T2G', 'T2G', 'T2G', 'T2G', 'T2G', 'T2G', 'T2G', 'T2G', 'T2G', 'T2G', 'T2G', 'T2G', 'T2G', 'T2G', 'T2G', 'T2G', 'T2G', 'T2G', 'T2G', 'T2G', 'T2G', 'T2G', 'T2G', 'T2G', 'T2G', 'T2G', 'T2G', 'T2G', 'T2G', 'T2G', 'T2D', 'T2G', 'T2G', 'T2G', 'T2G', 'T2G', 'T2G', 'T2G', 'T2G', 'T2G', 'T2G', 'T2G', 'T2G', 'T2G', 'T2G', 'T2G', 'T2G', 'T2G', 'T2G', 'T2G', 'T2G', 'T2G', 'T2G', 'T2G', 'T2G', 'T2G', 'T2G', 'T2G', 'T2G', 'T2G', 'T2G', 'T2G', 'T2G', 'T2G', 'T2G', 'T2G', 'T2G', 'T2G', 'T2G', 'T2G', 'T2G', 'T2G', 'T2G', 'T2G', 'T2G', 'T2G', 'T2G', 'T2G', 'T2G', 'T2G', 'T2G', 'T2G', 'T2G', 'T2G', 'T2G', 'T2G', 'T2G', 'T2G', 'T2G', 'T2G', 'T2G', 'T2G', 'T2G', 'T2G', 'T2G', 'T2G', 'T2G', 'T2G', 'T2G', 'T2G', 'T2G', 'T2G', 'T2G', 'T2G', 'T2G', 'T2G', 'T2G', 'T2G', 'T2G', 'T2G', 'T2G', 'T2G', 'T2G', 'T2G', 'T2G', 'T2G', 'T2G', 'T2G', 'T2G', 'T2G', 'T2G', 'T2G', 'T2G', 'T2G', 'T2G', 'T2G', 'T2G', 'T2G', 'T2G', 'T2G', 'T2G', 'T2G', 'T2G', 'T2G', 'T2G', 'T2G', 'T2G', 'T2G', 'T2G', 'T2G', 'T2G', 'T2G', 'T2G', 'T2G', 'T2G', 'T2G', 'T2G', 'T2G', 'T2G', 'T2G', 'T2G', 'T2G', 'T2G', 'T2G', 'T2G', 'T2G', 'T2G', 'T2G', 'T2G', 'T2G', 'T2G', 'T2G', 'T2G', 'T2G', 'T2G', 'T2G', 'T2G', 'T2G', 'T2G', 'T2G', 'T2G', 'T2G', 'T2G', 'T2D', 'T2G', 'T2G', 'T2G', 'T2G', 'T2G', 'T2G', 'T2G', 'T2G', 'T2G', 'T2G', 'T2G', 'T2G', 'T2G', 'T2G', 'T2G', 'T2G', 'T2G', 'T2G', 'T2G', 'T2G', 'T2G', 'T2G', 'T2G', 'T2G', 'T2G', 'T2G', 'T2G', 'T2G', 'T2G', 'T2G', 'T2G', 'T2G', 'T2G', 'T2G', 'T2G', 'T2G', 'T2G', 'T2G', 'T2G', 'T2G', 'T2G', 'T2G', 'T2G', 'T2G', 'T2G', 'T2G', 'T2G', 'T2G', 'T2G', 'T2G', 'T2G', 'T2D', 'T2G', 'T2G', 'T2G', 'T2G', 'T2G', 'T2G', 'T2G', 'T2G', 'T2G', 'T2G', 'T2G', 'T2G', 'T2G', 'T2G', 'T2G', 'T2G', 'T2G', 'T2G', 'T2G', 'T2G', 'T2G', 'T2G', 'T2G', 'T2G', 'T2G', 'T2G', 'T2G', 'T2G', 'T2G', 'T2G', 'T2G', 'T2G', 'T2G', 'T2G', 'T2G', 'T2G', 'T2G', 'T2G', 'T2G', 'T2G', 'T2G', 'T2G', 'T2G', 'T2G', 'T2G', 'T2G', 'T2G', 'T2G', 'T2G', 'T2G', 'T2G', 'T2G', 'T2G', 'T2G', 'T2G', 'T2G', 'T2G', 'T2G', 'T2G', 'T2G', 'T2G', 'T2G', 'T2G', 'T2G', 'T2G', 'T2G', 'T2G', 'T2G', 'T2G', 'T2G', 'T2G', 'T2G', 'T2G', 'T2G', 'T2G', 'T2G', 'T2G', 'T2G', 'T2G', 'T2G', 'T2G', 'T2G', 'T2G', 'T2G', 'T2G', 'T2G', 'T2G', 'T2G', 'T2G', 'T2G', 'T2G', 'T2G', 'T2G', 'T2G', 'T2G', 'T2G', 'T2G', 'T2G', 'T2G', 'T2G', 'T2G', 'T2G', 'T2G', 'T2G', 'T2G', 'T2G', 'T2G', 'T2G', 'T2G', 'T2G', 'T2G', 'T2G', 'T2G', 'T2G', 'T2G', 'T2G', 'T2G', 'T2G', 'T2G', 'T2G', 'T2G', 'T2G', 'T2G', 'T2G', 'T2G', 'T2G', 'T2G', 'T2G', 'T2G', 'T2G', 'T2G', 'T2G', 'T2G', 'T2G', 'T2G', 'T2G', 'T2G', 'T2G', 'T2G', 'T2G', 'T2G', 'T2D', 'T2G', 'T2G', 'T2G', 'T2G', 'T2G', 'T2G', 'T2G', 'T2G', 'T2G', 'T2G', 'T2G', 'T2G', 'T2G', 'T2G', 'T2G', 'T2G', 'T2G', 'T2G', 'T2G', 'T2G', 'T2G', 'T2G', 'T2G', 'T2G', 'T2G', 'T2G', 'T2G', 'T2G', 'T2G', 'T2G', 'T2G', 'T2G', 'T2G', 'T2G', 'T2G', 'T2G', 'T2G', 'T2G', 'T2G', 'T2G', 'T2G', 'T2G', 'T2G', 'T2G', 'T2G', 'T2G', 'T2G', 'T2G', 'T2G', 'T2G', 'T2G', 'T2G', 'T2G', 'T2G', 'T2G', 'T2G', 'T2G', 'T2G', 'T2G', 'T2G', 'T2G', 'T2G', 'T2G', 'T2G', 'T2G', 'T2G', 'T2G', 'T2G', 'T2G', 'T2G', 'T2G', 'T2G', 'T2G', 'T2G', 'T2D', 'T2G', 'T2G', 'T2G', 'T2G', 'T2G', 'T2G', 'T2G', 'T2G', 'T2G', 'T2G', 'T2G', 'T2G', 'T2G', 'T2G', 'T2G', 'T2G', 'T2G', 'T2G', 'T2G', 'T2G', 'T2G', 'T2G', 'T2G', 'T2G', 'T2G', 'T2G', 'T2G', 'T2G', 'T2G', 'T2D', 'T2G', 'T2G', 'T2G', 'T2G', 'T2G', 'T2D', 'T2G', 'T2G', 'T2G', 'T2G', 'T2G', 'T2G', 'T2G', 'T2G', 'T2G', 'T2G', 'T2G', 'T2G', 'T2G', 'T2G', 'T2G', 'T2G', 'T2G', 'T2G', 'T2G', 'T2G', 'T2G', 'T2G', 'T2G', 'T2G', 'T2G', 'T2G', 'T2G', 'T2G', 'T2G', 'T2G', 'T2G', 'T2G', 'T2G', 'T2G', 'T2G', 'T2G', 'T2G', 'T2G', 'T2G', 'T2G', 'T2G', 'T2G', 'T2G', 'T2G', 'T2G', 'T2G', 'T2G', 'T2G', 'T2G', 'T2G', 'T2G', 'T2G', 'T2G', 'T2G', 'T2G', 'T2G', 'T2G', 'T2G', 'T2G', 'T2G', 'T2G', 'T2G', 'T2D', 'T2G', 'T2G', 'T2G', 'T2G', 'T2G', 'T2G', 'T2G', 'T2G', 'T2G', 'T2G', 'T2G', 'T2G', 'T2G', 'T2G', 'T2G', 'T2G', 'T2D', 'T2G', 'T2G', 'T2G', 'T2G', 'T2G', 'T2G', 'T2G', 'T2G', 'T2G', 'T2G', 'T2G', 'T2G', 'T2G', 'T2G', 'T2G', 'T2G', 'T2G', 'T2G', 'T2G', 'T2G', 'T2G', 'T2G', 'T2G', 'T2G', 'T2G', 'T2G', 'T2G', 'T2G', 'T2G', 'T2G', 'T2G', 'T2G', 'T2G', 'T2G', 'T2G', 'T2G', 'T2G', 'T2G', 'T2G', 'T2G', 'T2G', 'T2G', 'T2G', 'T2G', 'T2G', 'T2G', 'T2G', 'T2G', 'T2G', 'T2G', 'T2G', 'T2G', 'T2G', 'T2G', 'T2G', 'T2G', 'T2G', 'T2G', 'T2G', 'T2G', 'T2G', 'T2G', 'T2G', 'T2G', 'T2G', 'T2G', 'T2G', 'T2G', 'T2G', 'T2G', 'T2G', 'T2G', 'T2G', 'T2G', 'T2G', 'T2G', 'T2G', 'T2G', 'T2G', 'T2G', 'T2G', 'T2G', 'T2G', 'T2G', 'T2G', 'T2G', 'T2G', 'T2G', 'T2G', 'T2G', 'T2G', 'T2G', 'T2G', 'T2G', 'T2G', 'T2G', 'T2G', 'T2G', 'T2D', 'T2G', 'T2G', 'T2G', 'T2G', 'T2G', 'T2G', 'T2G', 'T2G', 'T2G', 'T2G', 'T2D', 'T2G', 'T2G', 'T2G', 'T2G', 'T2G', 'T2G', 'T2G', 'T2G', 'T2G', 'T2G', 'T2G', 'T2G', 'T2G', 'T2G', 'T2G', 'T2G', 'T2G', 'T2G', 'T2G', 'T2G', 'T2G', 'T2G', 'T2G', 'T2G', 'T2G', 'T2G', 'T2G', 'T2G', 'T2G', 'T2G', 'T2G', 'T2G', 'T2G', 'T2G', 'T2G', 'T2G', 'T2D', 'T2G', 'T2G', 'T2G', 'T2G', 'T2G', 'T2G', 'T2G', 'T2G', 'T2G', 'T2G', 'T2G', 'T2G', 'T2G', 'T2G', 'T2G', 'T2G', 'T2D', 'T2G', 'T2G', 'T2G', 'T2G', 'T2G', 'T2G', 'T2G', 'T2G', 'T2G', 'T2G', 'T2G', 'T2G', 'T2G', 'T2G', 'T2G', 'T2G', 'T2G', 'T2G', 'T2G', 'T2G', 'T2G', 'T2G', 'T2G', 'T2G', 'T2G', 'T2G', 'T2G', 'T2G', 'T2G', 'T2G', 'T2G', 'T2G', 'T2G', 'T2G', 'T2G', 'T2G', 'T2G', 'T2G', 'T2G', 'T2G', 'T2G', 'T2G', 'T2G', 'T2G', 'T2G', 'T2G', 'T2G', 'T2G', 'T2G', 'T2G', 'T2G', 'T2G', 'T2G', 'T2G', 'T2G', 'T2G', 'T2G', 'T2G', 'T2G', 'T2G', 'T2G', 'T2G', 'T2G', 'T2G', 'T2G', 'T2G', 'T2G', 'T2D', 'T2G', 'T2G', 'T2G', 'T2G', 'T2G', 'T2G', 'T2G', 'T2G', 'T2G', 'T2D', 'T2G', 'T2G', 'T2G', 'T2G', 'T2G', 'T2G', 'T2G', 'T2G', 'T2G', 'T2G', 'T2G', 'T2G', 'T2G', 'T2G', 'T2G', 'T2G', 'T2G', 'T2D', 'T2G', 'T2G', 'T2G', 'T2G', 'T2G', 'T2G', 'T2G', 'T2G', 'T2G', 'T2G', 'T2G', 'T2G', 'T2G', 'T2G', 'T2G', 'T2G', 'T2G', 'T2G', 'T2D', 'T2G', 'T2G', 'T2G', 'T2G', 'T2G', 'T2G', 'T2G', 'T2G', 'T2G', 'T2G', 'T2G', 'T2G', 'T2G', 'T2G', 'T2G', 'T2G', 'T2G', 'T2G', 'T2G', 'T2G', 'T2D', 'T2G', 'T2G', 'T2G', 'T2G', 'T2G', 'T2G', 'T2G', 'T2G', 'T2G', 'T2G', 'T2G', 'T2G', 'T2G', 'T2D', 'T2G', 'T2G', 'T2G', 'T2G', 'T2G', 'T2G', 'T2G', 'T2G', 'T2G', 'T2G', 'T2G', 'T2D', 'T2G', 'T2G', 'T2G', 'T2G', 'T2G', 'T2G', 'T2G', 'T2G', 'T2G', 'T2G', 'T2G', 'T2G', 'T2G', 'T2G', 'T2G', 'T2G', 'T2G', 'T2G', 'T2G', 'T2G', 'T2G', 'T2G', 'T2G', 'T2G', 'T2G', 'T2G', 'T2G', 'T2G', 'T2G', 'T2G', 'T2G', 'T2G', 'T2G', 'T2G', 'T2G', 'T2G', 'T2G', 'T2G', 'T2G', 'T2G', 'T2G', 'T2G', 'T2G', 'T2G', 'T2G', 'T2G', 'T2G', 'T2G', 'T2G', 'T2G', 'T2G', 'T2G', 'T2G', 'T2G', 'T2G', 'T2G', 'T2G', 'T2G', 'T2G', 'T2G', 'T2G', 'T2G', 'T2G', 'T2G', 'T2G', 'T2G', 'T2G', 'T2G', 'T2G', 'T2G', 'T2G', 'T2G', 'T2G', 'T2G', 'T2G', 'T2G', 'T2G', 'T2G', 'T2G', 'T2G', 'T2G', 'T2G', 'T2G', 'T2G', 'T2G', 'T2G', 'T2G', 'T2G', 'T2G', 'T2G', 'T2G', 'T2G', 'T2G', 'T2G', 'T2G', 'T2G', 'T2G', 'T2G', 'T2G', 'T2G', 'T2G', 'T2G', 'T2G', 'T2G', 'T2G', 'T2G', 'T2G', 'T2G', 'T2G', 'T2G', 'T2G', 'T2G', 'T2G', 'T2G', 'T2G', 'T2G', 'T2G', 'T2G', 'T2G', 'T2G', 'T2G', 'T2G', 'T2G', 'T2G', 'T2G', 'T2G', 'T2G', 'T2G', 'T2G', 'T2G', 'T2G', 'T2G', 'T2G', 'T2G', 'T2G', 'T2G', 'T2G', 'T2G', 'T2G', 'T2G', 'T2G', 'T2G', 'T2G', 'T2G', 'T2G', 'T2G', 'T2G', 'T2G', 'T2G', 'T2G', 'T2G', 'T2G', 'T2G', 'T2G', 'T2G', 'T2G', 'T2G', 'T2G', 'T2G', 'T2G', 'T2G', 'T2G', 'T2G', 'T2G', 'T2G', 'T2G', 'T2G', 'T2G', 'T2G', 'T2G', 'T2G', 'T2G', 'T2G', 'T2G', 'T2G', 'T2G', 'T2G', 'T2G', 'T2G', 'T2G', 'T2G', 'T2G', 'T2G', 'T2G', 'T2G', 'T2G', 'T2G', 'T2G', 'T2G', 'T2G', 'T2G', 'T2G', 'T2G', 'T2G', 'T2G', 'T2G', 'T2G', 'T2G', 'T2G', 'T2G', 'T2G', 'T2G', 'T2G', 'T2G', 'T2G', 'T2G', 'T2G', 'T2G', 'T2G', 'T2G', 'T2G', 'T2G', 'T2G', 'T2G', 'T2G', 'T2G', 'T2G', 'T2G', 'T2G', 'T2G', 'T2G', 'T2G', 'T2G', 'T2G', 'T2G', 'T2G', 'T2G', 'T2G', 'T2G', 'T2G', 'T2G', 'T2G', 'T2G', 'T2D', 'T2G', 'T2D', 'T2G', 'T2G', 'T2G', 'T2G', 'T2G', 'T2G', 'T2G', 'T2G', 'T2G', 'T2G', 'T2G', 'T2G', 'T2G', 'T2G', 'T2G', 'T2G', 'T2G', 'T2G', 'T2G', 'T2G', 'T2G', 'T2G', 'T2G', 'T2G', 'T2G', 'T2G', 'T2G', 'T2G', 'T2G', 'T2G', 'T2G', 'T2G', 'T2G', 'T2G', 'T2G', 'T2G', 'T2G', 'T2G', 'T2D', 'T2G', 'T2G', 'T2G', 'T2G', 'T2G', 'T2G', 'T2G', 'T2G', 'T2G', 'T2G', 'T2D', 'T2G', 'T2G', 'T2G', 'T2G', 'T2G', 'T2G', 'T2G', 'T2G', 'T2G', 'T2G', 'T2G', 'T2G', 'T2G', 'T2G', 'T2G', 'T2G', 'T2G', 'T2G', 'T2G', 'T2G', 'T2G', 'T2G', 'T2G', 'T2G', 'T2G', 'T2G', 'T2G', 'T2G', 'T2G', 'T2G', 'T2G', 'T2G', 'T2G', 'T2D', 'T2G', 'T2G', 'T2G', 'T2G', 'T2G', 'T2G', 'T2G', 'T2G', 'T2G', 'T2G', 'T2G', 'T2G', 'T2G', 'T2G', 'T2G', 'T2G', 'T2G', 'T2G', 'T2G', 'T2G', 'T2G', 'T2G', 'T2G', 'T2G', 'T2G', 'T2G', 'T2G', 'T2G', 'T2G', 'T2G', 'T2G', 'T2G', 'T2G', 'T2G', 'T2G', 'T2G', 'T2G', 'T2G', 'T2G', 'T2G', 'T2G', 'T2G', 'T2G', 'T2G', 'T2G', 'T2G', 'T2G', 'T2G', 'T2G', 'T2G', 'T2G', 'T2G', 'T2G', 'T2G', 'T2G', 'T2G', 'T2G', 'T2G', 'T2G', 'T2G', 'T2G', 'T2G', 'T2G', 'T2G', 'T2G', 'T2G', 'T2G', 'T2G', 'T2G', 'T2G', 'T2G', 'T2G', 'T2G', 'T2G', 'T2G', 'T2G', 'T2G', 'T2G', 'T2G', 'T2G', 'T2G', 'T2G', 'T2G', 'T2G', 'T2G', 'T2G', 'T2G', 'T2G', 'T2G', 'T2G', 'T2G', 'T2G', 'T2G', 'T2G', 'T2G', 'T2G', 'T2G', 'T2G', 'T2G', 'T2G', 'T2G', 'T2G', 'T2G', 'T2G', 'T2G', 'T2G', 'T2G', 'T2G', 'T2G', 'T2G', 'T2G', 'T2G', 'T2G', 'T2G', 'T2G', 'T2G', 'T2G', 'T2G', 'T2G', 'T2G', 'T2G', 'T2G', 'T2G', 'T2G', 'T2G', 'T2G', 'T2G', 'T2G', 'T2G', 'T2G', 'T2G', 'T2G', 'T2G', 'T2G', 'T2G', 'T2G', 'T2G', 'T2G', 'T2G', 'T2G', 'T2G', 'T2G', 'T2G', 'T2G', 'T2G', 'T2G', 'T2G', 'T2G', 'T2G', 'T2G', 'T2G', 'T2G', 'T2G', 'T2G', 'T2G', 'T2G', 'T2G', 'T2G', 'T2G', 'T2G', 'T2G', 'T2G', 'T2G', 'T2G', 'T2G', 'T2G', 'T2G', 'T2G', 'T2G', 'T2G', 'T2G', 'T2G', 'T2G', 'T2G', 'T2G', 'T2G', 'T2G', 'T2G', 'T2G', 'T2G', 'T2G', 'T2G', 'T2G', 'T2G', 'T2G', 'T2G', 'T2G', 'T2G', 'T2G', 'T2G', 'T2G', 'T2G', 'T2G', 'T2G', 'T2G', 'T2G', 'T2G', 'T2G', 'T2G', 'T2G', 'T2G', 'T2G', 'T2G', 'T2G', 'T2G', 'T2G', 'T2G', 'T2G', 'T2G', 'T2G', 'T2G', 'T2G', 'T2G', 'T2G', 'T2G', 'T2G', 'T2G', 'T2G', 'T2G', 'T2G', 'T2G', 'T2G', 'T2G', 'T2G', 'T2G', 'T2G', 'T2G', 'T2G', 'T2G', 'T2G', 'T2G', 'T2G', 'T2G', 'T2G', 'T2G', 'T2D', 'T2G', 'T2G', 'T2G', 'T2G', 'T2G', 'T2G', 'T2G', 'T2G', 'T2G', 'T2G', 'T2G', 'T2G', 'T2G', 'T2G', 'T2D', 'T2G', 'T2G', 'T2G', 'T2G', 'T2G', 'T2G', 'T2G', 'T2G', 'T2G', 'T2G', 'T2G', 'T2G', 'T2G', 'T2G', 'T2G', 'T2G', 'T2G', 'T2G', 'T2G', 'T2G', 'T2G', 'T2G', 'T2G', 'T2G', 'T2G', 'T2G', 'T2D', 'T2G', 'T2G', 'T2G', 'T2G', 'T2G', 'T2G', 'T2G', 'T2G', 'T2G', 'T2G', 'T2G', 'T2G', 'T2G', 'T2G', 'T2G', 'T2G', 'T2G', 'T2G', 'T2D', 'T2G', 'T2G', 'T2G', 'T2G', 'T2G', 'T2G', 'T2G', 'T2G', 'T2G', 'T2G', 'T2G', 'T2G', 'T2G', 'T2G', 'T2G', 'T2G', 'T2G', 'T2G', 'T2G', 'T2D', 'T2G', 'T2G', 'T2G', 'T2G', 'T2G', 'T2G', 'T2G', 'T2G', 'T2G', 'T2G', 'T2G', 'T2G', 'T2G', 'T2G', 'T2G', 'T2G', 'T2D', 'T2G', 'T2G', 'T2G', 'T2G', 'T2G', 'T2G', 'T2G', 'T2G', 'T2G', 'T2G', 'T2G', 'T2G', 'T2G', 'T2G', 'T2G', 'T2G', 'T2G', 'T2G', 'T2G', 'T2G', 'T2G', 'T2G', 'T2G', 'T2G', 'T2G', 'T2G', 'T2G', 'T2G', 'T2G', 'T2G', 'T2G', 'T2G', 'T2G', 'T2G', 'T2G', 'T2G', 'T2G', 'T2G', 'T2G', 'T2G', 'T2G', 'T2G', 'T2G', 'T2G', 'T2G', 'T2G', 'T2G', 'T2G', 'T2G', 'T2G', 'T2G', 'T2G', 'T2G', 'T2G', 'T2G', 'T2G', 'T2G', 'T2G', 'T2G', 'T2G', 'T2G', 'T2G', 'T2G', 'T2G', 'T2G', 'T2G', 'T2G', 'T2G', 'T2G', 'T2G', 'T2G', 'T2G', 'T2G', 'T2G', 'T2G', 'T2G', 'T2G', 'T2G', 'T2G', 'T2G', 'T2G', 'T2G', 'T2G', 'T2G', 'T2G', 'T2G', 'T2G', 'T2G', 'T2G', 'T2G', 'T2G', 'T2G', 'T2G', 'T2G', 'T2G', 'T2G', 'T2G', 'T2G', 'T2G', 'T2G', 'T2G', 'T2G', 'T2G', 'T2G', 'T2G', 'T2G', 'T2G', 'T2G', 'T2G', 'T2G', 'T2G', 'T2G', 'T2G', 'T2G', 'T2G', 'T2G', 'T2G', 'T2G', 'T2G', 'T2G', 'T2G', 'T2G', 'T2G', 'T2G', 'T2G', 'T2G', 'T2G', 'T2G', 'T2G', 'T2G', 'T2G', 'T2G', 'T2G', 'T2G', 'T2G', 'T2G', 'T2G', 'T2G', 'T2G', 'T2G', 'T2G', 'T2G', 'T2G', 'T2G', 'T2G', 'T2G', 'T2G', 'T2G', 'T2G', 'T2G', 'T2G', 'T2G', 'T2G', 'T2G', 'T2G', 'T2G', 'T2G', 'T2G', 'T2G', 'T2G', 'T2G', 'T2G', 'T2G', 'T2G', 'T2G', 'T2G', 'T2G', 'T2G', 'T2G', 'T2G', 'T2D', 'T2G', 'T2G', 'T2G', 'T2D', 'T2G', 'T2G', 'T2G', 'T2G', 'T2G', 'T2G', 'T2G', 'T2G', 'T2G', 'T2G', 'T2G', 'T2G', 'T2G', 'T2G', 'T2G', 'T2G', 'T2D', 'T2G', 'T2G', 'T2G', 'T2G', 'T2G', 'T2D', 'T2G', 'T2G', 'T2G', 'T2G', 'T2G', 'T2G', 'T2G', 'T2G', 'T2G', 'T2G', 'T2G', 'T2G', 'T2G', 'T2G', 'T2G', 'T2G', 'T2G', 'T2G', 'T2G', 'T2G', 'T2G', 'T2G', 'T2G', 'T2G', 'T2G', 'T2G', 'T2G', 'T2G', 'T2G', 'T2G', 'T2G', 'T2G', 'T2G', 'T2G', 'T2G', 'T2G', 'T2G', 'T2G', 'T2G', 'T2G', 'T2G', 'T2G', 'T2G', 'T2G', 'T2G', 'T2G', 'T2G', 'T2G', 'T2G', 'T2G', 'T2G', 'T2G', 'T2G', 'T2G', 'T2G', 'T2G', 'T2G', 'T2G', 'T2G', 'T2G', 'T2G', 'T2G', 'T2G', 'T2G', 'T2G', 'T2G', 'T2G', 'T2G', 'T2G', 'T2G', 'T2G', 'T2G', 'T2G', 'T2G', 'T2G', 'T2G', 'T2G', 'T2G', 'T2G', 'T2G', 'T2G', 'T2G', 'T2G', 'T2G', 'T2G', 'T2G', 'T2G', 'T2G', 'T2G', 'T2G', 'T2G', 'T2G', 'T2G', 'T2G', 'T2G', 'T2G', 'T2G', 'T2G', 'T2G', 'T2G', 'T2G', 'T2G', 'T2G', 'T2G', 'T2G', 'T2G', 'T2D', 'T2G', 'T2G', 'T2G', 'T2G', 'T2G', 'T2G', 'T2G', 'T2G', 'T2G', 'T2G', 'T2G', 'T2G', 'T2G', 'T2G', 'T2G', 'T2G', 'T2G', 'T2G', 'T2G', 'T2G', 'T2G', 'T2D', 'T2G', 'T2D', 'T2G', 'T2G', 'T2G', 'T2G', 'T2G', 'T2G', 'T2G', 'T2G', 'T2G', 'T2G', 'T2G', 'T2G', 'T2G', 'T2G', 'T2G', 'T2G', 'T2G', 'T2G', 'T2G', 'T2G', 'T2G', 'T2G', 'T2D', 'T2G', 'T2G', 'T2G', 'T2D', 'T2G', 'T2G', 'T2D', 'T2G', 'T2G', 'T2G', 'T2G', 'T2G', 'T2G', 'T2G', 'T2G', 'T2G', 'T2G', 'T2G', 'T2G', 'T2G', 'T2G', 'T2G', 'T2G', 'T2G', 'T2G', 'T2G', 'T2G', 'T2G', 'T2G', 'T2G', 'T2G', 'T2G', 'T2G', 'T2G', 'T2G', 'T2D', 'T2G', 'T2G', 'T2G', 'T2G', 'T2G', 'T2G', 'T2G', 'T2G', 'T2G', 'T2G', 'T2G', 'T2G', 'T2G', 'T2G', 'T2G', 'T2G', 'T2G', 'T2G', 'T2G', 'T2G', 'T2G', 'T2G', 'T2G', 'T2G', 'T2G', 'T2G', 'T2G', 'T2G', 'T2G', 'T2G', 'T2G', 'T2G', 'T2G', 'T2G', 'T2G', 'T2G', 'T2G', 'T2G', 'T2G', 'T2G', 'T2G', 'T2G', 'T2G', 'T2G', 'T2G', 'T2G', 'T2G', 'T2G', 'T2G', 'T2G', 'T2G', 'T2G', 'T2G', 'T2G', 'T2G', 'T2G', 'T2G', 'T2G', 'T2G', 'T2G', 'T2G', 'T2G', 'T2G', 'T2G', 'T2G', 'T2G', 'T2G', 'T2G', 'T2G', 'T2G', 'T2G', 'T2G', 'T2G', 'T2G', 'T2G', 'T2G', 'T2G', 'T2G', 'T2G', 'T2G', 'T2G', 'T2G', 'T2G', 'T2G', 'T2G', 'T2G', 'T2G', 'T2G', 'T2G', 'T2G', 'T2G', 'T2G', 'T2G', 'T2G', 'T2G', 'T2G', 'T2D', 'T2G', 'T2G', 'T2G', 'T2G', 'T2G', 'T2G', 'T2G', 'T2G', 'T2G', 'T2G', 'T2G', 'T2G', 'T2G', 'T2G', 'T2G', 'T2G', 'T2G', 'T2G', 'T2G', 'T2G', 'T2G', 'T2G', 'T2G', 'T2G', 'T2G', 'T2G', 'T2G', 'T2G', 'T2G', 'T2G', 'T2G', 'T2G', 'T2G', 'T2G', 'T2G', 'T2G', 'T2G', 'T2G', 'T2G', 'T2G', 'T2G', 'T2G', 'T2G', 'T2G', 'T2G', 'T2G', 'T2G', 'T2G', 'T2G', 'T2G', 'T2G', 'T2G', 'T2G', 'T2G', 'T2G', 'T2G', 'T2G', 'T2G', 'T2G', 'T2G', 'T2G', 'T2G', 'T2G', 'T2G', 'T2G', 'T2G', 'T2G', 'T2G', 'T2G', 'T2G', 'T2G', 'T2G', 'T2G', 'T2G', 'T2G', 'T2G', 'T2G', 'T2G', 'T2G', 'T2G', 'T2G', 'T2G', 'T2G', 'T2G', 'T2G', 'T2G', 'T2G', 'T2G', 'T2G', 'T2G', 'T2G', 'T2G', 'T2G', 'T2G', 'T2G', 'T2G', 'T2G', 'T2G', 'T2G', 'T2G', 'T2G', 'T2G', 'T2G', 'T2G', 'T2G', 'T2G', 'T2G', 'T2G', 'T2G', 'T2G', 'T2G', 'T2G', 'T2G', 'T2G', 'T2G', 'T2G', 'T2G', 'T2G', 'T2G', 'T2G', 'T2G', 'T2G', 'T2D', 'T2G', 'T2G', 'T2G', 'T2G', 'T2G', 'T2G', 'T2G', 'T2G', 'T2G', 'T2G', 'T2G', 'T2G', 'T2G', 'T2G', 'T2G', 'T2G', 'T2G', 'T2G', 'T2G', 'T2G', 'T2G', 'T2G', 'T2G', 'T2G', 'T2G', 'T2G', 'T2G', 'T2G', 'T2G', 'T2G', 'T2G', 'T2G', 'T2G', 'T2G', 'T2G', 'T2G', 'T2G', 'T2G', 'T2G', 'T2G', 'T2G', 'T2G', 'T2G', 'T2G', 'T2G', 'T2G', 'T2G', 'T2G', 'T2G', 'T2G', 'T2G', 'T2G', 'T2G', 'T2G', 'T2G', 'T2G', 'T2G', 'T2G', 'T2G', 'T2G', 'T2G', 'T2G', 'T2G', 'T2G', 'T2G', 'T2G', 'T2G', 'T2G', 'T2G', 'T2G', 'T2G', 'T2G', 'T2G', 'T2G', 'T2G', 'T2G', 'T2G', 'T2G', 'T2G', 'T2G', 'T2D', 'T2G', 'T2G', 'T2G', 'T2G', 'T2D', 'T2G', 'T2G', 'T2G', 'T2G', 'T2G', 'T2G', 'T2G', 'T2G', 'T2G', 'T2G', 'T2G', 'T2G', 'T2G', 'T2G', 'T2G', 'T2G', 'T2G', 'T2G', 'T2G', 'T2G', 'T2G', 'T2G', 'T2G', 'T2G', 'T2G', 'T2G', 'T2G', 'T2G', 'T2G', 'T2D', 'T2G', 'T2G', 'T2G', 'T2G', 'T2G', 'T2G', 'T2G', 'T2G', 'T2G', 'T2G', 'T2G', 'T2G', 'T2G', 'T2G', 'T2G', 'T2G', 'T2G', 'T2G', 'T2G', 'T2G', 'T2G', 'T2G', 'T2G', 'T2G', 'T2G', 'T2G', 'T2G', 'T2G', 'T2G', 'T2G', 'T2G', 'T2G', 'T2G', 'T2G', 'T2G', 'T2G', 'T2G', 'T2G', 'T2G', 'T2G', 'T2G', 'T2G', 'T2G', 'T2G', 'T2G', 'T2G', 'T2G', 'T2G', 'T2G', 'T2G', 'T2G', 'T2G', 'T2D', 'T2G', 'T2G', 'T2G', 'T2G', 'T2G', 'T2G', 'T2G', 'T2G', 'T2G', 'T2G', 'T2G', 'T2G', 'T2G', 'T2G', 'T2G', 'T2G', 'T2G', 'T2G', 'T2G', 'T2G', 'T2G', 'T2G', 'T2G', 'T2G', 'T2G', 'T2G', 'T2G', 'T2G', 'T2G', 'T2G', 'T2G', 'T2G', 'T2G', 'T2G', 'T2G', 'T2G', 'T2G', 'T2G', 'T2G', 'T2D', 'T2G', 'T2G', 'T2G', 'T2G', 'T2G', 'T2G', 'T2G', 'T2G', 'T2G', 'T2G', 'T2G', 'T2G', 'T2G', 'T2G', 'T2G', 'T2D', 'T2G', 'T2G', 'T2G', 'T2G', 'T2G', 'T2G', 'T2G', 'T2G', 'T2G', 'T2G', 'T2G', 'T2G', 'T2G', 'T2G', 'T2G', 'T2G', 'T2G', 'T2G', 'T2G', 'T2G', 'T2G', 'T2G', 'T2G', 'T2G', 'T2G', 'T2G', 'T2G', 'T2G', 'T2G', 'T2G', 'T2G', 'T2G', 'T2G', 'T2G', 'T2G', 'T2G', 'T2G', 'T2G', 'T2G', 'T2G', 'T2G', 'T2G', 'T2G', 'T2D', 'T2G', 'T2G', 'T2G', 'T2G', 'T2G', 'T2G', 'T2D', 'T2G', 'T2G', 'T2G', 'T2G', 'T2G', 'T2G', 'T2G', 'T2G', 'T2G', 'T2G', 'T2G', 'T2G', 'T2G', 'T2G', 'T2G', 'T2G', 'T2G', 'T2G', 'T2G', 'T2G', 'T2G', 'T2G', 'T2G', 'T2G', 'T2G', 'T2G', 'T2G', 'T2G', 'T2G', 'T2G', 'T2G', 'T2G', 'T2G', 'T2G', 'T2G', 'T2G', 'T2G', 'T2G', 'T2G', 'T2G', 'T2G', 'T2G', 'T2G', 'T2G', 'T2G', 'T2G', 'T2D', 'T2G', 'T2G', 'T2G', 'T2G', 'T2G', 'T2G', 'T2G', 'T2G', 'T2G', 'T2G', 'T2G', 'T2G', 'T2G', 'T2G', 'T2G', 'T2G', 'T2G', 'T2G', 'T2G', 'T2G', 'T2G', 'T2G', 'T2G', 'T2G', 'T2G', 'T2G', 'T2G', 'T2G', 'T2G', 'T2G', 'T2G', 'T2G', 'T2G', 'T2G', 'T2G', 'T2G', 'T2G', 'T2G', 'T2G', 'T2G', 'T2D', 'T2G', 'T2G', 'T2G', 'T2G', 'T2G', 'T2G', 'T2G', 'T2G', 'T2G', 'T2G', 'T2G', 'T2G', 'T2G', 'T2G', 'T2G', 'T2G', 'T2G', 'T2G', 'T2G', 'T2D', 'T2G', 'T2G', 'T2G', 'T2G', 'T2G', 'T2G', 'T2G', 'T2G', 'T2G', 'T2G', 'T2G', 'T2G', 'T2G', 'T2G', 'T2G', 'T2G', 'T2G', 'T2G', 'T2G', 'T2G', 'T2G', 'T2G', 'T2G', 'T2D', 'T2G', 'T2G', 'T2G', 'T2G', 'T2G', 'T2G', 'T2G', 'T2G', 'T2G', 'T2G', 'T2G', 'T2G', 'T2G', 'T2G', 'T2G', 'T2G', 'T2G', 'T2G', 'T2G', 'T2G', 'T2G', 'T2G', 'T2G', 'T2G', 'T2G', 'T2G', 'T2G', 'T2G', 'T2G', 'T2G', 'T2G', 'T2G', 'T2G', 'T2G', 'T2G', 'T2G', 'T2G', 'T2G', 'T2G', 'T2G', 'T2G', 'T2G', 'T2G', 'T2G', 'T2G', 'T2G', 'T2G', 'T2G', 'T2G', 'T2G', 'T2G', 'T2G', 'T2G', 'T2G', 'T2G', 'T2G', 'T2G', 'T2G', 'T2G', 'T2G', 'T2G', 'T2G', 'T2G', 'T2G', 'T2G', 'T2G', 'T2G', 'T2G', 'T2G', 'T2G', 'T2G', 'T2G', 'T2D', 'T2G', 'T2G', 'T2G', 'T2G', 'T2G', 'T2G', 'T2G', 'T2G', 'T2G', 'T2G', 'T2G', 'T2G', 'T2G', 'T2G', 'T2G', 'T2G', 'T2G', 'T2G', 'T2G', 'T2G', 'T2G', 'T2G', 'T2G', 'T2G', 'T2G', 'T2G', 'T2G', 'T2D', 'T2G', 'T2G', 'T2G', 'T2G', 'T2G', 'T2G', 'T2G', 'T2G', 'T2G', 'T2G', 'T2G', 'T2G', 'T2G', 'T2G', 'T2G', 'T2G', 'T2G', 'T2G', 'T2G', 'T2G', 'T2G', 'T2G', 'T2G', 'T2G', 'T2G', 'T2G', 'T2G', 'T2G', 'T2G', 'T2G', 'T2G', 'T2G', 'T2G', 'T2G', 'T2G', 'T2G', 'T2D', 'T2G', 'T2G', 'T2D', 'T2G', 'T2G', 'T2G', 'T2G', 'T2G', 'T2G', 'T2G', 'T2D', 'T2G', 'T2G', 'T2G', 'T2G', 'T2G', 'T2G', 'T2G', 'T2G', 'T2G', 'T2G', 'T2G', 'T2G', 'T2G', 'T2G', 'T2G', 'T2G', 'T2G', 'T2G', 'T2G', 'T2G', 'T2G', 'T2G', 'T2G', 'T2G', 'T2G', 'T2G', 'T2G', 'T2G', 'T2G', 'T2G', 'T2G', 'T2G', 'T2G', 'T2G', 'T2G', 'T2G', 'T2G', 'T2G', 'T2G', 'T2G', 'T2G', 'T2G', 'T2G', 'T2G', 'T2G', 'T2G', 'T2G', 'T2G', 'T2G', 'T2G', 'T2G', 'T2G', 'T2G', 'T2G', 'T2G', 'T2G', 'T2G', 'T2G', 'T2G', 'T2G', 'T2G', 'T2G', 'T2G', 'T2G', 'T2G', 'T2G', 'T2G', 'T2G', 'T2G', 'T2G', 'T2G', 'T2G', 'T2G', 'T2G', 'T2G', 'T2D', 'T2G', 'T2G', 'T2G', 'T2G', 'T2G', 'T2G', 'T2G', 'T2G', 'T2G', 'T2G', 'T2G', 'T2G', 'T2G', 'T2G', 'T2D', 'T2G', 'T2G', 'T2G', 'T2G', 'T2G', 'T2G', 'T2G', 'T2G', 'T2G', 'T2G', 'T2G', 'T2G', 'T2G', 'T2G', 'T2D', 'T2G', 'T2G', 'T2G', 'T2G', 'T2G', 'T2G', 'T2G', 'T2G', 'T2G', 'T2G', 'T2G', 'T2G', 'T2G', 'T2G', 'T2G', 'T2G', 'T2G', 'T2G', 'T2D', 'T2G', 'T2G', 'T2G', 'T2G', 'T2G', 'T2G', 'T2G', 'T2G', 'T2G', 'T2G', 'T2G', 'T2G', 'T2G', 'T2G', 'T2G', 'T2G', 'T2G', 'T2G', 'T2G', 'T2G', 'T2G', 'T2G', 'T2G', 'T2G', 'T2G', 'T2G', 'T2G', 'T2G', 'T2D', 'T2G', 'T2G', 'T2G', 'T2G', 'T2G', 'T2G', 'T2G', 'T2G', 'T2G', 'T2G', 'T2G', 'T2G', 'T2G', 'T2D', 'T2G', 'T2G', 'T2G', 'T2G', 'T2G', 'T2G', 'T2G', 'T2G', 'T2G', 'T2G', 'T2G', 'T2G', 'T2G', 'T2G', 'T2G', 'T2G', 'T2G', 'T2G', 'T2G', 'T2G', 'T2G', 'T2G', 'T2G', 'T2G', 'T2G', 'T2G', 'T2G', 'T2G', 'T2G', 'T2G', 'T2G', 'T2G', 'T2G', 'T2G', 'T2G', 'T2G', 'T2G', 'T2G', 'T2G', 'T2G', 'T2G', 'T2G', 'T2G', 'T2G', 'T2G', 'T2G', 'T2G', 'T2G', 'T2G', 'T2G', 'T2G', 'T2G', 'T2G', 'T2G', 'T2G', 'T2G', 'T2G', 'T2G', 'T2G', 'T2G', 'T2G', 'T2G', 'T2G', 'T2G', 'T2G', 'T2G', 'T2G', 'T2G', 'T2G', 'T2G', 'T2G', 'T2G', 'T2G', 'T2G', 'T2G', 'T2G', 'T2G', 'T2G', 'T2G', 'T2G', 'T2G', 'T2G', 'T2G', 'T2G', 'T2G', 'T2G', 'T2G', 'T2G', 'T2G', 'T2G', 'T2G', 'T2G', 'T2G', 'T2G', 'T2G', 'T2G', 'T2G', 'T2G', 'T2G', 'T2G', 'T2G', 'T2G', 'T2G', 'T2G', 'T2G', 'T2G', 'T2G', 'T2G', 'T2G', 'T2G', 'T2G', 'T2G', 'T2G', 'T2G', 'T2G', 'T2D', 'T2G', 'T2G', 'T2G', 'T2G', 'T2G', 'T2G', 'T2G', 'T2G', 'T2G', 'T2G', 'T2G', 'T2G', 'T2G', 'T2G', 'T2G', 'T2G', 'T2G', 'T2G', 'T2G', 'T2G', 'T2G', 'T2G', 'T2G', 'T2G', 'T2G', 'T2G', 'T2G', 'T2G', 'T2G', 'T2G', 'T2G', 'T2G', 'T2G', 'T2G', 'T2G', 'T2G', 'T2G', 'T2G', 'T2G', 'T2G', 'T2G', 'T2G', 'T2G', 'T2G', 'T2G', 'T2G', 'T2G', 'T2G', 'T2G', 'T2G', 'T2G', 'T2G', 'T2G', 'T2G', 'T2G', 'T2G', 'T2G', 'T2G', 'T2G', 'T2G', 'T2G', 'T2G', 'T2G', 'T2G', 'T2G', 'T2G', 'T2G', 'T2G', 'T2G', 'T2G', 'T2G', 'T2G', 'T2G', 'T2G', 'T2G', 'T2G', 'T2G', 'T2G', 'T2G', 'T2G', 'T2G', 'T2G', 'T2G', 'T2G', 'T2G', 'T2G', 'T2G', 'T2G', 'T2G', 'T2G', 'T2G', 'T2G', 'T2G', 'T2G', 'T2G', 'T2G', 'T2G', 'T2G', 'T2G', 'T2G', 'T2G', 'T2G', 'T2G', 'T2G', 'T2G', 'T2G', 'T2G', 'T2G', 'T2G', 'T2G', 'T2G', 'T2G', 'T2G', 'T2G', 'T2G', 'T2G', 'T2G', 'T2G', 'T2G', 'T2G', 'T2G', 'T2G', 'T2G', 'T2G', 'T2G', 'T2G', 'T2G', 'T2G', 'T2G', 'T2G', 'T2G', 'T2G', 'T2G', 'T2G', 'T2G', 'T2G', 'T2G', 'T2G', 'T2G', 'T2D', 'T2G', 'T2G', 'T2D', 'T2G', 'T2G', 'T2G', 'T2G', 'T2G', 'T2G', 'T2G', 'T2G', 'T2G', 'T2G', 'T2G', 'T2G', 'T2G', 'T2G', 'T2G', 'T2G', 'T2G', 'T2G', 'T2G', 'T2G', 'T2G', 'T2G', 'T2G', 'T2G', 'T2G', 'T2G', 'T2G', 'T2G', 'T2G', 'T2G', 'T2G', 'T2G', 'T2G', 'T2G', 'T2G', 'T2G', 'T2G', 'T2G', 'T2G', 'T2G', 'T2G', 'T2G', 'T2G', 'T2G', 'T2G', 'T2G', 'T2G', 'T2G', 'T2G', 'T2G', 'T2G', 'T2G', 'T2G', 'T2G', 'T2G', 'T2G', 'T2G', 'T2G', 'T2G', 'T2G', 'T2G', 'T2G', 'T2G', 'T2G', 'T2G', 'T2G', 'T2G', 'T2G', 'T2G', 'T2G', 'T2G', 'T2G', 'T2G', 'T2G', 'T2G', 'T2G', 'T2G', 'T2G', 'T2G', 'T2D', 'T2G', 'T2G', 'T2G', 'T2G', 'T2G', 'T2G', 'T2G', 'T2G', 'T2G', 'T2G', 'T2G', 'T2G', 'T2G', 'T2G', 'T2G', 'T2G', 'T2G', 'T2G', 'T2G', 'T2G', 'T2D', 'T2G', 'T2G', 'T2G', 'T2G', 'T2G', 'T2G', 'T2G', 'T2G', 'T2G', 'T2G', 'T2G', 'T2G', 'T2G', 'T2G', 'T2D', 'T2G', 'T2G', 'T2G', 'T2G', 'T2G', 'T2G', 'T2G', 'T2G', 'T2G', 'T2G', 'T2G', 'T2G', 'T2G', 'T2G', 'T2G', 'T2G', 'T2G', 'T2G', 'T2G', 'T2G', 'T2G', 'T2G', 'T2G', 'T2G', 'T2G', 'T2G', 'T2G', 'T2G', 'T2G', 'T2G', 'T2G', 'T2G', 'T2G', 'T2G', 'T2G', 'T2G', 'T2G', 'T2G', 'T2G', 'T2G', 'T2G', 'T2G', 'T2G', 'T2G', 'T2G', 'T2G', 'T2G', 'T2G', 'T2G', 'T2G', 'T2G', 'T2G', 'T2G', 'T2G', 'T2G', 'T2G', 'T2G', 'T2G', 'T2G', 'T2G', 'T2G', 'T2G', 'T2G', 'T2G', 'T2G', 'T2G', 'T2G', 'T2G', 'T2G', 'T2G', 'T2G', 'T2G', 'T2G', 'T2G', 'T2G', 'T2G', 'T2G', 'T2G', 'T2G', 'T2G', 'T2G', 'T2G', 'T2G', 'T2G', 'T2G', 'T2G', 'T2G', 'T2G', 'T2G', 'T2G', 'T2G', 'T2G', 'T2G', 'T2G', 'T2G', 'T2G', 'T2G', 'T2G', 'T2G', 'T2G', 'T2D', 'T2G', 'T2G', 'T2G', 'T2G', 'T2G', 'T2G', 'T2G', 'T2G', 'T2G', 'T2G', 'T2G', 'T2G', 'T2G', 'T2G', 'T2G', 'T2G', 'T2G', 'T2G', 'T2G', 'T2G', 'T2G', 'T2G', 'T2G', 'T2G', 'T2G', 'T2G', 'T2G', 'T2G', 'T2G', 'T2G', 'T2G', 'T2G', 'T2G', 'T2G', 'T2G', 'T2G', 'T2G', 'T2G', 'T2G', 'T2G', 'T2G', 'T2G', 'T2G', 'T2G', 'T2G', 'T2G', 'T2G', 'T2G', 'T2G', 'T2G', 'T2G', 'T2G', 'T2G', 'T2G', 'T2G', 'T2G', 'T2G', 'T2G', 'T2G', 'T2G', 'T2G', 'T2G', 'T2G', 'T2G', 'T2G', 'T2G', 'T2G', 'T2G', 'T2G', 'T2G', 'T2G', 'T2G', 'T2G', 'T2G', 'T2G', 'T2G', 'T2G', 'T2G', 'T2G', 'T2G', 'T2G', 'T2G', 'T2G', 'T2G', 'T2G', 'T2G', 'T2G', 'T2G', 'T2G', 'T2G', 'T2G', 'T2G', 'T2G', 'T2G', 'T2G', 'T2G', 'T2G', 'T2G', 'T2G', 'T2G', 'T2G', 'T2G', 'T2G', 'T2G', 'T2G', 'T2G', 'T2G', 'T2G', 'T2G', 'T2G', 'T2G', 'T2G', 'T2G', 'T2G', 'T2G', 'T2G', 'T2G', 'T2G', 'T2G', 'T2G', 'T2G', 'T2G', 'T2G', 'T2G', 'T2G', 'T2G', 'T2G', 'T2G', 'T2G', 'T2G', 'T2G', 'T2G', 'T2G', 'T2G', 'T2G', 'T2G', 'T2G', 'T2G', 'T2G', 'T2G', 'T2G', 'T2G', 'T2G', 'T2G', 'T2G', 'T2G', 'T2G', 'T2G', 'T2G', 'T2G', 'T2G', 'T2G', 'T2G', 'T2G', 'T2G', 'T2G', 'T2G', 'T2G', 'T2G', 'T2G', 'T2G', 'T2G', 'T2G', 'T2G', 'T2G', 'T2G', 'T2G', 'T2G', 'T2G', 'T2G', 'T2G', 'T2G', 'T2G', 'T2G', 'T2G', 'T2G', 'T2G', 'T2G', 'T2G', 'T2G', 'T2G', 'T2G', 'T2G', 'T2G', 'T2G', 'T2G', 'T2G', 'T2D', 'T2G', 'T2G', 'T2G', 'T2G', 'T2G', 'T2G', 'T2G', 'T2G', 'T2G', 'T2G', 'T2G', 'T2G', 'T2G', 'T2G', 'T2G', 'T2G', 'T2G', 'T2G', 'T2G', 'T2G', 'T2G', 'T2G', 'T2G', 'T2G', 'T2G', 'T2G', 'T2G', 'T2G', 'T2G', 'T2G', 'T2G', 'T2G', 'T2G', 'T2G', 'T2G', 'T2G', 'T2G', 'T2G', 'T2G', 'T2G', 'T2G', 'T2G', 'T2G', 'T2G', 'T2G', 'T2G', 'T2G', 'T2G', 'T2G', 'T2G', 'T2G', 'T2G', 'T2G', 'T2G', 'T2G', 'T2G', 'T2G', 'T2G', 'T2G', 'T2G', 'T2G', 'T2G', 'T2G', 'T2G', 'T2G', 'T2G', 'T2G', 'T2G', 'T2G', 'T2G', 'T2G', 'T2G', 'T2G', 'T2G', 'T2G', 'T2G', 'T2G', 'T2G', 'T2G', 'T2G', 'T2G', 'T2G', 'T2G', 'T2G', 'T2G', 'T2G', 'T2G', 'T2G', 'T2G', 'T2G', 'T2G', 'T2G', 'T2G', 'T2G', 'T2G', 'T2G', 'T2G', 'T2G', 'T2G', 'T2G', 'T2G', 'T2G', 'T2G', 'T2G', 'T2G', 'T2G', 'T2G', 'T2G', 'T2G', 'T2G', 'T2G', 'T2G', 'T2G', 'T2G', 'T2G', 'T2G', 'T2G', 'T2G', 'T2G', 'T2G', 'T2G', 'T2G', 'T2D', 'T2G', 'T2G', 'T2G', 'T2G', 'T2G', 'T2G', 'T2G', 'T2G', 'T2G', 'T2G', 'T2G', 'T2G', 'T2G', 'T2D', 'T2G', 'T2G', 'T2G', 'T2G', 'T2G', 'T2G', 'T2G', 'T2D', 'T2G', 'T2G', 'T2G', 'T2G', 'T2G', 'T2G', 'T2G', 'T2G', 'T2G', 'T2G', 'T2G', 'T2G', 'T2G', 'T2G', 'T2G', 'T2G', 'T2G', 'T2G', 'T2G', 'T2G', 'T2G', 'T2G', 'T2G', 'T2D', 'T2G', 'T2G', 'T2G', 'T2G', 'T2G', 'T2G', 'T2G', 'T2G', 'T2G', 'T2G', 'T2G', 'T2G', 'T2G', 'T2G', 'T2G', 'T2G', 'T2G', 'T2G', 'T2G', 'T2G', 'T2G', 'T2G', 'T2G', 'T2G', 'T2G', 'T2G', 'T2G', 'T2G', 'T2G', 'T2G', 'T2G', 'T2G', 'T2G', 'T2G', 'T2G', 'T2G', 'T2G', 'T2G', 'T2G', 'T2G', 'T2G', 'T2G', 'T2G', 'T2G', 'T2G', 'T2G', 'T2G', 'T2G', 'T2G', 'T2G', 'T2G', 'T2G', 'T2D', 'T2G', 'T2G', 'T2G', 'T2G', 'T2G', 'T2G', 'T2G', 'T2G', 'T2G', 'T2G', 'T2G', 'T2G', 'T2G', 'T2G', 'T2D', 'T2G', 'T2G', 'T2G', 'T2G', 'T2G', 'T2G', 'T2G', 'T2G', 'T2G', 'T2G', 'T2G', 'T2G', 'T2G', 'T2G', 'T2G', 'T2D', 'T2G', 'T2G', 'T2G', 'T2G', 'T2D', 'T2G', 'T2G', 'T2G', 'T2G', 'T2G', 'T2G', 'T2G', 'T2G', 'T2G', 'T2G', 'T2G', 'T2G', 'T2G', 'T2G', 'T2G', 'T2G', 'T2G', 'T2G', 'T2G', 'T2G', 'T2G', 'T2D', 'T2G', 'T2G', 'T2G', 'T2G', 'T2G', 'T2G', 'T2G', 'T2G', 'T2G', 'T2G', 'T2G', 'T2G', 'T2G', 'T2G', 'T2G', 'T2G', 'T2G', 'T2G', 'T2G', 'T2G', 'T2G', 'T2G', 'T2G', 'T2G', 'T2G', 'T2G', 'T2G', 'T2G', 'T2G', 'T2G', 'T2G', 'T2G', 'T2G', 'T2G', 'T2G', 'T2G', 'T2G', 'T2G', 'T2G', 'T2G', 'T2G', 'T2G', 'T2G', 'T2G', 'T2G', 'T2G', 'T2G', 'T2G', 'T2G', 'T2G', 'T2G', 'T2D', 'T2G', 'T2G', 'T2G', 'T2G', 'T2G', 'T2G', 'T2G', 'T2G', 'T2G', 'T2G', 'T2G', 'T2G', 'T2G', 'T2G', 'T2G', 'T2G', 'T2G', 'T2G', 'T2G', 'T2G', 'T2G', 'T2G', 'T2G', 'T2G', 'T2G', 'T2G', 'T2G', 'T2G', 'T2G', 'T2G', 'T2G', 'T2G', 'T2G', 'T2G', 'T2G', 'T2G', 'T2G', 'T2G', 'T2G', 'T2G', 'T2G', 'T2G', 'T2G', 'T2G', 'T2G', 'T2G', 'T2G', 'T2G', 'T2G', 'T2G', 'T2G', 'T2G', 'T2G', 'T2G', 'T2G', 'T2G', 'T2G', 'T2G', 'T2G', 'T2G', 'T2G', 'T2G', 'T2G', 'T2G', 'T2G', 'T2G', 'T2G', 'T2G', 'T2G', 'T2G', 'T2G', 'T2G', 'T2G', 'T2G', 'T2G', 'T2G', 'T2G', 'T2G', 'T2G', 'T2G', 'T2G', 'T2G', 'T2G', 'T2G', 'T2G', 'T2G', 'T2G', 'T2G', 'T2G', 'T2G', 'T2G', 'T2G', 'T2G', 'T2D', 'T2G', 'T2G', 'T2G', 'T2G', 'T2G', 'T2G', 'T2G', 'T2G', 'T2G', 'T2G', 'T2G', 'T2G', 'T2G', 'T2G', 'T2G', 'T2G', 'T2G', 'T2G', 'T2G', 'T2G', 'T2G', 'T2G', 'T2G', 'T2G', 'T2G', 'T2G', 'T2G', 'T2G', 'T2G', 'T2G', 'T2G', 'T2G', 'T2G', 'T2G', 'T2G', 'T2G', 'T2G', 'T2G', 'T2G', 'T2G', 'T2G', 'T2G', 'T2G', 'T2G', 'T2G', 'T2G', 'T2G', 'T2G', 'T2G', 'T2G', 'T2G', 'T2G', 'T2G', 'T2G', 'T2G', 'T2G', 'T2G', 'T2G', 'T2G', 'T2G', 'T2G', 'T2G', 'T2G', 'T2G', 'T2G', 'T2G', 'T2G', 'T2G', 'T2G', 'T2G', 'T2G', 'T2G', 'T2G', 'T2G', 'T2G', 'T2G', 'T2G', 'T2G', 'T2G', 'T2G', 'T2G', 'T2G', 'T2G', 'T2G', 'T2G', 'T2G', 'T2G', 'T2G', 'T2G', 'T2G', 'T2G', 'T2G', 'T2G', 'T2G', 'T2G', 'T2G', 'T2D', 'T2G', 'T2G', 'T2G', 'T2G', 'T2G', 'T2G', 'T2G', 'T2G', 'T2G', 'T2G', 'T2G', 'T2G', 'T2G', 'T2G', 'T2G', 'T2G', 'T2G', 'T2G', 'T2G', 'T2G', 'T2G', 'T2G', 'T2G', 'T2G', 'T2G', 'T2G', 'T2G', 'T2G', 'T2G', 'T2G', 'T2G', 'T2G', 'T2G', 'T2G', 'T2G', 'T2G', 'T2G', 'T2G', 'T2G', 'T2G', 'T2G', 'T2G', 'T2G', 'T2G', 'T2G', 'T2G', 'T2G', 'T2G', 'T2G', 'T2G', 'T2G', 'T2G', 'T2G', 'T2G', 'T2G', 'T2G', 'T2G', 'T2G', 'T2G', 'T2D', 'T2G', 'T2G', 'T2G', 'T2G', 'T2G', 'T2G', 'T2G', 'T2G', 'T2G', 'T2G', 'T2G', 'T2G', 'T2G', 'T2G', 'T2G', 'T2G', 'T2G', 'T2G', 'T2G', 'T2G', 'T2G', 'T2G', 'T2G', 'T2G', 'T2G', 'T2G', 'T2D', 'T2G', 'T2G', 'T2G', 'T2G', 'T2G', 'T2G', 'T2G', 'T2G', 'T2G', 'T2G', 'T2G', 'T2G', 'T2G', 'T2G', 'T2G', 'T2G', 'T2G', 'T2G', 'T2G', 'T2G', 'T2G', 'T2G', 'T2G', 'T2G', 'T2G', 'T2G', 'T2G', 'T2G', 'T2G', 'T2G', 'T2G', 'T2G', 'T2G', 'T2G', 'T2G', 'T2G', 'T2G', 'T2G', 'T2G', 'T2G', 'T2G', 'T2G', 'T2G', 'T2G', 'T2G', 'T2G', 'T2G', 'T2G', 'T2G', 'T2G', 'T2G', 'T2G', 'T2G', 'T2G', 'T2G', 'T2G', 'T2G', 'T2G', 'T2G', 'T2G', 'T2G', 'T2G', 'T2G', 'T2G', 'T2G', 'T2G', 'T2G', 'T2G', 'T2G', 'T2G', 'T2G', 'T2G', 'T2G', 'T2G', 'T2G', 'T2G', 'T2G', 'T2G', 'T2G', 'T2G', 'T2G', 'T2G', 'T2G', 'T2G', 'T2G', 'T2G', 'T2G', 'T2G', 'T2G', 'T2G', 'T2G', 'T2G', 'T2G', 'T2G', 'T2G', 'T2G', 'T2G', 'T2G', 'T2G', 'T2G', 'T2G', 'T2G', 'T2G', 'T2G', 'T2G', 'T2G', 'T2G', 'T2G', 'T2G', 'T2G', 'T2G', 'T2G', 'T2G', 'T2G', 'T2G', 'T2G', 'T2G', 'T2G', 'T2G', 'T2G', 'T2G', 'T2G', 'T2G', 'T2G', 'T2G', 'T2G', 'T2G', 'T2G', 'T2G', 'T2G', 'T2G', 'T2G', 'T2G', 'T2G', 'T2G', 'T2G', 'T2G', 'T2G', 'T2G', 'T2G', 'T2G', 'T2G', 'T2G', 'T2G', 'T2G', 'T2G', 'T2G', 'T2G', 'T2G', 'T2G', 'T2G', 'T2G', 'T2G', 'T2G', 'T2G', 'T2G', 'T2G', 'T2G', 'T2G', 'T2G', 'T2G', 'T2G', 'T2G', 'T2G', 'T2G', 'T2G', 'T2G', 'T2G', 'T2G', 'T2G', 'T2G', 'T2G', 'T2G', 'T2G', 'T2G', 'T2G', 'T2G', 'T2G', 'T2G', 'T2G', 'T2G', 'T2G', 'T2G', 'T2G', 'T2G', 'T2G', 'T2G', 'T2G', 'T2G', 'T2G', 'T2G', 'T2G', 'T2G', 'T2G', 'T2G', 'T2G', 'T2G', 'T2G', 'T2G', 'T2G', 'T2G', 'T2G', 'T2G', 'T2G', 'T2D', 'T2G', 'T2G', 'T2G', 'T2G', 'T2G', 'T2G', 'T2G', 'T2G', 'T2G', 'T2G', 'T2G', 'T2G', 'T2G', 'T2G', 'T2G', 'T2G', 'T2G', 'T2G', 'T2G', 'T2G', 'T2G', 'T2G', 'T2G', 'T2G', 'T2G', 'T2G', 'T2G', 'T2G', 'T2G', 'T2G', 'T2G', 'T2G', 'T2G', 'T2G', 'T2G', 'T2G', 'T2G', 'T2G', 'T2G', 'T2G', 'T2G', 'T2G', 'T2G', 'T2G', 'T2G', 'T2G', 'T2G', 'T2G', 'T2G', 'T2G', 'T2G', 'T2G', 'T2G', 'T2G', 'T2G', 'T2G', 'T2G', 'T2G', 'T2G', 'T2G', 'T2G', 'T2G', 'T2G', 'T2G', 'T2G', 'T2G', 'T2G', 'T2G', 'T2G', 'T2G', 'T2G', 'T2G', 'T2G', 'T2G', 'T2G', 'T2G', 'T2G', 'T2G', 'T2G', 'T2G', 'T2G', 'T2G', 'T2G', 'T2G', 'T2G', 'T2G', 'T2G', 'T2G', 'T2G', 'T2G', 'T2G', 'T2G', 'T2G', 'T2G', 'T2G', 'T2G', 'T2G', 'T2G', 'T2G', 'T2G', 'T2G', 'T2G', 'T2G', 'T2G', 'T2G', 'T2G', 'T2G', 'T2G', 'T2G', 'T2G', 'T2G', 'T2G', 'T2G', 'T2G', 'T2G', 'T2G', 'T2G', 'T2G', 'T2G', 'T2G', 'T2G', 'T2G', 'T2G', 'T2G', 'T2G', 'T2G', 'T2G', 'T2G', 'T2G', 'T2G', 'T2G', 'T2G', 'T2G', 'T2G', 'T2G', 'T2G', 'T2G', 'T2G', 'T2G', 'T2G', 'T2G', 'T2D', 'T2G', 'T2G', 'T2G', 'T2G', 'T2G', 'T2G', 'T2G', 'T2G', 'T2G', 'T2G', 'T2G', 'T2G', 'T2G', 'T2G', 'T2G', 'T2G', 'T2G', 'T2G', 'T2G', 'T2G', 'T2G', 'T2G', 'T2G', 'T2G', 'T2G', 'T2G', 'T2G', 'T2G', 'T2G', 'T2G', 'T2G', 'T2G', 'T2G', 'T2G', 'T2G', 'T2G', 'T2G', 'T2G', 'T2G', 'T2G', 'T2G', 'T2G', 'T2G', 'T2G', 'T2G', 'T2G', 'T2G', 'T2G', 'T2G', 'T2G', 'T2D', 'T2G', 'T2G', 'T2G', 'T2G', 'T2G', 'T2G', 'T2G', 'T2G', 'T2G', 'T2G', 'T2G', 'T2G', 'T2G', 'T2G', 'T2G', 'T2G', 'T2G', 'T2G', 'T2G', 'T2G', 'T2G', 'T2G', 'T2G', 'T2G', 'T2G', 'T2G', 'T2G', 'T2G', 'T2G', 'T2G', 'T2G', 'T2G', 'T2G', 'T2G', 'T2G', 'T2G', 'T2G', 'T2G', 'T2G', 'T2G', 'T2G', 'T2G', 'T2G', 'T2G', 'T2G', 'T2G', 'T2G', 'T2G', 'T2G', 'T2G', 'T2G', 'T2G', 'T2G', 'T2G', 'T2G', 'T2G', 'T2G', 'T2G', 'T2G', 'T2G', 'T2D', 'T2G', 'T2G', 'T2G', 'T2D', 'T2G', 'T2G', 'T2G', 'T2G', 'T2G', 'T2G', 'T2G', 'T2G', 'T2G', 'T2G', 'T2G', 'T2G', 'T2G', 'T2G', 'T2G', 'T2G', 'T2G', 'T2G', 'T2G', 'T2G', 'T2G', 'T2G', 'T2G', 'T2G', 'T2G', 'T2G', 'T2G', 'T2G', 'T2G', 'T2G', 'T2G', 'T2G', 'T2G', 'T2G', 'T2G', 'T2G', 'T2G', 'T2G', 'T2G', 'T2G', 'T2G', 'T2G', 'T2G', 'T2G', 'T2G', 'T2G', 'T2G', 'T2G', 'T2G', 'T2G', 'T2G', 'T2G', 'T2G', 'T2G', 'T2G', 'T2G', 'T2G', 'T2G', 'T2G', 'T2G', 'T2G', 'T2G', 'T2G', 'T2G', 'T2G', 'T2G', 'T2G', 'T2G', 'T2G', 'T2G', 'T2G', 'T2D', 'T2G', 'T2G', 'T2G', 'T2G', 'T2G', 'T2G', 'T2G', 'T2G', 'T2G', 'T2G', 'T2G', 'T2G', 'T2G', 'T2G', 'T2G', 'T2G', 'T2G', 'T2G', 'T2G', 'T2G', 'T2G', 'T2G', 'T2G', 'T2G', 'T2D', 'T2G', 'T2G', 'T2G', 'T2G', 'T2G', 'T2D', 'T2G', 'T2G', 'T2G', 'T2G', 'T2G', 'T2G', 'T2G', 'T2G', 'T2G', 'T2G', 'T2G', 'T2G', 'T2G', 'T2G', 'T2G', 'T2G', 'T2G', 'T2G', 'T2G', 'T2G', 'T2G', 'T2G', 'T2G', 'T2G', 'T2G', 'T2G', 'T2G', 'T2G', 'T2G', 'T2G', 'T2G', 'T2G', 'T2G', 'T2G', 'T2G', 'T2G', 'T2G', 'T2G', 'T2G', 'T2D', 'T2G', 'T2G', 'T2G', 'T2G', 'T2G', 'T2G', 'T2G', 'T2G', 'T2G', 'T2G', 'T2G', 'T2G', 'T2G', 'T2G', 'T2G', 'T2G', 'T2G', 'T2D', 'T2G', 'T2G', 'T2G', 'T2D', 'T2G', 'T2G', 'T2G', 'T2G', 'T2G', 'T2G', 'T2G', 'T2G', 'T2G', 'T2G', 'T2G', 'T2G', 'T2G', 'T2G', 'T2G', 'T2G', 'T2G', 'T2G', 'T2G', 'T2G', 'T2G', 'T2G', 'T2G', 'T2D', 'T2G', 'T2G', 'T2G', 'T2G', 'T2G', 'T2G', 'T2G', 'T2G', 'T2G', 'T2G', 'T2G', 'T2G', 'T2G', 'T2G', 'T2G', 'T2G', 'T2G', 'T2G', 'T2G', 'T2G', 'T2G', 'T2G', 'T2G', 'T2G', 'T2G', 'T2G', 'T2G', 'T2G', 'T2G', 'T2G', 'T2G', 'T2G', 'T2G', 'T2G', 'T2G', 'T2G', 'T2G', 'T2G', 'T2G', 'T2G', 'T2G', 'T2G', 'T2G', 'T2G', 'T2G', 'T2G', 'T2G', 'T2G', 'T2G', 'T2G', 'T2G', 'T2G', 'T2G', 'T2G', 'T2G', 'T2G', 'T2G', 'T2G', 'T2G', 'T2G', 'T2G', 'T2G', 'T2G', 'T2G', 'T2G', 'T2G', 'T2G', 'T2G', 'T2G', 'T2G', 'T2G', 'T2G', 'T2G', 'T2G', 'T2G', 'T2G', 'T2G', 'T2G', 'T2G', 'T2G', 'T2G', 'T2G', 'T2G', 'T2G', 'T2G', 'T2G', 'T2G', 'T2G', 'T2D', 'T2G', 'T2G', 'T2G', 'T2G', 'T2G', 'T2G', 'T2G', 'T2G', 'T2G', 'T2G', 'T2G', 'T2G', 'T2G', 'T2G', 'T2G', 'T2G', 'T2G', 'T2G', 'T2G', 'T2G', 'T2G', 'T2G', 'T2G', 'T2G', 'T2G', 'T2G', 'T2D', 'T2G', 'T2G', 'T2G', 'T2D', 'T2G', 'T2G', 'T2G', 'T2G', 'T2G', 'T2G', 'T2G', 'T2G', 'T2G', 'T2G', 'T2G', 'T2G', 'T2G', 'T2G', 'T2G', 'T2G', 'T2G', 'T2G', 'T2G', 'T2G', 'T2G', 'T2G', 'T2G', 'T2G', 'T2D', 'T2G', 'T2G', 'T2G', 'T2G', 'T2G', 'T2G', 'T2G', 'T2G', 'T2G', 'T2G', 'T2G', 'T2G', 'T2G', 'T2G', 'T2G', 'T2G', 'T2G', 'T2G', 'T2G', 'T2G', 'T2G', 'T2G', 'T2G', 'T2G', 'T2G', 'T2G', 'T2G', 'T2G', 'T2G', 'T2G', 'T2G', 'T2G', 'T2G', 'T2G', 'T2G', 'T2G', 'T2G', 'T2G', 'T2G', 'T2G', 'T2G', 'T2G', 'T2G', 'T2G', 'T2G', 'T2G', 'T2G', 'T2G', 'T2G', 'T2G', 'T2G', 'T2G', 'T2G', 'T2G', 'T2G', 'T2G', 'T2G', 'T2G', 'T2D', 'T2G', 'T2G', 'T2G', 'T2G', 'T2G', 'T2G', 'T2G', 'T2G', 'T2G', 'T2G', 'T2G', 'T2G', 'T2G', 'T2G', 'T2G', 'T2G', 'T2D', 'T2G', 'T2G', 'T2G', 'T2G', 'T2G', 'T2G', 'T2G', 'T2G', 'T2D', 'T2G', 'T2G', 'T2G', 'T2G', 'T2G', 'T2G', 'T2G', 'T2G', 'T2G', 'T2G', 'T2G', 'T2G', 'T2G', 'T2G', 'T2G', 'T2D', 'T2G', 'T2G', 'T2G', 'T2G', 'T2G', 'T2G', 'T2G', 'T2G', 'T2D', 'T2G', 'T2G', 'T2G', 'T2G', 'T2G', 'T2G', 'T2G', 'T2G', 'T2G', 'T2G', 'T2G', 'T2G', 'T2G', 'T2G', 'T2G', 'T2G', 'T2G', 'T2G', 'T2G', 'T2G', 'T2G', 'T2G', 'T2G', 'T2G', 'T2G', 'T2G', 'T2G', 'T2G', 'T2G', 'T2G', 'T2G', 'T2G', 'T2G', 'T2G', 'T2G', 'T2G', 'T2G', 'T2G', 'T2G', 'T2G', 'T2G', 'T2G', 'T2G', 'T2G', 'T2G', 'T2G', 'T2G', 'T2G', 'T2D', 'T2G', 'T2G', 'T2G', 'T2G', 'T2G', 'T2G', 'T2G', 'T2G', 'T2G', 'T2G', 'T2G', 'T2G', 'T2G', 'T2G', 'T2G', 'T2G', 'T2G', 'T2G', 'T2G', 'T2G', 'T2G', 'T2G', 'T2G', 'T2G', 'T2G', 'T2G', 'T2G', 'T2G', 'T2G', 'T2G', 'T2G', 'T2G', 'T2G', 'T2G', 'T2G', 'T2G', 'T2G', 'T2G', 'T2G', 'T2G', 'T2G', 'T2G', 'T2G', 'T2G', 'T2G', 'T2G', 'T2G', 'T2G', 'T2G', 'T2G', 'T2G', 'T2G', 'T2G', 'T2G', 'T2G', 'T2G', 'T2G', 'T2G', 'T2G', 'T2G', 'T2G', 'T2G', 'T2G', 'T2G', 'T2G', 'T2G', 'T2G', 'T2G', 'T2G', 'T2G', 'T2G', 'T2G', 'T2G', 'T2G', 'T2G', 'T2G', 'T2G', 'T2G', 'T2G', 'T2G', 'T2G', 'T2G', 'T2G', 'T2G', 'T2G', 'T2G', 'T2G', 'T2G', 'T2G', 'T2G', 'T2G', 'T2G', 'T2G', 'T2G', 'T2G', 'T2G', 'T2G', 'T2G', 'T2D', 'T2G', 'T2G', 'T2G', 'T2G', 'T2G', 'T2G', 'T2G', 'T2G', 'T2G', 'T2G', 'T2G', 'T2G', 'T2G', 'T2G', 'T2G', 'T2G', 'T2G', 'T2G', 'T2G', 'T2G', 'T2G', 'T2G', 'T2G', 'T2G', 'T2G', 'T2G', 'T2G', 'T2G', 'T2G', 'T2G', 'T2G', 'T2G', 'T2G', 'T2G', 'T2G', 'T2G', 'T2G', 'T2G', 'T2G', 'T2G', 'T2G', 'T2G', 'T2G', 'T2G', 'T2G', 'T2G', 'T2G', 'T2G', 'T2G', 'T2G', 'T2G', 'T2G', 'T2G', 'T2G', 'T2G', 'T2G', 'T2G', 'T2G', 'T2G', 'T2G', 'T2G', 'T2G', 'T2G', 'T2G', 'T2G', 'T2G', 'T2G', 'T2G', 'T2G', 'T2G', 'T2G', 'T2G', 'T2G', 'T2G', 'T2G', 'T2G', 'T2G', 'T2G', 'T2G', 'T2G', 'T2G', 'T2G', 'T2G', 'T2G', 'T2G', 'T2G', 'T2G', 'T2G', 'T2G', 'T2G', 'T2G', 'T2G', 'T2G', 'T2G', 'T2G', 'T2G', 'T2G', 'T2G', 'T2G', 'T2G', 'T2G', 'T2G', 'T2G', 'T2G', 'T2G', 'T2G', 'T2G', 'T2G', 'T2G', 'T2G', 'T2G', 'T2G', 'T2G', 'T2G', 'T2G', 'T2G', 'T2G', 'T2G', 'T2G', 'T2D', 'T2G', 'T2G', 'T2G', 'T2G', 'T2G', 'T2G', 'T2G', 'T2G', 'T2G', 'T2G', 'T2G', 'T2G', 'T2G', 'T2G', 'T2G', 'T2G', 'T2G', 'T2G', 'T2G', 'T2G', 'T2G', 'T2G', 'T2G', 'T2G', 'T2G', 'T2G', 'T2G', 'T2G', 'T2G', 'T2G', 'T2G', 'T2G', 'T2G', 'T2G', 'T2G', 'T2G', 'T2G', 'T2G', 'T2G', 'T2G', 'T2G', 'T2G', 'T2G', 'T2G', 'T2G', 'T2G', 'T2G', 'T2G', 'T2G', 'T2G', 'T2G', 'T2G', 'T2G', 'T2G', 'T2G', 'T2G', 'T2G', 'T2G', 'T2G', 'T2G', 'T2G', 'T2G', 'T2G', 'T2G', 'T2G', 'T2G', 'T2G', 'T2G', 'T2G', 'T2G', 'T2G', 'T2G', 'T2G', 'T2G', 'T2G', 'T2G', 'T2G', 'T2G', 'T2G', 'T2G', 'T2G', 'T2G', 'T2G', 'T2G', 'T2G', 'T2G', 'T2G', 'T2G', 'T2G', 'T2G', 'T2G', 'T2G', 'T2G', 'T2G', 'T2G', 'T2G', 'T2G', 'T2G', 'T2G', 'T2G', 'T2G', 'T2G', 'T2G', 'T2G', 'T2G', 'T2G', 'T2G', 'T2G', 'T2G', 'T2G', 'T2G', 'T2G', 'T2G', 'T2G', 'T2G', 'T2G', 'T2G', 'T2G', 'T2G', 'T2G', 'T2G', 'T2G', 'T2G', 'T2G', 'T2G', 'T2G', 'T2G', 'T2G', 'T2G', 'T2G', 'T2G', 'T2G', 'T2G', 'T2G', 'T2G', 'T2G', 'T2G', 'T2G', 'T2G', 'T2G', 'T2G', 'T2G', 'T2G', 'T2G', 'T2G', 'T2G', 'T2G', 'T2G', 'T2G', 'T2G', 'T2G', 'T2G', 'T2G', 'T2G', 'T2G', 'T2G', 'T2G', 'T2G', 'T2G', 'T2G', 'T2G', 'T2G', 'T2G', 'T2G', 'T2G', 'T2G', 'T2G', 'T2G', 'T2G', 'T2G', 'T2G', 'T2G', 'T2G', 'T2G', 'T2G', 'T2G', 'T2G', 'T2G', 'T2G', 'T2G', 'T2G', 'T2D', 'T2G', 'T2G', 'T2G', 'T2G', 'T2G', 'T2G', 'T2G', 'T2G', 'T2G', 'T2G', 'T2G', 'T2G', 'T2G', 'T2G', 'T2G', 'T2G', 'T2G', 'T2G', 'T2G', 'T2G', 'T2G', 'T2G', 'T2G', 'T2G', 'T2G', 'T2G', 'T2G', 'T2G', 'T2G', 'T2G', 'T2G', 'T2G', 'T2G', 'T2G', 'T2G', 'T2G', 'T2D', 'T2G', 'T2G', 'T2G', 'T2G', 'T2G', 'T2G', 'T2G', 'T2G', 'T2G', 'T2G', 'T2G', 'T2G', 'T2G', 'T2G', 'T2G', 'T2G', 'T2G', 'T2G', 'T2G', 'T2G', 'T2G', 'T2G', 'T2G', 'T2G', 'T2G', 'T2G', 'T2G', 'T2G', 'T2G', 'T2G', 'T2G', 'T2G', 'T2G', 'T2G', 'T2G', 'T2G', 'T2D', 'T2G', 'T2G', 'T2G', 'T2G', 'T2G', 'T2G', 'T2G', 'T2G', 'T2G', 'T2G', 'T2G', 'T2G', 'T2G', 'T2G', 'T2G', 'T2G', 'T2G', 'T2G', 'T2G', 'T2G', 'T2G', 'T2G', 'T2G', 'T2G', 'T2G', 'T2G', 'T2G', 'T2G', 'T2G', 'T2G', 'T2G', 'T2G', 'T2G', 'T2G', 'T2G', 'T2G', 'T2G', 'T2G', 'T2G', 'T2G', 'T2G', 'T2G', 'T2G', 'T2G', 'T2D', 'T2G', 'T2G', 'T2G', 'T2G', 'T2G', 'T2G', 'T2G', 'T2G', 'T2G', 'T2G', 'T2G', 'T2G', 'T2G', 'T2G', 'T2G', 'T2G', 'T2G', 'T2G', 'T2G', 'T2G', 'T2G', 'T2G', 'T2G', 'T2G', 'T2G', 'T2G', 'T2G', 'T2G', 'T2G', 'T2G', 'T2G', 'T2G', 'T2G', 'T2G', 'T2G', 'T2G', 'T2G', 'T2G', 'T2D', 'T2G', 'T2G', 'T2G', 'T2G', 'T2G', 'T2G', 'T2G', 'T2G', 'T2G', 'T2G', 'T2G', 'T2G', 'T2G', 'T2G', 'T2G', 'T2G', 'T2G', 'T2G', 'T2G', 'T2G', 'T2G', 'T2G', 'T2G', 'T2G', 'T2G', 'T2G', 'T2G', 'T2G', 'T2G', 'T2G', 'T2G', 'T2G', 'T2G', 'T2G', 'T2G', 'T2G', 'T2G', 'T2G', 'T2D', 'T2G', 'T2G', 'T2G', 'T2G', 'T2G', 'T2G', 'T2G', 'T2G', 'T2G', 'T2G', 'T2G', 'T2G', 'T2G', 'T2G', 'T2G', 'T2G', 'T2G', 'T2G', 'T2G', 'T2G', 'T2G', 'T2G', 'T2G', 'T2G', 'T2G', 'T2G', 'T2G', 'T2G', 'T2G', 'T2G', 'T2G', 'T2G', 'T2D', 'T2G', 'T2G', 'T2G', 'T2G', 'T2G', 'T2G', 'T2G', 'T2G', 'T2G', 'T2G', 'T2G', 'T2G', 'T2G', 'T2G', 'T2G', 'T2G', 'T2G', 'T2G', 'T2G', 'T2G', 'T2G', 'T2G', 'T2G', 'T2G', 'T2G', 'T2G', 'T2G', 'T2G', 'T2G', 'T2G', 'T2G', 'T2G', 'T2G', 'T2G', 'T2G', 'T2G', 'T2G', 'T2G', 'T2G', 'T2G', 'T2G', 'T2G', 'T2G', 'T2G', 'T2G', 'T2G', 'T2G', 'T2G', 'T2G', 'T2G', 'T2G', 'T2G', 'T2G', 'T2G', 'T2G', 'T2G', 'T2G', 'T2G', 'T2G', 'T2G', 'T2G', 'T2G', 'T2G', 'T2G', 'T2G', 'T2G', 'T2G', 'T2G', 'T2G', 'T2G', 'T2G', 'T2G', 'T2G', 'T2G', 'T2G', 'T2G', 'T2G', 'T2G', 'T2G', 'T2G', 'T2G', 'T2G', 'T2G', 'T2G', 'T2G', 'T2G', 'T2G', 'T2G', 'T2G', 'T2D', 'T2G', 'T2G', 'T2G', 'T2G', 'T2G', 'T2G', 'T2G', 'T2G', 'T2G', 'T2G', 'T2G', 'T2G', 'T2G', 'T2G', 'T2G', 'T2G', 'T2G', 'T2G', 'T2G', 'T2G', 'T2G', 'T2G', 'T2G', 'T2G', 'T2G', 'T2G', 'T2G', 'T2G', 'T2G', 'T2G', 'T2G', 'T2G', 'T2G', 'T2G', 'T2G', 'T2G', 'T2G', 'T2G', 'T2G', 'T2G', 'T2G', 'T2G', 'T2G', 'T2G', 'T2G', 'T2G', 'T2G', 'T2G', 'T2G', 'T2G', 'T2G', 'T2G', 'T2G', 'T2G', 'T2G', 'T2G', 'T2G', 'T2G', 'T2G', 'T2G', 'T2G', 'T2G', 'T2G', 'T2G', 'T2G', 'T2G', 'T2G', 'T2G', 'T2G', 'T2G', 'T2G', 'T2G', 'T2G', 'T2G', 'T2G', 'T2G', 'T2G', 'T2G', 'T2G', 'T2G', 'T2G', 'T2D', 'T2G', 'T2G', 'T2G', 'T2G', 'T2G', 'T2G', 'T2G', 'T2G', 'T2G', 'T2G', 'T2G', 'T2G', 'T2G', 'T2G', 'T2G', 'T2G', 'T2G', 'T2G', 'T2G', 'T2G', 'T2G', 'T2G', 'T2G', 'T2G', 'T2G', 'T2G', 'T2G', 'T2G', 'T2G', 'T2G', 'T2G', 'T2G', 'T2G', 'T2G', 'T2G', 'T2G', 'T2G', 'T2G', 'T2G', 'T2G', 'T2G', 'T2G', 'T2G', 'T2G', 'T2G', 'T2G', 'T2G', 'T2G', 'T2G', 'T2G', 'T2G', 'T2G', 'T2G', 'T2G', 'T2G', 'T2G', 'T2G', 'T2G', 'T2G', 'T2G', 'T2G', 'T2G', 'T2G', 'T2G', 'T2G', 'T2G', 'T2G', 'T2G', 'T2G', 'T2G', 'T2G', 'T2G', 'T2G', 'T2G', 'T2G', 'T2G', 'T2G', 'T2G', 'T2G', 'T2G', 'T2G', 'T2G', 'T2D', 'T2G', 'T2G', 'T2G', 'T2G', 'T2G', 'T2G', 'T2G', 'T2G', 'T2G', 'T2G', 'T2G', 'T2G', 'T2G', 'T2G', 'T2G', 'T2G', 'T2G', 'T2G', 'T2G', 'T2G', 'T2G', 'T2G', 'T2G', 'T2G', 'T2G', 'T2G', 'T2G', 'T2G', 'T2G', 'T2G', 'T2G', 'T2G', 'T2G', 'T2G', 'T2G', 'T2G', 'T2G', 'T2G', 'T2G', 'T2G', 'T2G', 'T2G', 'T2G', 'T2G', 'T2G', 'T2G', 'T2G', 'T2G', 'T2G', 'T2G', 'T2G', 'T2G', 'T2G', 'T2G', 'T2G', 'T2G', 'T2G', 'T2G', 'T2G', 'T2G', 'T2G', 'T2G', 'T2G', 'T2G', 'T2G', 'T2G', 'T2G', 'T2G', 'T2G', 'T2G', 'T2G', 'T2G', 'T2G', 'T2G', 'T2G', 'T2G', 'T2G', 'T2G', 'T2G', 'T2G', 'T2G', 'T2G', 'T2G', 'T2G', 'T2G', 'T2G', 'T2G', 'T2G', 'T2G', 'T2G', 'T2G', 'T2G', 'T2G', 'T2G', 'T2G', 'T2G', 'T2G', 'T2G', 'T2G', 'T2G', 'T2G', 'T2G', 'T2G', 'T2G', 'T2G', 'T2G', 'T2G', 'T2G', 'T2G', 'T2G', 'T2G', 'T2G', 'T2G', 'T2G', 'T2G', 'T2G', 'T2G', 'T2D', 'T2G', 'T2G', 'T2G', 'T2G', 'T2G', 'T2D', 'T2G', 'T2G', 'T2G', 'T2G', 'T2G', 'T2D', 'T2G', 'T2G', 'T2D', 'T2G', 'T2G', 'T2G', 'T2G', 'T2G', 'T2G', 'T2G', 'T2G', 'T2G', 'T2G', 'T2G', 'T2G', 'T2G', 'T2G', 'T2G', 'T2G', 'T2G', 'T2G', 'T2G', 'T2G', 'T2G', 'T2G', 'T2G', 'T2G', 'T2G', 'T2G', 'T2G', 'T2G', 'T2G', 'T2G', 'T2G', 'T2G', 'T2G', 'T2G', 'T2G', 'T2G', 'T2G', 'T2G', 'T2G', 'T2G', 'T2G', 'T2G', 'T2G', 'T2G', 'T2G', 'T2G', 'T2G', 'T2G', 'T2G', 'T2G', 'T2G', 'T2G', 'T2G', 'T2G', 'T2G', 'T2G', 'T2G', 'T2G', 'T2G', 'T2G', 'T2G', 'T2G', 'T2G', 'T2G', 'T2G', 'T2G', 'T2G', 'T2G', 'T2G', 'T2G', 'T2G', 'T2G', 'T2G', 'T2G', 'T2G', 'T2G', 'T2G', 'T2G', 'T2G', 'T2G', 'T2G', 'T2G', 'T2G', 'T2G', 'T2G', 'T2G', 'T2G', 'T2G', 'T2G', 'T2G', 'T2D', 'T2G', 'T2G', 'T2G', 'T2G', 'T2G', 'T2G', 'T2G', 'T2G', 'T2G', 'T2D', 'T2G', 'T2G', 'T2G', 'T2G', 'T2G', 'T2G', 'T2G', 'T2G', 'T2G', 'T2G', 'T2G', 'T2G', 'T2G', 'T2G', 'T2G', 'T2G', 'T2G', 'T2G', 'T2D', 'T2G', 'T2G', 'T2G', 'T2G', 'T2G', 'T2G', 'T2G', 'T2G', 'T2G', 'T2G', 'T2G', 'T2G', 'T2G', 'T2G', 'T2G', 'T2G', 'T2G', 'T2G', 'T2G', 'T2G', 'T2G', 'T2G', 'T2G', 'T2G', 'T2G', 'T2G', 'T2G', 'T2G', 'T2G', 'T2G', 'T2G', 'T2G', 'T2G', 'T2G', 'T2G', 'T2G', 'T2G', 'T2G', 'T2G', 'T2G', 'T2G', 'T2G', 'T2G', 'T2G', 'T2G', 'T2G', 'T2G', 'T2G', 'T2G', 'T2G', 'T2G', 'T2G', 'T2G', 'T2G', 'T2G', 'T2G', 'T2G', 'T2G', 'T2G', 'T2G', 'T2G', 'T2G', 'T2G', 'T2G', 'T2G', 'T2G', 'T2G', 'T2G', 'T2G', 'T2G', 'T2G', 'T2G', 'T2G', 'T2G', 'T2G', 'T2G', 'T2G', 'T2G', 'T2G', 'T2G', 'T2G', 'T2G', 'T2G', 'T2G', 'T2G', 'T2G', 'T2G', 'T2G', 'T2G', 'T2G', 'T2G', 'T2G', 'T2G', 'T2G', 'T2G', 'T2G', 'T2G', 'T2G', 'T2G', 'T2G', 'T2G', 'T2G', 'T2G', 'T2G', 'T2G', 'T2G', 'T2G', 'T2G', 'T2G', 'T2G', 'T2G', 'T2G', 'T2G', 'T2G', 'T2G', 'T2G', 'T2D', 'T2G', 'T2G', 'T2G', 'T2G', 'T2G', 'T2G', 'T2G', 'T2G', 'T2G', 'T2G', 'T2G', 'T2G', 'T2G', 'T2G', 'T2G', 'T2G', 'T2G', 'T2G', 'T2G', 'T2G', 'T2G', 'T2G', 'T2G', 'T2G', 'T2G', 'T2G', 'T2G', 'T2G', 'T2G', 'T2G', 'T2G', 'T2G', 'T2G', 'T2G', 'T2G', 'T2G', 'T2G', 'T2G', 'T2G', 'T2G', 'T2G', 'T2D', 'T2G', 'T2G', 'T2G', 'T2G', 'T2G', 'T2G', 'T2G', 'T2G', 'T2G', 'T2G', 'T2G', 'T2G', 'T2D', 'T2G', 'T2G', 'T2G', 'T2D', 'T2G', 'T2G', 'T2G', 'T2G', 'T2G', 'T2G', 'T2G', 'T2G', 'T2D', 'T2G', 'T2G', 'T2G', 'T2G', 'T2G', 'T2G', 'T2G', 'T2G', 'T2G', 'T2G', 'T2G', 'T2G', 'T2G', 'T2G', 'T2G', 'T2G', 'T2G', 'T2G', 'T2G', 'T2G', 'T2G', 'T2G', 'T2G', 'T2D', 'T2G', 'T2G', 'T2G', 'T2G', 'T2G', 'T2G', 'T2G', 'T2G', 'T2G', 'T2G', 'T2G', 'T2G', 'T2D', 'T2G', 'T2G', 'T2G', 'T2G', 'T2G', 'T2G', 'T2G', 'T2G', 'T2G', 'T2G', 'T2G', 'T2G', 'T2G', 'T2G', 'T2G', 'T2G', 'T2G', 'T2G', 'T2G', 'T2G', 'T2G', 'T2G', 'T2G', 'T2G', 'T2G', 'T2D', 'T2G', 'T2G', 'T2G', 'T2G', 'T2G', 'T2G', 'T2G', 'T2G', 'T2G', 'T2G', 'T2G', 'T2G', 'T2G', 'T2G', 'T2G', 'T2G', 'T2G', 'T2G', 'T2G', 'T2G', 'T2G', 'T2G', 'T2G', 'T2G', 'T2G', 'T2G', 'T2G', 'T2G', 'T2G', 'T2G', 'T2G', 'T2G', 'T2G', 'T2G', 'T2G', 'T2G', 'T2G', 'T2G', 'T2G', 'T2G', 'T2G', 'T2G', 'T2G', 'T2G', 'T2G', 'T2G', 'T2G', 'T2G', 'T2G', 'T2G', 'T2G', 'T2G', 'T2G', 'T2G', 'T2G', 'T2G', 'T2D', 'T2G', 'T2G', 'T2G', 'T2G', 'T2G', 'T2G', 'T2G', 'T2G', 'T2G', 'T2G', 'T2G', 'T2G', 'T2G', 'T2G', 'T2G', 'T2G', 'T2G', 'T2G', 'T2G', 'T2G', 'T2G', 'T2G', 'T2G', 'T2G', 'T2G', 'T2G', 'T2G', 'T2G', 'T2G', 'T2G', 'T2G', 'T2G', 'T2G', 'T2G', 'T2G', 'T2G', 'T2G', 'T2G', 'T2G', 'T2G', 'T2G', 'T2G', 'T2D', 'T2G', 'T2G', 'T2G', 'T2G', 'T2G', 'T2G', 'T2G', 'T2G', 'T2G', 'T2G', 'T2G', 'T2G', 'T2G', 'T2G', 'T2G', 'T2G', 'T2G', 'T2G', 'T2G', 'T2G', 'T2G', 'T2G', 'T2G', 'T2G', 'T2G', 'T2G', 'T2G', 'T2G', 'T2G', 'T2G', 'T2G', 'T2G', 'T2G', 'T2G', 'T2G', 'T2G', 'T2G', 'T2G', 'T2G', 'T2G', 'T2G', 'T2G', 'T2G', 'T2G', 'T2G', 'T2G', 'T2G', 'T2G', 'T2G', 'T2G', 'T2D', 'T2G', 'T2G', 'T2G', 'T2G', 'T2G', 'T2G', 'T2G', 'T2G', 'T2G', 'T2G', 'T2G', 'T2G', 'T2G', 'T2G', 'T2G', 'T2G', 'T2G', 'T2G', 'T2G', 'T2G', 'T2G', 'T2G', 'T2G', 'T2G', 'T2G', 'T2G', 'T2G', 'T2G', 'T2G', 'T2G', 'T2G', 'T2G', 'T2G', 'T2G', 'T2G', 'T2G', 'T2G', 'T2D', 'T2G', 'T2G', 'T2G', 'T2G', 'T2G', 'T2G', 'T2G', 'T2G', 'T2G', 'T2G', 'T2G', 'T2G', 'T2G', 'T2G', 'T2G', 'T2G', 'T2G', 'T2G', 'T2G', 'T2G', 'T2G', 'T2G', 'T2G', 'T2G', 'T2G', 'T2G', 'T2G', 'T2G', 'T2G', 'T2G', 'T2G', 'T2G', 'T2G', 'T2G', 'T2G', 'T2G', 'T2G', 'T2G', 'T2G', 'T2G', 'T2G', 'T2G', 'T2G', 'T2G', 'T2G', 'T2G', 'T2G', 'T2G', 'T2G', 'T2G', 'T2G', 'T2G', 'T2G', 'T2G', 'T2G', 'T2G', 'T2G', 'T2G', 'T2G', 'T2G', 'T2G', 'T2G', 'T2G', 'T2G', 'T2G', 'T2G', 'T2G', 'T2G', 'T2G', 'T2G', 'T2G', 'T2G', 'T2D', 'T2G', 'T2G', 'T2G', 'T2G', 'T2G', 'T2G', 'T2G', 'T2G', 'T2G', 'T2G', 'T2G', 'T2G', 'T2G', 'T2G', 'T2G', 'T2G', 'T2G', 'T2G', 'T2G', 'T2G', 'T2G', 'T2G', 'T2G', 'T2G', 'T2G', 'T2G', 'T2G', 'T2G', 'T2G', 'T2G', 'T2G', 'T2G', 'T2G', 'T2G', 'T2G', 'T2G', 'T2G', 'T2G', 'T2G', 'T2G', 'T2G', 'T2G', 'T2G', 'T2G', 'T2G', 'T2G', 'T2G', 'T2G', 'T2G', 'T2G', 'T2G', 'T2G', 'T2G', 'T2G', 'T2G', 'T2G', 'T2G', 'T2G', 'T2G', 'T2G', 'T2G', 'T2G', 'T2G', 'T2G', 'T2G', 'T2G', 'T2G', 'T2G', 'T2G', 'T2G', 'T2G', 'T2G', 'T2G', 'T2G', 'T2G', 'T2G', 'T2G', 'T2G', 'T2G', 'T2G', 'T2G', 'T2G', 'T2G', 'T2G', 'T2G', 'T2G', 'T2G', 'T2G', 'T2G', 'T2G', 'T2G', 'T2G', 'T2G', 'T2G', 'T2G', 'T2G', 'T2G', 'T2G', 'T2G', 'T2G', 'T2G', 'T2G', 'T2G', 'T2G', 'T2G', 'T2G', 'T2G', 'T2G', 'T2G', 'T2G', 'T2G', 'T2G', 'T2G', 'T2G', 'T2G', 'T2G', 'T2G', 'T2G', 'T2G', 'T2G', 'T2G', 'T2G', 'T2G', 'T2G', 'T2G', 'T2G', 'T2G', 'T2G', 'T2G', 'T2G', 'T2G', 'T2G', 'T2G', 'T2G', 'T2G', 'T2G', 'T2G', 'T2G', 'T2G', 'T2G', 'T2G', 'T2G', 'T2G', 'T2G', 'T2G', 'T2G', 'T2G', 'T2G', 'T2G', 'T2G', 'T2G', 'T2G', 'T2G', 'T2G', 'T2G', 'T2G', 'T2G', 'T2G', 'T2G', 'T2G', 'T2G', 'T2G', 'T2G', 'T2G', 'T2G', 'T2G', 'T2G', 'T2G', 'T2D', 'T2G', 'T2G', 'T2G', 'T2G', 'T2G', 'T2G', 'T2G', 'T2G', 'T2G', 'T2G', 'T2G', 'T2G', 'T2G', 'T2G', 'T2G', 'T2G', 'T2G', 'T2G', 'T2G', 'T2G', 'T2G', 'T2G', 'T2G', 'T2G', 'T2G', 'T2G', 'T2G', 'T2G', 'T2G', 'T2G', 'T2G', 'T2G', 'T2G', 'T2G', 'T2G', 'T2G', 'T2G', 'T2G', 'T2G', 'T2G', 'T2G', 'T2G', 'T2G', 'T2G', 'T2G', 'T2G', 'T2G', 'T2G', 'T2G', 'T2G', 'T2G', 'T2G', 'T2G', 'T2G', 'T2G', 'T2G', 'T2G', 'T2G', 'T2G', 'T2G', 'T2G', 'T2G', 'T2G', 'T2G', 'T2G', 'T2G', 'T2G', 'T2G', 'T2G', 'T2G', 'T2G', 'T2G', 'T2G', 'T2G', 'T2G', 'T2G', 'T2G', 'T2G', 'T2G', 'T2G', 'T2G', 'T2G', 'T2G', 'T2G', 'T2D', 'T2G', 'T2G', 'T2G', 'T2G', 'T2G', 'T2G', 'T2G', 'T2G', 'T2G', 'T2G', 'T2G', 'T2G', 'T2G', 'T2G', 'T2D', 'T2G', 'T2G', 'T2G', 'T2G', 'T2G', 'T2G', 'T2G', 'T2G', 'T2G', 'T2G', 'T2G', 'T2G', 'T2G', 'T2G', 'T2G', 'T2G', 'T2G', 'T2G', 'T2G', 'T2G', 'T2G', 'T2G', 'T2G', 'T2G', 'T2G', 'T2G', 'T2G', 'T2G', 'T2G', 'T2G', 'T2G', 'T2G', 'T2G', 'T2G', 'T2G', 'T2G', 'T2G', 'T2G', 'T2G', 'T2G', 'T2G', 'T2G', 'T2G', 'T2G', 'T2G', 'T2G', 'T2G', 'T2G', 'T2G', 'T2G', 'T2G', 'T2G', 'T2G', 'T2G', 'T2G', 'T2G', 'T2G', 'T2G', 'T2G', 'T2G', 'T2G', 'T2G', 'T2G', 'T2G', 'T2G', 'T2G', 'T2G', 'T2G', 'T2G', 'T2G', 'T2G', 'T2G', 'T2G', 'T2G', 'T2G', 'T2G', 'T2G', 'T2G', 'T2G', 'T2G', 'T2G', 'T2G', 'T2G', 'T2G', 'T2G', 'T2G', 'T2G', 'T2G', 'T2G', 'T2G', 'T2G', 'T2G', 'T2G', 'T2G', 'T2G', 'T2G', 'T2G', 'T2G', 'T2G', 'T2G', 'T2G', 'T2G', 'T2G', 'T2G', 'T2G', 'T2G', 'T2G', 'T2G', 'T2G', 'T2G', 'T2G', 'T2G', 'T2G', 'T2G', 'T2G', 'T2D', 'T2G', 'T2G', 'T2G', 'T2G', 'T2G', 'T2G', 'T2G', 'T2G', 'T2G', 'T2G', 'T2G', 'T2G', 'T2G', 'T2G', 'T2G', 'T2G', 'T2G', 'T2G', 'T2G', 'T2G', 'T2G', 'T2G', 'T2G', 'T2G', 'T2G', 'T2G', 'T2G', 'T2G', 'T2G', 'T2G', 'T2G', 'T2G', 'T2G', 'T2G', 'T2G', 'T2G', 'T2G', 'T2G', 'T2G', 'T2G', 'T2G', 'T2G', 'T2G', 'T2G', 'T2G', 'T2G', 'T2G', 'T2G', 'T2G', 'T2G', 'T2G', 'T2G', 'T2G', 'T2G', 'T2G', 'T2G', 'T2G', 'T2G', 'T2G', 'T2G', 'T2G', 'T2G', 'T2G', 'T2G', 'T2G', 'T2G', 'T2G', 'T2G', 'T2G', 'T2G', 'T2G', 'T2G', 'T2G', 'T2G', 'T2G', 'T2G', 'T2G', 'T2G', 'T2G', 'T2G', 'T2G', 'T2G', 'T2G', 'T2G', 'T2G', 'T2G', 'T2G', 'T2G', 'T2G', 'T2G', 'T2G', 'T2G', 'T2G', 'T2G', 'T2G', 'T2G', 'T2G', 'T2G', 'T2G', 'T2G', 'T2G', 'T2G', 'T2G', 'T2G', 'T2G', 'T2G', 'T2G', 'T2G', 'T2G', 'T2G', 'T2G', 'T2G', 'T2G', 'T2G', 'T2G', 'T2G', 'T2G', 'T2G', 'T2G', 'T2G', 'T2G', 'T2G', 'T2G', 'T2G', 'T2G', 'T2G', 'T2G', 'T2G', 'T2G', 'T2G', 'T2G', 'T2G', 'T2G', 'T2G', 'T2G', 'T2G', 'T2D', 'T2G', 'T2G', 'T2G', 'T2G', 'T2G', 'T2G', 'T2G', 'T2G', 'T2G', 'T2G', 'T2G', 'T2G', 'T2G', 'T2G', 'T2G', 'T2G', 'T2G', 'T2G', 'T2G', 'T2G', 'T2G', 'T2G', 'T2D', 'T2G', 'T2G', 'T2G', 'T2G', 'T2G', 'T2G', 'T2G', 'T2G', 'T2G', 'T2G', 'T2G', 'T2D', 'T2G', 'T2G', 'T2D', 'T2G', 'T2G', 'T2G', 'T2G', 'T2G', 'T2G', 'T2G', 'T2G', 'T2G', 'T2G', 'T2G', 'T2G', 'T2G', 'T2G', 'T2G', 'T2G', 'T2G', 'T2G', 'T2G', 'T2G', 'T2G', 'T2G', 'T2G', 'T2G', 'T2G', 'T2G', 'T2G', 'T2G', 'T2G', 'T2G', 'T2G', 'T2G', 'T2G', 'T2G', 'T2G', 'T2G', 'T2G', 'T2G', 'T2G', 'T2G', 'T2G', 'T2G', 'T2G', 'T2G', 'T2G', 'T2G', 'T2G', 'T2G', 'T2G', 'T2G', 'T2G', 'T2G', 'T2G', 'T2G', 'T2G', 'T2G', 'T2G', 'T2G', 'T2G', 'T2G', 'T2G', 'T2G', 'T2G', 'T2G', 'T2G', 'T2G', 'T2G', 'T2G', 'T2G', 'T2G', 'T2G', 'T2G', 'T2G', 'T2G', 'T2G', 'T2G', 'T2G', 'T2G', 'T2G', 'T2G', 'T2G', 'T2G', 'T2G', 'T2G', 'T2G', 'T2G', 'T2G', 'T2G', 'T2G', 'T2G', 'T2G', 'T2G', 'T2G', 'T2G', 'T2G', 'T2G', 'T2G', 'T2G', 'T2G', 'T2G', 'T2G', 'T2G', 'T2G', 'T2G', 'T2G', 'T2G', 'T2G', 'T2G', 'T2G', 'T2G', 'T2G', 'T2G', 'T2G', 'T2G', 'T2G', 'T2G', 'T2G', 'T2G', 'T2G', 'T2G', 'T2G', 'T2G', 'T2G', 'T2G', 'T2G', 'T2G', 'T2G', 'T2G', 'T2G', 'T2G', 'T2G', 'T2G', 'T2D', 'T2G', 'T2G', 'T2G', 'T2G', 'T2G', 'T2G', 'T2G', 'T2G', 'T2G', 'T2G', 'T2G', 'T2G', 'T2G', 'T2G', 'T2G', 'T2G', 'T2G', 'T2G', 'T2G', 'T2G', 'T2G', 'T2G', 'T2G', 'T2G', 'T2G', 'T2G', 'T2G', 'T2G', 'T2G', 'T2G', 'T2G', 'T2G', 'T2G', 'T2G', 'T2G', 'T2G', 'T2G', 'T2G', 'T2G', 'T2G', 'T2G', 'T2G', 'T2G', 'T2G', 'T2G', 'T2G', 'T2G', 'T2G', 'T2G', 'T2G', 'T2G', 'T2G', 'T2G', 'T2G', 'T2G', 'T2G', 'T2G', 'T2G', 'T2G', 'T2G', 'T2G', 'T2G', 'T2G', 'T2G', 'T2G', 'T2G', 'T2G', 'T2G', 'T2G', 'T2G', 'T2G', 'T2G', 'T2G', 'T2G', 'T2G', 'T2G', 'T2G', 'T2G', 'T2G', 'T2G', 'T2G', 'T2G', 'T2G', 'T2G', 'T2G', 'T2G', 'T2G', 'T2D', 'T2G', 'T2G', 'T2G', 'T2G', 'T2G', 'T2G', 'T2G', 'T2G', 'T2G', 'T2G', 'T2G', 'T2G', 'T2G', 'T2G', 'T2G', 'T2G', 'T2G', 'T2G', 'T2G', 'T2G', 'T2G', 'T2G', 'T2G', 'T2G', 'T2G', 'T2G', 'T2G', 'T2G', 'T2G', 'T2G', 'T2G', 'T2G', 'T2G', 'T2G', 'T2G', 'T2G', 'T2G', 'T2G', 'T2G', 'T2G', 'T2G', 'T2G', 'T2G', 'T2G', 'T2G', 'T2G', 'T2G', 'T2G', 'T2G', 'T2G', 'T2G', 'T2G', 'T2G', 'T2G', 'T2G', 'T2G', 'T2G', 'T2G', 'T2G', 'T2G', 'T2G', 'T2G', 'T2G', 'T2G', 'T2G', 'T2G', 'T2G', 'T2G', 'T2G', 'T2G', 'T2G', 'T2G', 'T2G', 'T2G', 'T2G', 'T2G', 'T2G', 'T2G', 'T2G', 'T2G', 'T2G', 'T2G', 'T2G', 'T2G', 'T2G', 'T2G', 'T2G', 'T2G', 'T2G', 'T2G', 'T2G', 'T2G', 'T2G', 'T2G', 'T2G', 'T2G', 'T2G', 'T2G', 'T2G', 'T2G', 'T2G', 'T2G', 'T2G', 'T2G', 'T2G', 'T2G', 'T2G', 'T2G', 'T2G', 'T2G', 'T2G', 'T2G', 'T2G', 'T2G', 'T2G', 'T2G', 'T2G', 'T2G', 'T2G', 'T2G', 'T2G', 'T2G', 'T2G', 'T2G', 'T2G', 'T2G', 'T2G', 'T2G', 'T2G', 'T2G', 'T2G', 'T2G', 'T2G', 'T2G', 'T2G', 'T2G', 'T2G', 'T2G', 'T2G', 'T2G', 'T2G', 'T2G', 'T2G', 'T2G', 'T2G', 'T2G', 'T2G', 'T2G', 'T2G', 'T2G', 'T2G', 'T2G', 'T2G', 'T2G', 'T2G', 'T2G', 'T2G', 'T2G', 'T2G', 'T2G', 'T2G', 'T2G', 'T2G', 'T2G', 'T2G', 'T2G', 'T2G', 'T2G', 'T2G', 'T2G', 'T2G', 'T2G', 'T2G', 'T2G', 'T2G', 'T2G', 'T2G', 'T2G', 'T2G', 'T2G', 'T2G', 'T2G', 'T2G', 'T2G', 'T2G', 'T2G', 'T2G', 'T2G', 'T2G', 'T2G', 'T2G', 'T2G', 'T2G', 'T2G', 'T2G', 'T2G', 'T2G', 'T2G', 'T2G', 'T2G', 'T2G', 'T2G', 'T2G', 'T2G', 'T2G', 'T2G', 'T2G', 'T2G', 'T2G', 'T2G', 'T2G', 'T2G', 'T2G', 'T2G', 'T2G', 'T2G', 'T2G', 'T2G', 'T2G', 'T2G', 'T2G', 'T2G', 'T2G', 'T2G', 'T2G', 'T2G', 'T2G', 'T2G', 'T2G', 'T2G', 'T2G', 'T2G', 'T2G', 'T2G', 'T2G', 'T2G', 'T2G', 'T2G', 'T2G', 'T2G', 'T2G', 'T2G', 'T2G', 'T2G', 'T2G', 'T2G', 'T2G', 'T2G', 'T2G', 'T2G', 'T2G', 'T2G', 'T2G', 'T2G', 'T2G', 'T2G', 'T2G', 'T2G', 'T2G', 'T2G', 'T2G', 'T2G', 'T2G', 'T2G', 'T2G', 'T2G', 'T2G', 'T2G', 'T2G', 'T2G', 'T2G', 'T2G', 'T2G', 'T2G', 'T2G', 'T2G', 'T2D', 'T2G', 'T2G', 'T2G', 'T2G', 'T2G', 'T2G', 'T2G', 'T2G', 'T2G', 'T2G', 'T2G', 'T2G', 'T2G', 'T2G', 'T2G', 'T2G', 'T2G', 'T2G', 'T2G', 'T2G', 'T2G', 'T2G', 'T2G', 'T2G', 'T2G', 'T2G', 'T2G', 'T2G', 'T2G', 'T2G', 'T2G', 'T2G', 'T2G', 'T2G', 'T2G', 'T2G', 'T2G', 'T2G', 'T2G', 'T2G', 'T2G', 'T2G', 'T2G', 'T2G', 'T2G', 'T2G', 'T2G', 'T2G', 'T2G', 'T2G', 'T2G', 'T2G', 'T2G', 'T2G', 'T2G', 'T2G', 'T2G', 'T2G', 'T2G', 'T2D', 'T2G', 'T2G', 'T2G', 'T2G', 'T2G', 'T2D', 'T2G', 'T2G', 'T2G', 'T2G', 'T2G', 'T2G', 'T2G', 'T2G', 'T2G', 'T2G', 'T2G', 'T2G', 'T2G', 'T2G', 'T2G', 'T2D', 'T2G', 'T2G', 'T2G', 'T2G', 'T2G', 'T2G', 'T2G', 'T2G', 'T2G', 'T2G', 'T2G', 'T2G', 'T2G', 'T2G', 'T2G', 'T2G', 'T2G', 'T2G', 'T2G', 'T2G', 'T2G', 'T2G', 'T2G', 'T2G', 'T2G', 'T2G', 'T2G', 'T2G', 'T2G', 'T2G', 'T2G', 'T2G', 'T2G', 'T2G', 'T2D', 'T2G', 'T2G', 'T2G', 'T2G', 'T2G', 'T2G', 'T2G', 'T2G', 'T2G', 'T2G', 'T2G', 'T2G', 'T2G', 'T2G', 'T2D', 'T2G', 'T2G', 'T2G', 'T2G', 'T2G', 'T2G', 'T2G', 'T2G', 'T2G', 'T2G', 'T2G', 'T2G', 'T2G', 'T2G', 'T2G', 'T2G', 'T2G', 'T2G', 'T2G', 'T2G', 'T2G', 'T2G', 'T2G', 'T2D', 'T2G', 'T2G', 'T2G', 'T2G', 'T2G', 'T2G', 'T2G', 'T2G', 'T2G', 'T2G', 'T2G', 'T2G', 'T2G', 'T2G', 'T2G', 'T2G', 'T2G', 'T2G', 'T2G', 'T2G', 'T2G', 'T2G', 'T2G', 'T2G', 'T2G', 'T2G', 'T2G', 'T2G', 'T2G', 'T2G', 'T2G', 'T2G', 'T2G', 'T2G', 'T2G', 'T2D', 'T2G', 'T2G', 'T2G', 'T2G', 'T2G', 'T2G', 'T2D', 'T2G', 'T2G', 'T2G', 'T2G', 'T2G', 'T2G', 'T2G', 'T2G', 'T2G', 'T2G', 'T2G', 'T2G', 'T2G', 'T2G', 'T2G', 'T2G', 'T2G', 'T2G', 'T2G', 'T2G', 'T2G', 'T2G', 'T2G', 'T2G', 'T2G', 'T2G', 'T2G', 'T2G', 'T2G', 'T2G', 'T2G', 'T2G', 'T2G', 'T2G', 'T2G', 'T2G', 'T2G', 'T2G', 'T2G', 'T2G', 'T2G', 'T2G', 'T2G', 'T2G', 'T2G', 'T2G', 'T2G', 'T2G', 'T2G', 'T2G', 'T2G', 'T2G', 'T2G', 'T2G', 'T2G', 'T2G', 'T2G', 'T2G', 'T2G', 'T2G', 'T2G', 'T2G', 'T2G', 'T2G', 'T2G', 'T2G', 'T2G', 'T2G', 'T2D', 'T2G', 'T2G', 'T2G', 'T2G', 'T2G', 'T2G', 'T2G', 'T2G', 'T2G', 'T2G', 'T2G', 'T2G', 'T2G', 'T2G', 'T2G', 'T2G', 'T2G', 'T2G', 'T2G', 'T2G', 'T2D', 'T2G', 'T2G', 'T2G', 'T2G', 'T2G', 'T2G', 'T2G', 'T2G', 'T2G', 'T2G', 'T2G', 'T2G', 'T2G', 'T2G', 'T2G', 'T2G', 'T2G', 'T2G', 'T2G', 'T2G', 'T2G', 'T2G', 'T2G', 'T2G', 'T2G', 'T2G', 'T2G', 'T2G', 'T2G', 'T2G', 'T2G', 'T2G', 'T2G', 'T2G', 'T2G', 'T2G', 'T2G', 'T2G', 'T2G', 'T2G', 'T2G', 'T2G', 'T2G', 'T2G', 'T2G', 'T2G', 'T2G', 'T2G', 'T2D', 'T2G', 'T2G', 'T2G', 'T2G', 'T2G', 'T2G', 'T2G', 'T2G', 'T2G', 'T2G', 'T2G', 'T2G', 'T2G', 'T2G', 'T2G', 'T2G', 'T2G', 'T2G', 'T2G', 'T2G', 'T2G', 'T2G', 'T2G', 'T2G', 'T2G', 'T2G', 'T2G', 'T2G', 'T2G', 'T2G', 'T2G', 'T2G', 'T2G', 'T2G', 'T2G', 'T2G', 'T2G', 'T2G', 'T2G', 'T2G', 'T2G', 'T2G', 'T2G', 'T2G', 'T2G', 'T2G', 'T2G', 'T2G', 'T2G', 'T2G', 'T2G', 'T2G', 'T2G', 'T2G', 'T2G', 'T2G', 'T2G', 'T2G', 'T2G', 'T2G', 'T2G', 'T2G', 'T2G', 'T2G', 'T2G', 'T2G', 'T2G', 'T2G', 'T2G', 'T2G', 'T2G', 'T2G', 'T2G', 'T2G', 'T2G', 'T2D', 'T2G', 'T2G', 'T2G', 'T2G', 'T2G', 'T2G', 'T2G', 'T2G', 'T2G', 'T2G', 'T2G', 'T2G', 'T2G', 'T2G', 'T2G', 'T2G', 'T2G', 'T2G', 'T2G', 'T2G', 'T2G', 'T2G', 'T2G', 'T2G', 'T2G', 'T2G', 'T2G', 'T2G', 'T2G', 'T2G', 'T2G', 'T2G', 'T2G', 'T2G', 'T2G', 'T2G', 'T2G', 'T2G', 'T2G', 'T2G', 'T2G', 'T2G', 'T2G', 'T2G', 'T2G', 'T2G', 'T2G', 'T2G', 'T2G', 'T2G', 'T2G', 'T2G', 'T2G', 'T2G', 'T2G', 'T2G', 'T2G', 'T2G', 'T2G', 'T2G', 'T2G', 'T2G', 'T2G', 'T2G', 'T2G', 'T2G', 'T2G', 'T2G', 'T2G', 'T2G', 'T2G', 'T2G', 'T2G', 'T2G', 'T2G', 'T2G', 'T2G', 'T2G', 'T2G', 'T2G', 'T2G', 'T2G', 'T2G', 'T2G', 'T2G', 'T2G', 'T2G', 'T2G', 'T2G', 'T2G', 'T2G', 'T2G', 'T2G', 'T2G', 'T2G', 'T2G', 'T2G', 'T2G', 'T2G', 'T2G', 'T2G', 'T2G', 'T2G', 'T2G', 'T2G', 'T2G', 'T2G', 'T2G', 'T2G', 'T2G', 'T2G', 'T2G', 'T2G', 'T2G', 'T2G', 'T2G', 'T2G', 'T2G', 'T2G', 'T2G', 'T2G', 'T2G', 'T2G', 'T2G', 'T2G', 'T2D', 'T2G', 'T2G', 'T2G', 'T2G', 'T2G', 'T2G', 'T2G', 'T2G', 'T2G', 'T2G', 'T2G', 'T2G', 'T2G', 'T2G', 'T2G', 'T2G', 'T2D', 'T2G', 'T2D', 'T2G', 'T2G', 'T2G', 'T2G', 'T2G', 'T2G', 'T2G', 'T2G', 'T2G', 'T2G', 'T2G', 'T2G', 'T2G', 'T2G', 'T2G', 'T2G', 'T2G', 'T2G', 'T2G', 'T2G', 'T2G', 'T2G', 'T2G', 'T2G', 'T2G', 'T2D', 'T2G', 'T2G', 'T2G', 'T2G', 'T2G', 'T2G', 'T2G', 'T2G', 'T2G', 'T2G', 'T2G', 'T2G', 'T2G', 'T2G', 'T2G', 'T2G', 'T2G', 'T2G', 'T2G', 'T2G', 'T2G', 'T2G', 'T2G', 'T2G', 'T2G', 'T2D', 'T2G', 'T2G', 'T2G', 'T2G', 'T2G', 'T2G', 'T2G', 'T2G', 'T2G', 'T2G', 'T2G', 'T2G', 'T2G', 'T2G', 'T2G', 'T2G', 'T2G', 'T2G', 'T2G', 'T2G', 'T2G', 'T2G', 'T2G', 'T2G', 'T2G', 'T2G', 'T2G', 'T2G', 'T2G', 'T2G', 'T2G', 'T2G', 'T2G', 'T2G', 'T2G', 'T2G', 'T2G', 'T2G', 'T2G', 'T2G', 'T2G', 'T2G', 'T2G', 'T2G', 'T2G', 'T2G', 'T2G', 'T2G', 'T2G', 'T2G', 'T2G', 'T2G', 'T2G', 'T2G', 'T2G', 'T2G', 'T2G', 'T2G', 'T2G', 'T2G', 'T2G', 'T2G', 'T2G', 'T2G', 'T2G', 'T2G', 'T2G', 'T2G', 'T2G', 'T2G', 'T2G', 'T2G', 'T2G', 'T2G', 'T2G', 'T2G', 'T2G', 'T2G', 'T2D', 'T2G', 'T2G', 'T2G', 'T2G', 'T2G', 'T2G', 'T2G', 'T2G', 'T2G', 'T2G', 'T2G', 'T2G', 'T2G', 'T2G', 'T2G', 'T2G', 'T2G', 'T2G', 'T2G', 'T2G', 'T2G', 'T2G', 'T2G', 'T2G', 'T2G', 'T2G', 'T2G', 'T2G', 'T2G', 'T2G', 'T2G', 'T2G', 'T2D', 'T2G', 'T2G', 'T2G', 'T2G', 'T2G', 'T2G', 'T2G', 'T2G', 'T2G', 'T2G', 'T2G', 'T2G', 'T2G', 'T2G', 'T2G', 'T2G', 'T2G', 'T2G', 'T2G', 'T2G', 'T2G', 'T2G', 'T2G', 'T2G', 'T2G', 'T2G', 'T2G', 'T2G', 'T2G', 'T2G', 'T2G', 'T2G', 'T2G', 'T2G', 'T2G', 'T2G', 'T2G', 'T2G', 'T2G', 'T2G', 'T2G', 'T2G', 'T2G', 'T2G', 'T2G', 'T2G', 'T2G', 'T2G', 'T2G', 'T2G', 'T2G', 'T2G', 'T2G', 'T2G', 'T2G', 'T2G', 'T2G', 'T2G', 'T2G', 'T2G', 'T2G', 'T2G', 'T2G', 'T2G', 'T2G', 'T2G', 'T2G', 'T2G', 'T2G', 'T2G', 'T2G', 'T2G', 'T2G', 'T2G', 'T2G', 'T2G', 'T2G', 'T2G', 'T2G', 'T2G', 'T2G', 'T2G', 'T2G', 'T2G', 'T2G', 'T2G', 'T2G', 'T2G', 'T2G', 'T2G', 'T2G', 'T2G', 'T2G', 'T2G', 'T2G', 'T2G', 'T2G', 'T2G', 'T2G', 'T2G', 'T2G', 'T2G', 'T2G', 'T2D', 'T2G', 'T2G', 'T2G', 'T2G', 'T2G', 'T2G', 'T2G', 'T2G', 'T2G', 'T2G', 'T2G', 'T2G', 'T2G', 'T2G', 'T2G', 'T2G', 'T2G', 'T2G', 'T2G', 'T2G', 'T2G', 'T2G', 'T2G', 'T2G', 'T2G', 'T2G', 'T2G', 'T2G', 'T2G', 'T2G', 'T2G', 'T2G', 'T2G', 'T2G', 'T2G', 'T2G', 'T2G', 'T2G', 'T2G', 'T2G', 'T2G', 'T2D', 'T2G', 'T2G', 'T2G', 'T2G', 'T2G', 'T2G', 'T2G', 'T2G', 'T2G', 'T2G', 'T2G', 'T2G', 'T2G', 'T2G', 'T2G', 'T2G', 'T2G', 'T2G', 'T2G', 'T2G', 'T2G', 'T2G', 'T2G', 'T2G', 'T2G', 'T2G', 'T2G', 'T2G', 'T2G', 'T2G', 'T2G', 'T2G', 'T2G', 'T2G', 'T2D', 'T2G', 'T2G', 'T2G', 'T2G', 'T2G', 'T2G', 'T2G', 'T2G', 'T2G', 'T2G', 'T2G', 'T2G', 'T2G', 'T2G', 'T2G', 'T2G', 'T2G', 'T2G', 'T2G', 'T2G', 'T2G', 'T2G', 'T2G', 'T2G', 'T2G', 'T2G', 'T2G', 'T2G', 'T2G', 'T2G', 'T2G', 'T2G', 'T2G', 'T2G', 'T2G', 'T2G', 'T2G', 'T2G', 'T2G', 'T2G', 'T2G', 'T2G', 'T2G', 'T2G', 'T2G', 'T2G', 'T2G', 'T2G', 'T2G', 'T2G', 'T2G', 'T2G', 'T2G', 'T2G', 'T2G', 'T2G', 'T2G', 'T2G', 'T2G', 'T2G', 'T2G', 'T2G', 'T2G', 'T2G', 'T2G', 'T2G', 'T2G', 'T2G', 'T2G', 'T2G', 'T2G', 'T2G', 'T2G', 'T2G', 'T2G', 'T2G', 'T2G', 'T2G', 'T2G', 'T2G', 'T2G', 'T2G', 'T2G', 'T2G', 'T2G', 'T2G', 'T2G', 'T2G', 'T2G', 'T2G', 'T2G', 'T2G', 'T2G', 'T2G', 'T2G', 'T2D', 'T2G', 'T2G', 'T2G', 'T2G', 'T2G', 'T2G', 'T2G', 'T2G', 'T2G', 'T2G', 'T2G', 'T2G', 'T2G', 'T2G', 'T2G', 'T2G', 'T2G', 'T2G', 'T2G', 'T2G', 'T2G', 'T2G', 'T2G', 'T2G', 'T2G', 'T2G', 'T2G', 'T2G', 'T2G', 'T2G', 'T2G', 'T2G', 'T2G', 'T2G', 'T2G', 'T2G', 'T2G', 'T2G', 'T2G', 'T2G', 'T2G', 'T2G', 'T2G', 'T2G', 'T2G', 'T2G', 'T2G', 'T2G', 'T2G', 'T2G', 'T2G', 'T2G', 'T2G', 'T2G', 'T2G', 'T2G', 'T2G', 'T2G', 'T2G', 'T2G', 'T2G', 'T2G', 'T2G', 'T2G', 'T2G', 'T2G', 'T2G', 'T2G', 'T2G', 'T2G', 'T2G', 'T2G', 'T2G', 'T2G', 'T2G', 'T2G', 'T2G', 'T2G', 'T2G', 'T2G', 'T2G', 'T2G', 'T2G', 'T2G', 'T2G', 'T2G', 'T2G', 'T2G', 'T2G', 'T2G', 'T2G', 'T2G', 'T2G', 'T2G', 'T2G', 'T2G', 'T2G', 'T2G', 'T2G', 'T2G', 'T2G', 'T2G', 'T2G', 'T2G', 'T2G', 'T2G', 'T2G', 'T2G', 'T2G', 'T2G', 'T2G', 'T2G', 'T2G', 'T2G', 'T2G', 'T2G', 'T2G', 'T2G', 'T2G', 'T2G', 'T2G', 'T2G', 'T2G', 'T2G', 'T2G', 'T2G', 'T2G', 'T2G', 'T2G', 'T2D', 'T2G', 'T2G', 'T2G', 'T2G', 'T2G', 'T2G', 'T2G', 'T2D', 'T2G', 'T2G', 'T2G', 'T2G', 'T2G', 'T2G', 'T2G', 'T2G', 'T2G', 'T2G', 'T2G', 'T2G', 'T2G', 'T2G', 'T2D', 'T2G', 'T2G', 'T2G', 'T2G', 'T2G', 'T2G', 'T2G', 'T2G', 'T2G', 'T2G', 'T2G', 'T2G', 'T2G', 'T2D', 'T2G', 'T2G', 'T2G', 'T2G', 'T2G', 'T2G', 'T2G', 'T2G', 'T2G', 'T2G', 'T2G', 'T2G', 'T2G', 'T2G', 'T2G', 'T2G', 'T2G', 'T2G', 'T2G', 'T2G', 'T2G', 'T2G', 'T2G', 'T2G', 'T2G', 'T2G', 'T2G', 'T2G', 'T2G', 'T2G', 'T2G', 'T2G', 'T2G', 'T2G', 'T2G', 'T2G', 'T2G', 'T2G', 'T2G', 'T2G', 'T2G', 'T2G', 'T2G', 'T2G', 'T2G', 'T2G', 'T2G', 'T2G', 'T2G', 'T2G', 'T2G', 'T2G', 'T2G', 'T2G', 'T2G', 'T2G', 'T2G', 'T2G', 'T2G', 'T2G', 'T2G', 'T2G', 'T2G', 'T2G', 'T2G', 'T2G', 'T2G', 'T2G', 'T2G', 'T2G', 'T2G', 'T2G', 'T2G', 'T2G', 'T2G', 'T2G', 'T2G', 'T2G', 'T2G', 'T2G', 'T2G', 'T2G', 'T2G', 'T2G', 'T2G', 'T2G', 'T2G', 'T2G', 'T2G', 'T2G', 'T2G', 'T2G', 'T2G', 'T2G', 'T2G', 'T2G', 'T2G', 'T2G', 'T2G', 'T2G', 'T2G', 'T2G', 'T2G', 'T2G', 'T2G', 'T2G', 'T2G', 'T2G', 'T2G', 'T2D', 'T2G', 'T2G', 'T2G', 'T2G', 'T2G', 'T2G', 'T2G', 'T2G', 'T2G', 'T2G', 'T2G', 'T2G', 'T2G', 'T2G', 'T2G', 'T2G', 'T2G', 'T2G', 'T2G', 'T2G', 'T2G', 'T2G', 'T2G', 'T2G', 'T2D', 'T2G', 'T2G', 'T2G', 'T2G', 'T2G', 'T2G', 'T2G', 'T2G', 'T2G', 'T2G', 'T2G', 'T2G', 'T2G', 'T2G', 'T2G', 'T2G', 'T2G', 'T2G', 'T2G', 'T2G', 'T2G', 'T2D', 'T2G', 'T2G', 'T2G', 'T2G', 'T2G', 'T2G', 'T2G', 'T2G', 'T2G', 'T2G', 'T2G', 'T2G', 'T2G', 'T2G', 'T2G', 'T2G', 'T2G', 'T2G', 'T2G', 'T2G', 'T2G', 'T2G', 'T2G', 'T2G', 'T2G', 'T2G', 'T2G', 'T2G', 'T2G', 'T2G', 'T2G', 'T2G', 'T2G', 'T2G', 'T2G', 'T2G', 'T2G', 'T2G', 'T2G', 'T2G', 'T2G', 'T2G', 'T2G', 'T2G', 'T2G', 'T2G', 'T2G', 'T2G', 'T2G', 'T2G', 'T2G', 'T2G', 'T2G', 'T2G', 'T2G', 'T2G', 'T2G', 'T2G', 'T2G', 'T2G', 'T2G', 'T2G', 'T2G', 'T2G', 'T2G', 'T2G', 'T2G', 'T2G', 'T2G', 'T2G', 'T2G', 'T2G', 'T2G', 'T2G', 'T2G', 'T2G', 'T2G', 'T2G', 'T2G', 'T2G', 'T2G', 'T2G', 'T2G', 'T2G', 'T2G', 'T2G', 'T2G', 'T2G', 'T2G', 'T2G', 'T2G', 'T2G', 'T2G', 'T2G', 'T2G', 'T2G', 'T2G', 'T2G', 'T2G', 'T2G', 'T2G', 'T2G', 'T2G', 'T2G', 'T2G', 'T2G', 'T2G', 'T2G', 'T2G', 'T2G', 'T2G', 'T2G', 'T2G', 'T2G', 'T2G', 'T2G', 'T2G', 'T2G', 'T2G', 'T2G', 'T2G', 'T2G', 'T2G', 'T2G', 'T2G', 'T2G', 'T2G', 'T2G', 'T2G', 'T2G', 'T2G', 'T2G', 'T2G', 'T2G', 'T2G', 'T2G', 'T2G', 'T2G', 'T2G', 'T2G', 'T2G', 'T2G', 'T2G', 'T2G', 'T2G', 'T2G', 'T2G', 'T2G', 'T2G', 'T2G', 'T2G', 'T2G', 'T2G', 'T2G', 'T2G', 'T2G', 'T2G', 'T2G', 'T2G', 'T2G', 'T2G', 'T2G', 'T2G', 'T2G', 'T2G', 'T2G', 'T2G', 'T2G', 'T2G', 'T2G', 'T2G', 'T2G', 'T2G', 'T2G', 'T2G', 'T2G', 'T2G', 'T2G', 'T2G', 'T2G', 'T2G', 'T2G', 'T2G', 'T2G', 'T2G', 'T2G', 'T2G', 'T2G', 'T2G', 'T2G', 'T2G', 'T2G', 'T2G', 'T2G', 'T2G', 'T2G', 'T2G', 'T2G', 'T2G', 'T2G', 'T2G', 'T2G', 'T2G', 'T2G', 'T2G', 'T2G', 'T2G', 'T2G', 'T2G', 'T2G', 'T2G', 'T2G', 'T2G', 'T2G', 'T2G', 'T2G', 'T2G', 'T2G', 'T2G', 'T2G', 'T2G', 'T2D', 'T2G', 'T2G', 'T2G', 'T2G', 'T2G', 'T2G', 'T2G', 'T2G', 'T2G', 'T2G', 'T2G', 'T2G', 'T2G', 'T2G', 'T2G', 'T2G', 'T2G', 'T2G', 'T2D', 'T2G', 'T2G', 'T2G', 'T2G', 'T2G', 'T2G', 'T2G', 'T2G', 'T2G', 'T2G', 'T2G', 'T2G', 'T2G', 'T2G', 'T2G', 'T2G', 'T2G', 'T2G', 'T2G', 'T2G', 'T2G', 'T2D', 'T2G', 'T2G', 'T2G', 'T2G', 'T2G', 'T2G', 'T2G', 'T2G', 'T2G', 'T2G', 'T2D', 'T2G', 'T2G', 'T2G', 'T2G', 'T2G', 'T2G', 'T2G', 'T2G', 'T2G', 'T2G', 'T2G', 'T2G', 'T2G', 'T2G', 'T2G', 'T2G', 'T2G', 'T2G', 'T2G', 'T2G', 'T2G', 'T2G', 'T2G', 'T2G', 'T2G', 'T2G', 'T2G', 'T2G', 'T2G', 'T2G', 'T2G', 'T2G', 'T2G', 'T2G', 'T2G', 'T2G', 'T2G', 'T2G', 'T2G', 'T2G', 'T2G', 'T2G', 'T2G', 'T2G', 'T2G', 'T2G', 'T2G', 'T2G', 'T2G', 'T2G', 'T2G', 'T2G', 'T2G', 'T2G', 'T2G', 'T2G', 'T2G', 'T2G', 'T2G', 'T2D', 'T2G', 'T2G', 'T2G', 'T2G', 'T2G', 'T2G', 'T2G', 'T2G', 'T2G', 'T2G', 'T2G', 'T2G', 'T2G', 'T2G', 'T2G', 'T2G', 'T2G', 'T2G', 'T2G', 'T2G', 'T2G', 'T2G', 'T2G', 'T2G', 'T2G', 'T2G', 'T2G', 'T2G', 'T2G', 'T2G', 'T2G', 'T2G', 'T2G', 'T2G', 'T2G', 'T2G', 'T2G', 'T2G', 'T2G', 'T2G', 'T2G', 'T2G', 'T2G', 'T2G', 'T2G', 'T2G', 'T2G', 'T2G', 'T2G', 'T2G', 'T2G', 'T2G', 'T2G', 'T2G', 'T2G', 'T2G', 'T2G', 'T2G', 'T2G', 'T2G', 'T2G', 'T2G', 'T2G', 'T2G', 'T2G', 'T2G', 'T2G', 'T2G', 'T2G', 'T2G', 'T2G', 'T2D', 'T2G', 'T2G', 'T2G', 'T2G', 'T2G', 'T2G', 'T2G', 'T2G', 'T2G', 'T2G', 'T2G', 'T2G', 'T2G', 'T2G', 'T2G', 'T2G', 'T2G', 'T2G', 'T2G', 'T2G', 'T2G', 'T2G', 'T2G', 'T2G', 'T2G', 'T2G', 'T2G', 'T2G', 'T2G', 'T2G', 'T2G', 'T2G', 'T2G', 'T2G', 'T2G', 'T2G', 'T2G', 'T2G', 'T2G', 'T2G', 'T2G', 'T2G', 'T2G', 'T2G', 'T2G', 'T2G', 'T2G', 'T2G', 'T2G', 'T2G', 'T2D', 'T2G', 'T2G', 'T2G', 'T2G', 'T2G', 'T2G', 'T2G', 'T2G', 'T2G', 'T2G', 'T2G', 'T2G', 'T2G', 'T2G', 'T2G', 'T2G', 'T2G', 'T2G', 'T2G', 'T2G', 'T2G', 'T2G', 'T2G', 'T2G', 'T2G', 'T2G', 'T2G', 'T2G', 'T2G', 'T2G', 'T2G', 'T2G', 'T2G', 'T2G', 'T2G', 'T2G', 'T2G', 'T2G', 'T2G', 'T2G', 'T2G', 'T2G', 'T2G', 'T2G', 'T2G', 'T2G', 'T2G', 'T2G', 'T2D', 'T2G', 'T2G', 'T2G', 'T2G', 'T2G', 'T2G', 'T2G', 'T2G', 'T2G', 'T2G', 'T2G', 'T2G', 'T2G', 'T2G', 'T2G', 'T2G', 'T2G', 'T2G', 'T2G', 'T2G', 'T2G', 'T2G', 'T2G', 'T2G', 'T2G', 'T2G', 'T2G', 'T2G', 'T2G', 'T2G', 'T2G', 'T2G', 'T2G', 'T2G', 'T2G', 'T2G', 'T2G', 'T2G', 'T2G', 'T2G', 'T2G', 'T2G', 'T2G', 'T2G', 'T2G', 'T2G', 'T2G', 'T2G', 'T2G', 'T2G', 'T2G', 'T2G', 'T2G', 'T2G', 'T2G', 'T2G', 'T2G', 'T2G', 'T2G', 'T2G', 'T2G', 'T2G', 'T2G', 'T2G', 'T2G', 'T2G', 'T2G', 'T2G', 'T2G', 'T2G', 'T2G', 'T2G', 'T2G', 'T2G', 'T2G', 'T2G', 'T2G', 'T2G', 'T2G', 'T2G', 'T2G', 'T2G', 'T2G', 'T2G', 'T2G', 'T2G', 'T2G', 'T2G', 'T2G', 'T2G', 'T2G', 'T2D', 'T2G', 'T2G', 'T2G', 'T2G', 'T2G', 'T2G', 'T2G', 'T2G', 'T2G', 'T2D', 'T2G', 'T2G', 'T2G', 'T2G', 'T2G', 'T2G', 'T2G', 'T2G', 'T2G', 'T2G', 'T2G', 'T2G', 'T2G', 'T2G', 'T2G', 'T2G', 'T2G', 'T2G', 'T2G', 'T2G', 'T2G', 'T2G', 'T2G', 'T2G', 'T2G', 'T2G', 'T2G', 'T2G', 'T2G', 'T2G', 'T2G', 'T2G', 'T2G', 'T2G', 'T2D', 'T2G', 'T2G', 'T2G', 'T2G', 'T2G', 'T2G', 'T2G', 'T2G', 'T2G', 'T2G', 'T2G', 'T2G', 'T2G', 'T2G', 'T2D', 'T2G', 'T2G', 'T2G', 'T2G', 'T2D', 'T2G', 'T2G', 'T2G', 'T2G', 'T2G', 'T2G', 'T2G', 'T2G', 'T2G', 'T2G', 'T2G', 'T2G', 'T2G', 'T2G', 'T2G', 'T2G', 'T2D', 'T2G', 'T2G', 'T2G', 'T2G', 'T2G', 'T2G', 'T2G', 'T2G', 'T2G', 'T2G', 'T2G', 'T2G', 'T2G', 'T2G', 'T2G', 'T2G', 'T2G', 'T2G', 'T2G', 'T2G', 'T2G', 'T2G', 'T2G', 'T2G', 'T2G', 'T2G', 'T2G', 'T2G', 'T2G', 'T2G', 'T2G', 'T2G', 'T2G', 'T2G', 'T2G', 'T2G', 'T2G', 'T2D', 'T2G', 'T2G', 'T2G', 'T2G', 'T2G', 'T2G', 'T2G', 'T2G', 'T2G', 'T2G', 'T2G', 'T2G', 'T2G', 'T2G', 'T2G', 'T2G', 'T2G', 'T2G', 'T2G', 'T2G', 'T2G', 'T2G', 'T2G', 'T2G', 'T2G', 'T2G', 'T2G', 'T2G', 'T2G', 'T2G', 'T2G', 'T2G', 'T2G', 'T2G', 'T2G', 'T2G', 'T2G', 'T2G', 'T2G', 'T2G', 'T2G', 'T2G', 'T2G', 'T2D', 'T2G', 'T2G', 'T2G', 'T2G', 'T2G', 'T2G', 'T2G', 'T2G', 'T2G', 'T2G', 'T2G', 'T2G', 'T2G', 'T2G', 'T2G', 'T2G', 'T2G', 'T2G', 'T2G', 'T2G', 'T2G', 'T2G', 'T2G', 'T2G', 'T2G', 'T2G', 'T2G', 'T2G', 'T2G', 'T2G', 'T2G', 'T2G', 'T2G', 'T2G', 'T2G', 'T2G', 'T2G', 'T2G', 'T2G', 'T2G', 'T2G', 'T2G', 'T2G', 'T2G', 'T2G', 'T2G', 'T2G', 'T2G', 'T2G', 'T2G', 'T2G', 'T2G', 'T2G', 'T2G', 'T2G', 'T2G', 'T2G', 'T2G', 'T2G', 'T2G', 'T2G', 'T2G', 'T2D', 'T2G', 'T2G', 'T2G', 'T2G', 'T2G', 'T2G', 'T2G', 'T2G', 'T2G', 'T2G', 'T2G', 'T2G', 'T2G', 'T2D', 'T2G', 'T2G', 'T2G', 'T2G', 'T2G', 'T2G', 'T2G', 'T2G', 'T2G', 'T2G', 'T2G', 'T2G', 'T2G', 'T2G', 'T2G', 'T2G', 'T2G', 'T2G', 'T2G', 'T2G', 'T2G', 'T2G', 'T2G', 'T2G', 'T2G', 'T2G', 'T2G', 'T2G', 'T2G', 'T2G', 'T2G', 'T2G', 'T2G', 'T2G', 'T2G', 'T2G', 'T2G', 'T2G', 'T2G', 'T2G', 'T2G', 'T2G', 'T2G', 'T2G', 'T2G', 'T2G', 'T2G', 'T2G', 'T2G', 'T2G', 'T2G', 'T2G', 'T2G', 'T2G', 'T2G', 'T2G', 'T2G', 'T2G', 'T2G', 'T2G', 'T2G', 'T2G', 'T2G', 'T2G', 'T2G', 'T2G', 'T2G', 'T2G', 'T2G', 'T2G', 'T2G', 'T2G', 'T2G', 'T2G', 'T2G', 'T2G', 'T2G', 'T2G', 'T2G', 'T2G', 'T2G', 'T2G', 'T2G', 'T2G', 'T2G', 'T2G', 'T2G', 'T2G', 'T2G', 'T2G', 'T2G', 'T2G', 'T2G', 'T2G', 'T2G', 'T2G', 'T2G', 'T2G', 'T2G', 'T2G', 'T2G', 'T2G', 'T2G', 'T2G', 'T2G', 'T2G', 'T2G', 'T2G', 'T2G', 'T2G', 'T2G', 'T2G', 'T2G', 'T2G', 'T2G', 'T2G', 'T2G', 'T2G', 'T2G', 'T2D', 'T2G', 'T2G', 'T2G', 'T2G', 'T2G', 'T2G', 'T2G', 'T2G', 'T2G', 'T2G', 'T2G', 'T2G', 'T2G', 'T2D', 'T2G', 'T2G', 'T2G', 'T2G', 'T2G', 'T2G', 'T2G', 'T2G', 'T2G', 'T2G', 'T2G', 'T2G', 'T2G', 'T2G', 'T2G', 'T2G', 'T2G', 'T2G', 'T2G', 'T2G', 'T2G', 'T2G', 'T2G', 'T2G', 'T2G', 'T2G', 'T2G', 'T2G', 'T2G', 'T2G', 'T2G', 'T2G', 'T2G', 'T2G', 'T2G', 'T2G', 'T2G', 'T2G', 'T2G', 'T2G', 'T2G', 'T2G', 'T2G', 'T2G', 'T2G', 'T2G', 'T2G', 'T2G', 'T2G', 'T2G', 'T2G', 'T2G', 'T2G', 'T2G', 'T2G', 'T2G', 'T2G', 'T2G', 'T2G', 'T2G', 'T2G', 'T2G', 'T2D', 'T2G', 'T2G', 'T2G', 'T2G', 'T2G', 'T2G', 'T2G', 'T2G', 'T2G', 'T2G', 'T2G', 'T2G', 'T2G', 'T2G', 'T2G', 'T2G', 'T2G', 'T2G', 'T2G', 'T2G', 'T2G', 'T2G', 'T2G', 'T2G', 'T2G', 'T2G', 'T2G', 'T2G', 'T2G', 'T2G', 'T2G', 'T2G', 'T2G', 'T2G', 'T2G', 'T2G', 'T2G', 'T2G', 'T2G', 'T2G', 'T2G', 'T2G', 'T2G', 'T2G', 'T2G', 'T2G', 'T2D', 'T2G', 'T2G', 'T2G', 'T2G', 'T2G', 'T2G', 'T2G', 'T2G', 'T2G', 'T2G', 'T2G', 'T2G', 'T2G', 'T2D', 'T2G', 'T2G', 'T2G', 'T2G', 'T2G', 'T2G', 'T2G', 'T2G', 'T2G', 'T2G', 'T2D', 'T2G', 'T2G', 'T2G', 'T2G', 'T2G', 'T2G', 'T2G', 'T2G', 'T2G', 'T2G', 'T2G', 'T2G', 'T2G', 'T2G', 'T2G', 'T2G', 'T2G', 'T2G', 'T2G', 'T2G', 'T2G', 'T2G', 'T2G', 'T2G', 'T2G', 'T2G', 'T2G', 'T2G', 'T2G', 'T2G', 'T2G', 'T2G', 'T2G', 'T2G', 'T2G', 'T2G', 'T2G', 'T2G', 'T2G', 'T2G', 'T2G', 'T2G', 'T2G', 'T2G', 'T2G', 'T2G', 'T2G', 'T2G', 'T2G', 'T2G', 'T2G', 'T2G', 'T2G', 'T2G', 'T2G', 'T2G', 'T2G', 'T2G', 'T2G', 'T2G', 'T2G', 'T2G', 'T2G', 'T2G', 'T2G', 'T2G', 'T2G', 'T2G', 'T2G', 'T2G', 'T2G', 'T2G', 'T2G', 'T2G', 'T2G', 'T2G', 'T2G', 'T2G', 'T2G', 'T2G', 'T2G', 'T2G', 'T2G', 'T2G', 'T2G', 'T2G', 'T2G', 'T2G', 'T2G', 'T2G', 'T2G', 'T2G', 'T2G', 'T2G', 'T2G', 'T2G', 'T2G', 'T2G', 'T2G', 'T2G', 'T2G', 'T2G', 'T2G', 'T2G', 'T2G', 'T2G', 'T2G', 'T2G', 'T2G', 'T2G', 'T2G', 'T2G', 'T2G', 'T2G', 'T2G', 'T2G', 'T2G', 'T2G', 'T2G', 'T2G', 'T2G', 'T2G', 'T2G', 'T2G', 'T2G', 'T2G', 'T2G', 'T2G', 'T2G', 'T2G', 'T2G', 'T2G', 'T2G', 'T2G', 'T2G', 'T2G', 'T2G', 'T2G', 'T2G', 'T2G', 'T2G', 'T2G', 'T2G', 'T2G', 'T2G', 'T2G', 'T2G', 'T2G', 'T2G', 'T2G', 'T2G', 'T2G', 'T2G', 'T2G', 'T2G', 'T2G', 'T2G', 'T2G', 'T2G', 'T2G', 'T2G', 'T2G', 'T2G', 'T2G', 'T2G', 'T2G', 'T2G', 'T2D', 'T2G', 'T2G', 'T2G', 'T2G', 'T2G', 'T2G', 'T2G', 'T2G', 'T2G', 'T2G', 'T2G', 'T2G', 'T2G', 'T2G', 'T2G', 'T2G', 'T2G', 'T2G', 'T2G', 'T2G', 'T2D', 'T2G', 'T2D', 'T2G', 'T2G', 'T2G', 'T2G', 'T2G', 'T2G', 'T2G', 'T2G', 'T2G', 'T2G', 'T2G', 'T2G', 'T2G', 'T2D', 'T2G', 'T2G', 'T2G', 'T2G', 'T2G', 'T2G', 'T2G', 'T2G', 'T2G', 'T2G', 'T2G', 'T2G', 'T2G', 'T2G', 'T2G', 'T2G', 'T2G', 'T2G', 'T2G', 'T2G', 'T2G', 'T2G', 'T2G', 'T2G', 'T2G', 'T2G', 'T2G', 'T2G', 'T2G', 'T2G', 'T2G', 'T2G', 'T2G', 'T2G', 'T2G', 'T2G', 'T2G', 'T2G', 'T2G', 'T2G', 'T2G', 'T2G', 'T2G', 'T2G', 'T2G', 'T2G', 'T2G', 'T2G', 'T2G', 'T2G', 'T2G', 'T2G', 'T2G', 'T2G', 'T2D', 'T2G', 'T2G', 'T2G', 'T2G', 'T2G', 'T2G', 'T2G', 'T2G', 'T2G', 'T2G', 'T2G', 'T2G', 'T2G', 'T2G', 'T2G', 'T2G', 'T2G', 'T2G', 'T2G', 'T2G', 'T2G', 'T2G', 'T2G', 'T2G', 'T2G', 'T2G', 'T2G', 'T2G', 'T2G', 'T2G', 'T2G', 'T2G', 'T2G', 'T2G', 'T2G', 'T2G', 'T2G', 'T2G', 'T2G', 'T2G', 'T2G', 'T2G', 'T2G', 'T2G', 'T2G', 'T2G', 'T2G', 'T2G', 'T2G', 'T2G', 'T2G', 'T2G', 'T2G', 'T2G', 'T2D', 'T2G', 'T2G', 'T2G', 'T2G', 'T2G', 'T2G', 'T2G', 'T2G', 'T2G', 'T2G', 'T2G', 'T2G', 'T2G', 'T2D', 'T2G', 'T2G', 'T2G', 'T2G', 'T2G', 'T2G', 'T2G', 'T2G', 'T2G', 'T2G', 'T2G', 'T2G', 'T2G', 'T2G', 'T2G', 'T2G', 'T2G', 'T2G', 'T2G', 'T2D', 'T2G', 'T2G', 'T2G', 'T2G', 'T2G', 'T2G', 'T2G', 'T2G', 'T2G', 'T2G', 'T2G', 'T2G', 'T2G', 'T2G', 'T2G', 'T2G', 'T2G', 'T2G', 'T2G', 'T2G', 'T2G', 'T2G', 'T2G', 'T2G', 'T2G', 'T2G', 'T2G', 'T2G', 'T2G', 'T2G', 'T2G', 'T2G', 'T2G', 'T2G', 'T2G', 'T2G', 'T2G', 'T2G', 'T2G', 'T2G', 'T2G', 'T2G', 'T2G', 'T2G', 'T2G', 'T2G', 'T2G', 'T2G', 'T2G', 'T2G', 'T2G', 'T2G', 'T2G', 'T2G', 'T2G', 'T2G', 'T2G', 'T2G', 'T2G', 'T2G', 'T2G', 'T2G', 'T2G', 'T2G', 'T2G', 'T2G', 'T2G', 'T2G', 'T2G', 'T2G', 'T2G', 'T2G', 'T2G', 'T2G', 'T2G', 'T2G', 'T2G', 'T2G', 'T2G', 'T2G', 'T2G', 'T2G', 'T2G', 'T2G', 'T2G', 'T2G', 'T2G', 'T2G', 'T2G', 'T2G', 'T2G', 'T2G', 'T2G', 'T2G', 'T2G', 'T2G', 'T2G', 'T2G', 'T2G', 'T2G', 'T2G', 'T2G', 'T2G', 'T2G', 'T2G', 'T2G', 'T2G', 'T2G', 'T2G', 'T2G', 'T2G', 'T2G', 'T2G', 'T2G', 'T2G', 'T2G', 'T2G', 'T2G', 'T2G', 'T2G', 'T2G', 'T2G', 'T2G', 'T2G', 'T2G', 'T2G', 'T2G', 'T2G', 'T2G', 'T2G', 'T2G', 'T2G', 'T2G', 'T2G', 'T2G', 'T2G', 'T2G', 'T2G', 'T2G', 'T2G', 'T2G', 'T2G', 'T2G', 'T2G', 'T2G', 'T2G', 'T2G', 'T2G', 'T2G', 'T2G', 'T2G', 'T2G', 'T2G', 'T2G', 'T2G', 'T2G', 'T2G', 'T2G', 'T2G', 'T2G', 'T2G', 'T2G', 'T2G', 'T2G', 'T2G', 'T2G', 'T2G', 'T2G', 'T2G', 'T2G', 'T2G', 'T2G', 'T2G', 'T2G', 'T2G', 'T2G', 'T2G', 'T2G', 'T2G', 'T2G', 'T2G', 'T2G', 'T2G', 'T2G', 'T2G', 'T2G', 'T2G', 'T2G', 'T2G', 'T2G', 'T2G', 'T2G', 'T2G', 'T2G', 'T2G', 'T2G', 'T2G', 'T2G', 'T2D', 'T2G', 'T2G', 'T2G', 'T2G', 'T2G', 'T2G', 'T2G', 'T2G', 'T2G', 'T2G', 'T2G', 'T2G', 'T2G', 'T2G', 'T2G', 'T2G', 'T2G', 'T2G', 'T2G', 'T2G', 'T2G', 'T2G', 'T2G', 'T2G', 'T2G', 'T2G', 'T2G', 'T2G', 'T2G', 'T2G', 'T2G', 'T2G', 'T2G', 'T2G', 'T2G', 'T2G', 'T2G', 'T2G', 'T2G', 'T2G', 'T2G', 'T2G', 'T2G', 'T2G', 'T2G', 'T2G', 'T2G', 'T2G', 'T2G', 'T2G', 'T2G', 'T2G', 'T2G', 'T2G', 'T2G', 'T2G', 'T2G', 'T2G', 'T2G', 'T2G', 'T2G', 'T2G', 'T2G', 'T2G', 'T2G', 'T2G', 'T2G', 'T2G', 'T2G', 'T2G', 'T2G', 'T2G', 'T2G', 'T2G', 'T2G', 'T2G', 'T2G', 'T2G', 'T2G', 'T2G', 'T2G', 'T2G', 'T2G', 'T2G', 'T2G', 'T2G', 'T2G', 'T2G', 'T2G', 'T2G', 'T2G', 'T2G', 'T2G', 'T2G', 'T2G', 'T2G', 'T2G', 'T2G', 'T2G', 'T2G', 'T2G', 'T2G', 'T2G', 'T2G', 'T2G', 'T2G', 'T2G', 'T2G', 'T2G', 'T2G', 'T2G', 'T2G', 'T2G', 'T2G', 'T2G', 'T2G', 'T2G', 'T2G', 'T2G', 'T2G', 'T2G', 'T2D', 'T2G', 'T2G', 'T2G', 'T2G', 'T2G', 'T2G', 'T2G', 'T2G', 'T2G', 'T2G', 'T2G', 'T2G', 'T2G', 'T2G', 'T2G', 'T2D', 'T2G', 'T2G', 'T2G', 'T2G', 'T2G', 'T2G', 'T2G', 'T2G', 'T2G', 'T2G', 'T2G', 'T2G', 'T2G', 'T2G', 'T2G', 'T2G', 'T2D', 'T2G', 'T2G', 'T2G', 'T2G', 'T2G', 'T2G', 'T2G', 'T2G', 'T2G', 'T2G', 'T2G', 'T2G', 'T2G', 'T2G', 'T2G', 'T2G', 'T2G', 'T2G', 'T2G', 'T2G', 'T2G', 'T2G', 'T2G', 'T2G', 'T2G', 'T2G', 'T2G', 'T2G', 'T2G', 'T2G', 'T2G', 'T2G', 'T2G', 'T2G', 'T2G', 'T2G', 'T2G', 'T2G', 'T2G', 'T2G', 'T2G', 'T2G', 'T2G', 'T2G', 'T2G', 'T2G', 'T2G', 'T2G', 'T2G', 'T2G', 'T2G', 'T2G', 'T2G', 'T2G', 'T2G', 'T2G', 'T2G', 'T2G', 'T2G', 'T2G', 'T2G', 'T2G', 'T2G', 'T2G', 'T2G', 'T2G', 'T2G', 'T2G', 'T2G', 'T2G', 'T2G', 'T2G', 'T2G', 'T2G', 'T2G', 'T2G', 'T2G', 'T2G', 'T2G', 'T2G', 'T2G', 'T2G', 'T2G', 'T2G', 'T2G', 'T2G', 'T2G', 'T2G', 'T2G', 'T2G', 'T2G', 'T2G', 'T2G', 'T2G', 'T2G', 'T2G', 'T2G', 'T2G', 'T2G', 'T2G', 'T2G', 'T2G', 'T2G', 'T2G', 'T2G', 'T2G', 'T2G', 'T2G', 'T2G', 'T2G', 'T2G', 'T2G', 'T2G', 'T2G', 'T2G', 'T2D', 'T2G', 'T2G', 'T2G', 'T2G', 'T2G', 'T2G', 'T2G', 'T2G', 'T2G', 'T2G', 'T2G', 'T2G', 'T2G', 'T2G', 'T2G', 'T2G', 'T2G', 'T2G', 'T2G', 'T2G', 'T2G', 'T2G', 'T2G', 'T2G', 'T2G', 'T2G', 'T2G', 'T2G', 'T2G', 'T2G', 'T2D', 'T2G', 'T2G', 'T2G', 'T2G', 'T2G', 'T2G', 'T2G', 'T2G', 'T2G', 'T2G', 'T2G', 'T2G', 'T2G', 'T2G', 'T2G', 'T2G', 'T2D', 'T2G', 'T2G', 'T2G', 'T2G', 'T2G', 'T2G', 'T2G', 'T2G', 'T2G', 'T2G', 'T2G', 'T2G', 'T2G', 'T2G', 'T2G', 'T2G', 'T2G', 'T2G', 'T2G', 'T2G', 'T2G', 'T2G', 'T2G', 'T2G', 'T2G', 'T2G', 'T2G', 'T2G', 'T2G', 'T2G', 'T2G', 'T2G', 'T2G', 'T2G', 'T2G', 'T2G', 'T2G', 'T2G', 'T2G', 'T2G', 'T2G', 'T2G', 'T2G', 'T2G', 'T2G', 'T2G', 'T2G', 'T2G', 'T2G', 'T2G', 'T2G', 'T2G', 'T2G', 'T2G', 'T2G', 'T2G', 'T2G', 'T2G', 'T2G', 'T2G', 'T2G', 'T2G', 'T2G', 'T2G', 'T2G', 'T2G', 'T2G', 'T2G', 'T2G', 'T2G', 'T2G', 'T2G', 'T2G', 'T2G', 'T2G', 'T2G', 'T2G', 'T2G', 'T2G', 'T2G', 'T2G', 'T2G', 'T2G', 'T2G', 'T2G', 'T2G', 'T2G', 'T2G', 'T2G', 'T2G', 'T2G', 'T2G', 'T2G', 'T2G', 'T2G', 'T2G', 'T2G', 'T2G', 'T2G', 'T2G', 'T2G', 'T2G', 'T2G', 'T2G', 'T2G', 'T2G', 'T3D', 'T3G', 'T3G', 'T3G', 'T3G', 'T3G', 'T3G', 'T3G', 'T3G', 'T3G', 'T3G', 'T3G', 'T3G', 'T3G', 'T3G', 'T3G', 'T3G', 'T3G', 'T3G', 'T3G', 'T3G', 'T3G', 'T3G', 'T3G', 'T3G', 'T3G', 'T3G', 'T3G', 'T3G', 'T3G', 'T3G', 'T3G', 'T3G', 'T3G', 'T3G', 'T3G', 'T3G', 'T3G', 'T3G', 'T3G', 'T3G', 'T3G', 'T3G', 'T3G', 'T3G', 'T3G', 'T3G', 'T3G', 'T3G', 'T3G', 'T3G', 'T3G', 'T3G', 'T3G', 'T3G', 'T3G', 'T3G', 'T3G', 'T3D', 'T3D', 'T3G', 'T3G', 'T3G', 'T3G', 'T3G', 'T3G', 'T3G', 'T3G', 'T3G', 'T3G', 'T3G', 'T3G', 'T3G', 'T3G', 'T3G', 'T3G', 'T3G', 'T3G', 'T3G', 'T3G', 'T3G', 'T3G', 'T3G', 'T3G', 'T3D', 'T3G', 'T3G', 'T3G', 'T3G', 'T3G', 'T3G', 'T3G', 'T3G', 'T3G', 'T3G', 'T3G', 'T3G', 'T3G', 'T3G', 'T3G', 'T3G', 'T3D', 'T3G', 'T3D', 'T3G', 'T3G', 'T3G', 'T3G', 'T3G', 'T3G', 'T3G', 'T3G', 'T3G', 'T3G', 'T3G', 'T3G', 'T3G', 'T3G', 'T3G', 'T3G', 'T3G', 'T3G', 'T3G', 'T3G', 'T3G', 'T3G', 'T3G', 'T3G', 'T3G', 'T3G', 'T3G', 'T3G', 'T3G', 'T3G', 'T3G', 'T3G', 'T3G', 'T3G', 'T3G', 'T3G', 'T3G', 'T3G', 'T3D', 'T3G', 'T3G', 'T3G', 'T3G', 'T3G', 'T3G', 'T3G', 'T3G', 'T3G', 'T3G', 'T3G', 'T3G', 'T3G', 'T3G', 'T3G', 'T3G', 'T3G', 'T3G', 'T3G', 'T3G', 'T3G', 'T3G', 'T3G', 'T3G', 'T3G', 'T3G', 'T3G', 'T3G', 'T3G', 'T3G', 'T3G', 'T3G', 'T3G', 'T3G', 'T3G', 'T3G', 'T3G', 'T3G', 'T3G', 'T3G', 'T3G', 'T3G', 'T3G', 'T3G', 'T3G', 'T3G', 'T3G', 'T3G', 'T3G', 'T3G', 'T3G', 'T3G', 'T3G', 'T3G', 'T3G', 'T3G', 'T3G', 'T3G', 'T3G', 'T3G', 'T3G', 'T3G', 'T3G', 'T3G', 'T3G', 'T3G', 'T3G', 'T3G', 'T3G', 'T3G', 'T3G', 'T3G', 'T3G', 'T3G', 'T3G', 'T3G', 'T3G', 'T3D', 'T3G', 'T3G', 'T3G', 'T3G', 'T3G', 'T3G', 'T3G', 'T3G', 'T3D', 'T3G', 'T3G', 'T3G', 'T3G', 'T3G', 'T3G', 'T3G', 'T3G', 'T3G', 'T3G', 'T3G', 'T3G', 'T3G', 'T3G', 'T3G', 'T3G', 'T3G', 'T3G', 'T3G', 'T3G', 'T3G', 'T3G', 'T3G', 'T3G', 'T3G', 'T3G', 'T3G', 'T3G', 'T3G', 'T3G', 'T3G', 'T3G', 'T3G', 'T3G', 'T3G', 'T3G', 'T3G', 'T3G', 'T3G', 'T3G', 'T3G', 'T3G', 'T3G', 'T3G', 'T3G', 'T3G', 'T3D', 'T3G', 'T3G', 'T3G', 'T3G', 'T3G', 'T3G', 'T3G', 'T3G', 'T3G', 'T3G', 'T3G', 'T3G', 'T3G', 'T3G', 'T3G', 'T3G', 'T3G', 'T3G', 'T3G', 'T3G', 'T3G', 'T3G', 'T3G', 'T3G', 'T3G', 'T3G', 'T3G', 'T3G', 'T3G', 'T3G', 'T3G', 'T3G', 'T3G', 'T3G', 'T3G', 'T3G', 'T3D', 'T3G', 'T3G', 'T3G', 'T3G', 'T3D', 'T3G', 'T3G', 'T3G', 'T3G', 'T3G', 'T3G', 'T3G', 'T3G', 'T3G', 'T3G', 'T3G', 'T3G', 'T3G', 'T3G', 'T3G', 'T3G', 'T3G', 'T3G', 'T3G', 'T3G', 'T3G', 'T3G', 'T3G', 'T3G', 'T3G', 'T3G', 'T3G', 'T3G', 'T3G', 'T3G', 'T3G', 'T3G', 'T3G', 'T3G', 'T3G', 'T3G', 'T3G', 'T3G', 'T3G', 'T3G', 'T3G', 'T3G', 'T3G', 'T3G', 'T3G', 'T3G', 'T3G', 'T3G', 'T3G', 'T3G', 'T3G', 'T3G', 'T3G', 'T3D', 'T3G', 'T3G', 'T3G', 'T3G', 'T3G', 'T3D', 'T3G', 'T3G', 'T3G', 'T3G', 'T3G', 'T3G', 'T3G', 'T3G', 'T3G', 'T3G', 'T3G', 'T3G', 'T3G', 'T3G', 'T3G', 'T3G', 'T3D', 'T3G', 'T3G', 'T3G', 'T3G', 'T3G', 'T3G', 'T3G', 'T3G', 'T3G', 'T3G', 'T3G', 'T3G', 'T3G', 'T3G', 'T3G', 'T3G', 'T3G', 'T3G', 'T3G', 'T3G', 'T3G', 'T3G', 'T3G', 'T3G', 'T3G', 'T3G', 'T3G', 'T3G', 'T3G', 'T3G', 'T3G', 'T3G', 'T3G', 'T3G', 'T3G', 'T3G', 'T3G', 'T3G', 'T3G', 'T3G', 'T3G', 'T3G', 'T3G', 'T3G', 'T3G', 'T3D', 'T3G', 'T3G', 'T3G', 'T3G', 'T3G', 'T3G', 'T3G', 'T3G', 'T3G', 'T3G', 'T3G', 'T3G', 'T3G', 'T3G', 'T3G', 'T3G', 'T3G', 'T3G', 'T3G', 'T3G', 'T3G', 'T3G', 'T3G', 'T3G', 'T3G', 'T3G', 'T3G', 'T3G', 'T3G', 'T3G', 'T3G', 'T3G', 'T3G', 'T3G', 'T3G', 'T3G', 'T3G', 'T3G', 'T3G', 'T3G', 'T3G', 'T3G', 'T3G', 'T3G', 'T3G', 'T3G', 'T3G', 'T3G', 'T3G', 'T3G', 'T3G', 'T3G', 'T3G', 'T3G', 'T3G', 'T3G', 'T3G', 'T3G', 'T3G', 'T3G', 'T3G', 'T3G', 'T3G', 'T3G', 'T3G', 'T3G', 'T3G', 'T3G', 'T3G', 'T3G', 'T3G', 'T3G', 'T3G', 'T3G', 'T3G', 'T3G', 'T3G', 'T3D', 'T3G', 'T3G', 'T3G', 'T3G', 'T3G', 'T3G', 'T3G', 'T3G', 'T3G', 'T3G', 'T3G', 'T3G', 'T3G', 'T3G', 'T3G', 'T3G', 'T3D', 'T3G', 'T3G', 'T3G', 'T3G', 'T3G', 'T3G', 'T3G', 'T3G', 'T3G', 'T3G', 'T3G', 'T3G', 'T3G', 'T3G', 'T3G', 'T3G', 'T3G', 'T3G', 'T3G', 'T3G', 'T3G', 'T3G', 'T3G', 'T3G', 'T3G', 'T3G', 'T3G', 'T3G', 'T3G', 'T3G', 'T3D', 'T3G', 'T3G', 'T3G', 'T3G', 'T3G', 'T3G', 'T3G', 'T3G', 'T3G', 'T3G', 'T3G', 'T3G', 'T3G', 'T3G', 'T3G', 'T3G', 'T3G', 'T3G', 'T3G', 'T3G', 'T3G', 'T3G', 'T3G', 'T3G', 'T3G', 'T3G', 'T3G', 'T3G', 'T3G', 'T3G', 'T3G', 'T3G', 'T3G', 'T3G', 'T3G', 'T3G', 'T3G', 'T3G', 'T3G', 'T3G', 'T3G', 'T3G', 'T3G', 'T3G', 'T3G', 'T3G', 'T3G', 'T3G', 'T3G', 'T3G', 'T3G', 'T3G', 'T3G', 'T3G', 'T3G', 'T3G', 'T3G', 'T3G', 'T3G', 'T3G', 'T3G', 'T3G', 'T3G', 'T3G', 'T3G', 'T3G', 'T3G', 'T3G', 'T3G', 'T3G', 'T3G', 'T3G', 'T3G', 'T3G', 'T3G', 'T3G', 'T3G', 'T3G', 'T3G', 'T3G', 'T3G', 'T3G', 'T3G', 'T3G', 'T3G', 'T3G', 'T3G', 'T3G', 'T3G', 'T3G', 'T3G', 'T3G', 'T3G', 'T3G', 'T3G', 'T3G', 'T3G', 'T3G', 'T3G', 'T3G', 'T3G', 'T3G', 'T3G', 'T3G', 'T3G', 'T3G', 'T3G', 'T3G', 'T3G', 'T3G', 'T3G', 'T3G', 'T3G', 'T3G', 'T3G', 'T3G', 'T3G', 'T3G', 'T3G', 'T3G', 'T3G', 'T3G', 'T3G', 'T3G', 'T3G', 'T3G', 'T3G', 'T3G', 'T3G', 'T3G', 'T3G', 'T3G', 'T3G', 'T3G', 'T3G', 'T3G', 'T3G', 'T3G', 'T3G', 'T3G', 'T3G', 'T3G', 'T3G', 'T3G', 'T3D', 'T3G', 'T3G', 'T3G', 'T3G', 'T3G', 'T3D', 'T3G', 'T3G', 'T3G', 'T3G', 'T3G', 'T3G', 'T3G', 'T3G', 'T3G', 'T3G', 'T3G', 'T3G', 'T3G', 'T3G', 'T3G', 'T3G', 'T3G', 'T3G', 'T3G', 'T3G', 'T3G', 'T3G', 'T3G', 'T3G', 'T3G', 'T3G', 'T3G', 'T3G', 'T3G', 'T3G', 'T3G', 'T3G', 'T3G', 'T3G', 'T3G', 'T3G', 'T3G', 'T3G', 'T3G', 'T3D', 'T3G', 'T3G', 'T3G', 'T3G', 'T3G', 'T3G', 'T3G', 'T3G', 'T3G', 'T3D', 'T3G', 'T3G', 'T3G', 'T3G', 'T3G', 'T3G', 'T3G', 'T3G', 'T3G', 'T3G', 'T3G', 'T3G', 'T3G', 'T3G', 'T3G', 'T3G', 'T3G', 'T3G', 'T3G', 'T3G', 'T3G', 'T3G', 'T3G', 'T3G', 'T3G', 'T3G', 'T3G', 'T3G', 'T3G', 'T3G', 'T3G', 'T3G', 'T3G', 'T3G', 'T3G', 'T3G', 'T3G', 'T3G', 'T3G', 'T3G', 'T3G', 'T3G', 'T3G', 'T3G', 'T3G', 'T3G', 'T3G', 'T3G', 'T3G', 'T3G', 'T3G', 'T3G', 'T3G', 'T3G', 'T3G', 'T3G', 'T3G', 'T3G', 'T3G', 'T3G', 'T3G', 'T3G', 'T3G', 'T3D', 'T3G', 'T3G', 'T3G', 'T3G', 'T3G', 'T3G', 'T3G', 'T3G', 'T3D', 'T3G', 'T3G', 'T3G', 'T3G', 'T3G', 'T3G', 'T3G', 'T3G', 'T3G', 'T3G', 'T3G', 'T3G', 'T3G', 'T3G', 'T3G', 'T3G', 'T3G', 'T3G', 'T3G', 'T3G', 'T3G', 'T3G', 'T3G', 'T3G', 'T3G', 'T3G', 'T3G', 'T3G', 'T3G', 'T3G', 'T3G', 'T3G', 'T3G', 'T3G', 'T3G', 'T3G', 'T3G', 'T3G', 'T3G', 'T3D', 'T3G', 'T3G', 'T3G', 'T3G', 'T3G', 'T3G', 'T3G', 'T3G', 'T3G', 'T3G', 'T3G', 'T3G', 'T3G', 'T3G', 'T3D', 'T3G', 'T3G', 'T3G', 'T3G', 'T3G', 'T3G', 'T3G', 'T3G', 'T3D', 'T3G', 'T3G', 'T3G', 'T3G', 'T3G', 'T3G', 'T3G', 'T3G', 'T3G', 'T3G', 'T3G', 'T3G', 'T3G', 'T3G', 'T3G', 'T3G', 'T3G', 'T3G', 'T3G', 'T3G', 'T3D', 'T3G', 'T3G', 'T3G', 'T3G', 'T3G', 'T3G', 'T3G', 'T3G', 'T3G', 'T3G', 'T3G', 'T3G', 'T3G', 'T3G', 'T3G', 'T3G', 'T3G', 'T3G', 'T3G', 'T3G', 'T3G', 'T3G', 'T3G', 'T3G', 'T3G', 'T3D', 'T3G', 'T3G', 'T3G', 'T3G', 'T3G', 'T3G', 'T3G', 'T3G', 'T3G', 'T3G', 'T3G', 'T3G', 'T3G', 'T3G', 'T3G', 'T3G', 'T3G', 'T3G', 'T3G', 'T3G', 'T3G', 'T3G', 'T3G', 'T3G', 'T3G', 'T3D', 'T3G', 'T3G', 'T3G', 'T3G', 'T3G', 'T3G', 'T3G', 'T3G', 'T3G', 'T3G', 'T3G', 'T3G', 'T3G', 'T3G', 'T3G', 'T3G', 'T3G', 'T3G', 'T3G', 'T3G', 'T3G', 'T3G', 'T3G', 'T3G', 'T3G', 'T3G', 'T3G', 'T3G', 'T3G', 'T3G', 'T3G', 'T3G', 'T3G', 'T3G', 'T3G', 'T3G', 'T3G', 'T3G', 'T3G', 'T3G', 'T3G', 'T3G', 'T3G', 'T3G', 'T3G', 'T3G', 'T3G', 'T3G', 'T3G', 'T3G', 'T3G', 'T3G', 'T3G', 'T3G', 'T3G', 'T3G', 'T3G', 'T3G', 'T3G', 'T3D', 'T3G', 'T3G', 'T3G', 'T3G', 'T3G', 'T3D', 'T3G', 'T3G', 'T3G', 'T3G', 'T3G', 'T3G', 'T3G', 'T3G', 'T3G', 'T3G', 'T3G', 'T3G', 'T3G', 'T3G', 'T3G', 'T3G', 'T3G', 'T3G', 'T3G', 'T3G', 'T3G', 'T3G', 'T3G', 'T3G', 'T3D', 'T3G', 'T3G', 'T3G', 'T3G', 'T3G', 'T3G', 'T3G', 'T3G', 'T3G', 'T3G', 'T3G', 'T3G', 'T3G', 'T3G', 'T3G', 'T3G', 'T3G', 'T3G', 'T3G', 'T3G', 'T3G', 'T3G', 'T3G', 'T3G', 'T3G', 'T3G', 'T3G', 'T3G', 'T3G', 'T3G', 'T3G', 'T3G', 'T3D', 'T3G', 'T3G', 'T3G', 'T3G', 'T3G', 'T3G', 'T3G', 'T3G', 'T3G', 'T3G', 'T3G', 'T3G', 'T3G', 'T3G', 'T3G', 'T3G', 'T3G', 'T3G', 'T3G', 'T3D', 'T3G', 'T3G', 'T3G', 'T3G', 'T3G', 'T3G', 'T3G', 'T3G', 'T3G', 'T3G', 'T3G', 'T3G', 'T3G', 'T3G', 'T3G', 'T3G', 'T3G', 'T3G', 'T3G', 'T3D', 'T3D', 'T3G', 'T3G', 'T3G', 'T3G', 'T3G', 'T3G', 'T3G', 'T3G', 'T3G', 'T3G', 'T3G', 'T3G', 'T3G', 'T3G', 'T3D', 'T3G', 'T3G', 'T3G', 'T3G', 'T3G', 'T3G', 'T3G', 'T3G', 'T3G', 'T3G', 'T3G', 'T3G', 'T3G', 'T3G', 'T3G', 'T3D', 'T3G', 'T3G', 'T3G', 'T3G', 'T3G', 'T3G', 'T3G', 'T3G', 'T3G', 'T3G', 'T3G', 'T3G', 'T3G', 'T3G', 'T3G', 'T3G', 'T3G', 'T3G', 'T3G', 'T3G', 'T3G', 'T3G', 'T3G', 'T3G', 'T3G', 'T3G', 'T3G', 'T3G', 'T3G', 'T3G', 'T3G', 'T3G', 'T3G', 'T3G', 'T3G', 'T3G', 'T3G', 'T3G', 'T3G', 'T3G', 'T3G', 'T3G', 'T3G', 'T3G', 'T3G', 'T3G', 'T3G', 'T3G', 'T3D', 'T3G', 'T3G', 'T3G', 'T3G', 'T3G', 'T3G', 'T3G', 'T3G', 'T3G', 'T3G', 'T3G', 'T3G', 'T3G', 'T3G', 'T3G', 'T3G', 'T3G', 'T3G', 'T3G', 'T3G', 'T3G', 'T3G', 'T3G', 'T3G', 'T3G', 'T3G', 'T3G', 'T3G', 'T3G', 'T3G', 'T3G', 'T3G', 'T3G', 'T3G', 'T3G', 'T3G', 'T3G', 'T3G', 'T3G', 'T3G', 'T3G', 'T3G', 'T3G', 'T3G', 'T3G', 'T3G', 'T3G', 'T3G', 'T3G', 'T3G', 'T3G', 'T3G', 'T3G', 'T3G', 'T3G', 'T3G', 'T3G', 'T3G', 'T3G', 'T3G', 'T3G', 'T3G', 'T3G', 'T3G', 'T3G', 'T3G', 'T3G', 'T3G', 'T3G', 'T3G', 'T3G', 'T3G', 'T3G', 'T3G', 'T3G', 'T3G', 'T3G', 'T3G', 'T3G', 'T3G', 'T3G', 'T3G', 'T3G', 'T3G', 'T3G', 'T3G', 'T3G', 'T3G', 'T3G', 'T3G', 'T3G', 'T3G', 'T3G', 'T3G', 'T3G', 'T3G', 'T3G', 'T3G', 'T3G', 'T3G', 'T3G', 'T3G', 'T3G', 'T3G', 'T3G', 'T3G', 'T3G', 'T3G', 'T3G', 'T3G', 'T3G', 'T3G', 'T3G', 'T3G', 'T3G', 'T3G', 'T3G', 'T3G', 'T3G', 'T3G', 'T3G', 'T3G', 'T3G', 'T3G', 'T3G', 'T3G', 'T3G', 'T3G', 'T3G', 'T3G', 'T3G', 'T3G', 'T3G', 'T3G', 'T3G', 'T3G', 'T3G', 'T3G', 'T3G', 'T3G', 'T3G', 'T3G', 'T3G', 'T3G', 'T3G', 'T3G', 'T3G', 'T3G', 'T3G', 'T3G', 'T3G', 'T3G', 'T3G', 'T3D', 'T3G', 'T3G', 'T3G', 'T3G', 'T3G', 'T3G', 'T3G', 'T3G', 'T3G', 'T3G', 'T3G', 'T3G', 'T3G', 'T3G', 'T3G', 'T3G', 'T3G', 'T3D', 'T3G', 'T3G', 'T3G', 'T3G', 'T3G', 'T3G', 'T3G', 'T3G', 'T3G', 'T3G', 'T3G', 'T3G', 'T3G', 'T3G', 'T3G', 'T3G', 'T3G', 'T3G', 'T3G', 'T3G', 'T3G', 'T3G', 'T3G', 'T3G', 'T3D', 'T3G', 'T3G', 'T3G', 'T3G', 'T3G', 'T3G', 'T3G', 'T3G', 'T3G', 'T3G', 'T3G', 'T3G', 'T3D', 'T3G', 'T3G', 'T3G', 'T3G', 'T3G', 'T3G', 'T3G', 'T3G', 'T3G', 'T3G', 'T3G', 'T3G', 'T3G', 'T3G', 'T3G', 'T3G', 'T3G', 'T3G', 'T3G', 'T3G', 'T3G', 'T3G', 'T3G', 'T3G', 'T3G', 'T3D', 'T3G', 'T3G', 'T3G', 'T3G', 'T3D', 'T3G', 'T3G', 'T3G', 'T3G', 'T3G', 'T3G', 'T3G', 'T3G', 'T3G', 'T3G', 'T3G', 'T3G', 'T3G', 'T3G', 'T3G', 'T3G', 'T3G', 'T3G', 'T3G', 'T3G', 'T3G', 'T3G', 'T3G', 'T3G', 'T3G', 'T3G', 'T3G', 'T3G', 'T3G', 'T3G', 'T3G', 'T3G', 'T3G', 'T3G', 'T3G', 'T3G', 'T3G', 'T3G', 'T3G', 'T3G', 'T3G', 'T3G', 'T3G', 'T3G', 'T3G', 'T3G', 'T3G', 'T3G', 'T3G', 'T3G', 'T3G', 'T3G', 'T3G', 'T3G', 'T3G', 'T3G', 'T3G', 'T3G', 'T3G', 'T3G', 'T3G', 'T3G', 'T3G', 'T3G', 'T3G', 'T3G', 'T3G', 'T3G', 'T3G', 'T3G', 'T3G', 'T3G', 'T3G', 'T3G', 'T3G', 'T3G', 'T3G', 'T3G', 'T3G', 'T3G', 'T3G', 'T3G', 'T3G', 'T3G', 'T3G', 'T3G', 'T3G', 'T3G', 'T3G', 'T3G', 'T3G', 'T3G', 'T3G', 'T3G', 'T3D', 'T3G', 'T3G', 'T3G', 'T3G', 'T3G', 'T3G', 'T3G', 'T3G', 'T3G', 'T3G', 'T3G', 'T3G', 'T3G', 'T3G', 'T3G', 'T3G', 'T3G', 'T3G', 'T3G', 'T3G', 'T3G', 'T3G', 'T3G', 'T3G', 'T3G', 'T3G', 'T3G', 'T3G', 'T3G', 'T3G', 'T3G', 'T3G', 'T3G', 'T3G', 'T3G', 'T3G', 'T3G', 'T3G', 'T3G', 'T3G', 'T3G', 'T3G', 'T3G', 'T3G', 'T3G', 'T3G', 'T3G', 'T3G', 'T3G', 'T3G', 'T3G', 'T3G', 'T3G', 'T3G', 'T3G', 'T3G', 'T3G', 'T3G', 'T3G', 'T3G', 'T3G', 'T3G', 'T3G', 'T3G', 'T3G', 'T3G', 'T3G', 'T3G', 'T3G', 'T3G', 'T3G', 'T3G', 'T3G', 'T3G', 'T3G', 'T3G', 'T3G', 'T3G', 'T3G', 'T3G', 'T3G', 'T3D', 'T3G', 'T3G', 'T3D', 'T3G', 'T3G', 'T3G', 'T3G', 'T3G', 'T3G', 'T3G', 'T3G', 'T3G', 'T3G', 'T3G', 'T3G', 'T3G', 'T3G', 'T3G', 'T3G', 'T3G', 'T3G', 'T3G', 'T3G', 'T3G', 'T3G', 'T3G', 'T3G', 'T3G', 'T3G', 'T3G', 'T3G', 'T3G', 'T3G', 'T3G', 'T3G', 'T3G', 'T3G', 'T3G', 'T3G', 'T3G', 'T3G', 'T3G', 'T3G', 'T3D', 'T3G', 'T3G', 'T3G', 'T3G', 'T3G', 'T3G', 'T3G', 'T3G', 'T3G', 'T3G', 'T3G', 'T3G', 'T3G', 'T3G', 'T3G', 'T3G', 'T3G', 'T3G', 'T3G', 'T3G', 'T3G', 'T3G', 'T3G', 'T3G', 'T3G', 'T3G', 'T3G', 'T3G', 'T3G', 'T3G', 'T3G', 'T3G', 'T3G', 'T3G', 'T3G', 'T3G', 'T3G', 'T3G', 'T3G', 'T3G', 'T3G', 'T3G', 'T3G', 'T3G', 'T3G', 'T3G', 'T3D', 'T3G', 'T3G', 'T3G', 'T3G', 'T3G', 'T3G', 'T3G', 'T3G', 'T3G', 'T3G', 'T3G', 'T3D', 'T3G', 'T3G', 'T3G', 'T3G', 'T3G', 'T3D', 'T3G', 'T3G', 'T3G', 'T3G', 'T3G', 'T3G', 'T3G', 'T3G', 'T3G', 'T3G', 'T3G', 'T3G', 'T3G', 'T3G', 'T3G', 'T3G', 'T3G', 'T3G', 'T3G', 'T3G', 'T3G', 'T3G', 'T3G', 'T3G', 'T3G', 'T3G', 'T3G', 'T3G', 'T3G', 'T3G', 'T3G', 'T3G', 'T3G', 'T3G', 'T3G', 'T3G', 'T3G', 'T3G', 'T3G', 'T3G', 'T3G', 'T3G', 'T3G', 'T3G', 'T3G', 'T3G', 'T3G', 'T3G', 'T3G', 'T3G', 'T3G', 'T3G', 'T3G', 'T3G', 'T3G', 'T3G', 'T3G', 'T3G', 'T3G', 'T3G', 'T3G', 'T3G', 'T3G', 'T3G', 'T3G', 'T3G', 'T3G', 'T3G', 'T3G', 'T3G', 'T3G', 'T3G', 'T3G', 'T3G', 'T3G', 'T3G', 'T3G', 'T3G', 'T3D', 'T3G', 'T3G', 'T3G', 'T3G', 'T3G', 'T3G', 'T3G', 'T3G', 'T3G', 'T3G', 'T3G', 'T3G', 'T3G', 'T3G', 'T3G', 'T3G', 'T3G', 'T3G', 'T3D', 'T3G', 'T3G', 'T3G', 'T3G', 'T3D', 'T3G', 'T3G', 'T3G', 'T3G', 'T3G', 'T3G', 'T3G', 'T3G', 'T3G', 'T3G', 'T3G', 'T3G', 'T3G', 'T3G', 'T3G', 'T3G', 'T3G', 'T3G', 'T3D', 'T3G', 'T3G', 'T3G', 'T3G', 'T3G', 'T3G', 'T3G', 'T3G', 'T3G', 'T3G', 'T3G', 'T3G', 'T3G', 'T3G', 'T3G', 'T3G', 'T3G', 'T3D', 'T3G', 'T3G', 'T3G', 'T3G', 'T3G', 'T3G', 'T3G', 'T3G', 'T3G', 'T3G', 'T3G', 'T3D', 'T3G', 'T3G', 'T3G', 'T3G', 'T3G', 'T3G', 'T3G', 'T3G', 'T3G', 'T3G', 'T3G', 'T3G', 'T3G', 'T3G', 'T3G', 'T3G', 'T3G', 'T3G', 'T3G', 'T3G', 'T3G', 'T3G', 'T3G', 'T3G', 'T3G', 'T3G', 'T3G', 'T3G', 'T3G', 'T3G', 'T3G', 'T3G', 'T3G', 'T3G', 'T3G', 'T3G', 'T3G', 'T3G', 'T3G', 'T3G', 'T3G', 'T3G', 'T3G', 'T3G', 'T3G', 'T3G', 'T3G', 'T3D', 'T3G', 'T3G', 'T3G', 'T3G', 'T3G', 'T3G', 'T3G', 'T3G', 'T3G', 'T3G', 'T3G', 'T3G', 'T3G', 'T3G', 'T3G', 'T3G', 'T3G', 'T3G', 'T3G', 'T3G', 'T3G', 'T3G', 'T3G', 'T3G', 'T3G', 'T3G', 'T3G', 'T3G', 'T3G', 'T3G', 'T3G', 'T3G', 'T3G', 'T3G', 'T3G', 'T3G', 'T3G', 'T3G', 'T3G', 'T3G', 'T3G', 'T3G', 'T3G', 'T3G', 'T3G', 'T3G', 'T3G', 'T3G', 'T3D', 'T3G', 'T3G', 'T3G', 'T3G', 'T3G', 'T3G', 'T3G', 'T3G', 'T3G', 'T3G', 'T3G', 'T3G', 'T3G', 'T3G', 'T3G', 'T3G', 'T3G', 'T3G', 'T3G', 'T3G', 'T3D', 'T3G', 'T3G', 'T3D', 'T3G', 'T3G', 'T3G', 'T3G', 'T3G', 'T3G', 'T3G', 'T3G', 'T3G', 'T3G', 'T3G', 'T3G', 'T3G', 'T3G', 'T3G', 'T3G', 'T3G', 'T3G', 'T3G', 'T3G', 'T3G', 'T3G', 'T3G', 'T3G', 'T3G', 'T3G', 'T3G', 'T3G', 'T3G', 'T3G', 'T3G', 'T3G', 'T3G', 'T3G', 'T3G', 'T3G', 'T3G', 'T3G', 'T3G', 'T3G', 'T3D', 'T3G', 'T3G', 'T3G', 'T3G', 'T3G', 'T3G', 'T3G', 'T3G', 'T3G', 'T3G', 'T3G', 'T3G', 'T3G', 'T3G', 'T3G', 'T3G', 'T3G', 'T3G', 'T3G', 'T3G', 'T3G', 'T3G', 'T3G', 'T3G', 'T3G', 'T3G', 'T3G', 'T3G', 'T3G', 'T3G', 'T3G', 'T3G', 'T3G', 'T3G', 'T3G', 'T3G', 'T3G', 'T3D', 'T3G', 'T3G', 'T3G', 'T3G', 'T3G', 'T3G', 'T3G', 'T3G', 'T3D', 'T3G', 'T3G', 'T3G', 'T3G', 'T3G', 'T3G', 'T3G', 'T3G', 'T3G', 'T3G', 'T3G', 'T3G', 'T3G', 'T3G', 'T3G', 'T3G', 'T3G', 'T3G', 'T3G', 'T3G', 'T3G', 'T3G', 'T3G', 'T3G', 'T3G', 'T3G', 'T3G', 'T3G', 'T3G', 'T3G', 'T3G', 'T3G', 'T3G', 'T3G', 'T3G', 'T3G', 'T3G', 'T3G', 'T3G', 'T3G', 'T3G', 'T3G', 'T3G', 'T3G', 'T3G', 'T3G', 'T3G', 'T3G', 'T3G', 'T3G', 'T3G', 'T3G', 'T3G', 'T3G', 'T3G', 'T3G', 'T3G', 'T3G', 'T3G', 'T3G', 'T3G', 'T3G', 'T3G', 'T3G', 'T3G', 'T3G', 'T3G', 'T3G', 'T3G', 'T3G', 'T3G', 'T3G', 'T3G', 'T3G', 'T3G', 'T3G', 'T3G', 'T3G', 'T3G', 'T3G', 'T3G', 'T3G', 'T3G', 'T3G', 'T3G', 'T3G', 'T3G', 'T3G', 'T3G', 'T3G', 'T3G', 'T3G', 'T3G', 'T3G', 'T3G', 'T3G', 'T3G', 'T3G', 'T3G', 'T3G', 'T3G', 'T3G', 'T3G', 'T3G', 'T3G', 'T3G', 'T3G', 'T3G', 'T3G', 'T3G', 'T3G', 'T3G', 'T3G', 'T3D', 'T3G', 'T3G', 'T3G', 'T3G', 'T3G', 'T3G', 'T3G', 'T3G', 'T3G', 'T3G', 'T3G', 'T3G', 'T3G', 'T3G', 'T3G', 'T3G', 'T3D', 'T3G', 'T3G', 'T3G', 'T3G', 'T3G', 'T3G', 'T3G', 'T3G', 'T3G', 'T3G', 'T3G', 'T3G', 'T3G', 'T3G', 'T3G', 'T3G', 'T3G', 'T3G', 'T3G', 'T3G', 'T3G', 'T3G', 'T3G', 'T3G', 'T3G', 'T3G', 'T3G', 'T3G', 'T3G', 'T3G', 'T3G', 'T3G', 'T3G', 'T3G', 'T3G', 'T3G', 'T3G', 'T3G', 'T3G', 'T3G', 'T3G', 'T3G', 'T3G', 'T3G', 'T3G', 'T3G', 'T3G', 'T3G', 'T3G', 'T3G', 'T3G', 'T3G', 'T3G', 'T3G', 'T3G', 'T3G', 'T3G', 'T3G', 'T3G', 'T3G', 'T3G', 'T3G', 'T3G', 'T3G', 'T3G', 'T3G', 'T3G', 'T3G', 'T3G', 'T3G', 'T3G', 'T3G', 'T3G', 'T3G', 'T3G', 'T3G', 'T3G', 'T3G', 'T3G', 'T3G', 'T3G', 'T3G', 'T3G', 'T3G', 'T3G', 'T3G', 'T3G', 'T3G', 'T3G', 'T3G', 'T3G', 'T3G', 'T3G', 'T3G', 'T3G', 'T3G', 'T3G', 'T3G', 'T3G', 'T3G', 'T3G', 'T3G', 'T3G', 'T3G', 'T3G', 'T3G', 'T3G', 'T3G', 'T3G', 'T3G', 'T3G', 'T3G', 'T3G', 'T3G', 'T3G', 'T3G', 'T3G', 'T3G', 'T3G', 'T3G', 'T3G', 'T3G', 'T3G', 'T3G', 'T3G', 'T3G', 'T3G', 'T3G', 'T3G', 'T3G', 'T3G', 'T3G', 'T3G', 'T3G', 'T3G', 'T3G', 'T3G', 'T3G', 'T3G', 'T3G', 'T3G', 'T3G', 'T3G', 'T3G', 'T3G', 'T3G', 'T3G', 'T3G', 'T3G', 'T3G', 'T3G', 'T3G', 'T3G', 'T3G', 'T3G', 'T3G', 'T3G', 'T3G', 'T3G', 'T3G', 'T3G', 'T3G', 'T3G', 'T3G', 'T3G', 'T3G', 'T3G', 'T3G', 'T3G', 'T3G', 'T3G', 'T3G', 'T3G', 'T3G', 'T3G', 'T3G', 'T3G', 'T3G', 'T3G', 'T3G', 'T3D', 'T3G', 'T3G', 'T3G', 'T3G', 'T3G', 'T3G', 'T3G', 'T3G', 'T3G', 'T3G', 'T3G', 'T3G', 'T3G', 'T3G', 'T3G', 'T3G', 'T3G', 'T3G', 'T3G', 'T3G', 'T3G', 'T3G', 'T3G', 'T3G', 'T3G', 'T3G', 'T3G', 'T3G', 'T3G', 'T3G', 'T3G', 'T3D', 'T3G', 'T3G', 'T3G', 'T3G', 'T3D', 'T3G', 'T3G', 'T3G', 'T3G', 'T3G', 'T3G', 'T3G', 'T3G', 'T3G', 'T3G', 'T3G', 'T3G', 'T3G', 'T3G', 'T3G', 'T3G', 'T3G', 'T3G', 'T3G', 'T3G', 'T3G', 'T3G', 'T3G', 'T3G', 'T3G', 'T3G', 'T3G', 'T3G', 'T3G', 'T3G', 'T3G', 'T3G', 'T3G', 'T3D', 'T3G', 'T3G', 'T3G', 'T3G', 'T3G', 'T3G', 'T3G', 'T3G', 'T3G', 'T3G', 'T3G', 'T3G', 'T3G', 'T3G', 'T3G', 'T3G', 'T3G', 'T3G', 'T3G', 'T3G', 'T3G', 'T3G', 'T3G', 'T3G', 'T3G', 'T3G', 'T3G', 'T3G', 'T3D', 'T3G', 'T3G', 'T3G', 'T3G', 'T3G', 'T3G', 'T3G', 'T3G', 'T3G', 'T3G', 'T3G', 'T3G', 'T3G', 'T3G', 'T3G', 'T3G', 'T3G', 'T3G', 'T3G', 'T3G', 'T3G', 'T3G', 'T3G', 'T3G', 'T3G', 'T3G', 'T3G', 'T3G', 'T3G', 'T3G', 'T3G', 'T3G', 'T3G', 'T3G', 'T3G', 'T3G', 'T3G', 'T3G', 'T3G', 'T3G', 'T3G', 'T3G', 'T3D', 'T3G', 'T3G', 'T3G', 'T3G', 'T3G', 'T3G', 'T3G', 'T3G', 'T3G', 'T3G', 'T3G', 'T3G', 'T3G', 'T3G', 'T3G', 'T3G', 'T3G', 'T3G', 'T3G', 'T3G', 'T3G', 'T3D', 'T3G', 'T3G', 'T3G', 'T3G', 'T3G', 'T3G', 'T3G', 'T3G', 'T3G', 'T3G', 'T3G', 'T3G', 'T3G', 'T3G', 'T3G', 'T3G', 'T3G', 'T3G', 'T3G', 'T3G', 'T3G', 'T3G', 'T3G', 'T3G', 'T3G', 'T3G', 'T3G', 'T3G', 'T3G', 'T3G', 'T3G', 'T3G', 'T3G', 'T3G', 'T3G', 'T3G', 'T3G', 'T3G', 'T3G', 'T3G', 'T3G', 'T3G', 'T3G', 'T3D', 'T3G', 'T3G', 'T3G', 'T3G', 'T3G', 'T3G', 'T3G', 'T3G', 'T3G', 'T3G', 'T3G', 'T3G', 'T3G', 'T3G', 'T3G', 'T3G', 'T3G', 'T3G', 'T3G', 'T3G', 'T3G', 'T3G', 'T3G', 'T3G', 'T3G', 'T3G', 'T3G', 'T3G', 'T3G', 'T3G', 'T3G', 'T3G', 'T3G', 'T3G', 'T3G', 'T3G', 'T3G', 'T3G', 'T3G', 'T3G', 'T3G', 'T3G', 'T3G', 'T3G', 'T3G', 'T3G', 'T3G', 'T3G', 'T3G', 'T3G', 'T3G', 'T3G', 'T3G', 'T3G', 'T3G', 'T3G', 'T3G', 'T3G', 'T3G', 'T3G', 'T3G', 'T3G', 'T3G', 'T3G', 'T3G', 'T3G', 'T3G', 'T3G', 'T3G', 'T3G', 'T3G', 'T3G', 'T3D', 'T3G', 'T3G', 'T3G', 'T3G', 'T3G', 'T3G', 'T3G', 'T3G', 'T3G', 'T3G', 'T3G', 'T3G', 'T3G', 'T3G', 'T3G', 'T3G', 'T3G', 'T3G', 'T3G', 'T3G', 'T3G', 'T3G', 'T3G', 'T3G', 'T3G', 'T3G', 'T3G', 'T3G', 'T3G', 'T3G', 'T3D', 'T3G', 'T3G', 'T3G', 'T3G', 'T3G', 'T3G', 'T3G', 'T3G', 'T3G', 'T3G', 'T3G', 'T3G', 'T3G', 'T3G', 'T3G', 'T3G', 'T3G', 'T3G', 'T3G', 'T3G', 'T3G', 'T3G', 'T3G', 'T3G', 'T3G', 'T3G', 'T3G', 'T3G', 'T3G', 'T3G', 'T3G', 'T3G', 'T3G', 'T3G', 'T3G', 'T3G', 'T3G', 'T3G', 'T3G', 'T3G', 'T3G', 'T3G', 'T3G', 'T3G', 'T3G', 'T3G', 'T3G', 'T3G', 'T3G', 'T3G', 'T3G', 'T3G', 'T3G', 'T3G', 'T3G', 'T3G', 'T3G', 'T3G', 'T3D', 'T3G', 'T3G', 'T3G', 'T3G', 'T3G', 'T3G', 'T3G', 'T3G', 'T3G', 'T3G', 'T3D', 'T3G', 'T3G', 'T3G', 'T3G', 'T3G', 'T3G', 'T3G', 'T3G', 'T3G', 'T3G', 'T3G', 'T3G', 'T3G', 'T3G', 'T3G', 'T3G', 'T3G', 'T3G', 'T3G', 'T3G', 'T3G', 'T3G', 'T3G', 'T3G', 'T3G', 'T3G', 'T3G', 'T3G', 'T3G', 'T3G', 'T3G', 'T3G', 'T3G', 'T3G', 'T3G', 'T3G', 'T3G', 'T3G', 'T3G', 'T3G', 'T3G', 'T3G', 'T3G', 'T3G', 'T3G', 'T3G', 'T3G', 'T3G', 'T3G', 'T3G', 'T3G', 'T3G', 'T3G', 'T3G', 'T3G', 'T3G', 'T3G', 'T3G', 'T3G', 'T3G', 'T3G', 'T3G', 'T3G', 'T3G', 'T3G', 'T3G', 'T3G', 'T3G', 'T3G', 'T3G', 'T3G', 'T3G', 'T3G', 'T3G', 'T3G', 'T3G', 'T3G', 'T3G', 'T3G', 'T3G', 'T3G', 'T3G', 'T3G', 'T3G', 'T3G', 'T3G', 'T3G', 'T3G', 'T3G', 'T3G', 'T3G', 'T3G', 'T3G', 'T3G', 'T3G', 'T3G', 'T3G', 'T3G', 'T3G', 'T3G', 'T3G', 'T3G', 'T3G', 'T3G', 'T3D', 'T3G', 'T3G', 'T3G', 'T3G', 'T3G', 'T3G', 'T3G', 'T3G', 'T3G', 'T3G', 'T3G', 'T3G', 'T3G', 'T3G', 'T3G', 'T3G', 'T3G', 'T3G', 'T3G', 'T3G', 'T3G', 'T3G', 'T3G', 'T3G', 'T3G', 'T3G', 'T3G', 'T3G', 'T3G', 'T3G', 'T3G', 'T3G', 'T3G', 'T3G', 'T3G', 'T3G', 'T3G', 'T3G', 'T3G', 'T3G', 'T3G', 'T3G', 'T3G', 'T3G', 'T3G', 'T3G', 'T3G', 'T3G', 'T3G', 'T3G', 'T3G', 'T3G', 'T3G', 'T3G', 'T3G', 'T3G', 'T3G', 'T3G', 'T3G', 'T3G', 'T3G', 'T3G', 'T3G', 'T3G', 'T3G', 'T3G', 'T3G', 'T3G', 'T3G', 'T3G', 'T3G', 'T3D', 'T3G', 'T3G', 'T3G', 'T3G', 'T3G', 'T3G', 'T3G', 'T3G', 'T3G', 'T3G', 'T3G', 'T3G', 'T3G', 'T3G', 'T3G', 'T3G', 'T3G', 'T3G', 'T3G', 'T3G', 'T3G', 'T3G', 'T3G', 'T3G', 'T3G', 'T3G', 'T3G', 'T3G', 'T3G', 'T3G', 'T3G', 'T3G', 'T3G', 'T3G', 'T3G', 'T3G', 'T3G', 'T3G', 'T3G', 'T3G', 'T3G', 'T3G', 'T3G', 'T3G', 'T3G', 'T3G', 'T3G', 'T3G', 'T3G', 'T3G', 'T3G', 'T3G', 'T3G', 'T3G', 'T3G', 'T3G', 'T3G', 'T3G', 'T3G', 'T3G', 'T3G', 'T3G', 'T3G', 'T3G', 'T3G', 'T3G', 'T3G', 'T3D', 'T3D', 'T3G', 'T3G', 'T3G', 'T3G', 'T3G', 'T3G', 'T3G', 'T3G', 'T3G', 'T3G', 'T3G', 'T3G', 'T3G', 'T3G', 'T3G', 'T3G', 'T3G', 'T3G', 'T3G', 'T3G', 'T3G', 'T3G', 'T3D', 'T3G', 'T3G', 'T3G', 'T3D', 'T3G', 'T3G', 'T3G', 'T3G', 'T3G', 'T3G', 'T3G', 'T3G', 'T3G', 'T3G', 'T3G', 'T3D', 'T3G', 'T3G', 'T3G', 'T3G', 'T3G', 'T3G', 'T3G', 'T3G', 'T3G', 'T3G', 'T3G', 'T3G', 'T3G', 'T3G', 'T3G', 'T3G', 'T3G', 'T3G', 'T3G', 'T3G', 'T3G', 'T3G', 'T3G', 'T3G', 'T3G', 'T3G', 'T3G', 'T3G', 'T3G', 'T3G', 'T3G', 'T3G', 'T3G', 'T3G', 'T3G', 'T3G', 'T3G', 'T3G', 'T3G', 'T3G', 'T3G', 'T3G', 'T3G', 'T3D', 'T3G', 'T3G', 'T3G', 'T3G', 'T3G', 'T3G', 'T3G', 'T3G', 'T3G', 'T3G', 'T3G', 'T3G', 'T3G', 'T3G', 'T3G', 'T3G', 'T3G', 'T3G', 'T3G', 'T3G', 'T3G', 'T3G', 'T3G', 'T3G', 'T3G', 'T3G', 'T3G', 'T3G', 'T3G', 'T3G', 'T3G', 'T3G', 'T3G', 'T3G', 'T3G', 'T3G', 'T3G', 'T3G', 'T3G', 'T3G', 'T3G', 'T3G', 'T3G', 'T3G', 'T3G', 'T3G', 'T3G', 'T3G', 'T3G', 'T3G', 'T3G', 'T3G', 'T3G', 'T3G', 'T3G', 'T3G', 'T3G', 'T3G', 'T3G', 'T3G', 'T3G', 'T3G', 'T3G', 'T3D', 'T3G', 'T3G', 'T3G', 'T3G', 'T3G', 'T3G', 'T3G', 'T3G', 'T3G', 'T3G', 'T3G', 'T3G', 'T3G', 'T3G', 'T3G', 'T3G', 'T3G', 'T3G', 'T3G', 'T3G', 'T3G', 'T3G', 'T3G', 'T3G', 'T3G', 'T3G', 'T3G', 'T3G', 'T3G', 'T3G', 'T3G', 'T3G', 'T3G', 'T3D', 'T3G', 'T3G', 'T3G', 'T3G', 'T3G', 'T3G', 'T3G', 'T3G', 'T3G', 'T3G', 'T3G', 'T3G', 'T3G', 'T3G', 'T3G', 'T3G', 'T3G', 'T3G', 'T3G', 'T3G', 'T3G', 'T3G', 'T3G', 'T3G', 'T3G', 'T3G', 'T3G', 'T3G', 'T3G', 'T3G', 'T3G', 'T3G', 'T3G', 'T3G', 'T3G', 'T3G', 'T3G', 'T3G', 'T3G', 'T3G', 'T3G', 'T3G', 'T3G', 'T3G', 'T3G', 'T3G', 'T3G', 'T3G', 'T3G', 'T3G', 'T3G', 'T3G', 'T3G', 'T3G', 'T3G', 'T3G', 'T3D', 'T3G', 'T3G', 'T3G', 'T3G', 'T3G', 'T3G', 'T3G', 'T3G', 'T3G', 'T3G', 'T3G', 'T3G', 'T3G', 'T3G', 'T3G', 'T3G', 'T3G', 'T3G', 'T3G', 'T3G', 'T3G', 'T3G', 'T3G', 'T3G', 'T3G', 'T3G', 'T3G', 'T3G', 'T3G', 'T3G', 'T3G', 'T3G', 'T3G', 'T3G', 'T3G', 'T3G', 'T3G', 'T3G', 'T3G', 'T3G', 'T3G', 'T3G', 'T3G', 'T3G', 'T3G', 'T3G', 'T3G', 'T3G', 'T3G', 'T3G', 'T3G', 'T3G', 'T3G', 'T3G', 'T3G', 'T3G', 'T3G', 'T3G', 'T3G', 'T3G', 'T3G', 'T3G', 'T3G', 'T3G', 'T3G', 'T3G', 'T3G', 'T3G', 'T3G', 'T3G', 'T3G', 'T3G', 'T3G', 'T3G', 'T3G', 'T3G', 'T3G', 'T3G', 'T3G', 'T3G', 'T3G', 'T3G', 'T3G', 'T3G', 'T3G', 'T3G', 'T3G', 'T3G', 'T3G', 'T3G', 'T3G', 'T3D', 'T3G', 'T3G', 'T3G', 'T3G', 'T3G', 'T3G', 'T3G', 'T3G', 'T3G', 'T3G', 'T3G', 'T3D', 'T3G', 'T3G', 'T3G', 'T3G', 'T3G', 'T3G', 'T3G', 'T3G', 'T3G', 'T3G', 'T3G', 'T3G', 'T3G', 'T3G', 'T3G', 'T3G', 'T3G', 'T3G', 'T3G', 'T3G', 'T3G', 'T3G', 'T3G', 'T3G', 'T3G', 'T3G', 'T3G', 'T3G', 'T3G', 'T3G', 'T3G', 'T3G', 'T3G', 'T3G', 'T3G', 'T3G', 'T3G', 'T3G', 'T3G', 'T3G', 'T3G', 'T3G', 'T3G', 'T3G', 'T3G', 'T3G', 'T3G', 'T3G', 'T3G', 'T3G', 'T3G', 'T3G', 'T3G', 'T3G', 'T3G', 'T3G', 'T3G', 'T3G', 'T3G', 'T3G', 'T3G', 'T3G', 'T3G', 'T3G', 'T3G', 'T3G', 'T3G', 'T3G', 'T3G', 'T3G', 'T3G', 'T3G', 'T3G', 'T3G', 'T3G', 'T3G', 'T3G', 'T3G', 'T3G', 'T3G', 'T3G', 'T3G', 'T3G', 'T3G', 'T3G', 'T3G', 'T3G', 'T3G', 'T3G', 'T3G', 'T3G', 'T3G', 'T3G', 'T3G', 'T3G', 'T3G', 'T3G', 'T3G', 'T3G', 'T3G', 'T3D', 'T3G', 'T3G', 'T3G', 'T3G', 'T3G', 'T3G', 'T3G', 'T3G', 'T3G', 'T3G', 'T3G', 'T3G', 'T3G', 'T3G', 'T3G', 'T3G', 'T3G', 'T3G', 'T3G', 'T3G', 'T3G', 'T3G', 'T3G', 'T3G', 'T3G', 'T3G', 'T3G', 'T3G', 'T3D', 'T3G', 'T3G', 'T3G', 'T3G', 'T3G', 'T3G', 'T3G', 'T3G', 'T3G', 'T3G', 'T3G', 'T3G', 'T3G', 'T3G', 'T3G', 'T3G', 'T3G', 'T3D', 'T3G', 'T3G', 'T3G', 'T3G', 'T3G', 'T3G', 'T3G', 'T3G', 'T3G', 'T3G', 'T3G', 'T3G', 'T3G', 'T3G', 'T3G', 'T3G', 'T3G', 'T3G', 'T3D', 'T3G', 'T3G', 'T3G', 'T3G', 'T3G', 'T3G', 'T3G', 'T3G', 'T3G', 'T3G', 'T3G', 'T3G', 'T3G', 'T3G', 'T3D', 'T3G', 'T3D', 'T3G', 'T3G', 'T3G', 'T3G', 'T3G', 'T3G', 'T3G', 'T3G', 'T3G', 'T3G', 'T3G', 'T3G', 'T3G', 'T3G', 'T3G', 'T3G', 'T3G', 'T3G', 'T3G', 'T3G', 'T3G', 'T3G', 'T3G', 'T3G', 'T3G', 'T3G', 'T3G', 'T3G', 'T3G', 'T3G', 'T3G', 'T3G', 'T3G', 'T3G', 'T3G', 'T3D', 'T3G', 'T3G', 'T3G', 'T3G', 'T3G', 'T3G', 'T3G', 'T3G', 'T3G', 'T3G', 'T3G', 'T3G', 'T3G', 'T3G', 'T3G', 'T3G', 'T3G', 'T3D', 'T3G', 'T3G', 'T3G', 'T3G', 'T3G', 'T3G', 'T3G', 'T3G', 'T3G', 'T3G', 'T3G', 'T3G', 'T3G', 'T3G', 'T3G', 'T3G', 'T3G', 'T3G', 'T3G', 'T3G', 'T3G', 'T3G', 'T3G', 'T3G', 'T3G', 'T3G', 'T3G', 'T3G', 'T3G', 'T3G', 'T3G', 'T3G', 'T3G', 'T3G', 'T3G', 'T3G', 'T3D', 'T3G', 'T3G', 'T3G', 'T3G', 'T3G', 'T3G', 'T3G', 'T3G', 'T3G', 'T3G', 'T3G', 'T3G', 'T3G', 'T3G', 'T3G', 'T3G', 'T3G', 'T3G', 'T3G', 'T3D', 'T3G', 'T3G', 'T3G', 'T3G', 'T3G', 'T3G', 'T3G', 'T3G', 'T3G', 'T3G', 'T3G', 'T3G', 'T3G', 'T3G', 'T3G', 'T3G', 'T3G', 'T3G', 'T3G', 'T3G', 'T3G', 'T3G', 'T3G', 'T3G', 'T3G', 'T3G', 'T3G', 'T3G', 'T3G', 'T3G', 'T3G', 'T3G', 'T3G', 'T3G', 'T3G', 'T3G', 'T3D', 'T3G', 'T3G', 'T3G', 'T3G', 'T3G', 'T3G', 'T3G', 'T3G', 'T3G', 'T3G', 'T3G', 'T3G', 'T3G', 'T3G', 'T3G', 'T3G', 'T3G', 'T3G', 'T3G', 'T3G', 'T3G', 'T3G', 'T3G', 'T3G', 'T3G', 'T3G', 'T3G', 'T3G', 'T3G', 'T3G', 'T3G', 'T3G', 'T3G', 'T3G', 'T3G', 'T3G', 'T3D', 'T3G', 'T3G', 'T3G', 'T3G', 'T3G', 'T3G', 'T3G', 'T3G', 'T3G', 'T3G', 'T3G', 'T3G', 'T3G', 'T3G', 'T3G', 'T3G', 'T3G', 'T3G', 'T3G', 'T3G', 'T3G', 'T3G', 'T3G', 'T3G', 'T3G', 'T3G', 'T3G', 'T3G', 'T3G', 'T3G', 'T3G', 'T3G', 'T3G', 'T3G', 'T3G', 'T3G', 'T3G', 'T3G', 'T3G', 'T3G', 'T3G', 'T3G', 'T3G', 'T3G', 'T3G', 'T3G', 'T3G', 'T3G', 'T3G', 'T3G', 'T3G', 'T3G', 'T3G', 'T3G', 'T3G', 'T3G', 'T3G', 'T3G', 'T3G', 'T3G', 'T3G', 'T3G', 'T3G', 'T3D', 'T3G', 'T3G', 'T3G', 'T3G', 'T3G', 'T3G', 'T3G', 'T3G', 'T3G', 'T3G', 'T3G', 'T3G', 'T3G', 'T3G', 'T3G', 'T3G', 'T3G', 'T3G', 'T3G', 'T3G', 'T3D', 'T3G', 'T3G', 'T3G', 'T3G', 'T3G', 'T3G', 'T3G', 'T3G', 'T3G', 'T3G', 'T3G', 'T3G', 'T3G', 'T3G', 'T3G', 'T3G', 'T3G', 'T3G', 'T3G', 'T3G', 'T3G', 'T3G', 'T3G', 'T3G', 'T3G', 'T3G', 'T3G', 'T3G', 'T3G', 'T3G', 'T3G', 'T3G', 'T3G', 'T3G', 'T3G', 'T3G', 'T3G', 'T3G', 'T3G', 'T3G', 'T3G', 'T3G', 'T3G', 'T3G', 'T3G', 'T3G', 'T3G', 'T3G', 'T3G', 'T3G', 'T3G', 'T3G', 'T3G', 'T3G', 'T3G', 'T3G', 'T3G', 'T3G', 'T3G', 'T3G', 'T3G', 'T3G', 'T3G', 'T3G', 'T3G', 'T3G', 'T3G', 'T3G', 'T3G', 'T3G', 'T3G', 'T3G', 'T3G', 'T3G', 'T3G', 'T3G', 'T3G', 'T3G', 'T3G', 'T3G', 'T3G', 'T3G', 'T3G', 'T3G', 'T3G', 'T3G', 'T3G', 'T3G', 'T3G', 'T3G', 'T3G', 'T3G', 'T3G', 'T3G', 'T3G', 'T3G', 'T3G', 'T3G', 'T3G', 'T3G', 'T3G', 'T3G', 'T3G', 'T3G', 'T3G', 'T3G', 'T3G', 'T3G', 'T3G', 'T3G', 'T3G', 'T3G', 'T3G', 'T3G', 'T3G', 'T3G', 'T3G', 'T3D', 'T3G', 'T3G', 'T3G', 'T3G', 'T3G', 'T3G', 'T3G', 'T3G', 'T3G', 'T3G', 'T3G', 'T3G', 'T3G', 'T3G', 'T3G', 'T3G', 'T3G', 'T3G', 'T3G', 'T3G', 'T3G', 'T3G', 'T3G', 'T3G', 'T3G', 'T3G', 'T3G', 'T3G', 'T3G', 'T3G', 'T3G', 'T3G', 'T3G', 'T3G', 'T3G', 'T3G', 'T3G', 'T3G', 'T3G', 'T3G', 'T3G', 'T3G', 'T3G', 'T3G', 'T3G', 'T3G', 'T3G', 'T3G', 'T3G', 'T3G', 'T3G', 'T3G', 'T3G', 'T3G', 'T3G', 'T3G', 'T3G', 'T3G', 'T3G', 'T3G', 'T3G', 'T3G', 'T3G', 'T3G', 'T3G', 'T3G', 'T3G', 'T3G', 'T3G', 'T3G', 'T3G', 'T3G', 'T3G', 'T3G', 'T3G', 'T3G', 'T3G', 'T3G', 'T3G', 'T3G', 'T3G', 'T3D', 'T3G', 'T3G', 'T3G', 'T3G', 'T3G', 'T3G', 'T3G', 'T3G', 'T3G', 'T3G', 'T3G', 'T3G', 'T3G', 'T3G', 'T3G', 'T3G', 'T3G', 'T3G', 'T3G', 'T3G', 'T3G', 'T3G', 'T3G', 'T3G', 'T3G', 'T3G', 'T3G', 'T3G', 'T3G', 'T3G', 'T3G', 'T3G', 'T3G', 'T3G', 'T3G', 'T3G', 'T3G', 'T3G', 'T3G', 'T3G', 'T3D', 'T3G', 'T3G', 'T3G', 'T3G', 'T3G', 'T3G', 'T3G', 'T3G', 'T3G', 'T3G', 'T3G', 'T3G', 'T3G', 'T3G', 'T3D', 'T3G', 'T3G', 'T3G', 'T3G', 'T3G', 'T3G', 'T3G', 'T3G', 'T3G', 'T3G', 'T3G', 'T3G', 'T3G', 'T3G', 'T3G', 'T3G', 'T3G', 'T3G', 'T3G', 'T3G', 'T3G', 'T3G', 'T3G', 'T3G', 'T3G', 'T3G', 'T3G', 'T3G', 'T3G', 'T3G', 'T3G', 'T3G', 'T3G', 'T3G', 'T3G', 'T3G', 'T3G', 'T3G', 'T3G', 'T3G', 'T3G', 'T3G', 'T3G', 'T3G', 'T3D', 'T3G', 'T3G', 'T3G', 'T3G', 'T3G', 'T3G', 'T3G', 'T3G', 'T3G', 'T3G', 'T3G', 'T3G', 'T3G', 'T3G', 'T3G', 'T3G', 'T3G', 'T3G', 'T3G', 'T3G', 'T3G', 'T3D', 'T3G', 'T3G', 'T3G', 'T3G', 'T3G', 'T3G', 'T3G', 'T3G', 'T3G', 'T3G', 'T3G', 'T3G', 'T3G', 'T3G', 'T3G', 'T3G', 'T3G', 'T3G', 'T3G', 'T3G', 'T3G', 'T3G', 'T3G', 'T3G', 'T3G', 'T3G', 'T3G', 'T3G', 'T3G', 'T3G', 'T3G', 'T3G', 'T3G', 'T3G', 'T3G', 'T3G', 'T3G', 'T3G', 'T3G', 'T3G', 'T3G', 'T3G', 'T3G', 'T3G', 'T3G', 'T3G', 'T3G', 'T3G', 'T3G', 'T3G', 'T3G', 'T3G', 'T3G', 'T3G', 'T3G', 'T3G', 'T3G', 'T3G', 'T3G', 'T3G', 'T3G', 'T3G', 'T3G', 'T3G', 'T3G', 'T3G', 'T3D', 'T3G', 'T3G', 'T3G', 'T3G', 'T3G', 'T3G', 'T3G', 'T3G', 'T3G', 'T3G', 'T3G', 'T3G', 'T3G', 'T3G', 'T3D', 'T3G', 'T3G', 'T3G', 'T3G', 'T3G', 'T3G', 'T3G', 'T3G', 'T3G', 'T3G', 'T3G', 'T3G', 'T3G', 'T3G', 'T3G', 'T3G', 'T3G', 'T3G', 'T3G', 'T3G', 'T3G', 'T3G', 'T3G', 'T3G', 'T3G', 'T3G', 'T3G', 'T3G', 'T3G', 'T3G', 'T3G', 'T3G', 'T3G', 'T3G', 'T3D', 'T3G', 'T3G', 'T3G', 'T3G', 'T3G', 'T3G', 'T3G', 'T3G', 'T3G', 'T3G', 'T3G', 'T3G', 'T3G', 'T3G', 'T3G', 'T3G', 'T3G', 'T3G', 'T3G', 'T3G', 'T3G', 'T3G', 'T3G', 'T3G', 'T3G', 'T3G', 'T3G', 'T3G', 'T3G', 'T3G', 'T3G', 'T3G', 'T3G', 'T3G', 'T3G', 'T3G', 'T3D', 'T3G', 'T3G', 'T3G', 'T3G', 'T3G', 'T3G', 'T3G', 'T3G', 'T3G', 'T3G', 'T3G', 'T3G', 'T3G', 'T3G', 'T3G', 'T3G', 'T3G', 'T3G', 'T3G', 'T3G', 'T3G', 'T3G', 'T3G', 'T3G', 'T3G', 'T3G', 'T3G', 'T3G', 'T3G', 'T3G', 'T3G', 'T3G', 'T3G', 'T3G', 'T3G', 'T3G', 'T3D', 'T3G', 'T3G', 'T3G', 'T3G', 'T3G', 'T3G', 'T3G', 'T3G', 'T3G', 'T3G', 'T3G', 'T3G', 'T3G', 'T3G', 'T3G', 'T3G', 'T3G', 'T3G', 'T3G', 'T3G', 'T3G', 'T3G', 'T3G', 'T3G', 'T3G', 'T3G', 'T3G', 'T3G', 'T3G', 'T3G', 'T3G', 'T3G', 'T3G', 'T3G', 'T3G', 'T3G', 'T3G', 'T3G', 'T3G', 'T3G', 'T3G', 'T3G', 'T3G', 'T3G', 'T3G', 'T3G', 'T3G', 'T3G', 'T3G', 'T3G', 'T3G', 'T3G', 'T3G', 'T3G', 'T3G', 'T3G', 'T3G', 'T3G', 'T3D', 'T3G', 'T3G', 'T3G', 'T3G', 'T3G', 'T3G', 'T3G', 'T3G', 'T3G', 'T3G', 'T3G', 'T3G', 'T3G', 'T3G', 'T3G', 'T3G', 'T3G', 'T3G', 'T3G', 'T3G', 'T3G', 'T3G', 'T3G', 'T3G', 'T3G', 'T3G', 'T3G', 'T3G', 'T3G', 'T3G', 'T3G', 'T3G', 'T3G', 'T3G', 'T3G', 'T3G', 'T3G', 'T3G', 'T3G', 'T3G', 'T3G', 'T3G', 'T3G', 'T3G', 'T3G', 'T3G', 'T3G', 'T3G', 'T3G', 'T3G', 'T3G', 'T3D', 'T3G', 'T3G', 'T3G', 'T3G', 'T3G', 'T3G', 'T3G', 'T3G', 'T3G', 'T3G', 'T3G', 'T3G', 'T3G', 'T3G', 'T3G', 'T3G', 'T3G', 'T3G', 'T3G', 'T3G', 'T3G', 'T3G', 'T3G', 'T3G', 'T3G', 'T3G', 'T3G', 'T3G', 'T3G', 'T3G', 'T3G', 'T3G', 'T3G', 'T3G', 'T3G', 'T3G', 'T3G', 'T3G', 'T3G', 'T3G', 'T3G', 'T3G', 'T3G', 'T3G', 'T3G', 'T3D', 'T3G', 'T3G', 'T3G', 'T3G', 'T3G', 'T3G', 'T3G', 'T3G', 'T3G', 'T3G', 'T3G', 'T3G', 'T3G', 'T3G', 'T3G', 'T3G', 'T3G', 'T3G', 'T3G', 'T3G', 'T3G', 'T3G', 'T3G', 'T3D', 'T3G', 'T3G', 'T3G', 'T3G', 'T3G', 'T3G', 'T3D', 'T3G', 'T3G', 'T3G', 'T3G', 'T3G', 'T3G', 'T3G', 'T3G', 'T3G', 'T3G', 'T3G', 'T3G', 'T3G', 'T3G', 'T3G', 'T3G', 'T3G', 'T3G', 'T3G', 'T3G', 'T3G', 'T3G', 'T3G', 'T3G', 'T3G', 'T3G', 'T3G', 'T3G', 'T3G', 'T3G', 'T3G', 'T3D', 'T3G', 'T3G', 'T3G', 'T3G', 'T3G', 'T3G', 'T3G', 'T3G', 'T3G', 'T3G', 'T3G', 'T3G', 'T3G', 'T3G', 'T3D', 'T3G', 'T3D', 'T3G', 'T3G', 'T3G', 'T3G', 'T3G', 'T3G', 'T3G', 'T3G', 'T3G', 'T3G', 'T3G', 'T3G', 'T3G', 'T3G', 'T3G', 'T3G', 'T3G', 'T3G', 'T3G', 'T3G', 'T3G', 'T3G', 'T3G', 'T3G', 'T3G', 'T3G', 'T3G', 'T3G', 'T3G', 'T3G', 'T3G', 'T3G', 'T3G', 'T3G', 'T3G', 'T3G', 'T3G', 'T3G', 'T3G', 'T3G', 'T3G', 'T3G', 'T3G', 'T3G', 'T3G', 'T3G', 'T3G', 'T3G', 'T3G', 'T3G', 'T3G', 'T3G', 'T3G', 'T3G', 'T3G', 'T3G', 'T3G', 'T3G', 'T3G', 'T3G', 'T3G', 'T3G', 'T3G', 'T3G', 'T3G', 'T3G', 'T3G', 'T3G', 'T3G', 'T3G', 'T3G', 'T3G', 'T3G', 'T3G', 'T3G', 'T3G', 'T3G', 'T3G', 'T3G', 'T3G', 'T3G', 'T3G', 'T3G', 'T3G', 'T3G', 'T3G', 'T3G', 'T3G', 'T3G', 'T3G', 'T3G', 'T3G', 'T3G', 'T3G', 'T3G', 'T3G', 'T3G', 'T3G', 'T3G', 'T3G', 'T3D', 'T3G', 'T3G', 'T3G', 'T3G', 'T3G', 'T3G', 'T3G', 'T3G', 'T3G', 'T3G', 'T3G', 'T3G', 'T3G', 'T3G', 'T3G', 'T3G', 'T3G', 'T3G', 'T3G', 'T3G', 'T3G', 'T3G', 'T3G', 'T3G', 'T3G', 'T3G', 'T3G', 'T3G', 'T3G', 'T3G', 'T3G', 'T3G', 'T3G', 'T3G', 'T3G', 'T3D', 'T3G', 'T3G', 'T3G', 'T3G', 'T3G', 'T3G', 'T3G', 'T3G', 'T3G', 'T3G', 'T3G', 'T3G', 'T3G', 'T3G', 'T3G', 'T3G', 'T3G', 'T3G', 'T3G', 'T3G', 'T3G', 'T3G', 'T3G', 'T3G', 'T3G', 'T3G', 'T3G', 'T3G', 'T3G', 'T3G', 'T3G', 'T3G', 'T3G', 'T3G', 'T3G', 'T3G', 'T3G', 'T3G', 'T3G', 'T3G', 'T3G', 'T3G', 'T3G', 'T3G', 'T3G', 'T3G', 'T3G', 'T3G', 'T3G', 'T3G', 'T3G', 'T3G', 'T3G', 'T3G', 'T3G', 'T3G', 'T3G', 'T3G', 'T3G', 'T3G', 'T3G', 'T3G', 'T3G', 'T3G', 'T3G', 'T3G', 'T3G', 'T3G', 'T3G', 'T3G', 'T3G', 'T3G', 'T3G', 'T3G', 'T3G', 'T3G', 'T3G', 'T3G', 'T3G', 'T3G', 'T3G', 'T3D', 'T3G', 'T3G', 'T3G', 'T3G', 'T3G', 'T3G', 'T3G', 'T3G', 'T3G', 'T3G', 'T3G', 'T3G', 'T3G', 'T3G', 'T3G', 'T3G', 'T3G', 'T3G', 'T3G', 'T3G', 'T3G', 'T3G', 'T3G', 'T3G', 'T3G', 'T3G', 'T3G', 'T3G', 'T3G', 'T3G', 'T3G', 'T3G', 'T3G', 'T3G', 'T3G', 'T3G', 'T3G', 'T3G', 'T3G', 'T3G', 'T3G', 'T3G', 'T3G', 'T3G', 'T3G', 'T3G', 'T3G', 'T3G', 'T3G', 'T3G', 'T3G', 'T3G', 'T3G', 'T3G', 'T3G', 'T3G', 'T3G', 'T3G', 'T3G', 'T3G', 'T3G', 'T3G', 'T3D', 'T3G', 'T3G', 'T3G', 'T3G', 'T3G', 'T3G', 'T3G', 'T3G', 'T3G', 'T3G', 'T3G', 'T3G', 'T3G', 'T3G', 'T3G', 'T3G', 'T3G', 'T3G', 'T3G', 'T3G', 'T3G', 'T3G', 'T3G', 'T3G', 'T3G', 'T3G', 'T3G', 'T3G', 'T3G', 'T3G', 'T3G', 'T3G', 'T3G', 'T3G', 'T3G', 'T3G', 'T3G', 'T3G', 'T3G', 'T3G', 'T3G', 'T3G', 'T3G', 'T3G', 'T3G', 'T3G', 'T3G', 'T3G', 'T3G', 'T3G', 'T3G', 'T3G', 'T3G', 'T3G', 'T3G', 'T3G', 'T3G', 'T3G', 'T3G', 'T3G', 'T3G', 'T3G', 'T3G', 'T3G', 'T3G', 'T3G', 'T3G', 'T3G', 'T3G', 'T3G', 'T3G', 'T3G', 'T3G', 'T3G', 'T3G', 'T3G', 'T3G', 'T3G', 'T3G', 'T3G', 'T3G', 'T3G', 'T3G', 'T3G', 'T3G', 'T3G', 'T3G', 'T3G', 'T3G', 'T3G', 'T3G', 'T3G', 'T3G', 'T3G', 'T3G', 'T3G', 'T3G', 'T3G', 'T3G', 'T3G', 'T3G', 'T3D', 'T3G', 'T3G', 'T3G', 'T3G', 'T3G', 'T3G', 'T3G', 'T3G', 'T3G', 'T3G', 'T3G', 'T3G', 'T3G', 'T3G', 'T3G', 'T3G', 'T3G', 'T3G', 'T3G', 'T3G', 'T3G', 'T3G', 'T3G', 'T3G', 'T3G', 'T3D', 'T3G', 'T3G', 'T3G', 'T3G', 'T3G', 'T3G', 'T3G', 'T3G', 'T3G', 'T3G', 'T3G', 'T3D', 'T3G', 'T3G', 'T3G', 'T3G', 'T3G', 'T3G', 'T3G', 'T3G', 'T3G', 'T3G', 'T3G', 'T3G', 'T3G', 'T3G', 'T3G', 'T3G', 'T3G', 'T3G', 'T3G', 'T3G', 'T3D', 'T3G', 'T3G', 'T3G', 'T3G', 'T3G', 'T3G', 'T3G', 'T3G', 'T3G', 'T3G', 'T3G', 'T3G', 'T3G', 'T3G', 'T3G', 'T3G', 'T3G', 'T3G', 'T3G', 'T3G', 'T3G', 'T3G', 'T3G', 'T3G', 'T3G', 'T3G', 'T3G', 'T3G', 'T3G', 'T3G', 'T3G', 'T3G', 'T3G', 'T3G', 'T3G', 'T3G', 'T3G', 'T3G', 'T3G', 'T3G', 'T3G', 'T3G', 'T3G', 'T3G', 'T3G', 'T3G', 'T3G', 'T3G', 'T3G', 'T3G', 'T3G', 'T3D', 'T3G', 'T3G', 'T3G', 'T3G', 'T3G', 'T3G', 'T3G', 'T3G', 'T3G', 'T3G', 'T3G', 'T3G', 'T3G', 'T3G', 'T3G', 'T3G', 'T3G', 'T3G', 'T3G', 'T3G', 'T3G', 'T3G', 'T3G', 'T3G', 'T3G', 'T3D', 'T3G', 'T3G', 'T3G', 'T3G', 'T3G', 'T3G', 'T3G', 'T3G', 'T3G', 'T3G', 'T3G', 'T3G', 'T3G', 'T3G', 'T3D', 'T3G', 'T3G', 'T3G', 'T3G', 'T3G', 'T3G', 'T3G', 'T3G', 'T3G', 'T3G', 'T3G', 'T3G', 'T3G', 'T3D', 'T3G', 'T3G', 'T3G', 'T3G', 'T3G', 'T3G', 'T3G', 'T3G', 'T3G', 'T3G', 'T3G', 'T3G', 'T3G', 'T3G', 'T3G', 'T3G', 'T3G', 'T3G', 'T3G', 'T3G', 'T3G', 'T3G', 'T3G', 'T3G', 'T3G', 'T3G', 'T3G', 'T3G', 'T3G', 'T3G', 'T3G', 'T3G', 'T3G', 'T3G', 'T3G', 'T3G', 'T3D', 'T3G', 'T3G', 'T3G', 'T3G', 'T3G', 'T3G', 'T3G', 'T3G', 'T3G', 'T3G', 'T3G', 'T3G', 'T3G', 'T3G', 'T3G', 'T3G', 'T3G', 'T3G', 'T3G', 'T3G', 'T3G', 'T3G', 'T3G', 'T3G', 'T3G', 'T3G', 'T3G', 'T3G', 'T3G', 'T3G', 'T3G', 'T3G', 'T3G', 'T3G', 'T3G', 'T3G', 'T3G', 'T3G', 'T3G', 'T3G', 'T3G', 'T3G', 'T3G', 'T3G', 'T3G', 'T3G', 'T3G', 'T3G', 'T3G', 'T3G', 'T3G', 'T3G', 'T3G', 'T3G', 'T3G', 'T3G', 'T3G', 'T3G', 'T3G', 'T3G', 'T3G', 'T3G', 'T3G', 'T3G', 'T3G', 'T3G', 'T3G', 'T3G', 'T3G', 'T3G', 'T3G', 'T3G', 'T3G', 'T3G', 'T3G', 'T3G', 'T3G', 'T3G', 'T3G', 'T3G', 'T3G', 'T3G', 'T3G', 'T3G', 'T3G', 'T3G', 'T3G', 'T3G', 'T3G', 'T3G', 'T3G', 'T3G', 'T3G', 'T3G', 'T3G', 'T3G', 'T3G', 'T3G', 'T3G', 'T3G', 'T3G', 'T3G', 'T3G', 'T3G', 'T3G', 'T3G', 'T3G', 'T3G', 'T3G', 'T3G', 'T3G', 'T3G', 'T3G', 'T3G', 'T3G', 'T3G', 'T3G', 'T3G', 'T3G', 'T3G', 'T3G', 'T3G', 'T3G', 'T3D', 'T3G', 'T3G', 'T3G', 'T3G', 'T3G', 'T3G', 'T3G', 'T3G', 'T3G', 'T3G', 'T3G', 'T3G', 'T3G', 'T3G', 'T3G', 'T3G', 'T3D', 'T3G', 'T3G', 'T3G', 'T3G', 'T3G', 'T3G', 'T3G', 'T3G', 'T3G', 'T3G', 'T3G', 'T3G', 'T3G', 'T3G', 'T3G', 'T3G', 'T3G', 'T3G', 'T3G', 'T3G', 'T3G', 'T3G', 'T3G', 'T3G', 'T3G', 'T3G', 'T3G', 'T3G', 'T3G', 'T3G', 'T3G', 'T3G', 'T3G', 'T3G', 'T3G', 'T3G', 'T3G', 'T3G', 'T3G', 'T3G', 'T3G', 'T3G', 'T3G', 'T3G', 'T3G', 'T3G', 'T3G', 'T3G', 'T3G', 'T3G', 'T3D', 'T3G', 'T3G', 'T3G', 'T3G', 'T3G', 'T3G', 'T3G', 'T3G', 'T3G', 'T3G', 'T3G', 'T3G', 'T3G', 'T3G', 'T3G', 'T3G', 'T3G', 'T3G', 'T3G', 'T3G', 'T3G', 'T3G', 'T3G', 'T3G', 'T3G', 'T3G', 'T3G', 'T3G', 'T3G', 'T3G', 'T3G', 'T3G', 'T3G', 'T3G', 'T3G', 'T3G', 'T3G', 'T3G', 'T3G', 'T3G', 'T3G', 'T3G', 'T3G', 'T3G', 'T3G', 'T3G', 'T3G', 'T3G', 'T3G', 'T3G', 'T3G', 'T3G', 'T3G', 'T3G', 'T3G', 'T3G', 'T3G', 'T3G', 'T3G', 'T3G', 'T3G', 'T3G', 'T3G', 'T3G', 'T3G', 'T3G', 'T3G', 'T3G', 'T3G', 'T3G', 'T3G', 'T3G', 'T3G', 'T3G', 'T3G', 'T3G', 'T3G', 'T3G', 'T3G', 'T3G', 'T3G', 'T3G', 'T3G', 'T3G', 'T3G', 'T3G', 'T3G', 'T3G', 'T3G', 'T3G', 'T3G', 'T3G', 'T3G', 'T3G', 'T3G', 'T3G', 'T3D', 'T3G', 'T3G', 'T3G', 'T3G', 'T3G', 'T3G', 'T3G', 'T3G', 'T3G', 'T3G', 'T3G', 'T3G', 'T3G', 'T3G', 'T3G', 'T3G', 'T3G', 'T3G', 'T3G', 'T3G', 'T3G', 'T3G', 'T3G', 'T3G', 'T3G', 'T3G', 'T3G', 'T3G', 'T3G', 'T3G', 'T3G', 'T3G', 'T3G', 'T3G', 'T3G', 'T3G', 'T3G', 'T3G', 'T3G', 'T3D', 'T3G', 'T3G', 'T3G', 'T3G', 'T3G', 'T3G', 'T3G', 'T3G', 'T3G', 'T3G', 'T3G', 'T3G', 'T3G', 'T3G', 'T3G', 'T3G', 'T3G', 'T3G', 'T3G', 'T3G', 'T3G', 'T3G', 'T3G', 'T3G', 'T3G', 'T3G', 'T3G', 'T3G', 'T3G', 'T3G', 'T3G', 'T3D', 'T3G', 'T3G', 'T3G', 'T3G', 'T3G', 'T3G', 'T3G', 'T3D', 'T3G', 'T3G', 'T3G', 'T3G', 'T3G', 'T3G', 'T3G', 'T3G', 'T3G', 'T3G', 'T3D', 'T3G', 'T3G', 'T3G', 'T3G', 'T3G', 'T3G', 'T3G', 'T3G', 'T3G', 'T3G', 'T3G', 'T3G', 'T3G', 'T3G', 'T3G', 'T3G', 'T3G', 'T3G', 'T3G', 'T3G', 'T3G', 'T3G', 'T3G', 'T3G', 'T3G', 'T3G', 'T3G', 'T3G', 'T3G', 'T3G', 'T3G', 'T3G', 'T3G', 'T3G', 'T3G', 'T3G', 'T3G', 'T3G', 'T3G', 'T3G', 'T3G', 'T3G', 'T3G', 'T3G', 'T3G', 'T3G', 'T3G', 'T3G', 'T3G', 'T3G', 'T3G', 'T3G', 'T3G', 'T3G', 'T3G', 'T3G', 'T3G', 'T3G', 'T3G', 'T3G', 'T3G', 'T3G', 'T3G', 'T3G', 'T3G', 'T3G', 'T3G', 'T3G', 'T3G', 'T3G', 'T3G', 'T3G', 'T3G', 'T3G', 'T3G', 'T3G', 'T3G', 'T3G', 'T3G', 'T3G', 'T3G', 'T3G', 'T3G', 'T3G', 'T3G', 'T3G', 'T3G', 'T3G', 'T3G', 'T3G', 'T3G', 'T3G', 'T3G', 'T3G', 'T3G', 'T3G', 'T3G', 'T3G', 'T3G', 'T3G', 'T3D', 'T3G', 'T3G', 'T3G', 'T3G', 'T3G', 'T3G', 'T3G', 'T3G', 'T3G', 'T3G', 'T3G', 'T3G', 'T3G', 'T3G', 'T3G', 'T3G', 'T3G', 'T3G', 'T3G', 'T3G', 'T3G', 'T3G', 'T3G', 'T3G', 'T3G', 'T3G', 'T3D', 'T3G', 'T3G', 'T3D', 'T3G', 'T3G', 'T3G', 'T3G', 'T3G', 'T3G', 'T3G', 'T3G', 'T3G', 'T3G', 'T3G', 'T3G', 'T3G', 'T3G', 'T3G', 'T3G', 'T3G', 'T3G', 'T3G', 'T3G', 'T3G', 'T3G', 'T3G', 'T3G', 'T3G', 'T3G', 'T3G', 'T3G', 'T3G', 'T3G', 'T3G', 'T3G', 'T3G', 'T3G', 'T3G', 'T3G', 'T3G', 'T3G', 'T3G', 'T3G', 'T3G', 'T3G', 'T3G', 'T3G', 'T3G', 'T3G', 'T3G', 'T3G', 'T3G', 'T3G', 'T3G', 'T3G', 'T3G', 'T3G', 'T3G', 'T3G', 'T3D', 'T3D', 'T3G', 'T3G', 'T3G', 'T3G', 'T3G', 'T3G', 'T3G', 'T3G', 'T3G', 'T3G', 'T3G', 'T3G', 'T3G', 'T3G', 'T3G', 'T3G', 'T3G', 'T3G', 'T3G', 'T3G', 'T3G', 'T3G', 'T3G', 'T3G', 'T3G', 'T3G', 'T3G', 'T3G', 'T3G', 'T3G', 'T3G', 'T3G', 'T3G', 'T3G', 'T3G', 'T3G', 'T3G', 'T3G', 'T3G', 'T3G', 'T3G', 'T3G', 'T3G', 'T3G', 'T3G', 'T3G', 'T3G', 'T3G', 'T3G', 'T3G', 'T3G', 'T3G', 'T3G', 'T3G', 'T3G', 'T3G', 'T3G', 'T3G', 'T3G', 'T3G', 'T3G', 'T3G', 'T3G', 'T3G', 'T3G', 'T3G', 'T3G', 'T3G', 'T3G', 'T3G', 'T3G', 'T3G', 'T3G', 'T3G', 'T3G', 'T3D', 'T3G', 'T3G', 'T3G', 'T3G', 'T3G', 'T3G', 'T3G', 'T3G', 'T3G', 'T3G', 'T3G', 'T3G', 'T3G', 'T3G', 'T3G', 'T3D', 'T3G', 'T3G', 'T3G', 'T3G', 'T3G', 'T3G', 'T3G', 'T3G', 'T3G', 'T3G', 'T3G', 'T3G', 'T3G', 'T3G', 'T3G', 'T3D', 'T3G', 'T3G', 'T3G', 'T3G', 'T3G', 'T3G', 'T3G', 'T3G', 'T3G', 'T3G', 'T3G', 'T3G', 'T3G', 'T3G', 'T3G', 'T3G', 'T3G', 'T3G', 'T3G', 'T3G', 'T3G', 'T3G', 'T3G', 'T3G', 'T3G', 'T3G', 'T3G', 'T3G', 'T3G', 'T3G', 'T3G', 'T3G', 'T3G', 'T3G', 'T3G', 'T3G', 'T3G', 'T3G', 'T3G', 'T3G', 'T3G', 'T3G', 'T3G', 'T3G', 'T3G', 'T3G', 'T3G', 'T3G', 'T3D', 'T3G', 'T3G', 'T3G', 'T3G', 'T3G', 'T3G', 'T3G', 'T3G', 'T3G', 'T3G', 'T3G', 'T3D', 'T3G', 'T3G', 'T3G', 'T3G', 'T3G', 'T3G', 'T3G', 'T3G', 'T3G', 'T3G', 'T3G', 'T3G', 'T3G', 'T3G', 'T3G', 'T3G', 'T3G', 'T3G', 'T3G', 'T3D', 'T3G', 'T3G', 'T3G', 'T3G', 'T3G', 'T3G', 'T3G', 'T3G', 'T3G', 'T3G', 'T3G', 'T3G', 'T3G', 'T3G', 'T3G', 'T3G', 'T3G', 'T3G', 'T3G', 'T3G', 'T3G', 'T3G', 'T3G', 'T3G', 'T3G', 'T3G', 'T3G', 'T3G', 'T3G', 'T3G', 'T3G', 'T3G', 'T3G', 'T3G', 'T3G', 'T3G', 'T3G', 'T3G', 'T3G', 'T3G', 'T3G', 'T3G', 'T3G', 'T3D', 'T3G', 'T3G', 'T3G', 'T3G', 'T3G', 'T3G', 'T3G', 'T3G', 'T3G', 'T3G', 'T3G', 'T3G', 'T3G', 'T3G', 'T3G', 'T3G', 'T3G', 'T3G', 'T3G', 'T3G', 'T3G', 'T3G', 'T3G', 'T3G', 'T3G', 'T3G', 'T3D', 'T3G', 'T3G', 'T3G', 'T3D', 'T3G', 'T3G', 'T3G', 'T3G', 'T3G', 'T3G', 'T3G', 'T3G', 'T3G', 'T3G', 'T3G', 'T3G', 'T3G', 'T3G', 'T3G', 'T3G', 'T3G', 'T3G', 'T3G', 'T3G', 'T3G', 'T3G', 'T3G', 'T3G', 'T3G', 'T3G', 'T3G', 'T3G', 'T3G', 'T3G', 'T3G', 'T3G', 'T3G', 'T3G', 'T3G', 'T3G', 'T3G', 'T3G', 'T3G', 'T3D', 'T3G', 'T3G', 'T3G', 'T3G', 'T3G', 'T3G', 'T3G', 'T3G', 'T3G', 'T3G', 'T3G', 'T3G', 'T3G', 'T3G', 'T3G', 'T3G', 'T3G', 'T3G', 'T3G', 'T3G', 'T3G', 'T3G', 'T3G', 'T3G', 'T3G', 'T3G', 'T3G', 'T3G', 'T3G', 'T3G', 'T3G', 'T3G', 'T3G', 'T3G', 'T3G', 'T3G', 'T3G', 'T3G', 'T3G', 'T3G', 'T3G', 'T3G', 'T3G', 'T3G', 'T3G', 'T3G', 'T3G', 'T3G', 'T3G', 'T3G', 'T3G', 'T3G', 'T3G', 'T3G', 'T3G', 'T3G', 'T3G', 'T3G', 'T3G', 'T3G', 'T3G', 'T3G', 'T3G', 'T3G', 'T3G', 'T3G', 'T3G', 'T3G', 'T3G', 'T3G', 'T3G', 'T3G', 'T3G', 'T3G', 'T3G', 'T3G', 'T3G', 'T3G', 'T3G', 'T3G', 'T3G', 'T3G', 'T3G', 'T3G', 'T3G', 'T3G', 'T3G', 'T3G', 'T3G', 'T3G', 'T3G', 'T3G', 'T3G', 'T3G', 'T3G', 'T3G', 'T3G', 'T3G', 'T3G', 'T3G', 'T3G', 'T3G', 'T3G', 'T3G', 'T3G', 'T3D', 'T3G', 'T3G', 'T3G', 'T3G', 'T3G', 'T3G', 'T3G', 'T3G', 'T3G', 'T3G', 'T3G', 'T3G', 'T3G', 'T3G', 'T3G', 'T3G', 'T3G', 'T3G', 'T3G', 'T3G', 'T3G', 'T3G', 'T3G', 'T3G', 'T3G', 'T3G', 'T3G', 'T3G', 'T3G', 'T3G', 'T3G', 'T3G', 'T3G', 'T3G', 'T3G', 'T3G', 'T3G', 'T3G', 'T3G', 'T3G', 'T3G', 'T3G', 'T3G', 'T3G', 'T3G', 'T3G', 'T3G', 'T3G', 'T3G', 'T3G', 'T3G', 'T3G', 'T3G', 'T3G', 'T3D', 'T3G', 'T3G', 'T3G', 'T3G', 'T3G', 'T3G', 'T3G', 'T3G', 'T3G', 'T3G', 'T3G', 'T3G', 'T3G', 'T3G', 'T3G', 'T3G', 'T3G', 'T3G', 'T3G', 'T3G', 'T3G', 'T3G', 'T3G', 'T3G', 'T3G', 'T3G', 'T3G', 'T3G', 'T3G', 'T3G', 'T3G', 'T3G', 'T3G', 'T3G', 'T3D', 'T3G', 'T3G', 'T3G', 'T3G', 'T3G', 'T3G', 'T3G', 'T3G', 'T3G', 'T3G', 'T3G', 'T3G', 'T3G', 'T3G', 'T3G', 'T3G', 'T3G', 'T3G', 'T3G', 'T3G', 'T3G', 'T3G', 'T3G', 'T3G', 'T3G', 'T3G', 'T3G', 'T3D', 'T3G', 'T3G', 'T3G', 'T3G', 'T3G', 'T3G', 'T3G', 'T3G', 'T3G', 'T3G', 'T3G', 'T3G', 'T3G', 'T3G', 'T3G', 'T3G', 'T3G', 'T3G', 'T3G', 'T3G', 'T3G', 'T3G', 'T3G', 'T3G', 'T3G', 'T3G', 'T3G', 'T3G', 'T3G', 'T3G', 'T3G', 'T3G', 'T3G', 'T3G', 'T3G', 'T3G', 'T3G', 'T3D', 'T3G', 'T3G', 'T3G', 'T3G', 'T3G', 'T3G', 'T3G', 'T3G', 'T3G', 'T3G', 'T3G', 'T3G', 'T3G', 'T3G', 'T3G', 'T3G', 'T3G', 'T3G', 'T3G', 'T3G', 'T3G', 'T3G', 'T3G', 'T3G', 'T3G', 'T3G', 'T3G', 'T3G', 'T3G', 'T3G', 'T3G', 'T3G', 'T3G', 'T3G', 'T3G', 'T3G', 'T3G', 'T3G', 'T3G', 'T3G', 'T3G', 'T3G', 'T3G', 'T3G', 'T3G', 'T3G', 'T3G', 'T3G', 'T3G', 'T3G', 'T3G', 'T3G', 'T3G', 'T3G', 'T3G', 'T3G', 'T3G', 'T3G', 'T3G', 'T3G', 'T3D', 'T3G', 'T3G', 'T3G', 'T3G', 'T3G', 'T3G', 'T3G', 'T3G', 'T3G', 'T3G', 'T3G', 'T3G', 'T3G', 'T3G', 'T3G', 'T3G', 'T3G', 'T3G', 'T3G', 'T3G', 'T3G', 'T3G', 'T3G', 'T3G', 'T3G', 'T3G', 'T3G', 'T3G', 'T3G', 'T3G', 'T3G', 'T3G', 'T3G', 'T3G', 'T3G', 'T3G', 'T3G', 'T3G', 'T3G', 'T3G', 'T3G', 'T3G', 'T3G', 'T3G', 'T3G', 'T3G', 'T3G', 'T3G', 'T3D', 'T3G', 'T3G', 'T3G', 'T3G', 'T3G', 'T3G', 'T3G', 'T3G', 'T3G', 'T3G', 'T3G', 'T3G', 'T3G', 'T3G', 'T3G', 'T3G', 'T3G', 'T3G', 'T3G', 'T3G', 'T3G', 'T3G', 'T3G', 'T3G', 'T3G', 'T3G', 'T3G', 'T3G', 'T3G', 'T3D', 'T3G', 'T3G', 'T3G', 'T3G', 'T3G', 'T3G', 'T3G', 'T3G', 'T3G', 'T3G', 'T3G', 'T3G', 'T3G', 'T3G', 'T3G', 'T3G', 'T3G', 'T3G', 'T3G', 'T3G', 'T3G', 'T3G', 'T3G', 'T3G', 'T3G', 'T3G', 'T3G', 'T3G', 'T3G', 'T3G', 'T3G', 'T3G', 'T3G', 'T3G', 'T3G', 'T3G', 'T3G', 'T3G', 'T3D', 'T3G', 'T3G', 'T3G', 'T3G', 'T3G', 'T3G', 'T3D', 'T3G', 'T3G', 'T3G', 'T3G', 'T3G', 'T3G', 'T3G', 'T3G', 'T3G', 'T3G', 'T3G', 'T3G', 'T3G', 'T3G', 'T3G', 'T3G', 'T3G', 'T3G', 'T3G', 'T3G', 'T3G', 'T3G', 'T3G', 'T3G', 'T3G', 'T3D', 'T3G', 'T3G', 'T3D', 'T3G', 'T3G', 'T3G', 'T3G', 'T3G', 'T3G', 'T3G', 'T3G', 'T3G', 'T3G', 'T3G', 'T3G', 'T3G', 'T3G', 'T3G', 'T3G', 'T3G', 'T3G', 'T3G', 'T3G', 'T3G', 'T3G', 'T3G', 'T3G', 'T3G', 'T3G', 'T3G', 'T3G', 'T3G', 'T3G', 'T3G', 'T3G', 'T3G', 'T3G', 'T3G', 'T3G', 'T3G', 'T3G', 'T3G', 'T3G', 'T3G', 'T3D', 'T3G', 'T3G', 'T3G', 'T3G', 'T3G', 'T3G', 'T3G', 'T3G', 'T3G', 'T3G', 'T3G', 'T3G', 'T3G', 'T3G', 'T3G', 'T3G', 'T3G', 'T3G', 'T3G', 'T3G', 'T3G', 'T3G', 'T3G', 'T3G', 'T3G', 'T3G', 'T3G', 'T3G', 'T3G', 'T3G', 'T3G', 'T3G', 'T3G', 'T3G', 'T3G', 'T3G', 'T3G', 'T3G', 'T3G', 'T3G', 'T3G', 'T3G', 'T3G', 'T3G', 'T3G', 'T3G', 'T3G', 'T3G', 'T3G', 'T3G', 'T3G', 'T3G', 'T3G', 'T3G', 'T3G', 'T3G', 'T3G', 'T3G', 'T3G', 'T3G', 'T3G', 'T3G', 'T3G', 'T3G', 'T3G', 'T3G', 'T3G', 'T3G', 'T3G', 'T3G', 'T3G', 'T3D', 'T3G', 'T3G', 'T3G', 'T3G', 'T3G', 'T3G', 'T3G', 'T3G', 'T3G', 'T3G', 'T3G', 'T3G', 'T3G', 'T3D', 'T3G', 'T3G', 'T3G', 'T3G', 'T3G', 'T3G', 'T3G', 'T3G', 'T3G', 'T3G', 'T3G', 'T3G', 'T3G', 'T3G', 'T3G', 'T3G', 'T3G', 'T3G', 'T3G', 'T3G', 'T3G', 'T3D', 'T3G', 'T3G', 'T3G', 'T3G', 'T3G', 'T3G', 'T3D', 'T3G', 'T3G', 'T3G', 'T3G', 'T3G', 'T3G', 'T3G', 'T3G', 'T3G', 'T3G', 'T3G', 'T3G', 'T3G', 'T3G', 'T3G', 'T3G', 'T3G', 'T3G', 'T3G', 'T3G', 'T3G', 'T3D', 'T3G', 'T3G', 'T3G', 'T3G', 'T3G', 'T3G', 'T3G', 'T3G', 'T3G', 'T3G', 'T3G', 'T3G', 'T3G', 'T3G', 'T3G', 'T3G', 'T3G', 'T3G', 'T3G', 'T3G', 'T3G', 'T3G', 'T3G', 'T3G', 'T3G', 'T3D', 'T3G', 'T3G', 'T3G', 'T3G', 'T3G', 'T3G', 'T3G', 'T3G', 'T3D', 'T3G', 'T3G', 'T3G', 'T3G', 'T3G', 'T3G', 'T3G', 'T3G', 'T3G', 'T3G', 'T3G', 'T3G', 'T3G', 'T3G', 'T3G', 'T3D', 'T3G', 'T3G', 'T3G', 'T3G', 'T3G', 'T3G', 'T3G', 'T3G', 'T3G', 'T3G', 'T3G', 'T3G', 'T3G', 'T3G', 'T3D', 'T3G', 'T3D', 'T3G', 'T3G', 'T3G', 'T3G', 'T3G', 'T3G', 'T3G', 'T3G', 'T3G', 'T3G', 'T3G', 'T3G', 'T3G', 'T3G', 'T3G', 'T3G', 'T3G', 'T3G', 'T3G', 'T3G', 'T3G', 'T3G', 'T3G', 'T3G', 'T3G', 'T3G', 'T3G', 'T3G', 'T3G', 'T3G', 'T3G', 'T3G', 'T3G', 'T3G', 'T3G', 'T3G', 'T3G', 'T3G', 'T3G', 'T3G', 'T3G', 'T3G', 'T3G', 'T3G', 'T3G', 'T3G', 'T3G', 'T3G', 'T3G', 'T3G', 'T3G', 'T3G', 'T3G', 'T3G', 'T3G', 'T3G', 'T3G', 'T3G', 'T3G', 'T3G', 'T3G', 'T3G', 'T3G', 'T3G', 'T3G', 'T3G', 'T3G', 'T3G', 'T3G', 'T3G', 'T3G', 'T3G', 'T3G', 'T3D', 'T3G', 'T3G', 'T3G', 'T3G', 'T3G', 'T3G', 'T3G', 'T3G', 'T3G', 'T3G', 'T3G', 'T3G', 'T3G', 'T3G', 'T3G', 'T3G', 'T3G', 'T3G', 'T3G', 'T3G', 'T3G', 'T3G', 'T3G', 'T3G', 'T3G', 'T3G', 'T3G', 'T3G', 'T3G', 'T3G', 'T3D', 'T3G', 'T3G', 'T3G', 'T3G', 'T3G', 'T3G', 'T3G', 'T3G', 'T3G', 'T3G', 'T3G', 'T3G', 'T3G', 'T3G', 'T3G', 'T3G', 'T3G', 'T3G', 'T3G', 'T3G', 'T3G', 'T3G', 'T3G', 'T3G', 'T3G', 'T3G', 'T3G', 'T3G', 'T3G', 'T3G', 'T3G', 'T3G', 'T3G', 'T3G', 'T3G', 'T3G', 'T3G', 'T3G', 'T3G', 'T3G', 'T3G', 'T3G', 'T3G', 'T3G', 'T3G', 'T3G', 'T3G', 'T3G', 'T3G', 'T3G', 'T3G', 'T3G', 'T3G', 'T3G', 'T3G', 'T3G', 'T3G', 'T3G', 'T3G', 'T3G', 'T3G', 'T3G', 'T3G', 'T3G', 'T3G', 'T3G', 'T3G', 'T3G', 'T3G', 'T3G', 'T3G', 'T3G', 'T3G', 'T3G', 'T3G', 'T3G', 'T3G', 'T3G', 'T3G', 'T3G', 'T3G', 'T3G', 'T3G', 'T3G', 'T3G', 'T3G', 'T3G', 'T3G', 'T3G', 'T3G', 'T3G', 'T3G', 'T3G', 'T3G', 'T3G', 'T3G', 'T3G', 'T3G', 'T3G', 'T3G', 'T3G', 'T3G', 'T3G', 'T3G', 'T3G', 'T3G', 'T3G', 'T3G', 'T3G', 'T3G', 'T3G', 'T3G', 'T3G', 'T3G', 'T3G', 'T3G', 'T3G', 'T3G', 'T3G', 'T3G', 'T3G', 'T3G', 'T3G', 'T3G', 'T3G', 'T3G', 'T3G', 'T3G', 'T3G', 'T3G', 'T3G', 'T3G', 'T3G', 'T3G', 'T3G', 'T3G', 'T3G', 'T3G', 'T3G', 'T3G', 'T3G', 'T3G', 'T3G', 'T3G', 'T3G', 'T3G', 'T3G', 'T3G', 'T3G', 'T3G', 'T3G', 'T3G', 'T3G', 'T3G', 'T3G', 'T3G', 'T3G', 'T3G', 'T3G', 'T3G', 'T3G', 'T3G', 'T3G', 'T3G', 'T3G', 'T3G', 'T3G', 'T3G', 'T3G', 'T3G', 'T3D', 'T3G', 'T3G', 'T3D', 'T3G', 'T3G', 'T3D', 'T3G', 'T3G', 'T3G', 'T3G', 'T3G', 'T3G', 'T3G', 'T3D', 'T3G', 'T3G', 'T3G', 'T3G', 'T3G', 'T3G', 'T3G', 'T3G', 'T3G', 'T3G', 'T3G', 'T3G', 'T3G', 'T3G', 'T3G', 'T3G', 'T3G', 'T3G', 'T3G', 'T3G', 'T3G', 'T3G', 'T3G', 'T3G', 'T3G', 'T3G', 'T3G', 'T3G', 'T3G', 'T3G', 'T3G', 'T3G', 'T3G', 'T3G', 'T3G', 'T3G', 'T3G', 'T3G', 'T3G', 'T3G', 'T3G', 'T3G', 'T3G', 'T3G', 'T3G', 'T3G', 'T3G', 'T3G', 'T3G', 'T3G', 'T3G', 'T3G', 'T3G', 'T3G', 'T3G', 'T3G', 'T3D', 'T3G', 'T3G', 'T3G', 'T3G', 'T3G', 'T3G', 'T3G', 'T3G', 'T3G', 'T3G', 'T3G', 'T3G', 'T3G', 'T3G', 'T3G', 'T3G', 'T3G', 'T3G', 'T3G', 'T3G', 'T3G', 'T3G', 'T3G', 'T3G', 'T3G', 'T3G', 'T3G', 'T3G', 'T3G', 'T3G', 'T3G', 'T3G', 'T3G', 'T3G', 'T3G', 'T3G', 'T3G', 'T3G', 'T3G', 'T3G', 'T3G', 'T3G', 'T3G', 'T3G', 'T3G', 'T3D', 'T3G', 'T3G', 'T3G', 'T3G', 'T3G', 'T3G', 'T3G', 'T3G', 'T3G', 'T3G', 'T3G', 'T3G', 'T3G', 'T3G', 'T3G', 'T3G', 'T3G', 'T3G', 'T3G', 'T3G', 'T3G', 'T3G', 'T3G', 'T3G', 'T3G', 'T3G', 'T3G', 'T3G', 'T3G', 'T3G', 'T3G', 'T3G', 'T3G', 'T3G', 'T3G', 'T3G', 'T3G', 'T3G', 'T3G', 'T3G', 'T3G', 'T3G', 'T3G', 'T3G', 'T3G', 'T3G', 'T3G', 'T3G', 'T3G', 'T3G', 'T3G', 'T3G', 'T3G', 'T3G', 'T3G', 'T3G', 'T3G', 'T3G', 'T3D', 'T3G', 'T3G', 'T3G', 'T3G', 'T3G', 'T3G', 'T3G', 'T3G', 'T3G', 'T3G', 'T3G', 'T3G', 'T3G', 'T3G', 'T3G', 'T3G', 'T3G', 'T3G', 'T3G', 'T3G', 'T3G', 'T3G', 'T3G', 'T3G', 'T3G', 'T3G', 'T3G', 'T3G', 'T3G', 'T3G', 'T3G', 'T3G', 'T3G', 'T3G', 'T3G', 'T3G', 'T3G', 'T3G', 'T3G', 'T3G', 'T3G', 'T3G', 'T3G', 'T3G', 'T3G', 'T3G', 'T3G', 'T3G', 'T3G', 'T3G', 'T3G', 'T3G', 'T3G', 'T3G', 'T3G', 'T3G', 'T3G', 'T3G', 'T3G', 'T3G', 'T3G', 'T3G', 'T3G', 'T3G', 'T3G', 'T3G', 'T3G', 'T3G', 'T3G', 'T3G', 'T3G', 'T3G', 'T3G', 'T3G', 'T3G', 'T3G', 'T3G', 'T3G', 'T3G', 'T3G', 'T3G', 'T3G', 'T3G', 'T3G', 'T3G', 'T3G', 'T3G', 'T3G', 'T3G', 'T3G', 'T3G', 'T3G', 'T3G', 'T3G', 'T3G', 'T3G', 'T3G', 'T3G', 'T3G', 'T3G', 'T3G', 'T3G', 'T3G', 'T3G', 'T3G', 'T3G', 'T3G', 'T3G', 'T3G', 'T3G', 'T3G', 'T3G', 'T3G', 'T3G', 'T3G', 'T3G', 'T3G', 'T3G', 'T3G', 'T3G', 'T3G', 'T3G', 'T3G', 'T3G', 'T3G', 'T3G', 'T3D', 'T3G', 'T3G', 'T3G', 'T3G', 'T3G', 'T3G', 'T3G', 'T3G', 'T3G', 'T3G', 'T3G', 'T3G', 'T3G', 'T3G', 'T3G', 'T3G', 'T3G', 'T3G', 'T3G', 'T3G', 'T3G', 'T3G', 'T3G', 'T3G', 'T3G', 'T3D', 'T3G', 'T3G', 'T3G', 'T3G', 'T3G', 'T3G', 'T3G', 'T3G', 'T3G', 'T3G', 'T3G', 'T3G', 'T3G', 'T3G', 'T3G', 'T3G', 'T3G', 'T3G', 'T3G', 'T3G', 'T3G', 'T3G', 'T3G', 'T3G', 'T3G', 'T3G', 'T3G', 'T3G', 'T3G', 'T3G', 'T3G', 'T3G', 'T3G', 'T3G', 'T3G', 'T3G', 'T3G', 'T3G', 'T3G', 'T3G', 'T3G', 'T3G', 'T3G', 'T3G', 'T3G', 'T3D', 'T3G', 'T3G', 'T3G', 'T3G', 'T3G', 'T3G', 'T3D', 'T3G', 'T3G', 'T3G', 'T3G', 'T3G', 'T3G', 'T3G', 'T3G', 'T3D', 'T3G', 'T3G', 'T3G', 'T3G', 'T3G', 'T3G', 'T3G', 'T3G', 'T3G', 'T3G', 'T3G', 'T3G', 'T3G', 'T3D', 'T3G', 'T3G', 'T3G', 'T3G', 'T3G', 'T3G', 'T3G', 'T3D', 'T3G', 'T3G', 'T3G', 'T3G', 'T3G', 'T3G', 'T3G', 'T3G', 'T3G', 'T3G', 'T3G', 'T3G', 'T3G', 'T3G', 'T3G', 'T3G', 'T3G', 'T3G', 'T3G', 'T3G', 'T3G', 'T3G', 'T3G', 'T3G', 'T3G', 'T3G', 'T3G', 'T3G', 'T3G', 'T3G', 'T3G', 'T3D', 'T3G', 'T3G', 'T3G', 'T3G', 'T3G', 'T3G', 'T3G', 'T3G', 'T3G', 'T3G', 'T3G', 'T3G', 'T3G', 'T3G', 'T3G', 'T3G', 'T3G', 'T3G', 'T3G', 'T3G', 'T3G', 'T3G', 'T3G', 'T3G', 'T3G', 'T3G', 'T3G', 'T3G', 'T3G', 'T3G', 'T3G', 'T3G', 'T3G', 'T3G', 'T3G', 'T3G', 'T3G', 'T3G', 'T3G', 'T3G', 'T3G', 'T3G', 'T3G', 'T3G', 'T3G', 'T3G', 'T3G', 'T3G', 'T3G', 'T3G', 'T3G', 'T3G', 'T3G', 'T3G', 'T3G', 'T3G', 'T3G', 'T3G', 'T3G', 'T3G', 'T3G', 'T3G', 'T3G', 'T3G', 'T3G', 'T3G', 'T3G', 'T3G', 'T3G', 'T3G', 'T3G', 'T3G', 'T3G', 'T3G', 'T3D', 'T3G', 'T3G', 'T3G', 'T3G', 'T3G', 'T3G', 'T3G', 'T3G', 'T3G', 'T3G', 'T3G', 'T3G', 'T3G', 'T3G', 'T3G', 'T3G', 'T3G', 'T3G', 'T3G', 'T3G', 'T3G', 'T3G', 'T3G', 'T3G', 'T3G', 'T3G', 'T3G', 'T3G', 'T3G', 'T3G', 'T3D', 'T3G', 'T3G', 'T3G', 'T3G', 'T3G', 'T3G', 'T3G', 'T3G', 'T3G', 'T3G', 'T3G', 'T3G', 'T3D', 'T3G', 'T3G', 'T3G', 'T3G', 'T3G', 'T3G', 'T3G', 'T3G', 'T3G', 'T3G', 'T3G', 'T3G', 'T3G', 'T3G', 'T3G', 'T3G', 'T3G', 'T3G', 'T3G', 'T3G', 'T3G', 'T3G', 'T3G', 'T3G', 'T3D', 'T3G', 'T3G', 'T3G', 'T3G', 'T3G', 'T3G', 'T3G', 'T3G', 'T3G', 'T3G', 'T3G', 'T3G', 'T3G', 'T3D', 'T3G', 'T3G', 'T3G', 'T3G', 'T3G', 'T3G', 'T3G', 'T3G', 'T3G', 'T3G', 'T3G', 'T3G', 'T3G', 'T3G', 'T3G', 'T3G', 'T3G', 'T3G', 'T3G', 'T3G', 'T3G', 'T3G', 'T3G', 'T3G', 'T3G', 'T3G', 'T3G', 'T3G', 'T3G', 'T3G', 'T3G', 'T3G', 'T3G', 'T3G', 'T3G', 'T3G', 'T3G', 'T3G', 'T3G', 'T3G', 'T3G', 'T3G', 'T3G', 'T3G', 'T3G', 'T3G', 'T3G', 'T3G', 'T3G', 'T3G', 'T3G', 'T3G', 'T3G', 'T3G', 'T3G', 'T3G', 'T3G', 'T3G', 'T3G', 'T3G', 'T3G', 'T3G', 'T3G', 'T3G', 'T3G', 'T3G', 'T3G', 'T3D', 'T3G', 'T3G', 'T3G', 'T3G', 'T3D', 'T3G', 'T3G', 'T3G', 'T3G', 'T3G', 'T3G', 'T3G', 'T3G', 'T3G', 'T3G', 'T3G', 'T3G', 'T3G', 'T3G', 'T3G', 'T3G', 'T3G', 'T3G', 'T3G', 'T3G', 'T3G', 'T3G', 'T3G', 'T3G', 'T3G', 'T3G', 'T3G', 'T3G', 'T3D', 'T3G', 'T3G', 'T3G', 'T3G', 'T3G', 'T3G', 'T3G', 'T3G', 'T3G', 'T3G', 'T3G', 'T3G', 'T3G', 'T3G', 'T3G', 'T3G', 'T3G', 'T3G', 'T3G', 'T3G', 'T3G', 'T3G', 'T3G', 'T3G', 'T3G', 'T3G', 'T3G', 'T3G', 'T3G', 'T3G', 'T3G', 'T3G', 'T3G', 'T3G', 'T3G', 'T3G', 'T3D', 'T3G', 'T3G', 'T3G', 'T3G', 'T3G', 'T3G', 'T3G', 'T3G', 'T3G', 'T3G', 'T3G', 'T3G', 'T3G', 'T3G', 'T3G', 'T3G', 'T3G', 'T3G', 'T3D', 'T3G', 'T3G', 'T3G', 'T3G', 'T3G', 'T3G', 'T3G', 'T3G', 'T3G', 'T3G', 'T3G', 'T3G', 'T3G', 'T3G', 'T3G', 'T3G', 'T3G', 'T3G', 'T3G', 'T3G', 'T3G', 'T3G', 'T3G', 'T3G', 'T3G', 'T3G', 'T3G', 'T3G', 'T3G', 'T3G', 'T3G', 'T3G', 'T3G', 'T3G', 'T3G', 'T3G', 'T3G', 'T3G', 'T3G', 'T3G', 'T3D', 'T3G', 'T3G', 'T3G', 'T3G', 'T3G', 'T3G', 'T3G', 'T3G', 'T3G', 'T3G', 'T3G', 'T3G', 'T3G', 'T3G', 'T3G', 'T3G', 'T3G', 'T3G', 'T3G', 'T3G', 'T3G', 'T3G', 'T3G', 'T3G', 'T3G', 'T3G', 'T3G', 'T3G', 'T3G', 'T3G', 'T3G', 'T3G', 'T3G', 'T3G', 'T3G', 'T3G', 'T3G', 'T3G', 'T3G', 'T3D', 'T3G', 'T3G', 'T3G', 'T3G', 'T3G', 'T3G', 'T3G', 'T3G', 'T3G', 'T3G', 'T3G', 'T3G', 'T3G', 'T3G', 'T3G', 'T3G', 'T3G', 'T3G', 'T3G', 'T3G', 'T3D', 'T3G', 'T3G', 'T3G', 'T3G', 'T3G', 'T3G', 'T3G', 'T3G', 'T3G', 'T3G', 'T3G', 'T3G', 'T3G', 'T3G', 'T3G', 'T3G', 'T3G', 'T3G', 'T3G', 'T3G', 'T3G', 'T3G', 'T3G', 'T3G', 'T3G', 'T3G', 'T3G', 'T3G', 'T3G', 'T3G', 'T3G', 'T3G', 'T3G', 'T3G', 'T3G', 'T3G', 'T3G', 'T3G', 'T3G', 'T3G', 'T3G', 'T3G', 'T3G', 'T3G', 'T3G', 'T3G', 'T3G', 'T3D', 'T3G', 'T3G', 'T3G', 'T3G', 'T3D', 'T3G', 'T3G', 'T3G', 'T3G', 'T3G', 'T3G', 'T3G', 'T3G', 'T3G', 'T3G', 'T3D', 'T3G', 'T3G', 'T3G', 'T3G', 'T3G', 'T3G', 'T3G', 'T3G', 'T3G', 'T3G', 'T3G', 'T3G', 'T3G', 'T3G', 'T3G', 'T3G', 'T3G', 'T3G', 'T3G', 'T3G', 'T3G', 'T3G', 'T3G', 'T3G', 'T3G', 'T3G', 'T3G', 'T3G', 'T3G', 'T3G', 'T3G', 'T3G', 'T3G', 'T3G', 'T3G', 'T3G', 'T3G', 'T3G', 'T3G', 'T3G', 'T3G', 'T3G', 'T3G', 'T3G', 'T3G', 'T3G', 'T3D', 'T3G', 'T3G', 'T3G', 'T3G', 'T3G', 'T3G', 'T3G', 'T3G', 'T3G', 'T3G', 'T3G', 'T3G', 'T3G', 'T3G', 'T3G', 'T3G', 'T3G', 'T3G', 'T3G', 'T3G', 'T3G', 'T3G', 'T3G', 'T3G', 'T3G', 'T3G', 'T3G', 'T3G', 'T3G', 'T3G', 'T3G', 'T3G', 'T3G', 'T3G', 'T3G', 'T3G', 'T3G', 'T3G', 'T3G', 'T3G', 'T3G', 'T3G', 'T3G', 'T3G', 'T3G', 'T3G', 'T3G', 'T3G', 'T3G', 'T3G', 'T3G', 'T3G', 'T3G', 'T3G', 'T3G', 'T3G', 'T3G', 'T3G', 'T3G', 'T3G', 'T3G', 'T3G', 'T3G', 'T3D', 'T3G', 'T3G', 'T3G', 'T3G', 'T3G', 'T3G', 'T3G', 'T3G', 'T3D', 'T3G', 'T3G', 'T3G', 'T3G', 'T3G', 'T3G', 'T3G', 'T3G', 'T3G', 'T3G', 'T3G', 'T3G', 'T3G', 'T3G', 'T3G', 'T3G', 'T3G', 'T3G', 'T3G', 'T3G', 'T3G', 'T3G', 'T3D', 'T3G', 'T3G', 'T3G', 'T3G', 'T3G', 'T3G', 'T3G', 'T3G', 'T3G', 'T3G', 'T3G', 'T3G', 'T3G', 'T3G', 'T3G', 'T3G', 'T3G', 'T3G', 'T3G', 'T3G', 'T3G', 'T3G', 'T3G', 'T3G', 'T3G', 'T3G', 'T3G', 'T3G', 'T3G', 'T3G', 'T3D', 'T3G', 'T3G', 'T3G', 'T3G', 'T3G', 'T3G', 'T3G', 'T3G', 'T3G', 'T3G', 'T3G', 'T3G', 'T3G', 'T3G', 'T3G', 'T3G', 'T3G', 'T3G', 'T3G', 'T3G', 'T3G', 'T3G', 'T3G', 'T3G', 'T3D', 'T3G', 'T3G', 'T3G', 'T3G', 'T3G', 'T3G', 'T3G', 'T3G', 'T3G', 'T3D', 'T3G', 'T3G', 'T3G', 'T3G', 'T3G', 'T3G', 'T3G', 'T3G', 'T3G', 'T3G', 'T3G', 'T3G', 'T3G', 'T3G', 'T3G', 'T3G', 'T3G', 'T3G', 'T3G', 'T3G', 'T3G', 'T3G', 'T3G', 'T3G', 'T3G', 'T3G', 'T3G', 'T3G', 'T3G', 'T3G', 'T3G', 'T3G', 'T3G', 'T3G', 'T3G', 'T3G', 'T3G', 'T3G', 'T3G', 'T3G', 'T3G', 'T3G', 'T3G', 'T3G', 'T3G', 'T3G', 'T3G', 'T3G', 'T3G', 'T3G', 'T3G', 'T3G', 'T3G', 'T3G', 'T3G', 'T3G', 'T3G', 'T3G', 'T3G', 'T3G', 'T3G', 'T3G', 'T3G', 'T3G', 'T3G', 'T3G', 'T3G', 'T3G', 'T3G', 'T3G', 'T3G', 'T3G', 'T3G', 'T3G', 'T3G', 'T3G', 'T3G', 'T3G', 'T3G', 'T3G', 'T3G', 'T3G', 'T3G', 'T3G', 'T3G', 'T3G', 'T3G', 'T3G', 'T3G', 'T3G', 'T3G', 'T3G', 'T3G', 'T3G', 'T3G', 'T3G', 'T3G', 'T3G', 'T3G', 'T3G', 'T3G', 'T3G', 'T3G', 'T3G', 'T3G', 'T3G', 'T3G', 'T3G', 'T3G', 'T3G', 'T3G', 'T3G', 'T3G', 'T3G', 'T3G', 'T3G', 'T3G', 'T3G', 'T3G', 'T3G', 'T3G', 'T3G', 'T3G', 'T3G', 'T3G', 'T3G', 'T3G', 'T3G', 'T3G', 'T3G', 'T3G', 'T3G', 'T3G', 'T3G', 'T3G', 'T3G', 'T3G', 'T3G', 'T3G', 'T3G', 'T3G', 'T3G', 'T3G', 'T3G', 'T3G', 'T3G', 'T3G', 'T3G', 'T3G', 'T3G', 'T3G', 'T3G', 'T3G', 'T3G', 'T3G', 'T3G', 'T3G', 'T3G', 'T3G', 'T3G', 'T3G', 'T3G', 'T3G', 'T3G', 'T3G', 'T3G', 'T3G', 'T3G', 'T3G', 'T3G', 'T3G', 'T3G', 'T3G', 'T3G', 'T3G', 'T3G', 'T3G', 'T3G', 'T3G', 'T3G', 'T3G', 'T3G', 'T3G', 'T3G', 'T3G', 'T3G', 'T3G', 'T3G', 'T3G', 'T3G', 'T3G', 'T3D', 'T3G', 'T3G', 'T3G', 'T3G', 'T3G', 'T3G', 'T3G', 'T3G', 'T3G', 'T3G', 'T3G', 'T3G', 'T3G', 'T3G', 'T3G', 'T3G', 'T3G', 'T3G', 'T3G', 'T3G', 'T3G', 'T3G', 'T3G', 'T3G', 'T3G', 'T3G', 'T3G', 'T3G', 'T3G', 'T3G', 'T3G', 'T3D', 'T3G', 'T3G', 'T3G', 'T3G', 'T3G', 'T3G', 'T3G', 'T3G', 'T3G', 'T3G', 'T3G', 'T3G', 'T3G', 'T3G', 'T3G', 'T3G', 'T3G', 'T3G', 'T3G', 'T3D', 'T3G', 'T3G', 'T3G', 'T3G', 'T3G', 'T3G', 'T3G', 'T3G', 'T3G', 'T3G', 'T3G', 'T3G', 'T3G', 'T3G', 'T3G', 'T3G', 'T3G', 'T3G', 'T3G', 'T3G', 'T3G', 'T3G', 'T3G', 'T3G', 'T3G', 'T3G', 'T3G', 'T3G', 'T3G', 'T3G', 'T3G', 'T3G', 'T3G', 'T3G', 'T3G', 'T3G', 'T3G', 'T3G', 'T3G', 'T3G', 'T3G', 'T3G', 'T3G', 'T3G', 'T3G', 'T3G', 'T3G', 'T3G', 'T3G', 'T3G', 'T3G', 'T3G', 'T3G', 'T3D', 'T3G', 'T3G', 'T3G', 'T3G', 'T3G', 'T3G', 'T3G', 'T3G', 'T3G', 'T3G', 'T3G', 'T3G', 'T3G', 'T3G', 'T3G', 'T3G', 'T3G', 'T3G', 'T3G', 'T3G', 'T3G', 'T3G', 'T3G', 'T3G', 'T3G', 'T3G', 'T3G', 'T3G', 'T3G', 'T3G', 'T3G', 'T3G', 'T3G', 'T3G', 'T3G', 'T3G', 'T3G', 'T3G', 'T3G', 'T3G', 'T3G', 'T3G', 'T3G', 'T3G', 'T3G', 'T3G', 'T3G', 'T3G', 'T3G', 'T3G', 'T3G', 'T3G', 'T3G', 'T3G', 'T3G', 'T3G', 'T3G', 'T3G', 'T3G', 'T3G', 'T3G', 'T3G', 'T3G', 'T3G', 'T3G', 'T3G', 'T3G', 'T3G', 'T3G', 'T3G', 'T3G', 'T3G', 'T3G', 'T3G', 'T3G', 'T3G', 'T3G', 'T3G', 'T3G', 'T3G', 'T3G', 'T3G', 'T3G', 'T3G', 'T3D', 'T3G', 'T3G', 'T3G', 'T3G', 'T3G', 'T3G', 'T3G', 'T3G', 'T3G', 'T3G', 'T3G', 'T3G', 'T3G', 'T3G', 'T3G', 'T3G', 'T3G', 'T3G', 'T3G', 'T3G', 'T3G', 'T3G', 'T3G', 'T3G', 'T3G', 'T3G', 'T3G', 'T3G', 'T3G', 'T3G', 'T3G', 'T3G', 'T3G', 'T3G', 'T3G', 'T3D', 'T3D', 'T3G', 'T3G', 'T3G', 'T3G', 'T3G', 'T3G', 'T3G', 'T3G', 'T3G', 'T3G', 'T3G', 'T3G', 'T3G', 'T3G', 'T3G', 'T3G', 'T3G', 'T3G', 'T3G', 'T3G', 'T3G', 'T3G', 'T3G', 'T3G', 'T3G', 'T3G', 'T3G', 'T3G', 'T3G', 'T3G', 'T3G', 'T3G', 'T3G', 'T3G', 'T3G', 'T3G', 'T3G', 'T3G', 'T3G', 'T3G', 'T3G', 'T3G', 'T3G', 'T3G', 'T3G', 'T3G', 'T3G', 'T3G', 'T3G', 'T3G', 'T3G', 'T3G', 'T3G', 'T3D', 'T3G', 'T3G', 'T3G', 'T3G', 'T3G', 'T3G', 'T3G', 'T3G', 'T3G', 'T3G', 'T3G', 'T3G', 'T3G', 'T3G', 'T3G', 'T3G', 'T3G', 'T3G', 'T3G', 'T3G', 'T3G', 'T3G', 'T3G', 'T3G', 'T3G', 'T3G', 'T3G', 'T3G', 'T3G', 'T3G', 'T3G', 'T3G', 'T3G', 'T3G', 'T3G', 'T3G', 'T3G', 'T3G', 'T3G', 'T3G', 'T3G', 'T3G', 'T3G', 'T3G', 'T3G', 'T3G', 'T3G', 'T3G', 'T3G', 'T3G', 'T3G', 'T3G', 'T3G', 'T3D', 'T3G', 'T3G', 'T3G', 'T3G', 'T3G', 'T3G', 'T3G', 'T3G', 'T3D', 'T3G', 'T3G', 'T3G', 'T3G', 'T3G', 'T3D', 'T3G', 'T3D', 'T3G', 'T3G', 'T3G', 'T3G', 'T3G', 'T3G', 'T3G', 'T3G', 'T3G', 'T3G', 'T3G', 'T3D', 'T3G', 'T3G', 'T3G', 'T3G', 'T3G', 'T3G', 'T3G', 'T3D', 'T3G', 'T3G', 'T3G', 'T3G', 'T3G', 'T3G', 'T3D', 'T3G', 'T3G', 'T3G', 'T3G', 'T3G', 'T3G', 'T3G', 'T3D', 'T3G', 'T3G', 'T3G', 'T3G', 'T3G', 'T3G', 'T3G', 'T3G', 'T3G', 'T3G', 'T3D', 'T3G', 'T3G', 'T3G', 'T3G', 'T3G', 'T3G', 'T3G', 'T3G', 'T3G', 'T3G', 'T3G', 'T3G', 'T3G', 'T3G', 'T3G', 'T3G', 'T3G', 'T3G', 'T3G', 'T3G', 'T3G', 'T3G', 'T3G', 'T3G', 'T3G', 'T3G', 'T3G', 'T3G', 'T3G', 'T3G', 'T3G', 'T3G', 'T3G', 'T3G', 'T3G', 'T3G', 'T3G', 'T3G', 'T3G', 'T3G', 'T3G', 'T3G', 'T3G', 'T3G', 'T3G', 'T3G', 'T3G', 'T3G', 'T3G', 'T3G', 'T3G', 'T3G', 'T3G', 'T3G', 'T3G', 'T3G', 'T3G', 'T3G', 'T3G', 'T3G', 'T3G', 'T3G', 'T3G', 'T3G', 'T3G', 'T3G', 'T3G', 'T3G', 'T3G', 'T3G', 'T3G', 'T3G', 'T3G', 'T3G', 'T3G', 'T3G', 'T3G', 'T3G', 'T3G', 'T3G', 'T3G', 'T3G', 'T3G', 'T3G', 'T3G', 'T3G', 'T3G', 'T3G', 'T3G', 'T3G', 'T3G', 'T3D', 'T3G', 'T3G', 'T3G', 'T3D', 'T3G', 'T3G', 'T3G', 'T3G', 'T3G', 'T3G', 'T3G', 'T3G', 'T3G', 'T3G', 'T3G', 'T3G', 'T3G', 'T3G', 'T3G', 'T3G', 'T3G', 'T3G', 'T3G', 'T3G', 'T3G', 'T3G', 'T3G', 'T3G', 'T3G', 'T3G', 'T3G', 'T3G', 'T3G', 'T3G', 'T3G', 'T3G', 'T3G', 'T3G', 'T3G', 'T3G', 'T3G', 'T3G', 'T3G', 'T3G', 'T3G', 'T3G', 'T3G', 'T3G', 'T3G', 'T3D', 'T3G', 'T3G', 'T3G', 'T3G', 'T3G', 'T3G', 'T3G', 'T3G', 'T3G', 'T3G', 'T3G', 'T3G', 'T3G', 'T3G', 'T3G', 'T3G', 'T3G', 'T3G', 'T3G', 'T3G', 'T3G', 'T3G', 'T3G', 'T3G', 'T3G', 'T3G', 'T3G', 'T3G', 'T3G', 'T3G', 'T3G', 'T3G', 'T3G', 'T3G', 'T3G', 'T3G', 'T3G', 'T3G', 'T3G', 'T3G', 'T3D', 'T3G', 'T3G', 'T3G', 'T3G', 'T3G', 'T3G', 'T3G', 'T3G', 'T3G', 'T3G', 'T3G', 'T3G', 'T3D', 'T3G', 'T3G', 'T3G', 'T3G', 'T3D', 'T3G', 'T3G', 'T3G', 'T3G', 'T3G', 'T3G', 'T3G', 'T3G', 'T3G', 'T3G', 'T3G', 'T3G', 'T3G', 'T3G', 'T3G', 'T3G', 'T3G', 'T3G', 'T3G', 'T3D', 'T3G', 'T3G', 'T3G', 'T3G', 'T3G', 'T3G', 'T3G', 'T3G', 'T3G', 'T3G', 'T3G', 'T3G', 'T3G', 'T3G', 'T3G', 'T3G', 'T3G', 'T3G', 'T3G', 'T3G', 'T3G', 'T3G', 'T3G', 'T3G', 'T3G', 'T3G', 'T3G', 'T3G', 'T3G', 'T3G', 'T3G', 'T3G', 'T3G', 'T3G', 'T3G', 'T3G', 'T3D', 'T3G', 'T3G', 'T3G', 'T3G', 'T3G', 'T3G', 'T3G', 'T3G', 'T3G', 'T3G', 'T3G', 'T3G', 'T3G', 'T3G', 'T3G', 'T3G', 'T3G', 'T3G', 'T3G', 'T3G', 'T3G', 'T3G', 'T3G', 'T3G', 'T3G', 'T3G', 'T3G', 'T3G', 'T3G', 'T3G', 'T3G', 'T3G', 'T3G', 'T3D', 'T3G', 'T3G', 'T3G', 'T3G', 'T3G', 'T3G', 'T3G', 'T3G', 'T3G', 'T3G', 'T3G', 'T3G', 'T3G', 'T3G', 'T3G', 'T3G', 'T3G', 'T3G', 'T3G', 'T3G', 'T3G', 'T3G', 'T3G', 'T3G', 'T3G', 'T3G', 'T3G', 'T3G', 'T3D', 'T3G', 'T3G', 'T3G', 'T3G', 'T3G', 'T3G', 'T3G', 'T3G', 'T3G', 'T3G', 'T3G', 'T3G', 'T3G', 'T3G', 'T3G', 'T3G', 'T3G', 'T3G', 'T3G', 'T3G', 'T3G', 'T3G', 'T3G', 'T3G', 'T3G', 'T3G', 'T3G', 'T3G', 'T3G', 'T3G', 'T3G', 'T3G', 'T3G', 'T3G', 'T3G', 'T3G', 'T3G', 'T3G', 'T3G', 'T3G', 'T3G', 'T3G', 'T3G', 'T3G', 'T3G', 'T3D', 'T3D', 'T3G', 'T3G', 'T3G', 'T3G', 'T3G', 'T3G', 'T3G', 'T3G', 'T3G', 'T3G', 'T3G', 'T3G', 'T3G', 'T3G', 'T3G', 'T3G', 'T3G', 'T3G', 'T3G', 'T3G', 'T3G', 'T3G', 'T3G', 'T3G', 'T3G', 'T3G', 'T3G', 'T3G', 'T3G', 'T3G', 'T3G', 'T3G', 'T3G', 'T3G', 'T3G', 'T3G', 'T3G', 'T3G', 'T3G', 'T3G', 'T3G', 'T3G', 'T3G', 'T3G', 'T3G', 'T3G', 'T3G', 'T3G', 'T3G', 'T3G', 'T3G', 'T3D', 'T3G', 'T3G', 'T3G', 'T3G', 'T3G', 'T3G', 'T3G', 'T3G', 'T3G', 'T3G', 'T3G', 'T3G', 'T3G', 'T3G', 'T3G', 'T3D', 'T3G', 'T3G', 'T3G', 'T3G', 'T3G', 'T3G', 'T3G', 'T3G', 'T3G', 'T3G', 'T3G', 'T3G', 'T3G', 'T3G', 'T3G', 'T3G', 'T3G', 'T3G', 'T3G', 'T3G', 'T3G', 'T3G', 'T3G', 'T3G', 'T3G', 'T3G', 'T3G', 'T3G', 'T3G', 'T3G', 'T3G', 'T3G', 'T3G', 'T3G', 'T3G', 'T3G', 'T3G', 'T3G', 'T3G', 'T3G', 'T3G', 'T3G', 'T3G', 'T3G', 'T3G', 'T3G', 'T3G', 'T3G', 'T3G', 'T3G', 'T3G', 'T3G', 'T3G', 'T3G', 'T3G', 'T3G', 'T3G', 'T3G', 'T3D', 'T3G', 'T3G', 'T3G', 'T3G', 'T3G', 'T3G', 'T3G', 'T3G', 'T3G', 'T3G', 'T3G', 'T3G', 'T3G', 'T3G', 'T3G', 'T3G', 'T3G', 'T3G', 'T3D', 'T3G', 'T3G', 'T3G', 'T3G', 'T3G', 'T3G', 'T3G', 'T3G', 'T3G', 'T3G', 'T3G', 'T3G', 'T3G', 'T3G', 'T3G', 'T3G', 'T3G', 'T3G', 'T3G', 'T3G', 'T3G', 'T3G', 'T3D', 'T3G', 'T3G', 'T3G', 'T3G', 'T3G', 'T3G', 'T3G', 'T3G', 'T3G', 'T3G', 'T3G', 'T3G', 'T3G', 'T3G', 'T3G', 'T3G', 'T3G', 'T3G', 'T3G', 'T3G', 'T3G', 'T3G', 'T3G', 'T3G', 'T3G', 'T3G', 'T3G', 'T3G', 'T3G', 'T3G', 'T3G', 'T3G', 'T3G', 'T3G', 'T3G', 'T3G', 'T3G', 'T3G', 'T3G', 'T3G', 'T3G', 'T3G', 'T3G', 'T3G', 'T3G', 'T3G', 'T3G', 'T3G', 'T3G', 'T3G', 'T3G', 'T3G', 'T3G', 'T3G', 'T3G', 'T3G', 'T3G', 'T3G', 'T3G', 'T3G', 'T3G', 'T3G', 'T3G', 'T3G', 'T3G', 'T3G', 'T3G', 'T3G', 'T3G', 'T3G', 'T3G', 'T3G', 'T3G', 'T3G', 'T3G', 'T3G', 'T3G', 'T3G', 'T3G', 'T3G', 'T3G', 'T3G', 'T3G', 'T3D', 'T3G', 'T3G', 'T3G', 'T3G', 'T3G', 'T3G', 'T3G', 'T3G', 'T3G', 'T3G', 'T3G', 'T3G', 'T3G', 'T3G', 'T3G', 'T3G', 'T3G', 'T3G', 'T3D', 'T3G', 'T3G', 'T3G', 'T3G', 'T3G', 'T3G', 'T3G', 'T3G', 'T3G', 'T3G', 'T3G', 'T3G', 'T3D', 'T3G', 'T3G', 'T3G', 'T3G', 'T3G', 'T3G', 'T3G', 'T3G', 'T3G', 'T3G', 'T3G', 'T3G', 'T3G', 'T3G', 'T3G', 'T3G', 'T3G', 'T3G', 'T3G', 'T3G', 'T3G', 'T3G', 'T3G', 'T3G', 'T3G', 'T3G', 'T3G', 'T3G', 'T3G', 'T3G', 'T3G', 'T3G', 'T3G', 'T3G', 'T3G', 'T3G', 'T3G', 'T3G', 'T3G', 'T3G', 'T3G', 'T3G', 'T3G', 'T3G', 'T3G', 'T3G', 'T3G', 'T3G', 'T3G', 'T3G', 'T3G', 'T3G', 'T3G', 'T3G', 'T3G', 'T3G', 'T3G', 'T3G', 'T3G', 'T3G', 'T3G', 'T3G', 'T3G', 'T3G', 'T3G', 'T3G', 'T3G', 'T3G', 'T3G', 'T3G', 'T3G', 'T3G', 'T3G', 'T3G', 'T3G', 'T3G', 'T3G', 'T3G', 'T3G', 'T3G', 'T3G', 'T3G', 'T3G', 'T3G', 'T3G', 'T3G', 'T3G', 'T3G', 'T3G', 'T3G', 'T3G', 'T3G', 'T3G', 'T3D', 'T3G', 'T3G', 'T3G', 'T3G', 'T3G', 'T3G', 'T3G', 'T3G', 'T3G', 'T3G', 'T3G', 'T3G', 'T3G', 'T3G', 'T3G', 'T3G', 'T3G', 'T3G', 'T3G', 'T3G', 'T3G', 'T3G', 'T3G', 'T3G', 'T3G', 'T3D', 'T3G', 'T3G', 'T3G', 'T3G', 'T3G', 'T3G', 'T3G', 'T3G', 'T3G', 'T3G', 'T3G', 'T3G', 'T3G', 'T3G', 'T3G', 'T3G', 'T3G', 'T3G', 'T3G', 'T3G', 'T3G', 'T3G', 'T3G', 'T3G', 'T3G', 'T3G', 'T3G', 'T3G', 'T3G', 'T3G', 'T3G', 'T3G', 'T3G', 'T3G', 'T3G', 'T3G', 'T3G', 'T3G', 'T3D', 'T3G', 'T3G', 'T3G', 'T3G', 'T3G', 'T3G', 'T3G', 'T3G', 'T3G', 'T3G', 'T3G', 'T3G', 'T3G', 'T3G', 'T3G', 'T3G', 'T3G', 'T3G', 'T3G', 'T3G', 'T3G', 'T3G', 'T3G', 'T3G', 'T3G', 'T3G', 'T3G', 'T3G', 'T3G', 'T3G', 'T3G', 'T3G', 'T3G', 'T3G', 'T3G', 'T3G', 'T3G', 'T3G', 'T3G', 'T3D', 'T3G', 'T3G', 'T3G', 'T3G', 'T3G', 'T3G', 'T3G', 'T3G', 'T3G', 'T3G', 'T3G', 'T3G', 'T3G', 'T3G', 'T3G', 'T3G', 'T3G', 'T3G', 'T3G', 'T3G', 'T3G', 'T3G', 'T3G', 'T3G', 'T3G', 'T3G', 'T3G', 'T3G', 'T3G', 'T3G', 'T3G', 'T3G', 'T3G', 'T3G', 'T3G', 'T3G', 'T3G', 'T3G', 'T3G', 'T3G', 'T3G', 'T3G', 'T3G', 'T3G', 'T3G', 'T3G', 'T3G', 'T3G', 'T3G', 'T3G', 'T3G', 'T3G', 'T3G', 'T3D', 'T3G', 'T3G', 'T3G', 'T3G', 'T3G', 'T3G', 'T3G', 'T3G', 'T3G', 'T3G', 'T3G', 'T3G', 'T3G', 'T3G', 'T3G', 'T3G', 'T3G', 'T3G', 'T3G', 'T3G', 'T3G', 'T3G', 'T3G', 'T3G', 'T3G', 'T3G', 'T3G', 'T3D', 'T3G', 'T3G', 'T3G', 'T3G', 'T3G', 'T3G', 'T3G', 'T3G', 'T3G', 'T3G', 'T3G', 'T3G', 'T3G', 'T3G', 'T3G', 'T3G', 'T3G', 'T3G', 'T3G', 'T3G', 'T3G', 'T3G', 'T3G', 'T3G', 'T3G', 'T3G', 'T3G', 'T3G', 'T3G', 'T3G', 'T3G', 'T3G', 'T3G', 'T3G', 'T3G', 'T3G', 'T3G', 'T3G', 'T3G', 'T3G', 'T3G', 'T3G', 'T3G', 'T3G', 'T3G', 'T3G', 'T3G', 'T3G', 'T3G', 'T3G', 'T3G', 'T3G', 'T3G', 'T3G', 'T3G', 'T3G', 'T3G', 'T3G', 'T3G', 'T3G', 'T3D', 'T3G', 'T3G', 'T3G', 'T3G', 'T3G', 'T3G', 'T3G', 'T3G', 'T3G', 'T3G', 'T3G', 'T3G', 'T3G', 'T3G', 'T3G', 'T3G', 'T3G', 'T3G', 'T3G', 'T3G', 'T3G', 'T3G', 'T3G', 'T3G', 'T3G', 'T3G', 'T3G', 'T3G', 'T3G', 'T3G', 'T3G', 'T3G', 'T3G', 'T3G', 'T3G', 'T3G', 'T3G', 'T3G', 'T3G', 'T3G', 'T3G', 'T3G', 'T3G', 'T3G', 'T3G', 'T3D', 'T3G', 'T3G', 'T3G', 'T3G', 'T3G', 'T3G', 'T3G', 'T3G', 'T3G', 'T3G', 'T3G', 'T3G', 'T3G', 'T3G', 'T3G', 'T3G', 'T3G', 'T3G', 'T3G', 'T3G', 'T3G', 'T3G', 'T3G', 'T3G', 'T3G', 'T3G', 'T3G', 'T3G', 'T3G', 'T3G', 'T3G', 'T3G', 'T3D', 'T3G', 'T3G', 'T3G', 'T3G', 'T3G', 'T3G', 'T3G', 'T3G', 'T3G', 'T3G', 'T3G', 'T3G', 'T3G', 'T3G', 'T3G', 'T3G', 'T3G', 'T3G', 'T3G', 'T3G', 'T3G', 'T3G', 'T3G', 'T3G', 'T3G', 'T3G', 'T3G', 'T3G', 'T3G', 'T3G', 'T3G', 'T3G', 'T3G', 'T3G', 'T3G', 'T3G', 'T3G', 'T3G', 'T3G', 'T3G', 'T3G', 'T3G', 'T3G', 'T3G', 'T3G', 'T3G', 'T3G', 'T3G', 'T3G', 'T3G', 'T3G', 'T3G', 'T3G', 'T3G', 'T3G', 'T3G', 'T3G', 'T3G', 'T3G', 'T3G', 'T3G', 'T3G', 'T3G', 'T3G', 'T3G', 'T3G', 'T3G', 'T3G', 'T3G', 'T3G', 'T3G', 'T3G', 'T3G', 'T3G', 'T3G', 'T3G', 'T3G', 'T3G', 'T3G', 'T3G', 'T3G', 'T3G', 'T3G', 'T3G', 'T3G', 'T3G', 'T3G', 'T3G', 'T3G', 'T3G', 'T3G', 'T3G', 'T3G', 'T3D', 'T3G', 'T3G', 'T3G', 'T3G', 'T3G', 'T3G', 'T3G', 'T3G', 'T3G', 'T3G', 'T3G', 'T3G', 'T3G', 'T3G', 'T3G', 'T3G', 'T3D', 'T3G', 'T3G', 'T3G', 'T3D', 'T3G', 'T3G', 'T3G', 'T3G', 'T3G', 'T3G', 'T3G', 'T3G', 'T3G', 'T3G', 'T3G', 'T3G', 'T3G', 'T3G', 'T3G', 'T3G', 'T3G', 'T3G', 'T3G', 'T3G', 'T3G', 'T3G', 'T3G', 'T3G', 'T3G', 'T3G', 'T3G', 'T3G', 'T3G', 'T3G', 'T3G', 'T3G', 'T3G', 'T3G', 'T3G', 'T3G', 'T3G', 'T3G', 'T3G', 'T3G', 'T3G', 'T3G', 'T3G', 'T3G', 'T3G', 'T3G', 'T3D', 'T3G', 'T3G', 'T3G', 'T3G', 'T3G', 'T3G', 'T3G', 'T3G', 'T3G', 'T3G', 'T3G', 'T3G', 'T3G', 'T3G', 'T3G', 'T3G', 'T3G', 'T3G', 'T3G', 'T3G', 'T3G', 'T3G', 'T3G', 'T3G', 'T3G', 'T3G', 'T3G', 'T3G', 'T3G', 'T3G', 'T3G', 'T3G', 'T3G', 'T3G', 'T3G', 'T3G', 'T3G', 'T3G', 'T3G', 'T3G', 'T3G', 'T3G', 'T3G', 'T3D', 'T3G', 'T3G', 'T3G', 'T3G', 'T3D', 'T3G', 'T3G', 'T3G', 'T3G', 'T3G', 'T3G', 'T3G', 'T3G', 'T3G', 'T3D', 'T3G', 'T3G', 'T3G', 'T3G', 'T3G', 'T3G', 'T3D', 'T3G', 'T3G', 'T3G', 'T3G', 'T3G', 'T3G', 'T3G', 'T3G', 'T3G', 'T3G', 'T3G', 'T3G', 'T3G', 'T3G', 'T3G', 'T3G', 'T3G', 'T3G', 'T3G', 'T3G', 'T3G', 'T3G', 'T3G', 'T3G', 'T3G', 'T3G', 'T3G', 'T3G', 'T3G', 'T3G', 'T3G', 'T3G', 'T3G', 'T3G', 'T3G', 'T3G', 'T3G', 'T3G', 'T3G', 'T3G', 'T3G', 'T3G', 'T3G', 'T3G', 'T3G', 'T3G', 'T3G', 'T3G', 'T3G', 'T3G', 'T3G', 'T3G', 'T3G', 'T3G', 'T3G', 'T3G', 'T3G', 'T3G', 'T3G', 'T3G', 'T3G', 'T3G', 'T3G', 'T3G', 'T3G', 'T3G', 'T3G', 'T3G', 'T3G', 'T3G', 'T3G', 'T3G', 'T3G', 'T3G', 'T3G', 'T3G', 'T3G', 'T3G', 'T3G', 'T3D', 'T3G', 'T3G', 'T3G', 'T3G', 'T3G', 'T3G', 'T3G', 'T3G', 'T3G', 'T3G', 'T3G', 'T3G', 'T3G', 'T3G', 'T3G', 'T3G', 'T3G', 'T3G', 'T3G', 'T3G', 'T3G', 'T3G', 'T3G', 'T3G', 'T3G', 'T3G', 'T3G', 'T3G', 'T3G', 'T3G', 'T3G', 'T3G', 'T3G', 'T3G', 'T3G', 'T3G', 'T3G', 'T3G', 'T3G', 'T3G', 'T3G', 'T3G', 'T3G', 'T3G', 'T3G', 'T3G', 'T3G', 'T3G', 'T3G', 'T3G', 'T3G', 'T3G', 'T3G', 'T3G', 'T3G', 'T3G', 'T3G', 'T3G', 'T3G', 'T3G', 'T3G', 'T3G', 'T3G', 'T3G', 'T3G', 'T3G', 'T3G', 'T3G', 'T3G', 'T3G', 'T3G', 'T3G', 'T3G', 'T3G', 'T3G', 'T3G', 'T3G', 'T3G', 'T3G', 'T3G', 'T3G', 'T3G', 'T3G', 'T3G', 'T3G', 'T3G', 'T3G', 'T3G', 'T3G', 'T3G', 'T3G', 'T3G', 'T3G', 'T3G', 'T3G', 'T3G', 'T3G', 'T3G', 'T3G', 'T3G', 'T3G', 'T3G', 'T3G', 'T3G', 'T3G', 'T3G', 'T3G', 'T3G', 'T3G', 'T3G', 'T3G', 'T3G', 'T3G', 'T3G', 'T3G', 'T3G', 'T3G', 'T3G', 'T3G', 'T3G', 'T3G', 'T3G', 'T3G', 'T3G', 'T3G', 'T3G', 'T3G', 'T3G', 'T3G', 'T3G', 'T3G', 'T3G', 'T3G', 'T3G', 'T3G', 'T3G', 'T3G', 'T3G', 'T3G', 'T3G', 'T3G', 'T3G', 'T3G', 'T3G', 'T3G', 'T3G', 'T3G', 'T3G', 'T3G', 'T3G', 'T3G', 'T3G', 'T3G', 'T3G', 'T3G', 'T3G', 'T3G', 'T3G', 'T3G', 'T3G', 'T3G', 'T3G', 'T3G', 'T3G', 'T3G', 'T3G', 'T3G', 'T3G', 'T3G', 'T3G', 'T3G', 'T3G', 'T3G', 'T3G', 'T3G', 'T3G', 'T3G', 'T3G', 'T3G', 'T3D', 'T3G', 'T3G', 'T3G', 'T3G', 'T3G', 'T3G', 'T3G', 'T3G', 'T3G', 'T3G', 'T3G', 'T3G', 'T3G', 'T3G', 'T3G', 'T3G', 'T3G', 'T3G', 'T3G', 'T3G', 'T3G', 'T3G', 'T3G', 'T3G', 'T3G', 'T3G', 'T3G', 'T3G', 'T3G', 'T3G', 'T3G', 'T3G', 'T3G', 'T3G', 'T3D', 'T3G', 'T3G', 'T3G', 'T3G', 'T3G', 'T3G', 'T3G', 'T3G', 'T3G', 'T3G', 'T3G', 'T3G', 'T3G', 'T3G', 'T3G', 'T3G', 'T3G', 'T3G', 'T3G', 'T3G', 'T3G', 'T3G', 'T3G', 'T3G', 'T3G', 'T3G', 'T3G', 'T3G', 'T3G', 'T3G', 'T3G', 'T3G', 'T3G', 'T3G', 'T3G', 'T3G', 'T3G', 'T3G', 'T3G', 'T3G', 'T3G', 'T3G', 'T3G', 'T3G', 'T3G', 'T3G', 'T3G', 'T3G', 'T3G', 'T3G', 'T3G', 'T3G', 'T3G', 'T3G', 'T3G', 'T3G', 'T3G', 'T3G', 'T3G', 'T3G', 'T3G', 'T3G', 'T3D', 'T3G', 'T3G', 'T3G', 'T3G', 'T3G', 'T3G', 'T3G', 'T3G', 'T3G', 'T3G', 'T3G', 'T3G', 'T3G', 'T3G', 'T3G', 'T3G', 'T3G', 'T3G', 'T3G', 'T3D', 'T3G', 'T3G', 'T3G', 'T3G', 'T3G', 'T3G', 'T3G', 'T3G', 'T3G', 'T3G', 'T3G', 'T3G', 'T3G', 'T3G', 'T3G', 'T3G', 'T3G', 'T3G', 'T3G', 'T3G', 'T3G', 'T3G', 'T3G', 'T3G', 'T3G', 'T3G', 'T3G', 'T3G', 'T3D', 'T3G', 'T3G', 'T3G', 'T3G', 'T3G', 'T3D', 'T3D', 'T3G', 'T3G', 'T3G', 'T3G', 'T3G', 'T3G', 'T3G', 'T3G', 'T3G', 'T3G', 'T3G', 'T3G', 'T3G', 'T3G', 'T3G', 'T3G', 'T3G', 'T3G', 'T3D', 'T3G', 'T3G', 'T3D', 'T3G', 'T3G', 'T3G', 'T3G', 'T3G', 'T3G', 'T3G', 'T3G', 'T3G', 'T3G', 'T3G', 'T3G', 'T3G', 'T3G', 'T3G', 'T3G', 'T3G', 'T3G', 'T3G', 'T3G', 'T3G', 'T3G', 'T3G', 'T3G', 'T3D', 'T3G', 'T3G', 'T3G', 'T3G', 'T3G', 'T3G', 'T3G', 'T3G', 'T3G', 'T3G', 'T3G', 'T3G', 'T3G', 'T3G', 'T3G', 'T3G', 'T3G', 'T3G', 'T3G', 'T3G', 'T3G', 'T3G', 'T3G', 'T3G', 'T3G', 'T3G', 'T3G', 'T3G', 'T3G', 'T3G', 'T3G', 'T3G', 'T3G', 'T3G', 'T3G', 'T3G', 'T3G', 'T3G', 'T3G', 'T3G', 'T3G', 'T3G', 'T3G', 'T3G', 'T3G', 'T3G', 'T3G', 'T3G', 'T3G', 'T3G', 'T3G', 'T3G', 'T3G', 'T3G', 'T3G', 'T3G', 'T3G', 'T3G', 'T3G', 'T3G', 'T3G', 'T3G', 'T3G', 'T3G', 'T3G', 'T3D', 'T3G', 'T3G', 'T3G', 'T3G', 'T3G', 'T3G', 'T3G', 'T3G', 'T3G', 'T3G', 'T3G', 'T3G', 'T3G', 'T3G', 'T3G', 'T3G', 'T3G', 'T3G', 'T3G', 'T3G', 'T3G', 'T3G', 'T3G', 'T3G', 'T3G', 'T3G', 'T3G', 'T3G', 'T3G', 'T3D', 'T3G', 'T3G', 'T3G', 'T3G', 'T3G', 'T3G', 'T3G', 'T3G', 'T3G', 'T3G', 'T3G', 'T3G', 'T3G', 'T3G', 'T3G', 'T3G', 'T3G', 'T3G', 'T3G', 'T3G', 'T3G', 'T3G', 'T3G', 'T3G', 'T3G', 'T3G', 'T3G', 'T3G', 'T3G', 'T3G', 'T3G', 'T3G', 'T3G', 'T3G', 'T3G', 'T3G', 'T3G', 'T3G', 'T3G', 'T3G', 'T3D', 'T3G', 'T3G', 'T3G', 'T3G', 'T3G', 'T3G', 'T3G', 'T3G', 'T3G', 'T3G', 'T3G', 'T3G', 'T3G', 'T3G', 'T3G', 'T3G', 'T3G', 'T3G', 'T3G', 'T3G', 'T3G', 'T3G', 'T3G', 'T3G', 'T3G', 'T3G', 'T3D', 'T3G', 'T3G', 'T3G', 'T3G', 'T3G', 'T3G', 'T3G', 'T3G', 'T3G', 'T3G', 'T3G', 'T3G', 'T3G', 'T3G', 'T3G', 'T3G', 'T3G', 'T3G', 'T3G', 'T3G', 'T3G', 'T3G', 'T3G', 'T3G', 'T3G', 'T3G', 'T3G', 'T3G', 'T3G', 'T3G', 'T3G', 'T3G', 'T3G', 'T3G', 'T3G', 'T3G', 'T3G', 'T3G', 'T3G', 'T3G', 'T3G', 'T3G', 'T3G', 'T3G', 'T3G', 'T3G', 'T3G', 'T3G', 'T3G', 'T3G', 'T3G', 'T3G', 'T3G', 'T3G', 'T3G', 'T3G', 'T3G', 'T3G', 'T3G', 'T3G', 'T3G', 'T3G', 'T3G', 'T3G', 'T3G', 'T3G', 'T3G', 'T3G', 'T3G', 'T3G', 'T3G', 'T3G', 'T3G', 'T3G', 'T3G', 'T3G', 'T3G', 'T3G', 'T3G', 'T3G', 'T3G', 'T3G', 'T3G', 'T3G', 'T3G', 'T3G', 'T3G', 'T3G', 'T3G', 'T3G', 'T3G', 'T3G', 'T3G', 'T3D', 'T3G', 'T3G', 'T3G', 'T3G', 'T3G', 'T3G', 'T3G', 'T3G', 'T3G', 'T3G', 'T3G', 'T3G', 'T3G', 'T3G', 'T3G', 'T3G', 'T3G', 'T3G', 'T3G', 'T3G', 'T3G', 'T3G', 'T3G', 'T3G', 'T3G', 'T3G', 'T3G', 'T3G', 'T3G', 'T3G', 'T3G', 'T3G', 'T3G', 'T3G', 'T3G', 'T3G', 'T3G', 'T3G', 'T3G', 'T3G', 'T3G', 'T3G', 'T3G', 'T3G', 'T3G', 'T3G', 'T3G', 'T3G', 'T3G', 'T3G', 'T3G', 'T3G', 'T3G', 'T3G', 'T3G', 'T3G', 'T3G', 'T3G', 'T3G', 'T3G', 'T3G', 'T3G', 'T3G', 'T3G', 'T3G', 'T3G', 'T3G', 'T3G', 'T3G', 'T3G', 'T3G', 'T3G', 'T3D', 'T3G', 'T3G', 'T3G', 'T3G', 'T3G', 'T3G', 'T3G', 'T3G', 'T3G', 'T3G', 'T3G', 'T3G', 'T3G', 'T3G', 'T3G', 'T3G', 'T3G', 'T3G', 'T3G', 'T3G', 'T3G', 'T3G', 'T3G', 'T3G', 'T3G', 'T3G', 'T3G', 'T3G', 'T3G', 'T3G', 'T3G', 'T3G', 'T3G', 'T3G', 'T3G', 'T3G', 'T3G', 'T3G', 'T3G', 'T3G', 'T3G', 'T3G', 'T3G', 'T3G', 'T3G', 'T3G', 'T3G', 'T3G', 'T3G', 'T3G', 'T3D', 'T3G', 'T3G', 'T3G', 'T3G', 'T3G', 'T3G', 'T3G', 'T3G', 'T3G', 'T3G', 'T3G', 'T3G', 'T3G', 'T3G', 'T3G', 'T3G', 'T3G', 'T3G', 'T3G', 'T3G', 'T3G', 'T3G', 'T3G', 'T3G', 'T3G', 'T3G', 'T3G', 'T3D', 'T3G', 'T3G', 'T3G', 'T3G', 'T3G', 'T3G', 'T3G', 'T3G', 'T3G', 'T3G', 'T3G', 'T3G', 'T3G', 'T3G', 'T3G', 'T3G', 'T3G', 'T3G', 'T3G', 'T3G', 'T3G', 'T3G', 'T3G', 'T3G', 'T3G', 'T3G', 'T3G', 'T3G', 'T3G', 'T3G', 'T3G', 'T3G', 'T3G', 'T3G', 'T3G', 'T3G', 'T3G', 'T3G', 'T3G', 'T3G', 'T3G', 'T3G', 'T3G', 'T3G', 'T3G', 'T3G', 'T3G', 'T3G', 'T3G', 'T3G', 'T3G', 'T3G', 'T3G', 'T3G', 'T3G', 'T3G', 'T3G', 'T3G', 'T3G', 'T3G', 'T3G', 'T3G', 'T3D', 'T3G', 'T3G', 'T3G', 'T3G', 'T3G', 'T3G', 'T3G', 'T3G', 'T3G', 'T3G', 'T3G', 'T3G', 'T3G', 'T3G', 'T3G', 'T3G', 'T3G', 'T3G', 'T3G', 'T3G', 'T3G', 'T3G', 'T3G', 'T3G', 'T3G', 'T3G', 'T3G', 'T3G', 'T3G', 'T3G', 'T3G', 'T3G', 'T3G', 'T3G', 'T3G', 'T3G', 'T3G', 'T3G', 'T3G', 'T3G', 'T3G', 'T3G', 'T3G', 'T3G', 'T3G', 'T3G', 'T3G', 'T3G', 'T3G', 'T3G', 'T3G', 'T3G', 'T3G', 'T3G', 'T3G', 'T3G', 'T3G', 'T3G', 'T3G', 'T3G', 'T3G', 'T3G', 'T3G', 'T3G', 'T3G', 'T3G', 'T3G', 'T3G', 'T3G', 'T3G', 'T3G', 'T3G', 'T3G', 'T3G', 'T3G', 'T3G', 'T3G', 'T3G', 'T3G', 'T3G', 'T3G', 'T3G', 'T3G', 'T3G', 'T3G', 'T3G', 'T3G', 'T3G', 'T3G', 'T3G', 'T3G', 'T3G', 'T3G', 'T3G', 'T3G', 'T3G', 'T3G', 'T3G', 'T3G', 'T3G', 'T3G', 'T3G', 'T3G', 'T3G', 'T3G', 'T3G', 'T3G', 'T3G', 'T3G', 'T3G', 'T3G', 'T3G', 'T3G', 'T3G', 'T3G', 'T3G', 'T3G', 'T3G', 'T3G', 'T3G', 'T3G', 'T3G', 'T3D', 'T3D', 'T3G', 'T3G', 'T3G', 'T3G', 'T3G', 'T3G', 'T3G', 'T3G', 'T3G', 'T3G', 'T3G', 'T3G', 'T3G', 'T3G', 'T3G', 'T3G', 'T3G', 'T3G', 'T3G', 'T3G', 'T3G', 'T3G', 'T3G', 'T3G', 'T3G', 'T3G', 'T3G', 'T3G', 'T3G', 'T3G', 'T3G', 'T3G', 'T3G', 'T3G', 'T3G', 'T3G', 'T3G', 'T3G', 'T3G', 'T3G', 'T3G', 'T3G', 'T3G', 'T3G', 'T3G', 'T3G', 'T3G', 'T3G', 'T3G', 'T3G', 'T3G', 'T3G', 'T3G', 'T3G', 'T3G', 'T3G', 'T3G', 'T3G', 'T3G', 'T3G', 'T3G', 'T3G', 'T3D', 'T3G', 'T3G', 'T3G', 'T3G', 'T3G', 'T3G', 'T3G', 'T3G', 'T3G', 'T3G', 'T3G', 'T3G', 'T3G', 'T3G', 'T3G', 'T3G', 'T3G', 'T3G', 'T3G', 'T3G', 'T3G', 'T3G', 'T3G', 'T3G', 'T3G', 'T3G', 'T3G', 'T3G', 'T3G', 'T3G', 'T3G', 'T3G', 'T3G', 'T3G', 'T3G', 'T3G', 'T3G', 'T3G', 'T3G', 'T3G', 'T3G', 'T3G', 'T3G', 'T3G', 'T3G', 'T3G', 'T3G', 'T3G', 'T3G', 'T3G', 'T3G', 'T3G', 'T3G', 'T3G', 'T3G', 'T3G', 'T3G', 'T3G', 'T3G', 'T3G', 'T3G', 'T3G', 'T3G', 'T3G', 'T3G', 'T3G', 'T3G', 'T3G', 'T3G', 'T3G', 'T3G', 'T3G', 'T3G', 'T3G', 'T3G', 'T3G', 'T3G', 'T3G', 'T3G', 'T3G', 'T3G', 'T3G', 'T3G', 'T3G', 'T3G', 'T3G', 'T3G', 'T3G', 'T3G', 'T3G', 'T3D', 'T3G', 'T3G', 'T3G', 'T3G', 'T3G', 'T3G', 'T3G', 'T3G', 'T3G', 'T3G', 'T3G', 'T3G', 'T3G', 'T3G', 'T3G', 'T3G', 'T3G', 'T3G', 'T3G', 'T3G', 'T3G', 'T3G', 'T3G', 'T3G', 'T3G', 'T3G', 'T3G', 'T3D', 'T3G', 'T3G', 'T3G', 'T3G', 'T3G', 'T3G', 'T3G', 'T3G', 'T3G', 'T3G', 'T3G', 'T3G', 'T3G', 'T3G', 'T3G', 'T3G', 'T3G', 'T3G', 'T3D', 'T3G', 'T3G', 'T3G', 'T3G', 'T3G', 'T3G', 'T3G', 'T3G', 'T3G', 'T3G', 'T3G', 'T3G', 'T3G', 'T3G', 'T3G', 'T3G', 'T3G', 'T3G', 'T3G', 'T3G', 'T3G', 'T3G', 'T3G', 'T3G', 'T3G', 'T3G', 'T3D', 'T3G', 'T3G', 'T3G', 'T3G', 'T3G', 'T3G', 'T3G', 'T3G', 'T3G', 'T3G', 'T3G', 'T3G', 'T3G', 'T3G', 'T3G', 'T3G', 'T3G', 'T3G', 'T3G', 'T3G', 'T3G', 'T3G', 'T3G', 'T3G', 'T3G', 'T3G', 'T3G', 'T3G', 'T3G', 'T3G', 'T3G', 'T3G', 'T3G', 'T3G', 'T3G', 'T3G', 'T3G', 'T3G', 'T3G', 'T3G', 'T3G', 'T3G', 'T3G', 'T3G', 'T3G', 'T3G', 'T3G', 'T3G', 'T3G', 'T3G', 'T3G', 'T3G', 'T3G', 'T3G', 'T3G', 'T3G', 'T3G', 'T3G', 'T3G', 'T3G', 'T3G', 'T3G', 'T3G', 'T3G', 'T3G', 'T3G', 'T3G', 'T3G', 'T3G', 'T3G', 'T3G', 'T3G', 'T3G', 'T3G', 'T3G', 'T3G', 'T3G', 'T3G', 'T3G', 'T3G', 'T3G', 'T3G', 'T3G', 'T3G', 'T3G', 'T3G', 'T3G', 'T3G', 'T3G', 'T3G', 'T3G', 'T3G', 'T3G', 'T3G', 'T3G', 'T3G', 'T3G', 'T3G', 'T3G', 'T3G', 'T3G', 'T3G', 'T3G', 'T3G', 'T3G', 'T3G', 'T3G', 'T3G', 'T3G', 'T3G', 'T3G', 'T3G', 'T3G', 'T3G', 'T3G', 'T3G', 'T3G', 'T3G', 'T3G', 'T3G', 'T3G', 'T3G', 'T3G', 'T3G', 'T3G', 'T3G', 'T3G', 'T3G', 'T3D', 'T3G', 'T3G', 'T3G', 'T3G', 'T3G', 'T3G', 'T3G', 'T3G', 'T3G', 'T3G', 'T3G', 'T3G', 'T3G', 'T3G', 'T3G', 'T3G', 'T3G', 'T3G', 'T3G', 'T3G', 'T3G', 'T3G', 'T3G', 'T3G', 'T3G', 'T3G', 'T3D', 'T3G', 'T3G', 'T3G', 'T3G', 'T3G', 'T3G', 'T3G', 'T3G', 'T3G', 'T3G', 'T3G', 'T3G', 'T3G', 'T3G', 'T3G', 'T3G', 'T3D', 'T3G', 'T3G', 'T3G', 'T3G', 'T3G', 'T3G', 'T3G', 'T3G', 'T3G', 'T3G', 'T3G', 'T3G', 'T3G', 'T3G', 'T3G', 'T3G', 'T3G', 'T3G', 'T3G', 'T3G', 'T3G', 'T3G', 'T3G', 'T3G', 'T3G', 'T3G', 'T3G', 'T3G', 'T3G', 'T3G', 'T3G', 'T3G', 'T3G', 'T3G', 'T3G', 'T3G', 'T3G', 'T3G', 'T3G', 'T3G', 'T3G', 'T3G', 'T3G', 'T3G', 'T3G', 'T3G', 'T3G', 'T3G', 'T3G', 'T3G', 'T3G', 'T3G', 'T3G', 'T3G', 'T3G', 'T3G', 'T3G', 'T3D', 'T3G', 'T3D', 'T3G', 'T3G', 'T3G', 'T3G', 'T3G', 'T3G', 'T3G', 'T3G', 'T3G', 'T3G', 'T3G', 'T3G', 'T3G', 'T3G', 'T3G', 'T3G', 'T3G', 'T3G', 'T3G', 'T3G', 'T3G', 'T3G', 'T3G', 'T3G', 'T3G', 'T3G', 'T3G', 'T3G', 'T3G', 'T3G', 'T3G', 'T3G', 'T3G', 'T3G', 'T3G', 'T3G', 'T3G', 'T3G', 'T3G', 'T3G', 'T3G', 'T3G', 'T3D', 'T3D', 'T3G', 'T3G', 'T3G', 'T3G', 'T3G', 'T3G', 'T3G', 'T3G', 'T3G', 'T3G', 'T3D', 'T3G', 'T3G', 'T3G', 'T3G', 'T3G', 'T3G', 'T3G', 'T3G', 'T3G', 'T3G', 'T3G', 'T3G', 'T3G', 'T3G', 'T3G', 'T3G', 'T3G', 'T3G', 'T3G', 'T3G', 'T3G', 'T3G', 'T3G', 'T3G', 'T3G', 'T3G', 'T3G', 'T3G', 'T3G', 'T3G', 'T3G', 'T3G', 'T3G', 'T3G', 'T3G', 'T3G', 'T3G', 'T3G', 'T3G', 'T3G', 'T3G', 'T3G', 'T3G', 'T3G', 'T3G', 'T3G', 'T3G', 'T3G', 'T3G', 'T3G', 'T3G', 'T3G', 'T3G', 'T3G', 'T3G', 'T3G', 'T3G', 'T3D', 'T3G', 'T3G', 'T3G', 'T3G', 'T3G', 'T3G', 'T3G', 'T3G', 'T3G', 'T3G', 'T3G', 'T3G', 'T3G', 'T3G', 'T3G', 'T3G', 'T3G', 'T3G', 'T3G', 'T3G', 'T3G', 'T3G', 'T3G', 'T3G', 'T3G', 'T3G', 'T3G', 'T3G', 'T3G', 'T3G', 'T3G', 'T3G', 'T3G', 'T3G', 'T3G', 'T3D', 'T3G', 'T3G', 'T3G', 'T3G', 'T3G', 'T3G', 'T3G', 'T3G', 'T3G', 'T3G', 'T3G', 'T3G', 'T3G', 'T3G', 'T3G', 'T3G', 'T3G', 'T3G', 'T3G', 'T3G', 'T3G', 'T3G', 'T3G', 'T3G', 'T3G', 'T3G', 'T3G', 'T3G', 'T3G', 'T3G', 'T3G', 'T3G', 'T3G', 'T3G', 'T3G', 'T3G', 'T3G', 'T3G', 'T3G', 'T3G', 'T3G', 'T3G', 'T3G', 'T3G', 'T3G', 'T3G', 'T3G', 'T3G', 'T3G', 'T3G', 'T3G', 'T3G', 'T3G', 'T3G', 'T3G', 'T3G', 'T3G', 'T3G', 'T3G', 'T3D', 'T3G', 'T3G', 'T3G', 'T3G', 'T3G', 'T3G', 'T3G', 'T3G', 'T3G', 'T3G', 'T3G', 'T3G', 'T3G', 'T3G', 'T3G', 'T3G', 'T3G', 'T3G', 'T3G', 'T3G', 'T3G', 'T3G', 'T3D', 'T3G', 'T3G', 'T3G', 'T3G', 'T3G', 'T3G', 'T3G', 'T3G', 'T3G', 'T3G', 'T3G', 'T3G', 'T3G', 'T3G', 'T3G', 'T3G', 'T3G', 'T3G', 'T3G', 'T3G', 'T3G', 'T3G', 'T3G', 'T3G', 'T3G', 'T3G', 'T3G', 'T3G', 'T3D', 'T3G', 'T3G', 'T3G', 'T3G', 'T3G', 'T3G', 'T3G', 'T3G', 'T3G', 'T3G', 'T3G', 'T3G', 'T3G', 'T3G', 'T3G', 'T3G', 'T3G', 'T3G', 'T3G', 'T3G', 'T3G', 'T3G', 'T3G', 'T3G', 'T3G', 'T3G', 'T3G', 'T3G', 'T3G', 'T3G', 'T3G', 'T3G', 'T3G', 'T3G', 'T3G', 'T3G', 'T3G', 'T3G', 'T3G', 'T3G', 'T3G', 'T3G', 'T3G', 'T3G', 'T3G', 'T3G', 'T3G', 'T3G', 'T3G', 'T3G', 'T3G', 'T3G', 'T3G', 'T3G', 'T3G', 'T3G', 'T3G', 'T3G', 'T3G', 'T3G', 'T3G', 'T3G', 'T3G', 'T3G', 'T3G', 'T3G', 'T3G', 'T3G', 'T3G', 'T3G', 'T3G', 'T3G', 'T3G', 'T3G', 'T3G', 'T3G', 'T3G', 'T3G', 'T3G', 'T3G', 'T3G', 'T3G', 'T3G', 'T3G', 'T3G', 'T3G', 'T3G', 'T3G', 'T3G', 'T3G', 'T3G', 'T3G', 'T3G', 'T3G', 'T3G', 'T3G', 'T3G', 'T3G', 'T3G', 'T3G', 'T3G', 'T3G', 'T3G', 'T3G', 'T3G', 'T3G', 'T3G', 'T3G', 'T3G', 'T3G', 'T3G', 'T3G', 'T3G', 'T3G', 'T3G', 'T3G', 'T3G', 'T3G', 'T3G', 'T3G', 'T3G', 'T3G', 'T3G', 'T3G', 'T3G', 'T3G', 'T3G', 'T3G', 'T3G', 'T3G', 'T3G', 'T3G', 'T3G', 'T3G', 'T3G', 'T3G', 'T3G', 'T3G', 'T3G', 'T3G', 'T3G', 'T3G', 'T3G', 'T3G', 'T3G', 'T3G', 'T3G', 'T3G', 'T3G', 'T3G', 'T3G', 'T3G', 'T3G', 'T3G', 'T3G', 'T3G', 'T3G', 'T3G', 'T3G', 'T3G', 'T3G', 'T3D', 'T3G', 'T3G', 'T3G', 'T3G', 'T3G', 'T3G', 'T3G', 'T3G', 'T3G', 'T3G', 'T3G', 'T3G', 'T3G', 'T3G', 'T3G', 'T3G', 'T3G', 'T3G', 'T3G', 'T3G', 'T3G', 'T3G', 'T3G', 'T3G', 'T3G', 'T3G', 'T3G', 'T3G', 'T3G', 'T3G', 'T3G', 'T3G', 'T3G', 'T3G', 'T3G', 'T3G', 'T3G', 'T3G', 'T3G', 'T3G', 'T3G', 'T3G', 'T3G', 'T3G', 'T3G', 'T3D', 'T3D', 'T3G', 'T3G', 'T3G', 'T3G', 'T3G', 'T3G', 'T3G', 'T3G', 'T3G', 'T3G', 'T3G', 'T3G', 'T3G', 'T3G', 'T3G', 'T3G', 'T3G', 'T3G', 'T3G', 'T3G', 'T3G', 'T3G', 'T3G', 'T3G', 'T3G', 'T3G', 'T3G', 'T3G', 'T3G', 'T3G', 'T3G', 'T3G', 'T3G', 'T3G', 'T3G', 'T3G', 'T3G', 'T3G', 'T3G', 'T3G', 'T3G', 'T3G', 'T3G', 'T3G', 'T3G', 'T3G', 'T3G', 'T3G', 'T3G', 'T3G', 'T3G', 'T3G', 'T3G', 'T3G', 'T3G', 'T3G', 'T3G', 'T3G', 'T3G', 'T3G', 'T3G', 'T3G', 'T3G', 'T3G', 'T3G', 'T3G', 'T3G', 'T3G', 'T3G', 'T3G', 'T3G', 'T3G', 'T3G', 'T3G', 'T3G', 'T3G', 'T3G', 'T3G', 'T3G', 'T3G', 'T3G', 'T3G', 'T3G', 'T3G', 'T3G', 'T3G', 'T3G', 'T3G', 'T3G', 'T3G', 'T3G', 'T3G', 'T3G', 'T3G', 'T3G', 'T3G', 'T3G', 'T3G', 'T3G', 'T3G', 'T3G', 'T3G', 'T3G', 'T3G', 'T3G', 'T3G', 'T3G', 'T3G', 'T3G', 'T3G', 'T3G', 'T3G', 'T3G', 'T3G', 'T3G', 'T3G', 'T3G', 'T3D', 'T3G', 'T3G', 'T3G', 'T3G', 'T3G', 'T3G', 'T3G', 'T3G', 'T3G', 'T3G', 'T3G', 'T3G', 'T3G', 'T3G', 'T3G', 'T3G', 'T3G', 'T3G', 'T3G', 'T3G', 'T3G', 'T3G', 'T3G', 'T3G', 'T3G', 'T3G', 'T3G', 'T3D', 'T3G', 'T3G', 'T3G', 'T3G', 'T3G', 'T3G', 'T3G', 'T3G', 'T3G', 'T3G', 'T3G', 'T3G', 'T3G', 'T3D', 'T3G', 'T3G', 'T3G', 'T3G', 'T3G', 'T3G', 'T3G', 'T3G', 'T3G', 'T3G', 'T3G', 'T3G', 'T3G', 'T3G', 'T3G', 'T3G', 'T3G', 'T3G', 'T3G', 'T3G', 'T3G', 'T3G', 'T3G', 'T3G', 'T3G', 'T3G', 'T3G', 'T3G', 'T3G', 'T3G', 'T3G', 'T3G', 'T3G', 'T3G', 'T3G', 'T3G', 'T3D', 'T3G', 'T3G', 'T3G', 'T3G', 'T3G', 'T3G', 'T3G', 'T3G', 'T3G', 'T3G', 'T3G', 'T3G', 'T3G', 'T3G', 'T3G', 'T3G', 'T3G', 'T3G', 'T3G', 'T3D', 'T3G', 'T3G', 'T3G', 'T3G', 'T3G', 'T3G', 'T3G', 'T3G', 'T3G', 'T3G', 'T3G', 'T3G', 'T3G', 'T3G', 'T3G', 'T3G', 'T3G', 'T3G', 'T3G', 'T3G', 'T3G', 'T3G', 'T3G', 'T3G', 'T3G', 'T3G', 'T3G', 'T3G', 'T3G', 'T3G', 'T3G', 'T3G', 'T3G', 'T3G', 'T3G', 'T3G', 'T3G', 'T3G', 'T3G', 'T3G', 'T3G', 'T3G', 'T3G', 'T3G', 'T3G', 'T3G', 'T3G', 'T3G', 'T3G', 'T3G', 'T3G', 'T3G', 'T3G', 'T3G', 'T3G', 'T3G', 'T3G', 'T3G', 'T3G', 'T3G', 'T3G', 'T3G', 'T3G', 'T3G', 'T3G', 'T3G', 'T3G', 'T3G', 'T3G', 'T3G', 'T3G', 'T3G', 'T3G', 'T3G', 'T3G', 'T3G', 'T3G', 'T3G', 'T3G', 'T3G', 'T3G', 'T3G', 'T3G', 'T3G', 'T3G', 'T3G', 'T3G', 'T3G', 'T3G', 'T3G', 'T3G', 'T3G', 'T3G', 'T3G', 'T3G', 'T3G', 'T3G', 'T3G', 'T3D', 'T3G', 'T3G', 'T3G', 'T3G', 'T3G', 'T3G', 'T3D', 'T3G', 'T3G', 'T3G', 'T3G', 'T3G', 'T3G', 'T3G', 'T3G', 'T3G', 'T3G', 'T3G', 'T3G', 'T3G', 'T3G', 'T3G', 'T3G', 'T3G', 'T3G', 'T3G', 'T3G', 'T3G', 'T3G', 'T3D', 'T3G', 'T3G', 'T3G', 'T3G', 'T3G', 'T3G', 'T3G', 'T3G', 'T3G', 'T3G', 'T3G', 'T3G', 'T3G', 'T3G', 'T3G', 'T3G', 'T3G', 'T3G', 'T3G', 'T3G', 'T3G', 'T3G', 'T3G', 'T3G', 'T3G', 'T3G', 'T3G', 'T3G', 'T3G', 'T3G', 'T3G', 'T3G', 'T3G', 'T3G', 'T3G', 'T3G', 'T3G', 'T3G', 'T3G', 'T3G', 'T3G', 'T3G', 'T3G', 'T3G', 'T3D', 'T3G', 'T3G', 'T3G', 'T3G', 'T3G', 'T3G', 'T3G', 'T3G', 'T3G', 'T3G', 'T3G', 'T3G', 'T3G', 'T3G', 'T3G', 'T3G', 'T3G', 'T3G', 'T3G', 'T3G', 'T3G', 'T3G', 'T3G', 'T3D', 'T3G', 'T3G', 'T3G', 'T3G', 'T3G', 'T3G', 'T3G', 'T3G', 'T3G', 'T3G', 'T3G', 'T3G', 'T3G', 'T3G', 'T3G', 'T3G', 'T3G', 'T3G', 'T3G', 'T3G', 'T3G', 'T3G', 'T3G', 'T3G', 'T3G', 'T3G', 'T3G', 'T3G', 'T3G', 'T3G', 'T3G', 'T3G', 'T3G', 'T3G', 'T3G', 'T3G', 'T3G', 'T3G', 'T3G', 'T3G', 'T3G', 'T3G', 'T3G', 'T3G', 'T3G', 'T3G', 'T3G', 'T3G', 'T3G', 'T3G', 'T3G', 'T3G', 'T3G', 'T3D', 'T3G', 'T3G', 'T3G', 'T3G', 'T3G', 'T3G', 'T3G', 'T3G', 'T3G', 'T3G', 'T3G', 'T3G', 'T3G', 'T3G', 'T3G', 'T3G', 'T3G', 'T3G', 'T3G', 'T3G', 'T3G', 'T3G', 'T3G', 'T3G', 'T3G', 'T3G', 'T3G', 'T3G', 'T3G', 'T3D', 'T3G', 'T3G', 'T3G', 'T3G', 'T3G', 'T3G', 'T3G', 'T3G', 'T3D', 'T3G', 'T3G', 'T3G', 'T3D', 'T3G', 'T3G', 'T3G', 'T3G', 'T3G', 'T3G', 'T3G', 'T3G', 'T3G', 'T3G', 'T3G', 'T3G', 'T3G', 'T3G', 'T3G', 'T3G', 'T3G', 'T3G', 'T3G', 'T3G', 'T3G', 'T3G', 'T3G', 'T3G', 'T3G', 'T3G', 'T3D', 'T3G', 'T3G', 'T3G', 'T3G', 'T3G', 'T3G', 'T3G', 'T3G', 'T3G', 'T3G', 'T3G', 'T3G', 'T3G', 'T3G', 'T3G', 'T3D', 'T3G', 'T3G', 'T3G', 'T3G', 'T3G', 'T3G', 'T3G', 'T3G', 'T3G', 'T3G', 'T3G', 'T3G', 'T3G', 'T3G', 'T3G', 'T3G', 'T3G', 'T3G', 'T3G', 'T3G', 'T3G', 'T3G', 'T3G', 'T3G', 'T3G', 'T3G', 'T3G', 'T3G', 'T3G', 'T3G', 'T3G', 'T3G', 'T3G', 'T3G', 'T3G', 'T3G', 'T3G', 'T3G', 'T3G', 'T3D', 'T3G', 'T3G', 'T3G', 'T3G', 'T3G', 'T3G', 'T3G', 'T3G', 'T3G', 'T3G', 'T3G', 'T3G', 'T3G', 'T3G', 'T3G', 'T3G', 'T3G', 'T3G', 'T3G', 'T3G', 'T3G', 'T3G', 'T3G', 'T3G', 'T3G', 'T3G', 'T3G', 'T3G', 'T3G', 'T3G', 'T3G', 'T3G', 'T3G', 'T3G', 'T3G', 'T3G', 'T3G', 'T3G', 'T3G', 'T3G', 'T3G', 'T3D', 'T3G', 'T3G', 'T3G', 'T3G', 'T3G', 'T3G', 'T3D', 'T3G', 'T3G', 'T3G', 'T3G', 'T3G', 'T3G', 'T3G', 'T3G', 'T3G', 'T3G', 'T3G', 'T3D', 'T3G', 'T3G', 'T3G', 'T3G', 'T3G', 'T3G', 'T3G', 'T3G', 'T3G', 'T3G', 'T3G', 'T3G', 'T3D', 'T3G', 'T3G', 'T3G', 'T3G', 'T3G', 'T3G', 'T3G', 'T3G', 'T3G', 'T3G', 'T3G', 'T3G', 'T3G', 'T3G', 'T3G', 'T3G', 'T3G', 'T3G', 'T3G', 'T3G', 'T3G', 'T3G', 'T3G', 'T3G', 'T3G', 'T3G', 'T3G', 'T3G', 'T3G', 'T3G', 'T3G', 'T3G', 'T3G', 'T3G', 'T3G', 'T3G', 'T3G', 'T3G', 'T3G', 'T3G', 'T3G', 'T3G', 'T3G', 'T3G', 'T3G', 'T3G', 'T3G', 'T3G', 'T3G', 'T3G', 'T3G', 'T3G', 'T3G', 'T3G', 'T3G', 'T3G', 'T3G', 'T3G', 'T3G', 'T3G', 'T3G', 'T3G', 'T3G', 'T3D', 'T3G', 'T3G', 'T3G', 'T3G', 'T3G', 'T3G', 'T3G', 'T3G', 'T3G', 'T3G', 'T3G', 'T3G', 'T3G', 'T3G', 'T3G', 'T3G', 'T3G', 'T3G', 'T3G', 'T3G', 'T3G', 'T3G', 'T3G', 'T3G', 'T3G', 'T3G', 'T3D', 'T3G', 'T3G', 'T3G', 'T3G', 'T3G', 'T3G', 'T3G', 'T3G', 'T3G', 'T3G', 'T3G', 'T3G', 'T3G', 'T3G', 'T3G', 'T3G', 'T3G', 'T3D', 'T3D', 'T3G', 'T3G', 'T3G', 'T3G', 'T3G', 'T3G', 'T3G', 'T3G', 'T3G', 'T3G', 'T3G', 'T3G', 'T3G', 'T3G', 'T3G', 'T3G', 'T3G', 'T3G', 'T3G', 'T3G', 'T3G', 'T3G', 'T3G', 'T3G', 'T3G', 'T3G', 'T3G', 'T3G', 'T3G', 'T3G', 'T3G', 'T3G', 'T3G', 'T3G', 'T3G', 'T3G', 'T3G', 'T3G', 'T3G', 'T3G', 'T3G', 'T3G', 'T3G', 'T3G', 'T3D', 'T3G', 'T3G', 'T3G', 'T3G', 'T3G', 'T3G', 'T3G', 'T3G', 'T3G', 'T3G', 'T3G', 'T3G', 'T3G', 'T3G', 'T3D', 'T3G', 'T3G', 'T3G', 'T3G', 'T3G', 'T3G', 'T3G', 'T3G', 'T3G', 'T3G', 'T3G', 'T3G', 'T3G', 'T3G', 'T3G', 'T3G', 'T3G', 'T3G', 'T3G', 'T3G', 'T3G', 'T3G', 'T3G', 'T3G', 'T3G', 'T3D', 'T3G', 'T3G', 'T3G', 'T3G', 'T3G', 'T3G', 'T3G', 'T3D', 'T3G', 'T3G', 'T3G', 'T3G', 'T3G', 'T3G', 'T3G', 'T3G', 'T3G', 'T3G', 'T3G', 'T3G', 'T3G', 'T3G', 'T3G', 'T3G', 'T3G', 'T3G', 'T3G', 'T3G', 'T3G', 'T3G', 'T3G', 'T3G', 'T3G', 'T3G', 'T3G', 'T3G', 'T3G', 'T3G', 'T3G', 'T3G', 'T3G', 'T3G', 'T3G', 'T3G', 'T3G', 'T3G', 'T3G', 'T3G', 'T3G', 'T3G', 'T3G', 'T3G', 'T3G', 'T3G', 'T3G', 'T3G', 'T3G', 'T3G', 'T3G', 'T3G', 'T3G', 'T3G', 'T3G', 'T3G', 'T3G', 'T3G', 'T3G', 'T3G', 'T3G', 'T3G', 'T3G', 'T3G', 'T3G', 'T3G', 'T3G', 'T3G', 'T3G', 'T3G', 'T3G', 'T3G', 'T3G', 'T3G', 'T3G', 'T3G', 'T3G', 'T3G', 'T3G', 'T3G', 'T3G', 'T3G', 'T3G', 'T3G', 'T3D', 'T3G', 'T3G', 'T3G', 'T3G', 'T3G', 'T3G', 'T3G', 'T3G', 'T3G', 'T3G', 'T3G', 'T3G', 'T3G', 'T3G', 'T3G', 'T3G', 'T3G', 'T3G', 'T3G', 'T3G', 'T3G', 'T3G', 'T3G', 'T3G', 'T3G', 'T3G', 'T3G', 'T3G', 'T3G', 'T3G', 'T3G', 'T3G', 'T3G', 'T3G', 'T3G', 'T3G', 'T3G', 'T3G', 'T3G', 'T3G', 'T3G', 'T3G', 'T3G', 'T3G', 'T3G', 'T3G', 'T3G', 'T3G', 'T3G', 'T3G', 'T3G', 'T3G', 'T3G', 'T3G', 'T3G', 'T3G', 'T3G', 'T3G', 'T3G', 'T3G', 'T3G', 'T3G', 'T3G', 'T3G', 'T3D', 'T3G', 'T3G', 'T3G', 'T3G', 'T3G', 'T3G', 'T3G', 'T3G', 'T3G', 'T3G', 'T3G', 'T3G', 'T3G', 'T3G', 'T3G', 'T3G', 'T3G', 'T3G', 'T3G', 'T3G', 'T3G', 'T3G', 'T3G', 'T3G', 'T3G', 'T3G', 'T3G', 'T3G', 'T3G', 'T3G', 'T3D', 'T3G', 'T3G', 'T3G', 'T3G', 'T3G', 'T3G', 'T3G', 'T3G', 'T3G', 'T3G', 'T3G', 'T3G', 'T3G', 'T3G', 'T3G', 'T3G', 'T3G', 'T3G', 'T3G', 'T3G', 'T3G', 'T3D', 'T3G', 'T3D', 'T3G', 'T3G', 'T3G', 'T3G', 'T3G', 'T3G', 'T3G', 'T3D', 'T3G', 'T3G', 'T3G', 'T3G', 'T3G', 'T3G', 'T3G', 'T3G', 'T3G', 'T3D', 'T3G', 'T3G', 'T3G', 'T3G', 'T3G', 'T3G', 'T3G', 'T3G', 'T3G', 'T3G', 'T3G', 'T3G', 'T3G', 'T3G', 'T3G', 'T3G', 'T3G', 'T3D', 'T3G', 'T3G', 'T3G', 'T3G', 'T3G', 'T3G', 'T3G', 'T3G', 'T3G', 'T3G', 'T3G', 'T3G', 'T3G', 'T3G', 'T3D', 'T3G', 'T3G', 'T3G', 'T3G', 'T3G', 'T3G', 'T3G', 'T3G', 'T3G', 'T3G', 'T3G', 'T3G', 'T3G', 'T3G', 'T3G', 'T3G', 'T3G', 'T3G', 'T3G', 'T3G', 'T3G', 'T3G', 'T3G', 'T3G', 'T3G', 'T3G', 'T3G', 'T3G', 'T3G', 'T3G', 'T3G', 'T3D', 'T3G', 'T3G', 'T3G', 'T3G', 'T3G', 'T3G', 'T3G', 'T3D', 'T3G', 'T3G', 'T3G', 'T3G', 'T3G', 'T3G', 'T3G', 'T3G', 'T3G', 'T3G', 'T3G', 'T3G', 'T3G', 'T3G', 'T3D', 'T3G', 'T3G', 'T3G', 'T3G', 'T3G', 'T3G', 'T3G', 'T3G', 'T3G', 'T3G', 'T3G', 'T3G', 'T3G', 'T3D', 'T3G', 'T3G', 'T3G', 'T3G', 'T3G', 'T3G', 'T3G', 'T3G', 'T3G', 'T3G', 'T3G', 'T3G', 'T3G', 'T3G', 'T3G', 'T3G', 'T3G', 'T3D', 'T3G', 'T3G', 'T3G', 'T3G', 'T3G', 'T3G', 'T3G', 'T3G', 'T3G', 'T3G', 'T3G', 'T3G', 'T3G', 'T3G', 'T3G', 'T3G', 'T3G', 'T3G', 'T3G', 'T3G', 'T3G', 'T3G', 'T3G', 'T3G', 'T3G', 'T3G', 'T3G', 'T3G', 'T3G', 'T3G', 'T3G', 'T3G', 'T3G', 'T3G', 'T3G', 'T3G', 'T3G', 'T3G', 'T3G', 'T3G', 'T3G', 'T3G', 'T3G', 'T3G', 'T3G', 'T3G', 'T3G', 'T3G', 'T3G', 'T3G', 'T3G', 'T3G', 'T3G', 'T3G', 'T3G', 'T3G', 'T3G', 'T3G', 'T3G', 'T3D', 'T3G', 'T3G', 'T3G', 'T3G', 'T3G', 'T3G', 'T3G', 'T3G', 'T3G', 'T3G', 'T3G', 'T3G', 'T3G', 'T3G', 'T3G', 'T3G', 'T3G', 'T3G', 'T3G', 'T3G', 'T3G', 'T3G', 'T3G', 'T3G', 'T3G', 'T3G', 'T3G', 'T3G', 'T3G', 'T3G', 'T3G', 'T3G', 'T3G', 'T3G', 'T3G', 'T3G', 'T3G', 'T3G', 'T3D', 'T3G', 'T3G', 'T3G', 'T3G', 'T3G', 'T3G', 'T3G', 'T3G', 'T3G', 'T3G', 'T3G', 'T3G', 'T3G', 'T3G', 'T3G', 'T3G', 'T3G', 'T3G', 'T3G', 'T3G', 'T3G', 'T3G', 'T3G', 'T3G', 'T3G', 'T3G', 'T3G', 'T3G', 'T3G', 'T3G', 'T3G', 'T3G', 'T3G', 'T3G', 'T3G', 'T3G', 'T3G', 'T3G', 'T3G', 'T3G', 'T3G', 'T3G', 'T3G', 'T3G', 'T3G', 'T3G', 'T3G', 'T3G', 'T3G', 'T3G', 'T3G', 'T3G', 'T3G', 'T3G', 'T3G', 'T3G', 'T3G', 'T3G', 'T3G', 'T3G', 'T3G', 'T3G', 'T3G', 'T3G', 'T3G', 'T3G', 'T3G', 'T3G', 'T3G', 'T3G', 'T3G', 'T3D', 'T3G', 'T3G', 'T3G', 'T3G', 'T3G', 'T3G', 'T3G', 'T3G', 'T3G', 'T3G', 'T3G', 'T3G', 'T3G', 'T3G', 'T3G', 'T3G', 'T3G', 'T3G', 'T3D', 'T3G', 'T3G', 'T3G', 'T3G', 'T3G', 'T3G', 'T3G', 'T3G', 'T3G', 'T3G', 'T3G', 'T3G', 'T3G', 'T3G', 'T3G', 'T3G', 'T3G', 'T3G', 'T3G', 'T3D', 'T3G', 'T3G', 'T3G', 'T3G', 'T3G', 'T3G', 'T3D', 'T3G', 'T3G', 'T3G', 'T3G', 'T3G', 'T3G', 'T3G', 'T3G', 'T3G', 'T3G', 'T3G', 'T3G', 'T3G', 'T3G', 'T3G', 'T3G', 'T3G', 'T3G', 'T3G', 'T3G', 'T3G', 'T3G', 'T3G', 'T3G', 'T3G', 'T3G', 'T3G', 'T3G', 'T3G', 'T3G', 'T3G', 'T3G', 'T3G', 'T3G', 'T3G', 'T3G', 'T3G', 'T3G', 'T3G', 'T3G', 'T3G', 'T3G', 'T3G', 'T3G', 'T3G', 'T3G', 'T3G', 'T3G', 'T3G', 'T3G', 'T3G', 'T3G', 'T3D', 'T3G', 'T3G', 'T3G', 'T3D', 'T3G', 'T3G', 'T3G', 'T3G', 'T3G', 'T3G', 'T3G', 'T3G', 'T3G', 'T3D', 'T3G', 'T3G', 'T3G', 'T3G', 'T3D', 'T3G', 'T3G', 'T3D', 'T3G', 'T3G', 'T3G', 'T3G', 'T3G', 'T3G', 'T3G', 'T3G', 'T3G', 'T3G', 'T3G', 'T3G', 'T3G', 'T3G', 'T3G', 'T3G', 'T3G', 'T3G', 'T3G', 'T3G', 'T3G', 'T3G', 'T3G', 'T3G', 'T3G', 'T3G', 'T3D', 'T3G', 'T3G', 'T3G', 'T3G', 'T3G', 'T3G', 'T3G', 'T3D', 'T3G', 'T3G', 'T3G', 'T3G', 'T3G', 'T3G', 'T3G', 'T3G', 'T3G', 'T3G', 'T3G', 'T3G', 'T3G', 'T3G', 'T3G', 'T3G', 'T3G', 'T3G', 'T3G', 'T3G', 'T3G', 'T3G', 'T3G', 'T3G', 'T3G', 'T3G', 'T3G', 'T3G', 'T3G', 'T3G', 'T3G', 'T3G', 'T3G', 'T3G', 'T3G', 'T3G', 'T3G', 'T3G', 'T3G', 'T3G', 'T3G', 'T3G', 'T3G', 'T3G', 'T3G', 'T3G', 'T3G', 'T3G', 'T3G', 'T3G', 'T3G', 'T3G', 'T3G', 'T3G', 'T3G', 'T3G', 'T3G', 'T3G', 'T3G', 'T3G', 'T3D', 'T3G', 'T3G', 'T3G', 'T3G', 'T3G', 'T3G', 'T3G', 'T3G', 'T3G', 'T3G', 'T3G', 'T3G', 'T3G', 'T3G', 'T3G', 'T3G', 'T3G', 'T3G', 'T3G', 'T3G', 'T3G', 'T3G', 'T3G', 'T3G', 'T3G', 'T3G', 'T3G', 'T3G', 'T3G', 'T3G', 'T3G', 'T3G', 'T3G', 'T3G', 'T3G', 'T3G', 'T3G', 'T3G', 'T3G', 'T3G', 'T3G', 'T3G', 'T3G', 'T3G', 'T3G', 'T3G', 'T3G', 'T3G', 'T3G', 'T3G', 'T3G', 'T3G', 'T3G', 'T3G', 'T3G', 'T3G', 'T3G', 'T3G', 'T3G', 'T3G', 'T3G', 'T3G', 'T3G', 'T3G', 'T3G', 'T3G', 'T3G', 'T3G', 'T3G', 'T3G', 'T3G', 'T3G', 'T3G', 'T3G', 'T3G', 'T3G', 'T3G', 'T3G', 'T3G', 'T3G', 'T3G', 'T3G', 'T3G', 'T3G', 'T3G', 'T3G', 'T3G', 'T3G', 'T3G', 'T3G', 'T3G', 'T3G', 'T3G', 'T3G', 'T3G', 'T3G', 'T3G', 'T3G', 'T3G', 'T3G', 'T3G', 'T3G', 'T3G', 'T3G', 'T3G', 'T3G', 'T3G', 'T3G', 'T3G', 'T3G', 'T3G', 'T3G', 'T3G', 'T3G', 'T3G', 'T3G', 'T3G', 'T3G', 'T3G', 'T3G', 'T3G', 'T3G', 'T3G', 'T3G', 'T3G', 'T3G', 'T3G', 'T3G', 'T3G', 'T3G', 'T3G', 'T3G', 'T3G', 'T3G', 'T3G', 'T3G', 'T3G', 'T3G', 'T3G', 'T3G', 'T3G', 'T3G', 'T3G', 'T3G', 'T3G', 'T3G', 'T3G', 'T3G', 'T3G', 'T3G', 'T3G', 'T3G', 'T3G', 'T3G', 'T3G', 'T3G', 'T3G', 'T3D', 'T3G', 'T3G', 'T3G', 'T3G', 'T3G', 'T3D', 'T3G', 'T3G', 'T3G', 'T3G', 'T3G', 'T3G', 'T3G', 'T3G', 'T3G', 'T3G', 'T3G', 'T3G', 'T3G', 'T3G', 'T3G', 'T3G', 'T3D', 'T3G', 'T3G', 'T3G', 'T3G', 'T3G', 'T3G', 'T3G', 'T3G', 'T3G', 'T3G', 'T3G', 'T3G', 'T3G', 'T3G', 'T3G', 'T3G', 'T3G', 'T3G', 'T3G', 'T3G', 'T3G', 'T3G', 'T3G', 'T3G', 'T3G', 'T3G', 'T3G', 'T3G', 'T3G', 'T3G', 'T3G', 'T3G', 'T3G', 'T3G', 'T3G', 'T3G', 'T3G', 'T3G', 'T3G', 'T3G', 'T3G', 'T3G', 'T3G', 'T3G', 'T3G', 'T3G', 'T3G', 'T3G', 'T3G', 'T3G', 'T3G', 'T3G', 'T3G', 'T3G', 'T3G', 'T3G', 'T3G', 'T3G', 'T3G', 'T3G', 'T3G', 'T3G', 'T3G', 'T3G', 'T3D', 'T3G', 'T3G', 'T3G', 'T3G', 'T3G', 'T3G', 'T3G', 'T3G', 'T3G', 'T3G', 'T3G', 'T3G', 'T3G', 'T3G', 'T3G', 'T3G', 'T3G', 'T3G', 'T3G', 'T3G', 'T3G', 'T3G', 'T3G', 'T3G', 'T3G', 'T3G', 'T3G', 'T3G', 'T3G', 'T3G', 'T3G', 'T3G', 'T3G', 'T3G', 'T3G', 'T3G', 'T3G', 'T3G', 'T3G', 'T3G', 'T3G', 'T3G', 'T3G', 'T3G', 'T3G', 'T3G', 'T3G', 'T3G', 'T3G', 'T3G', 'T3G', 'T3G', 'T3G', 'T3G', 'T3G', 'T3G', 'T3G', 'T3G', 'T3G', 'T3G', 'T3G', 'T3G', 'T3G', 'T3G', 'T3G', 'T3G', 'T3G', 'T3G', 'T3G', 'T3G', 'T3G', 'T3G', 'T3G', 'T3G', 'T3G', 'T3G', 'T3G', 'T3D', 'T3G', 'T3G', 'T3G', 'T3G', 'T3G', 'T3G', 'T3G', 'T3G', 'T3G', 'T3G', 'T3G', 'T3G', 'T3G', 'T3G', 'T3G', 'T3G', 'T3G', 'T3G', 'T3G', 'T3G', 'T3G', 'T3G', 'T3G', 'T3G', 'T3G', 'T3G', 'T3G', 'T3G', 'T3D', 'T3G', 'T3G', 'T3G', 'T3G', 'T3G', 'T3G', 'T3G', 'T3G', 'T3G', 'T3G', 'T3G', 'T3G', 'T3G', 'T3G', 'T3G', 'T3G', 'T3G', 'T3G', 'T3G', 'T3G', 'T3G', 'T3G', 'T3G', 'T3G', 'T3G', 'T3G', 'T3G', 'T3G', 'T3G', 'T3G', 'T3D', 'T3G', 'T3G', 'T3G', 'T3G', 'T3G', 'T3G', 'T3G', 'T3G', 'T3G', 'T3G', 'T3G', 'T3G', 'T3G', 'T3G', 'T3G', 'T3G', 'T3G', 'T3G', 'T3G', 'T3G', 'T3G', 'T3G', 'T3G', 'T3G', 'T3G', 'T3G', 'T3G', 'T3G', 'T3G', 'T3G', 'T3G', 'T3D', 'T3G', 'T3G', 'T3G', 'T3G', 'T3G', 'T3G', 'T3G', 'T3G', 'T3G', 'T3G', 'T3G', 'T3G', 'T3G', 'T3G', 'T3G', 'T3G', 'T3G', 'T3G', 'T3G', 'T3G', 'T3G', 'T3G', 'T3G', 'T3G', 'T3G', 'T3G', 'T3G', 'T3D', 'T3G', 'T3G', 'T3G', 'T3G', 'T3G', 'T3G', 'T3G', 'T3G', 'T3G', 'T3G', 'T3G', 'T3G', 'T3G', 'T3G', 'T3G', 'T3G', 'T3G', 'T3G', 'T3D', 'T3G', 'T3G', 'T3G', 'T3G', 'T3D', 'T3G', 'T3G', 'T3G', 'T3G', 'T3G', 'T3G', 'T3G', 'T3G', 'T3G', 'T3G', 'T3G', 'T3G', 'T3G', 'T3G', 'T3G', 'T3G', 'T3G', 'T3G', 'T3G', 'T3G', 'T3D', 'T3G', 'T3D', 'T3D', 'T3G', 'T3G', 'T3G', 'T3G', 'T3G', 'T3G', 'T3G', 'T3G', 'T3G', 'T3G', 'T3G', 'T3G', 'T3G', 'T3G', 'T3G', 'T3G', 'T3G', 'T3G', 'T3G', 'T3G', 'T3G', 'T3G', 'T3G', 'T3G', 'T3G', 'T3G', 'T3G', 'T3G', 'T3G', 'T3G', 'T3G', 'T3G', 'T3G', 'T3G', 'T3G', 'T3G', 'T3G', 'T3G', 'T3G', 'T3G', 'T3G', 'T3G', 'T3G', 'T3G', 'T3G', 'T3G', 'T3G', 'T3G', 'T3G', 'T3G', 'T3G', 'T3G', 'T3G', 'T3G', 'T3G', 'T3G', 'T3G', 'T3G', 'T3G', 'T3G', 'T3G', 'T3G', 'T3G', 'T3G', 'T3G', 'T3G', 'T3G', 'T3G', 'T3G', 'T3G', 'T3G', 'T3G', 'T3G', 'T3G', 'T3G', 'T3G', 'T3G', 'T3G', 'T3G', 'T3G', 'T3G', 'T3G', 'T3G', 'T3G', 'T3G', 'T3G', 'T3G', 'T3G', 'T3G', 'T3G', 'T3G', 'T3G', 'T3G', 'T3G', 'T3G', 'T3G', 'T3G', 'T3G', 'T3G', 'T3G', 'T3G', 'T3G', 'T3G', 'T3G', 'T3G', 'T3G', 'T3G', 'T3G', 'T3G', 'T3G', 'T3G', 'T3G', 'T3G', 'T3G', 'T3G', 'T3G', 'T3G', 'T3G', 'T3D', 'T3G', 'T3G', 'T3G', 'T3G', 'T3G', 'T3G', 'T3G', 'T3G', 'T3G', 'T3G', 'T3G', 'T3G', 'T3G', 'T3G', 'T3G', 'T3G', 'T3G', 'T3G', 'T3G', 'T3G', 'T3G', 'T3G', 'T3G', 'T3G', 'T3G', 'T3G', 'T3G', 'T3G', 'T3G', 'T3G', 'T3G', 'T3G', 'T3G', 'T3G', 'T3G', 'T3G', 'T3G', 'T3G', 'T3G', 'T3G', 'T3G', 'T3G', 'T3G', 'T3G', 'T3G', 'T3G', 'T3G', 'T3G', 'T3G', 'T3G', 'T3G', 'T3G', 'T3G', 'T3G', 'T3G', 'T3G', 'T3G', 'T3G', 'T3G', 'T3G', 'T3G', 'T3G', 'T3G', 'T3G', 'T3G', 'T3G', 'T3G', 'T3G', 'T3G', 'T3G', 'T3G', 'T3G', 'T3G', 'T3G', 'T3G', 'T3G', 'T3G', 'T3G', 'T3G', 'T3G', 'T3G', 'T3G', 'T3G', 'T3G', 'T3G', 'T3G', 'T3G', 'T3G', 'T3D', 'T3G', 'T3G', 'T3G', 'T3G', 'T3G', 'T3G', 'T3G', 'T3G', 'T3G', 'T3G', 'T3G', 'T3G', 'T3G', 'T3G', 'T3G', 'T3G', 'T3G', 'T3G', 'T3G', 'T3G', 'T3G', 'T3G', 'T3G', 'T3G', 'T3D', 'T3G', 'T3G', 'T3G', 'T3G', 'T3G', 'T3G', 'T3G', 'T3G', 'T3G', 'T3G', 'T3G', 'T3G', 'T3G', 'T3G', 'T3G', 'T3G', 'T3G', 'T3G', 'T3G', 'T3G', 'T3G', 'T3G', 'T3G', 'T3G', 'T3G', 'T3G', 'T3G', 'T3G', 'T3G', 'T3G', 'T3G', 'T3G', 'T3G', 'T3G', 'T3G', 'T3G', 'T3G', 'T3G', 'T3G', 'T3G', 'T3G', 'T3G', 'T3G', 'T3G', 'T3D', 'T3G', 'T3G', 'T3G', 'T3D', 'T3G', 'T3G', 'T3G', 'T3G', 'T3G', 'T3G', 'T3G', 'T3G', 'T3G', 'T3G', 'T3G', 'T3G', 'T3G', 'T3G', 'T3G', 'T3G', 'T3G', 'T3G', 'T3G', 'T3G', 'T3G', 'T3G', 'T3D', 'T3G', 'T3G', 'T3G', 'T3G', 'T3G', 'T3G', 'T3G', 'T3G', 'T3G', 'T3G', 'T3G', 'T3G', 'T3G', 'T3G', 'T3G', 'T3G', 'T3G', 'T3G', 'T3G', 'T3G', 'T3G', 'T3G', 'T3G', 'T3G', 'T3G', 'T3G', 'T3G', 'T3G', 'T3G', 'T3G', 'T3G', 'T3G', 'T3G', 'T3G', 'T3G', 'T3G', 'T3G', 'T3G', 'T3G', 'T3G', 'T3G', 'T3G', 'T3G', 'T3G', 'T3G', 'T3G', 'T3G', 'T3G', 'T3G', 'T3G', 'T3G', 'T3G', 'T3G', 'T3G', 'T3G', 'T3G', 'T3G', 'T3D', 'T3G', 'T3G', 'T3G', 'T3G', 'T3G', 'T3G', 'T3G', 'T3G', 'T3G', 'T3G', 'T3G', 'T3G', 'T3G', 'T3G', 'T3G', 'T3G', 'T3G', 'T3G', 'T3G', 'T3G', 'T3G', 'T3G', 'T3G', 'T3G', 'T3D', 'T3G', 'T3G', 'T3G', 'T3G', 'T3G', 'T3G', 'T3G', 'T3G', 'T3G', 'T3G', 'T3G', 'T3G', 'T3G', 'T3G', 'T3G', 'T3G', 'T3G', 'T3G', 'T3G', 'T3G', 'T3G', 'T3G', 'T3G', 'T3G', 'T3G', 'T3G', 'T3G', 'T3G', 'T3G', 'T3G', 'T3G', 'T3G', 'T3G', 'T3G', 'T3G', 'T3G', 'T3G', 'T3G', 'T3G', 'T3G', 'T3G', 'T3G', 'T3G', 'T3G', 'T3G', 'T3G', 'T3G', 'T3G', 'T3G', 'T3G', 'T3G', 'T3G', 'T3G', 'T3G', 'T3G', 'T3G', 'T3G', 'T3G', 'T3G', 'T3G', 'T3G', 'T3G', 'T3G', 'T3G', 'T3G', 'T3G', 'T3G', 'T3G', 'T3G', 'T3G', 'T3G', 'T3G', 'T3G', 'T3G', 'T3G', 'T3G', 'T3G', 'T3G', 'T3G', 'T3G', 'T3G', 'T3G', 'T3G', 'T3G', 'T3G', 'T3G', 'T3G', 'T3G', 'T3G', 'T3G', 'T3G', 'T3G', 'T3G', 'T3G', 'T3G', 'T3G', 'T3G', 'T3G', 'T3G', 'T3G', 'T3G', 'T3G', 'T3G', 'T3G', 'T3G', 'T3G', 'T3G', 'T3G', 'T3G', 'T3G', 'T3D', 'T3G', 'T3G', 'T3G', 'T3G', 'T3G', 'T3G', 'T3G', 'T3G', 'T3G', 'T3G', 'T3G', 'T3G', 'T3G', 'T3G', 'T3G', 'T3G', 'T3G', 'T3G', 'T3G', 'T3G', 'T3G', 'T3G', 'T3G', 'T3G', 'T3G', 'T3G', 'T3G', 'T3G', 'T3G', 'T3G', 'T3G', 'T3G', 'T3G', 'T3G', 'T3G', 'T3G', 'T3G', 'T3G', 'T3G', 'T3G', 'T3G', 'T3G', 'T3G', 'T3G', 'T3G', 'T3G', 'T3G', 'T3G', 'T3G', 'T3G', 'T3G', 'T3G', 'T3D', 'T3G', 'T3G', 'T3G', 'T3G', 'T3G', 'T3G', 'T3G', 'T3G', 'T3G', 'T3G', 'T3G', 'T3G', 'T3G', 'T3G', 'T3G', 'T3G', 'T3G', 'T3G', 'T3G', 'T3G', 'T3G', 'T3G', 'T3G', 'T3G', 'T3G', 'T3G', 'T3G', 'T3G', 'T3G', 'T3D', 'T3D', 'T3G', 'T3G', 'T3G', 'T3G', 'T3G', 'T3G', 'T3G', 'T3G', 'T3G', 'T3G', 'T3G', 'T3G', 'T3G', 'T3G', 'T3G', 'T3G', 'T3G', 'T3G', 'T3G', 'T3G', 'T3G', 'T3G', 'T3G', 'T3G', 'T3G', 'T3G', 'T3G', 'T3G', 'T3G', 'T3G', 'T3D', 'T3G', 'T3G', 'T3D', 'T3G', 'T3G', 'T3G', 'T3G', 'T3G', 'T3G', 'T3G', 'T3G', 'T3G', 'T3G', 'T3G', 'T3G', 'T3G', 'T3G', 'T3G', 'T3G', 'T3G', 'T3G', 'T3G', 'T3G', 'T3G', 'T3G', 'T3G', 'T3G', 'T3G', 'T3G', 'T3G', 'T3G', 'T3G', 'T3G', 'T3G', 'T3G', 'T3G', 'T3G', 'T3G', 'T3G', 'T3G', 'T3G', 'T3G', 'T3G', 'T3G', 'T3G', 'T3G', 'T3G', 'T3G', 'T3G', 'T3G', 'T3G', 'T3G', 'T3G', 'T3G', 'T3G', 'T3G', 'T3G', 'T3G', 'T3G', 'T3G', 'T3G', 'T3G', 'T3G', 'T3G', 'T3G', 'T3G', 'T3G', 'T3G', 'T3G', 'T3G', 'T3G', 'T3G', 'T3G', 'T3G', 'T3D', 'T3G', 'T3G', 'T3D', 'T3G', 'T3G', 'T3G', 'T3G', 'T3G', 'T3G', 'T3G', 'T3G', 'T3G', 'T3G', 'T3G', 'T3G', 'T3G', 'T3G', 'T3G', 'T3G', 'T3G', 'T3G', 'T3G', 'T3G', 'T3G', 'T3G', 'T3G', 'T3G', 'T3G', 'T3G', 'T3G', 'T3G', 'T3G', 'T3G', 'T3G', 'T3G', 'T3G', 'T3G', 'T3G', 'T3G', 'T3G', 'T3G', 'T3G', 'T3G', 'T3G', 'T3G', 'T3G', 'T3G', 'T3G', 'T3G', 'T3G', 'T3G', 'T3G', 'T3G', 'T3G', 'T3G', 'T3G', 'T3G', 'T3G', 'T3G', 'T3G', 'T3G', 'T3G', 'T3G', 'T3G', 'T3G', 'T3G', 'T3G', 'T3G', 'T3G', 'T3G', 'T3G', 'T3G', 'T3G', 'T3G', 'T3G', 'T3G', 'T3G', 'T3G', 'T3G', 'T3G', 'T3G', 'T3G', 'T3G', 'T3G', 'T3G', 'T3G', 'T3G', 'T3G', 'T3G', 'T3G', 'T3G', 'T3G', 'T3G', 'T3G', 'T3G', 'T3G', 'T3G', 'T3G', 'T3G', 'T3G', 'T3G', 'T3G', 'T3G', 'T3G', 'T3G', 'T3G', 'T3G', 'T3G', 'T3D', 'T3G', 'T3G', 'T3D', 'T3G', 'T3G', 'T3G', 'T3G', 'T3G', 'T3G', 'T3G', 'T3G', 'T3G', 'T3G', 'T3G', 'T3G', 'T3G', 'T3G', 'T3G', 'T3G', 'T3G', 'T3G', 'T3G', 'T3G', 'T3G', 'T3G', 'T3G', 'T3G', 'T3G', 'T3G', 'T3G', 'T3G', 'T3G', 'T3G', 'T3G', 'T3G', 'T3G', 'T3G', 'T3G', 'T3G', 'T3G', 'T3D', 'T3G', 'T3G', 'T3G', 'T3G', 'T3G', 'T3G', 'T3G', 'T3G', 'T3G', 'T3G', 'T3G', 'T3G', 'T3G', 'T3G', 'T3G', 'T3G', 'T3G', 'T3G', 'T3G', 'T3G', 'T3G', 'T3G', 'T3G', 'T3G', 'T3G', 'T3G', 'T3D', 'T3G', 'T3G', 'T3G', 'T3D', 'T3G', 'T3G', 'T3G', 'T3G', 'T3G', 'T3G', 'T3D', 'T3G', 'T3G', 'T3G', 'T3G', 'T3G', 'T3G', 'T3G', 'T3G', 'T3G', 'T3G', 'T3G', 'T3G', 'T3G', 'T3G', 'T3G', 'T3G', 'T3G', 'T3G', 'T3G', 'T3G', 'T3G', 'T3G', 'T3G', 'T3G', 'T3G', 'T3G', 'T3G', 'T3D', 'T3G', 'T3G', 'T3G', 'T3G', 'T3G', 'T3G', 'T3G', 'T3G', 'T3G', 'T3G', 'T3G', 'T3G', 'T3G', 'T3G', 'T3G', 'T3G', 'T3G', 'T3G', 'T3G', 'T3D', 'T3G', 'T3G', 'T3G', 'T3G', 'T3G', 'T3G', 'T3G', 'T3G', 'T3G', 'T3G', 'T3G', 'T3G', 'T3G', 'T3G', 'T3G', 'T3G', 'T3G', 'T3G', 'T3G', 'T3G', 'T3G', 'T3G', 'T3G', 'T3G', 'T3G', 'T3G', 'T3G', 'T3G', 'T3G', 'T3G', 'T3G', 'T3G', 'T3G', 'T3G', 'T3G', 'T3G', 'T3G', 'T3G', 'T3G', 'T3G', 'T3G', 'T3G', 'T3G', 'T3G', 'T3G', 'T3G', 'T3G', 'T3G', 'T3G', 'T3G', 'T3G', 'T3G', 'T3G', 'T3G', 'T3G', 'T3G', 'T3G', 'T3G', 'T3G', 'T3G', 'T3G', 'T3G', 'T3G', 'T3G', 'T3G', 'T3G', 'T3G', 'T3G', 'T3G', 'T3G', 'T3D', 'T3G', 'T3G', 'T3G', 'T3G', 'T3G', 'T3G', 'T3G', 'T3G', 'T3G', 'T3G', 'T3G', 'T3G', 'T3D', 'T3G', 'T3G', 'T3G', 'T3G', 'T3G', 'T3G', 'T3G', 'T3G', 'T3G', 'T3G', 'T3G', 'T3G', 'T3G', 'T3G', 'T3G', 'T3G', 'T3G', 'T3G', 'T3G', 'T3G', 'T3G', 'T3G', 'T3G', 'T3G', 'T3G', 'T3G', 'T3G', 'T3G', 'T3G', 'T3G', 'T3G', 'T3G', 'T3G', 'T3G', 'T3G', 'T3G', 'T3G', 'T3G', 'T3G', 'T3G', 'T3G', 'T3G', 'T3G', 'T3G', 'T3G', 'T3G', 'T3G', 'T3G', 'T3G', 'T3G', 'T3G', 'T3G', 'T3G', 'T3G', 'T3G', 'T3G', 'T3G', 'T3G', 'T3G', 'T3G', 'T3G', 'T3G', 'T3G', 'T3G', 'T3G', 'T3G', 'T3G', 'T3G', 'T3G', 'T3D', 'T3G', 'T3G', 'T3G', 'T3G', 'T3G', 'T3G', 'T3G', 'T3G', 'T3G', 'T3G', 'T3G', 'T3G', 'T3G', 'T3G', 'T3G', 'T3G', 'T3G', 'T3G', 'T3G', 'T3G', 'T3G', 'T3G', 'T3G', 'T3G', 'T3G', 'T3G', 'T3G', 'T3G', 'T3G', 'T3G', 'T3G', 'T3G', 'T3G', 'T3G', 'T3G', 'T3G', 'T3G', 'T3G', 'T3G', 'T3G', 'T3G', 'T3G', 'T3G', 'T3G', 'T3G', 'T3G', 'T3G', 'T3G', 'T3G', 'T3G', 'T3G', 'T3G', 'T3G', 'T3G', 'T3G', 'T3G', 'T3G', 'T3G', 'T3G', 'T3G', 'T3G', 'T3G', 'T3G', 'T3G', 'T3G', 'T3G', 'T3G', 'T3G', 'T3G', 'T3G', 'T3G', 'T3G', 'T3G', 'T3G', 'T3G', 'T3G', 'T3G', 'T3G', 'T3G', 'T3G', 'T3G', 'T3G', 'T3G', 'T3G', 'T3D', 'T3G', 'T3G', 'T3G', 'T3G', 'T3G', 'T3G', 'T3G', 'T3G', 'T3G', 'T3G', 'T3G', 'T3G', 'T3G', 'T3G', 'T3G', 'T3G', 'T3G', 'T3G', 'T3G', 'T3G', 'T3G', 'T3G', 'T3G', 'T3G', 'T3G', 'T3G', 'T3G', 'T3D', 'T3G', 'T3G', 'T3G', 'T3G', 'T3G', 'T3G', 'T3G', 'T3G', 'T3G', 'T3G', 'T3G', 'T3G', 'T3G', 'T3G', 'T3G', 'T3G', 'T3G', 'T3G', 'T3G', 'T3G', 'T3G', 'T3G', 'T3G', 'T3G', 'T3G', 'T3G', 'T3G', 'T3G', 'T3G', 'T3G', 'T3G', 'T3G', 'T3G', 'T3G', 'T3G', 'T3G', 'T3G', 'T3G', 'T3G', 'T3G', 'T3G', 'T3G', 'T3G', 'T3G', 'T3G', 'T3G', 'T3G', 'T3G', 'T3G', 'T3G', 'T3G', 'T3G', 'T3G', 'T3G', 'T3G', 'T3G', 'T3G', 'T3G', 'T3G', 'T3G', 'T3G', 'T3G', 'T3G', 'T3G', 'T3G', 'T3G', 'T3G', 'T3G', 'T3G', 'T3G', 'T3G', 'T3G', 'T3G', 'T3G', 'T3G', 'T3G', 'T3G', 'T3G', 'T3G', 'T3G', 'T3G', 'T3G', 'T3G', 'T3G', 'T3G', 'T3D', 'T3G', 'T3G', 'T3G', 'T3G', 'T3G', 'T3G', 'T3G', 'T3G', 'T3G', 'T3G', 'T3G', 'T3G', 'T3G', 'T3G', 'T3G', 'T3G', 'T3G', 'T3G', 'T3G', 'T3G', 'T3G', 'T3G', 'T3G', 'T3G', 'T3G', 'T3G', 'T3G', 'T3G', 'T3G', 'T3G', 'T3G', 'T3G', 'T3G', 'T3G', 'T3G', 'T3G', 'T3G', 'T3G', 'T3G', 'T3G', 'T3G', 'T3G', 'T3G', 'T3G', 'T3G', 'T3G', 'T3G', 'T3G', 'T3G', 'T3G', 'T3G', 'T3G', 'T3G', 'T3G', 'T3G', 'T3G', 'T3G', 'T3G', 'T3G', 'T3G', 'T3G', 'T3G', 'T3G', 'T3G', 'T3G', 'T3G', 'T3G', 'T3G', 'T3D', 'T3G', 'T3G', 'T3G', 'T3G', 'T3G', 'T3G', 'T3G', 'T3G', 'T3G', 'T3G', 'T3G', 'T3G', 'T3G', 'T3G', 'T3G', 'T3G', 'T3G', 'T3G', 'T3G', 'T3G', 'T3G', 'T3G', 'T3G', 'T3G', 'T3G', 'T3G', 'T3G', 'T3G', 'T3G', 'T3G', 'T3G', 'T3G', 'T3G', 'T3G', 'T3G', 'T3G', 'T3G', 'T3G', 'T3G', 'T3G', 'T3G', 'T3G', 'T3G', 'T3G', 'T3G', 'T3G', 'T3G', 'T3G', 'T3G', 'T3G', 'T3G', 'T3G', 'T3G', 'T3G', 'T3G', 'T3G', 'T3G', 'T3G', 'T3G', 'T3G', 'T3G', 'T3G', 'T3G', 'T3G', 'T3G', 'T3D', 'T3G', 'T3G', 'T3G', 'T3G', 'T3G', 'T3G', 'T3G', 'T3G', 'T3G', 'T3G', 'T3G', 'T3G', 'T3G', 'T3G', 'T3G', 'T3G', 'T3G', 'T3G', 'T3G', 'T3G', 'T3G', 'T3G', 'T3G', 'T3G', 'T3G', 'T3G', 'T3G', 'T3G', 'T3G', 'T3G', 'T3G', 'T3G', 'T3G', 'T3G', 'T3G', 'T3G', 'T3G', 'T3G', 'T3G', 'T3G', 'T3G', 'T3G', 'T3G', 'T3G', 'T3G', 'T3G', 'T3G', 'T3G', 'T3G', 'T3G', 'T3G', 'T3G', 'T3G', 'T3G', 'T3G', 'T3G', 'T3G', 'T3G', 'T3G', 'T3G', 'T3G', 'T3G', 'T3G', 'T3G', 'T3G', 'T3G', 'T3G', 'T3G', 'T3G', 'T3G', 'T3G', 'T3G', 'T3G', 'T3G', 'T3G', 'T3G', 'T3G', 'T3G', 'T3G', 'T3D', 'T3G', 'T3G', 'T3G', 'T3G', 'T3G', 'T3G', 'T3G', 'T3G', 'T3G', 'T3G', 'T3G', 'T3G', 'T3G', 'T3G', 'T3G', 'T3G', 'T3G', 'T3G', 'T3G', 'T3G', 'T3G', 'T3G', 'T3D', 'T3G', 'T3G', 'T3G', 'T3G', 'T3G', 'T3G', 'T3G', 'T3G', 'T3G', 'T3G', 'T3G', 'T3G', 'T3D', 'T3G', 'T3G', 'T3G', 'T3G', 'T3G', 'T3G', 'T3G', 'T3G', 'T3D', 'T3G', 'T3G', 'T3G', 'T3G', 'T3G', 'T3G', 'T3G', 'T3G', 'T3G', 'T3G', 'T3G', 'T3G', 'T3G', 'T3G', 'T3G', 'T3G', 'T3G', 'T3G', 'T3G', 'T3G', 'T3G', 'T3G', 'T3G', 'T3G', 'T3G', 'T3G', 'T3G', 'T3G', 'T3G', 'T3G', 'T3G', 'T3G', 'T3G', 'T3G', 'T3G', 'T3G', 'T3G', 'T3G', 'T3G', 'T3G', 'T3G', 'T3G', 'T3G', 'T3G', 'T3G', 'T3G', 'T3G', 'T3G', 'T3G', 'T3G', 'T3G', 'T3G', 'T3D', 'T3G', 'T3G', 'T3G', 'T3G', 'T3G', 'T3G', 'T3G', 'T3G', 'T3G', 'T3G', 'T3G', 'T3G', 'T3G', 'T3G', 'T3G', 'T3G', 'T3G', 'T3D', 'T3G', 'T3G', 'T3G', 'T3G', 'T3G', 'T3G', 'T3G', 'T3G', 'T3G', 'T3G', 'T3G', 'T3G', 'T3G', 'T3D', 'T3G', 'T3G', 'T3G', 'T3G', 'T3G', 'T3G', 'T3G', 'T3G', 'T3G', 'T3G', 'T3G', 'T3G', 'T3G', 'T3G', 'T3G', 'T3G', 'T3G', 'T3G', 'T3G', 'T3G', 'T3G', 'T3G', 'T3G', 'T3G', 'T3G', 'T3G', 'T3G', 'T3G', 'T3G', 'T3G', 'T3G', 'T3G', 'T3G', 'T3G', 'T3G', 'T3G', 'T3G', 'T3G', 'T3G', 'T3G', 'T3G', 'T3G', 'T3G', 'T3G', 'T3G', 'T3G', 'T3G', 'T3G', 'T3G', 'T3G', 'T3G', 'T3G', 'T3G', 'T3G', 'T3G', 'T3G', 'T3G', 'T3G', 'T3G', 'T3G', 'T3G', 'T3G', 'T3G', 'T3G', 'T3G', 'T3G', 'T3G', 'T3G', 'T3G', 'T3G', 'T3G', 'T3G', 'T3G', 'T3G', 'T3G', 'T3G', 'T3G', 'T3G', 'T3G', 'T3G', 'T3G', 'T3G', 'T3G', 'T3G', 'T3G', 'T3G', 'T3G', 'T3G', 'T3G', 'T3G', 'T3G', 'T3G', 'T3G', 'T3G', 'T3G', 'T3G', 'T3G', 'T3G', 'T3G', 'T3G', 'T3G', 'T3G', 'T3G', 'T3G', 'T3G', 'T3G', 'T3G', 'T3G', 'T3G', 'T3G', 'T3G', 'T3G', 'T3G', 'T3G', 'T3G', 'T3D', 'T3G', 'T3G', 'T3G', 'T3G', 'T3G', 'T3G', 'T3G', 'T3G', 'T3G', 'T3G', 'T3G', 'T3G', 'T3G', 'T3G', 'T3G', 'T3G', 'T3G', 'T3D', 'T3G', 'T3G', 'T3G', 'T3G', 'T3G', 'T3G', 'T3G', 'T3G', 'T3G', 'T3G', 'T3G', 'T3G', 'T3G', 'T3G', 'T3G', 'T3G', 'T3G', 'T3G', 'T3G', 'T3G', 'T3G', 'T3G', 'T3G', 'T3G', 'T3G', 'T3G', 'T3G', 'T3G', 'T3G', 'T3G', 'T3G', 'T3G', 'T3G', 'T3G', 'T3G', 'T3G', 'T3G', 'T3G', 'T3G', 'T3G', 'T3G', 'T3G', 'T3G', 'T3G', 'T3G', 'T3G', 'T3G', 'T3G', 'T3D', 'T3G', 'T3G', 'T3G', 'T3G', 'T3G', 'T3G', 'T3G', 'T3G', 'T3G', 'T3G', 'T3G', 'T3G', 'T3G', 'T3G', 'T3G', 'T3G', 'T3G', 'T3G', 'T3G', 'T3G', 'T3G', 'T3G', 'T3G', 'T3G', 'T3G', 'T3G', 'T3G', 'T3G', 'T3G', 'T3G', 'T3G', 'T3G', 'T3G', 'T3G', 'T3G', 'T3G', 'T3G', 'T3G', 'T3G', 'T3G', 'T3G', 'T3G', 'T3G', 'T3G', 'T3G', 'T3G', 'T3G', 'T3G', 'T3G', 'T3D', 'T3G', 'T3G', 'T3G', 'T3G', 'T3G', 'T3G', 'T3G', 'T3G', 'T3G', 'T3G', 'T3G', 'T3G', 'T3G', 'T3G', 'T3G', 'T3G', 'T3G', 'T3G', 'T3G', 'T3G', 'T3G', 'T3G', 'T3G', 'T3G', 'T3G', 'T3D', 'T3G', 'T3G', 'T3G', 'T3G', 'T3G', 'T3G', 'T3G', 'T3G', 'T3G', 'T3G', 'T3G', 'T3G', 'T3G', 'T3G', 'T3G', 'T3G', 'T3G', 'T3G', 'T3G', 'T3G', 'T3G', 'T3G', 'T3G', 'T3G', 'T3G', 'T3G', 'T3G', 'T3G', 'T3G', 'T3G', 'T3G', 'T3G', 'T3G', 'T3G', 'T3G', 'T3G', 'T3G', 'T3G', 'T3G', 'T3G', 'T3G', 'T3G', 'T3G', 'T3G', 'T3G', 'T3G', 'T3G', 'T3G', 'T3G', 'T3G', 'T3G', 'T3G', 'T3G', 'T3G', 'T3G', 'T3G', 'T3G', 'T3G', 'T3G', 'T3G', 'T3G', 'T3G', 'T3G', 'T3G', 'T3G', 'T3D', 'T3G', 'T3G', 'T3G', 'T3G', 'T3G', 'T3G', 'T3G', 'T3G', 'T3G', 'T3G', 'T3G', 'T3G', 'T3G', 'T3G', 'T3G', 'T3G', 'T3G', 'T3G', 'T3G', 'T3G', 'T3G', 'T3G', 'T3G', 'T3G', 'T3G', 'T3G', 'T3G', 'T3G', 'T3G', 'T3G', 'T3G', 'T3G', 'T3G', 'T3G', 'T3G', 'T3D', 'T3G', 'T3G', 'T3G', 'T3G', 'T3G', 'T3G', 'T3G', 'T3G', 'T3G', 'T3G', 'T3G', 'T3G', 'T3G', 'T3G', 'T3G', 'T3G', 'T3G', 'T3G', 'T3G', 'T3G', 'T3G', 'T3G', 'T3G', 'T3G', 'T3G', 'T3G', 'T3G', 'T3G', 'T3G', 'T3G', 'T3G', 'T3G', 'T3G', 'T3G', 'T3G', 'T3G', 'T3G', 'T3G', 'T3G', 'T3G', 'T3G', 'T3G', 'T3G', 'T3G', 'T3G', 'T3G', 'T3G', 'T3G', 'T3G', 'T3G', 'T3G', 'T3G', 'T3G', 'T3G', 'T3G', 'T3G', 'T3G', 'T3G', 'T3G', 'T3G', 'T3G', 'T3G', 'T3G', 'T3G', 'T3G', 'T3G', 'T3G', 'T3G', 'T3G', 'T3G', 'T3G', 'T3G', 'T3G', 'T3G', 'T3G', 'T3G', 'T3G', 'T3G', 'T3G', 'T3G', 'T3G', 'T3G', 'T3D', 'T3G', 'T3G', 'T3G', 'T3G', 'T3G', 'T3G', 'T3G', 'T3G', 'T3G', 'T3G', 'T3G', 'T3G', 'T3G', 'T3G', 'T3G', 'T3G', 'T3G', 'T3G', 'T3G', 'T3G', 'T3G', 'T3G', 'T3G', 'T3G', 'T3G', 'T3G', 'T3G', 'T3G', 'T3G', 'T3G', 'T3G', 'T3G', 'T3G', 'T3G', 'T3G', 'T3G', 'T3G', 'T3G', 'T3G', 'T3G', 'T3G', 'T3G', 'T3G', 'T3G', 'T3G', 'T3G', 'T3G', 'T3G', 'T3G', 'T3G', 'T3G', 'T3G', 'T3G', 'T3G', 'T3G', 'T3G', 'T3G', 'T3G', 'T3G', 'T3G', 'T3G', 'T3G', 'T3G', 'T3G', 'T3G', 'T3G', 'T3G', 'T3G', 'T3G', 'T3G', 'T3G', 'T3G', 'T3G', 'T3G', 'T3G', 'T3G', 'T3G', 'T3G', 'T3G', 'T3G', 'T3G', 'T3G', 'T3G', 'T3G', 'T3G', 'T3G', 'T3G', 'T3G', 'T3G', 'T3G', 'T3G', 'T3G', 'T3G', 'T3G', 'T3D', 'T3G', 'T3G', 'T3G', 'T3G', 'T3G', 'T3G', 'T3G', 'T3G', 'T3G', 'T3G', 'T3G', 'T3G', 'T3G', 'T3G', 'T3G', 'T3G', 'T3G', 'T3G', 'T3G', 'T3G', 'T3G', 'T3G', 'T3G', 'T3G', 'T3G', 'T3G', 'T3G', 'T3G', 'T3G', 'T3G', 'T3G', 'T3G', 'T3G', 'T3G', 'T3G', 'T3G', 'T3G', 'T3G', 'T3G', 'T3G', 'T3G', 'T3G', 'T3G', 'T3G', 'T3G', 'T3G', 'T3G', 'T3G', 'T3G', 'T3G', 'T3G', 'T3G', 'T3G', 'T3G', 'T3G', 'T3G', 'T3G', 'T3G', 'T3G', 'T3G', 'T3G', 'T3G', 'T3G', 'T3G', 'T3G', 'T3G', 'T3G', 'T3G', 'T3G', 'T3G', 'T3G', 'T3G', 'T3G', 'T3G', 'T3G', 'T3G', 'T3G', 'T3G', 'T3G', 'T3G', 'T3G', 'T3G', 'T3G', 'T3G', 'T3G', 'T3G', 'T3G', 'T3G', 'T3G', 'T3G', 'T3G', 'T3G', 'T3G', 'T3G', 'T3G', 'T3G', 'T3G', 'T3G', 'T3G', 'T3G', 'T3G', 'T3G', 'T3G', 'T3G', 'T3G', 'T3G', 'T3G', 'T3G', 'T3G', 'T3G', 'T3G', 'T3G', 'T3G', 'T3G', 'T3G', 'T3G', 'T3G', 'T3G', 'T3G', 'T3G', 'T3G', 'T3G', 'T3G', 'T3G', 'T3G', 'T3G', 'T3G', 'T3G', 'T3G', 'T3G', 'T3G', 'T3G', 'T3G', 'T3G', 'T3G', 'T3G', 'T3G', 'T3G', 'T3G', 'T3G', 'T3G', 'T3G', 'T3G', 'T3G', 'T3G', 'T3G', 'T3G', 'T3G', 'T3G', 'T3G', 'T3G', 'T3G', 'T3G', 'T3G', 'T3G', 'T3G', 'T3G', 'T3D', 'T3G', 'T3G', 'T3G', 'T3G', 'T3G', 'T3G', 'T3G', 'T3G', 'T3G', 'T3G', 'T3G', 'T3G', 'T3G', 'T3G', 'T3G', 'T3G', 'T3G', 'T3G', 'T3G', 'T3G', 'T3G', 'T3G', 'T3G', 'T3G', 'T3G', 'T3G', 'T3G', 'T3G', 'T3G', 'T3G', 'T3G', 'T3G', 'T3G', 'T3G', 'T3G', 'T3G', 'T3G', 'T3G', 'T3G', 'T3G', 'T3G', 'T3G', 'T3G', 'T3G', 'T3G', 'T3G', 'T3G', 'T3G', 'T3G', 'T3G', 'T3G', 'T3G', 'T3G', 'T3G', 'T3G', 'T3G', 'T3G', 'T3G', 'T3G', 'T3G', 'T3G', 'T3G', 'T3G', 'T3G', 'T3G', 'T3G', 'T3G', 'T3G', 'T3G', 'T3G', 'T3G', 'T3G', 'T3G', 'T3G', 'T3G', 'T3G', 'T3G', 'T3G', 'T3G', 'T3G', 'T3G', 'T3G', 'T3G', 'T3G', 'T3G', 'T3G', 'T3G', 'T3G', 'T3G', 'T3G', 'T3G', 'T3G', 'T3G', 'T3G', 'T3G', 'T3G', 'T3G', 'T3G', 'T3G', 'T3G', 'T3G', 'T3G', 'T3G', 'T3G', 'T3G', 'T3G', 'T3G', 'T3G', 'T3G', 'T3G', 'T3G', 'T3G', 'T3G', 'T3G', 'T3G', 'T3G', 'T3G', 'T3G', 'T3G', 'T3G', 'T3G', 'T3G', 'T3G', 'T3G', 'T3G', 'T3G', 'T3G', 'T3G', 'T3G', 'T3G', 'T3G', 'T3G', 'T3G', 'T3G', 'T3G', 'T3G', 'T3G', 'T3G', 'T3G', 'T3G', 'T3G', 'T3G', 'T3G', 'T3D', 'T3G', 'T3G', 'T3G', 'T3G', 'T3G', 'T3G', 'T3G', 'T3G', 'T3G', 'T3G', 'T3G', 'T3G', 'T3G', 'T3G', 'T3G', 'T3G', 'T3G', 'T3G', 'T3G', 'T3G', 'T3G', 'T3G', 'T3G', 'T3G', 'T3G', 'T3G', 'T3G', 'T3G', 'T3G', 'T3G', 'T3G', 'T3G', 'T3G', 'T3G', 'T3G', 'T3G', 'T3G', 'T3G', 'T3G', 'T3G', 'T3G', 'T3G', 'T3G', 'T3G', 'T3G', 'T3G', 'T3G', 'T3G', 'T3G', 'T3G', 'T3G', 'T3G', 'T3G', 'T3G', 'T3G', 'T3G', 'T3G', 'T3G', 'T3G', 'T3G', 'T3G', 'T3G', 'T3G', 'T3G', 'T3G', 'T3G', 'T3G', 'T3G', 'T3G', 'T3G', 'T3G', 'T3G', 'T3G', 'T3G', 'T3G', 'T3G', 'T3G', 'T3G', 'T3G', 'T3G', 'T3G', 'T3G', 'T3G', 'T3G', 'T3G', 'T3G', 'T3G', 'T3G', 'T3G', 'T3G', 'T3G', 'T3G', 'T3D', 'T3G', 'T3G', 'T3G', 'T3G', 'T3G', 'T3G', 'T3G', 'T3G', 'T3G', 'T3G', 'T3G', 'T3G', 'T3G', 'T3G', 'T3G', 'T3G', 'T3G', 'T3G', 'T3G', 'T3G', 'T3G', 'T3G', 'T3G', 'T3G', 'T3G', 'T3G', 'T3D', 'T3G', 'T3G', 'T3G', 'T3G', 'T3G', 'T3G', 'T3G', 'T3G', 'T3G', 'T3G', 'T3D', 'T3G', 'T3G', 'T3G', 'T3G', 'T3G', 'T3G', 'T3G', 'T3G', 'T3G', 'T3G', 'T3G', 'T3G', 'T3G', 'T3G', 'T3G', 'T3G', 'T3G', 'T3G', 'T3G', 'T3D', 'T3G', 'T3G', 'T3G', 'T3G', 'T3G', 'T3G', 'T3G', 'T3G', 'T3G', 'T3G', 'T3G', 'T3G', 'T3G', 'T3G', 'T3G', 'T3G', 'T3G', 'T3G', 'T3G', 'T3G', 'T3G', 'T3G', 'T3G', 'T3G', 'T3G', 'T3G', 'T3D', 'T3G', 'T3G', 'T3G', 'T3G', 'T3G', 'T3G', 'T3G', 'T3G', 'T3G', 'T3G', 'T3G', 'T3G', 'T3G', 'T3G', 'T3G', 'T3G', 'T3G', 'T3G', 'T3G', 'T3G', 'T3G', 'T3G', 'T3G', 'T3G', 'T3G', 'T3G', 'T3G', 'T3G', 'T3G', 'T3G', 'T3G', 'T3G', 'T3G', 'T3G', 'T3G', 'T3G', 'T3G', 'T3G', 'T3G', 'T3G', 'T3G', 'T3G', 'T3G', 'T3G', 'T3G', 'T3G', 'T3G', 'T3G', 'T3G', 'T3G', 'T3G', 'T3G', 'T3G', 'T3G', 'T3G', 'T3G', 'T3G', 'T3G', 'T3G', 'T3G', 'T3G', 'T3D', 'T3G', 'T3G', 'T3G', 'T3G', 'T3G', 'T3D', 'T3G', 'T3D', 'T3G', 'T3G', 'T3G', 'T3G', 'T3G', 'T3D', 'T3G', 'T3G', 'T3G', 'T3G', 'T3G', 'T3G', 'T3G', 'T3G', 'T3G', 'T3G', 'T3G', 'T3G', 'T3G', 'T3G', 'T3G', 'T3G', 'T3G', 'T3G', 'T3G', 'T3G', 'T3G', 'T3G', 'T3G', 'T3G', 'T3G', 'T3G', 'T3G', 'T3G', 'T3G', 'T3G', 'T3G', 'T3G', 'T3G', 'T3G', 'T3G', 'T3G', 'T3G', 'T3G', 'T3G', 'T3G', 'T3G', 'T3G', 'T3G', 'T3G', 'T3G', 'T3G', 'T3G', 'T3G', 'T3G', 'T3G', 'T3G', 'T3G', 'T3D', 'T3G', 'T3G', 'T3D', 'T3G', 'T3G', 'T3G', 'T3G', 'T3G', 'T3G', 'T3G', 'T3D', 'T3G', 'T3G', 'T3G', 'T3G', 'T3G', 'T3G', 'T3G', 'T3D', 'T3G', 'T3G', 'T3G', 'T3G', 'T3G', 'T3G', 'T3G', 'T3G', 'T3G', 'T3G', 'T3G', 'T3G', 'T3G', 'T3G', 'T3G', 'T3G', 'T3G', 'T3G', 'T3G', 'T3G', 'T3G', 'T3G', 'T3G', 'T3G', 'T3G', 'T3G', 'T3G', 'T3G', 'T3G', 'T3G', 'T3G', 'T3D', 'T3G', 'T3G', 'T3G', 'T3G', 'T3G', 'T3G', 'T3G', 'T3G', 'T3G', 'T3D', 'T3G', 'T3G', 'T3G', 'T3G', 'T3G', 'T3G', 'T3G', 'T3G', 'T3G', 'T3G', 'T3G', 'T3G', 'T3G', 'T3G', 'T3G', 'T3G', 'T3G', 'T3G', 'T3G', 'T3G', 'T3G', 'T3G', 'T3G', 'T3G', 'T3G', 'T3G', 'T3G', 'T3G', 'T3G', 'T3G', 'T3D', 'T3G', 'T3G', 'T3G', 'T3G', 'T3D', 'T3G', 'T3G', 'T3G', 'T3G', 'T3G', 'T3G', 'T3G', 'T3G', 'T3G', 'T3G', 'T3G', 'T3G', 'T3G', 'T3G', 'T3G', 'T3G', 'T3G', 'T3G', 'T3G', 'T3G', 'T3G', 'T3G', 'T3G', 'T3G', 'T3G', 'T3G', 'T3G', 'T3D', 'T3G', 'T3G', 'T3G', 'T3G', 'T3G', 'T3G', 'T3G', 'T3G', 'T3G', 'T3G', 'T3G', 'T3G', 'T3G', 'T3G', 'T3G', 'T3G', 'T3G', 'T3G', 'T3G', 'T3G', 'T3G', 'T3G', 'T3G', 'T3G', 'T3G', 'T3G', 'T3G', 'T3G', 'T3G', 'T3G', 'T3G', 'T3G', 'T3G', 'T3G', 'T3G', 'T3G', 'T3G', 'T3D', 'T3G', 'T3G', 'T3G', 'T3G', 'T3G', 'T3G', 'T3G', 'T3G', 'T3G', 'T3G', 'T3G', 'T3G', 'T3G', 'T3G', 'T3G', 'T3G', 'T3G', 'T3G', 'T3G', 'T3D', 'T3G', 'T3G', 'T3G', 'T3G', 'T3G', 'T3G', 'T3G', 'T3G', 'T3G', 'T3G', 'T3G', 'T3G', 'T3G', 'T3G', 'T3G', 'T3D', 'T3G', 'T3G', 'T3G', 'T3G', 'T3G', 'T3G', 'T3G', 'T3D', 'T3G', 'T3D', 'T3G', 'T3G', 'T3G', 'T3G', 'T3G', 'T3G', 'T3G', 'T3G', 'T3G', 'T3G', 'T3G', 'T3G', 'T3G', 'T3G', 'T3G', 'T3G', 'T3G', 'T3G', 'T3G', 'T3G', 'T3G', 'T3G', 'T3G', 'T3G', 'T3G', 'T3G', 'T3G', 'T3G', 'T3G', 'T3G', 'T3G', 'T3G', 'T3G', 'T3G', 'T3G', 'T3G', 'T3G', 'T3G', 'T3G', 'T3G', 'T3G', 'T3G', 'T3G', 'T3G', 'T3G', 'T3G', 'T3G', 'T3G', 'T3G', 'T3G', 'T3G', 'T3G', 'T3G', 'T3G', 'T3G', 'T3G', 'T3G', 'T3G', 'T3G', 'T3G', 'T3G', 'T3G', 'T3G', 'T3G', 'T3G', 'T3G', 'T3G', 'T3G', 'T3G', 'T3G', 'T3G', 'T3G', 'T3G', 'T3G', 'T3G', 'T3G', 'T3G', 'T3G', 'T3G', 'T3G', 'T3G', 'T3G', 'T3G', 'T3G', 'T3G', 'T3G', 'T3G', 'T3G', 'T3G', 'T3G', 'T3G', 'T3G', 'T3G', 'T3G', 'T3G', 'T3G', 'T3G', 'T3G', 'T3G', 'T3G', 'T3G', 'T3G', 'T3G', 'T3G', 'T3G', 'T3G', 'T3G', 'T3G', 'T3G', 'T3G', 'T3G', 'T3G', 'T3G', 'T3G', 'T3G', 'T3G', 'T3G', 'T3G', 'T3G', 'T3G', 'T3G', 'T3G', 'T3G', 'T3G', 'T3G', 'T3G', 'T3G', 'T3G', 'T3G', 'T3G', 'T3G', 'T3G', 'T3G', 'T3G', 'T3G', 'T3G', 'T3G', 'T3G', 'T3G', 'T3G', 'T3G', 'T3G', 'T3D', 'T3G', 'T3G', 'T3G', 'T3G', 'T3G', 'T3G', 'T3D', 'T3G', 'T3G', 'T3G', 'T3G', 'T3G', 'T3G', 'T3G', 'T3G', 'T3G', 'T3G', 'T3G', 'T3G', 'T3G', 'T3G', 'T3G', 'T3G', 'T3G', 'T3G', 'T3G', 'T3D', 'T3G', 'T3G', 'T3G', 'T3G', 'T3G', 'T3G', 'T3G', 'T3G', 'T3G', 'T3G', 'T3G', 'T3D', 'T3G', 'T3G', 'T3G', 'T3G', 'T3G', 'T3D', 'T3G', 'T3G', 'T3G', 'T3G', 'T3G', 'T3G', 'T3G', 'T3G', 'T3G', 'T3G', 'T3G', 'T3G', 'T3G', 'T3G', 'T3G', 'T3G', 'T3G', 'T3G', 'T3G', 'T3G', 'T3D', 'T3G', 'T3G', 'T3G', 'T3G', 'T3G', 'T3G', 'T3G', 'T3G', 'T3G', 'T3G', 'T3G', 'T3G', 'T3G', 'T3G', 'T3G', 'T3D', 'T3G', 'T3G', 'T3G', 'T3G', 'T3G', 'T3G', 'T3G', 'T3G', 'T3G', 'T3G', 'T3G', 'T3G', 'T3G', 'T3G', 'T3G', 'T3G', 'T3G', 'T3G', 'T3G', 'T3G', 'T3G', 'T3D', 'T3D', 'T3G', 'T3G', 'T3G', 'T3G', 'T3G', 'T3G', 'T3G', 'T3G', 'T3G', 'T3G', 'T3G', 'T3G', 'T3G', 'T3D', 'T3G', 'T3G', 'T3G', 'T3G', 'T3G', 'T3G', 'T3G', 'T3G', 'T3G', 'T3G', 'T3G', 'T3G', 'T3G', 'T3G', 'T3G', 'T3G', 'T3G', 'T3G', 'T3G', 'T3G', 'T3G', 'T3G', 'T3G', 'T3D', 'T3G', 'T3G', 'T3G', 'T3G', 'T3G', 'T3G', 'T3G', 'T3G', 'T3G', 'T3G', 'T3G', 'T3G', 'T3G', 'T3D', 'T3G', 'T3G', 'T3G', 'T3G', 'T3G', 'T3G', 'T3G', 'T3G', 'T3G', 'T3G', 'T3G', 'T3G', 'T3G', 'T3G', 'T3G', 'T3G', 'T3G', 'T3G', 'T3G', 'T3D', 'T3G', 'T3G', 'T3G', 'T3G', 'T3G', 'T3G', 'T3G', 'T3G', 'T3G', 'T3G', 'T3G', 'T3G', 'T3G', 'T3G', 'T3G', 'T3G', 'T3G', 'T3G', 'T3G', 'T3G', 'T3G', 'T3G', 'T3G', 'T3G', 'T3G', 'T3G', 'T3G', 'T3G', 'T3G', 'T3G', 'T3D', 'T3G', 'T3G', 'T3G', 'T3G', 'T3G', 'T3G', 'T3G', 'T3G', 'T3G', 'T3G', 'T3G', 'T3G', 'T3G', 'T3G', 'T3G', 'T3G', 'T3G', 'T3G', 'T3G', 'T3G', 'T3G', 'T3G', 'T3G', 'T3G', 'T3G', 'T3G', 'T3G', 'T3G', 'T3G', 'T3G', 'T3G', 'T3G', 'T3G', 'T3G', 'T3G', 'T3G', 'T3G', 'T3G', 'T3G', 'T3G', 'T3G', 'T3G', 'T3G', 'T3G', 'T3G', 'T3G', 'T3G', 'T3G', 'T3G', 'T3G', 'T3G', 'T3G', 'T3G', 'T3G', 'T3G', 'T3G', 'T3G', 'T3G', 'T3G', 'T3G', 'T3G', 'T3G', 'T3G', 'T3G', 'T3G', 'T3G', 'T3G', 'T3G', 'T3G', 'T3G', 'T3G', 'T3G', 'T3G', 'T3G', 'T3G', 'T3G', 'T3G', 'T3G', 'T3G', 'T3G', 'T3G', 'T3G', 'T3G', 'T3G', 'T3G', 'T3G', 'T3G', 'T3G', 'T3G', 'T3G', 'T3G', 'T3G', 'T3G', 'T3G', 'T3G', 'T3G', 'T3G', 'T3G', 'T3G', 'T3G', 'T3G', 'T3G', 'T3G', 'T3G', 'T3G', 'T3G', 'T3G', 'T3G', 'T3G', 'T3G', 'T3G', 'T3G', 'T3G', 'T3G', 'T3G', 'T3G', 'T3G', 'T3G', 'T3G', 'T3G', 'T3G', 'T3G', 'T3G', 'T3G', 'T3G', 'T3G', 'T3G', 'T3G', 'T3G', 'T3G', 'T3G', 'T3G', 'T3G', 'T3G', 'T3G', 'T3G', 'T3G', 'T3G', 'T3G', 'T3G', 'T3G', 'T3G', 'T3G', 'T3G', 'T3G', 'T3G', 'T3G', 'T3G', 'T3G', 'T3D', 'T3G', 'T3G', 'T3G', 'T3G', 'T3G', 'T3G', 'T3G', 'T3G', 'T3G', 'T3G', 'T3G', 'T3G', 'T3G', 'T3G', 'T3G', 'T3G', 'T3G', 'T3G', 'T3G', 'T3G', 'T3G', 'T3G', 'T3G', 'T3G', 'T3G', 'T3G', 'T3G', 'T3G', 'T3G', 'T3G', 'T3G', 'T3G', 'T3G', 'T3G', 'T3G', 'T3G', 'T3G', 'T3G', 'T3G', 'T3G', 'T3G', 'T3G', 'T3G', 'T3G', 'T3G', 'T3G', 'T3G', 'T3G', 'T3G', 'T3G', 'T3G', 'T3G', 'T3G', 'T3G', 'T3G', 'T3G', 'T3G', 'T3G', 'T3G', 'T3G', 'T3G', 'T3G', 'T3G', 'T3G', 'T3G', 'T3G', 'T3G', 'T3G', 'T3G', 'T3G', 'T3G', 'T3G', 'T3G', 'T3G', 'T3G', 'T3G', 'T3G', 'T3G', 'T3G', 'T3G', 'T3G', 'T3G', 'T3G', 'T3G', 'T3G', 'T3G', 'T3G', 'T3G', 'T3G', 'T3G', 'T3G', 'T3G', 'T3G', 'T3G', 'T3G', 'T3G', 'T3G', 'T3G', 'T3G', 'T3G', 'T3G', 'T3G', 'T3G', 'T3G', 'T3G', 'T3G', 'T3G', 'T3G', 'T3G', 'T3G', 'T3G', 'T3G', 'T3G', 'T3G', 'T3G', 'T3G', 'T3G', 'T3G', 'T3G', 'T3G', 'T3G', 'T3G', 'T3G', 'T3G', 'T3G', 'T3G', 'T3G', 'T3G', 'T3G', 'T3G', 'T3G', 'T3G', 'T3G', 'T3G', 'T3G', 'T3G', 'T3G', 'T3G', 'T3G', 'T3G', 'T3G', 'T3G', 'T3G', 'T3G', 'T3G', 'T3G', 'T3G', 'T3G', 'T3G', 'T3G', 'T3G', 'T3G', 'T3G', 'T3D', 'T3D', 'T3G', 'T3G', 'T3G', 'T3G', 'T3G', 'T3G', 'T3G', 'T3G', 'T3G', 'T3G', 'T3G', 'T3G', 'T3G', 'T3G', 'T3G', 'T3G', 'T3G', 'T3G', 'T3G', 'T3G', 'T3G', 'T3G', 'T3G', 'T3G', 'T3G', 'T3G', 'T3G', 'T3G', 'T3G', 'T3G', 'T3G', 'T3G', 'T3G', 'T3G', 'T3G', 'T3G', 'T3G', 'T3G', 'T3G', 'T3G', 'T3G', 'T3G', 'T3G', 'T3G', 'T3G', 'T3G', 'T3G', 'T3G', 'T3G', 'T3G', 'T3G', 'T3G', 'T3G', 'T3G', 'T3G', 'T3G', 'T3G', 'T3G', 'T3G', 'T3G', 'T3G', 'T3G', 'T3G', 'T3G', 'T3G', 'T3G', 'T3G', 'T3G', 'T3G', 'T3G', 'T3G', 'T3G', 'T3G', 'T3G', 'T3G', 'T3G', 'T3G', 'T3G', 'T3G', 'T3G', 'T3G', 'T3G', 'T3G', 'T3G', 'T3G', 'T3G', 'T3G', 'T3G', 'T3G', 'T3D', 'T3G', 'T3G', 'T3G', 'T3G', 'T3G', 'T3G', 'T3G', 'T3G', 'T3G', 'T3G', 'T3G', 'T3G', 'T3G', 'T3G', 'T3G', 'T3G', 'T3G', 'T3G', 'T3G', 'T3G', 'T3G', 'T3G', 'T3G', 'T3D', 'T3G', 'T3G', 'T3G', 'T3G', 'T3G', 'T3G', 'T3G', 'T3G', 'T3G', 'T3G', 'T3G', 'T3G', 'T3G', 'T3G', 'T3G', 'T3G', 'T3G', 'T3G', 'T3G', 'T3G', 'T3G', 'T3G', 'T3G', 'T3G', 'T3G', 'T3G', 'T3G', 'T3G', 'T3G', 'T3G', 'T3G', 'T3G', 'T3G', 'T3G', 'T3G', 'T3G', 'T3G', 'T3G', 'T3G', 'T3G', 'T3G', 'T3G', 'T3G', 'T3G', 'T3G', 'T3G', 'T3G', 'T3G', 'T3G', 'T3G', 'T3G', 'T3G', 'T3G', 'T3G', 'T3G', 'T3G', 'T3G', 'T3G', 'T3G', 'T3G', 'T3G', 'T3G', 'T3G', 'T3G', 'T3G', 'T3G', 'T3G', 'T3G', 'T3G', 'T3G', 'T3G', 'T3G', 'T3G', 'T3G', 'T3G', 'T3G', 'T3G', 'T3G', 'T3G', 'T3G', 'T3G', 'T3G', 'T3G', 'T3G', 'T3G', 'T3G', 'T3G', 'T3G', 'T3G', 'T3G', 'T3G', 'T3G', 'T3G', 'T3G', 'T3G', 'T3G', 'T3G', 'T3G', 'T3G', 'T3G', 'T3G', 'T3G', 'T3G', 'T3G', 'T3G', 'T3G', 'T3G', 'T3G', 'T3G', 'T3D', 'T3G', 'T3G', 'T3G', 'T3G', 'T3G', 'T3G', 'T3G', 'T3G', 'T3G', 'T3D', 'T3G', 'T3G', 'T3G', 'T3G', 'T3G', 'T3G', 'T3G', 'T3G', 'T3G', 'T3G', 'T3G', 'T3G', 'T3G', 'T3G', 'T3G', 'T3G', 'T3G', 'T3G', 'T3G', 'T3G', 'T3G', 'T3G', 'T3G', 'T3G', 'T3G', 'T3G', 'T3G', 'T3G', 'T3G', 'T3D', 'T3G', 'T3G', 'T3G', 'T3G', 'T3G', 'T3G', 'T3G', 'T3G', 'T3G', 'T3D', 'T3G', 'T3G', 'T3G', 'T3G', 'T3G', 'T3G', 'T3G', 'T3G', 'T3G', 'T3G', 'T3G', 'T3G', 'T3G', 'T3G', 'T3G', 'T3G', 'T3G', 'T3G', 'T3G', 'T3G', 'T3G', 'T3G', 'T3G', 'T3G', 'T3G', 'T3G', 'T3G', 'T3D', 'T3G', 'T3G', 'T3G', 'T3G', 'T3G', 'T3G', 'T3G', 'T3G', 'T3G', 'T3G', 'T3G', 'T3G', 'T3G', 'T3G', 'T3G', 'T3G', 'T3G', 'T3G', 'T3G', 'T3G', 'T3G', 'T3G', 'T3G', 'T3G', 'T3G', 'T3G', 'T3G', 'T3G', 'T3G', 'T3G', 'T3G', 'T3G', 'T3G', 'T3D', 'T3G', 'T3G', 'T3G', 'T3G', 'T3G', 'T3G', 'T3G', 'T3G', 'T3G', 'T3G', 'T3G', 'T3G', 'T3G', 'T3D', 'T3G', 'T3G', 'T3G', 'T3G', 'T3G', 'T3G', 'T3G', 'T3G', 'T3G', 'T3G', 'T3G', 'T3G', 'T3G', 'T3G', 'T3G', 'T3G', 'T3G', 'T3G', 'T3G', 'T3G', 'T3G', 'T3G', 'T3G', 'T3G', 'T3G', 'T3G', 'T3G', 'T3G', 'T3G', 'T3G', 'T3G', 'T3G', 'T3G', 'T3G', 'T3G', 'T3G', 'T3G', 'T3G', 'T3G', 'T3G', 'T3G', 'T3G', 'T3G', 'T3G', 'T3G', 'T3G', 'T3G', 'T3G', 'T3G', 'T3G', 'T3G', 'T3G', 'T3G', 'T3G', 'T3G', 'T3G', 'T3G', 'T3G', 'T3G', 'T3G', 'T3G', 'T3G', 'T3G', 'T3G', 'T3G', 'T3G', 'T3G', 'T3G', 'T3G', 'T3G', 'T3D', 'T3G', 'T3G', 'T3G', 'T3G', 'T3G', 'T3G', 'T3G', 'T3G', 'T3G', 'T3G', 'T3G', 'T3G', 'T3G', 'T3G', 'T3G', 'T3G', 'T3G', 'T3G', 'T3G', 'T3G', 'T3G', 'T3G', 'T3G', 'T3G', 'T3G', 'T3G', 'T3G', 'T3G', 'T3D', 'T3G', 'T3G', 'T3G', 'T3G', 'T3G', 'T3G', 'T3G', 'T3G', 'T3G', 'T3G', 'T3G', 'T3G', 'T3G', 'T3G', 'T3G', 'T3G', 'T3G', 'T3G', 'T3D', 'T3G', 'T3G', 'T3G', 'T3G', 'T3G', 'T3G', 'T3G', 'T3G', 'T3G', 'T3D', 'T3G', 'T3G', 'T3G', 'T3G', 'T3G', 'T3G', 'T3G', 'T3G', 'T3G', 'T3G', 'T3G', 'T3G', 'T3G', 'T3G', 'T3G', 'T3G', 'T3G', 'T3G', 'T3G', 'T3G', 'T3G', 'T3G', 'T3G', 'T3G', 'T3G', 'T3G', 'T3G', 'T3G', 'T3G', 'T3G', 'T3G', 'T3G', 'T3G', 'T3G', 'T3G', 'T3G', 'T3G', 'T3G', 'T3G', 'T3G', 'T3G', 'T3G', 'T3G', 'T3G', 'T3G', 'T3G', 'T3G', 'T3G', 'T3G', 'T3G', 'T3G', 'T3D', 'T3D', 'T3G', 'T3G', 'T3G', 'T3G', 'T3G', 'T3G', 'T3G', 'T3G', 'T3G', 'T3G', 'T3G', 'T3G', 'T3G', 'T3G', 'T3G', 'T3G', 'T3G', 'T3G', 'T3G', 'T3G', 'T3G', 'T3G', 'T3G', 'T3G', 'T3G', 'T3G', 'T3G', 'T3G', 'T3G', 'T3G', 'T3G', 'T3G', 'T3G', 'T3G', 'T3D', 'T3G', 'T3G', 'T3G', 'T3D', 'T3G', 'T3G', 'T3G', 'T3D', 'T3G', 'T3G', 'T3G', 'T3G', 'T3G', 'T3G', 'T3G', 'T3G', 'T3G', 'T3G', 'T3G', 'T3G', 'T3G', 'T3G', 'T3G', 'T3G', 'T3G', 'T3G', 'T3G', 'T3G', 'T3G', 'T3G', 'T3G', 'T3G', 'T3G', 'T3G', 'T3G', 'T3G', 'T3G', 'T3G', 'T3G', 'T3G', 'T3G', 'T3G', 'T3G', 'T3G', 'T3G', 'T3G', 'T3G', 'T3G', 'T3G', 'T3G', 'T3G', 'T3G', 'T3G', 'T3G', 'T3G', 'T3G', 'T3G', 'T3G', 'T3G', 'T3G', 'T3G', 'T3G', 'T3G', 'T3G', 'T3G', 'T3G', 'T3G', 'T3D', 'T3G', 'T3G', 'T3G', 'T3G', 'T3G', 'T3G', 'T3G', 'T3G', 'T3G', 'T3G', 'T3G', 'T3G', 'T3G', 'T3G', 'T3G', 'T3G', 'T3G', 'T3G', 'T3G', 'T3G', 'T3G', 'T3G', 'T3G', 'T3G', 'T3G', 'T3G', 'T3G', 'T3G', 'T3G', 'T3G', 'T3G', 'T3G', 'T3G', 'T3G', 'T3G', 'T3G', 'T3G', 'T3G', 'T3G', 'T3G', 'T3G', 'T3G', 'T3G', 'T3G', 'T3G', 'T3G', 'T3G', 'T3G', 'T3G', 'T3G', 'T3G', 'T3G', 'T3G', 'T3G', 'T3G', 'T3G', 'T3G', 'T3G', 'T3G', 'T3G', 'T3D', 'T3G', 'T3G', 'T3G', 'T3G', 'T3G', 'T3G', 'T3G', 'T3G', 'T3D', 'T3G', 'T3G', 'T3G', 'T3G', 'T3G', 'T3G', 'T3G', 'T3G', 'T3G', 'T3G', 'T3G', 'T3G', 'T3G', 'T3G', 'T3G', 'T3G', 'T3G', 'T3G', 'T3G', 'T3G', 'T3G', 'T3G', 'T3G', 'T3G', 'T3G', 'T3G', 'T3G', 'T3G', 'T3G', 'T3G', 'T3G', 'T3G', 'T3G', 'T3G', 'T3G', 'T3G', 'T3G', 'T3G', 'T3G', 'T3G', 'T3G', 'T3G', 'T3G', 'T3G', 'T3G', 'T3G', 'T3G', 'T3G', 'T3G', 'T3G', 'T3G', 'T3G', 'T3G', 'T3G', 'T3G', 'T3G', 'T3G', 'T3G', 'T3G', 'T3G', 'T3G', 'T3G', 'T3G', 'T3G', 'T3G', 'T3G', 'T3G', 'T3G', 'T3G', 'T3G', 'T3D', 'T3G', 'T3G', 'T3G', 'T3G', 'T3G', 'T3G', 'T3G', 'T3G', 'T3G', 'T3G', 'T3G', 'T3G', 'T3G', 'T3G', 'T3G', 'T3G', 'T3G', 'T3G', 'T3G', 'T3G', 'T3G', 'T3G', 'T3G', 'T3G', 'T3G', 'T3G', 'T3G', 'T3G', 'T3G', 'T3G', 'T3G', 'T3G', 'T3G', 'T3G', 'T3G', 'T3G', 'T3G', 'T3G', 'T3G', 'T3G', 'T3G', 'T3G', 'T3G', 'T3G', 'T3G', 'T3G', 'T3G', 'T3G', 'T3G', 'T3G', 'T3G', 'T3G', 'T3G', 'T3G', 'T3G', 'T3G', 'T3D', 'T3G', 'T3G', 'T3G', 'T3G', 'T3G', 'T3G', 'T3G', 'T3G', 'T3G', 'T3G', 'T3G', 'T3G', 'T3G', 'T3G', 'T3G', 'T3G', 'T3G', 'T3G', 'T3G', 'T3G', 'T3G', 'T3G', 'T3G', 'T3G', 'T3G', 'T3G', 'T3G', 'T3G', 'T3G', 'T3G', 'T3G', 'T3G', 'T3G', 'T3G', 'T3G', 'T3G', 'T3G', 'T3D', 'T3G', 'T3G', 'T3D', 'T3G', 'T3G', 'T3G', 'T3G', 'T3G', 'T3G', 'T3G', 'T3G', 'T3G', 'T3G', 'T3G', 'T3G', 'T3G', 'T3G', 'T3G', 'T3G', 'T3G', 'T3G', 'T3G', 'T3G', 'T3G', 'T3G', 'T3G', 'T3G', 'T3D', 'T3G', 'T3G', 'T3G', 'T3G', 'T3G', 'T3G', 'T3G', 'T3G', 'T3G', 'T3G', 'T3G', 'T3G', 'T3G', 'T3G', 'T3G', 'T3D', 'T3G', 'T3G', 'T3G', 'T3G', 'T3G', 'T3G', 'T3G', 'T3G', 'T3G', 'T3G', 'T3G', 'T3G', 'T3G', 'T3G', 'T3G', 'T3G', 'T3G', 'T3G', 'T3G', 'T3G', 'T3G', 'T3G', 'T3G', 'T3D', 'T3G', 'T3G', 'T3G', 'T3G', 'T3G', 'T3G', 'T3G', 'T3G', 'T3G', 'T3G', 'T3G', 'T3G', 'T3G', 'T3G', 'T3G', 'T3G', 'T3G', 'T3G', 'T3G', 'T3G', 'T3G', 'T3G', 'T3G', 'T3G', 'T3G', 'T3G', 'T3G', 'T3G', 'T3G', 'T3G', 'T3G', 'T3G', 'T3G', 'T3D', 'T3G', 'T3G', 'T3G', 'T3G', 'T3G', 'T3G', 'T3G', 'T3G', 'T3G', 'T3G', 'T3G', 'T3G', 'T3G', 'T3G', 'T3G', 'T3G', 'T3G', 'T3G', 'T3G', 'T3G', 'T3G', 'T3G', 'T3G', 'T3G', 'T3G', 'T3G', 'T3G', 'T3G', 'T3G', 'T3G', 'T3G', 'T3G', 'T3G', 'T3G', 'T3G', 'T3G', 'T3G', 'T3G', 'T3G', 'T3G', 'T3G', 'T3G', 'T3G', 'T3G', 'T3G', 'T3G', 'T3G', 'T3G', 'T3G', 'T3G', 'T3G', 'T3G', 'T3G', 'T3G', 'T3G', 'T3G', 'T3G', 'T3G', 'T3G', 'T3G', 'T3G', 'T3G', 'T3G', 'T3G', 'T3G', 'T3G', 'T3G', 'T3G', 'T3G', 'T3G', 'T3G', 'T3G', 'T3G', 'T3G', 'T3G', 'T3G', 'T3G', 'T3G', 'T3G', 'T3G', 'T3D', 'T3G', 'T3G', 'T3G', 'T3G', 'T3G', 'T3G', 'T3G', 'T3G', 'T3D', 'T3G', 'T3G', 'T3G', 'T3G', 'T3G', 'T3G', 'T3G', 'T3G', 'T3G', 'T3G', 'T3G', 'T3G', 'T3G', 'T3G', 'T3G', 'T3G', 'T3G', 'T3G', 'T3G', 'T3G', 'T3G', 'T3G', 'T3G', 'T3G', 'T3D', 'T3G', 'T3G', 'T3G', 'T3G', 'T3G', 'T3G', 'T3G', 'T3G', 'T3G', 'T3G', 'T3G', 'T3G', 'T3G', 'T3G', 'T3G', 'T3G', 'T3G', 'T3D', 'T3G', 'T3G', 'T3G', 'T3G', 'T3G', 'T3G', 'T3D', 'T3G', 'T3G', 'T3G', 'T3G', 'T3G', 'T3G', 'T3G', 'T3G', 'T3G', 'T3G', 'T3G', 'T3G', 'T3G', 'T3G', 'T3G', 'T3G', 'T3G', 'T3G', 'T3G', 'T3D', 'T3G', 'T3G', 'T3G', 'T3G', 'T3G', 'T3G', 'T3G', 'T3G', 'T3G', 'T3G', 'T3G', 'T3G', 'T3G', 'T3G', 'T3G', 'T3G', 'T3G', 'T3G', 'T3G', 'T3G', 'T3G', 'T3G', 'T3G', 'T3G', 'T3G', 'T3G', 'T3D', 'T3G', 'T3G', 'T3G', 'T3G', 'T3G', 'T3G', 'T3G', 'T3G', 'T3G', 'T3G', 'T3G', 'T3G', 'T3G', 'T3G', 'T3G', 'T3G', 'T3G', 'T3G', 'T3G', 'T3G', 'T3G', 'T3G', 'T3G', 'T3D', 'T3G', 'T3G', 'T3G', 'T3G', 'T3G', 'T3G', 'T3G', 'T3G', 'T3G', 'T3G', 'T3G', 'T3G', 'T3G', 'T3D', 'T3G', 'T3G', 'T3G', 'T3G', 'T3G', 'T3G', 'T3G', 'T3G', 'T3G', 'T3G', 'T3G', 'T3G', 'T3G', 'T3G', 'T3G', 'T3G', 'T3G', 'T3G', 'T3G', 'T3G', 'T3G', 'T3G', 'T3G', 'T3G', 'T3G', 'T3G', 'T3G', 'T3G', 'T3G', 'T3G', 'T3G', 'T3G', 'T3G', 'T3D', 'T3G', 'T3G', 'T3G', 'T3G', 'T3G', 'T3G', 'T3G', 'T3G', 'T3G', 'T3G', 'T3G', 'T3G', 'T3G', 'T3G', 'T3G', 'T3G', 'T3G', 'T3G', 'T3G', 'T3G', 'T3G', 'T3G', 'T3G', 'T3G', 'T3G', 'T3G', 'T3G', 'T3G', 'T3G', 'T3G', 'T3D', 'T3G', 'T3G', 'T3G', 'T3G', 'T3G', 'T3G', 'T3G', 'T3G', 'T3G', 'T3G', 'T3G', 'T3G', 'T3G', 'T3G', 'T3G', 'T3G', 'T3D', 'T3G', 'T3G', 'T3G', 'T3G', 'T3G', 'T3G', 'T3G', 'T3G', 'T3G', 'T3G', 'T3G', 'T3G', 'T3G', 'T3G', 'T3G', 'T3G', 'T3G', 'T3G', 'T3G', 'T3G', 'T3G', 'T3G', 'T3G', 'T3G', 'T3G', 'T3G', 'T3G', 'T3G', 'T3G', 'T3G', 'T3G', 'T3G', 'T3G', 'T3G', 'T3G', 'T3G', 'T3G', 'T3G', 'T3G', 'T3G', 'T3G', 'T3G', 'T3G', 'T3G', 'T3G', 'T3G', 'T3G', 'T3G', 'T3G', 'T3G', 'T3G', 'T3G', 'T3G', 'T3G', 'T3G', 'T3G', 'T3G', 'T3G', 'T3G', 'T3G', 'T3D', 'T3G', 'T3G', 'T3G', 'T3G', 'T3G', 'T3G', 'T3G', 'T3G', 'T3G', 'T3G', 'T3G', 'T3G', 'T3G', 'T3G', 'T3G', 'T3G', 'T3G', 'T3G', 'T3G', 'T3G', 'T3G', 'T3G', 'T3G', 'T3G', 'T3G', 'T3G', 'T3G', 'T3G', 'T3G', 'T3G', 'T3G', 'T3G', 'T3G', 'T3G', 'T3G', 'T3G', 'T3G', 'T3G', 'T3G', 'T3G', 'T3G', 'T3G', 'T3G', 'T3G', 'T3G', 'T3G', 'T3G', 'T3G', 'T3G', 'T3G', 'T3G', 'T3G', 'T3G', 'T3G', 'T3G', 'T3G', 'T3G', 'T3G', 'T3G', 'T3G', 'T3G', 'T3G', 'T3G', 'T3G', 'T3G', 'T3G', 'T3G', 'T3G', 'T3G', 'T3G', 'T3G', 'T3G', 'T3G', 'T3G', 'T3G', 'T3G', 'T3G', 'T3G', 'T3G', 'T3G', 'T3G', 'T3G', 'T3G', 'T3G', 'T3D', 'T3G', 'T3G', 'T3G', 'T3G', 'T3G', 'T3G', 'T3G', 'T3G', 'T3G', 'T3G', 'T3G', 'T3G', 'T3G', 'T3G', 'T3G', 'T3G', 'T3G', 'T3G', 'T3G', 'T3G', 'T3G', 'T3G', 'T3G', 'T3G', 'T3G', 'T3G', 'T3G', 'T3G', 'T3G', 'T3G', 'T3G', 'T3G', 'T3D', 'T3G', 'T3G', 'T3G', 'T3G', 'T3G', 'T3G', 'T3G', 'T3G', 'T3G', 'T3G', 'T3G', 'T3G', 'T3G', 'T3G', 'T3G', 'T3G', 'T3G', 'T3G', 'T3G', 'T3G', 'T3G', 'T3G', 'T3G', 'T3G', 'T3G', 'T3G', 'T3G', 'T3G', 'T3G', 'T3G', 'T3G', 'T3G', 'T3G', 'T3G', 'T3G', 'T3G', 'T3G', 'T3G', 'T3G', 'T3G', 'T3G', 'T3G', 'T3G', 'T3G', 'T3G', 'T3G', 'T3G', 'T3G', 'T3G', 'T3G', 'T3G', 'T3G', 'T3G', 'T3G', 'T3G', 'T3G', 'T3G', 'T3D', 'T3G', 'T3G', 'T3G', 'T3G', 'T3G', 'T3G', 'T3G', 'T3G', 'T3G', 'T3G', 'T3G', 'T3G', 'T3G', 'T3G', 'T3G', 'T3G', 'T3G', 'T3G', 'T3G', 'T3G', 'T3G', 'T3G', 'T3G', 'T3G', 'T3G', 'T3D', 'T3G', 'T3G', 'T3G', 'T3G', 'T3G', 'T3G', 'T3G', 'T3G', 'T3G', 'T3G', 'T3G', 'T3G', 'T3G', 'T3G', 'T3G', 'T3G', 'T3G', 'T3G', 'T3G', 'T3G', 'T3G', 'T3G', 'T3G', 'T3G', 'T3G', 'T3G', 'T3G', 'T3G', 'T3G', 'T3G', 'T3G', 'T3G', 'T3G', 'T3G', 'T3G', 'T3G', 'T3G', 'T3G', 'T3G', 'T3G', 'T3G', 'T3G', 'T3G', 'T3G', 'T3G', 'T3G', 'T3G', 'T3G', 'T3G', 'T3G', 'T3G', 'T3G', 'T3G', 'T3D', 'T3G', 'T3G', 'T3G', 'T3G', 'T3G', 'T3G', 'T3G', 'T3G', 'T3G', 'T3G', 'T3G', 'T3G', 'T3G', 'T3G', 'T3G', 'T3G', 'T3G', 'T3G', 'T3G', 'T3G', 'T3G', 'T3G', 'T3G', 'T3G', 'T3G', 'T3G', 'T3G', 'T3G', 'T3G', 'T3G', 'T3G', 'T3G', 'T3G', 'T3G', 'T3G', 'T3G', 'T3G', 'T3G', 'T3G', 'T3G', 'T3G', 'T3G', 'T3G', 'T3G', 'T3G', 'T3G', 'T3G', 'T3G', 'T3G', 'T3G', 'T3G', 'T3G', 'T3G', 'T3G', 'T3G', 'T3G', 'T3G', 'T3G', 'T3G', 'T3G', 'T3G', 'T3G', 'T3G', 'T3G', 'T3G', 'T3G', 'T3G', 'T3G', 'T3G', 'T3G', 'T3G', 'T3G', 'T3G', 'T3G', 'T3G', 'T3G', 'T3G', 'T3G', 'T3G', 'T3G', 'T3G', 'T3G', 'T3G', 'T3G', 'T3G', 'T3G', 'T3G', 'T3G', 'T3G', 'T3G', 'T3G', 'T3G', 'T3D', 'T3G', 'T3G', 'T3G', 'T3G', 'T3G', 'T3G', 'T3G', 'T3G', 'T3G', 'T3G', 'T3G', 'T3G', 'T3G', 'T3G', 'T3G', 'T3G', 'T3G', 'T3G', 'T3G', 'T3G', 'T3G', 'T3G', 'T3G', 'T3G', 'T3G', 'T3G', 'T3G', 'T3G', 'T3G', 'T3G', 'T3G', 'T3G', 'T3G', 'T3G', 'T3G', 'T3G', 'T3G', 'T3G', 'T3G', 'T3G', 'T3G', 'T3G', 'T3G', 'T3G', 'T3G', 'T3G', 'T3G', 'T3G', 'T3G', 'T3G', 'T3G', 'T3G', 'T3G', 'T3G', 'T3G', 'T3D', 'T3G', 'T3G', 'T3G', 'T3G', 'T3G', 'T3G', 'T3G', 'T3G', 'T3G', 'T3G', 'T3G', 'T3G', 'T3G', 'T3G', 'T3G', 'T3G', 'T3G', 'T3G', 'T3G', 'T3G', 'T3D', 'T3G', 'T3G', 'T3G', 'T3G', 'T3G', 'T3G', 'T3G', 'T3G', 'T3G', 'T3G', 'T3G', 'T3G', 'T3G', 'T3G', 'T3G', 'T3G', 'T3G', 'T3G', 'T3G', 'T3G', 'T3G', 'T3G', 'T3G', 'T3G', 'T3G', 'T3G', 'T3G', 'T3G', 'T3G', 'T3G', 'T3G', 'T3G', 'T3G', 'T3G', 'T3G', 'T3G', 'T3G', 'T3G', 'T3G', 'T3G', 'T3G', 'T3G', 'T3G', 'T3D', 'T3G', 'T3G', 'T3G', 'T3G', 'T3G', 'T3G', 'T3G', 'T3G', 'T3G', 'T3G', 'T3G', 'T3G', 'T3G', 'T3G', 'T3G', 'T3G', 'T3G', 'T3G', 'T3G', 'T3G', 'T3G', 'T3G', 'T3G', 'T3G', 'T3G', 'T3G', 'T3G', 'T3G', 'T3G', 'T3G', 'T3G', 'T3G', 'T3G', 'T3G', 'T3G', 'T3G', 'T3G', 'T3G', 'T3G', 'T3G', 'T3G', 'T3G', 'T3G', 'T3G', 'T3G', 'T3G', 'T3G', 'T3G', 'T3G', 'T3G', 'T3G', 'T3G', 'T3G', 'T3G', 'T3G', 'T3G', 'T3G', 'T3G', 'T3G', 'T3G', 'T3G', 'T3G', 'T3G', 'T3G', 'T3G', 'T3G', 'T3G', 'T3G', 'T3G', 'T3G', 'T3G', 'T3G', 'T3G', 'T3G', 'T3G', 'T3G', 'T3G', 'T3G', 'T3G', 'T3G', 'T3G', 'T3G', 'T3G', 'T3G', 'T3G', 'T3G', 'T3G', 'T3G', 'T3G', 'T3G', 'T3G', 'T3G', 'T3G', 'T3G', 'T3G', 'T3G', 'T3G', 'T3G', 'T3G', 'T3G', 'T3G', 'T3G', 'T3G', 'T3G', 'T3G', 'T3G', 'T3G', 'T3G', 'T3G', 'T3G', 'T3G', 'T3G', 'T3G', 'T3G', 'T3G', 'T3G', 'T3G', 'T3G', 'T3G', 'T3G', 'T3G', 'T3G', 'T3G', 'T3G', 'T3G', 'T3G', 'T3G', 'T3G', 'T3G', 'T3G', 'T3G', 'T3G', 'T3G', 'T3G', 'T3G', 'T3G', 'T3G', 'T3G', 'T3G', 'T3G', 'T3G', 'T3G', 'T3G', 'T3G', 'T3G', 'T3G', 'T3G', 'T3G', 'T3G', 'T3G', 'T3G', 'T3G', 'T3G', 'T3G', 'T3G', 'T3G', 'T3G', 'T3G', 'T3G', 'T3G', 'T3G', 'T3G', 'T3G', 'T3G', 'T3G', 'T3G', 'T3G', 'T3G', 'T3D', 'T3G', 'T3G', 'T3G', 'T3G', 'T3G', 'T3G', 'T3G', 'T3G', 'T3G', 'T3G', 'T3G', 'T3G', 'T3G', 'T3G', 'T3G', 'T3G', 'T3G', 'T3G', 'T3G', 'T3G', 'T3G', 'T3G', 'T3G', 'T3G', 'T3G', 'T3G', 'T3G', 'T3G', 'T3G', 'T3G', 'T3G', 'T3G', 'T3G', 'T3G', 'T3G', 'T3G', 'T3G', 'T3G', 'T3G', 'T3G', 'T3G', 'T3G', 'T3G', 'T3G', 'T3G', 'T3G', 'T3G', 'T3G', 'T3G', 'T3G', 'T3G', 'T3G', 'T3G', 'T3G', 'T3G', 'T3G', 'T3G', 'T3G', 'T3G', 'T3D', 'T3G', 'T3G', 'T3G', 'T3G', 'T3G', 'T3G', 'T3G', 'T3G', 'T3G', 'T3G', 'T3G', 'T3G', 'T3G', 'T3G', 'T3G', 'T3G', 'T3G', 'T3G', 'T3G', 'T3G', 'T3G', 'T3G', 'T3G', 'T3G', 'T3G', 'T3G', 'T3G', 'T3D', 'T3G', 'T3G', 'T3G', 'T3G', 'T3G', 'T3G', 'T3G', 'T3G', 'T3G', 'T3G', 'T3G', 'T3G', 'T3G', 'T3G', 'T3G', 'T3G', 'T3G', 'T3G', 'T3G', 'T3G', 'T3G', 'T3G', 'T3G', 'T3G', 'T3G', 'T3G', 'T3G', 'T3G', 'T3G', 'T3G', 'T3G', 'T3G', 'T3G', 'T3G', 'T3G', 'T3G', 'T3G', 'T3G', 'T3G', 'T3G', 'T3G', 'T3G', 'T3G', 'T3G', 'T3G', 'T3G', 'T3G', 'T3G', 'T3G', 'T3G', 'T3G', 'T3G', 'T3G', 'T3G', 'T3G', 'T3G', 'T3G', 'T3G', 'T3G', 'T3G', 'T3G', 'T3G', 'T3G', 'T3G', 'T3D', 'T3G', 'T3G', 'T3G', 'T3G', 'T3G', 'T3G', 'T3G', 'T3G', 'T3G', 'T3G', 'T3G', 'T3G', 'T3G', 'T3G', 'T3G', 'T3G', 'T3G', 'T3G', 'T3G', 'T3G', 'T3G', 'T3G', 'T3G', 'T3G', 'T3G', 'T3G', 'T3G', 'T3G', 'T3G', 'T3G', 'T3G', 'T3G', 'T3G', 'T3G', 'T3G', 'T3G', 'T3G', 'T3G', 'T3G', 'T3G', 'T3G', 'T3G', 'T3G', 'T3G', 'T3G', 'T3G', 'T3G', 'T3G', 'T3G', 'T3G', 'T3G', 'T3D', 'T3G', 'T3G', 'T3G', 'T3G', 'T3G', 'T3G', 'T3G', 'T3G', 'T3G', 'T3G', 'T3G', 'T3G', 'T3G', 'T3G', 'T3G', 'T3G', 'T3G', 'T3G', 'T3G', 'T3G', 'T3G', 'T3G', 'T3G', 'T3G', 'T3D', 'T3G', 'T3G', 'T3G', 'T3G', 'T3D', 'T3G', 'T3G', 'T3G', 'T3G', 'T3G', 'T3G', 'T3G', 'T3G', 'T3G', 'T3G', 'T3G', 'T3G', 'T3G', 'T3G', 'T3G', 'T3G', 'T3G', 'T3G', 'T3G', 'T3G', 'T3G', 'T3G', 'T3G', 'T3G', 'T3D', 'T3G', 'T3G', 'T3G', 'T3G', 'T3G', 'T3G', 'T3G', 'T3G', 'T3G', 'T3G', 'T3G', 'T3G', 'T3G', 'T3G', 'T3G', 'T3G', 'T3G', 'T3G', 'T3G', 'T3G', 'T3G', 'T3G', 'T3G', 'T3G', 'T3G', 'T3G', 'T3G', 'T3G', 'T3G', 'T3G', 'T3G', 'T3G', 'T3G', 'T3G', 'T3G', 'T3G', 'T3G', 'T3G', 'T3G', 'T3G', 'T3G', 'T3G', 'T3G', 'T3G', 'T3G', 'T3G', 'T3G', 'T3G', 'T3G', 'T3G', 'T3G', 'T3G', 'T3G', 'T3G', 'T3G', 'T3G', 'T3G', 'T3G', 'T3G', 'T3G', 'T3G', 'T3G', 'T3G', 'T3G', 'T3G', 'T3G', 'T3G', 'T3G', 'T3G', 'T3G', 'T3G', 'T3G', 'T3G', 'T3G', 'T3G', 'T3G', 'T3G', 'T3G', 'T3G', 'T3G', 'T3G', 'T3G', 'T3G', 'T3G', 'T3G', 'T3G', 'T3G', 'T3G', 'T3G', 'T3G', 'T3G', 'T3G', 'T3G', 'T3G', 'T3G', 'T3G', 'T3G', 'T3G', 'T3G', 'T3G', 'T3G', 'T3G', 'T3G', 'T3G', 'T3G', 'T3G', 'T3G', 'T3G', 'T3G', 'T3G', 'T3G', 'T3G', 'T3G', 'T3G', 'T3G', 'T3G', 'T3G', 'T3G', 'T3G', 'T3G', 'T3D', 'T3G', 'T3G', 'T3G', 'T3G', 'T3G', 'T3G', 'T3G', 'T3G', 'T3G', 'T3G', 'T3G', 'T3G', 'T3G', 'T3G', 'T3G', 'T3G', 'T3G', 'T3G', 'T3G', 'T3D', 'T3G', 'T3G', 'T3G', 'T3G', 'T3G', 'T3G', 'T3G', 'T3G', 'T3G', 'T3G', 'T3G', 'T3G', 'T3G', 'T3G', 'T3G', 'T3G', 'T3G', 'T3G', 'T3G', 'T3G', 'T3G', 'T3G', 'T3G', 'T3G', 'T3G', 'T3G', 'T3G', 'T3G', 'T3G', 'T3G', 'T3G', 'T3G', 'T3G', 'T3G', 'T3G', 'T3G', 'T3G', 'T3G', 'T3G', 'T3G', 'T3G', 'T3G', 'T3G', 'T3G', 'T3G', 'T3G', 'T3G', 'T3G', 'T3G', 'T3G', 'T3D', 'T3G', 'T3G', 'T3G', 'T3G', 'T3G', 'T3G', 'T3G', 'T3G', 'T3G', 'T3G', 'T3G', 'T3G', 'T3G', 'T3G', 'T3G', 'T3G', 'T3G', 'T3G', 'T3G', 'T3G', 'T3G', 'T3G', 'T3G', 'T3G', 'T3G', 'T3G', 'T3G', 'T3G', 'T3G', 'T3G', 'T3G', 'T3G', 'T3G', 'T3G', 'T3G', 'T3G', 'T3G', 'T3G', 'T3G', 'T3G', 'T3G', 'T3G', 'T3G', 'T3G', 'T3G', 'T3G', 'T3G', 'T3G', 'T3G', 'T3G', 'T3G', 'T3G', 'T3G', 'T3G', 'T3G', 'T3G', 'T3G', 'T3G', 'T3G', 'T3G', 'T3G', 'T3G', 'T3G', 'T3G', 'T3G', 'T3G', 'T3G', 'T3G', 'T3G', 'T3G', 'T3G', 'T3G', 'T3G', 'T3G', 'T3G', 'T3G', 'T3G', 'T3G', 'T3G', 'T3G', 'T3G', 'T3G', 'T3G', 'T3G', 'T3G', 'T3G', 'T3G', 'T3G', 'T3G', 'T3G', 'T3G', 'T3G', 'T3G', 'T3G', 'T3D', 'T3G', 'T3G', 'T3G', 'T3G', 'T3G', 'T3G', 'T3G', 'T3G', 'T3G', 'T3G', 'T3G', 'T3G', 'T3G', 'T3G', 'T3G', 'T3G', 'T3G', 'T3G', 'T3G', 'T3G', 'T3G', 'T3G', 'T3G', 'T3G', 'T3G', 'T3G', 'T3G', 'T3G', 'T3G', 'T3G', 'T3G', 'T3G', 'T3G', 'T3G', 'T3G', 'T3G', 'T3G', 'T3G', 'T3G', 'T3G', 'T3G', 'T3G', 'T3G', 'T3G', 'T3G', 'T3G', 'T3G', 'T3G', 'T3G', 'T3G', 'T3G', 'T3G', 'T3G', 'T3G', 'T3G', 'T3G', 'T3G', 'T3G', 'T3G', 'T3G', 'T3G', 'T3G', 'T3G', 'T3G', 'T3G', 'T3G', 'T3G', 'T3G', 'T3G', 'T3G', 'T3G', 'T3G', 'T3G', 'T3G', 'T3G', 'T3G', 'T3G', 'T3G', 'T3G', 'T3G', 'T3G', 'T3G', 'T3G', 'T3G', 'T3G', 'T3G', 'T3G', 'T3G', 'T3G', 'T3G', 'T3G', 'T3G', 'T3G', 'T3G', 'T3G', 'T3G', 'T3G', 'T3D', 'T3G', 'T3G', 'T3G', 'T3G', 'T3G', 'T3G', 'T3G', 'T3G', 'T3G', 'T3D', 'T3G', 'T3G', 'T3G', 'T3G', 'T3G', 'T3G', 'T3D', 'T3G', 'T3G', 'T3G', 'T3G', 'T3G', 'T3G', 'T3G', 'T3G', 'T3G', 'T3G', 'T3G', 'T3G', 'T3G', 'T3G', 'T3G', 'T3G', 'T3G', 'T3D', 'T3G', 'T3G', 'T3G', 'T3G', 'T3G', 'T3G', 'T3G', 'T3G', 'T3G', 'T3G', 'T3G', 'T3G', 'T3G', 'T3G', 'T3G', 'T3G', 'T3G', 'T3G', 'T3G', 'T3G', 'T3D', 'T3G', 'T3G', 'T3G', 'T3G', 'T3G', 'T3G', 'T3G', 'T3G', 'T3G', 'T3G', 'T3G', 'T3G', 'T3G', 'T3G', 'T3G', 'T3G', 'T3G', 'T3G', 'T3G', 'T3G', 'T3G', 'T3G', 'T3G', 'T3D', 'T3G', 'T3G', 'T3G', 'T3G', 'T3G', 'T3G', 'T3G', 'T3G', 'T3G', 'T3G', 'T3G', 'T3G', 'T3G', 'T3G', 'T3G', 'T3G', 'T3G', 'T3G', 'T3G', 'T3G', 'T3G', 'T3G', 'T3G', 'T3G', 'T3G', 'T3G', 'T3G', 'T3G', 'T3G', 'T3G', 'T3G', 'T3G', 'T3G', 'T3G', 'T3G', 'T3G', 'T3G', 'T3G', 'T3G', 'T3G', 'T3G', 'T3G', 'T3G', 'T3G', 'T3G', 'T3G', 'T3G', 'T3G', 'T3G', 'T3G', 'T3G', 'T3G', 'T3G', 'T3G', 'T3G', 'T3G', 'T3G', 'T3G', 'T3G', 'T3G', 'T3G', 'T3G', 'T3G', 'T3G', 'T3G', 'T3G', 'T3G', 'T3G', 'T3G', 'T3G', 'T3G', 'T3G', 'T3G', 'T3G', 'T3G', 'T3G', 'T3G', 'T3G', 'T3G', 'T3G', 'T3G', 'T3G', 'T3D', 'T3G', 'T3G', 'T3G', 'T3G', 'T3G', 'T3G', 'T3G', 'T3G', 'T3G', 'T3G', 'T3G', 'T3G', 'T3G', 'T3G', 'T3G', 'T3G', 'T3G', 'T3G', 'T3G', 'T3G', 'T3G', 'T3G', 'T3G', 'T3G', 'T3G', 'T3G', 'T3G', 'T3G', 'T3G', 'T3G', 'T3G', 'T3G', 'T3G', 'T3G', 'T3G', 'T3G', 'T3G', 'T3G', 'T3G', 'T3G', 'T3G', 'T3D', 'T3G', 'T3G', 'T3G', 'T3G', 'T3G', 'T3G', 'T3G', 'T3G', 'T3G', 'T3G', 'T3G', 'T3G', 'T3G', 'T3G', 'T3G', 'T3G', 'T3G', 'T3G', 'T3G', 'T3G', 'T3G', 'T3G', 'T3G', 'T3G', 'T3G', 'T3G', 'T3G', 'T3G', 'T3G', 'T3G', 'T3G', 'T3G', 'T3G', 'T3G', 'T3G', 'T3G', 'T3G', 'T3G', 'T3G', 'T3G', 'T3G', 'T3G', 'T3G', 'T3G', 'T3G', 'T3G', 'T3G', 'T3G', 'T3G', 'T3G', 'T3G', 'T3G', 'T3G', 'T3G', 'T3G', 'T3G', 'T3G', 'T3G', 'T3G', 'T3G', 'T3G', 'T3G', 'T3G', 'T3G', 'T3G', 'T3G', 'T3G', 'T3G', 'T3G', 'T3G', 'T3G', 'T3G', 'T3G', 'T3G', 'T3G', 'T3G', 'T3G', 'T3G', 'T3G', 'T3G', 'T3G', 'T3G', 'T3G', 'T3G', 'T3G', 'T3G', 'T3G', 'T3D', 'T3G', 'T3G', 'T3D', 'T3G', 'T3G', 'T3G', 'T3G', 'T3G', 'T3G', 'T3G', 'T3G', 'T3G', 'T3G', 'T3G', 'T3G', 'T3D', 'T3D', 'T3G', 'T3G', 'T3G', 'T3G', 'T3G', 'T3G', 'T3G', 'T3G', 'T3G', 'T3G', 'T3G', 'T3G', 'T3G', 'T3G', 'T3G', 'T3G', 'T3G', 'T3G', 'T3G', 'T3G', 'T3G', 'T3G', 'T3G', 'T3G', 'T3G', 'T3G', 'T3G', 'T3G', 'T3G', 'T3G', 'T3G', 'T3G', 'T3G', 'T3G', 'T3G', 'T3G', 'T3G', 'T3G', 'T3G', 'T3G', 'T3G', 'T3G', 'T3G', 'T3G', 'T3G', 'T3G', 'T3G', 'T3G', 'T3G', 'T3G', 'T3G', 'T3G', 'T3G', 'T3G', 'T3G', 'T3G', 'T3G', 'T3G', 'T3G', 'T3G', 'T3G', 'T3G', 'T3G', 'T3D', 'T3G', 'T3G', 'T3G', 'T3G', 'T3G', 'T3G', 'T3G', 'T3G', 'T3G', 'T3G', 'T3G', 'T3G', 'T3G', 'T3G', 'T3D', 'T3G', 'T3G', 'T3G', 'T3G', 'T3G', 'T3G', 'T3G', 'T3G', 'T3G', 'T3G', 'T3G', 'T3G', 'T3G', 'T3G', 'T3G', 'T3G', 'T3G', 'T3G', 'T3G', 'T3G', 'T3G', 'T3G', 'T3G', 'T3G', 'T3G', 'T3G', 'T3G', 'T3G', 'T3G', 'T3G', 'T3G', 'T3G', 'T3G', 'T3G', 'T3G', 'T3G', 'T3G', 'T3G', 'T3G', 'T3G', 'T3G', 'T3G', 'T3G', 'T3G', 'T3G', 'T3G', 'T3G', 'T3G', 'T3G', 'T3G', 'T3G', 'T3G', 'T3G', 'T3G', 'T3G', 'T3G', 'T3D', 'T3G', 'T3G', 'T3D', 'T3G', 'T3G', 'T3G', 'T3G', 'T3G', 'T3G', 'T3G', 'T3G', 'T3G', 'T3G', 'T3G', 'T3G', 'T3G', 'T3D', 'T3G', 'T3G', 'T3G', 'T3G', 'T3G', 'T3G', 'T3G', 'T3G', 'T3G', 'T3G', 'T3G', 'T3G', 'T3G', 'T3G', 'T3G', 'T3G', 'T3G', 'T3G', 'T3G', 'T3G', 'T3G', 'T3G', 'T3G', 'T3G', 'T3G', 'T3G', 'T3G', 'T3G', 'T3G', 'T3G', 'T3G', 'T3G', 'T3G', 'T3G', 'T3G', 'T3G', 'T3G', 'T3G', 'T3G', 'T3G', 'T3D', 'T3G', 'T3G', 'T3G', 'T3D', 'T3G', 'T3G', 'T3G', 'T3G', 'T3G', 'T3G', 'T3G', 'T3G', 'T3G', 'T3G', 'T3G', 'T3G', 'T3G', 'T3G', 'T3G', 'T3G', 'T3G', 'T3G', 'T3G', 'T3G', 'T3D', 'T3G', 'T3G', 'T3G', 'T3G', 'T3G', 'T3G', 'T3G', 'T3G', 'T3G', 'T3G', 'T3G', 'T3G', 'T3G', 'T3G', 'T3G', 'T3G', 'T3G', 'T3G', 'T3G', 'T3G', 'T3G', 'T3G', 'T3G', 'T3G', 'T3G', 'T3G', 'T3G', 'T3G', 'T3G', 'T3G', 'T3G', 'T3G', 'T3G', 'T3G', 'T3G', 'T3G', 'T3G', 'T3G', 'T3G', 'T3G', 'T3G', 'T3G', 'T3G', 'T3G', 'T3G', 'T3G', 'T3G', 'T3G', 'T3G', 'T3G', 'T3G', 'T3D', 'T3G', 'T3G', 'T3G', 'T3G', 'T3G', 'T3G', 'T3G', 'T3G', 'T3G', 'T3G', 'T3G', 'T3G', 'T3G', 'T3G', 'T3G', 'T3G', 'T3G', 'T3G', 'T3G', 'T3G', 'T3G', 'T3G', 'T3G', 'T3G', 'T3G', 'T3G', 'T3G', 'T3G', 'T3G', 'T3G', 'T3G', 'T3G', 'T3G', 'T3G', 'T3G', 'T3G', 'T3G', 'T3G', 'T3G', 'T3D', 'T3G', 'T3G', 'T3G', 'T3G', 'T3G', 'T3G', 'T3G', 'T3G', 'T3G', 'T3D', 'T3G', 'T3G', 'T3G', 'T3G', 'T3G', 'T3G', 'T3G', 'T3G', 'T3G', 'T3G', 'T3G', 'T3D', 'T3G', 'T3G', 'T3G', 'T3G', 'T3G', 'T3G', 'T3G', 'T3G', 'T3G', 'T3G', 'T3G', 'T3G', 'T3G', 'T3G', 'T3G', 'T3G', 'T3G', 'T3G', 'T3G', 'T3G', 'T3G', 'T3G', 'T3G', 'T3G', 'T3G', 'T3G', 'T3G', 'T3G', 'T3G', 'T3G', 'T3G', 'T3G', 'T3G', 'T3G', 'T3G', 'T3G', 'T3G', 'T3G', 'T3G', 'T3G', 'T3G', 'T3G', 'T3G', 'T3G', 'T3G', 'T3G', 'T3D', 'T3G', 'T3G', 'T3G', 'T3G', 'T3G', 'T3G', 'T3G', 'T3G', 'T3G', 'T3G', 'T3G', 'T3G', 'T3G', 'T3G', 'T3G', 'T3G', 'T3G', 'T3G', 'T3G', 'T3G', 'T3G', 'T3G', 'T3G', 'T3G', 'T3G', 'T3G', 'T3G', 'T3G', 'T3G', 'T3G', 'T3G', 'T3G', 'T3G', 'T3G', 'T3G', 'T3G', 'T3G', 'T3G', 'T3G', 'T3G', 'T3G', 'T3G', 'T3G', 'T3G', 'T3G', 'T3G', 'T3G', 'T3G', 'T3G', 'T3G', 'T3G', 'T3G', 'T3G', 'T3G', 'T3G', 'T3G', 'T3G', 'T3G', 'T3G', 'T3G', 'T3G', 'T3G', 'T3G', 'T3G', 'T3G', 'T3G', 'T3G', 'T3G', 'T3D', 'T3G', 'T3G', 'T3G', 'T3G', 'T3G', 'T3G', 'T3G', 'T3G', 'T3G', 'T3G', 'T3G', 'T3G', 'T3G', 'T3G', 'T3G', 'T3G', 'T3G', 'T3G', 'T3G', 'T3G', 'T3G', 'T3G', 'T3G', 'T3G', 'T3G', 'T3G', 'T3G', 'T3G', 'T3G', 'T3G', 'T3G', 'T3D', 'T3G', 'T3G', 'T3G', 'T3G', 'T3G', 'T3G', 'T3G', 'T3G', 'T3G', 'T3G', 'T3G', 'T3G', 'T3G', 'T3G', 'T3G', 'T3G', 'T3G', 'T3G', 'T3G', 'T3G', 'T3G', 'T3G', 'T3G', 'T3G', 'T3G', 'T3G', 'T3G', 'T3G', 'T3G', 'T3G', 'T3G', 'T3G', 'T3G', 'T3G', 'T3G', 'T3G', 'T3G', 'T3G', 'T3G', 'T3G', 'T3G', 'T3G', 'T3G', 'T3G', 'T3G', 'T3G', 'T3G', 'T3G', 'T3G', 'T3G', 'T3G', 'T3G', 'T3D', 'T3G', 'T3G', 'T3G', 'T3G', 'T3G', 'T3G', 'T3G', 'T3G', 'T3G', 'T3G', 'T3G', 'T3G', 'T3G', 'T3G', 'T3G', 'T3G', 'T3G', 'T3G', 'T3G', 'T3G', 'T3G', 'T3G', 'T3G', 'T3G', 'T3G', 'T3G', 'T3G', 'T3G', 'T3G', 'T3G', 'T3G', 'T3G', 'T3G', 'T3G', 'T3G', 'T3G', 'T3G', 'T3G', 'T3G', 'T3G', 'T3G', 'T3G', 'T3G', 'T3G', 'T3G', 'T3G', 'T3D', 'T3G', 'T3D', 'T3G', 'T3G', 'T3G', 'T3G', 'T3G', 'T3G', 'T3G', 'T3G', 'T3G', 'T3G', 'T3G', 'T3G', 'T3G', 'T3G', 'T3G', 'T3G', 'T3G', 'T3G', 'T3G', 'T3G', 'T3G', 'T3G', 'T3G', 'T3G', 'T3G', 'T3G', 'T3G', 'T3G', 'T3G', 'T3G', 'T3G', 'T3G', 'T3G', 'T3G', 'T3G', 'T3G', 'T3G', 'T3G', 'T3G', 'T3G', 'T3D', 'T3G', 'T3G', 'T3G', 'T3G', 'T3G', 'T3G', 'T3G', 'T3G', 'T3G', 'T3G', 'T3G', 'T3G', 'T3G', 'T3G', 'T3G', 'T3G', 'T3G', 'T3G', 'T3G', 'T3G', 'T3G', 'T3G', 'T3G', 'T3G', 'T3G', 'T3D', 'T3G', 'T3G', 'T3G', 'T3G', 'T3G', 'T3G', 'T3D', 'T3G', 'T3G', 'T3G', 'T3G', 'T3G', 'T3G', 'T3G', 'T3G', 'T3G', 'T3G', 'T3G', 'T3G', 'T3G', 'T3G', 'T3G', 'T3G', 'T3G', 'T3G', 'T3G', 'T3D', 'T3G', 'T3G', 'T3G', 'T3G', 'T3G', 'T3G', 'T3G', 'T3G', 'T3G', 'T3G', 'T3G', 'T3G', 'T3G', 'T3G', 'T3G', 'T3G', 'T3G', 'T3D', 'T3G', 'T3G', 'T3G', 'T3G', 'T3G', 'T3G', 'T3G', 'T3G', 'T3G', 'T3D', 'T3G', 'T3G', 'T3G', 'T3G', 'T3G', 'T3G', 'T3G', 'T3G', 'T3G', 'T3G', 'T3G', 'T3G', 'T3G', 'T3G', 'T3G', 'T3G', 'T3G', 'T3G', 'T3G', 'T3G', 'T3G', 'T3G', 'T3G', 'T3G', 'T3G', 'T3G', 'T3G', 'T3G', 'T3G', 'T3G', 'T3G', 'T3G', 'T3G', 'T3G', 'T3G', 'T3G', 'T3G', 'T3G', 'T3G', 'T3G', 'T3G', 'T3G', 'T3G', 'T3G', 'T3G', 'T3G', 'T3G', 'T3G', 'T3G', 'T3G', 'T3G', 'T3G', 'T3G', 'T3G', 'T3D', 'T3G', 'T3G', 'T3G', 'T3G', 'T3G', 'T3G', 'T3G', 'T3G', 'T3G', 'T3G', 'T3G', 'T3G', 'T3G', 'T3G', 'T3G', 'T3G', 'T3G', 'T3G', 'T3G', 'T3G', 'T3G', 'T3G', 'T3G', 'T3G', 'T3D', 'T3G', 'T3G', 'T3G', 'T3G', 'T3G', 'T3G', 'T3G', 'T3G', 'T3G', 'T3G', 'T3G', 'T3G', 'T3G', 'T3G', 'T3G', 'T3D', 'T3G', 'T3G', 'T3G', 'T3G', 'T3G', 'T3G', 'T3G', 'T3G', 'T3G', 'T3G', 'T3G', 'T3G', 'T3G', 'T3G', 'T3G', 'T3G', 'T3G', 'T3G', 'T3G', 'T3G', 'T3G', 'T3G', 'T3G', 'T3G', 'T3G', 'T3G', 'T3G', 'T3G', 'T3G', 'T3G', 'T3G', 'T3G', 'T3G', 'T3G', 'T3G', 'T3G', 'T3G', 'T3G', 'T3G', 'T3G', 'T3G', 'T3G', 'T3G', 'T3G', 'T3G', 'T3G', 'T3G', 'T3G', 'T3G', 'T3G', 'T3G', 'T3G', 'T3G', 'T3G', 'T3G', 'T3G', 'T3G', 'T3G', 'T3G', 'T3G', 'T3G', 'T3G', 'T3G', 'T3G', 'T3G', 'T3G', 'T3G', 'T3G', 'T3G', 'T3G', 'T3G', 'T3G', 'T3G', 'T3G', 'T3G', 'T3G', 'T3G', 'T3G', 'T3G', 'T3G', 'T3G', 'T3G', 'T3G', 'T3G', 'T3G', 'T3G', 'T3G', 'T3G', 'T3G', 'T3G', 'T3D', 'T3G', 'T3G', 'T3G', 'T3G', 'T3G', 'T3G', 'T3G', 'T3G', 'T3G', 'T3G', 'T3G', 'T3G', 'T3G', 'T3G', 'T3G', 'T3G', 'T3G', 'T3G', 'T3G', 'T3G', 'T3G', 'T3G', 'T3G', 'T3G', 'T3G', 'T3G', 'T3G', 'T3G', 'T3G', 'T3G', 'T3G', 'T3G', 'T3G', 'T3G', 'T3G', 'T3D', 'T3G', 'T3D', 'T3G', 'T3G', 'T3G', 'T3G', 'T3G', 'T3G', 'T3G', 'T3G', 'T3G', 'T3G', 'T3G', 'T3G', 'T3G', 'T3G', 'T3G', 'T3G', 'T3G', 'T3G', 'T3G', 'T3G', 'T3G', 'T3G', 'T3G', 'T3G', 'T3G', 'T3G', 'T3G', 'T3G', 'T3G', 'T3G', 'T3G', 'T3G', 'T3G', 'T3G', 'T3G', 'T3G', 'T3G', 'T3G', 'T3G', 'T3G', 'T3G', 'T3G', 'T3G', 'T3G', 'T3G', 'T3G', 'T3G', 'T3G', 'T3D', 'T3G', 'T3G', 'T3G', 'T3G', 'T3G', 'T3G', 'T3G', 'T3G', 'T3G', 'T3G', 'T3G', 'T3G', 'T3G', 'T3G', 'T3G', 'T3G', 'T3G', 'T3G', 'T3G', 'T3G', 'T3G', 'T3G', 'T3G', 'T3G', 'T3G', 'T3G', 'T3G', 'T3G', 'T3G', 'T3G', 'T3G', 'T3G', 'T3G', 'T3G', 'T3G', 'T3G', 'T3G', 'T3G', 'T3G', 'T3G', 'T3G', 'T3G', 'T3G', 'T3G', 'T3G', 'T3G', 'T3G', 'T3G', 'T3G', 'T3G', 'T3G', 'T3G', 'T3G', 'T3G', 'T3G', 'T3G', 'T3G', 'T3G', 'T3G', 'T3G', 'T3G', 'T3G', 'T3G', 'T3G', 'T3G', 'T3G', 'T3G', 'T3G', 'T3G', 'T3G', 'T3G', 'T3G', 'T3G', 'T3G', 'T3G', 'T3G', 'T3G', 'T3G', 'T3G', 'T3G', 'T3G', 'T3G', 'T3G', 'T3G', 'T3G', 'T3G', 'T3G', 'T3G', 'T3G', 'T3G', 'T3G', 'T3G', 'T3G', 'T3G', 'T3G', 'T3G', 'T3G', 'T3G', 'T3G', 'T3G', 'T3G', 'T3G', 'T3G', 'T3G', 'T3G', 'T3G', 'T3G', 'T3G', 'T3G', 'T3G', 'T3G', 'T3G', 'T3G', 'T3G', 'T3G', 'T3G', 'T3G', 'T3G', 'T3G', 'T3G', 'T3G', 'T3G', 'T3G', 'T3G', 'T3G', 'T3G', 'T3G', 'T3G', 'T3G', 'T3G', 'T3G', 'T3G', 'T3G', 'T3G', 'T3G', 'T3G', 'T3G', 'T3G', 'T3G', 'T3G', 'T3G', 'T3G', 'T3G', 'T3G', 'T3G', 'T3G', 'T3G', 'T3G', 'T3G', 'T3G', 'T3G', 'T3G', 'T3G', 'T3G', 'T3G', 'T3G', 'T3G', 'T3G', 'T3G', 'T3G', 'T3G', 'T3G', 'T3G', 'T3G', 'T3G', 'T3G', 'T3G', 'T3G', 'T3G', 'T3G', 'T3G', 'T3G', 'T3G', 'T3G', 'T3G', 'T3D', 'T3G', 'T3G', 'T3G', 'T3G', 'T3G', 'T3G', 'T3G', 'T3G', 'T3G', 'T3D', 'T3G', 'T3G', 'T3G', 'T3G', 'T3G', 'T3G', 'T3G', 'T3G', 'T3G', 'T3G', 'T3G', 'T3G', 'T3G', 'T3G', 'T3G', 'T3G', 'T3D', 'T3G', 'T3G', 'T3G', 'T3G', 'T3G', 'T3G', 'T3G', 'T3G', 'T3G', 'T3G', 'T3G', 'T3G', 'T3G', 'T3G', 'T3G', 'T3G', 'T3G', 'T3G', 'T3G', 'T3G', 'T3G', 'T3G', 'T3G', 'T3G', 'T3G', 'T3G', 'T3G', 'T3G', 'T3G', 'T3D', 'T3G', 'T3G', 'T3G', 'T3G', 'T3G', 'T3G', 'T3G', 'T3G', 'T3G', 'T3G', 'T3G', 'T3G', 'T3G', 'T3G', 'T3G', 'T3G', 'T3G', 'T3G', 'T3G', 'T3G', 'T3G', 'T3G', 'T3G', 'T3G', 'T3G', 'T3G', 'T3G', 'T3G', 'T3G', 'T3G', 'T3G', 'T3G', 'T3G', 'T3G', 'T3G', 'T3G', 'T3G', 'T3G', 'T3G', 'T3G', 'T3G', 'T3G', 'T3G', 'T3G', 'T3G', 'T3G', 'T3G', 'T3G', 'T3G', 'T3G', 'T3G', 'T3D', 'T3G', 'T3G', 'T3G', 'T3G', 'T3G', 'T3G', 'T3G', 'T3G', 'T3G', 'T3G', 'T3G', 'T3G', 'T3G', 'T3G', 'T3G', 'T3G', 'T3D', 'T3G', 'T3G', 'T3G', 'T3G', 'T3G', 'T3G', 'T3G', 'T3G', 'T3G', 'T3G', 'T3G', 'T3G', 'T3D', 'T3G', 'T3G', 'T3G', 'T3G', 'T3G', 'T3G', 'T3G', 'T3G', 'T3G', 'T3G', 'T3G', 'T3G', 'T3G', 'T3G', 'T3G', 'T3G', 'T3G', 'T3G', 'T3G', 'T3G', 'T3G', 'T3G', 'T3G', 'T3G', 'T3G', 'T3G', 'T3G', 'T3G', 'T3G', 'T3G', 'T3G', 'T3G', 'T3G', 'T3G', 'T3G', 'T3G', 'T3G', 'T3G', 'T3G', 'T3G', 'T3G', 'T3G', 'T3G', 'T3G', 'T3G', 'T3G', 'T3G', 'T3G', 'T3G', 'T3G', 'T3G', 'T3G', 'T3G', 'T3G', 'T3G', 'T3G', 'T3G', 'T3G', 'T3G', 'T3G', 'T3G', 'T3G', 'T3G', 'T3G', 'T3G', 'T3G', 'T3G', 'T3G', 'T3G', 'T3G', 'T3G', 'T3G', 'T3G', 'T3G', 'T3G', 'T3G', 'T3G', 'T3D', 'T3G', 'T3G', 'T3G', 'T3G', 'T3G', 'T3G', 'T3G', 'T3G', 'T3G', 'T3G', 'T3G', 'T3G', 'T3G', 'T3G', 'T3G', 'T3G', 'T3G', 'T3G', 'T3G', 'T3G', 'T3G', 'T3G', 'T3G', 'T3G', 'T3G', 'T3G', 'T3G', 'T3G', 'T3G', 'T3G', 'T3G', 'T3G', 'T3G', 'T3G', 'T3G', 'T3G', 'T3G', 'T3G', 'T3G', 'T3G', 'T3G', 'T3G', 'T3G', 'T3G', 'T3G', 'T3G', 'T3G', 'T3G', 'T3G', 'T3G', 'T3G', 'T3G', 'T3G', 'T3G', 'T3G', 'T3G', 'T3G', 'T3G', 'T3G', 'T3G', 'T3G', 'T3G', 'T3G', 'T3G', 'T3G', 'T3G', 'T3G', 'T3G', 'T3G', 'T3G', 'T3G', 'T3G', 'T3G', 'T3D', 'T3G', 'T3G', 'T3G', 'T3G', 'T3G', 'T3G', 'T3G', 'T3G', 'T3G', 'T3G', 'T3G', 'T3G', 'T3G', 'T3G', 'T3G', 'T3G', 'T3G', 'T3G', 'T3G', 'T3D', 'T3G', 'T3G', 'T3G', 'T3G', 'T3D', 'T3G', 'T3G', 'T3G', 'T3G', 'T3G', 'T3G', 'T3G', 'T3G', 'T3G', 'T3G', 'T3G', 'T3G', 'T3G', 'T3G', 'T3G', 'T3G', 'T3G', 'T3G', 'T3G', 'T3G', 'T3G', 'T3G', 'T3G', 'T3G', 'T3G', 'T3G', 'T3G', 'T3G', 'T3G', 'T3G', 'T3G', 'T3G', 'T3G', 'T3G', 'T3G', 'T3G', 'T3G', 'T3G', 'T3G', 'T3G', 'T3G', 'T3G', 'T3G', 'T3G', 'T3G', 'T3G', 'T3G', 'T3G', 'T3G', 'T3G', 'T3G', 'T3D', 'T3G', 'T3D', 'T3G', 'T3G', 'T3G', 'T3G', 'T3G', 'T3G', 'T3G', 'T3G', 'T3G', 'T3G', 'T3G', 'T3G', 'T3G', 'T3G', 'T3G', 'T3G', 'T3D', 'T3G', 'T3G', 'T3G', 'T3G', 'T3G', 'T3D', 'T3G', 'T3G', 'T3G', 'T3G', 'T3G', 'T3G', 'T3G', 'T3G', 'T3G', 'T3G', 'T3G', 'T3G', 'T3D', 'T3G', 'T3G', 'T3G', 'T3G', 'T3G', 'T3G', 'T3G', 'T3G', 'T3G', 'T3G', 'T3G', 'T3G', 'T3G', 'T3G', 'T3G', 'T3G', 'T3G', 'T3G', 'T3G', 'T3G', 'T3G', 'T3G', 'T3G', 'T3G', 'T3G', 'T3G', 'T3G', 'T3D', 'T3G', 'T3G', 'T3G', 'T3G', 'T3G', 'T3G', 'T3G', 'T3G', 'T3G', 'T3G', 'T3G', 'T3G', 'T3G', 'T3G', 'T3G', 'T3G', 'T3G', 'T3G', 'T3G', 'T3G', 'T3G', 'T3G', 'T3G', 'T3G', 'T3G', 'T3G', 'T3G', 'T3G', 'T3G', 'T3G', 'T3G', 'T3D', 'T3G', 'T3G', 'T3G', 'T3G', 'T3G', 'T3G', 'T3G', 'T3G', 'T3G', 'T3G', 'T3G', 'T3G', 'T3G', 'T3G', 'T3G', 'T3G', 'T3G', 'T3G', 'T3G', 'T3G', 'T3G', 'T3G', 'T3G', 'T3G', 'T3G', 'T3G', 'T3G', 'T3G', 'T3G', 'T3G', 'T3G', 'T3D', 'T3D', 'T3G', 'T3G', 'T3G', 'T3G', 'T3G', 'T3G', 'T3G', 'T3G', 'T3G', 'T3G', 'T3G', 'T3G', 'T3G', 'T3G', 'T3G', 'T3G', 'T3G', 'T3G', 'T3G', 'T3G', 'T3G', 'T3G', 'T3G', 'T3G', 'T3G', 'T3G', 'T3G', 'T3G', 'T3G', 'T3G', 'T3G', 'T3G', 'T3G', 'T3G', 'T3G', 'T3G', 'T3G', 'T3G', 'T3G', 'T3G', 'T3G', 'T3G', 'T3G', 'T3G', 'T3G', 'T3G', 'T3G', 'T3G', 'T3G', 'T3G', 'T3G', 'T3G', 'T3G', 'T3G', 'T3G', 'T3G', 'T3G', 'T3G', 'T3G', 'T3G', 'T3G', 'T3G', 'T3G', 'T3G', 'T3G', 'T3G', 'T3G', 'T3G', 'T3G', 'T3G', 'T3G', 'T3G', 'T3G', 'T3G', 'T3G', 'T3G', 'T3G', 'T3G', 'T3D', 'T3G', 'T3G', 'T3G', 'T3G', 'T3G', 'T3G', 'T3G', 'T3G', 'T3G', 'T3G', 'T3G', 'T3G', 'T3G', 'T3G', 'T3G', 'T3G', 'T3G', 'T3G', 'T3G', 'T3G', 'T3G', 'T3G', 'T3G', 'T3G', 'T3G', 'T3G', 'T3G', 'T3G', 'T3G', 'T3G', 'T3G', 'T3G', 'T3G', 'T3G', 'T3G', 'T3G', 'T3G', 'T3G', 'T3G', 'T3G', 'T3G', 'T3G', 'T3G', 'T3G', 'T3G', 'T3G', 'T3G', 'T3G', 'T3G', 'T3G', 'T3G', 'T3G', 'T3G', 'T3G', 'T3G', 'T3G', 'T3G', 'T3G', 'T3G', 'T3G', 'T3G', 'T3G', 'T3G', 'T3G', 'T3G', 'T3G', 'T3D', 'T3G', 'T3G', 'T3G', 'T3G', 'T3G', 'T3G', 'T3G', 'T3G', 'T3G', 'T3G', 'T3G', 'T3G', 'T3G', 'T3G', 'T3G', 'T3G', 'T3G', 'T3G', 'T3G', 'T3G', 'T3G', 'T3G', 'T3G', 'T3G', 'T3G', 'T3G', 'T3G', 'T3G', 'T3G', 'T3G', 'T3G', 'T3G', 'T3G', 'T3G', 'T3G', 'T3G', 'T3G', 'T3G', 'T3G', 'T3G', 'T3G', 'T3G', 'T3G', 'T3G', 'T3G', 'T3G', 'T3G', 'T3G', 'T3G', 'T3G', 'T3G', 'T3G', 'T3G', 'T3G', 'T3G', 'T3G', 'T3G', 'T3G', 'T3G', 'T3G', 'T3G', 'T3G', 'T3G', 'T3G', 'T3G', 'T3G', 'T3G', 'T3G', 'T3G', 'T3G', 'T3G', 'T3G', 'T3G', 'T3G', 'T3G', 'T3G', 'T3G', 'T3G', 'T3G', 'T3G', 'T3G', 'T3G', 'T3G', 'T3G', 'T3G', 'T3G', 'T3G', 'T3G', 'T3G', 'T3G', 'T3G', 'T3G', 'T3D', 'T3G', 'T3G', 'T3G', 'T3G', 'T3G', 'T3G', 'T3G', 'T3G', 'T3G', 'T3G', 'T3G', 'T3G', 'T3G', 'T3G', 'T3G', 'T3G', 'T3G', 'T3G', 'T3G', 'T3G', 'T3G', 'T3G', 'T3G', 'T3G', 'T3G', 'T3G', 'T3D', 'T3G', 'T3G', 'T3G', 'T3G', 'T3G', 'T3G', 'T3G', 'T3G', 'T3G', 'T3G', 'T3G', 'T3G', 'T3G', 'T3G', 'T3G', 'T3G', 'T3G', 'T3D', 'T3G', 'T3G', 'T3G', 'T3G', 'T3G', 'T3G', 'T3G', 'T3G', 'T3G', 'T3G', 'T3G', 'T3G', 'T3G', 'T3G', 'T3G', 'T3G', 'T3G', 'T3G', 'T3G', 'T3G', 'T3G', 'T3G', 'T3G', 'T3G', 'T3G', 'T3G', 'T3G', 'T3G', 'T3G', 'T3G', 'T3G', 'T3G', 'T3G', 'T3G', 'T3G', 'T3G', 'T3G', 'T3G', 'T3G', 'T3G', 'T3G', 'T3G', 'T3G', 'T3G', 'T3G', 'T3G', 'T3G', 'T3G', 'T3G', 'T3G', 'T3G', 'T3G', 'T3G', 'T3G', 'T3G', 'T3G', 'T3G', 'T3G', 'T3G', 'T3G', 'T3G', 'T3G', 'T3G', 'T3G', 'T3G', 'T3G', 'T3G', 'T3G', 'T3G', 'T3G', 'T3G', 'T3G', 'T3G', 'T3G', 'T3G', 'T3G', 'T3G', 'T3G', 'T3G', 'T3G', 'T3D', 'T3G', 'T3G', 'T3G', 'T3G', 'T3G', 'T3G', 'T3G', 'T3G', 'T3G', 'T3G', 'T3G', 'T3G', 'T3G', 'T3G', 'T3G', 'T3G', 'T3G', 'T3G', 'T3G', 'T3G', 'T3G', 'T3G', 'T3G', 'T3G', 'T3G', 'T3G', 'T3G', 'T3G', 'T3G', 'T3G', 'T3G', 'T3G', 'T3G', 'T3G', 'T3G', 'T3G', 'T3G', 'T3G', 'T3G', 'T3G', 'T3G', 'T3G', 'T3G', 'T3G', 'T3G', 'T3G', 'T3G', 'T3D', 'T3G', 'T3G', 'T3G', 'T3G', 'T3G', 'T3G', 'T3G', 'T3G', 'T3G', 'T3G', 'T3G', 'T3G', 'T3G', 'T3G', 'T3G', 'T3G', 'T3G', 'T3G', 'T3G', 'T3G', 'T3G', 'T3G', 'T3G', 'T3G', 'T3G', 'T3G', 'T3G', 'T3G', 'T3G', 'T3G', 'T3G', 'T3G', 'T3G', 'T3G', 'T3G', 'T3G', 'T3G', 'T3G', 'T3G', 'T3G', 'T3G', 'T3G', 'T3G', 'T3G', 'T3G', 'T3G', 'T3G', 'T3G', 'T3G', 'T3G', 'T3G', 'T3G', 'T3G', 'T3G', 'T3G', 'T3G', 'T3G', 'T3G', 'T3G', 'T3G', 'T3G', 'T3G', 'T3G', 'T3G', 'T3G', 'T3G', 'T3G', 'T3G', 'T3G', 'T3G', 'T3G', 'T3G', 'T3G', 'T3G', 'T3G', 'T3G', 'T3G', 'T3G', 'T3G', 'T3G', 'T3G', 'T3G', 'T3G', 'T3G', 'T3G', 'T3G', 'T3G', 'T3G', 'T3G', 'T3G', 'T3G', 'T3G', 'T3G', 'T3G', 'T3G', 'T3G', 'T3G', 'T3G', 'T3G', 'T3G', 'T3G', 'T3G', 'T3G', 'T3G', 'T3G', 'T3G', 'T3G', 'T3G', 'T3G', 'T3G', 'T3D', 'T3G', 'T3G', 'T3G', 'T3G', 'T3G', 'T3G', 'T3G', 'T3G', 'T3G', 'T3G', 'T3G', 'T3G', 'T3G', 'T3G', 'T3G', 'T3G', 'T3G', 'T3G', 'T3G', 'T3G', 'T3G', 'T3G', 'T3G', 'T3G', 'T3G', 'T3G', 'T3G', 'T3G', 'T3G', 'T3G', 'T3G', 'T3G', 'T3G', 'T3G', 'T3G', 'T3G', 'T3G', 'T3G', 'T3G', 'T3G', 'T3G', 'T3G', 'T3G', 'T3G', 'T3G', 'T3G', 'T3G', 'T3G', 'T3G', 'T3G', 'T3G', 'T3G', 'T3G', 'T3D', 'T3G', 'T3G', 'T3G', 'T3G', 'T3G', 'T3G', 'T3G', 'T3G', 'T3G', 'T3G', 'T3G', 'T3G', 'T3G', 'T3G', 'T3G', 'T3G', 'T3G', 'T3G', 'T3G', 'T3G', 'T3G', 'T3G', 'T3G', 'T3G', 'T3G', 'T3G', 'T3G', 'T3G', 'T3G', 'T3G', 'T3G', 'T3G', 'T3D', 'T3G', 'T3D', 'T3G', 'T3G', 'T3G', 'T3G', 'T3G', 'T3G', 'T3G', 'T3G', 'T3G', 'T3G', 'T3G', 'T3G', 'T3G', 'T3D', 'T3G', 'T3G', 'T3G', 'T3G', 'T3G', 'T3D', 'T3G', 'T3G', 'T3G', 'T3G', 'T3G', 'T3G', 'T3G', 'T3G', 'T3G', 'T3G', 'T3G', 'T3G', 'T3G', 'T3G', 'T3G', 'T3G', 'T3G', 'T3G', 'T3G', 'T3G', 'T3G', 'T3D', 'T3G', 'T3G', 'T3G', 'T3G', 'T3G', 'T3G', 'T3G', 'T3G', 'T3G', 'T3G', 'T3D', 'T3G', 'T3G', 'T3G', 'T3G', 'T3G', 'T3G', 'T3G', 'T3G', 'T3G', 'T3G', 'T3G', 'T3G', 'T3G', 'T3G', 'T3G', 'T3G', 'T3G', 'T3G', 'T3G', 'T3G', 'T3G', 'T3G', 'T3G', 'T3G', 'T3G', 'T3G', 'T3D', 'T3G', 'T3G', 'T3G', 'T3G', 'T3G', 'T3G', 'T3G', 'T3G', 'T3G', 'T3G', 'T3G', 'T3G', 'T3G', 'T3G', 'T3G', 'T3G', 'T3G', 'T3G', 'T3G', 'T3G', 'T3G', 'T3G', 'T3G', 'T3G', 'T3G', 'T3D', 'T3G', 'T3G', 'T3G', 'T3G', 'T3G', 'T3G', 'T3G', 'T3G', 'T3G', 'T3G', 'T3G', 'T3D', 'T3G', 'T3G', 'T3G', 'T3G', 'T3G', 'T3G', 'T3G', 'T3G', 'T3G', 'T3G', 'T3G', 'T3G', 'T3G', 'T3G', 'T3G', 'T3G', 'T3G', 'T3G', 'T3G', 'T3G', 'T3G', 'T3G', 'T3G', 'T3G', 'T3G', 'T3G', 'T3G', 'T3G', 'T3G', 'T3G', 'T3G', 'T3G', 'T3G', 'T3G', 'T3G', 'T3G', 'T3G', 'T3G', 'T3G', 'T3D', 'T3G', 'T3G', 'T3G', 'T3D', 'T3G', 'T3G', 'T3G', 'T3G', 'T3G', 'T3G', 'T3G', 'T3G', 'T3G', 'T3G', 'T3G', 'T3G', 'T3G', 'T3G', 'T3G', 'T3G', 'T3G', 'T3G', 'T3G', 'T3G', 'T3G', 'T3G', 'T3G', 'T3G', 'T3G', 'T3G', 'T3G', 'T3G', 'T3G', 'T3D', 'T3G', 'T3G', 'T3G', 'T3G', 'T3G', 'T3G', 'T3G', 'T3G', 'T3G', 'T3G', 'T3G', 'T3G', 'T3G', 'T3G', 'T3G', 'T3G', 'T3G', 'T3G', 'T3G', 'T3G', 'T3G', 'T3G', 'T3G', 'T3G', 'T3G', 'T3G', 'T3G', 'T3G', 'T3G', 'T3G', 'T3G', 'T3G', 'T3G', 'T3G', 'T3G', 'T3G', 'T3G', 'T3G', 'T3G', 'T3G', 'T3G', 'T3G', 'T3G', 'T3G', 'T3G', 'T3G', 'T3G', 'T3G', 'T3D', 'T3G', 'T3G', 'T3G', 'T3G', 'T3G', 'T3G', 'T3G', 'T3G', 'T3G', 'T3G', 'T3G', 'T3G', 'T3G', 'T3G', 'T3G', 'T3G', 'T3G', 'T3G', 'T3G', 'T3G', 'T3G', 'T3G', 'T3D', 'T3G', 'T3G', 'T3G', 'T3G', 'T3G', 'T3G', 'T3G', 'T3G', 'T3G', 'T3G', 'T3G', 'T3G', 'T3G', 'T3G', 'T3G', 'T3G', 'T3G', 'T3G', 'T3G', 'T3G', 'T3G', 'T3G', 'T3G', 'T3G', 'T3G', 'T3G', 'T3G', 'T3G', 'T3G', 'T3G', 'T3G', 'T3G', 'T3G', 'T3G', 'T3D', 'T3G', 'T3G', 'T3G', 'T3G', 'T3G', 'T3G', 'T3G', 'T3G', 'T3G', 'T3G', 'T3G', 'T3G', 'T3G', 'T3G', 'T3G', 'T3G', 'T3G', 'T3G', 'T3G', 'T3G', 'T3G', 'T3G', 'T3G', 'T3G', 'T3G', 'T3G', 'T3G', 'T3G', 'T3G', 'T3G', 'T3G', 'T3G', 'T3G', 'T3G', 'T3G', 'T3G', 'T3G', 'T3G', 'T3G', 'T3G', 'T3G', 'T3G', 'T3G', 'T3G', 'T3G', 'T3G', 'T3G', 'T3G', 'T3G', 'T3G', 'T3G', 'T3G', 'T3G', 'T3G', 'T3G', 'T3G', 'T3G', 'T3G', 'T3G', 'T3G', 'T3G', 'T3G', 'T3G', 'T3G', 'T3G', 'T3G', 'T3G', 'T3G', 'T3G', 'T3G', 'T3G', 'T3G', 'T3G', 'T3G', 'T3G', 'T3G', 'T3G', 'T3G', 'T3G', 'T3G', 'T3G', 'T3G', 'T3G', 'T3D', 'T3G', 'T3G', 'T3G', 'T3G', 'T3G', 'T3G', 'T3G', 'T3G', 'T3G', 'T3G', 'T3G', 'T3G', 'T3G', 'T3G', 'T3G', 'T3G', 'T3G', 'T3G', 'T3G', 'T3G', 'T3G', 'T3G', 'T3G', 'T3G', 'T3G', 'T3G', 'T3G', 'T3G', 'T3G', 'T3G', 'T3G', 'T3G', 'T3D', 'T3G', 'T3G', 'T3G', 'T3G', 'T3G', 'T3G', 'T3G', 'T3G', 'T3G', 'T3G', 'T3G', 'T3G', 'T3G', 'T3G', 'T3G', 'T3G', 'T3G', 'T3G', 'T3G', 'T3G', 'T3G', 'T3G', 'T3G', 'T3G', 'T3G', 'T3G', 'T3G', 'T3G', 'T3G', 'T3G', 'T3G', 'T3G', 'T3G', 'T3G', 'T3G', 'T3G', 'T3G', 'T3G', 'T3G', 'T3G', 'T3G', 'T3G', 'T3G', 'T3G', 'T3G', 'T3G', 'T3G', 'T3G', 'T3G', 'T3G', 'T3G', 'T3G', 'T3G', 'T3G', 'T3G', 'T3G', 'T3G', 'T3G', 'T3G', 'T3G', 'T3G', 'T3G', 'T3G', 'T3G', 'T3G', 'T3G', 'T3G', 'T3G', 'T3G', 'T3G', 'T3D', 'T3G', 'T3G', 'T3G', 'T3G', 'T3G', 'T3G', 'T3G', 'T3G', 'T3G', 'T3G', 'T3G', 'T3G', 'T3G', 'T3G', 'T3G', 'T3G', 'T3G', 'T3G', 'T3G', 'T3G', 'T3G', 'T3G', 'T3G', 'T3G', 'T3G', 'T3G', 'T3G', 'T3G', 'T3G', 'T3G', 'T3G', 'T3D', 'T3G', 'T3G', 'T3G', 'T3G', 'T3G', 'T3G', 'T3G', 'T3G', 'T3G', 'T3G', 'T3G', 'T3G', 'T3D', 'T3G', 'T3G', 'T3G', 'T3G', 'T3G', 'T3G', 'T3G', 'T3G', 'T3G', 'T3G', 'T3G', 'T3G', 'T3G', 'T3G', 'T3G', 'T3G', 'T3G', 'T3G', 'T3G', 'T3G', 'T3G', 'T3G', 'T3G', 'T3G', 'T3G', 'T3G', 'T3G', 'T3G', 'T3G', 'T3G', 'T3G', 'T3G', 'T3G', 'T3G', 'T3G', 'T3G', 'T3G', 'T3G', 'T3G', 'T3G', 'T3G', 'T3G', 'T3G', 'T3D', 'T3G', 'T3G', 'T3G', 'T3G', 'T3G', 'T3G', 'T3G', 'T3G', 'T3G', 'T3G', 'T3G', 'T3G', 'T3G', 'T3G', 'T3G', 'T3G', 'T3G', 'T3G', 'T3G', 'T3G', 'T3D', 'T3G', 'T3G', 'T3G', 'T3G', 'T3G', 'T3G', 'T3G', 'T3G', 'T3G', 'T3D', 'T3G', 'T3G', 'T3G', 'T3G', 'T3G', 'T3G', 'T3G', 'T3G', 'T3G', 'T3G', 'T3G', 'T3G', 'T3G', 'T3G', 'T3G', 'T3G', 'T3G', 'T3G', 'T3G', 'T3G', 'T3G', 'T3G', 'T3G', 'T3G', 'T3G', 'T3G', 'T3G', 'T3G', 'T3G', 'T3G', 'T3G', 'T3G', 'T3G', 'T3G', 'T3G', 'T3G', 'T3G', 'T3G', 'T3G', 'T3G', 'T3G', 'T3G', 'T3G', 'T3G', 'T3G', 'T3G', 'T3G', 'T3G', 'T3G', 'T3G', 'T3G', 'T3G', 'T3G', 'T3G', 'T3G', 'T3G', 'T3G', 'T3G', 'T3G', 'T3G', 'T3G', 'T3G', 'T3G', 'T3G', 'T3G', 'T3G', 'T3G', 'T3G', 'T3G', 'T3G', 'T3G', 'T3G', 'T3G', 'T3G', 'T3G', 'T3G', 'T3G', 'T3G', 'T3G', 'T3G', 'T3G', 'T3G', 'T3G', 'T3G', 'T3G', 'T3G', 'T3G', 'T3G', 'T3G', 'T3G', 'T3G', 'T3G', 'T3G', 'T3G', 'T3G', 'T3G', 'T3G', 'T3G', 'T3G', 'T3G', 'T3G', 'T3G', 'T3G', 'T3G', 'T3G', 'T3G', 'T3G', 'T3G', 'T3G', 'T3G', 'T3G', 'T3G', 'T3G', 'T3G', 'T3G', 'T3G', 'T3G', 'T3G', 'T3G', 'T3G', 'T3G', 'T3G', 'T3G', 'T3G', 'T3G', 'T3G', 'T3G', 'T3G', 'T3G', 'T3G', 'T3G', 'T3G', 'T3G', 'T3G', 'T3G', 'T3G', 'T3G', 'T3G', 'T3G', 'T3G', 'T3G', 'T3G', 'T3G', 'T3G', 'T3G', 'T3G', 'T3G', 'T3G', 'T3G', 'T3G', 'T3G', 'T3G', 'T3G', 'T3G', 'T3G', 'T3G', 'T3G', 'T3G', 'T3G', 'T3G', 'T3G', 'T3G', 'T3G', 'T3G', 'T3G', 'T3D', 'T3G', 'T3G', 'T3G', 'T3G', 'T3G', 'T3G', 'T3G', 'T3G', 'T3G', 'T3G', 'T3G', 'T3G', 'T3D', 'T3G', 'T3G', 'T3G', 'T3G', 'T3G', 'T3G', 'T3G', 'T3G', 'T3G', 'T3G', 'T3G', 'T3G', 'T3G', 'T3G', 'T3G', 'T3G', 'T3G', 'T3G', 'T3G', 'T3G', 'T3G', 'T3G', 'T3G', 'T3G', 'T3G', 'T3G', 'T3G', 'T3G', 'T3G', 'T3G', 'T3G', 'T3G', 'T3G', 'T3G', 'T3G', 'T3G', 'T3G', 'T3G', 'T3G', 'T3G', 'T3G', 'T3G', 'T3G', 'T3G', 'T3G', 'T3G', 'T3G', 'T3G', 'T3G', 'T3G', 'T3G', 'T3G', 'T3G', 'T3G', 'T3G', 'T3G', 'T3G', 'T3G', 'T3G', 'T3G', 'T3G', 'T3G', 'T3G', 'T3G', 'T3G', 'T3G', 'T3G', 'T3G', 'T3G', 'T3G', 'T3G', 'T3G', 'T3G', 'T3G', 'T3G', 'T3G', 'T3G', 'T3G', 'T3G', 'T3G', 'T3G', 'T3G', 'T3G', 'T3G', 'T3G', 'T3G', 'T3G', 'T3G', 'T3D', 'T3G', 'T3G', 'T3G', 'T3G', 'T3G', 'T3G', 'T3G', 'T3G', 'T3G', 'T3G', 'T3G', 'T3G', 'T3G', 'T3G', 'T3G', 'T3D', 'T3G', 'T3G', 'T3G', 'T3G', 'T3G', 'T3G', 'T3G', 'T3G', 'T3G', 'T3G', 'T3G', 'T3G', 'T3G', 'T3G', 'T3G', 'T3G', 'T3G', 'T3G', 'T3G', 'T3G', 'T3G', 'T3G', 'T3G', 'T3G', 'T3G', 'T3G', 'T3G', 'T3G', 'T3G', 'T3G', 'T3G', 'T3G', 'T3G', 'T3G', 'T3G', 'T3G', 'T3G', 'T3G', 'T3G', 'T3G', 'T3G', 'T3G', 'T3G', 'T3G', 'T3G', 'T3D', 'T3G', 'T3G', 'T3D', 'T3G', 'T3G', 'T3G', 'T3G', 'T3G', 'T3G', 'T3G', 'T3G', 'T3G', 'T3G', 'T3G', 'T3G', 'T3G', 'T3G', 'T3G', 'T3G', 'T3G', 'T3G', 'T3G', 'T3G', 'T3D', 'T3G', 'T3G', 'T3G', 'T3G', 'T3G', 'T3G', 'T3G', 'T3G', 'T3G', 'T3G', 'T3G', 'T3G', 'T3G', 'T3G', 'T3G', 'T3G', 'T3G', 'T3G', 'T3G', 'T3G', 'T3G', 'T3G', 'T3G', 'T3G', 'T3G', 'T3G', 'T3G', 'T3G', 'T3G', 'T3G', 'T3G', 'T3G', 'T3G', 'T3G', 'T3G', 'T3G', 'T3G', 'T3G', 'T3G', 'T3G', 'T3G', 'T3G', 'T3G', 'T3G', 'T3G', 'T3G', 'T3D', 'T3G', 'T3G', 'T3D', 'T3G', 'T3G', 'T3G', 'T3G', 'T3G', 'T3G', 'T3G', 'T3G', 'T3G', 'T3G', 'T3G', 'T3G', 'T3G', 'T3G', 'T3G', 'T3G', 'T3G', 'T3D', 'T3G', 'T3G', 'T3G', 'T3G', 'T3G', 'T3D', 'T3G', 'T3G', 'T3G', 'T3G', 'T3G', 'T3G', 'T3G', 'T3G', 'T3G', 'T3G', 'T3G', 'T3G', 'T3G', 'T3G', 'T3G', 'T3G', 'T3G', 'T3G', 'T3G', 'T3G', 'T3G', 'T3G', 'T3G', 'T3G', 'T3G', 'T3D', 'T3G', 'T3G', 'T3G', 'T3G', 'T3G', 'T3G', 'T3G', 'T3G', 'T3G', 'T3G', 'T3G', 'T3D', 'T3G', 'T3G', 'T3G', 'T3G', 'T3G', 'T3G', 'T3G', 'T3G', 'T3G', 'T3G', 'T3G', 'T3G', 'T3G', 'T3G', 'T3G', 'T3G', 'T3G', 'T3G', 'T3G', 'T3G', 'T3G', 'T3G', 'T3G', 'T3G', 'T3G', 'T3G', 'T3G', 'T3G', 'T3G', 'T3G', 'T3G', 'T3G', 'T3G', 'T3G', 'T3G', 'T3G', 'T3G', 'T3G', 'T3G', 'T3G', 'T3G', 'T3G', 'T3G', 'T3G', 'T3G', 'T3G', 'T3G', 'T3G', 'T3G', 'T3G', 'T3G', 'T3G', 'T3G', 'T3G', 'T3G', 'T3G', 'T3G', 'T3G', 'T3G', 'T3G', 'T3G', 'T3G', 'T3G', 'T3G', 'T3G', 'T3G', 'T3G', 'T3G', 'T3G', 'T3G', 'T3G', 'T3G', 'T3G', 'T3G', 'T3G', 'T3G', 'T3G', 'T3G', 'T3G', 'T3G', 'T3G', 'T3G', 'T3G', 'T3G', 'T3G', 'T3G', 'T3G', 'T3G', 'T3G', 'T3G', 'T3G', 'T3G', 'T3G', 'T3G', 'T3G', 'T3G', 'T3G', 'T3G', 'T3G', 'T3G', 'T3G', 'T3G', 'T3G', 'T3G', 'T3G', 'T3G', 'T3G', 'T3G', 'T3G', 'T3G', 'T3G', 'T3G', 'T3G', 'T3G', 'T3G', 'T3G', 'T3G', 'T3G', 'T3G', 'T3G', 'T3G', 'T3G', 'T3G', 'T3G', 'T3G', 'T3G', 'T3G', 'T3G', 'T3G', 'T3G', 'T3G', 'T3G', 'T3G', 'T3G', 'T3G', 'T3G', 'T3G', 'T3G', 'T3G', 'T3G', 'T3G', 'T3G', 'T3G', 'T3G', 'T3G', 'T3G', 'T3G', 'T3G', 'T3G', 'T3G', 'T3G', 'T3G', 'T3G', 'T3G', 'T3G', 'T3G', 'T3G', 'T3G', 'T3G', 'T3G', 'T3G', 'T3G', 'T3G', 'T3G', 'T3G', 'T3G', 'T3G', 'T3G', 'T3G', 'T3G', 'T3G', 'T3G', 'T3G', 'T3G', 'T3G', 'T3G', 'T3G', 'T3G', 'T3G', 'T3G', 'T3G', 'T3G', 'T3G', 'T3D', 'T3G', 'T3G', 'T3G', 'T3G', 'T3G', 'T3G', 'T3G', 'T3G', 'T3G', 'T3G', 'T3D', 'T3G', 'T3G', 'T3G', 'T3G', 'T3G', 'T3G', 'T3G', 'T3G', 'T3G', 'T3D', 'T3G', 'T3G', 'T3G', 'T3G', 'T3G', 'T3G', 'T3G', 'T3G', 'T3G', 'T3G', 'T3G', 'T3G', 'T3G', 'T3G', 'T3G', 'T3G', 'T3G', 'T3G', 'T3G', 'T3G', 'T3G', 'T3G', 'T3G', 'T3G', 'T3G', 'T3G', 'T3G', 'T3G', 'T3G', 'T3G', 'T3G', 'T3G', 'T3G', 'T3G', 'T3G', 'T3G', 'T3G', 'T3G', 'T3G', 'T3G', 'T3G', 'T3G', 'T3G', 'T3G', 'T3G', 'T3G', 'T3G', 'T3G', 'T3G', 'T3G', 'T3G', 'T3G', 'T3G', 'T3G', 'T3G', 'T3G', 'T3G', 'T3G', 'T3G', 'T3G', 'T3G', 'T3G', 'T3G', 'T3G', 'T3G', 'T3G', 'T3G', 'T3G', 'T3G', 'T3G', 'T3G', 'T3G', 'T3G', 'T3G', 'T3G', 'T3G', 'T3G', 'T3G', 'T3G', 'T3G', 'T3G', 'T3G', 'T3G', 'T3G', 'T3G', 'T3G', 'T3G', 'T3G', 'T3G', 'T3G', 'T3G', 'T3G', 'T3G', 'T3G', 'T3G', 'T3D', 'T3G', 'T3G', 'T3G', 'T3G', 'T3G', 'T3G', 'T3G', 'T3G', 'T3G', 'T3G', 'T3G', 'T3G', 'T3G', 'T3G', 'T3G', 'T3D', 'T3G', 'T3G', 'T3G', 'T3G', 'T3G', 'T3G', 'T3G', 'T3G', 'T3G', 'T3G', 'T3G', 'T3G', 'T3G', 'T3G', 'T3G', 'T3G', 'T3G', 'T3G', 'T3G', 'T3G', 'T3G', 'T3G', 'T3G', 'T3G', 'T3G', 'T3G', 'T3G', 'T3G', 'T3G', 'T3G', 'T3G', 'T3G', 'T3G', 'T3G', 'T3G', 'T3G', 'T3G', 'T3G', 'T3G', 'T3G', 'T3G', 'T3G', 'T3G', 'T3G', 'T3G', 'T3G', 'T3G', 'T3G', 'T3G', 'T3G', 'T3G', 'T3G', 'T3G', 'T3G', 'T3G', 'T3G', 'T3G', 'T3G', 'T3G', 'T3G', 'T3G', 'T3G', 'T3G', 'T3G', 'T3G', 'T3G', 'T3G', 'T3G', 'T3G', 'T3G', 'T3G', 'T3G', 'T3G', 'T3G', 'T3D', 'T3G', 'T3G', 'T3G', 'T3G', 'T3G', 'T3G', 'T3G', 'T3G', 'T3G', 'T3G', 'T3G', 'T3G', 'T3G', 'T3G', 'T3G', 'T3G', 'T3G', 'T3G', 'T3G', 'T3G', 'T3G', 'T3G', 'T3G', 'T3G', 'T3G', 'T3G', 'T3G', 'T3G', 'T3G', 'T3G', 'T3G', 'T3G', 'T3G', 'T3G', 'T3G', 'T3G', 'T3G', 'T3G', 'T3G', 'T3G', 'T3G', 'T3G', 'T3G', 'T3G', 'T3G', 'T3G', 'T3G', 'T3G', 'T3G', 'T3G', 'T3G', 'T3G', 'T3G', 'T3G', 'T3G', 'T3G', 'T3G', 'T3G', 'T3G', 'T3G', 'T3G', 'T3G', 'T3G', 'T3G', 'T3G', 'T3G', 'T3G', 'T3G', 'T3G', 'T3G', 'T3G', 'T3G', 'T3G', 'T3G', 'T3G', 'T3G', 'T3G', 'T3G', 'T3G', 'T3G', 'T3G', 'T3G', 'T3G', 'T3G', 'T3G', 'T3G', 'T3G', 'T3G', 'T3G', 'T3G', 'T3G', 'T3G', 'T3G', 'T3G', 'T3G', 'T3G', 'T3G', 'T3G', 'T3G', 'T3G', 'T3G', 'T3G', 'T3G', 'T3G', 'T3G', 'T3G', 'T3G', 'T3G', 'T3G', 'T3G', 'T3G', 'T3G', 'T3G', 'T3D', 'T3G', 'T3G', 'T3G', 'T3G', 'T3G', 'T3G', 'T3G', 'T3G', 'T3G', 'T3G', 'T3G', 'T3G', 'T3G', 'T3G', 'T3G', 'T3G', 'T3D', 'T3G', 'T3G', 'T3G', 'T3G', 'T3G', 'T3G', 'T3G', 'T3G', 'T3G', 'T3G', 'T3G', 'T3G', 'T3G', 'T3G', 'T3G', 'T3G', 'T3G', 'T3G', 'T3G', 'T3G', 'T3G', 'T3G', 'T3G', 'T3G', 'T3G', 'T3G', 'T3G', 'T3G', 'T3G', 'T3G', 'T3G', 'T3G', 'T3G', 'T3G', 'T3G', 'T3G', 'T3G', 'T3G', 'T3G', 'T3G', 'T3G', 'T3G', 'T3G', 'T3G', 'T3G', 'T3G', 'T3G', 'T3G', 'T3D', 'T3G', 'T3G', 'T3G', 'T3G', 'T3G', 'T3G', 'T3G', 'T3G', 'T3G', 'T3G', 'T3G', 'T3G', 'T3G', 'T3G', 'T3G', 'T3G', 'T3G', 'T3G', 'T3G', 'T3G', 'T3G', 'T3G', 'T3G', 'T3G', 'T3G', 'T3G', 'T3G', 'T3G', 'T3G', 'T3G', 'T3G', 'T3G', 'T3G', 'T3G', 'T3G', 'T3G', 'T3G', 'T3G', 'T3G', 'T3G', 'T3G', 'T3G', 'T3G', 'T3G', 'T3G', 'T3G', 'T3G', 'T3G', 'T3G', 'T3G', 'T3G', 'T3D', 'T3G', 'T3G', 'T3G', 'T3G', 'T3G', 'T3G', 'T3D', 'T3G', 'T3G', 'T3G', 'T3G', 'T3G', 'T3G', 'T3G', 'T3G', 'T3G', 'T3D', 'T3G', 'T3G', 'T3G', 'T3G', 'T3G', 'T3G', 'T3G', 'T3G', 'T3G', 'T3G', 'T3G', 'T3G', 'T3G', 'T3G', 'T3G', 'T3G', 'T3G', 'T3G', 'T3G', 'T3G', 'T3D', 'T3G', 'T3G', 'T3G', 'T3G', 'T3G', 'T3G', 'T3D', 'T3G', 'T3G', 'T3G', 'T3G', 'T3G', 'T3G', 'T3G', 'T3G', 'T3D', 'T3G', 'T3G', 'T3G', 'T3G', 'T3G', 'T3G', 'T3G', 'T3G', 'T3G', 'T3G', 'T3G', 'T3G', 'T3G', 'T3G', 'T3G', 'T3G', 'T3G', 'T3G', 'T3G', 'T3G', 'T3G', 'T3G', 'T3G', 'T3G', 'T3G', 'T3G', 'T3G', 'T3G', 'T3G', 'T3G', 'T3G', 'T3G', 'T3G', 'T3G', 'T3G', 'T3G', 'T3G', 'T3G', 'T3G', 'T3G', 'T3G', 'T3G', 'T3G', 'T3G', 'T3G', 'T3G', 'T3G', 'T3G', 'T3G', 'T3G', 'T3G', 'T3G', 'T3G', 'T3G', 'T3G', 'T3G', 'T3G', 'T3G', 'T3G', 'T3G', 'T3G', 'T3G', 'T3G', 'T3G', 'T3G', 'T3G', 'T3G', 'T3G', 'T3G', 'T3G', 'T3G', 'T3G', 'T3G', 'T3G', 'T3G', 'T3G', 'T3D', 'T3G', 'T3G', 'T3G', 'T3G', 'T3G', 'T3G', 'T3G', 'T3G', 'T3D', 'T3G', 'T3G', 'T3G', 'T3G', 'T3G', 'T3G', 'T3G', 'T3G', 'T3G', 'T3G', 'T3G', 'T3G', 'T3G', 'T3G', 'T3G', 'T3G', 'T3G', 'T3G', 'T3G', 'T3G', 'T3G', 'T3G', 'T3G', 'T3G', 'T3G', 'T3G', 'T3G', 'T3G', 'T3G', 'T3G', 'T3G', 'T3G', 'T3G', 'T3G', 'T3G', 'T3G', 'T3G', 'T3G', 'T3G', 'T3G', 'T3G', 'T3G', 'T3G', 'T3G', 'T3G', 'T3G', 'T3G', 'T3G', 'T3G', 'T3G', 'T3G', 'T3G', 'T3G', 'T3G', 'T3G', 'T3G', 'T3G', 'T3G', 'T3G', 'T3G', 'T3G', 'T3G', 'T3G', 'T3G', 'T3G', 'T3G', 'T3G', 'T3G', 'T3G', 'T3G', 'T3G', 'T3G', 'T3G', 'T3G', 'T3G', 'T3G', 'T3G', 'T3G', 'T3G', 'T3G', 'T3G', 'T3G', 'T3G', 'T3G', 'T3G', 'T3G', 'T3G', 'T3G', 'T3G', 'T3G', 'T3G', 'T3G', 'T3G', 'T3G', 'T3G', 'T3G', 'T3G', 'T3G', 'T3G', 'T3G', 'T3G', 'T3G', 'T3G', 'T3G', 'T3G', 'T3G', 'T3G', 'T3G', 'T3G', 'T3G', 'T3G', 'T3G', 'T3G', 'T3G', 'T3G', 'T3G', 'T3G', 'T3G', 'T3G', 'T3G', 'T3G', 'T3G', 'T3G', 'T3G', 'T3G', 'T3G', 'T3G', 'T3G', 'T3G', 'T3G', 'T3G', 'T3D', 'T3G', 'T3G', 'T3G', 'T3G', 'T3G', 'T3G', 'T3G', 'T3G', 'T3G', 'T3G', 'T3G', 'T3G', 'T3G', 'T3G', 'T3G', 'T3G', 'T3G', 'T3G', 'T3G', 'T3G', 'T3G', 'T3G', 'T3G', 'T3G', 'T3G', 'T3G', 'T3G', 'T3G', 'T3G', 'T3G', 'T3G', 'T3G', 'T3G', 'T3G', 'T3G', 'T3G', 'T3G', 'T3G', 'T3G', 'T3G', 'T3G', 'T3G', 'T3G', 'T3G', 'T3G', 'T3G', 'T3G', 'T3G', 'T3G', 'T3G', 'T3G', 'T3G', 'T3D', 'T3G', 'T3G', 'T3G', 'T3G', 'T3G', 'T3G', 'T3G', 'T3G', 'T3D', 'T3G', 'T3G', 'T3G', 'T3G', 'T3G', 'T3G', 'T3G', 'T3G', 'T3G', 'T3G', 'T3G', 'T3G', 'T3G', 'T3G', 'T3G', 'T3G', 'T3G', 'T3G', 'T3G', 'T3G', 'T3G', 'T3G', 'T3G', 'T3G', 'T3G', 'T3G', 'T3G', 'T3G', 'T3G', 'T3G', 'T3G', 'T3G', 'T3G', 'T3G', 'T3G', 'T3G', 'T3G', 'T3G', 'T3G', 'T3G', 'T3G', 'T3G', 'T3G', 'T3G', 'T3G', 'T3G', 'T3D', 'T3G', 'T3G', 'T3G', 'T3G', 'T3G', 'T3G', 'T3G', 'T3G', 'T3G', 'T3G', 'T3G', 'T3G']\n"
     ]
    }
   ],
   "source": [
    "# Generando defectuosos y no defectuosos por turno\n",
    "Detalle_T1 = choice(Resultados_T1, conteo['T1'], p=Prob_T1_def)\n",
    "Detalle_T2 = choice(Resultados_T2, conteo['T2'], p=Prob_T2_def)\n",
    "Detalle_T3 = choice(Resultados_T3, conteo['T3'], p=Prob_T3_def)\n",
    "Detalle_Total = Detalle_T1.tolist() + Detalle_T2.tolist() \n",
    "Detalle_Total = Detalle_Total + Detalle_T3.tolist()\n",
    "\n",
    "print('Detalle_T1: ', Detalle_T1)\n",
    "print('Detalle_T2: ', Detalle_T2)\n",
    "print('Detalle_T3: ', Detalle_T3)\n",
    "print('Detalle_Total: ', Detalle_Total)"
   ]
  },
  {
   "cell_type": "code",
   "execution_count": 281,
   "metadata": {},
   "outputs": [
    {
     "name": "stdout",
     "output_type": "stream",
     "text": [
      "Counter({'T1G': 39511, 'T1D': 380})\n",
      "Counter({'T2G': 34316, 'T2D': 691})\n",
      "Counter({'T3G': 24426, 'T3D': 676})\n"
     ]
    }
   ],
   "source": [
    "# Conteo defectuosos por turno\n",
    "print(Counter(Detalle_T1))\n",
    "print(Counter(Detalle_T2))\n",
    "print(Counter(Detalle_T3))"
   ]
  },
  {
   "cell_type": "code",
   "execution_count": 282,
   "metadata": {},
   "outputs": [
    {
     "name": "stdout",
     "output_type": "stream",
     "text": [
      "['T1D', 'T1D', 'T1D', 'T1D', 'T1D', 'T1D', 'T1D', 'T1D', 'T1D', 'T1D', 'T1D', 'T1D', 'T1D', 'T1D', 'T1D', 'T1D', 'T1D', 'T1D', 'T1D', 'T1D', 'T1D', 'T1D', 'T1D', 'T1D', 'T1D', 'T1D', 'T1D', 'T1D', 'T1D', 'T1D', 'T1D', 'T1D', 'T1D', 'T1D', 'T1D', 'T1D', 'T1D', 'T1D', 'T1D', 'T1D', 'T1D', 'T1D', 'T1D', 'T1D', 'T1D', 'T1D', 'T1D', 'T1D', 'T1D', 'T1D', 'T1D', 'T1D', 'T1D', 'T1D', 'T1D', 'T1D', 'T1D', 'T1D', 'T1D', 'T1D', 'T1D', 'T1D', 'T1D', 'T1D', 'T1D', 'T1D', 'T1D', 'T1D', 'T1D', 'T1D', 'T1D', 'T1D', 'T1D', 'T1D', 'T1D', 'T1D', 'T1D', 'T1D', 'T1D', 'T1D', 'T1D', 'T1D', 'T1D', 'T1D', 'T1D', 'T1D', 'T1D', 'T1D', 'T1D', 'T1D', 'T1D', 'T1D', 'T1D', 'T1D', 'T1D', 'T1D', 'T1D', 'T1D', 'T1D', 'T1D', 'T1D', 'T1D', 'T1D', 'T1D', 'T1D', 'T1D', 'T1D', 'T1D', 'T1D', 'T1D', 'T1D', 'T1D', 'T1D', 'T1D', 'T1D', 'T1D', 'T1D', 'T1D', 'T1D', 'T1D', 'T1D', 'T1D', 'T1D', 'T1D', 'T1D', 'T1D', 'T1D', 'T1D', 'T1D', 'T1D', 'T1D', 'T1D', 'T1D', 'T1D', 'T1D', 'T1D', 'T1D', 'T1D', 'T1D', 'T1D', 'T1D', 'T1D', 'T1D', 'T1D', 'T1D', 'T1D', 'T1D', 'T1D', 'T1D', 'T1D', 'T1D', 'T1D', 'T1D', 'T1D', 'T1D', 'T1D', 'T1D', 'T1D', 'T1D', 'T1D', 'T1D', 'T1D', 'T1D', 'T1D', 'T1D', 'T1D', 'T1D', 'T1D', 'T1D', 'T1D', 'T1D', 'T1D', 'T1D', 'T1D', 'T1D', 'T1D', 'T1D', 'T1D', 'T1D', 'T1D', 'T1D', 'T1D', 'T1D', 'T1D', 'T1D', 'T1D', 'T1D', 'T1D', 'T1D', 'T1D', 'T1D', 'T1D', 'T1D', 'T1D', 'T1D', 'T1D', 'T1D', 'T1D', 'T1D', 'T1D', 'T1D', 'T1D', 'T1D', 'T1D', 'T1D', 'T1D', 'T1D', 'T1D', 'T1D', 'T1D', 'T1D', 'T1D', 'T1D', 'T1D', 'T1D', 'T1D', 'T1D', 'T1D', 'T1D', 'T1D', 'T1D', 'T1D', 'T1D', 'T1D', 'T1D', 'T1D', 'T1D', 'T1D', 'T1D', 'T1D', 'T1D', 'T1D', 'T1D', 'T1D', 'T1D', 'T1D', 'T1D', 'T1D', 'T1D', 'T1D', 'T1D', 'T1D', 'T1D', 'T1D', 'T1D', 'T1D', 'T1D', 'T1D', 'T1D', 'T1D', 'T1D', 'T1D', 'T1D', 'T1D', 'T1D', 'T1D', 'T1D', 'T1D', 'T1D', 'T1D', 'T1D', 'T1D', 'T1D', 'T1D', 'T1D', 'T1D', 'T1D', 'T1D', 'T1D', 'T1D', 'T1D', 'T1D', 'T1D', 'T1D', 'T1D', 'T1D', 'T1D', 'T1D', 'T1D', 'T1D', 'T1D', 'T1D', 'T1D', 'T1D', 'T1D', 'T1D', 'T1D', 'T1D', 'T1D', 'T1D', 'T1D', 'T1D', 'T1D', 'T1D', 'T1D', 'T1D', 'T1D', 'T1D', 'T1D', 'T1D', 'T1D', 'T1D', 'T1D', 'T1D', 'T1D', 'T1D', 'T1D', 'T1D', 'T1D', 'T1D', 'T1D', 'T1D', 'T1D', 'T1D', 'T1D', 'T1D', 'T1D', 'T1D', 'T1D', 'T1D', 'T1D', 'T1D', 'T1D', 'T1D', 'T1D', 'T1D', 'T1D', 'T1D', 'T1D', 'T1D', 'T1D', 'T1D', 'T1D', 'T1D', 'T1D', 'T1D', 'T1D', 'T1D', 'T1D', 'T1D', 'T1D', 'T1D', 'T1D', 'T1D', 'T1D', 'T1D', 'T1D', 'T1D', 'T1D', 'T1D', 'T1D', 'T1D', 'T1D', 'T1D', 'T1D', 'T1D', 'T1D', 'T1D', 'T1D', 'T1D', 'T1D', 'T1D', 'T1D', 'T1D', 'T1D', 'T1D', 'T1D', 'T1D', 'T1D', 'T1D', 'T1D', 'T1D', 'T1D', 'T1D', 'T1D', 'T1D', 'T1D', 'T1D', 'T1D', 'T1D', 'T2D', 'T2D', 'T2D', 'T2D', 'T2D', 'T2D', 'T2D', 'T2D', 'T2D', 'T2D', 'T2D', 'T2D', 'T2D', 'T2D', 'T2D', 'T2D', 'T2D', 'T2D', 'T2D', 'T2D', 'T2D', 'T2D', 'T2D', 'T2D', 'T2D', 'T2D', 'T2D', 'T2D', 'T2D', 'T2D', 'T2D', 'T2D', 'T2D', 'T2D', 'T2D', 'T2D', 'T2D', 'T2D', 'T2D', 'T2D', 'T2D', 'T2D', 'T2D', 'T2D', 'T2D', 'T2D', 'T2D', 'T2D', 'T2D', 'T2D', 'T2D', 'T2D', 'T2D', 'T2D', 'T2D', 'T2D', 'T2D', 'T2D', 'T2D', 'T2D', 'T2D', 'T2D', 'T2D', 'T2D', 'T2D', 'T2D', 'T2D', 'T2D', 'T2D', 'T2D', 'T2D', 'T2D', 'T2D', 'T2D', 'T2D', 'T2D', 'T2D', 'T2D', 'T2D', 'T2D', 'T2D', 'T2D', 'T2D', 'T2D', 'T2D', 'T2D', 'T2D', 'T2D', 'T2D', 'T2D', 'T2D', 'T2D', 'T2D', 'T2D', 'T2D', 'T2D', 'T2D', 'T2D', 'T2D', 'T2D', 'T2D', 'T2D', 'T2D', 'T2D', 'T2D', 'T2D', 'T2D', 'T2D', 'T2D', 'T2D', 'T2D', 'T2D', 'T2D', 'T2D', 'T2D', 'T2D', 'T2D', 'T2D', 'T2D', 'T2D', 'T2D', 'T2D', 'T2D', 'T2D', 'T2D', 'T2D', 'T2D', 'T2D', 'T2D', 'T2D', 'T2D', 'T2D', 'T2D', 'T2D', 'T2D', 'T2D', 'T2D', 'T2D', 'T2D', 'T2D', 'T2D', 'T2D', 'T2D', 'T2D', 'T2D', 'T2D', 'T2D', 'T2D', 'T2D', 'T2D', 'T2D', 'T2D', 'T2D', 'T2D', 'T2D', 'T2D', 'T2D', 'T2D', 'T2D', 'T2D', 'T2D', 'T2D', 'T2D', 'T2D', 'T2D', 'T2D', 'T2D', 'T2D', 'T2D', 'T2D', 'T2D', 'T2D', 'T2D', 'T2D', 'T2D', 'T2D', 'T2D', 'T2D', 'T2D', 'T2D', 'T2D', 'T2D', 'T2D', 'T2D', 'T2D', 'T2D', 'T2D', 'T2D', 'T2D', 'T2D', 'T2D', 'T2D', 'T2D', 'T2D', 'T2D', 'T2D', 'T2D', 'T2D', 'T2D', 'T2D', 'T2D', 'T2D', 'T2D', 'T2D', 'T2D', 'T2D', 'T2D', 'T2D', 'T2D', 'T2D', 'T2D', 'T2D', 'T2D', 'T2D', 'T2D', 'T2D', 'T2D', 'T2D', 'T2D', 'T2D', 'T2D', 'T2D', 'T2D', 'T2D', 'T2D', 'T2D', 'T2D', 'T2D', 'T2D', 'T2D', 'T2D', 'T2D', 'T2D', 'T2D', 'T2D', 'T2D', 'T2D', 'T2D', 'T2D', 'T2D', 'T2D', 'T2D', 'T2D', 'T2D', 'T2D', 'T2D', 'T2D', 'T2D', 'T2D', 'T2D', 'T2D', 'T2D', 'T2D', 'T2D', 'T2D', 'T2D', 'T2D', 'T2D', 'T2D', 'T2D', 'T2D', 'T2D', 'T2D', 'T2D', 'T2D', 'T2D', 'T2D', 'T2D', 'T2D', 'T2D', 'T2D', 'T2D', 'T2D', 'T2D', 'T2D', 'T2D', 'T2D', 'T2D', 'T2D', 'T2D', 'T2D', 'T2D', 'T2D', 'T2D', 'T2D', 'T2D', 'T2D', 'T2D', 'T2D', 'T2D', 'T2D', 'T2D', 'T2D', 'T2D', 'T2D', 'T2D', 'T2D', 'T2D', 'T2D', 'T2D', 'T2D', 'T2D', 'T2D', 'T2D', 'T2D', 'T2D', 'T2D', 'T2D', 'T2D', 'T2D', 'T2D', 'T2D', 'T2D', 'T2D', 'T2D', 'T2D', 'T2D', 'T2D', 'T2D', 'T2D', 'T2D', 'T2D', 'T2D', 'T2D', 'T2D', 'T2D', 'T2D', 'T2D', 'T2D', 'T2D', 'T2D', 'T2D', 'T2D', 'T2D', 'T2D', 'T2D', 'T2D', 'T2D', 'T2D', 'T2D', 'T2D', 'T2D', 'T2D', 'T2D', 'T2D', 'T2D', 'T2D', 'T2D', 'T2D', 'T2D', 'T2D', 'T2D', 'T2D', 'T2D', 'T2D', 'T2D', 'T2D', 'T2D', 'T2D', 'T2D', 'T2D', 'T2D', 'T2D', 'T2D', 'T2D', 'T2D', 'T2D', 'T2D', 'T2D', 'T2D', 'T2D', 'T2D', 'T2D', 'T2D', 'T2D', 'T2D', 'T2D', 'T2D', 'T2D', 'T2D', 'T2D', 'T2D', 'T2D', 'T2D', 'T2D', 'T2D', 'T2D', 'T2D', 'T2D', 'T2D', 'T2D', 'T2D', 'T2D', 'T2D', 'T2D', 'T2D', 'T2D', 'T2D', 'T2D', 'T2D', 'T2D', 'T2D', 'T2D', 'T2D', 'T2D', 'T2D', 'T2D', 'T2D', 'T2D', 'T2D', 'T2D', 'T2D', 'T2D', 'T2D', 'T2D', 'T2D', 'T2D', 'T2D', 'T2D', 'T2D', 'T2D', 'T2D', 'T2D', 'T2D', 'T2D', 'T2D', 'T2D', 'T2D', 'T2D', 'T2D', 'T2D', 'T2D', 'T2D', 'T2D', 'T2D', 'T2D', 'T2D', 'T2D', 'T2D', 'T2D', 'T2D', 'T2D', 'T2D', 'T2D', 'T2D', 'T2D', 'T2D', 'T2D', 'T2D', 'T2D', 'T2D', 'T2D', 'T2D', 'T2D', 'T2D', 'T2D', 'T2D', 'T2D', 'T2D', 'T2D', 'T2D', 'T2D', 'T2D', 'T2D', 'T2D', 'T2D', 'T2D', 'T2D', 'T2D', 'T2D', 'T2D', 'T2D', 'T2D', 'T2D', 'T2D', 'T2D', 'T2D', 'T2D', 'T2D', 'T2D', 'T2D', 'T2D', 'T2D', 'T2D', 'T2D', 'T2D', 'T2D', 'T2D', 'T2D', 'T2D', 'T2D', 'T2D', 'T2D', 'T2D', 'T2D', 'T2D', 'T2D', 'T2D', 'T2D', 'T2D', 'T2D', 'T2D', 'T2D', 'T2D', 'T2D', 'T2D', 'T2D', 'T2D', 'T2D', 'T2D', 'T2D', 'T2D', 'T2D', 'T2D', 'T2D', 'T2D', 'T2D', 'T2D', 'T2D', 'T2D', 'T2D', 'T2D', 'T2D', 'T2D', 'T2D', 'T2D', 'T2D', 'T2D', 'T2D', 'T2D', 'T2D', 'T2D', 'T2D', 'T2D', 'T2D', 'T2D', 'T2D', 'T2D', 'T2D', 'T2D', 'T2D', 'T2D', 'T2D', 'T2D', 'T2D', 'T2D', 'T2D', 'T2D', 'T2D', 'T2D', 'T2D', 'T2D', 'T2D', 'T2D', 'T2D', 'T2D', 'T2D', 'T2D', 'T2D', 'T2D', 'T2D', 'T2D', 'T2D', 'T2D', 'T2D', 'T2D', 'T2D', 'T2D', 'T2D', 'T2D', 'T2D', 'T2D', 'T2D', 'T2D', 'T2D', 'T2D', 'T2D', 'T2D', 'T2D', 'T2D', 'T2D', 'T2D', 'T2D', 'T2D', 'T2D', 'T2D', 'T2D', 'T2D', 'T2D', 'T2D', 'T2D', 'T2D', 'T2D', 'T2D', 'T2D', 'T2D', 'T2D', 'T2D', 'T2D', 'T2D', 'T2D', 'T2D', 'T2D', 'T2D', 'T2D', 'T2D', 'T2D', 'T2D', 'T2D', 'T2D', 'T2D', 'T2D', 'T2D', 'T2D', 'T2D', 'T2D', 'T2D', 'T2D', 'T2D', 'T2D', 'T2D', 'T2D', 'T2D', 'T2D', 'T2D', 'T2D', 'T2D', 'T2D', 'T2D', 'T2D', 'T2D', 'T2D', 'T2D', 'T2D', 'T2D', 'T2D', 'T2D', 'T2D', 'T2D', 'T2D', 'T2D', 'T2D', 'T2D', 'T2D', 'T2D', 'T2D', 'T2D', 'T2D', 'T2D', 'T2D', 'T2D', 'T2D', 'T2D', 'T2D', 'T2D', 'T2D', 'T2D', 'T2D', 'T2D', 'T2D', 'T2D', 'T2D', 'T2D', 'T2D', 'T2D', 'T2D', 'T2D', 'T2D', 'T2D', 'T2D', 'T2D', 'T2D', 'T2D', 'T2D', 'T2D', 'T2D', 'T2D', 'T2D', 'T2D', 'T2D', 'T2D', 'T2D', 'T2D', 'T2D', 'T2D', 'T2D', 'T2D', 'T2D', 'T2D', 'T2D', 'T2D', 'T3D', 'T3D', 'T3D', 'T3D', 'T3D', 'T3D', 'T3D', 'T3D', 'T3D', 'T3D', 'T3D', 'T3D', 'T3D', 'T3D', 'T3D', 'T3D', 'T3D', 'T3D', 'T3D', 'T3D', 'T3D', 'T3D', 'T3D', 'T3D', 'T3D', 'T3D', 'T3D', 'T3D', 'T3D', 'T3D', 'T3D', 'T3D', 'T3D', 'T3D', 'T3D', 'T3D', 'T3D', 'T3D', 'T3D', 'T3D', 'T3D', 'T3D', 'T3D', 'T3D', 'T3D', 'T3D', 'T3D', 'T3D', 'T3D', 'T3D', 'T3D', 'T3D', 'T3D', 'T3D', 'T3D', 'T3D', 'T3D', 'T3D', 'T3D', 'T3D', 'T3D', 'T3D', 'T3D', 'T3D', 'T3D', 'T3D', 'T3D', 'T3D', 'T3D', 'T3D', 'T3D', 'T3D', 'T3D', 'T3D', 'T3D', 'T3D', 'T3D', 'T3D', 'T3D', 'T3D', 'T3D', 'T3D', 'T3D', 'T3D', 'T3D', 'T3D', 'T3D', 'T3D', 'T3D', 'T3D', 'T3D', 'T3D', 'T3D', 'T3D', 'T3D', 'T3D', 'T3D', 'T3D', 'T3D', 'T3D', 'T3D', 'T3D', 'T3D', 'T3D', 'T3D', 'T3D', 'T3D', 'T3D', 'T3D', 'T3D', 'T3D', 'T3D', 'T3D', 'T3D', 'T3D', 'T3D', 'T3D', 'T3D', 'T3D', 'T3D', 'T3D', 'T3D', 'T3D', 'T3D', 'T3D', 'T3D', 'T3D', 'T3D', 'T3D', 'T3D', 'T3D', 'T3D', 'T3D', 'T3D', 'T3D', 'T3D', 'T3D', 'T3D', 'T3D', 'T3D', 'T3D', 'T3D', 'T3D', 'T3D', 'T3D', 'T3D', 'T3D', 'T3D', 'T3D', 'T3D', 'T3D', 'T3D', 'T3D', 'T3D', 'T3D', 'T3D', 'T3D', 'T3D', 'T3D', 'T3D', 'T3D', 'T3D', 'T3D', 'T3D', 'T3D', 'T3D', 'T3D', 'T3D', 'T3D', 'T3D', 'T3D', 'T3D', 'T3D', 'T3D', 'T3D', 'T3D', 'T3D', 'T3D', 'T3D', 'T3D', 'T3D', 'T3D', 'T3D', 'T3D', 'T3D', 'T3D', 'T3D', 'T3D', 'T3D', 'T3D', 'T3D', 'T3D', 'T3D', 'T3D', 'T3D', 'T3D', 'T3D', 'T3D', 'T3D', 'T3D', 'T3D', 'T3D', 'T3D', 'T3D', 'T3D', 'T3D', 'T3D', 'T3D', 'T3D', 'T3D', 'T3D', 'T3D', 'T3D', 'T3D', 'T3D', 'T3D', 'T3D', 'T3D', 'T3D', 'T3D', 'T3D', 'T3D', 'T3D', 'T3D', 'T3D', 'T3D', 'T3D', 'T3D', 'T3D', 'T3D', 'T3D', 'T3D', 'T3D', 'T3D', 'T3D', 'T3D', 'T3D', 'T3D', 'T3D', 'T3D', 'T3D', 'T3D', 'T3D', 'T3D', 'T3D', 'T3D', 'T3D', 'T3D', 'T3D', 'T3D', 'T3D', 'T3D', 'T3D', 'T3D', 'T3D', 'T3D', 'T3D', 'T3D', 'T3D', 'T3D', 'T3D', 'T3D', 'T3D', 'T3D', 'T3D', 'T3D', 'T3D', 'T3D', 'T3D', 'T3D', 'T3D', 'T3D', 'T3D', 'T3D', 'T3D', 'T3D', 'T3D', 'T3D', 'T3D', 'T3D', 'T3D', 'T3D', 'T3D', 'T3D', 'T3D', 'T3D', 'T3D', 'T3D', 'T3D', 'T3D', 'T3D', 'T3D', 'T3D', 'T3D', 'T3D', 'T3D', 'T3D', 'T3D', 'T3D', 'T3D', 'T3D', 'T3D', 'T3D', 'T3D', 'T3D', 'T3D', 'T3D', 'T3D', 'T3D', 'T3D', 'T3D', 'T3D', 'T3D', 'T3D', 'T3D', 'T3D', 'T3D', 'T3D', 'T3D', 'T3D', 'T3D', 'T3D', 'T3D', 'T3D', 'T3D', 'T3D', 'T3D', 'T3D', 'T3D', 'T3D', 'T3D', 'T3D', 'T3D', 'T3D', 'T3D', 'T3D', 'T3D', 'T3D', 'T3D', 'T3D', 'T3D', 'T3D', 'T3D', 'T3D', 'T3D', 'T3D', 'T3D', 'T3D', 'T3D', 'T3D', 'T3D', 'T3D', 'T3D', 'T3D', 'T3D', 'T3D', 'T3D', 'T3D', 'T3D', 'T3D', 'T3D', 'T3D', 'T3D', 'T3D', 'T3D', 'T3D', 'T3D', 'T3D', 'T3D', 'T3D', 'T3D', 'T3D', 'T3D', 'T3D', 'T3D', 'T3D', 'T3D', 'T3D', 'T3D', 'T3D', 'T3D', 'T3D', 'T3D', 'T3D', 'T3D', 'T3D', 'T3D', 'T3D', 'T3D', 'T3D', 'T3D', 'T3D', 'T3D', 'T3D', 'T3D', 'T3D', 'T3D', 'T3D', 'T3D', 'T3D', 'T3D', 'T3D', 'T3D', 'T3D', 'T3D', 'T3D', 'T3D', 'T3D', 'T3D', 'T3D', 'T3D', 'T3D', 'T3D', 'T3D', 'T3D', 'T3D', 'T3D', 'T3D', 'T3D', 'T3D', 'T3D', 'T3D', 'T3D', 'T3D', 'T3D', 'T3D', 'T3D', 'T3D', 'T3D', 'T3D', 'T3D', 'T3D', 'T3D', 'T3D', 'T3D', 'T3D', 'T3D', 'T3D', 'T3D', 'T3D', 'T3D', 'T3D', 'T3D', 'T3D', 'T3D', 'T3D', 'T3D', 'T3D', 'T3D', 'T3D', 'T3D', 'T3D', 'T3D', 'T3D', 'T3D', 'T3D', 'T3D', 'T3D', 'T3D', 'T3D', 'T3D', 'T3D', 'T3D', 'T3D', 'T3D', 'T3D', 'T3D', 'T3D', 'T3D', 'T3D', 'T3D', 'T3D', 'T3D', 'T3D', 'T3D', 'T3D', 'T3D', 'T3D', 'T3D', 'T3D', 'T3D', 'T3D', 'T3D', 'T3D', 'T3D', 'T3D', 'T3D', 'T3D', 'T3D', 'T3D', 'T3D', 'T3D', 'T3D', 'T3D', 'T3D', 'T3D', 'T3D', 'T3D', 'T3D', 'T3D', 'T3D', 'T3D', 'T3D', 'T3D', 'T3D', 'T3D', 'T3D', 'T3D', 'T3D', 'T3D', 'T3D', 'T3D', 'T3D', 'T3D', 'T3D', 'T3D', 'T3D', 'T3D', 'T3D', 'T3D', 'T3D', 'T3D', 'T3D', 'T3D', 'T3D', 'T3D', 'T3D', 'T3D', 'T3D', 'T3D', 'T3D', 'T3D', 'T3D', 'T3D', 'T3D', 'T3D', 'T3D', 'T3D', 'T3D', 'T3D', 'T3D', 'T3D', 'T3D', 'T3D', 'T3D', 'T3D', 'T3D', 'T3D', 'T3D', 'T3D', 'T3D', 'T3D', 'T3D', 'T3D', 'T3D', 'T3D', 'T3D', 'T3D', 'T3D', 'T3D', 'T3D', 'T3D', 'T3D', 'T3D', 'T3D', 'T3D', 'T3D', 'T3D', 'T3D', 'T3D', 'T3D', 'T3D', 'T3D', 'T3D', 'T3D', 'T3D', 'T3D', 'T3D', 'T3D', 'T3D', 'T3D', 'T3D', 'T3D', 'T3D', 'T3D', 'T3D', 'T3D', 'T3D', 'T3D', 'T3D', 'T3D', 'T3D', 'T3D', 'T3D', 'T3D', 'T3D', 'T3D', 'T3D', 'T3D', 'T3D', 'T3D', 'T3D', 'T3D', 'T3D', 'T3D', 'T3D', 'T3D', 'T3D', 'T3D', 'T3D', 'T3D', 'T3D', 'T3D', 'T3D', 'T3D', 'T3D', 'T3D', 'T3D', 'T3D', 'T3D', 'T3D', 'T3D', 'T3D', 'T3D', 'T3D', 'T3D', 'T3D', 'T3D', 'T3D', 'T3D', 'T3D', 'T3D', 'T3D', 'T3D', 'T3D', 'T3D', 'T3D', 'T3D', 'T3D', 'T3D', 'T3D', 'T3D', 'T3D', 'T3D', 'T3D', 'T3D', 'T3D', 'T3D', 'T3D', 'T3D', 'T3D', 'T3D', 'T3D', 'T3D', 'T3D', 'T3D', 'T3D', 'T3D', 'T3D', 'T3D', 'T3D', 'T3D', 'T3D', 'T3D', 'T3D', 'T3D', 'T3D', 'T3D', 'T3D', 'T3D', 'T3D', 'T3D', 'T3D', 'T3D', 'T3D', 'T3D']\n"
     ]
    },
    {
     "data": {
      "text/plain": [
       "1747"
      ]
     },
     "execution_count": 282,
     "metadata": {},
     "output_type": "execute_result"
    }
   ],
   "source": [
    "Defectuosos = [i for i in Detalle_Total if \"D\" in i]\n",
    "print(Defectuosos)\n",
    "conteo_defectuosos = len(Defectuosos)\n",
    "conteo_defectuosos\n",
    "\n"
   ]
  },
  {
   "cell_type": "code",
   "execution_count": 283,
   "metadata": {},
   "outputs": [
    {
     "data": {
      "text/plain": [
       "Counter({'T2D': 691, 'T3D': 676, 'T1D': 380})"
      ]
     },
     "execution_count": 283,
     "metadata": {},
     "output_type": "execute_result"
    }
   ],
   "source": [
    "# Identificando número de defectuosos por turno\n",
    "conteo_defectuosos_turno = Counter(Defectuosos)\n",
    "conteo_defectuosos_turno"
   ]
  },
  {
   "cell_type": "code",
   "execution_count": 284,
   "metadata": {},
   "outputs": [
    {
     "data": {
      "text/plain": [
       "1747"
      ]
     },
     "execution_count": 284,
     "metadata": {},
     "output_type": "execute_result"
    }
   ],
   "source": [
    "# Contando el número total de defectuosos\n",
    "numero_defectuosos = len(Defectuosos)\n",
    "numero_defectuosos"
   ]
  },
  {
   "cell_type": "markdown",
   "metadata": {},
   "source": [
    "### a. ¿Cuál es la probabilidad de que un artículo seleccionado al azar sea defectuoso?"
   ]
  },
  {
   "cell_type": "code",
   "execution_count": 285,
   "metadata": {},
   "outputs": [
    {
     "name": "stdout",
     "output_type": "stream",
     "text": [
      "Probabilidad empírica de item defectuoso:  0.0175\n"
     ]
    }
   ],
   "source": [
    "# Calculando la probabilidad de que un artículo al azar resulte ser defectuoso #probailidad analítica 0.0185\n",
    "probabilidad_defectuoso = numero_defectuosos / tamano_muestra\n",
    "print('Probabilidad empírica de item defectuoso: ', round(probabilidad_defectuoso,4))  \n"
   ]
  },
  {
   "cell_type": "code",
   "execution_count": 286,
   "metadata": {},
   "outputs": [
    {
     "data": {
      "application/vnd.plotly.v1+json": {
       "config": {
        "plotlyServerURL": "https://plot.ly"
       },
       "data": [
        {
         "alignmentgroup": "True",
         "hovertemplate": "Categoría=%{x}<br>Probabilidad=%{text}<extra></extra>",
         "legendgroup": "Defectuoso",
         "marker": {
          "color": "paleturquoise",
          "pattern": {
           "shape": ""
          }
         },
         "name": "Defectuoso",
         "offsetgroup": "Defectuoso",
         "orientation": "v",
         "showlegend": true,
         "text": [
          0.01747
         ],
         "textposition": "auto",
         "type": "bar",
         "x": [
          "Defectuoso"
         ],
         "xaxis": "x",
         "y": [
          0.01747
         ],
         "yaxis": "y"
        },
        {
         "alignmentgroup": "True",
         "hovertemplate": "Categoría=%{x}<br>Probabilidad=%{text}<extra></extra>",
         "legendgroup": "No Defectuoso",
         "marker": {
          "color": "turquoise",
          "pattern": {
           "shape": ""
          }
         },
         "name": "No Defectuoso",
         "offsetgroup": "No Defectuoso",
         "orientation": "v",
         "showlegend": true,
         "text": [
          0.98253
         ],
         "textposition": "auto",
         "type": "bar",
         "x": [
          "No Defectuoso"
         ],
         "xaxis": "x",
         "y": [
          0.98253
         ],
         "yaxis": "y"
        }
       ],
       "layout": {
        "barmode": "relative",
        "height": 400,
        "legend": {
         "title": {
          "text": "Categoría"
         },
         "tracegroupgap": 0
        },
        "template": {
         "data": {
          "bar": [
           {
            "error_x": {
             "color": "#2a3f5f"
            },
            "error_y": {
             "color": "#2a3f5f"
            },
            "marker": {
             "line": {
              "color": "#E5ECF6",
              "width": 0.5
             },
             "pattern": {
              "fillmode": "overlay",
              "size": 10,
              "solidity": 0.2
             }
            },
            "type": "bar"
           }
          ],
          "barpolar": [
           {
            "marker": {
             "line": {
              "color": "#E5ECF6",
              "width": 0.5
             },
             "pattern": {
              "fillmode": "overlay",
              "size": 10,
              "solidity": 0.2
             }
            },
            "type": "barpolar"
           }
          ],
          "carpet": [
           {
            "aaxis": {
             "endlinecolor": "#2a3f5f",
             "gridcolor": "white",
             "linecolor": "white",
             "minorgridcolor": "white",
             "startlinecolor": "#2a3f5f"
            },
            "baxis": {
             "endlinecolor": "#2a3f5f",
             "gridcolor": "white",
             "linecolor": "white",
             "minorgridcolor": "white",
             "startlinecolor": "#2a3f5f"
            },
            "type": "carpet"
           }
          ],
          "choropleth": [
           {
            "colorbar": {
             "outlinewidth": 0,
             "ticks": ""
            },
            "type": "choropleth"
           }
          ],
          "contour": [
           {
            "colorbar": {
             "outlinewidth": 0,
             "ticks": ""
            },
            "colorscale": [
             [
              0,
              "#0d0887"
             ],
             [
              0.1111111111111111,
              "#46039f"
             ],
             [
              0.2222222222222222,
              "#7201a8"
             ],
             [
              0.3333333333333333,
              "#9c179e"
             ],
             [
              0.4444444444444444,
              "#bd3786"
             ],
             [
              0.5555555555555556,
              "#d8576b"
             ],
             [
              0.6666666666666666,
              "#ed7953"
             ],
             [
              0.7777777777777778,
              "#fb9f3a"
             ],
             [
              0.8888888888888888,
              "#fdca26"
             ],
             [
              1,
              "#f0f921"
             ]
            ],
            "type": "contour"
           }
          ],
          "contourcarpet": [
           {
            "colorbar": {
             "outlinewidth": 0,
             "ticks": ""
            },
            "type": "contourcarpet"
           }
          ],
          "heatmap": [
           {
            "colorbar": {
             "outlinewidth": 0,
             "ticks": ""
            },
            "colorscale": [
             [
              0,
              "#0d0887"
             ],
             [
              0.1111111111111111,
              "#46039f"
             ],
             [
              0.2222222222222222,
              "#7201a8"
             ],
             [
              0.3333333333333333,
              "#9c179e"
             ],
             [
              0.4444444444444444,
              "#bd3786"
             ],
             [
              0.5555555555555556,
              "#d8576b"
             ],
             [
              0.6666666666666666,
              "#ed7953"
             ],
             [
              0.7777777777777778,
              "#fb9f3a"
             ],
             [
              0.8888888888888888,
              "#fdca26"
             ],
             [
              1,
              "#f0f921"
             ]
            ],
            "type": "heatmap"
           }
          ],
          "heatmapgl": [
           {
            "colorbar": {
             "outlinewidth": 0,
             "ticks": ""
            },
            "colorscale": [
             [
              0,
              "#0d0887"
             ],
             [
              0.1111111111111111,
              "#46039f"
             ],
             [
              0.2222222222222222,
              "#7201a8"
             ],
             [
              0.3333333333333333,
              "#9c179e"
             ],
             [
              0.4444444444444444,
              "#bd3786"
             ],
             [
              0.5555555555555556,
              "#d8576b"
             ],
             [
              0.6666666666666666,
              "#ed7953"
             ],
             [
              0.7777777777777778,
              "#fb9f3a"
             ],
             [
              0.8888888888888888,
              "#fdca26"
             ],
             [
              1,
              "#f0f921"
             ]
            ],
            "type": "heatmapgl"
           }
          ],
          "histogram": [
           {
            "marker": {
             "pattern": {
              "fillmode": "overlay",
              "size": 10,
              "solidity": 0.2
             }
            },
            "type": "histogram"
           }
          ],
          "histogram2d": [
           {
            "colorbar": {
             "outlinewidth": 0,
             "ticks": ""
            },
            "colorscale": [
             [
              0,
              "#0d0887"
             ],
             [
              0.1111111111111111,
              "#46039f"
             ],
             [
              0.2222222222222222,
              "#7201a8"
             ],
             [
              0.3333333333333333,
              "#9c179e"
             ],
             [
              0.4444444444444444,
              "#bd3786"
             ],
             [
              0.5555555555555556,
              "#d8576b"
             ],
             [
              0.6666666666666666,
              "#ed7953"
             ],
             [
              0.7777777777777778,
              "#fb9f3a"
             ],
             [
              0.8888888888888888,
              "#fdca26"
             ],
             [
              1,
              "#f0f921"
             ]
            ],
            "type": "histogram2d"
           }
          ],
          "histogram2dcontour": [
           {
            "colorbar": {
             "outlinewidth": 0,
             "ticks": ""
            },
            "colorscale": [
             [
              0,
              "#0d0887"
             ],
             [
              0.1111111111111111,
              "#46039f"
             ],
             [
              0.2222222222222222,
              "#7201a8"
             ],
             [
              0.3333333333333333,
              "#9c179e"
             ],
             [
              0.4444444444444444,
              "#bd3786"
             ],
             [
              0.5555555555555556,
              "#d8576b"
             ],
             [
              0.6666666666666666,
              "#ed7953"
             ],
             [
              0.7777777777777778,
              "#fb9f3a"
             ],
             [
              0.8888888888888888,
              "#fdca26"
             ],
             [
              1,
              "#f0f921"
             ]
            ],
            "type": "histogram2dcontour"
           }
          ],
          "mesh3d": [
           {
            "colorbar": {
             "outlinewidth": 0,
             "ticks": ""
            },
            "type": "mesh3d"
           }
          ],
          "parcoords": [
           {
            "line": {
             "colorbar": {
              "outlinewidth": 0,
              "ticks": ""
             }
            },
            "type": "parcoords"
           }
          ],
          "pie": [
           {
            "automargin": true,
            "type": "pie"
           }
          ],
          "scatter": [
           {
            "fillpattern": {
             "fillmode": "overlay",
             "size": 10,
             "solidity": 0.2
            },
            "type": "scatter"
           }
          ],
          "scatter3d": [
           {
            "line": {
             "colorbar": {
              "outlinewidth": 0,
              "ticks": ""
             }
            },
            "marker": {
             "colorbar": {
              "outlinewidth": 0,
              "ticks": ""
             }
            },
            "type": "scatter3d"
           }
          ],
          "scattercarpet": [
           {
            "marker": {
             "colorbar": {
              "outlinewidth": 0,
              "ticks": ""
             }
            },
            "type": "scattercarpet"
           }
          ],
          "scattergeo": [
           {
            "marker": {
             "colorbar": {
              "outlinewidth": 0,
              "ticks": ""
             }
            },
            "type": "scattergeo"
           }
          ],
          "scattergl": [
           {
            "marker": {
             "colorbar": {
              "outlinewidth": 0,
              "ticks": ""
             }
            },
            "type": "scattergl"
           }
          ],
          "scattermapbox": [
           {
            "marker": {
             "colorbar": {
              "outlinewidth": 0,
              "ticks": ""
             }
            },
            "type": "scattermapbox"
           }
          ],
          "scatterpolar": [
           {
            "marker": {
             "colorbar": {
              "outlinewidth": 0,
              "ticks": ""
             }
            },
            "type": "scatterpolar"
           }
          ],
          "scatterpolargl": [
           {
            "marker": {
             "colorbar": {
              "outlinewidth": 0,
              "ticks": ""
             }
            },
            "type": "scatterpolargl"
           }
          ],
          "scatterternary": [
           {
            "marker": {
             "colorbar": {
              "outlinewidth": 0,
              "ticks": ""
             }
            },
            "type": "scatterternary"
           }
          ],
          "surface": [
           {
            "colorbar": {
             "outlinewidth": 0,
             "ticks": ""
            },
            "colorscale": [
             [
              0,
              "#0d0887"
             ],
             [
              0.1111111111111111,
              "#46039f"
             ],
             [
              0.2222222222222222,
              "#7201a8"
             ],
             [
              0.3333333333333333,
              "#9c179e"
             ],
             [
              0.4444444444444444,
              "#bd3786"
             ],
             [
              0.5555555555555556,
              "#d8576b"
             ],
             [
              0.6666666666666666,
              "#ed7953"
             ],
             [
              0.7777777777777778,
              "#fb9f3a"
             ],
             [
              0.8888888888888888,
              "#fdca26"
             ],
             [
              1,
              "#f0f921"
             ]
            ],
            "type": "surface"
           }
          ],
          "table": [
           {
            "cells": {
             "fill": {
              "color": "#EBF0F8"
             },
             "line": {
              "color": "white"
             }
            },
            "header": {
             "fill": {
              "color": "#C8D4E3"
             },
             "line": {
              "color": "white"
             }
            },
            "type": "table"
           }
          ]
         },
         "layout": {
          "annotationdefaults": {
           "arrowcolor": "#2a3f5f",
           "arrowhead": 0,
           "arrowwidth": 1
          },
          "autotypenumbers": "strict",
          "coloraxis": {
           "colorbar": {
            "outlinewidth": 0,
            "ticks": ""
           }
          },
          "colorscale": {
           "diverging": [
            [
             0,
             "#8e0152"
            ],
            [
             0.1,
             "#c51b7d"
            ],
            [
             0.2,
             "#de77ae"
            ],
            [
             0.3,
             "#f1b6da"
            ],
            [
             0.4,
             "#fde0ef"
            ],
            [
             0.5,
             "#f7f7f7"
            ],
            [
             0.6,
             "#e6f5d0"
            ],
            [
             0.7,
             "#b8e186"
            ],
            [
             0.8,
             "#7fbc41"
            ],
            [
             0.9,
             "#4d9221"
            ],
            [
             1,
             "#276419"
            ]
           ],
           "sequential": [
            [
             0,
             "#0d0887"
            ],
            [
             0.1111111111111111,
             "#46039f"
            ],
            [
             0.2222222222222222,
             "#7201a8"
            ],
            [
             0.3333333333333333,
             "#9c179e"
            ],
            [
             0.4444444444444444,
             "#bd3786"
            ],
            [
             0.5555555555555556,
             "#d8576b"
            ],
            [
             0.6666666666666666,
             "#ed7953"
            ],
            [
             0.7777777777777778,
             "#fb9f3a"
            ],
            [
             0.8888888888888888,
             "#fdca26"
            ],
            [
             1,
             "#f0f921"
            ]
           ],
           "sequentialminus": [
            [
             0,
             "#0d0887"
            ],
            [
             0.1111111111111111,
             "#46039f"
            ],
            [
             0.2222222222222222,
             "#7201a8"
            ],
            [
             0.3333333333333333,
             "#9c179e"
            ],
            [
             0.4444444444444444,
             "#bd3786"
            ],
            [
             0.5555555555555556,
             "#d8576b"
            ],
            [
             0.6666666666666666,
             "#ed7953"
            ],
            [
             0.7777777777777778,
             "#fb9f3a"
            ],
            [
             0.8888888888888888,
             "#fdca26"
            ],
            [
             1,
             "#f0f921"
            ]
           ]
          },
          "colorway": [
           "#636efa",
           "#EF553B",
           "#00cc96",
           "#ab63fa",
           "#FFA15A",
           "#19d3f3",
           "#FF6692",
           "#B6E880",
           "#FF97FF",
           "#FECB52"
          ],
          "font": {
           "color": "#2a3f5f"
          },
          "geo": {
           "bgcolor": "white",
           "lakecolor": "white",
           "landcolor": "#E5ECF6",
           "showlakes": true,
           "showland": true,
           "subunitcolor": "white"
          },
          "hoverlabel": {
           "align": "left"
          },
          "hovermode": "closest",
          "mapbox": {
           "style": "light"
          },
          "paper_bgcolor": "white",
          "plot_bgcolor": "#E5ECF6",
          "polar": {
           "angularaxis": {
            "gridcolor": "white",
            "linecolor": "white",
            "ticks": ""
           },
           "bgcolor": "#E5ECF6",
           "radialaxis": {
            "gridcolor": "white",
            "linecolor": "white",
            "ticks": ""
           }
          },
          "scene": {
           "xaxis": {
            "backgroundcolor": "#E5ECF6",
            "gridcolor": "white",
            "gridwidth": 2,
            "linecolor": "white",
            "showbackground": true,
            "ticks": "",
            "zerolinecolor": "white"
           },
           "yaxis": {
            "backgroundcolor": "#E5ECF6",
            "gridcolor": "white",
            "gridwidth": 2,
            "linecolor": "white",
            "showbackground": true,
            "ticks": "",
            "zerolinecolor": "white"
           },
           "zaxis": {
            "backgroundcolor": "#E5ECF6",
            "gridcolor": "white",
            "gridwidth": 2,
            "linecolor": "white",
            "showbackground": true,
            "ticks": "",
            "zerolinecolor": "white"
           }
          },
          "shapedefaults": {
           "line": {
            "color": "#2a3f5f"
           }
          },
          "ternary": {
           "aaxis": {
            "gridcolor": "white",
            "linecolor": "white",
            "ticks": ""
           },
           "baxis": {
            "gridcolor": "white",
            "linecolor": "white",
            "ticks": ""
           },
           "bgcolor": "#E5ECF6",
           "caxis": {
            "gridcolor": "white",
            "linecolor": "white",
            "ticks": ""
           }
          },
          "title": {
           "x": 0.05
          },
          "xaxis": {
           "automargin": true,
           "gridcolor": "white",
           "linecolor": "white",
           "ticks": "",
           "title": {
            "standoff": 15
           },
           "zerolinecolor": "white",
           "zerolinewidth": 2
          },
          "yaxis": {
           "automargin": true,
           "gridcolor": "white",
           "linecolor": "white",
           "ticks": "",
           "title": {
            "standoff": 15
           },
           "zerolinecolor": "white",
           "zerolinewidth": 2
          }
         }
        },
        "title": {
         "text": "Probabilidad de Artículo Defectuoso"
        },
        "width": 600,
        "xaxis": {
         "anchor": "y",
         "categoryarray": [
          "Defectuoso",
          "No Defectuoso"
         ],
         "categoryorder": "array",
         "domain": [
          0,
          1
         ],
         "title": {
          "text": "Categoría"
         }
        },
        "yaxis": {
         "anchor": "x",
         "domain": [
          0,
          1
         ],
         "tickformat": ",.2f",
         "title": {
          "text": "Probabilidad"
         }
        }
       }
      }
     },
     "metadata": {},
     "output_type": "display_data"
    }
   ],
   "source": [
    "\n",
    "df_probabilidad_defectuoso = pd.DataFrame({\n",
    "    'Categoría': ['Defectuoso', 'No Defectuoso'],\n",
    "    'Probabilidad': [probabilidad_defectuoso, 1 - probabilidad_defectuoso]\n",
    "})\n",
    "\n",
    "\n",
    "fig = px.bar(df_probabilidad_defectuoso, x='Categoría', y='Probabilidad',\n",
    "             text='Probabilidad',\n",
    "             labels={'Probabilidad': 'Probabilidad'},\n",
    "             title='Probabilidad de Artículo Defectuoso',\n",
    "             height=400, width=600,\n",
    "             color='Categoría',  \n",
    "             color_discrete_map={'Defectuoso': 'paleturquoise', 'No Defectuoso': 'turquoise'})\n",
    "\n",
    "\n",
    "fig.update_layout(\n",
    "    yaxis_tickformat=',.2f'  \n",
    ")\n",
    "\n",
    "\n",
    "fig.show()"
   ]
  },
  {
   "cell_type": "markdown",
   "metadata": {},
   "source": [
    "### b. Si un artículo resulta defectuoso, ¿cuál es la probabilidad de que haya sido producido en el Turno 1 o en el Turno 2 o en el Turno 3?"
   ]
  },
  {
   "cell_type": "code",
   "execution_count": 287,
   "metadata": {},
   "outputs": [
    {
     "name": "stdout",
     "output_type": "stream",
     "text": [
      "Prob_T1_dado_D:  0.2175\n",
      "Prob_T2_dado_D:  0.3955\n",
      "Prob_T3_dado_D:  0.3869\n"
     ]
    }
   ],
   "source": [
    "# Calculando probabilidades revisadas\n",
    "Prob_T1_dado_D = conteo_defectuosos_turno['T1D'] / conteo_defectuosos\n",
    "Prob_T2_dado_D = conteo_defectuosos_turno['T2D'] / conteo_defectuosos\n",
    "Prob_T3_dado_D = conteo_defectuosos_turno['T3D'] / conteo_defectuosos\n",
    "print('Prob_T1_dado_D: ', round(Prob_T1_dado_D, 4)) #probabilidad analítica 0.216\n",
    "print('Prob_T2_dado_D: ', round(Prob_T2_dado_D, 4)) #probbailidad analítica 0.378\n",
    "print('Prob_T3_dado_D: ', round(Prob_T3_dado_D, 4)) #probabilidad analítica 0.405\n"
   ]
  },
  {
   "cell_type": "code",
   "execution_count": 288,
   "metadata": {},
   "outputs": [
    {
     "data": {
      "application/vnd.plotly.v1+json": {
       "config": {
        "plotlyServerURL": "https://plot.ly"
       },
       "data": [
        {
         "domain": {
          "x": [
           0,
           1
          ],
          "y": [
           0,
           1
          ]
         },
         "hovertemplate": "Turno=%{label}<br>Probabilidad=%{value}<extra></extra>",
         "labels": [
          "T1",
          "T2",
          "T3"
         ],
         "legendgroup": "",
         "name": "",
         "showlegend": true,
         "type": "pie",
         "values": [
          0.2175,
          0.3955,
          0.3869
         ]
        }
       ],
       "layout": {
        "legend": {
         "tracegroupgap": 0
        },
        "piecolorway": [
         "#FF9999",
         "#66B2FF",
         "#99FF99"
        ],
        "template": {
         "data": {
          "bar": [
           {
            "error_x": {
             "color": "#2a3f5f"
            },
            "error_y": {
             "color": "#2a3f5f"
            },
            "marker": {
             "line": {
              "color": "#E5ECF6",
              "width": 0.5
             },
             "pattern": {
              "fillmode": "overlay",
              "size": 10,
              "solidity": 0.2
             }
            },
            "type": "bar"
           }
          ],
          "barpolar": [
           {
            "marker": {
             "line": {
              "color": "#E5ECF6",
              "width": 0.5
             },
             "pattern": {
              "fillmode": "overlay",
              "size": 10,
              "solidity": 0.2
             }
            },
            "type": "barpolar"
           }
          ],
          "carpet": [
           {
            "aaxis": {
             "endlinecolor": "#2a3f5f",
             "gridcolor": "white",
             "linecolor": "white",
             "minorgridcolor": "white",
             "startlinecolor": "#2a3f5f"
            },
            "baxis": {
             "endlinecolor": "#2a3f5f",
             "gridcolor": "white",
             "linecolor": "white",
             "minorgridcolor": "white",
             "startlinecolor": "#2a3f5f"
            },
            "type": "carpet"
           }
          ],
          "choropleth": [
           {
            "colorbar": {
             "outlinewidth": 0,
             "ticks": ""
            },
            "type": "choropleth"
           }
          ],
          "contour": [
           {
            "colorbar": {
             "outlinewidth": 0,
             "ticks": ""
            },
            "colorscale": [
             [
              0,
              "#0d0887"
             ],
             [
              0.1111111111111111,
              "#46039f"
             ],
             [
              0.2222222222222222,
              "#7201a8"
             ],
             [
              0.3333333333333333,
              "#9c179e"
             ],
             [
              0.4444444444444444,
              "#bd3786"
             ],
             [
              0.5555555555555556,
              "#d8576b"
             ],
             [
              0.6666666666666666,
              "#ed7953"
             ],
             [
              0.7777777777777778,
              "#fb9f3a"
             ],
             [
              0.8888888888888888,
              "#fdca26"
             ],
             [
              1,
              "#f0f921"
             ]
            ],
            "type": "contour"
           }
          ],
          "contourcarpet": [
           {
            "colorbar": {
             "outlinewidth": 0,
             "ticks": ""
            },
            "type": "contourcarpet"
           }
          ],
          "heatmap": [
           {
            "colorbar": {
             "outlinewidth": 0,
             "ticks": ""
            },
            "colorscale": [
             [
              0,
              "#0d0887"
             ],
             [
              0.1111111111111111,
              "#46039f"
             ],
             [
              0.2222222222222222,
              "#7201a8"
             ],
             [
              0.3333333333333333,
              "#9c179e"
             ],
             [
              0.4444444444444444,
              "#bd3786"
             ],
             [
              0.5555555555555556,
              "#d8576b"
             ],
             [
              0.6666666666666666,
              "#ed7953"
             ],
             [
              0.7777777777777778,
              "#fb9f3a"
             ],
             [
              0.8888888888888888,
              "#fdca26"
             ],
             [
              1,
              "#f0f921"
             ]
            ],
            "type": "heatmap"
           }
          ],
          "heatmapgl": [
           {
            "colorbar": {
             "outlinewidth": 0,
             "ticks": ""
            },
            "colorscale": [
             [
              0,
              "#0d0887"
             ],
             [
              0.1111111111111111,
              "#46039f"
             ],
             [
              0.2222222222222222,
              "#7201a8"
             ],
             [
              0.3333333333333333,
              "#9c179e"
             ],
             [
              0.4444444444444444,
              "#bd3786"
             ],
             [
              0.5555555555555556,
              "#d8576b"
             ],
             [
              0.6666666666666666,
              "#ed7953"
             ],
             [
              0.7777777777777778,
              "#fb9f3a"
             ],
             [
              0.8888888888888888,
              "#fdca26"
             ],
             [
              1,
              "#f0f921"
             ]
            ],
            "type": "heatmapgl"
           }
          ],
          "histogram": [
           {
            "marker": {
             "pattern": {
              "fillmode": "overlay",
              "size": 10,
              "solidity": 0.2
             }
            },
            "type": "histogram"
           }
          ],
          "histogram2d": [
           {
            "colorbar": {
             "outlinewidth": 0,
             "ticks": ""
            },
            "colorscale": [
             [
              0,
              "#0d0887"
             ],
             [
              0.1111111111111111,
              "#46039f"
             ],
             [
              0.2222222222222222,
              "#7201a8"
             ],
             [
              0.3333333333333333,
              "#9c179e"
             ],
             [
              0.4444444444444444,
              "#bd3786"
             ],
             [
              0.5555555555555556,
              "#d8576b"
             ],
             [
              0.6666666666666666,
              "#ed7953"
             ],
             [
              0.7777777777777778,
              "#fb9f3a"
             ],
             [
              0.8888888888888888,
              "#fdca26"
             ],
             [
              1,
              "#f0f921"
             ]
            ],
            "type": "histogram2d"
           }
          ],
          "histogram2dcontour": [
           {
            "colorbar": {
             "outlinewidth": 0,
             "ticks": ""
            },
            "colorscale": [
             [
              0,
              "#0d0887"
             ],
             [
              0.1111111111111111,
              "#46039f"
             ],
             [
              0.2222222222222222,
              "#7201a8"
             ],
             [
              0.3333333333333333,
              "#9c179e"
             ],
             [
              0.4444444444444444,
              "#bd3786"
             ],
             [
              0.5555555555555556,
              "#d8576b"
             ],
             [
              0.6666666666666666,
              "#ed7953"
             ],
             [
              0.7777777777777778,
              "#fb9f3a"
             ],
             [
              0.8888888888888888,
              "#fdca26"
             ],
             [
              1,
              "#f0f921"
             ]
            ],
            "type": "histogram2dcontour"
           }
          ],
          "mesh3d": [
           {
            "colorbar": {
             "outlinewidth": 0,
             "ticks": ""
            },
            "type": "mesh3d"
           }
          ],
          "parcoords": [
           {
            "line": {
             "colorbar": {
              "outlinewidth": 0,
              "ticks": ""
             }
            },
            "type": "parcoords"
           }
          ],
          "pie": [
           {
            "automargin": true,
            "type": "pie"
           }
          ],
          "scatter": [
           {
            "fillpattern": {
             "fillmode": "overlay",
             "size": 10,
             "solidity": 0.2
            },
            "type": "scatter"
           }
          ],
          "scatter3d": [
           {
            "line": {
             "colorbar": {
              "outlinewidth": 0,
              "ticks": ""
             }
            },
            "marker": {
             "colorbar": {
              "outlinewidth": 0,
              "ticks": ""
             }
            },
            "type": "scatter3d"
           }
          ],
          "scattercarpet": [
           {
            "marker": {
             "colorbar": {
              "outlinewidth": 0,
              "ticks": ""
             }
            },
            "type": "scattercarpet"
           }
          ],
          "scattergeo": [
           {
            "marker": {
             "colorbar": {
              "outlinewidth": 0,
              "ticks": ""
             }
            },
            "type": "scattergeo"
           }
          ],
          "scattergl": [
           {
            "marker": {
             "colorbar": {
              "outlinewidth": 0,
              "ticks": ""
             }
            },
            "type": "scattergl"
           }
          ],
          "scattermapbox": [
           {
            "marker": {
             "colorbar": {
              "outlinewidth": 0,
              "ticks": ""
             }
            },
            "type": "scattermapbox"
           }
          ],
          "scatterpolar": [
           {
            "marker": {
             "colorbar": {
              "outlinewidth": 0,
              "ticks": ""
             }
            },
            "type": "scatterpolar"
           }
          ],
          "scatterpolargl": [
           {
            "marker": {
             "colorbar": {
              "outlinewidth": 0,
              "ticks": ""
             }
            },
            "type": "scatterpolargl"
           }
          ],
          "scatterternary": [
           {
            "marker": {
             "colorbar": {
              "outlinewidth": 0,
              "ticks": ""
             }
            },
            "type": "scatterternary"
           }
          ],
          "surface": [
           {
            "colorbar": {
             "outlinewidth": 0,
             "ticks": ""
            },
            "colorscale": [
             [
              0,
              "#0d0887"
             ],
             [
              0.1111111111111111,
              "#46039f"
             ],
             [
              0.2222222222222222,
              "#7201a8"
             ],
             [
              0.3333333333333333,
              "#9c179e"
             ],
             [
              0.4444444444444444,
              "#bd3786"
             ],
             [
              0.5555555555555556,
              "#d8576b"
             ],
             [
              0.6666666666666666,
              "#ed7953"
             ],
             [
              0.7777777777777778,
              "#fb9f3a"
             ],
             [
              0.8888888888888888,
              "#fdca26"
             ],
             [
              1,
              "#f0f921"
             ]
            ],
            "type": "surface"
           }
          ],
          "table": [
           {
            "cells": {
             "fill": {
              "color": "#EBF0F8"
             },
             "line": {
              "color": "white"
             }
            },
            "header": {
             "fill": {
              "color": "#C8D4E3"
             },
             "line": {
              "color": "white"
             }
            },
            "type": "table"
           }
          ]
         },
         "layout": {
          "annotationdefaults": {
           "arrowcolor": "#2a3f5f",
           "arrowhead": 0,
           "arrowwidth": 1
          },
          "autotypenumbers": "strict",
          "coloraxis": {
           "colorbar": {
            "outlinewidth": 0,
            "ticks": ""
           }
          },
          "colorscale": {
           "diverging": [
            [
             0,
             "#8e0152"
            ],
            [
             0.1,
             "#c51b7d"
            ],
            [
             0.2,
             "#de77ae"
            ],
            [
             0.3,
             "#f1b6da"
            ],
            [
             0.4,
             "#fde0ef"
            ],
            [
             0.5,
             "#f7f7f7"
            ],
            [
             0.6,
             "#e6f5d0"
            ],
            [
             0.7,
             "#b8e186"
            ],
            [
             0.8,
             "#7fbc41"
            ],
            [
             0.9,
             "#4d9221"
            ],
            [
             1,
             "#276419"
            ]
           ],
           "sequential": [
            [
             0,
             "#0d0887"
            ],
            [
             0.1111111111111111,
             "#46039f"
            ],
            [
             0.2222222222222222,
             "#7201a8"
            ],
            [
             0.3333333333333333,
             "#9c179e"
            ],
            [
             0.4444444444444444,
             "#bd3786"
            ],
            [
             0.5555555555555556,
             "#d8576b"
            ],
            [
             0.6666666666666666,
             "#ed7953"
            ],
            [
             0.7777777777777778,
             "#fb9f3a"
            ],
            [
             0.8888888888888888,
             "#fdca26"
            ],
            [
             1,
             "#f0f921"
            ]
           ],
           "sequentialminus": [
            [
             0,
             "#0d0887"
            ],
            [
             0.1111111111111111,
             "#46039f"
            ],
            [
             0.2222222222222222,
             "#7201a8"
            ],
            [
             0.3333333333333333,
             "#9c179e"
            ],
            [
             0.4444444444444444,
             "#bd3786"
            ],
            [
             0.5555555555555556,
             "#d8576b"
            ],
            [
             0.6666666666666666,
             "#ed7953"
            ],
            [
             0.7777777777777778,
             "#fb9f3a"
            ],
            [
             0.8888888888888888,
             "#fdca26"
            ],
            [
             1,
             "#f0f921"
            ]
           ]
          },
          "colorway": [
           "#636efa",
           "#EF553B",
           "#00cc96",
           "#ab63fa",
           "#FFA15A",
           "#19d3f3",
           "#FF6692",
           "#B6E880",
           "#FF97FF",
           "#FECB52"
          ],
          "font": {
           "color": "#2a3f5f"
          },
          "geo": {
           "bgcolor": "white",
           "lakecolor": "white",
           "landcolor": "#E5ECF6",
           "showlakes": true,
           "showland": true,
           "subunitcolor": "white"
          },
          "hoverlabel": {
           "align": "left"
          },
          "hovermode": "closest",
          "mapbox": {
           "style": "light"
          },
          "paper_bgcolor": "white",
          "plot_bgcolor": "#E5ECF6",
          "polar": {
           "angularaxis": {
            "gridcolor": "white",
            "linecolor": "white",
            "ticks": ""
           },
           "bgcolor": "#E5ECF6",
           "radialaxis": {
            "gridcolor": "white",
            "linecolor": "white",
            "ticks": ""
           }
          },
          "scene": {
           "xaxis": {
            "backgroundcolor": "#E5ECF6",
            "gridcolor": "white",
            "gridwidth": 2,
            "linecolor": "white",
            "showbackground": true,
            "ticks": "",
            "zerolinecolor": "white"
           },
           "yaxis": {
            "backgroundcolor": "#E5ECF6",
            "gridcolor": "white",
            "gridwidth": 2,
            "linecolor": "white",
            "showbackground": true,
            "ticks": "",
            "zerolinecolor": "white"
           },
           "zaxis": {
            "backgroundcolor": "#E5ECF6",
            "gridcolor": "white",
            "gridwidth": 2,
            "linecolor": "white",
            "showbackground": true,
            "ticks": "",
            "zerolinecolor": "white"
           }
          },
          "shapedefaults": {
           "line": {
            "color": "#2a3f5f"
           }
          },
          "ternary": {
           "aaxis": {
            "gridcolor": "white",
            "linecolor": "white",
            "ticks": ""
           },
           "baxis": {
            "gridcolor": "white",
            "linecolor": "white",
            "ticks": ""
           },
           "bgcolor": "#E5ECF6",
           "caxis": {
            "gridcolor": "white",
            "linecolor": "white",
            "ticks": ""
           }
          },
          "title": {
           "x": 0.05
          },
          "xaxis": {
           "automargin": true,
           "gridcolor": "white",
           "linecolor": "white",
           "ticks": "",
           "title": {
            "standoff": 15
           },
           "zerolinecolor": "white",
           "zerolinewidth": 2
          },
          "yaxis": {
           "automargin": true,
           "gridcolor": "white",
           "linecolor": "white",
           "ticks": "",
           "title": {
            "standoff": 15
           },
           "zerolinecolor": "white",
           "zerolinewidth": 2
          }
         }
        },
        "title": {
         "text": "PROBABILIDADES CONDICIONALES POR TURNO DADO QUE SON DEFECTUOSOS"
        }
       }
      }
     },
     "metadata": {},
     "output_type": "display_data"
    }
   ],
   "source": [
    "data = {\n",
    "    'Turno': ['T1', 'T2', 'T3'],\n",
    "    'Probabilidad': [round(Prob_T1_dado_D, 4), round(Prob_T2_dado_D, 4), round(Prob_T3_dado_D, 4)]\n",
    "}\n",
    "\n",
    "df = pd.DataFrame(data)\n",
    "\n",
    "colores_personalizados = ['#FF9999', '#66B2FF', '#99FF99']\n",
    "\n",
    "\n",
    "fig = px.pie(df, names='Turno', values='Probabilidad',\n",
    "             title='PROBABILIDADES CONDICIONALES POR TURNO DADO QUE SON DEFECTUOSOS',\n",
    "             color_discrete_sequence=colores_personalizados)\n",
    "\n",
    "\n",
    "fig.show()"
   ]
  }
 ],
 "metadata": {
  "kernelspec": {
   "display_name": "Python 3",
   "language": "python",
   "name": "python3"
  },
  "language_info": {
   "codemirror_mode": {
    "name": "ipython",
    "version": 3
   },
   "file_extension": ".py",
   "mimetype": "text/x-python",
   "name": "python",
   "nbconvert_exporter": "python",
   "pygments_lexer": "ipython3",
   "version": "3.11.5"
  }
 },
 "nbformat": 4,
 "nbformat_minor": 2
}
